{
 "cells": [
  {
   "cell_type": "markdown",
   "metadata": {},
   "source": [
    "# 1. Importing data and libraries <a class=\"anchor\" id=\"1\"></a>"
   ]
  },
  {
   "cell_type": "code",
   "execution_count": 27,
   "metadata": {},
   "outputs": [],
   "source": [
    "# Import packages\n",
    "import pandas as pd\n",
    "import numpy as np\n",
    "import datetime as dt\n",
    "from mlxtend.frequent_patterns import apriori\n",
    "from mlxtend.frequent_patterns import association_rules\n",
    "import matplotlib.pyplot as plt\n",
    "import networkx as nx\n",
    "import seaborn as sns\n",
    "import plotly.express as px\n",
    "from os import path\n",
    "from wordcloud import WordCloud"
   ]
  },
  {
   "cell_type": "code",
   "execution_count": 2,
   "metadata": {},
   "outputs": [],
   "source": [
    "# Import dataset\n",
    "df_orderproduct = pd.read_csv('datasets/order_products.csv')\n",
    "df_products = pd.read_csv('datasets/products.csv')\n",
    "df_orders = pd.read_csv('datasets/orders.csv')\n",
    "df_department = pd.read_csv('datasets/departments.csv')"
   ]
  },
  {
   "cell_type": "markdown",
   "metadata": {},
   "source": [
    "# 2. Exploratory Data Analysis <a class=\"anchor\" id=\"2\"></a>"
   ]
  },
  {
   "cell_type": "markdown",
   "metadata": {},
   "source": [
    "## Orders information"
   ]
  },
  {
   "cell_type": "code",
   "execution_count": 3,
   "metadata": {},
   "outputs": [
    {
     "data": {
      "text/html": [
       "<div>\n",
       "<style scoped>\n",
       "    .dataframe tbody tr th:only-of-type {\n",
       "        vertical-align: middle;\n",
       "    }\n",
       "\n",
       "    .dataframe tbody tr th {\n",
       "        vertical-align: top;\n",
       "    }\n",
       "\n",
       "    .dataframe thead th {\n",
       "        text-align: right;\n",
       "    }\n",
       "</style>\n",
       "<table border=\"1\" class=\"dataframe\">\n",
       "  <thead>\n",
       "    <tr style=\"text-align: right;\">\n",
       "      <th></th>\n",
       "      <th>order_id</th>\n",
       "      <th>user_id</th>\n",
       "      <th>order_number</th>\n",
       "      <th>order_dow</th>\n",
       "      <th>order_hour_of_day</th>\n",
       "      <th>days_since_prior_order</th>\n",
       "    </tr>\n",
       "  </thead>\n",
       "  <tbody>\n",
       "    <tr>\n",
       "      <th>0</th>\n",
       "      <td>2425083</td>\n",
       "      <td>49125</td>\n",
       "      <td>1</td>\n",
       "      <td>2</td>\n",
       "      <td>18</td>\n",
       "      <td>NaN</td>\n",
       "    </tr>\n",
       "    <tr>\n",
       "      <th>1</th>\n",
       "      <td>1944304</td>\n",
       "      <td>162867</td>\n",
       "      <td>1</td>\n",
       "      <td>3</td>\n",
       "      <td>17</td>\n",
       "      <td>NaN</td>\n",
       "    </tr>\n",
       "    <tr>\n",
       "      <th>2</th>\n",
       "      <td>1201011</td>\n",
       "      <td>147243</td>\n",
       "      <td>14</td>\n",
       "      <td>0</td>\n",
       "      <td>16</td>\n",
       "      <td>3.0</td>\n",
       "    </tr>\n",
       "    <tr>\n",
       "      <th>3</th>\n",
       "      <td>1906860</td>\n",
       "      <td>195275</td>\n",
       "      <td>81</td>\n",
       "      <td>1</td>\n",
       "      <td>11</td>\n",
       "      <td>3.0</td>\n",
       "    </tr>\n",
       "    <tr>\n",
       "      <th>4</th>\n",
       "      <td>2766469</td>\n",
       "      <td>58222</td>\n",
       "      <td>3</td>\n",
       "      <td>6</td>\n",
       "      <td>11</td>\n",
       "      <td>6.0</td>\n",
       "    </tr>\n",
       "  </tbody>\n",
       "</table>\n",
       "</div>"
      ],
      "text/plain": [
       "   order_id  user_id  order_number  order_dow  order_hour_of_day  \\\n",
       "0   2425083    49125             1          2                 18   \n",
       "1   1944304   162867             1          3                 17   \n",
       "2   1201011   147243            14          0                 16   \n",
       "3   1906860   195275            81          1                 11   \n",
       "4   2766469    58222             3          6                 11   \n",
       "\n",
       "   days_since_prior_order  \n",
       "0                     NaN  \n",
       "1                     NaN  \n",
       "2                     3.0  \n",
       "3                     3.0  \n",
       "4                     6.0  "
      ]
     },
     "execution_count": 3,
     "metadata": {},
     "output_type": "execute_result"
    }
   ],
   "source": [
    "df_orders.head()"
   ]
  },
  {
   "cell_type": "markdown",
   "metadata": {},
   "source": [
    "### Frequency of Reorders in a Week"
   ]
  },
  {
   "cell_type": "markdown",
   "metadata": {},
   "source": [
    "Explore the change of order numbers from Monday to Sunday."
   ]
  },
  {
   "cell_type": "code",
   "execution_count": 4,
   "metadata": {},
   "outputs": [
    {
     "data": {
      "image/png": "[encoded data removed]",
      "text/plain": [
       "<Figure size 576x432 with 1 Axes>"
      ]
     },
     "metadata": {
      "needs_background": "light"
     },
     "output_type": "display_data"
    }
   ],
   "source": [
    "plot_df = df_orders['order_dow'].value_counts().sort_index()\n",
    "plot_df.index=['Sat', 'Sun', 'Mon', 'Tue', 'Wed', 'Thur', 'Fri']\n",
    "# show figure:\n",
    "plt.figure(figsize=(8, 6))\n",
    "sns.barplot(y = plot_df.values, x = plot_df.index, palette=\"PuBu_r\")\n",
    "plt.xticks(rotation=0)\n",
    "plt.title('Order Frequency by day of week', fontsize=16)\n",
    "plt.show()"
   ]
  },
  {
   "cell_type": "markdown",
   "metadata": {},
   "source": [
    "### Frequency of Reorders in Hour of Day"
   ]
  },
  {
   "cell_type": "markdown",
   "metadata": {},
   "source": [
    "Explore how order number changes in the hour of day."
   ]
  },
  {
   "cell_type": "code",
   "execution_count": 5,
   "metadata": {},
   "outputs": [
    {
     "data": {
      "image/png": "[encoded data removed]",
      "text/plain": [
       "<Figure size 576x432 with 1 Axes>"
      ]
     },
     "metadata": {
      "needs_background": "light"
     },
     "output_type": "display_data"
    }
   ],
   "source": [
    "plot_df = df_orders['order_hour_of_day'].value_counts().sort_index()\n",
    "# show figure:\n",
    "plt.figure(figsize=(8, 6))\n",
    "sns.barplot(y = plot_df.values, x = plot_df.index, palette=\"PuBu\")\n",
    "plt.xticks(rotation=0)\n",
    "plt.title('Order Frequency by hour of day', fontsize=16)\n",
    "plt.xlabel('Hour')\n",
    "plt.show()\n",
    "#fig.set_dpi(200)"
   ]
  },
  {
   "cell_type": "markdown",
   "metadata": {},
   "source": [
    "### Frequency of Reorder Interval"
   ]
  },
  {
   "cell_type": "code",
   "execution_count": 6,
   "metadata": {},
   "outputs": [
    {
     "data": {
      "image/png": "[encoded data removed]",
      "text/plain": [
       "<Figure size 864x432 with 1 Axes>"
      ]
     },
     "metadata": {
      "needs_background": "light"
     },
     "output_type": "display_data"
    }
   ],
   "source": [
    "plot_df = df_orders.groupby('days_since_prior_order')['order_id'].agg('count')\n",
    "color_pl = sns.color_palette(palette=\"PuBu_r\", n_colors=len(plot_df.index))\n",
    "highlight  = [7,14,21,28,30] \n",
    "for i in highlight:\n",
    "    color_pl[i] = 'red'\n",
    "# show figure:\n",
    "plt.figure(figsize=(12, 6))\n",
    "sns.barplot(y = plot_df.values, x = list(range(len(plot_df.index))), palette=color_pl)\n",
    "plt.xticks(rotation=0)\n",
    "plt.title('Reorder Frequency with weekly and monthly highlighted', fontsize=16)\n",
    "plt.xticks(range(len(plot_df.index)), rotation=0,fontsize=9)\n",
    "plt.xlabel('Days since last order')\n",
    "plt.show()\n",
    "#fig.set_dpi(200)"
   ]
  },
  {
   "cell_type": "markdown",
   "metadata": {},
   "source": [
    "###  Average Reorder Interval"
   ]
  },
  {
   "cell_type": "markdown",
   "metadata": {},
   "source": [
    "How often do customers put a new order?"
   ]
  },
  {
   "cell_type": "code",
   "execution_count": 7,
   "metadata": {},
   "outputs": [
    {
     "data": {
      "text/plain": [
       "<Figure size 864x432 with 0 Axes>"
      ]
     },
     "metadata": {},
     "output_type": "display_data"
    },
    {
     "data": {
      "image/png": "[encoded data removed]",
      "text/plain": [
       "<Figure size 762.375x360 with 1 Axes>"
      ]
     },
     "metadata": {
      "needs_background": "light"
     },
     "output_type": "display_data"
    }
   ],
   "source": [
    "plot_df = df_orders[['user_id','days_since_prior_order']].groupby('user_id').aggregate(np.nanmean)\n",
    "# show figure:\n",
    "plt.figure(figsize=(12, 6))\n",
    "sns.displot(plot_df.values, binwidth=1,aspect=2)\n",
    "plt.xticks(rotation=0)\n",
    "plt.title('Users order frequency', fontsize=16)\n",
    "plt.xlabel('Days since last order')\n",
    "plt.show()"
   ]
  },
  {
   "cell_type": "markdown",
   "metadata": {},
   "source": [
    "## Popular Items in Shopping Cart History"
   ]
  },
  {
   "cell_type": "markdown",
   "metadata": {},
   "source": [
    "In this part, let's see what are the most popular items on customers' order lists.\n",
    "\n",
    "First take a look at each dataset, and then merge them into one dataframe with all the following included:\n",
    "* user_id\n",
    "* order_id\n",
    "* product_id\n",
    "* product_name"
   ]
  },
  {
   "cell_type": "code",
   "execution_count": 8,
   "metadata": {},
   "outputs": [],
   "source": [
    "# orders in prior/train merged with product names\n",
    "df = pd.merge(df_orderproduct,df_products, how='left', on='product_id')\n",
    "# Prior orders with user_id, product_id, product_name\n",
    "df = pd.merge(df,df_orders, how='left', on='order_id')"
   ]
  },
  {
   "cell_type": "code",
   "execution_count": 9,
   "metadata": {},
   "outputs": [
    {
     "data": {
      "text/html": [
       "<div>\n",
       "<style scoped>\n",
       "    .dataframe tbody tr th:only-of-type {\n",
       "        vertical-align: middle;\n",
       "    }\n",
       "\n",
       "    .dataframe tbody tr th {\n",
       "        vertical-align: top;\n",
       "    }\n",
       "\n",
       "    .dataframe thead th {\n",
       "        text-align: right;\n",
       "    }\n",
       "</style>\n",
       "<table border=\"1\" class=\"dataframe\">\n",
       "  <thead>\n",
       "    <tr style=\"text-align: right;\">\n",
       "      <th></th>\n",
       "      <th>order_id</th>\n",
       "      <th>product_id</th>\n",
       "      <th>add_to_cart_order</th>\n",
       "      <th>reordered</th>\n",
       "      <th>department_id</th>\n",
       "      <th>product_name</th>\n",
       "      <th>user_id</th>\n",
       "      <th>order_number</th>\n",
       "      <th>order_dow</th>\n",
       "      <th>order_hour_of_day</th>\n",
       "      <th>days_since_prior_order</th>\n",
       "    </tr>\n",
       "  </thead>\n",
       "  <tbody>\n",
       "    <tr>\n",
       "      <th>0</th>\n",
       "      <td>10</td>\n",
       "      <td>24</td>\n",
       "      <td>1</td>\n",
       "      <td>1</td>\n",
       "      <td>4</td>\n",
       "      <td>fresh fruits</td>\n",
       "      <td>135442</td>\n",
       "      <td>4</td>\n",
       "      <td>6</td>\n",
       "      <td>8</td>\n",
       "      <td>8.0</td>\n",
       "    </tr>\n",
       "    <tr>\n",
       "      <th>1</th>\n",
       "      <td>10</td>\n",
       "      <td>83</td>\n",
       "      <td>2</td>\n",
       "      <td>1</td>\n",
       "      <td>4</td>\n",
       "      <td>fresh vegetables</td>\n",
       "      <td>135442</td>\n",
       "      <td>4</td>\n",
       "      <td>6</td>\n",
       "      <td>8</td>\n",
       "      <td>8.0</td>\n",
       "    </tr>\n",
       "    <tr>\n",
       "      <th>2</th>\n",
       "      <td>10</td>\n",
       "      <td>16</td>\n",
       "      <td>3</td>\n",
       "      <td>0</td>\n",
       "      <td>4</td>\n",
       "      <td>fresh herbs</td>\n",
       "      <td>135442</td>\n",
       "      <td>4</td>\n",
       "      <td>6</td>\n",
       "      <td>8</td>\n",
       "      <td>8.0</td>\n",
       "    </tr>\n",
       "    <tr>\n",
       "      <th>3</th>\n",
       "      <td>10</td>\n",
       "      <td>24</td>\n",
       "      <td>4</td>\n",
       "      <td>1</td>\n",
       "      <td>4</td>\n",
       "      <td>fresh fruits</td>\n",
       "      <td>135442</td>\n",
       "      <td>4</td>\n",
       "      <td>6</td>\n",
       "      <td>8</td>\n",
       "      <td>8.0</td>\n",
       "    </tr>\n",
       "    <tr>\n",
       "      <th>4</th>\n",
       "      <td>10</td>\n",
       "      <td>83</td>\n",
       "      <td>5</td>\n",
       "      <td>1</td>\n",
       "      <td>4</td>\n",
       "      <td>fresh vegetables</td>\n",
       "      <td>135442</td>\n",
       "      <td>4</td>\n",
       "      <td>6</td>\n",
       "      <td>8</td>\n",
       "      <td>8.0</td>\n",
       "    </tr>\n",
       "  </tbody>\n",
       "</table>\n",
       "</div>"
      ],
      "text/plain": [
       "   order_id  product_id  add_to_cart_order  reordered  department_id  \\\n",
       "0        10          24                  1          1              4   \n",
       "1        10          83                  2          1              4   \n",
       "2        10          16                  3          0              4   \n",
       "3        10          24                  4          1              4   \n",
       "4        10          83                  5          1              4   \n",
       "\n",
       "       product_name  user_id  order_number  order_dow  order_hour_of_day  \\\n",
       "0      fresh fruits   135442             4          6                  8   \n",
       "1  fresh vegetables   135442             4          6                  8   \n",
       "2       fresh herbs   135442             4          6                  8   \n",
       "3      fresh fruits   135442             4          6                  8   \n",
       "4  fresh vegetables   135442             4          6                  8   \n",
       "\n",
       "   days_since_prior_order  \n",
       "0                     8.0  \n",
       "1                     8.0  \n",
       "2                     8.0  \n",
       "3                     8.0  \n",
       "4                     8.0  "
      ]
     },
     "execution_count": 9,
     "metadata": {},
     "output_type": "execute_result"
    }
   ],
   "source": [
    "df.head()"
   ]
  },
  {
   "cell_type": "code",
   "execution_count": 10,
   "metadata": {},
   "outputs": [
    {
     "data": {
      "image/png": "[encoded data removed]",
      "text/plain": [
       "<Figure size 576x432 with 1 Axes>"
      ]
     },
     "metadata": {
      "needs_background": "light"
     },
     "output_type": "display_data"
    }
   ],
   "source": [
    "plot_df = df['product_name'].value_counts()[:20]\n",
    "# show figure:\n",
    "plt.figure(figsize=(8, 6))\n",
    "sns.barplot(y = plot_df.values, x = plot_df.index, palette=\"PuBu_r\")\n",
    "plt.xticks(rotation=90)\n",
    "plt.title('Top 20 Popular Products', fontsize=16)\n",
    "plt.show()\n",
    "#fig.set_dpi(200)"
   ]
  },
  {
   "cell_type": "code",
   "execution_count": 11,
   "metadata": {},
   "outputs": [],
   "source": [
    "products_tuple_list = [tuple(x) for x in df['product_name'].value_counts().reset_index().values]\n",
    "dic = {}\n",
    "for pair in products_tuple_list:\n",
    "    key = pair[0]\n",
    "    value = pair[1]\n",
    "    if key in dic:\n",
    "        reservedValue = dic[key]\n",
    "        reservedValue += value \n",
    "    else:\n",
    "        dic[key] = value"
   ]
  },
  {
   "cell_type": "code",
   "execution_count": 12,
   "metadata": {
    "scrolled": false
   },
   "outputs": [
    {
     "data": {
      "image/png": "[encoded data removed]",
      "text/plain": [
       "<Figure size 576x432 with 1 Axes>"
      ]
     },
     "metadata": {
      "needs_background": "light"
     },
     "output_type": "display_data"
    }
   ],
   "source": [
    "fig = plt.figure(figsize=(8, 6))\n",
    "wordcloudData = WordCloud(width=4096,height=2048,\n",
    "                          relative_scaling=1,\n",
    "                          max_words = 100,\n",
    "                          max_font_size=500).generate_from_frequencies(frequencies = dic)\n",
    "plt.imshow(wordcloudData, interpolation='lanczos')\n",
    "plt.axis(\"off\")\n",
    "plt.show()"
   ]
  },
  {
   "cell_type": "markdown",
   "metadata": {},
   "source": [
    "# 3. Recommendatio system"
   ]
  },
  {
   "cell_type": "code",
   "execution_count": 63,
   "metadata": {},
   "outputs": [
    {
     "data": {
      "text/html": [
       "<div>\n",
       "<style scoped>\n",
       "    .dataframe tbody tr th:only-of-type {\n",
       "        vertical-align: middle;\n",
       "    }\n",
       "\n",
       "    .dataframe tbody tr th {\n",
       "        vertical-align: top;\n",
       "    }\n",
       "\n",
       "    .dataframe thead th {\n",
       "        text-align: right;\n",
       "    }\n",
       "</style>\n",
       "<table border=\"1\" class=\"dataframe\">\n",
       "  <thead>\n",
       "    <tr style=\"text-align: right;\">\n",
       "      <th></th>\n",
       "      <th>order_id</th>\n",
       "      <th>product_id</th>\n",
       "      <th>add_to_cart_order</th>\n",
       "      <th>reordered</th>\n",
       "    </tr>\n",
       "  </thead>\n",
       "  <tbody>\n",
       "    <tr>\n",
       "      <th>0</th>\n",
       "      <td>10</td>\n",
       "      <td>24</td>\n",
       "      <td>1</td>\n",
       "      <td>1</td>\n",
       "    </tr>\n",
       "    <tr>\n",
       "      <th>1</th>\n",
       "      <td>10</td>\n",
       "      <td>83</td>\n",
       "      <td>2</td>\n",
       "      <td>1</td>\n",
       "    </tr>\n",
       "    <tr>\n",
       "      <th>2</th>\n",
       "      <td>10</td>\n",
       "      <td>16</td>\n",
       "      <td>3</td>\n",
       "      <td>0</td>\n",
       "    </tr>\n",
       "    <tr>\n",
       "      <th>3</th>\n",
       "      <td>10</td>\n",
       "      <td>24</td>\n",
       "      <td>4</td>\n",
       "      <td>1</td>\n",
       "    </tr>\n",
       "    <tr>\n",
       "      <th>4</th>\n",
       "      <td>10</td>\n",
       "      <td>83</td>\n",
       "      <td>5</td>\n",
       "      <td>1</td>\n",
       "    </tr>\n",
       "  </tbody>\n",
       "</table>\n",
       "</div>"
      ],
      "text/plain": [
       "   order_id  product_id  add_to_cart_order  reordered\n",
       "0        10          24                  1          1\n",
       "1        10          83                  2          1\n",
       "2        10          16                  3          0\n",
       "3        10          24                  4          1\n",
       "4        10          83                  5          1"
      ]
     },
     "execution_count": 63,
     "metadata": {},
     "output_type": "execute_result"
    }
   ],
   "source": [
    "df_orderproduct.head()"
   ]
  },
  {
   "cell_type": "code",
   "execution_count": 64,
   "metadata": {},
   "outputs": [
    {
     "data": {
      "text/html": [
       "<div>\n",
       "<style scoped>\n",
       "    .dataframe tbody tr th:only-of-type {\n",
       "        vertical-align: middle;\n",
       "    }\n",
       "\n",
       "    .dataframe tbody tr th {\n",
       "        vertical-align: top;\n",
       "    }\n",
       "\n",
       "    .dataframe thead th {\n",
       "        text-align: right;\n",
       "    }\n",
       "</style>\n",
       "<table border=\"1\" class=\"dataframe\">\n",
       "  <thead>\n",
       "    <tr style=\"text-align: right;\">\n",
       "      <th></th>\n",
       "      <th>product_id</th>\n",
       "      <th>department_id</th>\n",
       "      <th>product_name</th>\n",
       "    </tr>\n",
       "  </thead>\n",
       "  <tbody>\n",
       "    <tr>\n",
       "      <th>0</th>\n",
       "      <td>61</td>\n",
       "      <td>19</td>\n",
       "      <td>cookies cakes</td>\n",
       "    </tr>\n",
       "    <tr>\n",
       "      <th>1</th>\n",
       "      <td>104</td>\n",
       "      <td>13</td>\n",
       "      <td>spices seasonings</td>\n",
       "    </tr>\n",
       "    <tr>\n",
       "      <th>2</th>\n",
       "      <td>94</td>\n",
       "      <td>7</td>\n",
       "      <td>tea</td>\n",
       "    </tr>\n",
       "    <tr>\n",
       "      <th>3</th>\n",
       "      <td>38</td>\n",
       "      <td>1</td>\n",
       "      <td>frozen meals</td>\n",
       "    </tr>\n",
       "    <tr>\n",
       "      <th>4</th>\n",
       "      <td>5</td>\n",
       "      <td>13</td>\n",
       "      <td>marinades meat preparation</td>\n",
       "    </tr>\n",
       "  </tbody>\n",
       "</table>\n",
       "</div>"
      ],
      "text/plain": [
       "   product_id  department_id                product_name\n",
       "0          61             19               cookies cakes\n",
       "1         104             13           spices seasonings\n",
       "2          94              7                         tea\n",
       "3          38              1                frozen meals\n",
       "4           5             13  marinades meat preparation"
      ]
     },
     "execution_count": 64,
     "metadata": {},
     "output_type": "execute_result"
    }
   ],
   "source": [
    "# Import product label mapping\n",
    "df_products.head()"
   ]
  },
  {
   "cell_type": "code",
   "execution_count": 65,
   "metadata": {},
   "outputs": [
    {
     "data": {
      "text/html": [
       "<div>\n",
       "<style scoped>\n",
       "    .dataframe tbody tr th:only-of-type {\n",
       "        vertical-align: middle;\n",
       "    }\n",
       "\n",
       "    .dataframe tbody tr th {\n",
       "        vertical-align: top;\n",
       "    }\n",
       "\n",
       "    .dataframe thead th {\n",
       "        text-align: right;\n",
       "    }\n",
       "</style>\n",
       "<table border=\"1\" class=\"dataframe\">\n",
       "  <thead>\n",
       "    <tr style=\"text-align: right;\">\n",
       "      <th></th>\n",
       "      <th>order_id</th>\n",
       "      <th>product_name</th>\n",
       "    </tr>\n",
       "  </thead>\n",
       "  <tbody>\n",
       "    <tr>\n",
       "      <th>0</th>\n",
       "      <td>10</td>\n",
       "      <td>fresh fruits</td>\n",
       "    </tr>\n",
       "    <tr>\n",
       "      <th>1</th>\n",
       "      <td>10</td>\n",
       "      <td>fresh vegetables</td>\n",
       "    </tr>\n",
       "    <tr>\n",
       "      <th>2</th>\n",
       "      <td>10</td>\n",
       "      <td>fresh herbs</td>\n",
       "    </tr>\n",
       "    <tr>\n",
       "      <th>3</th>\n",
       "      <td>10</td>\n",
       "      <td>fresh fruits</td>\n",
       "    </tr>\n",
       "    <tr>\n",
       "      <th>4</th>\n",
       "      <td>10</td>\n",
       "      <td>fresh vegetables</td>\n",
       "    </tr>\n",
       "  </tbody>\n",
       "</table>\n",
       "</div>"
      ],
      "text/plain": [
       "   order_id      product_name\n",
       "0        10      fresh fruits\n",
       "1        10  fresh vegetables\n",
       "2        10       fresh herbs\n",
       "3        10      fresh fruits\n",
       "4        10  fresh vegetables"
      ]
     },
     "execution_count": 65,
     "metadata": {},
     "output_type": "execute_result"
    }
   ],
   "source": [
    "# Merge product labels\n",
    "df = pd.merge(df_orderproduct, df_products, how='left', on='product_id').\\\n",
    "    drop([\"product_id\", \"department_id\",\"add_to_cart_order\",\"reordered\"], axis=1)\n",
    "df.head()"
   ]
  },
  {
   "cell_type": "code",
   "execution_count": 68,
   "metadata": {},
   "outputs": [],
   "source": [
    "df_prod_dept = pd.merge(df_products,df_department, left_on=\"department_id\", right_on=\"department_id\")\\\n",
    "            .drop(columns=['product_id','department_id'])"
   ]
  },
  {
   "cell_type": "code",
   "execution_count": 69,
   "metadata": {},
   "outputs": [
    {
     "data": {
      "text/html": [
       "<div>\n",
       "<style scoped>\n",
       "    .dataframe tbody tr th:only-of-type {\n",
       "        vertical-align: middle;\n",
       "    }\n",
       "\n",
       "    .dataframe tbody tr th {\n",
       "        vertical-align: top;\n",
       "    }\n",
       "\n",
       "    .dataframe thead th {\n",
       "        text-align: right;\n",
       "    }\n",
       "</style>\n",
       "<table border=\"1\" class=\"dataframe\">\n",
       "  <thead>\n",
       "    <tr style=\"text-align: right;\">\n",
       "      <th>product_name</th>\n",
       "      <th>air fresheners candles</th>\n",
       "      <th>asian foods</th>\n",
       "      <th>baby accessories</th>\n",
       "      <th>baby bath body care</th>\n",
       "      <th>baby food formula</th>\n",
       "      <th>bakery desserts</th>\n",
       "      <th>baking ingredients</th>\n",
       "      <th>baking supplies decor</th>\n",
       "      <th>beauty</th>\n",
       "      <th>beers coolers</th>\n",
       "      <th>...</th>\n",
       "      <th>spreads</th>\n",
       "      <th>tea</th>\n",
       "      <th>tofu meat alternatives</th>\n",
       "      <th>tortillas flat bread</th>\n",
       "      <th>trail mix snack mix</th>\n",
       "      <th>trash bags liners</th>\n",
       "      <th>vitamins supplements</th>\n",
       "      <th>water seltzer sparkling water</th>\n",
       "      <th>white wines</th>\n",
       "      <th>yogurt</th>\n",
       "    </tr>\n",
       "    <tr>\n",
       "      <th>order_id</th>\n",
       "      <th></th>\n",
       "      <th></th>\n",
       "      <th></th>\n",
       "      <th></th>\n",
       "      <th></th>\n",
       "      <th></th>\n",
       "      <th></th>\n",
       "      <th></th>\n",
       "      <th></th>\n",
       "      <th></th>\n",
       "      <th></th>\n",
       "      <th></th>\n",
       "      <th></th>\n",
       "      <th></th>\n",
       "      <th></th>\n",
       "      <th></th>\n",
       "      <th></th>\n",
       "      <th></th>\n",
       "      <th></th>\n",
       "      <th></th>\n",
       "      <th></th>\n",
       "    </tr>\n",
       "  </thead>\n",
       "  <tbody>\n",
       "    <tr>\n",
       "      <th>10</th>\n",
       "      <td>0.0</td>\n",
       "      <td>0.0</td>\n",
       "      <td>0.0</td>\n",
       "      <td>0.0</td>\n",
       "      <td>1.0</td>\n",
       "      <td>0.0</td>\n",
       "      <td>0.0</td>\n",
       "      <td>0.0</td>\n",
       "      <td>0.0</td>\n",
       "      <td>0.0</td>\n",
       "      <td>...</td>\n",
       "      <td>0.0</td>\n",
       "      <td>0.0</td>\n",
       "      <td>0.0</td>\n",
       "      <td>0.0</td>\n",
       "      <td>0.0</td>\n",
       "      <td>0.0</td>\n",
       "      <td>0.0</td>\n",
       "      <td>0.0</td>\n",
       "      <td>0.0</td>\n",
       "      <td>0.0</td>\n",
       "    </tr>\n",
       "    <tr>\n",
       "      <th>11</th>\n",
       "      <td>0.0</td>\n",
       "      <td>0.0</td>\n",
       "      <td>0.0</td>\n",
       "      <td>0.0</td>\n",
       "      <td>0.0</td>\n",
       "      <td>0.0</td>\n",
       "      <td>0.0</td>\n",
       "      <td>0.0</td>\n",
       "      <td>0.0</td>\n",
       "      <td>0.0</td>\n",
       "      <td>...</td>\n",
       "      <td>0.0</td>\n",
       "      <td>0.0</td>\n",
       "      <td>0.0</td>\n",
       "      <td>0.0</td>\n",
       "      <td>0.0</td>\n",
       "      <td>0.0</td>\n",
       "      <td>0.0</td>\n",
       "      <td>0.0</td>\n",
       "      <td>0.0</td>\n",
       "      <td>0.0</td>\n",
       "    </tr>\n",
       "    <tr>\n",
       "      <th>28</th>\n",
       "      <td>0.0</td>\n",
       "      <td>0.0</td>\n",
       "      <td>0.0</td>\n",
       "      <td>0.0</td>\n",
       "      <td>0.0</td>\n",
       "      <td>0.0</td>\n",
       "      <td>0.0</td>\n",
       "      <td>0.0</td>\n",
       "      <td>0.0</td>\n",
       "      <td>0.0</td>\n",
       "      <td>...</td>\n",
       "      <td>1.0</td>\n",
       "      <td>0.0</td>\n",
       "      <td>0.0</td>\n",
       "      <td>0.0</td>\n",
       "      <td>0.0</td>\n",
       "      <td>0.0</td>\n",
       "      <td>0.0</td>\n",
       "      <td>0.0</td>\n",
       "      <td>0.0</td>\n",
       "      <td>1.0</td>\n",
       "    </tr>\n",
       "    <tr>\n",
       "      <th>38</th>\n",
       "      <td>0.0</td>\n",
       "      <td>0.0</td>\n",
       "      <td>0.0</td>\n",
       "      <td>0.0</td>\n",
       "      <td>0.0</td>\n",
       "      <td>0.0</td>\n",
       "      <td>0.0</td>\n",
       "      <td>0.0</td>\n",
       "      <td>0.0</td>\n",
       "      <td>0.0</td>\n",
       "      <td>...</td>\n",
       "      <td>0.0</td>\n",
       "      <td>0.0</td>\n",
       "      <td>0.0</td>\n",
       "      <td>0.0</td>\n",
       "      <td>0.0</td>\n",
       "      <td>0.0</td>\n",
       "      <td>0.0</td>\n",
       "      <td>0.0</td>\n",
       "      <td>0.0</td>\n",
       "      <td>0.0</td>\n",
       "    </tr>\n",
       "    <tr>\n",
       "      <th>56</th>\n",
       "      <td>0.0</td>\n",
       "      <td>0.0</td>\n",
       "      <td>0.0</td>\n",
       "      <td>0.0</td>\n",
       "      <td>0.0</td>\n",
       "      <td>0.0</td>\n",
       "      <td>0.0</td>\n",
       "      <td>0.0</td>\n",
       "      <td>0.0</td>\n",
       "      <td>0.0</td>\n",
       "      <td>...</td>\n",
       "      <td>0.0</td>\n",
       "      <td>0.0</td>\n",
       "      <td>0.0</td>\n",
       "      <td>0.0</td>\n",
       "      <td>0.0</td>\n",
       "      <td>0.0</td>\n",
       "      <td>0.0</td>\n",
       "      <td>0.0</td>\n",
       "      <td>0.0</td>\n",
       "      <td>0.0</td>\n",
       "    </tr>\n",
       "  </tbody>\n",
       "</table>\n",
       "<p>5 rows × 134 columns</p>\n",
       "</div>"
      ],
      "text/plain": [
       "product_name  air fresheners candles  asian foods  baby accessories  \\\n",
       "order_id                                                              \n",
       "10                               0.0          0.0               0.0   \n",
       "11                               0.0          0.0               0.0   \n",
       "28                               0.0          0.0               0.0   \n",
       "38                               0.0          0.0               0.0   \n",
       "56                               0.0          0.0               0.0   \n",
       "\n",
       "product_name  baby bath body care  baby food formula  bakery desserts  \\\n",
       "order_id                                                                \n",
       "10                            0.0                1.0              0.0   \n",
       "11                            0.0                0.0              0.0   \n",
       "28                            0.0                0.0              0.0   \n",
       "38                            0.0                0.0              0.0   \n",
       "56                            0.0                0.0              0.0   \n",
       "\n",
       "product_name  baking ingredients  baking supplies decor  beauty  \\\n",
       "order_id                                                          \n",
       "10                           0.0                    0.0     0.0   \n",
       "11                           0.0                    0.0     0.0   \n",
       "28                           0.0                    0.0     0.0   \n",
       "38                           0.0                    0.0     0.0   \n",
       "56                           0.0                    0.0     0.0   \n",
       "\n",
       "product_name  beers coolers  ...  spreads  tea  tofu meat alternatives  \\\n",
       "order_id                     ...                                         \n",
       "10                      0.0  ...      0.0  0.0                     0.0   \n",
       "11                      0.0  ...      0.0  0.0                     0.0   \n",
       "28                      0.0  ...      1.0  0.0                     0.0   \n",
       "38                      0.0  ...      0.0  0.0                     0.0   \n",
       "56                      0.0  ...      0.0  0.0                     0.0   \n",
       "\n",
       "product_name  tortillas flat bread  trail mix snack mix  trash bags liners  \\\n",
       "order_id                                                                     \n",
       "10                             0.0                  0.0                0.0   \n",
       "11                             0.0                  0.0                0.0   \n",
       "28                             0.0                  0.0                0.0   \n",
       "38                             0.0                  0.0                0.0   \n",
       "56                             0.0                  0.0                0.0   \n",
       "\n",
       "product_name  vitamins supplements  water seltzer sparkling water  \\\n",
       "order_id                                                            \n",
       "10                             0.0                            0.0   \n",
       "11                             0.0                            0.0   \n",
       "28                             0.0                            0.0   \n",
       "38                             0.0                            0.0   \n",
       "56                             0.0                            0.0   \n",
       "\n",
       "product_name  white wines  yogurt  \n",
       "order_id                           \n",
       "10                    0.0     0.0  \n",
       "11                    0.0     0.0  \n",
       "28                    0.0     1.0  \n",
       "38                    0.0     0.0  \n",
       "56                    0.0     0.0  \n",
       "\n",
       "[5 rows x 134 columns]"
      ]
     },
     "execution_count": 69,
     "metadata": {},
     "output_type": "execute_result"
    }
   ],
   "source": [
    "# Pivot the data - lines as orders and products as columns\n",
    "pt = pd.pivot_table(df, index='order_id', columns='product_name', \n",
    "                    aggfunc=lambda x: 1 if len(x)>0 else 0).fillna(0)\n",
    "pt.head()"
   ]
  },
  {
   "cell_type": "code",
   "execution_count": 70,
   "metadata": {},
   "outputs": [
    {
     "data": {
      "text/html": [
       "<div>\n",
       "<style scoped>\n",
       "    .dataframe tbody tr th:only-of-type {\n",
       "        vertical-align: middle;\n",
       "    }\n",
       "\n",
       "    .dataframe tbody tr th {\n",
       "        vertical-align: top;\n",
       "    }\n",
       "\n",
       "    .dataframe thead th {\n",
       "        text-align: right;\n",
       "    }\n",
       "</style>\n",
       "<table border=\"1\" class=\"dataframe\">\n",
       "  <thead>\n",
       "    <tr style=\"text-align: right;\">\n",
       "      <th></th>\n",
       "      <th>support</th>\n",
       "      <th>itemsets</th>\n",
       "    </tr>\n",
       "  </thead>\n",
       "  <tbody>\n",
       "    <tr>\n",
       "      <th>0</th>\n",
       "      <td>0.076635</td>\n",
       "      <td>(baking ingredients)</td>\n",
       "    </tr>\n",
       "    <tr>\n",
       "      <th>1</th>\n",
       "      <td>0.163865</td>\n",
       "      <td>(bread)</td>\n",
       "    </tr>\n",
       "    <tr>\n",
       "      <th>2</th>\n",
       "      <td>0.067765</td>\n",
       "      <td>(breakfast bakery)</td>\n",
       "    </tr>\n",
       "    <tr>\n",
       "      <th>3</th>\n",
       "      <td>0.074330</td>\n",
       "      <td>(butter)</td>\n",
       "    </tr>\n",
       "    <tr>\n",
       "      <th>4</th>\n",
       "      <td>0.069305</td>\n",
       "      <td>(candy chocolate)</td>\n",
       "    </tr>\n",
       "  </tbody>\n",
       "</table>\n",
       "</div>"
      ],
      "text/plain": [
       "    support              itemsets\n",
       "0  0.076635  (baking ingredients)\n",
       "1  0.163865               (bread)\n",
       "2  0.067765    (breakfast bakery)\n",
       "3  0.074330              (butter)\n",
       "4  0.069305     (candy chocolate)"
      ]
     },
     "execution_count": 70,
     "metadata": {},
     "output_type": "execute_result"
    }
   ],
   "source": [
    "# Apply the APRIORI algorithm to get frequent itemsets\n",
    "# Rules supported in at least 5% of the transactions (more info at http://rasbt.github.io/mlxtend/user_guide/frequent_patterns/apriori/)\n",
    "frequent_itemsets = apriori(pt, min_support=0.05, use_colnames=True)\n",
    "frequent_itemsets.head()"
   ]
  },
  {
   "cell_type": "markdown",
   "metadata": {},
   "source": [
    "## Complementary & Substitutions"
   ]
  },
  {
   "cell_type": "code",
   "execution_count": 71,
   "metadata": {},
   "outputs": [
    {
     "data": {
      "text/html": [
       "<div>\n",
       "<style scoped>\n",
       "    .dataframe tbody tr th:only-of-type {\n",
       "        vertical-align: middle;\n",
       "    }\n",
       "\n",
       "    .dataframe tbody tr th {\n",
       "        vertical-align: top;\n",
       "    }\n",
       "\n",
       "    .dataframe thead th {\n",
       "        text-align: right;\n",
       "    }\n",
       "</style>\n",
       "<table border=\"1\" class=\"dataframe\">\n",
       "  <thead>\n",
       "    <tr style=\"text-align: right;\">\n",
       "      <th></th>\n",
       "      <th>antecedents</th>\n",
       "      <th>consequents</th>\n",
       "      <th>antecedent support</th>\n",
       "      <th>consequent support</th>\n",
       "      <th>support</th>\n",
       "      <th>confidence</th>\n",
       "      <th>lift</th>\n",
       "      <th>leverage</th>\n",
       "      <th>conviction</th>\n",
       "    </tr>\n",
       "  </thead>\n",
       "  <tbody>\n",
       "    <tr>\n",
       "      <th>133</th>\n",
       "      <td>(fresh herbs, fresh fruits)</td>\n",
       "      <td>(fresh vegetables)</td>\n",
       "      <td>0.070135</td>\n",
       "      <td>0.444360</td>\n",
       "      <td>0.061815</td>\n",
       "      <td>0.881372</td>\n",
       "      <td>1.983463</td>\n",
       "      <td>0.030650</td>\n",
       "      <td>4.683872</td>\n",
       "    </tr>\n",
       "    <tr>\n",
       "      <th>269</th>\n",
       "      <td>(packaged vegetables fruits, yogurt, fresh veg...</td>\n",
       "      <td>(fresh fruits)</td>\n",
       "      <td>0.087995</td>\n",
       "      <td>0.555995</td>\n",
       "      <td>0.076240</td>\n",
       "      <td>0.866413</td>\n",
       "      <td>1.558311</td>\n",
       "      <td>0.027315</td>\n",
       "      <td>3.323711</td>\n",
       "    </tr>\n",
       "    <tr>\n",
       "      <th>248</th>\n",
       "      <td>(packaged vegetables fruits, milk, fresh veget...</td>\n",
       "      <td>(fresh fruits)</td>\n",
       "      <td>0.073075</td>\n",
       "      <td>0.555995</td>\n",
       "      <td>0.062535</td>\n",
       "      <td>0.855765</td>\n",
       "      <td>1.539159</td>\n",
       "      <td>0.021906</td>\n",
       "      <td>3.078336</td>\n",
       "    </tr>\n",
       "    <tr>\n",
       "      <th>58</th>\n",
       "      <td>(fresh herbs)</td>\n",
       "      <td>(fresh vegetables)</td>\n",
       "      <td>0.093005</td>\n",
       "      <td>0.444360</td>\n",
       "      <td>0.078655</td>\n",
       "      <td>0.845707</td>\n",
       "      <td>1.903203</td>\n",
       "      <td>0.037327</td>\n",
       "      <td>3.601205</td>\n",
       "    </tr>\n",
       "    <tr>\n",
       "      <th>258</th>\n",
       "      <td>(packaged vegetables fruits, packaged cheese, ...</td>\n",
       "      <td>(fresh fruits)</td>\n",
       "      <td>0.081970</td>\n",
       "      <td>0.555995</td>\n",
       "      <td>0.068325</td>\n",
       "      <td>0.833537</td>\n",
       "      <td>1.499180</td>\n",
       "      <td>0.022750</td>\n",
       "      <td>2.667284</td>\n",
       "    </tr>\n",
       "  </tbody>\n",
       "</table>\n",
       "</div>"
      ],
      "text/plain": [
       "                                           antecedents         consequents  \\\n",
       "133                        (fresh herbs, fresh fruits)  (fresh vegetables)   \n",
       "269  (packaged vegetables fruits, yogurt, fresh veg...      (fresh fruits)   \n",
       "248  (packaged vegetables fruits, milk, fresh veget...      (fresh fruits)   \n",
       "58                                       (fresh herbs)  (fresh vegetables)   \n",
       "258  (packaged vegetables fruits, packaged cheese, ...      (fresh fruits)   \n",
       "\n",
       "     antecedent support  consequent support   support  confidence      lift  \\\n",
       "133            0.070135            0.444360  0.061815    0.881372  1.983463   \n",
       "269            0.087995            0.555995  0.076240    0.866413  1.558311   \n",
       "248            0.073075            0.555995  0.062535    0.855765  1.539159   \n",
       "58             0.093005            0.444360  0.078655    0.845707  1.903203   \n",
       "258            0.081970            0.555995  0.068325    0.833537  1.499180   \n",
       "\n",
       "     leverage  conviction  \n",
       "133  0.030650    4.683872  \n",
       "269  0.027315    3.323711  \n",
       "248  0.021906    3.078336  \n",
       "58   0.037327    3.601205  \n",
       "258  0.022750    2.667284  "
      ]
     },
     "execution_count": 71,
     "metadata": {},
     "output_type": "execute_result"
    }
   ],
   "source": [
    "# Generate the association rules - by confidence\n",
    "rulesConfidence = association_rules(frequent_itemsets, metric=\"confidence\", min_threshold=0.20)\n",
    "rulesConfidence.sort_values(by='confidence', ascending=False, inplace=True)\n",
    "rulesConfidence.head()"
   ]
  },
  {
   "cell_type": "code",
   "execution_count": 72,
   "metadata": {
    "scrolled": false
   },
   "outputs": [
    {
     "data": {
      "application/vnd.plotly.v1+json": {
       "config": {
        "plotlyServerURL": "https://plot.ly"
       },
       "data": [
        {
         "branchvalues": "total",
         "domain": {
          "x": [
           0,
           1
          ],
          "y": [
           0,
           1
          ]
         },
         "hovertemplate": "labels=%{label}<br>quantity=%{value}<br>parent=%{parent}<br>id=%{id}<extra></extra>",
         "ids": [
          "household/air fresheners candles",
          "international/asian foods",
          "babies/baby accessories",
          "babies/baby bath body care",
          "babies/baby food formula",
          "bakery/bakery desserts",
          "pantry/baking ingredients",
          "pantry/baking supplies decor",
          "personal care/beauty",
          "alcohol/beers coolers",
          "personal care/body lotions soap",
          "bakery/bread",
          "bakery/breakfast bakery",
          "breakfast/breakfast bars pastries",
          "bulk/bulk dried fruits vegetables",
          "bulk/bulk grains rice dried goods",
          "bakery/buns rolls",
          "dairy eggs/butter",
          "snacks/candy chocolate",
          "canned goods/canned fruit applesauce",
          "canned goods/canned jarred vegetables",
          "canned goods/canned meals beans",
          "canned goods/canned meat seafood",
          "pets/cat food care",
          "breakfast/cereal",
          "snacks/chips pretzels",
          "household/cleaning products",
          "beverages/cocoa drink mixes",
          "beverages/coffee",
          "personal care/cold flu allergy",
          "pantry/condiments",
          "snacks/cookies cakes",
          "snacks/crackers",
          "dairy eggs/cream",
          "personal care/deodorants",
          "babies/diapers wipes",
          "personal care/digestion",
          "household/dish detergents",
          "pets/dog food care",
          "pantry/doughs gelatins bake mixes",
          "dry goods pasta/dry pasta",
          "dairy eggs/eggs",
          "snacks/energy granola bars",
          "beverages/energy sports drinks",
          "personal care/eye ear care",
          "personal care/facial care",
          "personal care/feminine care",
          "personal care/first aid",
          "household/food storage",
          "deli/fresh dips tapenades",
          "produce/fresh fruits",
          "produce/fresh herbs",
          "dry goods pasta/fresh pasta",
          "produce/fresh vegetables",
          "frozen/frozen appetizers sides",
          "frozen/frozen breads doughs",
          "frozen/frozen breakfast",
          "frozen/frozen dessert",
          "frozen/frozen juice",
          "frozen/frozen meals",
          "frozen/frozen meat seafood",
          "frozen/frozen pizza",
          "frozen/frozen produce",
          "frozen/frozen vegan vegetarian",
          "snacks/fruit vegetable snacks",
          "dry goods pasta/grains rice dried goods",
          "breakfast/granola",
          "personal care/hair care",
          "pantry/honeys syrups nectars",
          "breakfast/hot cereal pancake mixes",
          "meat seafood/hot dogs bacon sausage",
          "frozen/ice cream ice",
          "snacks/ice cream toppings",
          "international/indian foods",
          "dry goods pasta/instant foods",
          "beverages/juice nectars",
          "household/kitchen supplies",
          "international/kosher foods",
          "international/latino foods",
          "household/laundry",
          "deli/lunch meat",
          "pantry/marinades meat preparation",
          "meat seafood/meat counter",
          "dairy eggs/milk",
          "snacks/mint gum",
          "missing/missing",
          "household/more household",
          "personal care/muscles joints pain relief",
          "snacks/nuts seeds dried fruit",
          "pantry/oils vinegars",
          "personal care/oral hygiene",
          "other/other",
          "dairy eggs/other creams cheeses",
          "dairy eggs/packaged cheese",
          "meat seafood/packaged meat",
          "meat seafood/packaged poultry",
          "produce/packaged produce",
          "meat seafood/packaged seafood",
          "produce/packaged vegetables fruits",
          "household/paper goods",
          "dry goods pasta/pasta sauce",
          "pantry/pickled goods olives",
          "household/plates bowls cups flatware",
          "snacks/popcorn jerky",
          "meat seafood/poultry counter",
          "deli/prepared meals",
          "deli/prepared soups salads",
          "pantry/preserved dips spreads",
          "personal care/protein meal replacements",
          "alcohol/red wines",
          "beverages/refrigerated",
          "dairy eggs/refrigerated pudding desserts",
          "pantry/salad dressing toppings",
          "meat seafood/seafood counter",
          "personal care/shave needs",
          "personal care/skin care",
          "personal care/soap",
          "beverages/soft drinks",
          "canned goods/soup broth bouillon",
          "dairy eggs/soy lactosefree",
          "dairy eggs/specialty cheeses",
          "alcohol/specialty wines champagnes",
          "pantry/spices seasonings",
          "alcohol/spirits",
          "pantry/spreads",
          "beverages/tea",
          "deli/tofu meat alternatives",
          "bakery/tortillas flat bread",
          "snacks/trail mix snack mix",
          "household/trash bags liners",
          "personal care/vitamins supplements",
          "beverages/water seltzer sparkling water",
          "alcohol/white wines",
          "dairy eggs/yogurt",
          "alcohol",
          "babies",
          "bakery",
          "beverages",
          "breakfast",
          "bulk",
          "canned goods",
          "dairy eggs",
          "deli",
          "dry goods pasta",
          "frozen",
          "household",
          "international",
          "meat seafood",
          "missing",
          "other",
          "pantry",
          "personal care",
          "pets",
          "produce",
          "snacks"
         ],
         "labels": [
          "air fresheners candles",
          "asian foods",
          "baby accessories",
          "baby bath body care",
          "baby food formula",
          "bakery desserts",
          "baking ingredients",
          "baking supplies decor",
          "beauty",
          "beers coolers",
          "body lotions soap",
          "bread",
          "breakfast bakery",
          "breakfast bars pastries",
          "bulk dried fruits vegetables",
          "bulk grains rice dried goods",
          "buns rolls",
          "butter",
          "candy chocolate",
          "canned fruit applesauce",
          "canned jarred vegetables",
          "canned meals beans",
          "canned meat seafood",
          "cat food care",
          "cereal",
          "chips pretzels",
          "cleaning products",
          "cocoa drink mixes",
          "coffee",
          "cold flu allergy",
          "condiments",
          "cookies cakes",
          "crackers",
          "cream",
          "deodorants",
          "diapers wipes",
          "digestion",
          "dish detergents",
          "dog food care",
          "doughs gelatins bake mixes",
          "dry pasta",
          "eggs",
          "energy granola bars",
          "energy sports drinks",
          "eye ear care",
          "facial care",
          "feminine care",
          "first aid",
          "food storage",
          "fresh dips tapenades",
          "fresh fruits",
          "fresh herbs",
          "fresh pasta",
          "fresh vegetables",
          "frozen appetizers sides",
          "frozen breads doughs",
          "frozen breakfast",
          "frozen dessert",
          "frozen juice",
          "frozen meals",
          "frozen meat seafood",
          "frozen pizza",
          "frozen produce",
          "frozen vegan vegetarian",
          "fruit vegetable snacks",
          "grains rice dried goods",
          "granola",
          "hair care",
          "honeys syrups nectars",
          "hot cereal pancake mixes",
          "hot dogs bacon sausage",
          "ice cream ice",
          "ice cream toppings",
          "indian foods",
          "instant foods",
          "juice nectars",
          "kitchen supplies",
          "kosher foods",
          "latino foods",
          "laundry",
          "lunch meat",
          "marinades meat preparation",
          "meat counter",
          "milk",
          "mint gum",
          "missing",
          "more household",
          "muscles joints pain relief",
          "nuts seeds dried fruit",
          "oils vinegars",
          "oral hygiene",
          "other",
          "other creams cheeses",
          "packaged cheese",
          "packaged meat",
          "packaged poultry",
          "packaged produce",
          "packaged seafood",
          "packaged vegetables fruits",
          "paper goods",
          "pasta sauce",
          "pickled goods olives",
          "plates bowls cups flatware",
          "popcorn jerky",
          "poultry counter",
          "prepared meals",
          "prepared soups salads",
          "preserved dips spreads",
          "protein meal replacements",
          "red wines",
          "refrigerated",
          "refrigerated pudding desserts",
          "salad dressing toppings",
          "seafood counter",
          "shave needs",
          "skin care",
          "soap",
          "soft drinks",
          "soup broth bouillon",
          "soy lactosefree",
          "specialty cheeses",
          "specialty wines champagnes",
          "spices seasonings",
          "spirits",
          "spreads",
          "tea",
          "tofu meat alternatives",
          "tortillas flat bread",
          "trail mix snack mix",
          "trash bags liners",
          "vitamins supplements",
          "water seltzer sparkling water",
          "white wines",
          "yogurt",
          "alcohol",
          "babies",
          "bakery",
          "beverages",
          "breakfast",
          "bulk",
          "canned goods",
          "dairy eggs",
          "deli",
          "dry goods pasta",
          "frozen",
          "household",
          "international",
          "meat seafood",
          "missing",
          "other",
          "pantry",
          "personal care",
          "pets",
          "produce",
          "snacks"
         ],
         "name": "",
         "parents": [
          "household",
          "international",
          "babies",
          "babies",
          "babies",
          "bakery",
          "pantry",
          "pantry",
          "personal care",
          "alcohol",
          "personal care",
          "bakery",
          "bakery",
          "breakfast",
          "bulk",
          "bulk",
          "bakery",
          "dairy eggs",
          "snacks",
          "canned goods",
          "canned goods",
          "canned goods",
          "canned goods",
          "pets",
          "breakfast",
          "snacks",
          "household",
          "beverages",
          "beverages",
          "personal care",
          "pantry",
          "snacks",
          "snacks",
          "dairy eggs",
          "personal care",
          "babies",
          "personal care",
          "household",
          "pets",
          "pantry",
          "dry goods pasta",
          "dairy eggs",
          "snacks",
          "beverages",
          "personal care",
          "personal care",
          "personal care",
          "personal care",
          "household",
          "deli",
          "produce",
          "produce",
          "dry goods pasta",
          "produce",
          "frozen",
          "frozen",
          "frozen",
          "frozen",
          "frozen",
          "frozen",
          "frozen",
          "frozen",
          "frozen",
          "frozen",
          "snacks",
          "dry goods pasta",
          "breakfast",
          "personal care",
          "pantry",
          "breakfast",
          "meat seafood",
          "frozen",
          "snacks",
          "international",
          "dry goods pasta",
          "beverages",
          "household",
          "international",
          "international",
          "household",
          "deli",
          "pantry",
          "meat seafood",
          "dairy eggs",
          "snacks",
          "missing",
          "household",
          "personal care",
          "snacks",
          "pantry",
          "personal care",
          "other",
          "dairy eggs",
          "dairy eggs",
          "meat seafood",
          "meat seafood",
          "produce",
          "meat seafood",
          "produce",
          "household",
          "dry goods pasta",
          "pantry",
          "household",
          "snacks",
          "meat seafood",
          "deli",
          "deli",
          "pantry",
          "personal care",
          "alcohol",
          "beverages",
          "dairy eggs",
          "pantry",
          "meat seafood",
          "personal care",
          "personal care",
          "personal care",
          "beverages",
          "canned goods",
          "dairy eggs",
          "dairy eggs",
          "alcohol",
          "pantry",
          "alcohol",
          "pantry",
          "beverages",
          "deli",
          "bakery",
          "snacks",
          "household",
          "personal care",
          "beverages",
          "alcohol",
          "dairy eggs",
          "",
          "",
          "",
          "",
          "",
          "",
          "",
          "",
          "",
          "",
          "",
          "",
          "",
          "",
          "",
          "",
          "",
          "",
          "",
          "",
          ""
         ],
         "type": "treemap",
         "values": [
          1258,
          10426,
          504,
          515,
          23355,
          2214,
          20137,
          1451,
          387,
          3002,
          2507,
          36381,
          15357,
          4621,
          1059,
          1074,
          6949,
          15735,
          18735,
          5458,
          18025,
          16818,
          4212,
          3835,
          23754,
          45306,
          7429,
          1332,
          12823,
          1589,
          13760,
          14745,
          28574,
          19786,
          924,
          1566,
          1727,
          5867,
          2178,
          6693,
          16414,
          27986,
          28639,
          6638,
          598,
          843,
          1296,
          693,
          4144,
          22175,
          226039,
          23342,
          2340,
          212611,
          12178,
          2486,
          14346,
          1190,
          279,
          24449,
          4408,
          10124,
          32432,
          6321,
          10931,
          8878,
          6410,
          1909,
          4156,
          9820,
          19037,
          31323,
          706,
          963,
          12651,
          20715,
          561,
          697,
          4652,
          5904,
          24470,
          3836,
          4472,
          55150,
          1377,
          4749,
          1170,
          1256,
          19026,
          15213,
          4018,
          2240,
          19091,
          61502,
          2020,
          7467,
          17408,
          1301,
          109596,
          15422,
          13771,
          6925,
          2671,
          10415,
          8131,
          6144,
          4384,
          6866,
          2257,
          2135,
          35893,
          2423,
          6009,
          1843,
          646,
          654,
          3918,
          22428,
          21540,
          39389,
          5102,
          614,
          13067,
          1795,
          18149,
          15733,
          8003,
          12082,
          2238,
          2020,
          2912,
          52564,
          1893,
          90751,
          9439,
          25940,
          72983,
          168126,
          44605,
          2133,
          66053,
          336915,
          65176,
          54054,
          139536,
          46446,
          16738,
          44271,
          4749,
          2240,
          116262,
          28134,
          6013,
          588996,
          180692
         ]
        }
       ],
       "layout": {
        "height": 700,
        "legend": {
         "tracegroupgap": 0
        },
        "margin": {
         "t": 60
        },
        "template": {
         "data": {
          "bar": [
           {
            "error_x": {
             "color": "#2a3f5f"
            },
            "error_y": {
             "color": "#2a3f5f"
            },
            "marker": {
             "line": {
              "color": "#E5ECF6",
              "width": 0.5
             }
            },
            "type": "bar"
           }
          ],
          "barpolar": [
           {
            "marker": {
             "line": {
              "color": "#E5ECF6",
              "width": 0.5
             }
            },
            "type": "barpolar"
           }
          ],
          "carpet": [
           {
            "aaxis": {
             "endlinecolor": "#2a3f5f",
             "gridcolor": "white",
             "linecolor": "white",
             "minorgridcolor": "white",
             "startlinecolor": "#2a3f5f"
            },
            "baxis": {
             "endlinecolor": "#2a3f5f",
             "gridcolor": "white",
             "linecolor": "white",
             "minorgridcolor": "white",
             "startlinecolor": "#2a3f5f"
            },
            "type": "carpet"
           }
          ],
          "choropleth": [
           {
            "colorbar": {
             "outlinewidth": 0,
             "ticks": ""
            },
            "type": "choropleth"
           }
          ],
          "contour": [
           {
            "colorbar": {
             "outlinewidth": 0,
             "ticks": ""
            },
            "colorscale": [
             [
              0,
              "#0d0887"
             ],
             [
              0.1111111111111111,
              "#46039f"
             ],
             [
              0.2222222222222222,
              "#7201a8"
             ],
             [
              0.3333333333333333,
              "#9c179e"
             ],
             [
              0.4444444444444444,
              "#bd3786"
             ],
             [
              0.5555555555555556,
              "#d8576b"
             ],
             [
              0.6666666666666666,
              "#ed7953"
             ],
             [
              0.7777777777777778,
              "#fb9f3a"
             ],
             [
              0.8888888888888888,
              "#fdca26"
             ],
             [
              1,
              "#f0f921"
             ]
            ],
            "type": "contour"
           }
          ],
          "contourcarpet": [
           {
            "colorbar": {
             "outlinewidth": 0,
             "ticks": ""
            },
            "type": "contourcarpet"
           }
          ],
          "heatmap": [
           {
            "colorbar": {
             "outlinewidth": 0,
             "ticks": ""
            },
            "colorscale": [
             [
              0,
              "#0d0887"
             ],
             [
              0.1111111111111111,
              "#46039f"
             ],
             [
              0.2222222222222222,
              "#7201a8"
             ],
             [
              0.3333333333333333,
              "#9c179e"
             ],
             [
              0.4444444444444444,
              "#bd3786"
             ],
             [
              0.5555555555555556,
              "#d8576b"
             ],
             [
              0.6666666666666666,
              "#ed7953"
             ],
             [
              0.7777777777777778,
              "#fb9f3a"
             ],
             [
              0.8888888888888888,
              "#fdca26"
             ],
             [
              1,
              "#f0f921"
             ]
            ],
            "type": "heatmap"
           }
          ],
          "heatmapgl": [
           {
            "colorbar": {
             "outlinewidth": 0,
             "ticks": ""
            },
            "colorscale": [
             [
              0,
              "#0d0887"
             ],
             [
              0.1111111111111111,
              "#46039f"
             ],
             [
              0.2222222222222222,
              "#7201a8"
             ],
             [
              0.3333333333333333,
              "#9c179e"
             ],
             [
              0.4444444444444444,
              "#bd3786"
             ],
             [
              0.5555555555555556,
              "#d8576b"
             ],
             [
              0.6666666666666666,
              "#ed7953"
             ],
             [
              0.7777777777777778,
              "#fb9f3a"
             ],
             [
              0.8888888888888888,
              "#fdca26"
             ],
             [
              1,
              "#f0f921"
             ]
            ],
            "type": "heatmapgl"
           }
          ],
          "histogram": [
           {
            "marker": {
             "colorbar": {
              "outlinewidth": 0,
              "ticks": ""
             }
            },
            "type": "histogram"
           }
          ],
          "histogram2d": [
           {
            "colorbar": {
             "outlinewidth": 0,
             "ticks": ""
            },
            "colorscale": [
             [
              0,
              "#0d0887"
             ],
             [
              0.1111111111111111,
              "#46039f"
             ],
             [
              0.2222222222222222,
              "#7201a8"
             ],
             [
              0.3333333333333333,
              "#9c179e"
             ],
             [
              0.4444444444444444,
              "#bd3786"
             ],
             [
              0.5555555555555556,
              "#d8576b"
             ],
             [
              0.6666666666666666,
              "#ed7953"
             ],
             [
              0.7777777777777778,
              "#fb9f3a"
             ],
             [
              0.8888888888888888,
              "#fdca26"
             ],
             [
              1,
              "#f0f921"
             ]
            ],
            "type": "histogram2d"
           }
          ],
          "histogram2dcontour": [
           {
            "colorbar": {
             "outlinewidth": 0,
             "ticks": ""
            },
            "colorscale": [
             [
              0,
              "#0d0887"
             ],
             [
              0.1111111111111111,
              "#46039f"
             ],
             [
              0.2222222222222222,
              "#7201a8"
             ],
             [
              0.3333333333333333,
              "#9c179e"
             ],
             [
              0.4444444444444444,
              "#bd3786"
             ],
             [
              0.5555555555555556,
              "#d8576b"
             ],
             [
              0.6666666666666666,
              "#ed7953"
             ],
             [
              0.7777777777777778,
              "#fb9f3a"
             ],
             [
              0.8888888888888888,
              "#fdca26"
             ],
             [
              1,
              "#f0f921"
             ]
            ],
            "type": "histogram2dcontour"
           }
          ],
          "mesh3d": [
           {
            "colorbar": {
             "outlinewidth": 0,
             "ticks": ""
            },
            "type": "mesh3d"
           }
          ],
          "parcoords": [
           {
            "line": {
             "colorbar": {
              "outlinewidth": 0,
              "ticks": ""
             }
            },
            "type": "parcoords"
           }
          ],
          "pie": [
           {
            "automargin": true,
            "type": "pie"
           }
          ],
          "scatter": [
           {
            "marker": {
             "colorbar": {
              "outlinewidth": 0,
              "ticks": ""
             }
            },
            "type": "scatter"
           }
          ],
          "scatter3d": [
           {
            "line": {
             "colorbar": {
              "outlinewidth": 0,
              "ticks": ""
             }
            },
            "marker": {
             "colorbar": {
              "outlinewidth": 0,
              "ticks": ""
             }
            },
            "type": "scatter3d"
           }
          ],
          "scattercarpet": [
           {
            "marker": {
             "colorbar": {
              "outlinewidth": 0,
              "ticks": ""
             }
            },
            "type": "scattercarpet"
           }
          ],
          "scattergeo": [
           {
            "marker": {
             "colorbar": {
              "outlinewidth": 0,
              "ticks": ""
             }
            },
            "type": "scattergeo"
           }
          ],
          "scattergl": [
           {
            "marker": {
             "colorbar": {
              "outlinewidth": 0,
              "ticks": ""
             }
            },
            "type": "scattergl"
           }
          ],
          "scattermapbox": [
           {
            "marker": {
             "colorbar": {
              "outlinewidth": 0,
              "ticks": ""
             }
            },
            "type": "scattermapbox"
           }
          ],
          "scatterpolar": [
           {
            "marker": {
             "colorbar": {
              "outlinewidth": 0,
              "ticks": ""
             }
            },
            "type": "scatterpolar"
           }
          ],
          "scatterpolargl": [
           {
            "marker": {
             "colorbar": {
              "outlinewidth": 0,
              "ticks": ""
             }
            },
            "type": "scatterpolargl"
           }
          ],
          "scatterternary": [
           {
            "marker": {
             "colorbar": {
              "outlinewidth": 0,
              "ticks": ""
             }
            },
            "type": "scatterternary"
           }
          ],
          "surface": [
           {
            "colorbar": {
             "outlinewidth": 0,
             "ticks": ""
            },
            "colorscale": [
             [
              0,
              "#0d0887"
             ],
             [
              0.1111111111111111,
              "#46039f"
             ],
             [
              0.2222222222222222,
              "#7201a8"
             ],
             [
              0.3333333333333333,
              "#9c179e"
             ],
             [
              0.4444444444444444,
              "#bd3786"
             ],
             [
              0.5555555555555556,
              "#d8576b"
             ],
             [
              0.6666666666666666,
              "#ed7953"
             ],
             [
              0.7777777777777778,
              "#fb9f3a"
             ],
             [
              0.8888888888888888,
              "#fdca26"
             ],
             [
              1,
              "#f0f921"
             ]
            ],
            "type": "surface"
           }
          ],
          "table": [
           {
            "cells": {
             "fill": {
              "color": "#EBF0F8"
             },
             "line": {
              "color": "white"
             }
            },
            "header": {
             "fill": {
              "color": "#C8D4E3"
             },
             "line": {
              "color": "white"
             }
            },
            "type": "table"
           }
          ]
         },
         "layout": {
          "annotationdefaults": {
           "arrowcolor": "#2a3f5f",
           "arrowhead": 0,
           "arrowwidth": 1
          },
          "autotypenumbers": "strict",
          "coloraxis": {
           "colorbar": {
            "outlinewidth": 0,
            "ticks": ""
           }
          },
          "colorscale": {
           "diverging": [
            [
             0,
             "#8e0152"
            ],
            [
             0.1,
             "#c51b7d"
            ],
            [
             0.2,
             "#de77ae"
            ],
            [
             0.3,
             "#f1b6da"
            ],
            [
             0.4,
             "#fde0ef"
            ],
            [
             0.5,
             "#f7f7f7"
            ],
            [
             0.6,
             "#e6f5d0"
            ],
            [
             0.7,
             "#b8e186"
            ],
            [
             0.8,
             "#7fbc41"
            ],
            [
             0.9,
             "#4d9221"
            ],
            [
             1,
             "#276419"
            ]
           ],
           "sequential": [
            [
             0,
             "#0d0887"
            ],
            [
             0.1111111111111111,
             "#46039f"
            ],
            [
             0.2222222222222222,
             "#7201a8"
            ],
            [
             0.3333333333333333,
             "#9c179e"
            ],
            [
             0.4444444444444444,
             "#bd3786"
            ],
            [
             0.5555555555555556,
             "#d8576b"
            ],
            [
             0.6666666666666666,
             "#ed7953"
            ],
            [
             0.7777777777777778,
             "#fb9f3a"
            ],
            [
             0.8888888888888888,
             "#fdca26"
            ],
            [
             1,
             "#f0f921"
            ]
           ],
           "sequentialminus": [
            [
             0,
             "#0d0887"
            ],
            [
             0.1111111111111111,
             "#46039f"
            ],
            [
             0.2222222222222222,
             "#7201a8"
            ],
            [
             0.3333333333333333,
             "#9c179e"
            ],
            [
             0.4444444444444444,
             "#bd3786"
            ],
            [
             0.5555555555555556,
             "#d8576b"
            ],
            [
             0.6666666666666666,
             "#ed7953"
            ],
            [
             0.7777777777777778,
             "#fb9f3a"
            ],
            [
             0.8888888888888888,
             "#fdca26"
            ],
            [
             1,
             "#f0f921"
            ]
           ]
          },
          "colorway": [
           "#636efa",
           "#EF553B",
           "#00cc96",
           "#ab63fa",
           "#FFA15A",
           "#19d3f3",
           "#FF6692",
           "#B6E880",
           "#FF97FF",
           "#FECB52"
          ],
          "font": {
           "color": "#2a3f5f"
          },
          "geo": {
           "bgcolor": "white",
           "lakecolor": "white",
           "landcolor": "#E5ECF6",
           "showlakes": true,
           "showland": true,
           "subunitcolor": "white"
          },
          "hoverlabel": {
           "align": "left"
          },
          "hovermode": "closest",
          "mapbox": {
           "style": "light"
          },
          "paper_bgcolor": "white",
          "plot_bgcolor": "#E5ECF6",
          "polar": {
           "angularaxis": {
            "gridcolor": "white",
            "linecolor": "white",
            "ticks": ""
           },
           "bgcolor": "#E5ECF6",
           "radialaxis": {
            "gridcolor": "white",
            "linecolor": "white",
            "ticks": ""
           }
          },
          "scene": {
           "xaxis": {
            "backgroundcolor": "#E5ECF6",
            "gridcolor": "white",
            "gridwidth": 2,
            "linecolor": "white",
            "showbackground": true,
            "ticks": "",
            "zerolinecolor": "white"
           },
           "yaxis": {
            "backgroundcolor": "#E5ECF6",
            "gridcolor": "white",
            "gridwidth": 2,
            "linecolor": "white",
            "showbackground": true,
            "ticks": "",
            "zerolinecolor": "white"
           },
           "zaxis": {
            "backgroundcolor": "#E5ECF6",
            "gridcolor": "white",
            "gridwidth": 2,
            "linecolor": "white",
            "showbackground": true,
            "ticks": "",
            "zerolinecolor": "white"
           }
          },
          "shapedefaults": {
           "line": {
            "color": "#2a3f5f"
           }
          },
          "ternary": {
           "aaxis": {
            "gridcolor": "white",
            "linecolor": "white",
            "ticks": ""
           },
           "baxis": {
            "gridcolor": "white",
            "linecolor": "white",
            "ticks": ""
           },
           "bgcolor": "#E5ECF6",
           "caxis": {
            "gridcolor": "white",
            "linecolor": "white",
            "ticks": ""
           }
          },
          "title": {
           "x": 0.05
          },
          "xaxis": {
           "automargin": true,
           "gridcolor": "white",
           "linecolor": "white",
           "ticks": "",
           "title": {
            "standoff": 15
           },
           "zerolinecolor": "white",
           "zerolinewidth": 2
          },
          "yaxis": {
           "automargin": true,
           "gridcolor": "white",
           "linecolor": "white",
           "ticks": "",
           "title": {
            "standoff": 15
           },
           "zerolinecolor": "white",
           "zerolinewidth": 2
          }
         }
        },
        "width": 1000
       }
      },
      "text/html": [
       "<div>                            <div id=\"55dc2707-e9a8-444a-b2f9-d88ec4f9ee79\" class=\"plotly-graph-div\" style=\"height:700px; width:1000px;\"></div>            <script type=\"text/javascript\">                require([\"plotly\"], function(Plotly) {                    window.PLOTLYENV=window.PLOTLYENV || {};                                    if (document.getElementById(\"55dc2707-e9a8-444a-b2f9-d88ec4f9ee79\")) {                    Plotly.newPlot(                        \"55dc2707-e9a8-444a-b2f9-d88ec4f9ee79\",                        [{\"branchvalues\": \"total\", \"domain\": {\"x\": [0.0, 1.0], \"y\": [0.0, 1.0]}, \"hovertemplate\": \"labels=%{label}<br>quantity=%{value}<br>parent=%{parent}<br>id=%{id}<extra></extra>\", \"ids\": [\"household/air fresheners candles\", \"international/asian foods\", \"babies/baby accessories\", \"babies/baby bath body care\", \"babies/baby food formula\", \"bakery/bakery desserts\", \"pantry/baking ingredients\", \"pantry/baking supplies decor\", \"personal care/beauty\", \"alcohol/beers coolers\", \"personal care/body lotions soap\", \"bakery/bread\", \"bakery/breakfast bakery\", \"breakfast/breakfast bars pastries\", \"bulk/bulk dried fruits vegetables\", \"bulk/bulk grains rice dried goods\", \"bakery/buns rolls\", \"dairy eggs/butter\", \"snacks/candy chocolate\", \"canned goods/canned fruit applesauce\", \"canned goods/canned jarred vegetables\", \"canned goods/canned meals beans\", \"canned goods/canned meat seafood\", \"pets/cat food care\", \"breakfast/cereal\", \"snacks/chips pretzels\", \"household/cleaning products\", \"beverages/cocoa drink mixes\", \"beverages/coffee\", \"personal care/cold flu allergy\", \"pantry/condiments\", \"snacks/cookies cakes\", \"snacks/crackers\", \"dairy eggs/cream\", \"personal care/deodorants\", \"babies/diapers wipes\", \"personal care/digestion\", \"household/dish detergents\", \"pets/dog food care\", \"pantry/doughs gelatins bake mixes\", \"dry goods pasta/dry pasta\", \"dairy eggs/eggs\", \"snacks/energy granola bars\", \"beverages/energy sports drinks\", \"personal care/eye ear care\", \"personal care/facial care\", \"personal care/feminine care\", \"personal care/first aid\", \"household/food storage\", \"deli/fresh dips tapenades\", \"produce/fresh fruits\", \"produce/fresh herbs\", \"dry goods pasta/fresh pasta\", \"produce/fresh vegetables\", \"frozen/frozen appetizers sides\", \"frozen/frozen breads doughs\", \"frozen/frozen breakfast\", \"frozen/frozen dessert\", \"frozen/frozen juice\", \"frozen/frozen meals\", \"frozen/frozen meat seafood\", \"frozen/frozen pizza\", \"frozen/frozen produce\", \"frozen/frozen vegan vegetarian\", \"snacks/fruit vegetable snacks\", \"dry goods pasta/grains rice dried goods\", \"breakfast/granola\", \"personal care/hair care\", \"pantry/honeys syrups nectars\", \"breakfast/hot cereal pancake mixes\", \"meat seafood/hot dogs bacon sausage\", \"frozen/ice cream ice\", \"snacks/ice cream toppings\", \"international/indian foods\", \"dry goods pasta/instant foods\", \"beverages/juice nectars\", \"household/kitchen supplies\", \"international/kosher foods\", \"international/latino foods\", \"household/laundry\", \"deli/lunch meat\", \"pantry/marinades meat preparation\", \"meat seafood/meat counter\", \"dairy eggs/milk\", \"snacks/mint gum\", \"missing/missing\", \"household/more household\", \"personal care/muscles joints pain relief\", \"snacks/nuts seeds dried fruit\", \"pantry/oils vinegars\", \"personal care/oral hygiene\", \"other/other\", \"dairy eggs/other creams cheeses\", \"dairy eggs/packaged cheese\", \"meat seafood/packaged meat\", \"meat seafood/packaged poultry\", \"produce/packaged produce\", \"meat seafood/packaged seafood\", \"produce/packaged vegetables fruits\", \"household/paper goods\", \"dry goods pasta/pasta sauce\", \"pantry/pickled goods olives\", \"household/plates bowls cups flatware\", \"snacks/popcorn jerky\", \"meat seafood/poultry counter\", \"deli/prepared meals\", \"deli/prepared soups salads\", \"pantry/preserved dips spreads\", \"personal care/protein meal replacements\", \"alcohol/red wines\", \"beverages/refrigerated\", \"dairy eggs/refrigerated pudding desserts\", \"pantry/salad dressing toppings\", \"meat seafood/seafood counter\", \"personal care/shave needs\", \"personal care/skin care\", \"personal care/soap\", \"beverages/soft drinks\", \"canned goods/soup broth bouillon\", \"dairy eggs/soy lactosefree\", \"dairy eggs/specialty cheeses\", \"alcohol/specialty wines champagnes\", \"pantry/spices seasonings\", \"alcohol/spirits\", \"pantry/spreads\", \"beverages/tea\", \"deli/tofu meat alternatives\", \"bakery/tortillas flat bread\", \"snacks/trail mix snack mix\", \"household/trash bags liners\", \"personal care/vitamins supplements\", \"beverages/water seltzer sparkling water\", \"alcohol/white wines\", \"dairy eggs/yogurt\", \"alcohol\", \"babies\", \"bakery\", \"beverages\", \"breakfast\", \"bulk\", \"canned goods\", \"dairy eggs\", \"deli\", \"dry goods pasta\", \"frozen\", \"household\", \"international\", \"meat seafood\", \"missing\", \"other\", \"pantry\", \"personal care\", \"pets\", \"produce\", \"snacks\"], \"labels\": [\"air fresheners candles\", \"asian foods\", \"baby accessories\", \"baby bath body care\", \"baby food formula\", \"bakery desserts\", \"baking ingredients\", \"baking supplies decor\", \"beauty\", \"beers coolers\", \"body lotions soap\", \"bread\", \"breakfast bakery\", \"breakfast bars pastries\", \"bulk dried fruits vegetables\", \"bulk grains rice dried goods\", \"buns rolls\", \"butter\", \"candy chocolate\", \"canned fruit applesauce\", \"canned jarred vegetables\", \"canned meals beans\", \"canned meat seafood\", \"cat food care\", \"cereal\", \"chips pretzels\", \"cleaning products\", \"cocoa drink mixes\", \"coffee\", \"cold flu allergy\", \"condiments\", \"cookies cakes\", \"crackers\", \"cream\", \"deodorants\", \"diapers wipes\", \"digestion\", \"dish detergents\", \"dog food care\", \"doughs gelatins bake mixes\", \"dry pasta\", \"eggs\", \"energy granola bars\", \"energy sports drinks\", \"eye ear care\", \"facial care\", \"feminine care\", \"first aid\", \"food storage\", \"fresh dips tapenades\", \"fresh fruits\", \"fresh herbs\", \"fresh pasta\", \"fresh vegetables\", \"frozen appetizers sides\", \"frozen breads doughs\", \"frozen breakfast\", \"frozen dessert\", \"frozen juice\", \"frozen meals\", \"frozen meat seafood\", \"frozen pizza\", \"frozen produce\", \"frozen vegan vegetarian\", \"fruit vegetable snacks\", \"grains rice dried goods\", \"granola\", \"hair care\", \"honeys syrups nectars\", \"hot cereal pancake mixes\", \"hot dogs bacon sausage\", \"ice cream ice\", \"ice cream toppings\", \"indian foods\", \"instant foods\", \"juice nectars\", \"kitchen supplies\", \"kosher foods\", \"latino foods\", \"laundry\", \"lunch meat\", \"marinades meat preparation\", \"meat counter\", \"milk\", \"mint gum\", \"missing\", \"more household\", \"muscles joints pain relief\", \"nuts seeds dried fruit\", \"oils vinegars\", \"oral hygiene\", \"other\", \"other creams cheeses\", \"packaged cheese\", \"packaged meat\", \"packaged poultry\", \"packaged produce\", \"packaged seafood\", \"packaged vegetables fruits\", \"paper goods\", \"pasta sauce\", \"pickled goods olives\", \"plates bowls cups flatware\", \"popcorn jerky\", \"poultry counter\", \"prepared meals\", \"prepared soups salads\", \"preserved dips spreads\", \"protein meal replacements\", \"red wines\", \"refrigerated\", \"refrigerated pudding desserts\", \"salad dressing toppings\", \"seafood counter\", \"shave needs\", \"skin care\", \"soap\", \"soft drinks\", \"soup broth bouillon\", \"soy lactosefree\", \"specialty cheeses\", \"specialty wines champagnes\", \"spices seasonings\", \"spirits\", \"spreads\", \"tea\", \"tofu meat alternatives\", \"tortillas flat bread\", \"trail mix snack mix\", \"trash bags liners\", \"vitamins supplements\", \"water seltzer sparkling water\", \"white wines\", \"yogurt\", \"alcohol\", \"babies\", \"bakery\", \"beverages\", \"breakfast\", \"bulk\", \"canned goods\", \"dairy eggs\", \"deli\", \"dry goods pasta\", \"frozen\", \"household\", \"international\", \"meat seafood\", \"missing\", \"other\", \"pantry\", \"personal care\", \"pets\", \"produce\", \"snacks\"], \"name\": \"\", \"parents\": [\"household\", \"international\", \"babies\", \"babies\", \"babies\", \"bakery\", \"pantry\", \"pantry\", \"personal care\", \"alcohol\", \"personal care\", \"bakery\", \"bakery\", \"breakfast\", \"bulk\", \"bulk\", \"bakery\", \"dairy eggs\", \"snacks\", \"canned goods\", \"canned goods\", \"canned goods\", \"canned goods\", \"pets\", \"breakfast\", \"snacks\", \"household\", \"beverages\", \"beverages\", \"personal care\", \"pantry\", \"snacks\", \"snacks\", \"dairy eggs\", \"personal care\", \"babies\", \"personal care\", \"household\", \"pets\", \"pantry\", \"dry goods pasta\", \"dairy eggs\", \"snacks\", \"beverages\", \"personal care\", \"personal care\", \"personal care\", \"personal care\", \"household\", \"deli\", \"produce\", \"produce\", \"dry goods pasta\", \"produce\", \"frozen\", \"frozen\", \"frozen\", \"frozen\", \"frozen\", \"frozen\", \"frozen\", \"frozen\", \"frozen\", \"frozen\", \"snacks\", \"dry goods pasta\", \"breakfast\", \"personal care\", \"pantry\", \"breakfast\", \"meat seafood\", \"frozen\", \"snacks\", \"international\", \"dry goods pasta\", \"beverages\", \"household\", \"international\", \"international\", \"household\", \"deli\", \"pantry\", \"meat seafood\", \"dairy eggs\", \"snacks\", \"missing\", \"household\", \"personal care\", \"snacks\", \"pantry\", \"personal care\", \"other\", \"dairy eggs\", \"dairy eggs\", \"meat seafood\", \"meat seafood\", \"produce\", \"meat seafood\", \"produce\", \"household\", \"dry goods pasta\", \"pantry\", \"household\", \"snacks\", \"meat seafood\", \"deli\", \"deli\", \"pantry\", \"personal care\", \"alcohol\", \"beverages\", \"dairy eggs\", \"pantry\", \"meat seafood\", \"personal care\", \"personal care\", \"personal care\", \"beverages\", \"canned goods\", \"dairy eggs\", \"dairy eggs\", \"alcohol\", \"pantry\", \"alcohol\", \"pantry\", \"beverages\", \"deli\", \"bakery\", \"snacks\", \"household\", \"personal care\", \"beverages\", \"alcohol\", \"dairy eggs\", \"\", \"\", \"\", \"\", \"\", \"\", \"\", \"\", \"\", \"\", \"\", \"\", \"\", \"\", \"\", \"\", \"\", \"\", \"\", \"\", \"\"], \"type\": \"treemap\", \"values\": [1258, 10426, 504, 515, 23355, 2214, 20137, 1451, 387, 3002, 2507, 36381, 15357, 4621, 1059, 1074, 6949, 15735, 18735, 5458, 18025, 16818, 4212, 3835, 23754, 45306, 7429, 1332, 12823, 1589, 13760, 14745, 28574, 19786, 924, 1566, 1727, 5867, 2178, 6693, 16414, 27986, 28639, 6638, 598, 843, 1296, 693, 4144, 22175, 226039, 23342, 2340, 212611, 12178, 2486, 14346, 1190, 279, 24449, 4408, 10124, 32432, 6321, 10931, 8878, 6410, 1909, 4156, 9820, 19037, 31323, 706, 963, 12651, 20715, 561, 697, 4652, 5904, 24470, 3836, 4472, 55150, 1377, 4749, 1170, 1256, 19026, 15213, 4018, 2240, 19091, 61502, 2020, 7467, 17408, 1301, 109596, 15422, 13771, 6925, 2671, 10415, 8131, 6144, 4384, 6866, 2257, 2135, 35893, 2423, 6009, 1843, 646, 654, 3918, 22428, 21540, 39389, 5102, 614, 13067, 1795, 18149, 15733, 8003, 12082, 2238, 2020, 2912, 52564, 1893, 90751, 9439, 25940, 72983, 168126, 44605, 2133, 66053, 336915, 65176, 54054, 139536, 46446, 16738, 44271, 4749, 2240, 116262, 28134, 6013, 588996, 180692]}],                        {\"height\": 700, \"legend\": {\"tracegroupgap\": 0}, \"margin\": {\"t\": 60}, \"template\": {\"data\": {\"bar\": [{\"error_x\": {\"color\": \"#2a3f5f\"}, \"error_y\": {\"color\": \"#2a3f5f\"}, \"marker\": {\"line\": {\"color\": \"#E5ECF6\", \"width\": 0.5}}, \"type\": \"bar\"}], \"barpolar\": [{\"marker\": {\"line\": {\"color\": \"#E5ECF6\", \"width\": 0.5}}, \"type\": \"barpolar\"}], \"carpet\": [{\"aaxis\": {\"endlinecolor\": \"#2a3f5f\", \"gridcolor\": \"white\", \"linecolor\": \"white\", \"minorgridcolor\": \"white\", \"startlinecolor\": \"#2a3f5f\"}, \"baxis\": {\"endlinecolor\": \"#2a3f5f\", \"gridcolor\": \"white\", \"linecolor\": \"white\", \"minorgridcolor\": \"white\", \"startlinecolor\": \"#2a3f5f\"}, \"type\": \"carpet\"}], \"choropleth\": [{\"colorbar\": {\"outlinewidth\": 0, \"ticks\": \"\"}, \"type\": \"choropleth\"}], \"contour\": [{\"colorbar\": {\"outlinewidth\": 0, \"ticks\": \"\"}, \"colorscale\": [[0.0, \"#0d0887\"], [0.1111111111111111, \"#46039f\"], [0.2222222222222222, \"#7201a8\"], [0.3333333333333333, \"#9c179e\"], [0.4444444444444444, \"#bd3786\"], [0.5555555555555556, \"#d8576b\"], [0.6666666666666666, \"#ed7953\"], [0.7777777777777778, \"#fb9f3a\"], [0.8888888888888888, \"#fdca26\"], [1.0, \"#f0f921\"]], \"type\": \"contour\"}], \"contourcarpet\": [{\"colorbar\": {\"outlinewidth\": 0, \"ticks\": \"\"}, \"type\": \"contourcarpet\"}], \"heatmap\": [{\"colorbar\": {\"outlinewidth\": 0, \"ticks\": \"\"}, \"colorscale\": [[0.0, \"#0d0887\"], [0.1111111111111111, \"#46039f\"], [0.2222222222222222, \"#7201a8\"], [0.3333333333333333, \"#9c179e\"], [0.4444444444444444, \"#bd3786\"], [0.5555555555555556, \"#d8576b\"], [0.6666666666666666, \"#ed7953\"], [0.7777777777777778, \"#fb9f3a\"], [0.8888888888888888, \"#fdca26\"], [1.0, \"#f0f921\"]], \"type\": \"heatmap\"}], \"heatmapgl\": [{\"colorbar\": {\"outlinewidth\": 0, \"ticks\": \"\"}, \"colorscale\": [[0.0, \"#0d0887\"], [0.1111111111111111, \"#46039f\"], [0.2222222222222222, \"#7201a8\"], [0.3333333333333333, \"#9c179e\"], [0.4444444444444444, \"#bd3786\"], [0.5555555555555556, \"#d8576b\"], [0.6666666666666666, \"#ed7953\"], [0.7777777777777778, \"#fb9f3a\"], [0.8888888888888888, \"#fdca26\"], [1.0, \"#f0f921\"]], \"type\": \"heatmapgl\"}], \"histogram\": [{\"marker\": {\"colorbar\": {\"outlinewidth\": 0, \"ticks\": \"\"}}, \"type\": \"histogram\"}], \"histogram2d\": [{\"colorbar\": {\"outlinewidth\": 0, \"ticks\": \"\"}, \"colorscale\": [[0.0, \"#0d0887\"], [0.1111111111111111, \"#46039f\"], [0.2222222222222222, \"#7201a8\"], [0.3333333333333333, \"#9c179e\"], [0.4444444444444444, \"#bd3786\"], [0.5555555555555556, \"#d8576b\"], [0.6666666666666666, \"#ed7953\"], [0.7777777777777778, \"#fb9f3a\"], [0.8888888888888888, \"#fdca26\"], [1.0, \"#f0f921\"]], \"type\": \"histogram2d\"}], \"histogram2dcontour\": [{\"colorbar\": {\"outlinewidth\": 0, \"ticks\": \"\"}, \"colorscale\": [[0.0, \"#0d0887\"], [0.1111111111111111, \"#46039f\"], [0.2222222222222222, \"#7201a8\"], [0.3333333333333333, \"#9c179e\"], [0.4444444444444444, \"#bd3786\"], [0.5555555555555556, \"#d8576b\"], [0.6666666666666666, \"#ed7953\"], [0.7777777777777778, \"#fb9f3a\"], [0.8888888888888888, \"#fdca26\"], [1.0, \"#f0f921\"]], \"type\": \"histogram2dcontour\"}], \"mesh3d\": [{\"colorbar\": {\"outlinewidth\": 0, \"ticks\": \"\"}, \"type\": \"mesh3d\"}], \"parcoords\": [{\"line\": {\"colorbar\": {\"outlinewidth\": 0, \"ticks\": \"\"}}, \"type\": \"parcoords\"}], \"pie\": [{\"automargin\": true, \"type\": \"pie\"}], \"scatter\": [{\"marker\": {\"colorbar\": {\"outlinewidth\": 0, \"ticks\": \"\"}}, \"type\": \"scatter\"}], \"scatter3d\": [{\"line\": {\"colorbar\": {\"outlinewidth\": 0, \"ticks\": \"\"}}, \"marker\": {\"colorbar\": {\"outlinewidth\": 0, \"ticks\": \"\"}}, \"type\": \"scatter3d\"}], \"scattercarpet\": [{\"marker\": {\"colorbar\": {\"outlinewidth\": 0, \"ticks\": \"\"}}, \"type\": \"scattercarpet\"}], \"scattergeo\": [{\"marker\": {\"colorbar\": {\"outlinewidth\": 0, \"ticks\": \"\"}}, \"type\": \"scattergeo\"}], \"scattergl\": [{\"marker\": {\"colorbar\": {\"outlinewidth\": 0, \"ticks\": \"\"}}, \"type\": \"scattergl\"}], \"scattermapbox\": [{\"marker\": {\"colorbar\": {\"outlinewidth\": 0, \"ticks\": \"\"}}, \"type\": \"scattermapbox\"}], \"scatterpolar\": [{\"marker\": {\"colorbar\": {\"outlinewidth\": 0, \"ticks\": \"\"}}, \"type\": \"scatterpolar\"}], \"scatterpolargl\": [{\"marker\": {\"colorbar\": {\"outlinewidth\": 0, \"ticks\": \"\"}}, \"type\": \"scatterpolargl\"}], \"scatterternary\": [{\"marker\": {\"colorbar\": {\"outlinewidth\": 0, \"ticks\": \"\"}}, \"type\": \"scatterternary\"}], \"surface\": [{\"colorbar\": {\"outlinewidth\": 0, \"ticks\": \"\"}, \"colorscale\": [[0.0, \"#0d0887\"], [0.1111111111111111, \"#46039f\"], [0.2222222222222222, \"#7201a8\"], [0.3333333333333333, \"#9c179e\"], [0.4444444444444444, \"#bd3786\"], [0.5555555555555556, \"#d8576b\"], [0.6666666666666666, \"#ed7953\"], [0.7777777777777778, \"#fb9f3a\"], [0.8888888888888888, \"#fdca26\"], [1.0, \"#f0f921\"]], \"type\": \"surface\"}], \"table\": [{\"cells\": {\"fill\": {\"color\": \"#EBF0F8\"}, \"line\": {\"color\": \"white\"}}, \"header\": {\"fill\": {\"color\": \"#C8D4E3\"}, \"line\": {\"color\": \"white\"}}, \"type\": \"table\"}]}, \"layout\": {\"annotationdefaults\": {\"arrowcolor\": \"#2a3f5f\", \"arrowhead\": 0, \"arrowwidth\": 1}, \"autotypenumbers\": \"strict\", \"coloraxis\": {\"colorbar\": {\"outlinewidth\": 0, \"ticks\": \"\"}}, \"colorscale\": {\"diverging\": [[0, \"#8e0152\"], [0.1, \"#c51b7d\"], [0.2, \"#de77ae\"], [0.3, \"#f1b6da\"], [0.4, \"#fde0ef\"], [0.5, \"#f7f7f7\"], [0.6, \"#e6f5d0\"], [0.7, \"#b8e186\"], [0.8, \"#7fbc41\"], [0.9, \"#4d9221\"], [1, \"#276419\"]], \"sequential\": [[0.0, \"#0d0887\"], [0.1111111111111111, \"#46039f\"], [0.2222222222222222, \"#7201a8\"], [0.3333333333333333, \"#9c179e\"], [0.4444444444444444, \"#bd3786\"], [0.5555555555555556, \"#d8576b\"], [0.6666666666666666, \"#ed7953\"], [0.7777777777777778, \"#fb9f3a\"], [0.8888888888888888, \"#fdca26\"], [1.0, \"#f0f921\"]], \"sequentialminus\": [[0.0, \"#0d0887\"], [0.1111111111111111, \"#46039f\"], [0.2222222222222222, \"#7201a8\"], [0.3333333333333333, \"#9c179e\"], [0.4444444444444444, \"#bd3786\"], [0.5555555555555556, \"#d8576b\"], [0.6666666666666666, \"#ed7953\"], [0.7777777777777778, \"#fb9f3a\"], [0.8888888888888888, \"#fdca26\"], [1.0, \"#f0f921\"]]}, \"colorway\": [\"#636efa\", \"#EF553B\", \"#00cc96\", \"#ab63fa\", \"#FFA15A\", \"#19d3f3\", \"#FF6692\", \"#B6E880\", \"#FF97FF\", \"#FECB52\"], \"font\": {\"color\": \"#2a3f5f\"}, \"geo\": {\"bgcolor\": \"white\", \"lakecolor\": \"white\", \"landcolor\": \"#E5ECF6\", \"showlakes\": true, \"showland\": true, \"subunitcolor\": \"white\"}, \"hoverlabel\": {\"align\": \"left\"}, \"hovermode\": \"closest\", \"mapbox\": {\"style\": \"light\"}, \"paper_bgcolor\": \"white\", \"plot_bgcolor\": \"#E5ECF6\", \"polar\": {\"angularaxis\": {\"gridcolor\": \"white\", \"linecolor\": \"white\", \"ticks\": \"\"}, \"bgcolor\": \"#E5ECF6\", \"radialaxis\": {\"gridcolor\": \"white\", \"linecolor\": \"white\", \"ticks\": \"\"}}, \"scene\": {\"xaxis\": {\"backgroundcolor\": \"#E5ECF6\", \"gridcolor\": \"white\", \"gridwidth\": 2, \"linecolor\": \"white\", \"showbackground\": true, \"ticks\": \"\", \"zerolinecolor\": \"white\"}, \"yaxis\": {\"backgroundcolor\": \"#E5ECF6\", \"gridcolor\": \"white\", \"gridwidth\": 2, \"linecolor\": \"white\", \"showbackground\": true, \"ticks\": \"\", \"zerolinecolor\": \"white\"}, \"zaxis\": {\"backgroundcolor\": \"#E5ECF6\", \"gridcolor\": \"white\", \"gridwidth\": 2, \"linecolor\": \"white\", \"showbackground\": true, \"ticks\": \"\", \"zerolinecolor\": \"white\"}}, \"shapedefaults\": {\"line\": {\"color\": \"#2a3f5f\"}}, \"ternary\": {\"aaxis\": {\"gridcolor\": \"white\", \"linecolor\": \"white\", \"ticks\": \"\"}, \"baxis\": {\"gridcolor\": \"white\", \"linecolor\": \"white\", \"ticks\": \"\"}, \"bgcolor\": \"#E5ECF6\", \"caxis\": {\"gridcolor\": \"white\", \"linecolor\": \"white\", \"ticks\": \"\"}}, \"title\": {\"x\": 0.05}, \"xaxis\": {\"automargin\": true, \"gridcolor\": \"white\", \"linecolor\": \"white\", \"ticks\": \"\", \"title\": {\"standoff\": 15}, \"zerolinecolor\": \"white\", \"zerolinewidth\": 2}, \"yaxis\": {\"automargin\": true, \"gridcolor\": \"white\", \"linecolor\": \"white\", \"ticks\": \"\", \"title\": {\"standoff\": 15}, \"zerolinecolor\": \"white\", \"zerolinewidth\": 2}}}, \"width\": 1000},                        {\"responsive\": true}                    ).then(function(){\n",
       "                            \n",
       "var gd = document.getElementById('55dc2707-e9a8-444a-b2f9-d88ec4f9ee79');\n",
       "var x = new MutationObserver(function (mutations, observer) {{\n",
       "        var display = window.getComputedStyle(gd).display;\n",
       "        if (!display || display === 'none') {{\n",
       "            console.log([gd, 'removed!']);\n",
       "            Plotly.purge(gd);\n",
       "            observer.disconnect();\n",
       "        }}\n",
       "}});\n",
       "\n",
       "// Listen for the removal of the full notebook cells\n",
       "var notebookContainer = gd.closest('#notebook-container');\n",
       "if (notebookContainer) {{\n",
       "    x.observe(notebookContainer, {childList: true});\n",
       "}}\n",
       "\n",
       "// Listen for the clearing of the current output cell\n",
       "var outputEl = gd.closest('.output');\n",
       "if (outputEl) {{\n",
       "    x.observe(outputEl, {childList: true});\n",
       "}}\n",
       "\n",
       "                        })                };                });            </script>        </div>"
      ]
     },
     "metadata": {},
     "output_type": "display_data"
    }
   ],
   "source": [
    "treemap_df = df.groupby('product_name').count().reset_index()\n",
    "treemap_df = pd.merge(treemap_df,df_prod_dept, left_on=\"product_name\", right_on=\"product_name\").rename(columns ={\"order_id\":\"quantity\"})\n",
    "\n",
    "fig = px.treemap(treemap_df, path=['department', 'product_name'],values=\"quantity\",width=1000,height=700)\n",
    "fig.show()"
   ]
  },
  {
   "cell_type": "code",
   "execution_count": 73,
   "metadata": {},
   "outputs": [
    {
     "data": {
      "text/html": [
       "<div>\n",
       "<style scoped>\n",
       "    .dataframe tbody tr th:only-of-type {\n",
       "        vertical-align: middle;\n",
       "    }\n",
       "\n",
       "    .dataframe tbody tr th {\n",
       "        vertical-align: top;\n",
       "    }\n",
       "\n",
       "    .dataframe thead th {\n",
       "        text-align: right;\n",
       "    }\n",
       "</style>\n",
       "<table border=\"1\" class=\"dataframe\">\n",
       "  <thead>\n",
       "    <tr style=\"text-align: right;\">\n",
       "      <th></th>\n",
       "      <th>product_name</th>\n",
       "      <th>quantity</th>\n",
       "    </tr>\n",
       "    <tr>\n",
       "      <th>department</th>\n",
       "      <th></th>\n",
       "      <th></th>\n",
       "    </tr>\n",
       "  </thead>\n",
       "  <tbody>\n",
       "    <tr>\n",
       "      <th>alcohol</th>\n",
       "      <td>5</td>\n",
       "      <td>5</td>\n",
       "    </tr>\n",
       "    <tr>\n",
       "      <th>babies</th>\n",
       "      <td>4</td>\n",
       "      <td>4</td>\n",
       "    </tr>\n",
       "    <tr>\n",
       "      <th>bakery</th>\n",
       "      <td>5</td>\n",
       "      <td>5</td>\n",
       "    </tr>\n",
       "    <tr>\n",
       "      <th>beverages</th>\n",
       "      <td>8</td>\n",
       "      <td>8</td>\n",
       "    </tr>\n",
       "    <tr>\n",
       "      <th>breakfast</th>\n",
       "      <td>4</td>\n",
       "      <td>4</td>\n",
       "    </tr>\n",
       "    <tr>\n",
       "      <th>bulk</th>\n",
       "      <td>2</td>\n",
       "      <td>2</td>\n",
       "    </tr>\n",
       "    <tr>\n",
       "      <th>canned goods</th>\n",
       "      <td>5</td>\n",
       "      <td>5</td>\n",
       "    </tr>\n",
       "    <tr>\n",
       "      <th>dairy eggs</th>\n",
       "      <td>10</td>\n",
       "      <td>10</td>\n",
       "    </tr>\n",
       "    <tr>\n",
       "      <th>deli</th>\n",
       "      <td>5</td>\n",
       "      <td>5</td>\n",
       "    </tr>\n",
       "    <tr>\n",
       "      <th>dry goods pasta</th>\n",
       "      <td>5</td>\n",
       "      <td>5</td>\n",
       "    </tr>\n",
       "    <tr>\n",
       "      <th>frozen</th>\n",
       "      <td>11</td>\n",
       "      <td>11</td>\n",
       "    </tr>\n",
       "    <tr>\n",
       "      <th>household</th>\n",
       "      <td>10</td>\n",
       "      <td>10</td>\n",
       "    </tr>\n",
       "    <tr>\n",
       "      <th>international</th>\n",
       "      <td>4</td>\n",
       "      <td>4</td>\n",
       "    </tr>\n",
       "    <tr>\n",
       "      <th>meat seafood</th>\n",
       "      <td>7</td>\n",
       "      <td>7</td>\n",
       "    </tr>\n",
       "    <tr>\n",
       "      <th>missing</th>\n",
       "      <td>1</td>\n",
       "      <td>1</td>\n",
       "    </tr>\n",
       "    <tr>\n",
       "      <th>other</th>\n",
       "      <td>1</td>\n",
       "      <td>1</td>\n",
       "    </tr>\n",
       "    <tr>\n",
       "      <th>pantry</th>\n",
       "      <td>12</td>\n",
       "      <td>12</td>\n",
       "    </tr>\n",
       "    <tr>\n",
       "      <th>personal care</th>\n",
       "      <td>17</td>\n",
       "      <td>17</td>\n",
       "    </tr>\n",
       "    <tr>\n",
       "      <th>pets</th>\n",
       "      <td>2</td>\n",
       "      <td>2</td>\n",
       "    </tr>\n",
       "    <tr>\n",
       "      <th>produce</th>\n",
       "      <td>5</td>\n",
       "      <td>5</td>\n",
       "    </tr>\n",
       "    <tr>\n",
       "      <th>snacks</th>\n",
       "      <td>11</td>\n",
       "      <td>11</td>\n",
       "    </tr>\n",
       "  </tbody>\n",
       "</table>\n",
       "</div>"
      ],
      "text/plain": [
       "                 product_name  quantity\n",
       "department                             \n",
       "alcohol                     5         5\n",
       "babies                      4         4\n",
       "bakery                      5         5\n",
       "beverages                   8         8\n",
       "breakfast                   4         4\n",
       "bulk                        2         2\n",
       "canned goods                5         5\n",
       "dairy eggs                 10        10\n",
       "deli                        5         5\n",
       "dry goods pasta             5         5\n",
       "frozen                     11        11\n",
       "household                  10        10\n",
       "international               4         4\n",
       "meat seafood                7         7\n",
       "missing                     1         1\n",
       "other                       1         1\n",
       "pantry                     12        12\n",
       "personal care              17        17\n",
       "pets                        2         2\n",
       "produce                     5         5\n",
       "snacks                     11        11"
      ]
     },
     "execution_count": 73,
     "metadata": {},
     "output_type": "execute_result"
    }
   ],
   "source": [
    "treemap_df.groupby(\"department\").count()"
   ]
  },
  {
   "cell_type": "code",
   "execution_count": 74,
   "metadata": {},
   "outputs": [
    {
     "name": "stderr",
     "output_type": "stream",
     "text": [
      "<ipython-input-74-feb62908e198>:4: SettingWithCopyWarning:\n",
      "\n",
      "\n",
      "A value is trying to be set on a copy of a slice from a DataFrame.\n",
      "Try using .loc[row_indexer,col_indexer] = value instead\n",
      "\n",
      "See the caveats in the documentation: https://pandas.pydata.org/pandas-docs/stable/user_guide/indexing.html#returning-a-view-versus-a-copy\n",
      "\n",
      "<ipython-input-74-feb62908e198>:5: SettingWithCopyWarning:\n",
      "\n",
      "\n",
      "A value is trying to be set on a copy of a slice from a DataFrame.\n",
      "Try using .loc[row_indexer,col_indexer] = value instead\n",
      "\n",
      "See the caveats in the documentation: https://pandas.pydata.org/pandas-docs/stable/user_guide/indexing.html#returning-a-view-versus-a-copy\n",
      "\n"
     ]
    }
   ],
   "source": [
    "dict_product = df_prod_dept.set_index('product_name')['department'].to_dict()\n",
    "\n",
    "lookup_rules = rulesConfidence[rulesConfidence['antecedents'].map(lambda x: len(x)==1) & rulesConfidence['consequents'].map(lambda x: len(x)==1)]\n",
    "lookup_rules['antecedents_department'] = lookup_rules['antecedents'].map(lambda x:dict_product[list(x)[0]])\n",
    "lookup_rules['consequents_department'] = lookup_rules['consequents'].map(lambda x:dict_product[list(x)[0]])"
   ]
  },
  {
   "cell_type": "code",
   "execution_count": 75,
   "metadata": {},
   "outputs": [
    {
     "data": {
      "text/html": [
       "<div>\n",
       "<style scoped>\n",
       "    .dataframe tbody tr th:only-of-type {\n",
       "        vertical-align: middle;\n",
       "    }\n",
       "\n",
       "    .dataframe tbody tr th {\n",
       "        vertical-align: top;\n",
       "    }\n",
       "\n",
       "    .dataframe thead th {\n",
       "        text-align: right;\n",
       "    }\n",
       "</style>\n",
       "<table border=\"1\" class=\"dataframe\">\n",
       "  <thead>\n",
       "    <tr style=\"text-align: right;\">\n",
       "      <th></th>\n",
       "      <th>antecedents</th>\n",
       "      <th>consequents</th>\n",
       "      <th>antecedent support</th>\n",
       "      <th>consequent support</th>\n",
       "      <th>support</th>\n",
       "      <th>confidence</th>\n",
       "      <th>lift</th>\n",
       "      <th>leverage</th>\n",
       "      <th>conviction</th>\n",
       "      <th>antecedents_department</th>\n",
       "      <th>consequents_department</th>\n",
       "    </tr>\n",
       "  </thead>\n",
       "  <tbody>\n",
       "    <tr>\n",
       "      <th>84</th>\n",
       "      <td>(milk)</td>\n",
       "      <td>(yogurt)</td>\n",
       "      <td>0.243325</td>\n",
       "      <td>0.263675</td>\n",
       "      <td>0.095705</td>\n",
       "      <td>0.393322</td>\n",
       "      <td>1.491691</td>\n",
       "      <td>0.031546</td>\n",
       "      <td>1.213699</td>\n",
       "      <td>dairy eggs</td>\n",
       "      <td>dairy eggs</td>\n",
       "    </tr>\n",
       "    <tr>\n",
       "      <th>88</th>\n",
       "      <td>(packaged cheese)</td>\n",
       "      <td>(yogurt)</td>\n",
       "      <td>0.230995</td>\n",
       "      <td>0.263675</td>\n",
       "      <td>0.088520</td>\n",
       "      <td>0.383212</td>\n",
       "      <td>1.453349</td>\n",
       "      <td>0.027612</td>\n",
       "      <td>1.193805</td>\n",
       "      <td>dairy eggs</td>\n",
       "      <td>dairy eggs</td>\n",
       "    </tr>\n",
       "    <tr>\n",
       "      <th>11</th>\n",
       "      <td>(bread)</td>\n",
       "      <td>(yogurt)</td>\n",
       "      <td>0.163865</td>\n",
       "      <td>0.263675</td>\n",
       "      <td>0.061840</td>\n",
       "      <td>0.377384</td>\n",
       "      <td>1.431246</td>\n",
       "      <td>0.018633</td>\n",
       "      <td>1.182631</td>\n",
       "      <td>bakery</td>\n",
       "      <td>dairy eggs</td>\n",
       "    </tr>\n",
       "    <tr>\n",
       "      <th>4</th>\n",
       "      <td>(bread)</td>\n",
       "      <td>(milk)</td>\n",
       "      <td>0.163865</td>\n",
       "      <td>0.243325</td>\n",
       "      <td>0.059705</td>\n",
       "      <td>0.364355</td>\n",
       "      <td>1.497400</td>\n",
       "      <td>0.019833</td>\n",
       "      <td>1.190405</td>\n",
       "      <td>bakery</td>\n",
       "      <td>dairy eggs</td>\n",
       "    </tr>\n",
       "    <tr>\n",
       "      <th>6</th>\n",
       "      <td>(bread)</td>\n",
       "      <td>(packaged cheese)</td>\n",
       "      <td>0.163865</td>\n",
       "      <td>0.230995</td>\n",
       "      <td>0.059690</td>\n",
       "      <td>0.364263</td>\n",
       "      <td>1.576931</td>\n",
       "      <td>0.021838</td>\n",
       "      <td>1.209628</td>\n",
       "      <td>bakery</td>\n",
       "      <td>dairy eggs</td>\n",
       "    </tr>\n",
       "    <tr>\n",
       "      <th>83</th>\n",
       "      <td>(yogurt)</td>\n",
       "      <td>(milk)</td>\n",
       "      <td>0.263675</td>\n",
       "      <td>0.243325</td>\n",
       "      <td>0.095705</td>\n",
       "      <td>0.362966</td>\n",
       "      <td>1.491691</td>\n",
       "      <td>0.031546</td>\n",
       "      <td>1.187809</td>\n",
       "      <td>dairy eggs</td>\n",
       "      <td>dairy eggs</td>\n",
       "    </tr>\n",
       "    <tr>\n",
       "      <th>96</th>\n",
       "      <td>(soy lactosefree)</td>\n",
       "      <td>(yogurt)</td>\n",
       "      <td>0.168355</td>\n",
       "      <td>0.263675</td>\n",
       "      <td>0.058195</td>\n",
       "      <td>0.345668</td>\n",
       "      <td>1.310964</td>\n",
       "      <td>0.013804</td>\n",
       "      <td>1.125309</td>\n",
       "      <td>dairy eggs</td>\n",
       "      <td>dairy eggs</td>\n",
       "    </tr>\n",
       "    <tr>\n",
       "      <th>80</th>\n",
       "      <td>(packaged cheese)</td>\n",
       "      <td>(milk)</td>\n",
       "      <td>0.230995</td>\n",
       "      <td>0.243325</td>\n",
       "      <td>0.078170</td>\n",
       "      <td>0.338406</td>\n",
       "      <td>1.390756</td>\n",
       "      <td>0.021963</td>\n",
       "      <td>1.143714</td>\n",
       "      <td>dairy eggs</td>\n",
       "      <td>dairy eggs</td>\n",
       "    </tr>\n",
       "    <tr>\n",
       "      <th>22</th>\n",
       "      <td>(chips pretzels)</td>\n",
       "      <td>(yogurt)</td>\n",
       "      <td>0.169435</td>\n",
       "      <td>0.263675</td>\n",
       "      <td>0.056980</td>\n",
       "      <td>0.336294</td>\n",
       "      <td>1.275412</td>\n",
       "      <td>0.012304</td>\n",
       "      <td>1.109415</td>\n",
       "      <td>snacks</td>\n",
       "      <td>dairy eggs</td>\n",
       "    </tr>\n",
       "    <tr>\n",
       "      <th>87</th>\n",
       "      <td>(yogurt)</td>\n",
       "      <td>(packaged cheese)</td>\n",
       "      <td>0.263675</td>\n",
       "      <td>0.230995</td>\n",
       "      <td>0.088520</td>\n",
       "      <td>0.335716</td>\n",
       "      <td>1.453349</td>\n",
       "      <td>0.027612</td>\n",
       "      <td>1.157645</td>\n",
       "      <td>dairy eggs</td>\n",
       "      <td>dairy eggs</td>\n",
       "    </tr>\n",
       "    <tr>\n",
       "      <th>18</th>\n",
       "      <td>(chips pretzels)</td>\n",
       "      <td>(packaged cheese)</td>\n",
       "      <td>0.169435</td>\n",
       "      <td>0.230995</td>\n",
       "      <td>0.056405</td>\n",
       "      <td>0.332901</td>\n",
       "      <td>1.441159</td>\n",
       "      <td>0.017266</td>\n",
       "      <td>1.152759</td>\n",
       "      <td>snacks</td>\n",
       "      <td>dairy eggs</td>\n",
       "    </tr>\n",
       "    <tr>\n",
       "      <th>79</th>\n",
       "      <td>(milk)</td>\n",
       "      <td>(packaged cheese)</td>\n",
       "      <td>0.243325</td>\n",
       "      <td>0.230995</td>\n",
       "      <td>0.078170</td>\n",
       "      <td>0.321258</td>\n",
       "      <td>1.390756</td>\n",
       "      <td>0.021963</td>\n",
       "      <td>1.132985</td>\n",
       "      <td>dairy eggs</td>\n",
       "      <td>dairy eggs</td>\n",
       "    </tr>\n",
       "    <tr>\n",
       "      <th>99</th>\n",
       "      <td>(water seltzer sparkling water)</td>\n",
       "      <td>(yogurt)</td>\n",
       "      <td>0.193005</td>\n",
       "      <td>0.263675</td>\n",
       "      <td>0.056185</td>\n",
       "      <td>0.291106</td>\n",
       "      <td>1.104035</td>\n",
       "      <td>0.005294</td>\n",
       "      <td>1.038696</td>\n",
       "      <td>beverages</td>\n",
       "      <td>dairy eggs</td>\n",
       "    </tr>\n",
       "    <tr>\n",
       "      <th>7</th>\n",
       "      <td>(packaged cheese)</td>\n",
       "      <td>(bread)</td>\n",
       "      <td>0.230995</td>\n",
       "      <td>0.163865</td>\n",
       "      <td>0.059690</td>\n",
       "      <td>0.258404</td>\n",
       "      <td>1.576931</td>\n",
       "      <td>0.021838</td>\n",
       "      <td>1.127480</td>\n",
       "      <td>dairy eggs</td>\n",
       "      <td>bakery</td>\n",
       "    </tr>\n",
       "    <tr>\n",
       "      <th>5</th>\n",
       "      <td>(milk)</td>\n",
       "      <td>(bread)</td>\n",
       "      <td>0.243325</td>\n",
       "      <td>0.163865</td>\n",
       "      <td>0.059705</td>\n",
       "      <td>0.245371</td>\n",
       "      <td>1.497400</td>\n",
       "      <td>0.019833</td>\n",
       "      <td>1.108009</td>\n",
       "      <td>dairy eggs</td>\n",
       "      <td>bakery</td>\n",
       "    </tr>\n",
       "    <tr>\n",
       "      <th>17</th>\n",
       "      <td>(packaged cheese)</td>\n",
       "      <td>(chips pretzels)</td>\n",
       "      <td>0.230995</td>\n",
       "      <td>0.169435</td>\n",
       "      <td>0.056405</td>\n",
       "      <td>0.244183</td>\n",
       "      <td>1.441159</td>\n",
       "      <td>0.017266</td>\n",
       "      <td>1.098897</td>\n",
       "      <td>dairy eggs</td>\n",
       "      <td>snacks</td>\n",
       "    </tr>\n",
       "    <tr>\n",
       "      <th>10</th>\n",
       "      <td>(yogurt)</td>\n",
       "      <td>(bread)</td>\n",
       "      <td>0.263675</td>\n",
       "      <td>0.163865</td>\n",
       "      <td>0.061840</td>\n",
       "      <td>0.234531</td>\n",
       "      <td>1.431246</td>\n",
       "      <td>0.018633</td>\n",
       "      <td>1.092317</td>\n",
       "      <td>dairy eggs</td>\n",
       "      <td>bakery</td>\n",
       "    </tr>\n",
       "    <tr>\n",
       "      <th>97</th>\n",
       "      <td>(yogurt)</td>\n",
       "      <td>(soy lactosefree)</td>\n",
       "      <td>0.263675</td>\n",
       "      <td>0.168355</td>\n",
       "      <td>0.058195</td>\n",
       "      <td>0.220707</td>\n",
       "      <td>1.310964</td>\n",
       "      <td>0.013804</td>\n",
       "      <td>1.067179</td>\n",
       "      <td>dairy eggs</td>\n",
       "      <td>dairy eggs</td>\n",
       "    </tr>\n",
       "    <tr>\n",
       "      <th>21</th>\n",
       "      <td>(yogurt)</td>\n",
       "      <td>(chips pretzels)</td>\n",
       "      <td>0.263675</td>\n",
       "      <td>0.169435</td>\n",
       "      <td>0.056980</td>\n",
       "      <td>0.216099</td>\n",
       "      <td>1.275412</td>\n",
       "      <td>0.012304</td>\n",
       "      <td>1.059528</td>\n",
       "      <td>dairy eggs</td>\n",
       "      <td>snacks</td>\n",
       "    </tr>\n",
       "    <tr>\n",
       "      <th>98</th>\n",
       "      <td>(yogurt)</td>\n",
       "      <td>(water seltzer sparkling water)</td>\n",
       "      <td>0.263675</td>\n",
       "      <td>0.193005</td>\n",
       "      <td>0.056185</td>\n",
       "      <td>0.213084</td>\n",
       "      <td>1.104035</td>\n",
       "      <td>0.005294</td>\n",
       "      <td>1.025516</td>\n",
       "      <td>dairy eggs</td>\n",
       "      <td>beverages</td>\n",
       "    </tr>\n",
       "  </tbody>\n",
       "</table>\n",
       "</div>"
      ],
      "text/plain": [
       "                        antecedents                      consequents  \\\n",
       "84                           (milk)                         (yogurt)   \n",
       "88                (packaged cheese)                         (yogurt)   \n",
       "11                          (bread)                         (yogurt)   \n",
       "4                           (bread)                           (milk)   \n",
       "6                           (bread)                (packaged cheese)   \n",
       "83                         (yogurt)                           (milk)   \n",
       "96                (soy lactosefree)                         (yogurt)   \n",
       "80                (packaged cheese)                           (milk)   \n",
       "22                 (chips pretzels)                         (yogurt)   \n",
       "87                         (yogurt)                (packaged cheese)   \n",
       "18                 (chips pretzels)                (packaged cheese)   \n",
       "79                           (milk)                (packaged cheese)   \n",
       "99  (water seltzer sparkling water)                         (yogurt)   \n",
       "7                 (packaged cheese)                          (bread)   \n",
       "5                            (milk)                          (bread)   \n",
       "17                (packaged cheese)                 (chips pretzels)   \n",
       "10                         (yogurt)                          (bread)   \n",
       "97                         (yogurt)                (soy lactosefree)   \n",
       "21                         (yogurt)                 (chips pretzels)   \n",
       "98                         (yogurt)  (water seltzer sparkling water)   \n",
       "\n",
       "    antecedent support  consequent support   support  confidence      lift  \\\n",
       "84            0.243325            0.263675  0.095705    0.393322  1.491691   \n",
       "88            0.230995            0.263675  0.088520    0.383212  1.453349   \n",
       "11            0.163865            0.263675  0.061840    0.377384  1.431246   \n",
       "4             0.163865            0.243325  0.059705    0.364355  1.497400   \n",
       "6             0.163865            0.230995  0.059690    0.364263  1.576931   \n",
       "83            0.263675            0.243325  0.095705    0.362966  1.491691   \n",
       "96            0.168355            0.263675  0.058195    0.345668  1.310964   \n",
       "80            0.230995            0.243325  0.078170    0.338406  1.390756   \n",
       "22            0.169435            0.263675  0.056980    0.336294  1.275412   \n",
       "87            0.263675            0.230995  0.088520    0.335716  1.453349   \n",
       "18            0.169435            0.230995  0.056405    0.332901  1.441159   \n",
       "79            0.243325            0.230995  0.078170    0.321258  1.390756   \n",
       "99            0.193005            0.263675  0.056185    0.291106  1.104035   \n",
       "7             0.230995            0.163865  0.059690    0.258404  1.576931   \n",
       "5             0.243325            0.163865  0.059705    0.245371  1.497400   \n",
       "17            0.230995            0.169435  0.056405    0.244183  1.441159   \n",
       "10            0.263675            0.163865  0.061840    0.234531  1.431246   \n",
       "97            0.263675            0.168355  0.058195    0.220707  1.310964   \n",
       "21            0.263675            0.169435  0.056980    0.216099  1.275412   \n",
       "98            0.263675            0.193005  0.056185    0.213084  1.104035   \n",
       "\n",
       "    leverage  conviction antecedents_department consequents_department  \n",
       "84  0.031546    1.213699             dairy eggs             dairy eggs  \n",
       "88  0.027612    1.193805             dairy eggs             dairy eggs  \n",
       "11  0.018633    1.182631                 bakery             dairy eggs  \n",
       "4   0.019833    1.190405                 bakery             dairy eggs  \n",
       "6   0.021838    1.209628                 bakery             dairy eggs  \n",
       "83  0.031546    1.187809             dairy eggs             dairy eggs  \n",
       "96  0.013804    1.125309             dairy eggs             dairy eggs  \n",
       "80  0.021963    1.143714             dairy eggs             dairy eggs  \n",
       "22  0.012304    1.109415                 snacks             dairy eggs  \n",
       "87  0.027612    1.157645             dairy eggs             dairy eggs  \n",
       "18  0.017266    1.152759                 snacks             dairy eggs  \n",
       "79  0.021963    1.132985             dairy eggs             dairy eggs  \n",
       "99  0.005294    1.038696              beverages             dairy eggs  \n",
       "7   0.021838    1.127480             dairy eggs                 bakery  \n",
       "5   0.019833    1.108009             dairy eggs                 bakery  \n",
       "17  0.017266    1.098897             dairy eggs                 snacks  \n",
       "10  0.018633    1.092317             dairy eggs                 bakery  \n",
       "97  0.013804    1.067179             dairy eggs             dairy eggs  \n",
       "21  0.012304    1.059528             dairy eggs                 snacks  \n",
       "98  0.005294    1.025516             dairy eggs              beverages  "
      ]
     },
     "execution_count": 75,
     "metadata": {},
     "output_type": "execute_result"
    }
   ],
   "source": [
    "mask = (lookup_rules['antecedents_department'] != 'produce') & (lookup_rules['consequents_department'] != 'produce')\n",
    "lookup_rules[mask]"
   ]
  },
  {
   "cell_type": "markdown",
   "metadata": {},
   "source": [
    "## Recommendation tables: "
   ]
  },
  {
   "cell_type": "code",
   "execution_count": 23,
   "metadata": {},
   "outputs": [
    {
     "data": {
      "text/html": [
       "<div>\n",
       "<style scoped>\n",
       "    .dataframe tbody tr th:only-of-type {\n",
       "        vertical-align: middle;\n",
       "    }\n",
       "\n",
       "    .dataframe tbody tr th {\n",
       "        vertical-align: top;\n",
       "    }\n",
       "\n",
       "    .dataframe thead th {\n",
       "        text-align: right;\n",
       "    }\n",
       "</style>\n",
       "<table border=\"1\" class=\"dataframe\">\n",
       "  <thead>\n",
       "    <tr style=\"text-align: right;\">\n",
       "      <th></th>\n",
       "      <th>antecedents</th>\n",
       "      <th>consequents</th>\n",
       "      <th>antecedent support</th>\n",
       "      <th>consequent support</th>\n",
       "      <th>support</th>\n",
       "      <th>confidence</th>\n",
       "      <th>lift</th>\n",
       "      <th>leverage</th>\n",
       "      <th>conviction</th>\n",
       "    </tr>\n",
       "  </thead>\n",
       "  <tbody>\n",
       "    <tr>\n",
       "      <th>133</th>\n",
       "      <td>(fresh herbs, fresh fruits)</td>\n",
       "      <td>(fresh vegetables)</td>\n",
       "      <td>0.070135</td>\n",
       "      <td>0.444360</td>\n",
       "      <td>0.061815</td>\n",
       "      <td>0.881372</td>\n",
       "      <td>1.983463</td>\n",
       "      <td>0.030650</td>\n",
       "      <td>4.683872</td>\n",
       "    </tr>\n",
       "    <tr>\n",
       "      <th>269</th>\n",
       "      <td>(packaged vegetables fruits, yogurt, fresh veg...</td>\n",
       "      <td>(fresh fruits)</td>\n",
       "      <td>0.087995</td>\n",
       "      <td>0.555995</td>\n",
       "      <td>0.076240</td>\n",
       "      <td>0.866413</td>\n",
       "      <td>1.558311</td>\n",
       "      <td>0.027315</td>\n",
       "      <td>3.323711</td>\n",
       "    </tr>\n",
       "    <tr>\n",
       "      <th>248</th>\n",
       "      <td>(packaged vegetables fruits, milk, fresh veget...</td>\n",
       "      <td>(fresh fruits)</td>\n",
       "      <td>0.073075</td>\n",
       "      <td>0.555995</td>\n",
       "      <td>0.062535</td>\n",
       "      <td>0.855765</td>\n",
       "      <td>1.539159</td>\n",
       "      <td>0.021906</td>\n",
       "      <td>3.078336</td>\n",
       "    </tr>\n",
       "    <tr>\n",
       "      <th>58</th>\n",
       "      <td>(fresh herbs)</td>\n",
       "      <td>(fresh vegetables)</td>\n",
       "      <td>0.093005</td>\n",
       "      <td>0.444360</td>\n",
       "      <td>0.078655</td>\n",
       "      <td>0.845707</td>\n",
       "      <td>1.903203</td>\n",
       "      <td>0.037327</td>\n",
       "      <td>3.601205</td>\n",
       "    </tr>\n",
       "    <tr>\n",
       "      <th>258</th>\n",
       "      <td>(packaged vegetables fruits, packaged cheese, ...</td>\n",
       "      <td>(fresh fruits)</td>\n",
       "      <td>0.081970</td>\n",
       "      <td>0.555995</td>\n",
       "      <td>0.068325</td>\n",
       "      <td>0.833537</td>\n",
       "      <td>1.499180</td>\n",
       "      <td>0.022750</td>\n",
       "      <td>2.667284</td>\n",
       "    </tr>\n",
       "  </tbody>\n",
       "</table>\n",
       "</div>"
      ],
      "text/plain": [
       "                                           antecedents         consequents  \\\n",
       "133                        (fresh herbs, fresh fruits)  (fresh vegetables)   \n",
       "269  (packaged vegetables fruits, yogurt, fresh veg...      (fresh fruits)   \n",
       "248  (packaged vegetables fruits, milk, fresh veget...      (fresh fruits)   \n",
       "58                                       (fresh herbs)  (fresh vegetables)   \n",
       "258  (packaged vegetables fruits, packaged cheese, ...      (fresh fruits)   \n",
       "\n",
       "     antecedent support  consequent support   support  confidence      lift  \\\n",
       "133            0.070135            0.444360  0.061815    0.881372  1.983463   \n",
       "269            0.087995            0.555995  0.076240    0.866413  1.558311   \n",
       "248            0.073075            0.555995  0.062535    0.855765  1.539159   \n",
       "58             0.093005            0.444360  0.078655    0.845707  1.903203   \n",
       "258            0.081970            0.555995  0.068325    0.833537  1.499180   \n",
       "\n",
       "     leverage  conviction  \n",
       "133  0.030650    4.683872  \n",
       "269  0.027315    3.323711  \n",
       "248  0.021906    3.078336  \n",
       "58   0.037327    3.601205  \n",
       "258  0.022750    2.667284  "
      ]
     },
     "execution_count": 23,
     "metadata": {},
     "output_type": "execute_result"
    }
   ],
   "source": [
    "#https://deepak6446.medium.com/apriori-algorithm-in-python-recommendation-engine-5ba89bd1a6da\n",
    "\n",
    "# Generate the association rules - by confidence\n",
    "rulesConfidence = association_rules(frequent_itemsets, metric=\"confidence\", min_threshold=0.20)\n",
    "rulesConfidence.sort_values(by='confidence', ascending=False, inplace=True)\n",
    "rulesConfidence.head()"
   ]
  },
  {
   "cell_type": "code",
   "execution_count": 24,
   "metadata": {},
   "outputs": [],
   "source": [
    "def getRecommend(product, n_recommends): \n",
    "    '''Adapt from https://deepak6446.medium.com/apriori-algorithm-in-python-recommendation-engine-5ba89bd1a6da\n",
    "    '''\n",
    "    lookup_rules = rulesConfidence[rulesConfidence['antecedents'].map(lambda x: len(x)==len(product)) & rulesConfidence['consequents'].map(lambda x: len(x)==1)]\n",
    "    product_idx = lookup_rules['antecedents']==frozenset(product)\n",
    "    product_idx &= lookup_rules['lift'] > 1\n",
    "    recommend_list = lookup_rules[product_idx].sort_values('lift',ascending = False)[:n_recommends]['consequents'].reset_index(drop = True)\n",
    "    return recommend_list"
   ]
  },
  {
   "cell_type": "code",
   "execution_count": 25,
   "metadata": {},
   "outputs": [
    {
     "data": {
      "text/plain": [
       "0               (packaged cheese)\n",
       "1                          (milk)\n",
       "2                        (yogurt)\n",
       "3    (packaged vegetables fruits)\n",
       "4              (fresh vegetables)\n",
       "Name: consequents, dtype: object"
      ]
     },
     "execution_count": 25,
     "metadata": {},
     "output_type": "execute_result"
    }
   ],
   "source": [
    "getRecommend(['bread'],5)"
   ]
  },
  {
   "cell_type": "markdown",
   "metadata": {},
   "source": [
    "# Analyse by department"
   ]
  },
  {
   "cell_type": "code",
   "execution_count": 80,
   "metadata": {},
   "outputs": [
    {
     "data": {
      "text/plain": [
       "{'snacks': array(['cookies cakes', 'ice cream toppings', 'energy granola bars',\n",
       "        'chips pretzels', 'crackers', 'popcorn jerky',\n",
       "        'fruit vegetable snacks', 'candy chocolate', 'mint gum',\n",
       "        'nuts seeds dried fruit', 'trail mix snack mix'], dtype=object),\n",
       " 'pantry': array(['spices seasonings', 'marinades meat preparation',\n",
       "        'doughs gelatins bake mixes', 'salad dressing toppings', 'spreads',\n",
       "        'oils vinegars', 'baking supplies decor', 'preserved dips spreads',\n",
       "        'honeys syrups nectars', 'baking ingredients', 'condiments',\n",
       "        'pickled goods olives'], dtype=object),\n",
       " 'beverages': array(['tea', 'juice nectars', 'water seltzer sparkling water',\n",
       "        'refrigerated', 'energy sports drinks', 'coffee', 'soft drinks',\n",
       "        'cocoa drink mixes'], dtype=object),\n",
       " 'frozen': array(['frozen meals', 'frozen produce', 'frozen dessert', 'frozen pizza',\n",
       "        'frozen breads doughs', 'frozen meat seafood', 'ice cream ice',\n",
       "        'frozen appetizers sides', 'frozen breakfast',\n",
       "        'frozen vegan vegetarian', 'frozen juice'], dtype=object),\n",
       " 'personal care': array(['cold flu allergy', 'oral hygiene', 'vitamins supplements',\n",
       "        'body lotions soap', 'hair care', 'protein meal replacements',\n",
       "        'digestion', 'first aid', 'skin care', 'beauty', 'soap',\n",
       "        'facial care', 'feminine care', 'eye ear care', 'deodorants',\n",
       "        'muscles joints pain relief', 'shave needs'], dtype=object),\n",
       " 'dairy eggs': array(['yogurt', 'specialty cheeses', 'packaged cheese',\n",
       "        'other creams cheeses', 'soy lactosefree', 'milk', 'cream',\n",
       "        'butter', 'refrigerated pudding desserts', 'eggs'], dtype=object),\n",
       " 'household': array(['dish detergents', 'more household', 'plates bowls cups flatware',\n",
       "        'kitchen supplies', 'laundry', 'cleaning products', 'food storage',\n",
       "        'air fresheners candles', 'paper goods', 'trash bags liners'],\n",
       "       dtype=object),\n",
       " 'babies': array(['diapers wipes', 'baby food formula', 'baby accessories',\n",
       "        'baby bath body care'], dtype=object),\n",
       " 'meat seafood': array(['poultry counter', 'packaged poultry', 'hot dogs bacon sausage',\n",
       "        'packaged meat', 'meat counter', 'packaged seafood',\n",
       "        'seafood counter'], dtype=object),\n",
       " 'dry goods pasta': array(['grains rice dried goods', 'dry pasta', 'pasta sauce',\n",
       "        'fresh pasta', 'instant foods'], dtype=object),\n",
       " 'pets': array(['dog food care', 'cat food care'], dtype=object),\n",
       " 'breakfast': array(['cereal', 'hot cereal pancake mixes', 'breakfast bars pastries',\n",
       "        'granola'], dtype=object),\n",
       " 'canned goods': array(['canned jarred vegetables', 'soup broth bouillon',\n",
       "        'canned meat seafood', 'canned meals beans',\n",
       "        'canned fruit applesauce'], dtype=object),\n",
       " 'produce': array(['packaged vegetables fruits', 'fresh vegetables', 'fresh fruits',\n",
       "        'fresh herbs', 'packaged produce'], dtype=object),\n",
       " 'missing': array(['missing'], dtype=object),\n",
       " 'international': array(['asian foods', 'kosher foods', 'latino foods', 'indian foods'],\n",
       "       dtype=object),\n",
       " 'deli': array(['tofu meat alternatives', 'lunch meat', 'prepared meals',\n",
       "        'fresh dips tapenades', 'prepared soups salads'], dtype=object),\n",
       " 'alcohol': array(['specialty wines champagnes', 'white wines', 'spirits',\n",
       "        'beers coolers', 'red wines'], dtype=object),\n",
       " 'bakery': array(['tortillas flat bread', 'bread', 'breakfast bakery',\n",
       "        'bakery desserts', 'buns rolls'], dtype=object),\n",
       " 'other': array(['other'], dtype=object),\n",
       " 'bulk': array(['bulk grains rice dried goods', 'bulk dried fruits vegetables'],\n",
       "       dtype=object)}"
      ]
     },
     "execution_count": 80,
     "metadata": {},
     "output_type": "execute_result"
    }
   ],
   "source": [
    "department_dict={}\n",
    "for dept in df_merged['department'].unique():\n",
    "    product_list = df_prod_dept[df_prod_dept['department'] == dept]['product_name'].values\n",
    "    department_dict[dept] = product_list\n",
    "department_dict"
   ]
  },
  {
   "cell_type": "code",
   "execution_count": 137,
   "metadata": {},
   "outputs": [],
   "source": [
    "def getRulesbyDept(df, department, department_dict):\n",
    "    new_df = df[df['product_name'].isin(department_dict[department])].copy()\n",
    "    # Pivot the data - lines as orders and products as columns\n",
    "    pt = pd.pivot_table(new_df, index='order_id', columns='product_name', \n",
    "                        aggfunc=lambda x: 1 if len(x)>0 else 0).fillna(0)\n",
    "    # Apply the APRIORI algorithm to get frequent itemsets\n",
    "    # Rules supported in at least 5% of the transactions (more info at http://rasbt.github.io/mlxtend/user_guide/frequent_patterns/apriori/)\n",
    "    frequent_itemsets = apriori(pt, min_support=0.01, use_colnames=True)\n",
    "    return frequent_itemsets"
   ]
  },
  {
   "cell_type": "code",
   "execution_count": 145,
   "metadata": {},
   "outputs": [],
   "source": [
    "frequent_itemsets = getRulesbyDept(df,'snacks', department_dict)"
   ]
  },
  {
   "cell_type": "code",
   "execution_count": 146,
   "metadata": {},
   "outputs": [
    {
     "data": {
      "text/html": [
       "<div>\n",
       "<style scoped>\n",
       "    .dataframe tbody tr th:only-of-type {\n",
       "        vertical-align: middle;\n",
       "    }\n",
       "\n",
       "    .dataframe tbody tr th {\n",
       "        vertical-align: top;\n",
       "    }\n",
       "\n",
       "    .dataframe thead th {\n",
       "        text-align: right;\n",
       "    }\n",
       "</style>\n",
       "<table border=\"1\" class=\"dataframe\">\n",
       "  <thead>\n",
       "    <tr style=\"text-align: right;\">\n",
       "      <th></th>\n",
       "      <th>antecedents</th>\n",
       "      <th>consequents</th>\n",
       "      <th>antecedent support</th>\n",
       "      <th>consequent support</th>\n",
       "      <th>support</th>\n",
       "      <th>confidence</th>\n",
       "      <th>lift</th>\n",
       "      <th>leverage</th>\n",
       "      <th>conviction</th>\n",
       "    </tr>\n",
       "  </thead>\n",
       "  <tbody>\n",
       "    <tr>\n",
       "      <th>108</th>\n",
       "      <td>(fruit vegetable snacks)</td>\n",
       "      <td>(energy granola bars, chips pretzels)</td>\n",
       "      <td>0.106229</td>\n",
       "      <td>0.060808</td>\n",
       "      <td>0.011491</td>\n",
       "      <td>0.108170</td>\n",
       "      <td>1.778875</td>\n",
       "      <td>0.005031</td>\n",
       "      <td>1.053106</td>\n",
       "    </tr>\n",
       "    <tr>\n",
       "      <th>105</th>\n",
       "      <td>(energy granola bars, chips pretzels)</td>\n",
       "      <td>(fruit vegetable snacks)</td>\n",
       "      <td>0.060808</td>\n",
       "      <td>0.106229</td>\n",
       "      <td>0.011491</td>\n",
       "      <td>0.188969</td>\n",
       "      <td>1.778875</td>\n",
       "      <td>0.005031</td>\n",
       "      <td>1.102018</td>\n",
       "    </tr>\n",
       "    <tr>\n",
       "      <th>107</th>\n",
       "      <td>(energy granola bars)</td>\n",
       "      <td>(fruit vegetable snacks, chips pretzels)</td>\n",
       "      <td>0.199493</td>\n",
       "      <td>0.037077</td>\n",
       "      <td>0.011491</td>\n",
       "      <td>0.057600</td>\n",
       "      <td>1.553519</td>\n",
       "      <td>0.004094</td>\n",
       "      <td>1.021777</td>\n",
       "    </tr>\n",
       "    <tr>\n",
       "      <th>106</th>\n",
       "      <td>(fruit vegetable snacks, chips pretzels)</td>\n",
       "      <td>(energy granola bars)</td>\n",
       "      <td>0.037077</td>\n",
       "      <td>0.199493</td>\n",
       "      <td>0.011491</td>\n",
       "      <td>0.309916</td>\n",
       "      <td>1.553519</td>\n",
       "      <td>0.004094</td>\n",
       "      <td>1.160014</td>\n",
       "    </tr>\n",
       "    <tr>\n",
       "      <th>88</th>\n",
       "      <td>(crackers, chips pretzels)</td>\n",
       "      <td>(fruit vegetable snacks)</td>\n",
       "      <td>0.082130</td>\n",
       "      <td>0.106229</td>\n",
       "      <td>0.012355</td>\n",
       "      <td>0.150435</td>\n",
       "      <td>1.416133</td>\n",
       "      <td>0.003631</td>\n",
       "      <td>1.052033</td>\n",
       "    </tr>\n",
       "    <tr>\n",
       "      <th>89</th>\n",
       "      <td>(fruit vegetable snacks)</td>\n",
       "      <td>(crackers, chips pretzels)</td>\n",
       "      <td>0.106229</td>\n",
       "      <td>0.082130</td>\n",
       "      <td>0.012355</td>\n",
       "      <td>0.116307</td>\n",
       "      <td>1.416133</td>\n",
       "      <td>0.003631</td>\n",
       "      <td>1.038675</td>\n",
       "    </tr>\n",
       "    <tr>\n",
       "      <th>71</th>\n",
       "      <td>(cookies cakes)</td>\n",
       "      <td>(crackers, chips pretzels)</td>\n",
       "      <td>0.137671</td>\n",
       "      <td>0.082130</td>\n",
       "      <td>0.015824</td>\n",
       "      <td>0.114943</td>\n",
       "      <td>1.399533</td>\n",
       "      <td>0.004517</td>\n",
       "      <td>1.037075</td>\n",
       "    </tr>\n",
       "    <tr>\n",
       "      <th>70</th>\n",
       "      <td>(crackers, chips pretzels)</td>\n",
       "      <td>(cookies cakes)</td>\n",
       "      <td>0.082130</td>\n",
       "      <td>0.137671</td>\n",
       "      <td>0.015824</td>\n",
       "      <td>0.192675</td>\n",
       "      <td>1.399533</td>\n",
       "      <td>0.004517</td>\n",
       "      <td>1.068131</td>\n",
       "    </tr>\n",
       "    <tr>\n",
       "      <th>101</th>\n",
       "      <td>(popcorn jerky)</td>\n",
       "      <td>(crackers, chips pretzels)</td>\n",
       "      <td>0.106979</td>\n",
       "      <td>0.082130</td>\n",
       "      <td>0.012079</td>\n",
       "      <td>0.112907</td>\n",
       "      <td>1.374733</td>\n",
       "      <td>0.003292</td>\n",
       "      <td>1.034694</td>\n",
       "    </tr>\n",
       "    <tr>\n",
       "      <th>100</th>\n",
       "      <td>(crackers, chips pretzels)</td>\n",
       "      <td>(popcorn jerky)</td>\n",
       "      <td>0.082130</td>\n",
       "      <td>0.106979</td>\n",
       "      <td>0.012079</td>\n",
       "      <td>0.147067</td>\n",
       "      <td>1.374733</td>\n",
       "      <td>0.003292</td>\n",
       "      <td>1.047001</td>\n",
       "    </tr>\n",
       "  </tbody>\n",
       "</table>\n",
       "</div>"
      ],
      "text/plain": [
       "                                  antecedents  \\\n",
       "108                  (fruit vegetable snacks)   \n",
       "105     (energy granola bars, chips pretzels)   \n",
       "107                     (energy granola bars)   \n",
       "106  (fruit vegetable snacks, chips pretzels)   \n",
       "88                 (crackers, chips pretzels)   \n",
       "89                   (fruit vegetable snacks)   \n",
       "71                            (cookies cakes)   \n",
       "70                 (crackers, chips pretzels)   \n",
       "101                           (popcorn jerky)   \n",
       "100                (crackers, chips pretzels)   \n",
       "\n",
       "                                  consequents  antecedent support  \\\n",
       "108     (energy granola bars, chips pretzels)            0.106229   \n",
       "105                  (fruit vegetable snacks)            0.060808   \n",
       "107  (fruit vegetable snacks, chips pretzels)            0.199493   \n",
       "106                     (energy granola bars)            0.037077   \n",
       "88                   (fruit vegetable snacks)            0.082130   \n",
       "89                 (crackers, chips pretzels)            0.106229   \n",
       "71                 (crackers, chips pretzels)            0.137671   \n",
       "70                            (cookies cakes)            0.082130   \n",
       "101                (crackers, chips pretzels)            0.106979   \n",
       "100                           (popcorn jerky)            0.082130   \n",
       "\n",
       "     consequent support   support  confidence      lift  leverage  conviction  \n",
       "108            0.060808  0.011491    0.108170  1.778875  0.005031    1.053106  \n",
       "105            0.106229  0.011491    0.188969  1.778875  0.005031    1.102018  \n",
       "107            0.037077  0.011491    0.057600  1.553519  0.004094    1.021777  \n",
       "106            0.199493  0.011491    0.309916  1.553519  0.004094    1.160014  \n",
       "88             0.106229  0.012355    0.150435  1.416133  0.003631    1.052033  \n",
       "89             0.082130  0.012355    0.116307  1.416133  0.003631    1.038675  \n",
       "71             0.082130  0.015824    0.114943  1.399533  0.004517    1.037075  \n",
       "70             0.137671  0.015824    0.192675  1.399533  0.004517    1.068131  \n",
       "101            0.082130  0.012079    0.112907  1.374733  0.003292    1.034694  \n",
       "100            0.106979  0.012079    0.147067  1.374733  0.003292    1.047001  "
      ]
     },
     "execution_count": 146,
     "metadata": {},
     "output_type": "execute_result"
    }
   ],
   "source": [
    "#https://deepak6446.medium.com/apriori-algorithm-in-python-recommendation-engine-5ba89bd1a6da\n",
    "# Generate the association rules - by confidence\n",
    "rulesConfidence = association_rules(frequent_itemsets, metric=\"confidence\", min_threshold=0.01)\n",
    "rulesConfidence.sort_values(by='lift', ascending=False, inplace=True)\n",
    "rulesConfidence.head(10)"
   ]
  },
  {
   "cell_type": "code",
   "execution_count": null,
   "metadata": {},
   "outputs": [],
   "source": []
  }
 ],
 "metadata": {
  "kernelspec": {
   "display_name": "Python 3",
   "language": "python",
   "name": "python3"
  },
  "language_info": {
   "codemirror_mode": {
    "name": "ipython",
    "version": 3
   },
   "file_extension": ".py",
   "mimetype": "text/x-python",
   "name": "python",
   "nbconvert_exporter": "python",
   "pygments_lexer": "ipython3",
   "version": "3.8.5"
  }
 },
 "nbformat": 4,
 "nbformat_minor": 4
}
