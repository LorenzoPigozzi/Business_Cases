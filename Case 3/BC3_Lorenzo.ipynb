{
 "cells": [
  {
   "cell_type": "markdown",
   "metadata": {},
   "source": [
    "# Business Case 3\n",
    "\n",
    "Group members:\n",
    "- Lorenzo Pigozzi\t--- m20200745\n",
    "- Nguyen Huy Phuc\t--- m20200566\n",
    "- Ema Mandura\t  --- m20200647\n",
    "\n",
    "\n",
    "## Market Basket Analysis"
   ]
  },
  {
   "cell_type": "markdown",
   "metadata": {},
   "source": [
    "Objectives\n",
    "\n",
    "\n",
    "- What are the main types of consumer behavior in the business?\n",
    "- Which types of products should have an extended amount of product offerings?\n",
    "- Which types of products can be seen as substitutes?\n",
    "- Which items are complementary?"
   ]
  },
  {
   "cell_type": "markdown",
   "metadata": {},
   "source": [
    "<a class=\"anchor\" id=\"0.1\"></a>\n",
    "# **Table of Contents**\n",
    "\n",
    "1.\t[Importing data and libraries](#1)   \n",
    "2.\t[Exploratory data analysis (EDA)](#2)       "
   ]
  },
  {
   "cell_type": "markdown",
   "metadata": {},
   "source": [
    "# 1. Importing data and libraries <a class=\"anchor\" id=\"1\"></a>"
   ]
  },
  {
   "cell_type": "code",
   "execution_count": 110,
   "metadata": {},
   "outputs": [],
   "source": [
    "# Import packages\n",
    "import pandas as pd\n",
    "import numpy as np\n",
    "import datetime as dt\n",
    "from mlxtend.frequent_patterns import apriori\n",
    "from mlxtend.frequent_patterns import association_rules\n",
    "import matplotlib.pyplot as plt\n",
    "import networkx as nx\n",
    "import seaborn as sns\n",
    "\n",
    "import plotly.express as px\n",
    "import plotly.graph_objects as go"
   ]
  },
  {
   "cell_type": "code",
   "execution_count": 111,
   "metadata": {},
   "outputs": [],
   "source": [
    "# importing the 4 datasets\n",
    "products = pd.read_csv('datasets/products.csv')\n",
    "departments = pd.read_csv('datasets/departments.csv')\n",
    "orders = pd.read_csv('datasets/orders.csv')\n",
    "order_products = pd.read_csv('datasets/order_products.csv')"
   ]
  },
  {
   "cell_type": "code",
   "execution_count": 112,
   "metadata": {},
   "outputs": [],
   "source": [
    "# renaming a column in 'departments'\n",
    "departments.columns = ['department_id', 'department_name']\n",
    "\n",
    "# merging the different datasets in one\n",
    "product_departments = pd.merge(products, departments, how='left', on='department_id').\\\n",
    "                        drop([\"department_id\"], axis=1)\n",
    "\n",
    "order_product_departments = pd.merge(order_products, product_departments, how='left', on='product_id').\\\n",
    "                        drop([\"product_id\"], axis=1)\n",
    "\n",
    "df = pd.merge(order_product_departments, orders, how='left', on='order_id')"
   ]
  },
  {
   "cell_type": "markdown",
   "metadata": {},
   "source": [
    "# 2. EDA <a class=\"anchor\" id=\"2\"></a>"
   ]
  },
  {
   "cell_type": "code",
   "execution_count": 113,
   "metadata": {},
   "outputs": [
    {
     "data": {
      "text/html": [
       "<div>\n",
       "<style scoped>\n",
       "    .dataframe tbody tr th:only-of-type {\n",
       "        vertical-align: middle;\n",
       "    }\n",
       "\n",
       "    .dataframe tbody tr th {\n",
       "        vertical-align: top;\n",
       "    }\n",
       "\n",
       "    .dataframe thead th {\n",
       "        text-align: right;\n",
       "    }\n",
       "</style>\n",
       "<table border=\"1\" class=\"dataframe\">\n",
       "  <thead>\n",
       "    <tr style=\"text-align: right;\">\n",
       "      <th></th>\n",
       "      <th>order_id</th>\n",
       "      <th>add_to_cart_order</th>\n",
       "      <th>reordered</th>\n",
       "      <th>product_name</th>\n",
       "      <th>department_name</th>\n",
       "      <th>user_id</th>\n",
       "      <th>order_number</th>\n",
       "      <th>order_dow</th>\n",
       "      <th>order_hour_of_day</th>\n",
       "      <th>days_since_prior_order</th>\n",
       "    </tr>\n",
       "  </thead>\n",
       "  <tbody>\n",
       "    <tr>\n",
       "      <th>0</th>\n",
       "      <td>10</td>\n",
       "      <td>1</td>\n",
       "      <td>1</td>\n",
       "      <td>fresh fruits</td>\n",
       "      <td>produce</td>\n",
       "      <td>135442</td>\n",
       "      <td>4</td>\n",
       "      <td>6</td>\n",
       "      <td>8</td>\n",
       "      <td>8.0</td>\n",
       "    </tr>\n",
       "    <tr>\n",
       "      <th>1</th>\n",
       "      <td>10</td>\n",
       "      <td>2</td>\n",
       "      <td>1</td>\n",
       "      <td>fresh vegetables</td>\n",
       "      <td>produce</td>\n",
       "      <td>135442</td>\n",
       "      <td>4</td>\n",
       "      <td>6</td>\n",
       "      <td>8</td>\n",
       "      <td>8.0</td>\n",
       "    </tr>\n",
       "    <tr>\n",
       "      <th>2</th>\n",
       "      <td>10</td>\n",
       "      <td>3</td>\n",
       "      <td>0</td>\n",
       "      <td>fresh herbs</td>\n",
       "      <td>produce</td>\n",
       "      <td>135442</td>\n",
       "      <td>4</td>\n",
       "      <td>6</td>\n",
       "      <td>8</td>\n",
       "      <td>8.0</td>\n",
       "    </tr>\n",
       "    <tr>\n",
       "      <th>3</th>\n",
       "      <td>10</td>\n",
       "      <td>4</td>\n",
       "      <td>1</td>\n",
       "      <td>fresh fruits</td>\n",
       "      <td>produce</td>\n",
       "      <td>135442</td>\n",
       "      <td>4</td>\n",
       "      <td>6</td>\n",
       "      <td>8</td>\n",
       "      <td>8.0</td>\n",
       "    </tr>\n",
       "    <tr>\n",
       "      <th>4</th>\n",
       "      <td>10</td>\n",
       "      <td>5</td>\n",
       "      <td>1</td>\n",
       "      <td>fresh vegetables</td>\n",
       "      <td>produce</td>\n",
       "      <td>135442</td>\n",
       "      <td>4</td>\n",
       "      <td>6</td>\n",
       "      <td>8</td>\n",
       "      <td>8.0</td>\n",
       "    </tr>\n",
       "  </tbody>\n",
       "</table>\n",
       "</div>"
      ],
      "text/plain": [
       "   order_id  add_to_cart_order  reordered      product_name department_name  \\\n",
       "0        10                  1          1      fresh fruits         produce   \n",
       "1        10                  2          1  fresh vegetables         produce   \n",
       "2        10                  3          0       fresh herbs         produce   \n",
       "3        10                  4          1      fresh fruits         produce   \n",
       "4        10                  5          1  fresh vegetables         produce   \n",
       "\n",
       "   user_id  order_number  order_dow  order_hour_of_day  days_since_prior_order  \n",
       "0   135442             4          6                  8                     8.0  \n",
       "1   135442             4          6                  8                     8.0  \n",
       "2   135442             4          6                  8                     8.0  \n",
       "3   135442             4          6                  8                     8.0  \n",
       "4   135442             4          6                  8                     8.0  "
      ]
     },
     "execution_count": 113,
     "metadata": {},
     "output_type": "execute_result"
    }
   ],
   "source": [
    "df.head(5)"
   ]
  },
  {
   "cell_type": "code",
   "execution_count": 114,
   "metadata": {},
   "outputs": [
    {
     "name": "stdout",
     "output_type": "stream",
     "text": [
      "<class 'pandas.core.frame.DataFrame'>\n",
      "Int64Index: 2019501 entries, 0 to 2019500\n",
      "Data columns (total 10 columns):\n",
      " #   Column                  Dtype  \n",
      "---  ------                  -----  \n",
      " 0   order_id                int64  \n",
      " 1   add_to_cart_order       int64  \n",
      " 2   reordered               int64  \n",
      " 3   product_name            object \n",
      " 4   department_name         object \n",
      " 5   user_id                 int64  \n",
      " 6   order_number            int64  \n",
      " 7   order_dow               int64  \n",
      " 8   order_hour_of_day       int64  \n",
      " 9   days_since_prior_order  float64\n",
      "dtypes: float64(1), int64(7), object(2)\n",
      "memory usage: 169.5+ MB\n"
     ]
    }
   ],
   "source": [
    "df.info()"
   ]
  },
  {
   "cell_type": "code",
   "execution_count": 115,
   "metadata": {
    "scrolled": true
   },
   "outputs": [
    {
     "data": {
      "text/html": [
       "<div>\n",
       "<style scoped>\n",
       "    .dataframe tbody tr th:only-of-type {\n",
       "        vertical-align: middle;\n",
       "    }\n",
       "\n",
       "    .dataframe tbody tr th {\n",
       "        vertical-align: top;\n",
       "    }\n",
       "\n",
       "    .dataframe thead th {\n",
       "        text-align: right;\n",
       "    }\n",
       "</style>\n",
       "<table border=\"1\" class=\"dataframe\">\n",
       "  <thead>\n",
       "    <tr style=\"text-align: right;\">\n",
       "      <th></th>\n",
       "      <th>count</th>\n",
       "      <th>unique</th>\n",
       "      <th>top</th>\n",
       "      <th>freq</th>\n",
       "      <th>mean</th>\n",
       "      <th>std</th>\n",
       "      <th>min</th>\n",
       "      <th>25%</th>\n",
       "      <th>50%</th>\n",
       "      <th>75%</th>\n",
       "      <th>max</th>\n",
       "    </tr>\n",
       "  </thead>\n",
       "  <tbody>\n",
       "    <tr>\n",
       "      <th>order_id</th>\n",
       "      <td>2.0195e+06</td>\n",
       "      <td>NaN</td>\n",
       "      <td>NaN</td>\n",
       "      <td>NaN</td>\n",
       "      <td>1.70701e+06</td>\n",
       "      <td>985983</td>\n",
       "      <td>10</td>\n",
       "      <td>852649</td>\n",
       "      <td>1.705e+06</td>\n",
       "      <td>2.55903e+06</td>\n",
       "      <td>3.42108e+06</td>\n",
       "    </tr>\n",
       "    <tr>\n",
       "      <th>add_to_cart_order</th>\n",
       "      <td>2.0195e+06</td>\n",
       "      <td>NaN</td>\n",
       "      <td>NaN</td>\n",
       "      <td>NaN</td>\n",
       "      <td>8.36317</td>\n",
       "      <td>7.15006</td>\n",
       "      <td>1</td>\n",
       "      <td>3</td>\n",
       "      <td>6</td>\n",
       "      <td>11</td>\n",
       "      <td>137</td>\n",
       "    </tr>\n",
       "    <tr>\n",
       "      <th>reordered</th>\n",
       "      <td>2.0195e+06</td>\n",
       "      <td>NaN</td>\n",
       "      <td>NaN</td>\n",
       "      <td>NaN</td>\n",
       "      <td>0.589743</td>\n",
       "      <td>0.49188</td>\n",
       "      <td>0</td>\n",
       "      <td>0</td>\n",
       "      <td>1</td>\n",
       "      <td>1</td>\n",
       "      <td>1</td>\n",
       "    </tr>\n",
       "    <tr>\n",
       "      <th>product_name</th>\n",
       "      <td>2019501</td>\n",
       "      <td>134</td>\n",
       "      <td>fresh fruits</td>\n",
       "      <td>226039</td>\n",
       "      <td>NaN</td>\n",
       "      <td>NaN</td>\n",
       "      <td>NaN</td>\n",
       "      <td>NaN</td>\n",
       "      <td>NaN</td>\n",
       "      <td>NaN</td>\n",
       "      <td>NaN</td>\n",
       "    </tr>\n",
       "    <tr>\n",
       "      <th>department_name</th>\n",
       "      <td>2019501</td>\n",
       "      <td>21</td>\n",
       "      <td>produce</td>\n",
       "      <td>588996</td>\n",
       "      <td>NaN</td>\n",
       "      <td>NaN</td>\n",
       "      <td>NaN</td>\n",
       "      <td>NaN</td>\n",
       "      <td>NaN</td>\n",
       "      <td>NaN</td>\n",
       "      <td>NaN</td>\n",
       "    </tr>\n",
       "    <tr>\n",
       "      <th>user_id</th>\n",
       "      <td>2.0195e+06</td>\n",
       "      <td>NaN</td>\n",
       "      <td>NaN</td>\n",
       "      <td>NaN</td>\n",
       "      <td>103067</td>\n",
       "      <td>59491.2</td>\n",
       "      <td>2</td>\n",
       "      <td>51584</td>\n",
       "      <td>102690</td>\n",
       "      <td>154600</td>\n",
       "      <td>206209</td>\n",
       "    </tr>\n",
       "    <tr>\n",
       "      <th>order_number</th>\n",
       "      <td>2.0195e+06</td>\n",
       "      <td>NaN</td>\n",
       "      <td>NaN</td>\n",
       "      <td>NaN</td>\n",
       "      <td>17.1514</td>\n",
       "      <td>17.5258</td>\n",
       "      <td>1</td>\n",
       "      <td>5</td>\n",
       "      <td>11</td>\n",
       "      <td>24</td>\n",
       "      <td>100</td>\n",
       "    </tr>\n",
       "    <tr>\n",
       "      <th>order_dow</th>\n",
       "      <td>2.0195e+06</td>\n",
       "      <td>NaN</td>\n",
       "      <td>NaN</td>\n",
       "      <td>NaN</td>\n",
       "      <td>2.73537</td>\n",
       "      <td>2.09388</td>\n",
       "      <td>0</td>\n",
       "      <td>1</td>\n",
       "      <td>3</td>\n",
       "      <td>5</td>\n",
       "      <td>6</td>\n",
       "    </tr>\n",
       "    <tr>\n",
       "      <th>order_hour_of_day</th>\n",
       "      <td>2.0195e+06</td>\n",
       "      <td>NaN</td>\n",
       "      <td>NaN</td>\n",
       "      <td>NaN</td>\n",
       "      <td>13.4395</td>\n",
       "      <td>4.24101</td>\n",
       "      <td>0</td>\n",
       "      <td>10</td>\n",
       "      <td>13</td>\n",
       "      <td>16</td>\n",
       "      <td>23</td>\n",
       "    </tr>\n",
       "    <tr>\n",
       "      <th>days_since_prior_order</th>\n",
       "      <td>1.89516e+06</td>\n",
       "      <td>NaN</td>\n",
       "      <td>NaN</td>\n",
       "      <td>NaN</td>\n",
       "      <td>11.386</td>\n",
       "      <td>8.97098</td>\n",
       "      <td>0</td>\n",
       "      <td>5</td>\n",
       "      <td>8</td>\n",
       "      <td>15</td>\n",
       "      <td>30</td>\n",
       "    </tr>\n",
       "  </tbody>\n",
       "</table>\n",
       "</div>"
      ],
      "text/plain": [
       "                              count unique           top    freq         mean  \\\n",
       "order_id                 2.0195e+06    NaN           NaN     NaN  1.70701e+06   \n",
       "add_to_cart_order        2.0195e+06    NaN           NaN     NaN      8.36317   \n",
       "reordered                2.0195e+06    NaN           NaN     NaN     0.589743   \n",
       "product_name                2019501    134  fresh fruits  226039          NaN   \n",
       "department_name             2019501     21       produce  588996          NaN   \n",
       "user_id                  2.0195e+06    NaN           NaN     NaN       103067   \n",
       "order_number             2.0195e+06    NaN           NaN     NaN      17.1514   \n",
       "order_dow                2.0195e+06    NaN           NaN     NaN      2.73537   \n",
       "order_hour_of_day        2.0195e+06    NaN           NaN     NaN      13.4395   \n",
       "days_since_prior_order  1.89516e+06    NaN           NaN     NaN       11.386   \n",
       "\n",
       "                            std  min     25%        50%          75%  \\\n",
       "order_id                 985983   10  852649  1.705e+06  2.55903e+06   \n",
       "add_to_cart_order       7.15006    1       3          6           11   \n",
       "reordered               0.49188    0       0          1            1   \n",
       "product_name                NaN  NaN     NaN        NaN          NaN   \n",
       "department_name             NaN  NaN     NaN        NaN          NaN   \n",
       "user_id                 59491.2    2   51584     102690       154600   \n",
       "order_number            17.5258    1       5         11           24   \n",
       "order_dow               2.09388    0       1          3            5   \n",
       "order_hour_of_day       4.24101    0      10         13           16   \n",
       "days_since_prior_order  8.97098    0       5          8           15   \n",
       "\n",
       "                                max  \n",
       "order_id                3.42108e+06  \n",
       "add_to_cart_order               137  \n",
       "reordered                         1  \n",
       "product_name                    NaN  \n",
       "department_name                 NaN  \n",
       "user_id                      206209  \n",
       "order_number                    100  \n",
       "order_dow                         6  \n",
       "order_hour_of_day                23  \n",
       "days_since_prior_order           30  "
      ]
     },
     "execution_count": 115,
     "metadata": {},
     "output_type": "execute_result"
    }
   ],
   "source": [
    "df.describe(include='all').T"
   ]
  },
  {
   "cell_type": "code",
   "execution_count": 116,
   "metadata": {},
   "outputs": [
    {
     "data": {
      "text/plain": [
       "order_id                       0\n",
       "add_to_cart_order              0\n",
       "reordered                      0\n",
       "product_name                   0\n",
       "department_name                0\n",
       "user_id                        0\n",
       "order_number                   0\n",
       "order_dow                      0\n",
       "order_hour_of_day              0\n",
       "days_since_prior_order    124342\n",
       "dtype: int64"
      ]
     },
     "execution_count": 116,
     "metadata": {},
     "output_type": "execute_result"
    }
   ],
   "source": [
    "df.isna().sum()"
   ]
  },
  {
   "cell_type": "code",
   "execution_count": 117,
   "metadata": {},
   "outputs": [
    {
     "data": {
      "text/plain": [
       "(2019501, 10)"
      ]
     },
     "execution_count": 117,
     "metadata": {},
     "output_type": "execute_result"
    }
   ],
   "source": [
    "df.shape"
   ]
  },
  {
   "cell_type": "code",
   "execution_count": 118,
   "metadata": {},
   "outputs": [
    {
     "data": {
      "text/plain": [
       "(2019501, 4)"
      ]
     },
     "execution_count": 118,
     "metadata": {},
     "output_type": "execute_result"
    }
   ],
   "source": [
    "order_products.shape"
   ]
  },
  {
   "cell_type": "code",
   "execution_count": 119,
   "metadata": {},
   "outputs": [
    {
     "data": {
      "text/plain": [
       "(200000, 6)"
      ]
     },
     "execution_count": 119,
     "metadata": {},
     "output_type": "execute_result"
    }
   ],
   "source": [
    "orders.shape"
   ]
  },
  {
   "cell_type": "markdown",
   "metadata": {},
   "source": [
    "First of all, it's important to keep in mind what each row of the dataset represents. Indeed, the id is a combination of the product_id and the order_id.\\\n",
    "Thus, in the dataset are stored 2019501 products sold."
   ]
  },
  {
   "cell_type": "code",
   "execution_count": 120,
   "metadata": {},
   "outputs": [
    {
     "data": {
      "text/plain": [
       "790903     137\n",
       "2621625    109\n",
       "416346     100\n",
       "1031566     95\n",
       "1930316     93\n",
       "          ... \n",
       "1656968      1\n",
       "1011835      1\n",
       "2220793      1\n",
       "9773         1\n",
       "3084549      1\n",
       "Name: order_id, Length: 200000, dtype: int64"
      ]
     },
     "execution_count": 120,
     "metadata": {},
     "output_type": "execute_result"
    }
   ],
   "source": [
    "df['order_id'].value_counts()"
   ]
  },
  {
   "cell_type": "code",
   "execution_count": 121,
   "metadata": {},
   "outputs": [
    {
     "data": {
      "text/plain": [
       "176478    460\n",
       "129928    405\n",
       "126305    384\n",
       "201268    347\n",
       "115495    283\n",
       "         ... \n",
       "52650       1\n",
       "166234      1\n",
       "42637       1\n",
       "81520       1\n",
       "57078       1\n",
       "Name: user_id, Length: 105273, dtype: int64"
      ]
     },
     "execution_count": 121,
     "metadata": {},
     "output_type": "execute_result"
    }
   ],
   "source": [
    "df['user_id'].value_counts()"
   ]
  },
  {
   "cell_type": "code",
   "execution_count": 122,
   "metadata": {},
   "outputs": [
    {
     "name": "stdout",
     "output_type": "stream",
     "text": [
      "Summary\n",
      "--------------------------------------------------------\n",
      "Total number of products bought :  2019501\n",
      "Total number of orders :  200000\n",
      "Total number of customers :  105273\n",
      "---------------------------------------------------------\n",
      "Number of customer with more than one order :  94727\n",
      "Average number of products for each order :  10.097505\n"
     ]
    }
   ],
   "source": [
    "print('Summary')\n",
    "print('--------------------------------------------------------')\n",
    "print('Total number of products bought : ', len(df))\n",
    "print('Total number of orders : ', len(df['order_id'].unique()))\n",
    "print('Total number of customers : ', len(df['user_id'].unique()))\n",
    "print('---------------------------------------------------------')\n",
    "print('Number of customer with more than one order : ',\n",
    "    len(df['order_id'].unique()) - len(df['user_id'].unique()))\n",
    "print('Average number of products for each order : ', \n",
    "      len(df) / len(df['order_id'].unique()))"
   ]
  },
  {
   "cell_type": "markdown",
   "metadata": {},
   "source": [
    "Notes:\n",
    "- Total number of products bought: 2019501\n",
    "- Total number of orders:  200000\n",
    "- Total number of customers: 105273\n",
    "\n",
    "- Number of customers whith more than one order: 94727\n",
    "- Average number of products for each order : 10"
   ]
  },
  {
   "cell_type": "code",
   "execution_count": 123,
   "metadata": {},
   "outputs": [
    {
     "data": {
      "text/plain": [
       "12254"
      ]
     },
     "execution_count": 123,
     "metadata": {},
     "output_type": "execute_result"
    }
   ],
   "source": [
    "orders['days_since_prior_order'].isna().sum()"
   ]
  },
  {
   "cell_type": "markdown",
   "metadata": {},
   "source": [
    "## Analysis of the product offerings\n",
    "Question : Which types of products should have an extended amount of product offerings?"
   ]
  },
  {
   "cell_type": "code",
   "execution_count": 124,
   "metadata": {
    "scrolled": false
   },
   "outputs": [
    {
     "data": {
      "application/vnd.plotly.v1+json": {
       "config": {
        "plotlyServerURL": "https://plot.ly"
       },
       "data": [
        {
         "alignmentgroup": "True",
         "hovertemplate": "product_name=%{y}<br>value=%{x}<extra></extra>",
         "legendgroup": "fresh fruits",
         "marker": {
          "color": "rgb(133, 92, 117)"
         },
         "name": "fresh fruits",
         "offsetgroup": "fresh fruits",
         "orientation": "h",
         "showlegend": true,
         "textposition": "auto",
         "type": "bar",
         "x": [
          226039
         ],
         "xaxis": "x",
         "y": [
          "fresh fruits"
         ],
         "yaxis": "y"
        },
        {
         "alignmentgroup": "True",
         "hovertemplate": "product_name=%{y}<br>value=%{x}<extra></extra>",
         "legendgroup": "fresh vegetables",
         "marker": {
          "color": "rgb(217, 175, 107)"
         },
         "name": "fresh vegetables",
         "offsetgroup": "fresh vegetables",
         "orientation": "h",
         "showlegend": true,
         "textposition": "auto",
         "type": "bar",
         "x": [
          212611
         ],
         "xaxis": "x",
         "y": [
          "fresh vegetables"
         ],
         "yaxis": "y"
        },
        {
         "alignmentgroup": "True",
         "hovertemplate": "product_name=%{y}<br>value=%{x}<extra></extra>",
         "legendgroup": "packaged vegetables fruits",
         "marker": {
          "color": "rgb(175, 100, 88)"
         },
         "name": "packaged vegetables fruits",
         "offsetgroup": "packaged vegetables fruits",
         "orientation": "h",
         "showlegend": true,
         "textposition": "auto",
         "type": "bar",
         "x": [
          109596
         ],
         "xaxis": "x",
         "y": [
          "packaged vegetables fruits"
         ],
         "yaxis": "y"
        },
        {
         "alignmentgroup": "True",
         "hovertemplate": "product_name=%{y}<br>value=%{x}<extra></extra>",
         "legendgroup": "yogurt",
         "marker": {
          "color": "rgb(115, 111, 76)"
         },
         "name": "yogurt",
         "offsetgroup": "yogurt",
         "orientation": "h",
         "showlegend": true,
         "textposition": "auto",
         "type": "bar",
         "x": [
          90751
         ],
         "xaxis": "x",
         "y": [
          "yogurt"
         ],
         "yaxis": "y"
        },
        {
         "alignmentgroup": "True",
         "hovertemplate": "product_name=%{y}<br>value=%{x}<extra></extra>",
         "legendgroup": "packaged cheese",
         "marker": {
          "color": "rgb(82, 106, 131)"
         },
         "name": "packaged cheese",
         "offsetgroup": "packaged cheese",
         "orientation": "h",
         "showlegend": true,
         "textposition": "auto",
         "type": "bar",
         "x": [
          61502
         ],
         "xaxis": "x",
         "y": [
          "packaged cheese"
         ],
         "yaxis": "y"
        },
        {
         "alignmentgroup": "True",
         "hovertemplate": "product_name=%{y}<br>value=%{x}<extra></extra>",
         "legendgroup": "milk",
         "marker": {
          "color": "rgb(98, 83, 119)"
         },
         "name": "milk",
         "offsetgroup": "milk",
         "orientation": "h",
         "showlegend": true,
         "textposition": "auto",
         "type": "bar",
         "x": [
          55150
         ],
         "xaxis": "x",
         "y": [
          "milk"
         ],
         "yaxis": "y"
        },
        {
         "alignmentgroup": "True",
         "hovertemplate": "product_name=%{y}<br>value=%{x}<extra></extra>",
         "legendgroup": "water seltzer sparkling water",
         "marker": {
          "color": "rgb(104, 133, 92)"
         },
         "name": "water seltzer sparkling water",
         "offsetgroup": "water seltzer sparkling water",
         "orientation": "h",
         "showlegend": true,
         "textposition": "auto",
         "type": "bar",
         "x": [
          52564
         ],
         "xaxis": "x",
         "y": [
          "water seltzer sparkling water"
         ],
         "yaxis": "y"
        },
        {
         "alignmentgroup": "True",
         "hovertemplate": "product_name=%{y}<br>value=%{x}<extra></extra>",
         "legendgroup": "chips pretzels",
         "marker": {
          "color": "rgb(156, 156, 94)"
         },
         "name": "chips pretzels",
         "offsetgroup": "chips pretzels",
         "orientation": "h",
         "showlegend": true,
         "textposition": "auto",
         "type": "bar",
         "x": [
          45306
         ],
         "xaxis": "x",
         "y": [
          "chips pretzels"
         ],
         "yaxis": "y"
        },
        {
         "alignmentgroup": "True",
         "hovertemplate": "product_name=%{y}<br>value=%{x}<extra></extra>",
         "legendgroup": "soy lactosefree",
         "marker": {
          "color": "rgb(160, 97, 119)"
         },
         "name": "soy lactosefree",
         "offsetgroup": "soy lactosefree",
         "orientation": "h",
         "showlegend": true,
         "textposition": "auto",
         "type": "bar",
         "x": [
          39389
         ],
         "xaxis": "x",
         "y": [
          "soy lactosefree"
         ],
         "yaxis": "y"
        },
        {
         "alignmentgroup": "True",
         "hovertemplate": "product_name=%{y}<br>value=%{x}<extra></extra>",
         "legendgroup": "bread",
         "marker": {
          "color": "rgb(140, 120, 93)"
         },
         "name": "bread",
         "offsetgroup": "bread",
         "orientation": "h",
         "showlegend": true,
         "textposition": "auto",
         "type": "bar",
         "x": [
          36381
         ],
         "xaxis": "x",
         "y": [
          "bread"
         ],
         "yaxis": "y"
        }
       ],
       "layout": {
        "barmode": "relative",
        "legend": {
         "title": {
          "text": "product_name"
         },
         "tracegroupgap": 0
        },
        "template": {
         "data": {
          "bar": [
           {
            "error_x": {
             "color": "#2a3f5f"
            },
            "error_y": {
             "color": "#2a3f5f"
            },
            "marker": {
             "line": {
              "color": "#E5ECF6",
              "width": 0.5
             }
            },
            "type": "bar"
           }
          ],
          "barpolar": [
           {
            "marker": {
             "line": {
              "color": "#E5ECF6",
              "width": 0.5
             }
            },
            "type": "barpolar"
           }
          ],
          "carpet": [
           {
            "aaxis": {
             "endlinecolor": "#2a3f5f",
             "gridcolor": "white",
             "linecolor": "white",
             "minorgridcolor": "white",
             "startlinecolor": "#2a3f5f"
            },
            "baxis": {
             "endlinecolor": "#2a3f5f",
             "gridcolor": "white",
             "linecolor": "white",
             "minorgridcolor": "white",
             "startlinecolor": "#2a3f5f"
            },
            "type": "carpet"
           }
          ],
          "choropleth": [
           {
            "colorbar": {
             "outlinewidth": 0,
             "ticks": ""
            },
            "type": "choropleth"
           }
          ],
          "contour": [
           {
            "colorbar": {
             "outlinewidth": 0,
             "ticks": ""
            },
            "colorscale": [
             [
              0,
              "#0d0887"
             ],
             [
              0.1111111111111111,
              "#46039f"
             ],
             [
              0.2222222222222222,
              "#7201a8"
             ],
             [
              0.3333333333333333,
              "#9c179e"
             ],
             [
              0.4444444444444444,
              "#bd3786"
             ],
             [
              0.5555555555555556,
              "#d8576b"
             ],
             [
              0.6666666666666666,
              "#ed7953"
             ],
             [
              0.7777777777777778,
              "#fb9f3a"
             ],
             [
              0.8888888888888888,
              "#fdca26"
             ],
             [
              1,
              "#f0f921"
             ]
            ],
            "type": "contour"
           }
          ],
          "contourcarpet": [
           {
            "colorbar": {
             "outlinewidth": 0,
             "ticks": ""
            },
            "type": "contourcarpet"
           }
          ],
          "heatmap": [
           {
            "colorbar": {
             "outlinewidth": 0,
             "ticks": ""
            },
            "colorscale": [
             [
              0,
              "#0d0887"
             ],
             [
              0.1111111111111111,
              "#46039f"
             ],
             [
              0.2222222222222222,
              "#7201a8"
             ],
             [
              0.3333333333333333,
              "#9c179e"
             ],
             [
              0.4444444444444444,
              "#bd3786"
             ],
             [
              0.5555555555555556,
              "#d8576b"
             ],
             [
              0.6666666666666666,
              "#ed7953"
             ],
             [
              0.7777777777777778,
              "#fb9f3a"
             ],
             [
              0.8888888888888888,
              "#fdca26"
             ],
             [
              1,
              "#f0f921"
             ]
            ],
            "type": "heatmap"
           }
          ],
          "heatmapgl": [
           {
            "colorbar": {
             "outlinewidth": 0,
             "ticks": ""
            },
            "colorscale": [
             [
              0,
              "#0d0887"
             ],
             [
              0.1111111111111111,
              "#46039f"
             ],
             [
              0.2222222222222222,
              "#7201a8"
             ],
             [
              0.3333333333333333,
              "#9c179e"
             ],
             [
              0.4444444444444444,
              "#bd3786"
             ],
             [
              0.5555555555555556,
              "#d8576b"
             ],
             [
              0.6666666666666666,
              "#ed7953"
             ],
             [
              0.7777777777777778,
              "#fb9f3a"
             ],
             [
              0.8888888888888888,
              "#fdca26"
             ],
             [
              1,
              "#f0f921"
             ]
            ],
            "type": "heatmapgl"
           }
          ],
          "histogram": [
           {
            "marker": {
             "colorbar": {
              "outlinewidth": 0,
              "ticks": ""
             }
            },
            "type": "histogram"
           }
          ],
          "histogram2d": [
           {
            "colorbar": {
             "outlinewidth": 0,
             "ticks": ""
            },
            "colorscale": [
             [
              0,
              "#0d0887"
             ],
             [
              0.1111111111111111,
              "#46039f"
             ],
             [
              0.2222222222222222,
              "#7201a8"
             ],
             [
              0.3333333333333333,
              "#9c179e"
             ],
             [
              0.4444444444444444,
              "#bd3786"
             ],
             [
              0.5555555555555556,
              "#d8576b"
             ],
             [
              0.6666666666666666,
              "#ed7953"
             ],
             [
              0.7777777777777778,
              "#fb9f3a"
             ],
             [
              0.8888888888888888,
              "#fdca26"
             ],
             [
              1,
              "#f0f921"
             ]
            ],
            "type": "histogram2d"
           }
          ],
          "histogram2dcontour": [
           {
            "colorbar": {
             "outlinewidth": 0,
             "ticks": ""
            },
            "colorscale": [
             [
              0,
              "#0d0887"
             ],
             [
              0.1111111111111111,
              "#46039f"
             ],
             [
              0.2222222222222222,
              "#7201a8"
             ],
             [
              0.3333333333333333,
              "#9c179e"
             ],
             [
              0.4444444444444444,
              "#bd3786"
             ],
             [
              0.5555555555555556,
              "#d8576b"
             ],
             [
              0.6666666666666666,
              "#ed7953"
             ],
             [
              0.7777777777777778,
              "#fb9f3a"
             ],
             [
              0.8888888888888888,
              "#fdca26"
             ],
             [
              1,
              "#f0f921"
             ]
            ],
            "type": "histogram2dcontour"
           }
          ],
          "mesh3d": [
           {
            "colorbar": {
             "outlinewidth": 0,
             "ticks": ""
            },
            "type": "mesh3d"
           }
          ],
          "parcoords": [
           {
            "line": {
             "colorbar": {
              "outlinewidth": 0,
              "ticks": ""
             }
            },
            "type": "parcoords"
           }
          ],
          "pie": [
           {
            "automargin": true,
            "type": "pie"
           }
          ],
          "scatter": [
           {
            "marker": {
             "colorbar": {
              "outlinewidth": 0,
              "ticks": ""
             }
            },
            "type": "scatter"
           }
          ],
          "scatter3d": [
           {
            "line": {
             "colorbar": {
              "outlinewidth": 0,
              "ticks": ""
             }
            },
            "marker": {
             "colorbar": {
              "outlinewidth": 0,
              "ticks": ""
             }
            },
            "type": "scatter3d"
           }
          ],
          "scattercarpet": [
           {
            "marker": {
             "colorbar": {
              "outlinewidth": 0,
              "ticks": ""
             }
            },
            "type": "scattercarpet"
           }
          ],
          "scattergeo": [
           {
            "marker": {
             "colorbar": {
              "outlinewidth": 0,
              "ticks": ""
             }
            },
            "type": "scattergeo"
           }
          ],
          "scattergl": [
           {
            "marker": {
             "colorbar": {
              "outlinewidth": 0,
              "ticks": ""
             }
            },
            "type": "scattergl"
           }
          ],
          "scattermapbox": [
           {
            "marker": {
             "colorbar": {
              "outlinewidth": 0,
              "ticks": ""
             }
            },
            "type": "scattermapbox"
           }
          ],
          "scatterpolar": [
           {
            "marker": {
             "colorbar": {
              "outlinewidth": 0,
              "ticks": ""
             }
            },
            "type": "scatterpolar"
           }
          ],
          "scatterpolargl": [
           {
            "marker": {
             "colorbar": {
              "outlinewidth": 0,
              "ticks": ""
             }
            },
            "type": "scatterpolargl"
           }
          ],
          "scatterternary": [
           {
            "marker": {
             "colorbar": {
              "outlinewidth": 0,
              "ticks": ""
             }
            },
            "type": "scatterternary"
           }
          ],
          "surface": [
           {
            "colorbar": {
             "outlinewidth": 0,
             "ticks": ""
            },
            "colorscale": [
             [
              0,
              "#0d0887"
             ],
             [
              0.1111111111111111,
              "#46039f"
             ],
             [
              0.2222222222222222,
              "#7201a8"
             ],
             [
              0.3333333333333333,
              "#9c179e"
             ],
             [
              0.4444444444444444,
              "#bd3786"
             ],
             [
              0.5555555555555556,
              "#d8576b"
             ],
             [
              0.6666666666666666,
              "#ed7953"
             ],
             [
              0.7777777777777778,
              "#fb9f3a"
             ],
             [
              0.8888888888888888,
              "#fdca26"
             ],
             [
              1,
              "#f0f921"
             ]
            ],
            "type": "surface"
           }
          ],
          "table": [
           {
            "cells": {
             "fill": {
              "color": "#EBF0F8"
             },
             "line": {
              "color": "white"
             }
            },
            "header": {
             "fill": {
              "color": "#C8D4E3"
             },
             "line": {
              "color": "white"
             }
            },
            "type": "table"
           }
          ]
         },
         "layout": {
          "annotationdefaults": {
           "arrowcolor": "#2a3f5f",
           "arrowhead": 0,
           "arrowwidth": 1
          },
          "autotypenumbers": "strict",
          "coloraxis": {
           "colorbar": {
            "outlinewidth": 0,
            "ticks": ""
           }
          },
          "colorscale": {
           "diverging": [
            [
             0,
             "#8e0152"
            ],
            [
             0.1,
             "#c51b7d"
            ],
            [
             0.2,
             "#de77ae"
            ],
            [
             0.3,
             "#f1b6da"
            ],
            [
             0.4,
             "#fde0ef"
            ],
            [
             0.5,
             "#f7f7f7"
            ],
            [
             0.6,
             "#e6f5d0"
            ],
            [
             0.7,
             "#b8e186"
            ],
            [
             0.8,
             "#7fbc41"
            ],
            [
             0.9,
             "#4d9221"
            ],
            [
             1,
             "#276419"
            ]
           ],
           "sequential": [
            [
             0,
             "#0d0887"
            ],
            [
             0.1111111111111111,
             "#46039f"
            ],
            [
             0.2222222222222222,
             "#7201a8"
            ],
            [
             0.3333333333333333,
             "#9c179e"
            ],
            [
             0.4444444444444444,
             "#bd3786"
            ],
            [
             0.5555555555555556,
             "#d8576b"
            ],
            [
             0.6666666666666666,
             "#ed7953"
            ],
            [
             0.7777777777777778,
             "#fb9f3a"
            ],
            [
             0.8888888888888888,
             "#fdca26"
            ],
            [
             1,
             "#f0f921"
            ]
           ],
           "sequentialminus": [
            [
             0,
             "#0d0887"
            ],
            [
             0.1111111111111111,
             "#46039f"
            ],
            [
             0.2222222222222222,
             "#7201a8"
            ],
            [
             0.3333333333333333,
             "#9c179e"
            ],
            [
             0.4444444444444444,
             "#bd3786"
            ],
            [
             0.5555555555555556,
             "#d8576b"
            ],
            [
             0.6666666666666666,
             "#ed7953"
            ],
            [
             0.7777777777777778,
             "#fb9f3a"
            ],
            [
             0.8888888888888888,
             "#fdca26"
            ],
            [
             1,
             "#f0f921"
            ]
           ]
          },
          "colorway": [
           "#636efa",
           "#EF553B",
           "#00cc96",
           "#ab63fa",
           "#FFA15A",
           "#19d3f3",
           "#FF6692",
           "#B6E880",
           "#FF97FF",
           "#FECB52"
          ],
          "font": {
           "color": "#2a3f5f"
          },
          "geo": {
           "bgcolor": "white",
           "lakecolor": "white",
           "landcolor": "#E5ECF6",
           "showlakes": true,
           "showland": true,
           "subunitcolor": "white"
          },
          "hoverlabel": {
           "align": "left"
          },
          "hovermode": "closest",
          "mapbox": {
           "style": "light"
          },
          "paper_bgcolor": "white",
          "plot_bgcolor": "#E5ECF6",
          "polar": {
           "angularaxis": {
            "gridcolor": "white",
            "linecolor": "white",
            "ticks": ""
           },
           "bgcolor": "#E5ECF6",
           "radialaxis": {
            "gridcolor": "white",
            "linecolor": "white",
            "ticks": ""
           }
          },
          "scene": {
           "xaxis": {
            "backgroundcolor": "#E5ECF6",
            "gridcolor": "white",
            "gridwidth": 2,
            "linecolor": "white",
            "showbackground": true,
            "ticks": "",
            "zerolinecolor": "white"
           },
           "yaxis": {
            "backgroundcolor": "#E5ECF6",
            "gridcolor": "white",
            "gridwidth": 2,
            "linecolor": "white",
            "showbackground": true,
            "ticks": "",
            "zerolinecolor": "white"
           },
           "zaxis": {
            "backgroundcolor": "#E5ECF6",
            "gridcolor": "white",
            "gridwidth": 2,
            "linecolor": "white",
            "showbackground": true,
            "ticks": "",
            "zerolinecolor": "white"
           }
          },
          "shapedefaults": {
           "line": {
            "color": "#2a3f5f"
           }
          },
          "ternary": {
           "aaxis": {
            "gridcolor": "white",
            "linecolor": "white",
            "ticks": ""
           },
           "baxis": {
            "gridcolor": "white",
            "linecolor": "white",
            "ticks": ""
           },
           "bgcolor": "#E5ECF6",
           "caxis": {
            "gridcolor": "white",
            "linecolor": "white",
            "ticks": ""
           }
          },
          "title": {
           "x": 0.05
          },
          "xaxis": {
           "automargin": true,
           "gridcolor": "white",
           "linecolor": "white",
           "ticks": "",
           "title": {
            "standoff": 15
           },
           "zerolinecolor": "white",
           "zerolinewidth": 2
          },
          "yaxis": {
           "automargin": true,
           "gridcolor": "white",
           "linecolor": "white",
           "ticks": "",
           "title": {
            "standoff": 15
           },
           "zerolinecolor": "white",
           "zerolinewidth": 2
          }
         }
        },
        "title": {
         "text": "Top products for selling"
        },
        "xaxis": {
         "anchor": "y",
         "domain": [
          0,
          1
         ],
         "title": {
          "text": "value"
         }
        },
        "yaxis": {
         "anchor": "x",
         "categoryarray": [
          "bread",
          "soy lactosefree",
          "chips pretzels",
          "water seltzer sparkling water",
          "milk",
          "packaged cheese",
          "yogurt",
          "packaged vegetables fruits",
          "fresh vegetables",
          "fresh fruits"
         ],
         "categoryorder": "array",
         "domain": [
          0,
          1
         ],
         "title": {
          "text": "product_name"
         }
        }
       }
      },
      "text/html": [
       "<div>                            <div id=\"66c99fd6-92f4-4994-a2f1-8e2b6e8ccfee\" class=\"plotly-graph-div\" style=\"height:525px; width:100%;\"></div>            <script type=\"text/javascript\">                require([\"plotly\"], function(Plotly) {                    window.PLOTLYENV=window.PLOTLYENV || {};                                    if (document.getElementById(\"66c99fd6-92f4-4994-a2f1-8e2b6e8ccfee\")) {                    Plotly.newPlot(                        \"66c99fd6-92f4-4994-a2f1-8e2b6e8ccfee\",                        [{\"alignmentgroup\": \"True\", \"hovertemplate\": \"product_name=%{y}<br>value=%{x}<extra></extra>\", \"legendgroup\": \"fresh fruits\", \"marker\": {\"color\": \"rgb(133, 92, 117)\"}, \"name\": \"fresh fruits\", \"offsetgroup\": \"fresh fruits\", \"orientation\": \"h\", \"showlegend\": true, \"textposition\": \"auto\", \"type\": \"bar\", \"x\": [226039], \"xaxis\": \"x\", \"y\": [\"fresh fruits\"], \"yaxis\": \"y\"}, {\"alignmentgroup\": \"True\", \"hovertemplate\": \"product_name=%{y}<br>value=%{x}<extra></extra>\", \"legendgroup\": \"fresh vegetables\", \"marker\": {\"color\": \"rgb(217, 175, 107)\"}, \"name\": \"fresh vegetables\", \"offsetgroup\": \"fresh vegetables\", \"orientation\": \"h\", \"showlegend\": true, \"textposition\": \"auto\", \"type\": \"bar\", \"x\": [212611], \"xaxis\": \"x\", \"y\": [\"fresh vegetables\"], \"yaxis\": \"y\"}, {\"alignmentgroup\": \"True\", \"hovertemplate\": \"product_name=%{y}<br>value=%{x}<extra></extra>\", \"legendgroup\": \"packaged vegetables fruits\", \"marker\": {\"color\": \"rgb(175, 100, 88)\"}, \"name\": \"packaged vegetables fruits\", \"offsetgroup\": \"packaged vegetables fruits\", \"orientation\": \"h\", \"showlegend\": true, \"textposition\": \"auto\", \"type\": \"bar\", \"x\": [109596], \"xaxis\": \"x\", \"y\": [\"packaged vegetables fruits\"], \"yaxis\": \"y\"}, {\"alignmentgroup\": \"True\", \"hovertemplate\": \"product_name=%{y}<br>value=%{x}<extra></extra>\", \"legendgroup\": \"yogurt\", \"marker\": {\"color\": \"rgb(115, 111, 76)\"}, \"name\": \"yogurt\", \"offsetgroup\": \"yogurt\", \"orientation\": \"h\", \"showlegend\": true, \"textposition\": \"auto\", \"type\": \"bar\", \"x\": [90751], \"xaxis\": \"x\", \"y\": [\"yogurt\"], \"yaxis\": \"y\"}, {\"alignmentgroup\": \"True\", \"hovertemplate\": \"product_name=%{y}<br>value=%{x}<extra></extra>\", \"legendgroup\": \"packaged cheese\", \"marker\": {\"color\": \"rgb(82, 106, 131)\"}, \"name\": \"packaged cheese\", \"offsetgroup\": \"packaged cheese\", \"orientation\": \"h\", \"showlegend\": true, \"textposition\": \"auto\", \"type\": \"bar\", \"x\": [61502], \"xaxis\": \"x\", \"y\": [\"packaged cheese\"], \"yaxis\": \"y\"}, {\"alignmentgroup\": \"True\", \"hovertemplate\": \"product_name=%{y}<br>value=%{x}<extra></extra>\", \"legendgroup\": \"milk\", \"marker\": {\"color\": \"rgb(98, 83, 119)\"}, \"name\": \"milk\", \"offsetgroup\": \"milk\", \"orientation\": \"h\", \"showlegend\": true, \"textposition\": \"auto\", \"type\": \"bar\", \"x\": [55150], \"xaxis\": \"x\", \"y\": [\"milk\"], \"yaxis\": \"y\"}, {\"alignmentgroup\": \"True\", \"hovertemplate\": \"product_name=%{y}<br>value=%{x}<extra></extra>\", \"legendgroup\": \"water seltzer sparkling water\", \"marker\": {\"color\": \"rgb(104, 133, 92)\"}, \"name\": \"water seltzer sparkling water\", \"offsetgroup\": \"water seltzer sparkling water\", \"orientation\": \"h\", \"showlegend\": true, \"textposition\": \"auto\", \"type\": \"bar\", \"x\": [52564], \"xaxis\": \"x\", \"y\": [\"water seltzer sparkling water\"], \"yaxis\": \"y\"}, {\"alignmentgroup\": \"True\", \"hovertemplate\": \"product_name=%{y}<br>value=%{x}<extra></extra>\", \"legendgroup\": \"chips pretzels\", \"marker\": {\"color\": \"rgb(156, 156, 94)\"}, \"name\": \"chips pretzels\", \"offsetgroup\": \"chips pretzels\", \"orientation\": \"h\", \"showlegend\": true, \"textposition\": \"auto\", \"type\": \"bar\", \"x\": [45306], \"xaxis\": \"x\", \"y\": [\"chips pretzels\"], \"yaxis\": \"y\"}, {\"alignmentgroup\": \"True\", \"hovertemplate\": \"product_name=%{y}<br>value=%{x}<extra></extra>\", \"legendgroup\": \"soy lactosefree\", \"marker\": {\"color\": \"rgb(160, 97, 119)\"}, \"name\": \"soy lactosefree\", \"offsetgroup\": \"soy lactosefree\", \"orientation\": \"h\", \"showlegend\": true, \"textposition\": \"auto\", \"type\": \"bar\", \"x\": [39389], \"xaxis\": \"x\", \"y\": [\"soy lactosefree\"], \"yaxis\": \"y\"}, {\"alignmentgroup\": \"True\", \"hovertemplate\": \"product_name=%{y}<br>value=%{x}<extra></extra>\", \"legendgroup\": \"bread\", \"marker\": {\"color\": \"rgb(140, 120, 93)\"}, \"name\": \"bread\", \"offsetgroup\": \"bread\", \"orientation\": \"h\", \"showlegend\": true, \"textposition\": \"auto\", \"type\": \"bar\", \"x\": [36381], \"xaxis\": \"x\", \"y\": [\"bread\"], \"yaxis\": \"y\"}],                        {\"barmode\": \"relative\", \"legend\": {\"title\": {\"text\": \"product_name\"}, \"tracegroupgap\": 0}, \"template\": {\"data\": {\"bar\": [{\"error_x\": {\"color\": \"#2a3f5f\"}, \"error_y\": {\"color\": \"#2a3f5f\"}, \"marker\": {\"line\": {\"color\": \"#E5ECF6\", \"width\": 0.5}}, \"type\": \"bar\"}], \"barpolar\": [{\"marker\": {\"line\": {\"color\": \"#E5ECF6\", \"width\": 0.5}}, \"type\": \"barpolar\"}], \"carpet\": [{\"aaxis\": {\"endlinecolor\": \"#2a3f5f\", \"gridcolor\": \"white\", \"linecolor\": \"white\", \"minorgridcolor\": \"white\", \"startlinecolor\": \"#2a3f5f\"}, \"baxis\": {\"endlinecolor\": \"#2a3f5f\", \"gridcolor\": \"white\", \"linecolor\": \"white\", \"minorgridcolor\": \"white\", \"startlinecolor\": \"#2a3f5f\"}, \"type\": \"carpet\"}], \"choropleth\": [{\"colorbar\": {\"outlinewidth\": 0, \"ticks\": \"\"}, \"type\": \"choropleth\"}], \"contour\": [{\"colorbar\": {\"outlinewidth\": 0, \"ticks\": \"\"}, \"colorscale\": [[0.0, \"#0d0887\"], [0.1111111111111111, \"#46039f\"], [0.2222222222222222, \"#7201a8\"], [0.3333333333333333, \"#9c179e\"], [0.4444444444444444, \"#bd3786\"], [0.5555555555555556, \"#d8576b\"], [0.6666666666666666, \"#ed7953\"], [0.7777777777777778, \"#fb9f3a\"], [0.8888888888888888, \"#fdca26\"], [1.0, \"#f0f921\"]], \"type\": \"contour\"}], \"contourcarpet\": [{\"colorbar\": {\"outlinewidth\": 0, \"ticks\": \"\"}, \"type\": \"contourcarpet\"}], \"heatmap\": [{\"colorbar\": {\"outlinewidth\": 0, \"ticks\": \"\"}, \"colorscale\": [[0.0, \"#0d0887\"], [0.1111111111111111, \"#46039f\"], [0.2222222222222222, \"#7201a8\"], [0.3333333333333333, \"#9c179e\"], [0.4444444444444444, \"#bd3786\"], [0.5555555555555556, \"#d8576b\"], [0.6666666666666666, \"#ed7953\"], [0.7777777777777778, \"#fb9f3a\"], [0.8888888888888888, \"#fdca26\"], [1.0, \"#f0f921\"]], \"type\": \"heatmap\"}], \"heatmapgl\": [{\"colorbar\": {\"outlinewidth\": 0, \"ticks\": \"\"}, \"colorscale\": [[0.0, \"#0d0887\"], [0.1111111111111111, \"#46039f\"], [0.2222222222222222, \"#7201a8\"], [0.3333333333333333, \"#9c179e\"], [0.4444444444444444, \"#bd3786\"], [0.5555555555555556, \"#d8576b\"], [0.6666666666666666, \"#ed7953\"], [0.7777777777777778, \"#fb9f3a\"], [0.8888888888888888, \"#fdca26\"], [1.0, \"#f0f921\"]], \"type\": \"heatmapgl\"}], \"histogram\": [{\"marker\": {\"colorbar\": {\"outlinewidth\": 0, \"ticks\": \"\"}}, \"type\": \"histogram\"}], \"histogram2d\": [{\"colorbar\": {\"outlinewidth\": 0, \"ticks\": \"\"}, \"colorscale\": [[0.0, \"#0d0887\"], [0.1111111111111111, \"#46039f\"], [0.2222222222222222, \"#7201a8\"], [0.3333333333333333, \"#9c179e\"], [0.4444444444444444, \"#bd3786\"], [0.5555555555555556, \"#d8576b\"], [0.6666666666666666, \"#ed7953\"], [0.7777777777777778, \"#fb9f3a\"], [0.8888888888888888, \"#fdca26\"], [1.0, \"#f0f921\"]], \"type\": \"histogram2d\"}], \"histogram2dcontour\": [{\"colorbar\": {\"outlinewidth\": 0, \"ticks\": \"\"}, \"colorscale\": [[0.0, \"#0d0887\"], [0.1111111111111111, \"#46039f\"], [0.2222222222222222, \"#7201a8\"], [0.3333333333333333, \"#9c179e\"], [0.4444444444444444, \"#bd3786\"], [0.5555555555555556, \"#d8576b\"], [0.6666666666666666, \"#ed7953\"], [0.7777777777777778, \"#fb9f3a\"], [0.8888888888888888, \"#fdca26\"], [1.0, \"#f0f921\"]], \"type\": \"histogram2dcontour\"}], \"mesh3d\": [{\"colorbar\": {\"outlinewidth\": 0, \"ticks\": \"\"}, \"type\": \"mesh3d\"}], \"parcoords\": [{\"line\": {\"colorbar\": {\"outlinewidth\": 0, \"ticks\": \"\"}}, \"type\": \"parcoords\"}], \"pie\": [{\"automargin\": true, \"type\": \"pie\"}], \"scatter\": [{\"marker\": {\"colorbar\": {\"outlinewidth\": 0, \"ticks\": \"\"}}, \"type\": \"scatter\"}], \"scatter3d\": [{\"line\": {\"colorbar\": {\"outlinewidth\": 0, \"ticks\": \"\"}}, \"marker\": {\"colorbar\": {\"outlinewidth\": 0, \"ticks\": \"\"}}, \"type\": \"scatter3d\"}], \"scattercarpet\": [{\"marker\": {\"colorbar\": {\"outlinewidth\": 0, \"ticks\": \"\"}}, \"type\": \"scattercarpet\"}], \"scattergeo\": [{\"marker\": {\"colorbar\": {\"outlinewidth\": 0, \"ticks\": \"\"}}, \"type\": \"scattergeo\"}], \"scattergl\": [{\"marker\": {\"colorbar\": {\"outlinewidth\": 0, \"ticks\": \"\"}}, \"type\": \"scattergl\"}], \"scattermapbox\": [{\"marker\": {\"colorbar\": {\"outlinewidth\": 0, \"ticks\": \"\"}}, \"type\": \"scattermapbox\"}], \"scatterpolar\": [{\"marker\": {\"colorbar\": {\"outlinewidth\": 0, \"ticks\": \"\"}}, \"type\": \"scatterpolar\"}], \"scatterpolargl\": [{\"marker\": {\"colorbar\": {\"outlinewidth\": 0, \"ticks\": \"\"}}, \"type\": \"scatterpolargl\"}], \"scatterternary\": [{\"marker\": {\"colorbar\": {\"outlinewidth\": 0, \"ticks\": \"\"}}, \"type\": \"scatterternary\"}], \"surface\": [{\"colorbar\": {\"outlinewidth\": 0, \"ticks\": \"\"}, \"colorscale\": [[0.0, \"#0d0887\"], [0.1111111111111111, \"#46039f\"], [0.2222222222222222, \"#7201a8\"], [0.3333333333333333, \"#9c179e\"], [0.4444444444444444, \"#bd3786\"], [0.5555555555555556, \"#d8576b\"], [0.6666666666666666, \"#ed7953\"], [0.7777777777777778, \"#fb9f3a\"], [0.8888888888888888, \"#fdca26\"], [1.0, \"#f0f921\"]], \"type\": \"surface\"}], \"table\": [{\"cells\": {\"fill\": {\"color\": \"#EBF0F8\"}, \"line\": {\"color\": \"white\"}}, \"header\": {\"fill\": {\"color\": \"#C8D4E3\"}, \"line\": {\"color\": \"white\"}}, \"type\": \"table\"}]}, \"layout\": {\"annotationdefaults\": {\"arrowcolor\": \"#2a3f5f\", \"arrowhead\": 0, \"arrowwidth\": 1}, \"autotypenumbers\": \"strict\", \"coloraxis\": {\"colorbar\": {\"outlinewidth\": 0, \"ticks\": \"\"}}, \"colorscale\": {\"diverging\": [[0, \"#8e0152\"], [0.1, \"#c51b7d\"], [0.2, \"#de77ae\"], [0.3, \"#f1b6da\"], [0.4, \"#fde0ef\"], [0.5, \"#f7f7f7\"], [0.6, \"#e6f5d0\"], [0.7, \"#b8e186\"], [0.8, \"#7fbc41\"], [0.9, \"#4d9221\"], [1, \"#276419\"]], \"sequential\": [[0.0, \"#0d0887\"], [0.1111111111111111, \"#46039f\"], [0.2222222222222222, \"#7201a8\"], [0.3333333333333333, \"#9c179e\"], [0.4444444444444444, \"#bd3786\"], [0.5555555555555556, \"#d8576b\"], [0.6666666666666666, \"#ed7953\"], [0.7777777777777778, \"#fb9f3a\"], [0.8888888888888888, \"#fdca26\"], [1.0, \"#f0f921\"]], \"sequentialminus\": [[0.0, \"#0d0887\"], [0.1111111111111111, \"#46039f\"], [0.2222222222222222, \"#7201a8\"], [0.3333333333333333, \"#9c179e\"], [0.4444444444444444, \"#bd3786\"], [0.5555555555555556, \"#d8576b\"], [0.6666666666666666, \"#ed7953\"], [0.7777777777777778, \"#fb9f3a\"], [0.8888888888888888, \"#fdca26\"], [1.0, \"#f0f921\"]]}, \"colorway\": [\"#636efa\", \"#EF553B\", \"#00cc96\", \"#ab63fa\", \"#FFA15A\", \"#19d3f3\", \"#FF6692\", \"#B6E880\", \"#FF97FF\", \"#FECB52\"], \"font\": {\"color\": \"#2a3f5f\"}, \"geo\": {\"bgcolor\": \"white\", \"lakecolor\": \"white\", \"landcolor\": \"#E5ECF6\", \"showlakes\": true, \"showland\": true, \"subunitcolor\": \"white\"}, \"hoverlabel\": {\"align\": \"left\"}, \"hovermode\": \"closest\", \"mapbox\": {\"style\": \"light\"}, \"paper_bgcolor\": \"white\", \"plot_bgcolor\": \"#E5ECF6\", \"polar\": {\"angularaxis\": {\"gridcolor\": \"white\", \"linecolor\": \"white\", \"ticks\": \"\"}, \"bgcolor\": \"#E5ECF6\", \"radialaxis\": {\"gridcolor\": \"white\", \"linecolor\": \"white\", \"ticks\": \"\"}}, \"scene\": {\"xaxis\": {\"backgroundcolor\": \"#E5ECF6\", \"gridcolor\": \"white\", \"gridwidth\": 2, \"linecolor\": \"white\", \"showbackground\": true, \"ticks\": \"\", \"zerolinecolor\": \"white\"}, \"yaxis\": {\"backgroundcolor\": \"#E5ECF6\", \"gridcolor\": \"white\", \"gridwidth\": 2, \"linecolor\": \"white\", \"showbackground\": true, \"ticks\": \"\", \"zerolinecolor\": \"white\"}, \"zaxis\": {\"backgroundcolor\": \"#E5ECF6\", \"gridcolor\": \"white\", \"gridwidth\": 2, \"linecolor\": \"white\", \"showbackground\": true, \"ticks\": \"\", \"zerolinecolor\": \"white\"}}, \"shapedefaults\": {\"line\": {\"color\": \"#2a3f5f\"}}, \"ternary\": {\"aaxis\": {\"gridcolor\": \"white\", \"linecolor\": \"white\", \"ticks\": \"\"}, \"baxis\": {\"gridcolor\": \"white\", \"linecolor\": \"white\", \"ticks\": \"\"}, \"bgcolor\": \"#E5ECF6\", \"caxis\": {\"gridcolor\": \"white\", \"linecolor\": \"white\", \"ticks\": \"\"}}, \"title\": {\"x\": 0.05}, \"xaxis\": {\"automargin\": true, \"gridcolor\": \"white\", \"linecolor\": \"white\", \"ticks\": \"\", \"title\": {\"standoff\": 15}, \"zerolinecolor\": \"white\", \"zerolinewidth\": 2}, \"yaxis\": {\"automargin\": true, \"gridcolor\": \"white\", \"linecolor\": \"white\", \"ticks\": \"\", \"title\": {\"standoff\": 15}, \"zerolinecolor\": \"white\", \"zerolinewidth\": 2}}}, \"title\": {\"text\": \"Top products for selling\"}, \"xaxis\": {\"anchor\": \"y\", \"domain\": [0.0, 1.0], \"title\": {\"text\": \"value\"}}, \"yaxis\": {\"anchor\": \"x\", \"categoryarray\": [\"bread\", \"soy lactosefree\", \"chips pretzels\", \"water seltzer sparkling water\", \"milk\", \"packaged cheese\", \"yogurt\", \"packaged vegetables fruits\", \"fresh vegetables\", \"fresh fruits\"], \"categoryorder\": \"array\", \"domain\": [0.0, 1.0], \"title\": {\"text\": \"product_name\"}}},                        {\"responsive\": true}                    ).then(function(){\n",
       "                            \n",
       "var gd = document.getElementById('66c99fd6-92f4-4994-a2f1-8e2b6e8ccfee');\n",
       "var x = new MutationObserver(function (mutations, observer) {{\n",
       "        var display = window.getComputedStyle(gd).display;\n",
       "        if (!display || display === 'none') {{\n",
       "            console.log([gd, 'removed!']);\n",
       "            Plotly.purge(gd);\n",
       "            observer.disconnect();\n",
       "        }}\n",
       "}});\n",
       "\n",
       "// Listen for the removal of the full notebook cells\n",
       "var notebookContainer = gd.closest('#notebook-container');\n",
       "if (notebookContainer) {{\n",
       "    x.observe(notebookContainer, {childList: true});\n",
       "}}\n",
       "\n",
       "// Listen for the clearing of the current output cell\n",
       "var outputEl = gd.closest('.output');\n",
       "if (outputEl) {{\n",
       "    x.observe(outputEl, {childList: true});\n",
       "}}\n",
       "\n",
       "                        })                };                });            </script>        </div>"
      ]
     },
     "metadata": {},
     "output_type": "display_data"
    }
   ],
   "source": [
    "# checking the top products (most sold)\n",
    "top_products = pd.DataFrame(df['product_name'].value_counts().head(10)).reset_index()\n",
    "top_products.columns = ['product_name', 'value']\n",
    "\n",
    "fig = px.bar(top_products, y = 'product_name', x = 'value', orientation='h', \n",
    "             color=\"product_name\", color_discrete_sequence=px.colors.qualitative.Antique,\n",
    "            title='Top products for selling')\n",
    "fig.show()"
   ]
  },
  {
   "cell_type": "code",
   "execution_count": 165,
   "metadata": {
    "scrolled": false
   },
   "outputs": [
    {
     "data": {
      "application/vnd.plotly.v1+json": {
       "config": {
        "plotlyServerURL": "https://plot.ly"
       },
       "data": [
        {
         "alignmentgroup": "True",
         "hovertemplate": "day_of_week=%{y}<br>value=%{x}<extra></extra>",
         "legendgroup": "Sunday",
         "marker": {
          "color": "rgb(133, 92, 117)"
         },
         "name": "Sunday",
         "offsetgroup": "Sunday",
         "orientation": "h",
         "showlegend": true,
         "textposition": "auto",
         "type": "bar",
         "x": [
          391831
         ],
         "xaxis": "x",
         "y": [
          "Sunday"
         ],
         "yaxis": "y"
        },
        {
         "alignmentgroup": "True",
         "hovertemplate": "day_of_week=%{y}<br>value=%{x}<extra></extra>",
         "legendgroup": "Monday",
         "marker": {
          "color": "rgb(217, 175, 107)"
         },
         "name": "Monday",
         "offsetgroup": "Monday",
         "orientation": "h",
         "showlegend": true,
         "textposition": "auto",
         "type": "bar",
         "x": [
          349236
         ],
         "xaxis": "x",
         "y": [
          "Monday"
         ],
         "yaxis": "y"
        },
        {
         "alignmentgroup": "True",
         "hovertemplate": "day_of_week=%{y}<br>value=%{x}<extra></extra>",
         "legendgroup": "Saturday",
         "marker": {
          "color": "rgb(175, 100, 88)"
         },
         "name": "Saturday",
         "offsetgroup": "Saturday",
         "orientation": "h",
         "showlegend": true,
         "textposition": "auto",
         "type": "bar",
         "x": [
          280751
         ],
         "xaxis": "x",
         "y": [
          "Saturday"
         ],
         "yaxis": "y"
        },
        {
         "alignmentgroup": "True",
         "hovertemplate": "day_of_week=%{y}<br>value=%{x}<extra></extra>",
         "legendgroup": "Friday",
         "marker": {
          "color": "rgb(115, 111, 76)"
         },
         "name": "Friday",
         "offsetgroup": "Friday",
         "orientation": "h",
         "showlegend": true,
         "textposition": "auto",
         "type": "bar",
         "x": [
          262157
         ],
         "xaxis": "x",
         "y": [
          "Friday"
         ],
         "yaxis": "y"
        },
        {
         "alignmentgroup": "True",
         "hovertemplate": "day_of_week=%{y}<br>value=%{x}<extra></extra>",
         "legendgroup": "Tuesday",
         "marker": {
          "color": "rgb(82, 106, 131)"
         },
         "name": "Tuesday",
         "offsetgroup": "Tuesday",
         "orientation": "h",
         "showlegend": true,
         "textposition": "auto",
         "type": "bar",
         "x": [
          261912
         ],
         "xaxis": "x",
         "y": [
          "Tuesday"
         ],
         "yaxis": "y"
        },
        {
         "alignmentgroup": "True",
         "hovertemplate": "day_of_week=%{y}<br>value=%{x}<extra></extra>",
         "legendgroup": "Wednesday",
         "marker": {
          "color": "rgb(98, 83, 119)"
         },
         "name": "Wednesday",
         "offsetgroup": "Wednesday",
         "orientation": "h",
         "showlegend": true,
         "textposition": "auto",
         "type": "bar",
         "x": [
          238730
         ],
         "xaxis": "x",
         "y": [
          "Wednesday"
         ],
         "yaxis": "y"
        },
        {
         "alignmentgroup": "True",
         "hovertemplate": "day_of_week=%{y}<br>value=%{x}<extra></extra>",
         "legendgroup": "Thursday",
         "marker": {
          "color": "rgb(104, 133, 92)"
         },
         "name": "Thursday",
         "offsetgroup": "Thursday",
         "orientation": "h",
         "showlegend": true,
         "textposition": "auto",
         "type": "bar",
         "x": [
          234884
         ],
         "xaxis": "x",
         "y": [
          "Thursday"
         ],
         "yaxis": "y"
        }
       ],
       "layout": {
        "barmode": "relative",
        "legend": {
         "title": {
          "text": "day_of_week"
         },
         "tracegroupgap": 0
        },
        "template": {
         "data": {
          "bar": [
           {
            "error_x": {
             "color": "#2a3f5f"
            },
            "error_y": {
             "color": "#2a3f5f"
            },
            "marker": {
             "line": {
              "color": "#E5ECF6",
              "width": 0.5
             }
            },
            "type": "bar"
           }
          ],
          "barpolar": [
           {
            "marker": {
             "line": {
              "color": "#E5ECF6",
              "width": 0.5
             }
            },
            "type": "barpolar"
           }
          ],
          "carpet": [
           {
            "aaxis": {
             "endlinecolor": "#2a3f5f",
             "gridcolor": "white",
             "linecolor": "white",
             "minorgridcolor": "white",
             "startlinecolor": "#2a3f5f"
            },
            "baxis": {
             "endlinecolor": "#2a3f5f",
             "gridcolor": "white",
             "linecolor": "white",
             "minorgridcolor": "white",
             "startlinecolor": "#2a3f5f"
            },
            "type": "carpet"
           }
          ],
          "choropleth": [
           {
            "colorbar": {
             "outlinewidth": 0,
             "ticks": ""
            },
            "type": "choropleth"
           }
          ],
          "contour": [
           {
            "colorbar": {
             "outlinewidth": 0,
             "ticks": ""
            },
            "colorscale": [
             [
              0,
              "#0d0887"
             ],
             [
              0.1111111111111111,
              "#46039f"
             ],
             [
              0.2222222222222222,
              "#7201a8"
             ],
             [
              0.3333333333333333,
              "#9c179e"
             ],
             [
              0.4444444444444444,
              "#bd3786"
             ],
             [
              0.5555555555555556,
              "#d8576b"
             ],
             [
              0.6666666666666666,
              "#ed7953"
             ],
             [
              0.7777777777777778,
              "#fb9f3a"
             ],
             [
              0.8888888888888888,
              "#fdca26"
             ],
             [
              1,
              "#f0f921"
             ]
            ],
            "type": "contour"
           }
          ],
          "contourcarpet": [
           {
            "colorbar": {
             "outlinewidth": 0,
             "ticks": ""
            },
            "type": "contourcarpet"
           }
          ],
          "heatmap": [
           {
            "colorbar": {
             "outlinewidth": 0,
             "ticks": ""
            },
            "colorscale": [
             [
              0,
              "#0d0887"
             ],
             [
              0.1111111111111111,
              "#46039f"
             ],
             [
              0.2222222222222222,
              "#7201a8"
             ],
             [
              0.3333333333333333,
              "#9c179e"
             ],
             [
              0.4444444444444444,
              "#bd3786"
             ],
             [
              0.5555555555555556,
              "#d8576b"
             ],
             [
              0.6666666666666666,
              "#ed7953"
             ],
             [
              0.7777777777777778,
              "#fb9f3a"
             ],
             [
              0.8888888888888888,
              "#fdca26"
             ],
             [
              1,
              "#f0f921"
             ]
            ],
            "type": "heatmap"
           }
          ],
          "heatmapgl": [
           {
            "colorbar": {
             "outlinewidth": 0,
             "ticks": ""
            },
            "colorscale": [
             [
              0,
              "#0d0887"
             ],
             [
              0.1111111111111111,
              "#46039f"
             ],
             [
              0.2222222222222222,
              "#7201a8"
             ],
             [
              0.3333333333333333,
              "#9c179e"
             ],
             [
              0.4444444444444444,
              "#bd3786"
             ],
             [
              0.5555555555555556,
              "#d8576b"
             ],
             [
              0.6666666666666666,
              "#ed7953"
             ],
             [
              0.7777777777777778,
              "#fb9f3a"
             ],
             [
              0.8888888888888888,
              "#fdca26"
             ],
             [
              1,
              "#f0f921"
             ]
            ],
            "type": "heatmapgl"
           }
          ],
          "histogram": [
           {
            "marker": {
             "colorbar": {
              "outlinewidth": 0,
              "ticks": ""
             }
            },
            "type": "histogram"
           }
          ],
          "histogram2d": [
           {
            "colorbar": {
             "outlinewidth": 0,
             "ticks": ""
            },
            "colorscale": [
             [
              0,
              "#0d0887"
             ],
             [
              0.1111111111111111,
              "#46039f"
             ],
             [
              0.2222222222222222,
              "#7201a8"
             ],
             [
              0.3333333333333333,
              "#9c179e"
             ],
             [
              0.4444444444444444,
              "#bd3786"
             ],
             [
              0.5555555555555556,
              "#d8576b"
             ],
             [
              0.6666666666666666,
              "#ed7953"
             ],
             [
              0.7777777777777778,
              "#fb9f3a"
             ],
             [
              0.8888888888888888,
              "#fdca26"
             ],
             [
              1,
              "#f0f921"
             ]
            ],
            "type": "histogram2d"
           }
          ],
          "histogram2dcontour": [
           {
            "colorbar": {
             "outlinewidth": 0,
             "ticks": ""
            },
            "colorscale": [
             [
              0,
              "#0d0887"
             ],
             [
              0.1111111111111111,
              "#46039f"
             ],
             [
              0.2222222222222222,
              "#7201a8"
             ],
             [
              0.3333333333333333,
              "#9c179e"
             ],
             [
              0.4444444444444444,
              "#bd3786"
             ],
             [
              0.5555555555555556,
              "#d8576b"
             ],
             [
              0.6666666666666666,
              "#ed7953"
             ],
             [
              0.7777777777777778,
              "#fb9f3a"
             ],
             [
              0.8888888888888888,
              "#fdca26"
             ],
             [
              1,
              "#f0f921"
             ]
            ],
            "type": "histogram2dcontour"
           }
          ],
          "mesh3d": [
           {
            "colorbar": {
             "outlinewidth": 0,
             "ticks": ""
            },
            "type": "mesh3d"
           }
          ],
          "parcoords": [
           {
            "line": {
             "colorbar": {
              "outlinewidth": 0,
              "ticks": ""
             }
            },
            "type": "parcoords"
           }
          ],
          "pie": [
           {
            "automargin": true,
            "type": "pie"
           }
          ],
          "scatter": [
           {
            "marker": {
             "colorbar": {
              "outlinewidth": 0,
              "ticks": ""
             }
            },
            "type": "scatter"
           }
          ],
          "scatter3d": [
           {
            "line": {
             "colorbar": {
              "outlinewidth": 0,
              "ticks": ""
             }
            },
            "marker": {
             "colorbar": {
              "outlinewidth": 0,
              "ticks": ""
             }
            },
            "type": "scatter3d"
           }
          ],
          "scattercarpet": [
           {
            "marker": {
             "colorbar": {
              "outlinewidth": 0,
              "ticks": ""
             }
            },
            "type": "scattercarpet"
           }
          ],
          "scattergeo": [
           {
            "marker": {
             "colorbar": {
              "outlinewidth": 0,
              "ticks": ""
             }
            },
            "type": "scattergeo"
           }
          ],
          "scattergl": [
           {
            "marker": {
             "colorbar": {
              "outlinewidth": 0,
              "ticks": ""
             }
            },
            "type": "scattergl"
           }
          ],
          "scattermapbox": [
           {
            "marker": {
             "colorbar": {
              "outlinewidth": 0,
              "ticks": ""
             }
            },
            "type": "scattermapbox"
           }
          ],
          "scatterpolar": [
           {
            "marker": {
             "colorbar": {
              "outlinewidth": 0,
              "ticks": ""
             }
            },
            "type": "scatterpolar"
           }
          ],
          "scatterpolargl": [
           {
            "marker": {
             "colorbar": {
              "outlinewidth": 0,
              "ticks": ""
             }
            },
            "type": "scatterpolargl"
           }
          ],
          "scatterternary": [
           {
            "marker": {
             "colorbar": {
              "outlinewidth": 0,
              "ticks": ""
             }
            },
            "type": "scatterternary"
           }
          ],
          "surface": [
           {
            "colorbar": {
             "outlinewidth": 0,
             "ticks": ""
            },
            "colorscale": [
             [
              0,
              "#0d0887"
             ],
             [
              0.1111111111111111,
              "#46039f"
             ],
             [
              0.2222222222222222,
              "#7201a8"
             ],
             [
              0.3333333333333333,
              "#9c179e"
             ],
             [
              0.4444444444444444,
              "#bd3786"
             ],
             [
              0.5555555555555556,
              "#d8576b"
             ],
             [
              0.6666666666666666,
              "#ed7953"
             ],
             [
              0.7777777777777778,
              "#fb9f3a"
             ],
             [
              0.8888888888888888,
              "#fdca26"
             ],
             [
              1,
              "#f0f921"
             ]
            ],
            "type": "surface"
           }
          ],
          "table": [
           {
            "cells": {
             "fill": {
              "color": "#EBF0F8"
             },
             "line": {
              "color": "white"
             }
            },
            "header": {
             "fill": {
              "color": "#C8D4E3"
             },
             "line": {
              "color": "white"
             }
            },
            "type": "table"
           }
          ]
         },
         "layout": {
          "annotationdefaults": {
           "arrowcolor": "#2a3f5f",
           "arrowhead": 0,
           "arrowwidth": 1
          },
          "autotypenumbers": "strict",
          "coloraxis": {
           "colorbar": {
            "outlinewidth": 0,
            "ticks": ""
           }
          },
          "colorscale": {
           "diverging": [
            [
             0,
             "#8e0152"
            ],
            [
             0.1,
             "#c51b7d"
            ],
            [
             0.2,
             "#de77ae"
            ],
            [
             0.3,
             "#f1b6da"
            ],
            [
             0.4,
             "#fde0ef"
            ],
            [
             0.5,
             "#f7f7f7"
            ],
            [
             0.6,
             "#e6f5d0"
            ],
            [
             0.7,
             "#b8e186"
            ],
            [
             0.8,
             "#7fbc41"
            ],
            [
             0.9,
             "#4d9221"
            ],
            [
             1,
             "#276419"
            ]
           ],
           "sequential": [
            [
             0,
             "#0d0887"
            ],
            [
             0.1111111111111111,
             "#46039f"
            ],
            [
             0.2222222222222222,
             "#7201a8"
            ],
            [
             0.3333333333333333,
             "#9c179e"
            ],
            [
             0.4444444444444444,
             "#bd3786"
            ],
            [
             0.5555555555555556,
             "#d8576b"
            ],
            [
             0.6666666666666666,
             "#ed7953"
            ],
            [
             0.7777777777777778,
             "#fb9f3a"
            ],
            [
             0.8888888888888888,
             "#fdca26"
            ],
            [
             1,
             "#f0f921"
            ]
           ],
           "sequentialminus": [
            [
             0,
             "#0d0887"
            ],
            [
             0.1111111111111111,
             "#46039f"
            ],
            [
             0.2222222222222222,
             "#7201a8"
            ],
            [
             0.3333333333333333,
             "#9c179e"
            ],
            [
             0.4444444444444444,
             "#bd3786"
            ],
            [
             0.5555555555555556,
             "#d8576b"
            ],
            [
             0.6666666666666666,
             "#ed7953"
            ],
            [
             0.7777777777777778,
             "#fb9f3a"
            ],
            [
             0.8888888888888888,
             "#fdca26"
            ],
            [
             1,
             "#f0f921"
            ]
           ]
          },
          "colorway": [
           "#636efa",
           "#EF553B",
           "#00cc96",
           "#ab63fa",
           "#FFA15A",
           "#19d3f3",
           "#FF6692",
           "#B6E880",
           "#FF97FF",
           "#FECB52"
          ],
          "font": {
           "color": "#2a3f5f"
          },
          "geo": {
           "bgcolor": "white",
           "lakecolor": "white",
           "landcolor": "#E5ECF6",
           "showlakes": true,
           "showland": true,
           "subunitcolor": "white"
          },
          "hoverlabel": {
           "align": "left"
          },
          "hovermode": "closest",
          "mapbox": {
           "style": "light"
          },
          "paper_bgcolor": "white",
          "plot_bgcolor": "#E5ECF6",
          "polar": {
           "angularaxis": {
            "gridcolor": "white",
            "linecolor": "white",
            "ticks": ""
           },
           "bgcolor": "#E5ECF6",
           "radialaxis": {
            "gridcolor": "white",
            "linecolor": "white",
            "ticks": ""
           }
          },
          "scene": {
           "xaxis": {
            "backgroundcolor": "#E5ECF6",
            "gridcolor": "white",
            "gridwidth": 2,
            "linecolor": "white",
            "showbackground": true,
            "ticks": "",
            "zerolinecolor": "white"
           },
           "yaxis": {
            "backgroundcolor": "#E5ECF6",
            "gridcolor": "white",
            "gridwidth": 2,
            "linecolor": "white",
            "showbackground": true,
            "ticks": "",
            "zerolinecolor": "white"
           },
           "zaxis": {
            "backgroundcolor": "#E5ECF6",
            "gridcolor": "white",
            "gridwidth": 2,
            "linecolor": "white",
            "showbackground": true,
            "ticks": "",
            "zerolinecolor": "white"
           }
          },
          "shapedefaults": {
           "line": {
            "color": "#2a3f5f"
           }
          },
          "ternary": {
           "aaxis": {
            "gridcolor": "white",
            "linecolor": "white",
            "ticks": ""
           },
           "baxis": {
            "gridcolor": "white",
            "linecolor": "white",
            "ticks": ""
           },
           "bgcolor": "#E5ECF6",
           "caxis": {
            "gridcolor": "white",
            "linecolor": "white",
            "ticks": ""
           }
          },
          "title": {
           "x": 0.05
          },
          "xaxis": {
           "automargin": true,
           "gridcolor": "white",
           "linecolor": "white",
           "ticks": "",
           "title": {
            "standoff": 15
           },
           "zerolinecolor": "white",
           "zerolinewidth": 2
          },
          "yaxis": {
           "automargin": true,
           "gridcolor": "white",
           "linecolor": "white",
           "ticks": "",
           "title": {
            "standoff": 15
           },
           "zerolinecolor": "white",
           "zerolinewidth": 2
          }
         }
        },
        "title": {
         "text": "Top day of the week for selling"
        },
        "xaxis": {
         "anchor": "y",
         "domain": [
          0,
          1
         ],
         "title": {
          "text": "value"
         }
        },
        "yaxis": {
         "anchor": "x",
         "categoryarray": [
          "Thursday",
          "Wednesday",
          "Tuesday",
          "Friday",
          "Saturday",
          "Monday",
          "Sunday"
         ],
         "categoryorder": "array",
         "domain": [
          0,
          1
         ],
         "title": {
          "text": "day_of_week"
         }
        }
       }
      },
      "text/html": [
       "<div>                            <div id=\"ddfdffbb-4637-40c4-be52-2d6c65a4090d\" class=\"plotly-graph-div\" style=\"height:525px; width:100%;\"></div>            <script type=\"text/javascript\">                require([\"plotly\"], function(Plotly) {                    window.PLOTLYENV=window.PLOTLYENV || {};                                    if (document.getElementById(\"ddfdffbb-4637-40c4-be52-2d6c65a4090d\")) {                    Plotly.newPlot(                        \"ddfdffbb-4637-40c4-be52-2d6c65a4090d\",                        [{\"alignmentgroup\": \"True\", \"hovertemplate\": \"day_of_week=%{y}<br>value=%{x}<extra></extra>\", \"legendgroup\": \"Sunday\", \"marker\": {\"color\": \"rgb(133, 92, 117)\"}, \"name\": \"Sunday\", \"offsetgroup\": \"Sunday\", \"orientation\": \"h\", \"showlegend\": true, \"textposition\": \"auto\", \"type\": \"bar\", \"x\": [391831], \"xaxis\": \"x\", \"y\": [\"Sunday\"], \"yaxis\": \"y\"}, {\"alignmentgroup\": \"True\", \"hovertemplate\": \"day_of_week=%{y}<br>value=%{x}<extra></extra>\", \"legendgroup\": \"Monday\", \"marker\": {\"color\": \"rgb(217, 175, 107)\"}, \"name\": \"Monday\", \"offsetgroup\": \"Monday\", \"orientation\": \"h\", \"showlegend\": true, \"textposition\": \"auto\", \"type\": \"bar\", \"x\": [349236], \"xaxis\": \"x\", \"y\": [\"Monday\"], \"yaxis\": \"y\"}, {\"alignmentgroup\": \"True\", \"hovertemplate\": \"day_of_week=%{y}<br>value=%{x}<extra></extra>\", \"legendgroup\": \"Saturday\", \"marker\": {\"color\": \"rgb(175, 100, 88)\"}, \"name\": \"Saturday\", \"offsetgroup\": \"Saturday\", \"orientation\": \"h\", \"showlegend\": true, \"textposition\": \"auto\", \"type\": \"bar\", \"x\": [280751], \"xaxis\": \"x\", \"y\": [\"Saturday\"], \"yaxis\": \"y\"}, {\"alignmentgroup\": \"True\", \"hovertemplate\": \"day_of_week=%{y}<br>value=%{x}<extra></extra>\", \"legendgroup\": \"Friday\", \"marker\": {\"color\": \"rgb(115, 111, 76)\"}, \"name\": \"Friday\", \"offsetgroup\": \"Friday\", \"orientation\": \"h\", \"showlegend\": true, \"textposition\": \"auto\", \"type\": \"bar\", \"x\": [262157], \"xaxis\": \"x\", \"y\": [\"Friday\"], \"yaxis\": \"y\"}, {\"alignmentgroup\": \"True\", \"hovertemplate\": \"day_of_week=%{y}<br>value=%{x}<extra></extra>\", \"legendgroup\": \"Tuesday\", \"marker\": {\"color\": \"rgb(82, 106, 131)\"}, \"name\": \"Tuesday\", \"offsetgroup\": \"Tuesday\", \"orientation\": \"h\", \"showlegend\": true, \"textposition\": \"auto\", \"type\": \"bar\", \"x\": [261912], \"xaxis\": \"x\", \"y\": [\"Tuesday\"], \"yaxis\": \"y\"}, {\"alignmentgroup\": \"True\", \"hovertemplate\": \"day_of_week=%{y}<br>value=%{x}<extra></extra>\", \"legendgroup\": \"Wednesday\", \"marker\": {\"color\": \"rgb(98, 83, 119)\"}, \"name\": \"Wednesday\", \"offsetgroup\": \"Wednesday\", \"orientation\": \"h\", \"showlegend\": true, \"textposition\": \"auto\", \"type\": \"bar\", \"x\": [238730], \"xaxis\": \"x\", \"y\": [\"Wednesday\"], \"yaxis\": \"y\"}, {\"alignmentgroup\": \"True\", \"hovertemplate\": \"day_of_week=%{y}<br>value=%{x}<extra></extra>\", \"legendgroup\": \"Thursday\", \"marker\": {\"color\": \"rgb(104, 133, 92)\"}, \"name\": \"Thursday\", \"offsetgroup\": \"Thursday\", \"orientation\": \"h\", \"showlegend\": true, \"textposition\": \"auto\", \"type\": \"bar\", \"x\": [234884], \"xaxis\": \"x\", \"y\": [\"Thursday\"], \"yaxis\": \"y\"}],                        {\"barmode\": \"relative\", \"legend\": {\"title\": {\"text\": \"day_of_week\"}, \"tracegroupgap\": 0}, \"template\": {\"data\": {\"bar\": [{\"error_x\": {\"color\": \"#2a3f5f\"}, \"error_y\": {\"color\": \"#2a3f5f\"}, \"marker\": {\"line\": {\"color\": \"#E5ECF6\", \"width\": 0.5}}, \"type\": \"bar\"}], \"barpolar\": [{\"marker\": {\"line\": {\"color\": \"#E5ECF6\", \"width\": 0.5}}, \"type\": \"barpolar\"}], \"carpet\": [{\"aaxis\": {\"endlinecolor\": \"#2a3f5f\", \"gridcolor\": \"white\", \"linecolor\": \"white\", \"minorgridcolor\": \"white\", \"startlinecolor\": \"#2a3f5f\"}, \"baxis\": {\"endlinecolor\": \"#2a3f5f\", \"gridcolor\": \"white\", \"linecolor\": \"white\", \"minorgridcolor\": \"white\", \"startlinecolor\": \"#2a3f5f\"}, \"type\": \"carpet\"}], \"choropleth\": [{\"colorbar\": {\"outlinewidth\": 0, \"ticks\": \"\"}, \"type\": \"choropleth\"}], \"contour\": [{\"colorbar\": {\"outlinewidth\": 0, \"ticks\": \"\"}, \"colorscale\": [[0.0, \"#0d0887\"], [0.1111111111111111, \"#46039f\"], [0.2222222222222222, \"#7201a8\"], [0.3333333333333333, \"#9c179e\"], [0.4444444444444444, \"#bd3786\"], [0.5555555555555556, \"#d8576b\"], [0.6666666666666666, \"#ed7953\"], [0.7777777777777778, \"#fb9f3a\"], [0.8888888888888888, \"#fdca26\"], [1.0, \"#f0f921\"]], \"type\": \"contour\"}], \"contourcarpet\": [{\"colorbar\": {\"outlinewidth\": 0, \"ticks\": \"\"}, \"type\": \"contourcarpet\"}], \"heatmap\": [{\"colorbar\": {\"outlinewidth\": 0, \"ticks\": \"\"}, \"colorscale\": [[0.0, \"#0d0887\"], [0.1111111111111111, \"#46039f\"], [0.2222222222222222, \"#7201a8\"], [0.3333333333333333, \"#9c179e\"], [0.4444444444444444, \"#bd3786\"], [0.5555555555555556, \"#d8576b\"], [0.6666666666666666, \"#ed7953\"], [0.7777777777777778, \"#fb9f3a\"], [0.8888888888888888, \"#fdca26\"], [1.0, \"#f0f921\"]], \"type\": \"heatmap\"}], \"heatmapgl\": [{\"colorbar\": {\"outlinewidth\": 0, \"ticks\": \"\"}, \"colorscale\": [[0.0, \"#0d0887\"], [0.1111111111111111, \"#46039f\"], [0.2222222222222222, \"#7201a8\"], [0.3333333333333333, \"#9c179e\"], [0.4444444444444444, \"#bd3786\"], [0.5555555555555556, \"#d8576b\"], [0.6666666666666666, \"#ed7953\"], [0.7777777777777778, \"#fb9f3a\"], [0.8888888888888888, \"#fdca26\"], [1.0, \"#f0f921\"]], \"type\": \"heatmapgl\"}], \"histogram\": [{\"marker\": {\"colorbar\": {\"outlinewidth\": 0, \"ticks\": \"\"}}, \"type\": \"histogram\"}], \"histogram2d\": [{\"colorbar\": {\"outlinewidth\": 0, \"ticks\": \"\"}, \"colorscale\": [[0.0, \"#0d0887\"], [0.1111111111111111, \"#46039f\"], [0.2222222222222222, \"#7201a8\"], [0.3333333333333333, \"#9c179e\"], [0.4444444444444444, \"#bd3786\"], [0.5555555555555556, \"#d8576b\"], [0.6666666666666666, \"#ed7953\"], [0.7777777777777778, \"#fb9f3a\"], [0.8888888888888888, \"#fdca26\"], [1.0, \"#f0f921\"]], \"type\": \"histogram2d\"}], \"histogram2dcontour\": [{\"colorbar\": {\"outlinewidth\": 0, \"ticks\": \"\"}, \"colorscale\": [[0.0, \"#0d0887\"], [0.1111111111111111, \"#46039f\"], [0.2222222222222222, \"#7201a8\"], [0.3333333333333333, \"#9c179e\"], [0.4444444444444444, \"#bd3786\"], [0.5555555555555556, \"#d8576b\"], [0.6666666666666666, \"#ed7953\"], [0.7777777777777778, \"#fb9f3a\"], [0.8888888888888888, \"#fdca26\"], [1.0, \"#f0f921\"]], \"type\": \"histogram2dcontour\"}], \"mesh3d\": [{\"colorbar\": {\"outlinewidth\": 0, \"ticks\": \"\"}, \"type\": \"mesh3d\"}], \"parcoords\": [{\"line\": {\"colorbar\": {\"outlinewidth\": 0, \"ticks\": \"\"}}, \"type\": \"parcoords\"}], \"pie\": [{\"automargin\": true, \"type\": \"pie\"}], \"scatter\": [{\"marker\": {\"colorbar\": {\"outlinewidth\": 0, \"ticks\": \"\"}}, \"type\": \"scatter\"}], \"scatter3d\": [{\"line\": {\"colorbar\": {\"outlinewidth\": 0, \"ticks\": \"\"}}, \"marker\": {\"colorbar\": {\"outlinewidth\": 0, \"ticks\": \"\"}}, \"type\": \"scatter3d\"}], \"scattercarpet\": [{\"marker\": {\"colorbar\": {\"outlinewidth\": 0, \"ticks\": \"\"}}, \"type\": \"scattercarpet\"}], \"scattergeo\": [{\"marker\": {\"colorbar\": {\"outlinewidth\": 0, \"ticks\": \"\"}}, \"type\": \"scattergeo\"}], \"scattergl\": [{\"marker\": {\"colorbar\": {\"outlinewidth\": 0, \"ticks\": \"\"}}, \"type\": \"scattergl\"}], \"scattermapbox\": [{\"marker\": {\"colorbar\": {\"outlinewidth\": 0, \"ticks\": \"\"}}, \"type\": \"scattermapbox\"}], \"scatterpolar\": [{\"marker\": {\"colorbar\": {\"outlinewidth\": 0, \"ticks\": \"\"}}, \"type\": \"scatterpolar\"}], \"scatterpolargl\": [{\"marker\": {\"colorbar\": {\"outlinewidth\": 0, \"ticks\": \"\"}}, \"type\": \"scatterpolargl\"}], \"scatterternary\": [{\"marker\": {\"colorbar\": {\"outlinewidth\": 0, \"ticks\": \"\"}}, \"type\": \"scatterternary\"}], \"surface\": [{\"colorbar\": {\"outlinewidth\": 0, \"ticks\": \"\"}, \"colorscale\": [[0.0, \"#0d0887\"], [0.1111111111111111, \"#46039f\"], [0.2222222222222222, \"#7201a8\"], [0.3333333333333333, \"#9c179e\"], [0.4444444444444444, \"#bd3786\"], [0.5555555555555556, \"#d8576b\"], [0.6666666666666666, \"#ed7953\"], [0.7777777777777778, \"#fb9f3a\"], [0.8888888888888888, \"#fdca26\"], [1.0, \"#f0f921\"]], \"type\": \"surface\"}], \"table\": [{\"cells\": {\"fill\": {\"color\": \"#EBF0F8\"}, \"line\": {\"color\": \"white\"}}, \"header\": {\"fill\": {\"color\": \"#C8D4E3\"}, \"line\": {\"color\": \"white\"}}, \"type\": \"table\"}]}, \"layout\": {\"annotationdefaults\": {\"arrowcolor\": \"#2a3f5f\", \"arrowhead\": 0, \"arrowwidth\": 1}, \"autotypenumbers\": \"strict\", \"coloraxis\": {\"colorbar\": {\"outlinewidth\": 0, \"ticks\": \"\"}}, \"colorscale\": {\"diverging\": [[0, \"#8e0152\"], [0.1, \"#c51b7d\"], [0.2, \"#de77ae\"], [0.3, \"#f1b6da\"], [0.4, \"#fde0ef\"], [0.5, \"#f7f7f7\"], [0.6, \"#e6f5d0\"], [0.7, \"#b8e186\"], [0.8, \"#7fbc41\"], [0.9, \"#4d9221\"], [1, \"#276419\"]], \"sequential\": [[0.0, \"#0d0887\"], [0.1111111111111111, \"#46039f\"], [0.2222222222222222, \"#7201a8\"], [0.3333333333333333, \"#9c179e\"], [0.4444444444444444, \"#bd3786\"], [0.5555555555555556, \"#d8576b\"], [0.6666666666666666, \"#ed7953\"], [0.7777777777777778, \"#fb9f3a\"], [0.8888888888888888, \"#fdca26\"], [1.0, \"#f0f921\"]], \"sequentialminus\": [[0.0, \"#0d0887\"], [0.1111111111111111, \"#46039f\"], [0.2222222222222222, \"#7201a8\"], [0.3333333333333333, \"#9c179e\"], [0.4444444444444444, \"#bd3786\"], [0.5555555555555556, \"#d8576b\"], [0.6666666666666666, \"#ed7953\"], [0.7777777777777778, \"#fb9f3a\"], [0.8888888888888888, \"#fdca26\"], [1.0, \"#f0f921\"]]}, \"colorway\": [\"#636efa\", \"#EF553B\", \"#00cc96\", \"#ab63fa\", \"#FFA15A\", \"#19d3f3\", \"#FF6692\", \"#B6E880\", \"#FF97FF\", \"#FECB52\"], \"font\": {\"color\": \"#2a3f5f\"}, \"geo\": {\"bgcolor\": \"white\", \"lakecolor\": \"white\", \"landcolor\": \"#E5ECF6\", \"showlakes\": true, \"showland\": true, \"subunitcolor\": \"white\"}, \"hoverlabel\": {\"align\": \"left\"}, \"hovermode\": \"closest\", \"mapbox\": {\"style\": \"light\"}, \"paper_bgcolor\": \"white\", \"plot_bgcolor\": \"#E5ECF6\", \"polar\": {\"angularaxis\": {\"gridcolor\": \"white\", \"linecolor\": \"white\", \"ticks\": \"\"}, \"bgcolor\": \"#E5ECF6\", \"radialaxis\": {\"gridcolor\": \"white\", \"linecolor\": \"white\", \"ticks\": \"\"}}, \"scene\": {\"xaxis\": {\"backgroundcolor\": \"#E5ECF6\", \"gridcolor\": \"white\", \"gridwidth\": 2, \"linecolor\": \"white\", \"showbackground\": true, \"ticks\": \"\", \"zerolinecolor\": \"white\"}, \"yaxis\": {\"backgroundcolor\": \"#E5ECF6\", \"gridcolor\": \"white\", \"gridwidth\": 2, \"linecolor\": \"white\", \"showbackground\": true, \"ticks\": \"\", \"zerolinecolor\": \"white\"}, \"zaxis\": {\"backgroundcolor\": \"#E5ECF6\", \"gridcolor\": \"white\", \"gridwidth\": 2, \"linecolor\": \"white\", \"showbackground\": true, \"ticks\": \"\", \"zerolinecolor\": \"white\"}}, \"shapedefaults\": {\"line\": {\"color\": \"#2a3f5f\"}}, \"ternary\": {\"aaxis\": {\"gridcolor\": \"white\", \"linecolor\": \"white\", \"ticks\": \"\"}, \"baxis\": {\"gridcolor\": \"white\", \"linecolor\": \"white\", \"ticks\": \"\"}, \"bgcolor\": \"#E5ECF6\", \"caxis\": {\"gridcolor\": \"white\", \"linecolor\": \"white\", \"ticks\": \"\"}}, \"title\": {\"x\": 0.05}, \"xaxis\": {\"automargin\": true, \"gridcolor\": \"white\", \"linecolor\": \"white\", \"ticks\": \"\", \"title\": {\"standoff\": 15}, \"zerolinecolor\": \"white\", \"zerolinewidth\": 2}, \"yaxis\": {\"automargin\": true, \"gridcolor\": \"white\", \"linecolor\": \"white\", \"ticks\": \"\", \"title\": {\"standoff\": 15}, \"zerolinecolor\": \"white\", \"zerolinewidth\": 2}}}, \"title\": {\"text\": \"Top day of the week for selling\"}, \"xaxis\": {\"anchor\": \"y\", \"domain\": [0.0, 1.0], \"title\": {\"text\": \"value\"}}, \"yaxis\": {\"anchor\": \"x\", \"categoryarray\": [\"Thursday\", \"Wednesday\", \"Tuesday\", \"Friday\", \"Saturday\", \"Monday\", \"Sunday\"], \"categoryorder\": \"array\", \"domain\": [0.0, 1.0], \"title\": {\"text\": \"day_of_week\"}}},                        {\"responsive\": true}                    ).then(function(){\n",
       "                            \n",
       "var gd = document.getElementById('ddfdffbb-4637-40c4-be52-2d6c65a4090d');\n",
       "var x = new MutationObserver(function (mutations, observer) {{\n",
       "        var display = window.getComputedStyle(gd).display;\n",
       "        if (!display || display === 'none') {{\n",
       "            console.log([gd, 'removed!']);\n",
       "            Plotly.purge(gd);\n",
       "            observer.disconnect();\n",
       "        }}\n",
       "}});\n",
       "\n",
       "// Listen for the removal of the full notebook cells\n",
       "var notebookContainer = gd.closest('#notebook-container');\n",
       "if (notebookContainer) {{\n",
       "    x.observe(notebookContainer, {childList: true});\n",
       "}}\n",
       "\n",
       "// Listen for the clearing of the current output cell\n",
       "var outputEl = gd.closest('.output');\n",
       "if (outputEl) {{\n",
       "    x.observe(outputEl, {childList: true});\n",
       "}}\n",
       "\n",
       "                        })                };                });            </script>        </div>"
      ]
     },
     "metadata": {},
     "output_type": "display_data"
    }
   ],
   "source": [
    "# transformation of the variable day of the week\n",
    "# changing the name\n",
    "df_for_plot = df.copy()\n",
    "df_for_plot['day_of_week'] = df_for_plot['order_dow']\n",
    "df_for_plot.drop('order_dow', axis=1, inplace=True)\n",
    "# changing the values\n",
    "df_for_plot['day_of_week'] = df_for_plot['day_of_week'].replace([0,1,2,3,4,5,6],  \n",
    "                    ['Sunday','Monday', 'Tuesday', 'Wednesday','Thursday','Friday', 'Saturday'])\n",
    "\n",
    "# checking the top products (most sold)\n",
    "top_dow = pd.DataFrame(df_for_plot['day_of_week'].value_counts().head(10)).reset_index()\n",
    "top_dow.columns = ['day_of_week', 'value']\n",
    "fig = px.bar(top_dow, y = 'day_of_week', x = 'value', orientation='h', \n",
    "            color_discrete_sequence=px.colors.qualitative.Antique, color=\"day_of_week\", \n",
    "            title='Top day of the week for selling')\n",
    "fig.show()"
   ]
  },
  {
   "cell_type": "code",
   "execution_count": 141,
   "metadata": {},
   "outputs": [
    {
     "data": {
      "application/vnd.plotly.v1+json": {
       "config": {
        "plotlyServerURL": "https://plot.ly"
       },
       "data": [
        {
         "type": "scatter",
         "x": [
          0,
          1,
          2,
          3,
          4,
          5,
          6,
          7,
          8,
          9,
          10,
          11,
          12,
          13,
          14,
          15,
          16,
          17,
          18,
          19,
          20,
          21,
          22,
          23
         ],
         "y": [
          13481,
          7283,
          4210,
          2994,
          3269,
          5732,
          18293,
          54143,
          106754,
          150248,
          173306,
          170291,
          163511,
          166376,
          167831,
          167157,
          158247,
          129383,
          102416,
          78516,
          62110,
          48857,
          40762,
          24331
         ]
        }
       ],
       "layout": {
        "template": {
         "data": {
          "bar": [
           {
            "error_x": {
             "color": "#2a3f5f"
            },
            "error_y": {
             "color": "#2a3f5f"
            },
            "marker": {
             "line": {
              "color": "#E5ECF6",
              "width": 0.5
             }
            },
            "type": "bar"
           }
          ],
          "barpolar": [
           {
            "marker": {
             "line": {
              "color": "#E5ECF6",
              "width": 0.5
             }
            },
            "type": "barpolar"
           }
          ],
          "carpet": [
           {
            "aaxis": {
             "endlinecolor": "#2a3f5f",
             "gridcolor": "white",
             "linecolor": "white",
             "minorgridcolor": "white",
             "startlinecolor": "#2a3f5f"
            },
            "baxis": {
             "endlinecolor": "#2a3f5f",
             "gridcolor": "white",
             "linecolor": "white",
             "minorgridcolor": "white",
             "startlinecolor": "#2a3f5f"
            },
            "type": "carpet"
           }
          ],
          "choropleth": [
           {
            "colorbar": {
             "outlinewidth": 0,
             "ticks": ""
            },
            "type": "choropleth"
           }
          ],
          "contour": [
           {
            "colorbar": {
             "outlinewidth": 0,
             "ticks": ""
            },
            "colorscale": [
             [
              0,
              "#0d0887"
             ],
             [
              0.1111111111111111,
              "#46039f"
             ],
             [
              0.2222222222222222,
              "#7201a8"
             ],
             [
              0.3333333333333333,
              "#9c179e"
             ],
             [
              0.4444444444444444,
              "#bd3786"
             ],
             [
              0.5555555555555556,
              "#d8576b"
             ],
             [
              0.6666666666666666,
              "#ed7953"
             ],
             [
              0.7777777777777778,
              "#fb9f3a"
             ],
             [
              0.8888888888888888,
              "#fdca26"
             ],
             [
              1,
              "#f0f921"
             ]
            ],
            "type": "contour"
           }
          ],
          "contourcarpet": [
           {
            "colorbar": {
             "outlinewidth": 0,
             "ticks": ""
            },
            "type": "contourcarpet"
           }
          ],
          "heatmap": [
           {
            "colorbar": {
             "outlinewidth": 0,
             "ticks": ""
            },
            "colorscale": [
             [
              0,
              "#0d0887"
             ],
             [
              0.1111111111111111,
              "#46039f"
             ],
             [
              0.2222222222222222,
              "#7201a8"
             ],
             [
              0.3333333333333333,
              "#9c179e"
             ],
             [
              0.4444444444444444,
              "#bd3786"
             ],
             [
              0.5555555555555556,
              "#d8576b"
             ],
             [
              0.6666666666666666,
              "#ed7953"
             ],
             [
              0.7777777777777778,
              "#fb9f3a"
             ],
             [
              0.8888888888888888,
              "#fdca26"
             ],
             [
              1,
              "#f0f921"
             ]
            ],
            "type": "heatmap"
           }
          ],
          "heatmapgl": [
           {
            "colorbar": {
             "outlinewidth": 0,
             "ticks": ""
            },
            "colorscale": [
             [
              0,
              "#0d0887"
             ],
             [
              0.1111111111111111,
              "#46039f"
             ],
             [
              0.2222222222222222,
              "#7201a8"
             ],
             [
              0.3333333333333333,
              "#9c179e"
             ],
             [
              0.4444444444444444,
              "#bd3786"
             ],
             [
              0.5555555555555556,
              "#d8576b"
             ],
             [
              0.6666666666666666,
              "#ed7953"
             ],
             [
              0.7777777777777778,
              "#fb9f3a"
             ],
             [
              0.8888888888888888,
              "#fdca26"
             ],
             [
              1,
              "#f0f921"
             ]
            ],
            "type": "heatmapgl"
           }
          ],
          "histogram": [
           {
            "marker": {
             "colorbar": {
              "outlinewidth": 0,
              "ticks": ""
             }
            },
            "type": "histogram"
           }
          ],
          "histogram2d": [
           {
            "colorbar": {
             "outlinewidth": 0,
             "ticks": ""
            },
            "colorscale": [
             [
              0,
              "#0d0887"
             ],
             [
              0.1111111111111111,
              "#46039f"
             ],
             [
              0.2222222222222222,
              "#7201a8"
             ],
             [
              0.3333333333333333,
              "#9c179e"
             ],
             [
              0.4444444444444444,
              "#bd3786"
             ],
             [
              0.5555555555555556,
              "#d8576b"
             ],
             [
              0.6666666666666666,
              "#ed7953"
             ],
             [
              0.7777777777777778,
              "#fb9f3a"
             ],
             [
              0.8888888888888888,
              "#fdca26"
             ],
             [
              1,
              "#f0f921"
             ]
            ],
            "type": "histogram2d"
           }
          ],
          "histogram2dcontour": [
           {
            "colorbar": {
             "outlinewidth": 0,
             "ticks": ""
            },
            "colorscale": [
             [
              0,
              "#0d0887"
             ],
             [
              0.1111111111111111,
              "#46039f"
             ],
             [
              0.2222222222222222,
              "#7201a8"
             ],
             [
              0.3333333333333333,
              "#9c179e"
             ],
             [
              0.4444444444444444,
              "#bd3786"
             ],
             [
              0.5555555555555556,
              "#d8576b"
             ],
             [
              0.6666666666666666,
              "#ed7953"
             ],
             [
              0.7777777777777778,
              "#fb9f3a"
             ],
             [
              0.8888888888888888,
              "#fdca26"
             ],
             [
              1,
              "#f0f921"
             ]
            ],
            "type": "histogram2dcontour"
           }
          ],
          "mesh3d": [
           {
            "colorbar": {
             "outlinewidth": 0,
             "ticks": ""
            },
            "type": "mesh3d"
           }
          ],
          "parcoords": [
           {
            "line": {
             "colorbar": {
              "outlinewidth": 0,
              "ticks": ""
             }
            },
            "type": "parcoords"
           }
          ],
          "pie": [
           {
            "automargin": true,
            "type": "pie"
           }
          ],
          "scatter": [
           {
            "marker": {
             "colorbar": {
              "outlinewidth": 0,
              "ticks": ""
             }
            },
            "type": "scatter"
           }
          ],
          "scatter3d": [
           {
            "line": {
             "colorbar": {
              "outlinewidth": 0,
              "ticks": ""
             }
            },
            "marker": {
             "colorbar": {
              "outlinewidth": 0,
              "ticks": ""
             }
            },
            "type": "scatter3d"
           }
          ],
          "scattercarpet": [
           {
            "marker": {
             "colorbar": {
              "outlinewidth": 0,
              "ticks": ""
             }
            },
            "type": "scattercarpet"
           }
          ],
          "scattergeo": [
           {
            "marker": {
             "colorbar": {
              "outlinewidth": 0,
              "ticks": ""
             }
            },
            "type": "scattergeo"
           }
          ],
          "scattergl": [
           {
            "marker": {
             "colorbar": {
              "outlinewidth": 0,
              "ticks": ""
             }
            },
            "type": "scattergl"
           }
          ],
          "scattermapbox": [
           {
            "marker": {
             "colorbar": {
              "outlinewidth": 0,
              "ticks": ""
             }
            },
            "type": "scattermapbox"
           }
          ],
          "scatterpolar": [
           {
            "marker": {
             "colorbar": {
              "outlinewidth": 0,
              "ticks": ""
             }
            },
            "type": "scatterpolar"
           }
          ],
          "scatterpolargl": [
           {
            "marker": {
             "colorbar": {
              "outlinewidth": 0,
              "ticks": ""
             }
            },
            "type": "scatterpolargl"
           }
          ],
          "scatterternary": [
           {
            "marker": {
             "colorbar": {
              "outlinewidth": 0,
              "ticks": ""
             }
            },
            "type": "scatterternary"
           }
          ],
          "surface": [
           {
            "colorbar": {
             "outlinewidth": 0,
             "ticks": ""
            },
            "colorscale": [
             [
              0,
              "#0d0887"
             ],
             [
              0.1111111111111111,
              "#46039f"
             ],
             [
              0.2222222222222222,
              "#7201a8"
             ],
             [
              0.3333333333333333,
              "#9c179e"
             ],
             [
              0.4444444444444444,
              "#bd3786"
             ],
             [
              0.5555555555555556,
              "#d8576b"
             ],
             [
              0.6666666666666666,
              "#ed7953"
             ],
             [
              0.7777777777777778,
              "#fb9f3a"
             ],
             [
              0.8888888888888888,
              "#fdca26"
             ],
             [
              1,
              "#f0f921"
             ]
            ],
            "type": "surface"
           }
          ],
          "table": [
           {
            "cells": {
             "fill": {
              "color": "#EBF0F8"
             },
             "line": {
              "color": "white"
             }
            },
            "header": {
             "fill": {
              "color": "#C8D4E3"
             },
             "line": {
              "color": "white"
             }
            },
            "type": "table"
           }
          ]
         },
         "layout": {
          "annotationdefaults": {
           "arrowcolor": "#2a3f5f",
           "arrowhead": 0,
           "arrowwidth": 1
          },
          "autotypenumbers": "strict",
          "coloraxis": {
           "colorbar": {
            "outlinewidth": 0,
            "ticks": ""
           }
          },
          "colorscale": {
           "diverging": [
            [
             0,
             "#8e0152"
            ],
            [
             0.1,
             "#c51b7d"
            ],
            [
             0.2,
             "#de77ae"
            ],
            [
             0.3,
             "#f1b6da"
            ],
            [
             0.4,
             "#fde0ef"
            ],
            [
             0.5,
             "#f7f7f7"
            ],
            [
             0.6,
             "#e6f5d0"
            ],
            [
             0.7,
             "#b8e186"
            ],
            [
             0.8,
             "#7fbc41"
            ],
            [
             0.9,
             "#4d9221"
            ],
            [
             1,
             "#276419"
            ]
           ],
           "sequential": [
            [
             0,
             "#0d0887"
            ],
            [
             0.1111111111111111,
             "#46039f"
            ],
            [
             0.2222222222222222,
             "#7201a8"
            ],
            [
             0.3333333333333333,
             "#9c179e"
            ],
            [
             0.4444444444444444,
             "#bd3786"
            ],
            [
             0.5555555555555556,
             "#d8576b"
            ],
            [
             0.6666666666666666,
             "#ed7953"
            ],
            [
             0.7777777777777778,
             "#fb9f3a"
            ],
            [
             0.8888888888888888,
             "#fdca26"
            ],
            [
             1,
             "#f0f921"
            ]
           ],
           "sequentialminus": [
            [
             0,
             "#0d0887"
            ],
            [
             0.1111111111111111,
             "#46039f"
            ],
            [
             0.2222222222222222,
             "#7201a8"
            ],
            [
             0.3333333333333333,
             "#9c179e"
            ],
            [
             0.4444444444444444,
             "#bd3786"
            ],
            [
             0.5555555555555556,
             "#d8576b"
            ],
            [
             0.6666666666666666,
             "#ed7953"
            ],
            [
             0.7777777777777778,
             "#fb9f3a"
            ],
            [
             0.8888888888888888,
             "#fdca26"
            ],
            [
             1,
             "#f0f921"
            ]
           ]
          },
          "colorway": [
           "#636efa",
           "#EF553B",
           "#00cc96",
           "#ab63fa",
           "#FFA15A",
           "#19d3f3",
           "#FF6692",
           "#B6E880",
           "#FF97FF",
           "#FECB52"
          ],
          "font": {
           "color": "#2a3f5f"
          },
          "geo": {
           "bgcolor": "white",
           "lakecolor": "white",
           "landcolor": "#E5ECF6",
           "showlakes": true,
           "showland": true,
           "subunitcolor": "white"
          },
          "hoverlabel": {
           "align": "left"
          },
          "hovermode": "closest",
          "mapbox": {
           "style": "light"
          },
          "paper_bgcolor": "white",
          "plot_bgcolor": "#E5ECF6",
          "polar": {
           "angularaxis": {
            "gridcolor": "white",
            "linecolor": "white",
            "ticks": ""
           },
           "bgcolor": "#E5ECF6",
           "radialaxis": {
            "gridcolor": "white",
            "linecolor": "white",
            "ticks": ""
           }
          },
          "scene": {
           "xaxis": {
            "backgroundcolor": "#E5ECF6",
            "gridcolor": "white",
            "gridwidth": 2,
            "linecolor": "white",
            "showbackground": true,
            "ticks": "",
            "zerolinecolor": "white"
           },
           "yaxis": {
            "backgroundcolor": "#E5ECF6",
            "gridcolor": "white",
            "gridwidth": 2,
            "linecolor": "white",
            "showbackground": true,
            "ticks": "",
            "zerolinecolor": "white"
           },
           "zaxis": {
            "backgroundcolor": "#E5ECF6",
            "gridcolor": "white",
            "gridwidth": 2,
            "linecolor": "white",
            "showbackground": true,
            "ticks": "",
            "zerolinecolor": "white"
           }
          },
          "shapedefaults": {
           "line": {
            "color": "#2a3f5f"
           }
          },
          "ternary": {
           "aaxis": {
            "gridcolor": "white",
            "linecolor": "white",
            "ticks": ""
           },
           "baxis": {
            "gridcolor": "white",
            "linecolor": "white",
            "ticks": ""
           },
           "bgcolor": "#E5ECF6",
           "caxis": {
            "gridcolor": "white",
            "linecolor": "white",
            "ticks": ""
           }
          },
          "title": {
           "x": 0.05
          },
          "xaxis": {
           "automargin": true,
           "gridcolor": "white",
           "linecolor": "white",
           "ticks": "",
           "title": {
            "standoff": 15
           },
           "zerolinecolor": "white",
           "zerolinewidth": 2
          },
          "yaxis": {
           "automargin": true,
           "gridcolor": "white",
           "linecolor": "white",
           "ticks": "",
           "title": {
            "standoff": 15
           },
           "zerolinecolor": "white",
           "zerolinewidth": 2
          }
         }
        },
        "title": {
         "text": "Frequency purchases per hour of the day"
        },
        "xaxis": {
         "title": {
          "text": "Hour"
         }
        },
        "yaxis": {
         "title": {
          "text": "Total Frequency"
         }
        }
       }
      },
      "text/html": [
       "<div>                            <div id=\"df6da0ec-f380-4aeb-9b0e-37a2ee0c0a51\" class=\"plotly-graph-div\" style=\"height:525px; width:100%;\"></div>            <script type=\"text/javascript\">                require([\"plotly\"], function(Plotly) {                    window.PLOTLYENV=window.PLOTLYENV || {};                                    if (document.getElementById(\"df6da0ec-f380-4aeb-9b0e-37a2ee0c0a51\")) {                    Plotly.newPlot(                        \"df6da0ec-f380-4aeb-9b0e-37a2ee0c0a51\",                        [{\"type\": \"scatter\", \"x\": [0, 1, 2, 3, 4, 5, 6, 7, 8, 9, 10, 11, 12, 13, 14, 15, 16, 17, 18, 19, 20, 21, 22, 23], \"y\": [13481, 7283, 4210, 2994, 3269, 5732, 18293, 54143, 106754, 150248, 173306, 170291, 163511, 166376, 167831, 167157, 158247, 129383, 102416, 78516, 62110, 48857, 40762, 24331]}],                        {\"template\": {\"data\": {\"bar\": [{\"error_x\": {\"color\": \"#2a3f5f\"}, \"error_y\": {\"color\": \"#2a3f5f\"}, \"marker\": {\"line\": {\"color\": \"#E5ECF6\", \"width\": 0.5}}, \"type\": \"bar\"}], \"barpolar\": [{\"marker\": {\"line\": {\"color\": \"#E5ECF6\", \"width\": 0.5}}, \"type\": \"barpolar\"}], \"carpet\": [{\"aaxis\": {\"endlinecolor\": \"#2a3f5f\", \"gridcolor\": \"white\", \"linecolor\": \"white\", \"minorgridcolor\": \"white\", \"startlinecolor\": \"#2a3f5f\"}, \"baxis\": {\"endlinecolor\": \"#2a3f5f\", \"gridcolor\": \"white\", \"linecolor\": \"white\", \"minorgridcolor\": \"white\", \"startlinecolor\": \"#2a3f5f\"}, \"type\": \"carpet\"}], \"choropleth\": [{\"colorbar\": {\"outlinewidth\": 0, \"ticks\": \"\"}, \"type\": \"choropleth\"}], \"contour\": [{\"colorbar\": {\"outlinewidth\": 0, \"ticks\": \"\"}, \"colorscale\": [[0.0, \"#0d0887\"], [0.1111111111111111, \"#46039f\"], [0.2222222222222222, \"#7201a8\"], [0.3333333333333333, \"#9c179e\"], [0.4444444444444444, \"#bd3786\"], [0.5555555555555556, \"#d8576b\"], [0.6666666666666666, \"#ed7953\"], [0.7777777777777778, \"#fb9f3a\"], [0.8888888888888888, \"#fdca26\"], [1.0, \"#f0f921\"]], \"type\": \"contour\"}], \"contourcarpet\": [{\"colorbar\": {\"outlinewidth\": 0, \"ticks\": \"\"}, \"type\": \"contourcarpet\"}], \"heatmap\": [{\"colorbar\": {\"outlinewidth\": 0, \"ticks\": \"\"}, \"colorscale\": [[0.0, \"#0d0887\"], [0.1111111111111111, \"#46039f\"], [0.2222222222222222, \"#7201a8\"], [0.3333333333333333, \"#9c179e\"], [0.4444444444444444, \"#bd3786\"], [0.5555555555555556, \"#d8576b\"], [0.6666666666666666, \"#ed7953\"], [0.7777777777777778, \"#fb9f3a\"], [0.8888888888888888, \"#fdca26\"], [1.0, \"#f0f921\"]], \"type\": \"heatmap\"}], \"heatmapgl\": [{\"colorbar\": {\"outlinewidth\": 0, \"ticks\": \"\"}, \"colorscale\": [[0.0, \"#0d0887\"], [0.1111111111111111, \"#46039f\"], [0.2222222222222222, \"#7201a8\"], [0.3333333333333333, \"#9c179e\"], [0.4444444444444444, \"#bd3786\"], [0.5555555555555556, \"#d8576b\"], [0.6666666666666666, \"#ed7953\"], [0.7777777777777778, \"#fb9f3a\"], [0.8888888888888888, \"#fdca26\"], [1.0, \"#f0f921\"]], \"type\": \"heatmapgl\"}], \"histogram\": [{\"marker\": {\"colorbar\": {\"outlinewidth\": 0, \"ticks\": \"\"}}, \"type\": \"histogram\"}], \"histogram2d\": [{\"colorbar\": {\"outlinewidth\": 0, \"ticks\": \"\"}, \"colorscale\": [[0.0, \"#0d0887\"], [0.1111111111111111, \"#46039f\"], [0.2222222222222222, \"#7201a8\"], [0.3333333333333333, \"#9c179e\"], [0.4444444444444444, \"#bd3786\"], [0.5555555555555556, \"#d8576b\"], [0.6666666666666666, \"#ed7953\"], [0.7777777777777778, \"#fb9f3a\"], [0.8888888888888888, \"#fdca26\"], [1.0, \"#f0f921\"]], \"type\": \"histogram2d\"}], \"histogram2dcontour\": [{\"colorbar\": {\"outlinewidth\": 0, \"ticks\": \"\"}, \"colorscale\": [[0.0, \"#0d0887\"], [0.1111111111111111, \"#46039f\"], [0.2222222222222222, \"#7201a8\"], [0.3333333333333333, \"#9c179e\"], [0.4444444444444444, \"#bd3786\"], [0.5555555555555556, \"#d8576b\"], [0.6666666666666666, \"#ed7953\"], [0.7777777777777778, \"#fb9f3a\"], [0.8888888888888888, \"#fdca26\"], [1.0, \"#f0f921\"]], \"type\": \"histogram2dcontour\"}], \"mesh3d\": [{\"colorbar\": {\"outlinewidth\": 0, \"ticks\": \"\"}, \"type\": \"mesh3d\"}], \"parcoords\": [{\"line\": {\"colorbar\": {\"outlinewidth\": 0, \"ticks\": \"\"}}, \"type\": \"parcoords\"}], \"pie\": [{\"automargin\": true, \"type\": \"pie\"}], \"scatter\": [{\"marker\": {\"colorbar\": {\"outlinewidth\": 0, \"ticks\": \"\"}}, \"type\": \"scatter\"}], \"scatter3d\": [{\"line\": {\"colorbar\": {\"outlinewidth\": 0, \"ticks\": \"\"}}, \"marker\": {\"colorbar\": {\"outlinewidth\": 0, \"ticks\": \"\"}}, \"type\": \"scatter3d\"}], \"scattercarpet\": [{\"marker\": {\"colorbar\": {\"outlinewidth\": 0, \"ticks\": \"\"}}, \"type\": \"scattercarpet\"}], \"scattergeo\": [{\"marker\": {\"colorbar\": {\"outlinewidth\": 0, \"ticks\": \"\"}}, \"type\": \"scattergeo\"}], \"scattergl\": [{\"marker\": {\"colorbar\": {\"outlinewidth\": 0, \"ticks\": \"\"}}, \"type\": \"scattergl\"}], \"scattermapbox\": [{\"marker\": {\"colorbar\": {\"outlinewidth\": 0, \"ticks\": \"\"}}, \"type\": \"scattermapbox\"}], \"scatterpolar\": [{\"marker\": {\"colorbar\": {\"outlinewidth\": 0, \"ticks\": \"\"}}, \"type\": \"scatterpolar\"}], \"scatterpolargl\": [{\"marker\": {\"colorbar\": {\"outlinewidth\": 0, \"ticks\": \"\"}}, \"type\": \"scatterpolargl\"}], \"scatterternary\": [{\"marker\": {\"colorbar\": {\"outlinewidth\": 0, \"ticks\": \"\"}}, \"type\": \"scatterternary\"}], \"surface\": [{\"colorbar\": {\"outlinewidth\": 0, \"ticks\": \"\"}, \"colorscale\": [[0.0, \"#0d0887\"], [0.1111111111111111, \"#46039f\"], [0.2222222222222222, \"#7201a8\"], [0.3333333333333333, \"#9c179e\"], [0.4444444444444444, \"#bd3786\"], [0.5555555555555556, \"#d8576b\"], [0.6666666666666666, \"#ed7953\"], [0.7777777777777778, \"#fb9f3a\"], [0.8888888888888888, \"#fdca26\"], [1.0, \"#f0f921\"]], \"type\": \"surface\"}], \"table\": [{\"cells\": {\"fill\": {\"color\": \"#EBF0F8\"}, \"line\": {\"color\": \"white\"}}, \"header\": {\"fill\": {\"color\": \"#C8D4E3\"}, \"line\": {\"color\": \"white\"}}, \"type\": \"table\"}]}, \"layout\": {\"annotationdefaults\": {\"arrowcolor\": \"#2a3f5f\", \"arrowhead\": 0, \"arrowwidth\": 1}, \"autotypenumbers\": \"strict\", \"coloraxis\": {\"colorbar\": {\"outlinewidth\": 0, \"ticks\": \"\"}}, \"colorscale\": {\"diverging\": [[0, \"#8e0152\"], [0.1, \"#c51b7d\"], [0.2, \"#de77ae\"], [0.3, \"#f1b6da\"], [0.4, \"#fde0ef\"], [0.5, \"#f7f7f7\"], [0.6, \"#e6f5d0\"], [0.7, \"#b8e186\"], [0.8, \"#7fbc41\"], [0.9, \"#4d9221\"], [1, \"#276419\"]], \"sequential\": [[0.0, \"#0d0887\"], [0.1111111111111111, \"#46039f\"], [0.2222222222222222, \"#7201a8\"], [0.3333333333333333, \"#9c179e\"], [0.4444444444444444, \"#bd3786\"], [0.5555555555555556, \"#d8576b\"], [0.6666666666666666, \"#ed7953\"], [0.7777777777777778, \"#fb9f3a\"], [0.8888888888888888, \"#fdca26\"], [1.0, \"#f0f921\"]], \"sequentialminus\": [[0.0, \"#0d0887\"], [0.1111111111111111, \"#46039f\"], [0.2222222222222222, \"#7201a8\"], [0.3333333333333333, \"#9c179e\"], [0.4444444444444444, \"#bd3786\"], [0.5555555555555556, \"#d8576b\"], [0.6666666666666666, \"#ed7953\"], [0.7777777777777778, \"#fb9f3a\"], [0.8888888888888888, \"#fdca26\"], [1.0, \"#f0f921\"]]}, \"colorway\": [\"#636efa\", \"#EF553B\", \"#00cc96\", \"#ab63fa\", \"#FFA15A\", \"#19d3f3\", \"#FF6692\", \"#B6E880\", \"#FF97FF\", \"#FECB52\"], \"font\": {\"color\": \"#2a3f5f\"}, \"geo\": {\"bgcolor\": \"white\", \"lakecolor\": \"white\", \"landcolor\": \"#E5ECF6\", \"showlakes\": true, \"showland\": true, \"subunitcolor\": \"white\"}, \"hoverlabel\": {\"align\": \"left\"}, \"hovermode\": \"closest\", \"mapbox\": {\"style\": \"light\"}, \"paper_bgcolor\": \"white\", \"plot_bgcolor\": \"#E5ECF6\", \"polar\": {\"angularaxis\": {\"gridcolor\": \"white\", \"linecolor\": \"white\", \"ticks\": \"\"}, \"bgcolor\": \"#E5ECF6\", \"radialaxis\": {\"gridcolor\": \"white\", \"linecolor\": \"white\", \"ticks\": \"\"}}, \"scene\": {\"xaxis\": {\"backgroundcolor\": \"#E5ECF6\", \"gridcolor\": \"white\", \"gridwidth\": 2, \"linecolor\": \"white\", \"showbackground\": true, \"ticks\": \"\", \"zerolinecolor\": \"white\"}, \"yaxis\": {\"backgroundcolor\": \"#E5ECF6\", \"gridcolor\": \"white\", \"gridwidth\": 2, \"linecolor\": \"white\", \"showbackground\": true, \"ticks\": \"\", \"zerolinecolor\": \"white\"}, \"zaxis\": {\"backgroundcolor\": \"#E5ECF6\", \"gridcolor\": \"white\", \"gridwidth\": 2, \"linecolor\": \"white\", \"showbackground\": true, \"ticks\": \"\", \"zerolinecolor\": \"white\"}}, \"shapedefaults\": {\"line\": {\"color\": \"#2a3f5f\"}}, \"ternary\": {\"aaxis\": {\"gridcolor\": \"white\", \"linecolor\": \"white\", \"ticks\": \"\"}, \"baxis\": {\"gridcolor\": \"white\", \"linecolor\": \"white\", \"ticks\": \"\"}, \"bgcolor\": \"#E5ECF6\", \"caxis\": {\"gridcolor\": \"white\", \"linecolor\": \"white\", \"ticks\": \"\"}}, \"title\": {\"x\": 0.05}, \"xaxis\": {\"automargin\": true, \"gridcolor\": \"white\", \"linecolor\": \"white\", \"ticks\": \"\", \"title\": {\"standoff\": 15}, \"zerolinecolor\": \"white\", \"zerolinewidth\": 2}, \"yaxis\": {\"automargin\": true, \"gridcolor\": \"white\", \"linecolor\": \"white\", \"ticks\": \"\", \"title\": {\"standoff\": 15}, \"zerolinecolor\": \"white\", \"zerolinewidth\": 2}}}, \"title\": {\"text\": \"Frequency purchases per hour of the day\"}, \"xaxis\": {\"title\": {\"text\": \"Hour\"}}, \"yaxis\": {\"title\": {\"text\": \"Total Frequency\"}}},                        {\"responsive\": true}                    ).then(function(){\n",
       "                            \n",
       "var gd = document.getElementById('df6da0ec-f380-4aeb-9b0e-37a2ee0c0a51');\n",
       "var x = new MutationObserver(function (mutations, observer) {{\n",
       "        var display = window.getComputedStyle(gd).display;\n",
       "        if (!display || display === 'none') {{\n",
       "            console.log([gd, 'removed!']);\n",
       "            Plotly.purge(gd);\n",
       "            observer.disconnect();\n",
       "        }}\n",
       "}});\n",
       "\n",
       "// Listen for the removal of the full notebook cells\n",
       "var notebookContainer = gd.closest('#notebook-container');\n",
       "if (notebookContainer) {{\n",
       "    x.observe(notebookContainer, {childList: true});\n",
       "}}\n",
       "\n",
       "// Listen for the clearing of the current output cell\n",
       "var outputEl = gd.closest('.output');\n",
       "if (outputEl) {{\n",
       "    x.observe(outputEl, {childList: true});\n",
       "}}\n",
       "\n",
       "                        })                };                });            </script>        </div>"
      ]
     },
     "metadata": {},
     "output_type": "display_data"
    }
   ],
   "source": [
    "hour_frequency = df['order_hour_of_day'].value_counts().reset_index()\n",
    "\n",
    "hour_frequency.columns = ['hour', 'total_frequency']\n",
    "\n",
    "hour_frequency = hour_frequency.sort_values(by='hour')\n",
    "\n",
    "##plotting##\n",
    "data_for_plot = dict(type='scatter',\n",
    "                x=hour_frequency['hour'],\n",
    "                y=hour_frequency['total_frequency'])\n",
    "# setting the layout\n",
    "plot_1_layout = dict(title=dict(text='Frequency purchases per hour of the day'),\n",
    "                      xaxis=dict(title='Hour'),\n",
    "                      yaxis=dict(title='Total Frequency')\n",
    "                      )\n",
    "# displaying the graph\n",
    "plot_1 = go.Figure(data=data_for_plot, layout=plot_1_layout)\n",
    "# plot_1.show(renderer='png')\n",
    "plot_1.show()"
   ]
  },
  {
   "cell_type": "code",
   "execution_count": 133,
   "metadata": {},
   "outputs": [
    {
     "data": {
      "text/html": [
       "<div>\n",
       "<style scoped>\n",
       "    .dataframe tbody tr th:only-of-type {\n",
       "        vertical-align: middle;\n",
       "    }\n",
       "\n",
       "    .dataframe tbody tr th {\n",
       "        vertical-align: top;\n",
       "    }\n",
       "\n",
       "    .dataframe thead th {\n",
       "        text-align: right;\n",
       "    }\n",
       "</style>\n",
       "<table border=\"1\" class=\"dataframe\">\n",
       "  <thead>\n",
       "    <tr style=\"text-align: right;\">\n",
       "      <th></th>\n",
       "      <th>order_id</th>\n",
       "      <th>add_to_cart_order</th>\n",
       "      <th>reordered</th>\n",
       "      <th>product_name</th>\n",
       "      <th>department_name</th>\n",
       "      <th>user_id</th>\n",
       "      <th>order_number</th>\n",
       "      <th>order_dow</th>\n",
       "      <th>order_hour_of_day</th>\n",
       "      <th>days_since_prior_order</th>\n",
       "      <th>day_of_week</th>\n",
       "    </tr>\n",
       "  </thead>\n",
       "  <tbody>\n",
       "    <tr>\n",
       "      <th>0</th>\n",
       "      <td>10</td>\n",
       "      <td>1</td>\n",
       "      <td>1</td>\n",
       "      <td>fresh fruits</td>\n",
       "      <td>produce</td>\n",
       "      <td>135442</td>\n",
       "      <td>4</td>\n",
       "      <td>6</td>\n",
       "      <td>8</td>\n",
       "      <td>8.0</td>\n",
       "      <td>6</td>\n",
       "    </tr>\n",
       "    <tr>\n",
       "      <th>1</th>\n",
       "      <td>10</td>\n",
       "      <td>2</td>\n",
       "      <td>1</td>\n",
       "      <td>fresh vegetables</td>\n",
       "      <td>produce</td>\n",
       "      <td>135442</td>\n",
       "      <td>4</td>\n",
       "      <td>6</td>\n",
       "      <td>8</td>\n",
       "      <td>8.0</td>\n",
       "      <td>6</td>\n",
       "    </tr>\n",
       "    <tr>\n",
       "      <th>2</th>\n",
       "      <td>10</td>\n",
       "      <td>3</td>\n",
       "      <td>0</td>\n",
       "      <td>fresh herbs</td>\n",
       "      <td>produce</td>\n",
       "      <td>135442</td>\n",
       "      <td>4</td>\n",
       "      <td>6</td>\n",
       "      <td>8</td>\n",
       "      <td>8.0</td>\n",
       "      <td>6</td>\n",
       "    </tr>\n",
       "    <tr>\n",
       "      <th>3</th>\n",
       "      <td>10</td>\n",
       "      <td>4</td>\n",
       "      <td>1</td>\n",
       "      <td>fresh fruits</td>\n",
       "      <td>produce</td>\n",
       "      <td>135442</td>\n",
       "      <td>4</td>\n",
       "      <td>6</td>\n",
       "      <td>8</td>\n",
       "      <td>8.0</td>\n",
       "      <td>6</td>\n",
       "    </tr>\n",
       "    <tr>\n",
       "      <th>4</th>\n",
       "      <td>10</td>\n",
       "      <td>5</td>\n",
       "      <td>1</td>\n",
       "      <td>fresh vegetables</td>\n",
       "      <td>produce</td>\n",
       "      <td>135442</td>\n",
       "      <td>4</td>\n",
       "      <td>6</td>\n",
       "      <td>8</td>\n",
       "      <td>8.0</td>\n",
       "      <td>6</td>\n",
       "    </tr>\n",
       "    <tr>\n",
       "      <th>...</th>\n",
       "      <td>...</td>\n",
       "      <td>...</td>\n",
       "      <td>...</td>\n",
       "      <td>...</td>\n",
       "      <td>...</td>\n",
       "      <td>...</td>\n",
       "      <td>...</td>\n",
       "      <td>...</td>\n",
       "      <td>...</td>\n",
       "      <td>...</td>\n",
       "      <td>...</td>\n",
       "    </tr>\n",
       "    <tr>\n",
       "      <th>2019496</th>\n",
       "      <td>3420578</td>\n",
       "      <td>17</td>\n",
       "      <td>0</td>\n",
       "      <td>asian foods</td>\n",
       "      <td>international</td>\n",
       "      <td>6586</td>\n",
       "      <td>6</td>\n",
       "      <td>5</td>\n",
       "      <td>21</td>\n",
       "      <td>5.0</td>\n",
       "      <td>5</td>\n",
       "    </tr>\n",
       "    <tr>\n",
       "      <th>2019497</th>\n",
       "      <td>3420578</td>\n",
       "      <td>18</td>\n",
       "      <td>1</td>\n",
       "      <td>fresh herbs</td>\n",
       "      <td>produce</td>\n",
       "      <td>6586</td>\n",
       "      <td>6</td>\n",
       "      <td>5</td>\n",
       "      <td>21</td>\n",
       "      <td>5.0</td>\n",
       "      <td>5</td>\n",
       "    </tr>\n",
       "    <tr>\n",
       "      <th>2019498</th>\n",
       "      <td>3420693</td>\n",
       "      <td>1</td>\n",
       "      <td>0</td>\n",
       "      <td>ice cream ice</td>\n",
       "      <td>frozen</td>\n",
       "      <td>68287</td>\n",
       "      <td>15</td>\n",
       "      <td>6</td>\n",
       "      <td>15</td>\n",
       "      <td>6.0</td>\n",
       "      <td>6</td>\n",
       "    </tr>\n",
       "    <tr>\n",
       "      <th>2019499</th>\n",
       "      <td>3420693</td>\n",
       "      <td>2</td>\n",
       "      <td>0</td>\n",
       "      <td>ice cream ice</td>\n",
       "      <td>frozen</td>\n",
       "      <td>68287</td>\n",
       "      <td>15</td>\n",
       "      <td>6</td>\n",
       "      <td>15</td>\n",
       "      <td>6.0</td>\n",
       "      <td>6</td>\n",
       "    </tr>\n",
       "    <tr>\n",
       "      <th>2019500</th>\n",
       "      <td>3420693</td>\n",
       "      <td>3</td>\n",
       "      <td>0</td>\n",
       "      <td>ice cream ice</td>\n",
       "      <td>frozen</td>\n",
       "      <td>68287</td>\n",
       "      <td>15</td>\n",
       "      <td>6</td>\n",
       "      <td>15</td>\n",
       "      <td>6.0</td>\n",
       "      <td>6</td>\n",
       "    </tr>\n",
       "  </tbody>\n",
       "</table>\n",
       "<p>2019501 rows × 11 columns</p>\n",
       "</div>"
      ],
      "text/plain": [
       "         order_id  add_to_cart_order  reordered      product_name  \\\n",
       "0              10                  1          1      fresh fruits   \n",
       "1              10                  2          1  fresh vegetables   \n",
       "2              10                  3          0       fresh herbs   \n",
       "3              10                  4          1      fresh fruits   \n",
       "4              10                  5          1  fresh vegetables   \n",
       "...           ...                ...        ...               ...   \n",
       "2019496   3420578                 17          0       asian foods   \n",
       "2019497   3420578                 18          1       fresh herbs   \n",
       "2019498   3420693                  1          0     ice cream ice   \n",
       "2019499   3420693                  2          0     ice cream ice   \n",
       "2019500   3420693                  3          0     ice cream ice   \n",
       "\n",
       "        department_name  user_id  order_number  order_dow  order_hour_of_day  \\\n",
       "0               produce   135442             4          6                  8   \n",
       "1               produce   135442             4          6                  8   \n",
       "2               produce   135442             4          6                  8   \n",
       "3               produce   135442             4          6                  8   \n",
       "4               produce   135442             4          6                  8   \n",
       "...                 ...      ...           ...        ...                ...   \n",
       "2019496   international     6586             6          5                 21   \n",
       "2019497         produce     6586             6          5                 21   \n",
       "2019498          frozen    68287            15          6                 15   \n",
       "2019499          frozen    68287            15          6                 15   \n",
       "2019500          frozen    68287            15          6                 15   \n",
       "\n",
       "         days_since_prior_order  day_of_week  \n",
       "0                           8.0            6  \n",
       "1                           8.0            6  \n",
       "2                           8.0            6  \n",
       "3                           8.0            6  \n",
       "4                           8.0            6  \n",
       "...                         ...          ...  \n",
       "2019496                     5.0            5  \n",
       "2019497                     5.0            5  \n",
       "2019498                     6.0            6  \n",
       "2019499                     6.0            6  \n",
       "2019500                     6.0            6  \n",
       "\n",
       "[2019501 rows x 11 columns]"
      ]
     },
     "execution_count": 133,
     "metadata": {},
     "output_type": "execute_result"
    }
   ],
   "source": [
    "df"
   ]
  },
  {
   "cell_type": "code",
   "execution_count": 149,
   "metadata": {},
   "outputs": [
    {
     "data": {
      "application/vnd.plotly.v1+json": {
       "config": {
        "plotlyServerURL": "https://plot.ly"
       },
       "data": [
        {
         "name": "air fresheners candles",
         "type": "scatter",
         "x": [
          0,
          1,
          2,
          3,
          4,
          5,
          6,
          7,
          8,
          9,
          10,
          11,
          12,
          13,
          14,
          15,
          16,
          17,
          18,
          19,
          20,
          21,
          22,
          23
         ],
         "y": [
          7,
          8,
          1,
          8,
          1,
          4,
          9,
          35,
          57,
          80,
          100,
          119,
          111,
          97,
          114,
          112,
          103,
          92,
          63,
          46,
          36,
          21,
          26,
          8
         ]
        },
        {
         "name": "asian foods",
         "type": "scatter",
         "x": [
          0,
          1,
          2,
          3,
          4,
          5,
          6,
          7,
          8,
          9,
          10,
          11,
          12,
          13,
          14,
          15,
          16,
          17,
          18,
          19,
          20,
          21,
          22,
          23
         ],
         "y": [
          62,
          38,
          19,
          30,
          23,
          26,
          106,
          216,
          467,
          707,
          884,
          898,
          846,
          943,
          863,
          872,
          889,
          658,
          522,
          428,
          321,
          249,
          218,
          141
         ]
        },
        {
         "name": "baby accessories",
         "type": "scatter",
         "x": [
          0,
          1,
          2,
          3,
          4,
          5,
          6,
          7,
          8,
          9,
          10,
          11,
          12,
          13,
          14,
          15,
          16,
          17,
          18,
          19,
          20,
          21,
          22,
          23
         ],
         "y": [
          4,
          4,
          null,
          1,
          1,
          2,
          5,
          18,
          39,
          30,
          40,
          45,
          31,
          46,
          41,
          42,
          33,
          37,
          21,
          21,
          11,
          20,
          7,
          5
         ]
        },
        {
         "name": "baby bath body care",
         "type": "scatter",
         "x": [
          0,
          1,
          2,
          3,
          4,
          5,
          6,
          7,
          8,
          9,
          10,
          11,
          12,
          13,
          14,
          15,
          16,
          17,
          18,
          19,
          20,
          21,
          22,
          23
         ],
         "y": [
          2,
          8,
          2,
          null,
          3,
          null,
          5,
          22,
          29,
          45,
          34,
          40,
          31,
          45,
          44,
          40,
          38,
          30,
          27,
          19,
          21,
          15,
          9,
          6
         ]
        },
        {
         "name": "baby food formula",
         "type": "scatter",
         "x": [
          0,
          1,
          2,
          3,
          4,
          5,
          6,
          7,
          8,
          9,
          10,
          11,
          12,
          13,
          14,
          15,
          16,
          17,
          18,
          19,
          20,
          21,
          22,
          23
         ],
         "y": [
          114,
          50,
          19,
          17,
          32,
          75,
          273,
          886,
          1725,
          1884,
          1656,
          1685,
          1848,
          1754,
          1897,
          1948,
          1798,
          1288,
          968,
          866,
          911,
          874,
          524,
          263
         ]
        },
        {
         "name": "bakery desserts",
         "type": "scatter",
         "x": [
          0,
          1,
          2,
          3,
          4,
          5,
          6,
          7,
          8,
          9,
          10,
          11,
          12,
          13,
          14,
          15,
          16,
          17,
          18,
          19,
          20,
          21,
          22,
          23
         ],
         "y": [
          15,
          8,
          8,
          4,
          2,
          8,
          17,
          45,
          89,
          145,
          173,
          226,
          173,
          206,
          182,
          186,
          196,
          163,
          130,
          82,
          53,
          50,
          30,
          23
         ]
        },
        {
         "name": "baking ingredients",
         "type": "scatter",
         "x": [
          0,
          1,
          2,
          3,
          4,
          5,
          6,
          7,
          8,
          9,
          10,
          11,
          12,
          13,
          14,
          15,
          16,
          17,
          18,
          19,
          20,
          21,
          22,
          23
         ],
         "y": [
          171,
          73,
          33,
          27,
          26,
          60,
          172,
          511,
          1051,
          1416,
          1691,
          1726,
          1741,
          1697,
          1721,
          1695,
          1514,
          1210,
          973,
          764,
          652,
          471,
          452,
          290
         ]
        },
        {
         "name": "baking supplies decor",
         "type": "scatter",
         "x": [
          0,
          1,
          2,
          3,
          4,
          5,
          6,
          7,
          8,
          9,
          10,
          11,
          12,
          13,
          14,
          15,
          16,
          17,
          18,
          19,
          20,
          21,
          22,
          23
         ],
         "y": [
          15,
          5,
          5,
          null,
          1,
          5,
          24,
          44,
          74,
          96,
          123,
          137,
          116,
          91,
          119,
          136,
          87,
          95,
          69,
          78,
          57,
          34,
          20,
          20
         ]
        },
        {
         "name": "beauty",
         "type": "scatter",
         "x": [
          0,
          1,
          2,
          3,
          4,
          5,
          6,
          7,
          8,
          9,
          10,
          11,
          12,
          13,
          14,
          15,
          16,
          17,
          18,
          19,
          20,
          21,
          22,
          23
         ],
         "y": [
          2,
          1,
          1,
          null,
          1,
          2,
          1,
          11,
          15,
          18,
          33,
          19,
          36,
          40,
          40,
          22,
          21,
          39,
          23,
          24,
          19,
          7,
          6,
          6
         ]
        },
        {
         "name": "beers coolers",
         "type": "scatter",
         "x": [
          0,
          1,
          2,
          3,
          4,
          5,
          6,
          7,
          8,
          9,
          10,
          11,
          12,
          13,
          14,
          15,
          16,
          17,
          18,
          19,
          20,
          21,
          22,
          23
         ],
         "y": [
          6,
          4,
          3,
          2,
          3,
          2,
          9,
          36,
          114,
          225,
          312,
          304,
          278,
          245,
          306,
          288,
          298,
          183,
          140,
          108,
          54,
          31,
          31,
          20
         ]
        },
        {
         "name": "body lotions soap",
         "type": "scatter",
         "x": [
          0,
          1,
          2,
          3,
          4,
          5,
          6,
          7,
          8,
          9,
          10,
          11,
          12,
          13,
          14,
          15,
          16,
          17,
          18,
          19,
          20,
          21,
          22,
          23
         ],
         "y": [
          25,
          15,
          4,
          5,
          9,
          6,
          21,
          64,
          120,
          183,
          196,
          240,
          169,
          206,
          174,
          181,
          187,
          172,
          183,
          131,
          76,
          52,
          55,
          33
         ]
        },
        {
         "name": "bread",
         "type": "scatter",
         "x": [
          0,
          1,
          2,
          3,
          4,
          5,
          6,
          7,
          8,
          9,
          10,
          11,
          12,
          13,
          14,
          15,
          16,
          17,
          18,
          19,
          20,
          21,
          22,
          23
         ],
         "y": [
          223,
          110,
          80,
          63,
          55,
          105,
          336,
          1058,
          1985,
          2727,
          3023,
          3026,
          2987,
          2937,
          2966,
          3092,
          2874,
          2374,
          1906,
          1438,
          1082,
          848,
          705,
          381
         ]
        },
        {
         "name": "breakfast bakery",
         "type": "scatter",
         "x": [
          0,
          1,
          2,
          3,
          4,
          5,
          6,
          7,
          8,
          9,
          10,
          11,
          12,
          13,
          14,
          15,
          16,
          17,
          18,
          19,
          20,
          21,
          22,
          23
         ],
         "y": [
          98,
          54,
          39,
          27,
          32,
          33,
          139,
          471,
          888,
          1274,
          1343,
          1337,
          1254,
          1288,
          1197,
          1241,
          1148,
          993,
          779,
          527,
          413,
          364,
          279,
          139
         ]
        },
        {
         "name": "breakfast bars pastries",
         "type": "scatter",
         "x": [
          0,
          1,
          2,
          3,
          4,
          5,
          6,
          7,
          8,
          9,
          10,
          11,
          12,
          13,
          14,
          15,
          16,
          17,
          18,
          19,
          20,
          21,
          22,
          23
         ],
         "y": [
          22,
          24,
          16,
          3,
          3,
          6,
          34,
          121,
          246,
          430,
          479,
          385,
          370,
          356,
          355,
          362,
          371,
          274,
          226,
          196,
          125,
          84,
          75,
          58
         ]
        },
        {
         "name": "bulk dried fruits vegetables",
         "type": "scatter",
         "x": [
          0,
          1,
          2,
          3,
          4,
          5,
          6,
          7,
          8,
          9,
          10,
          11,
          12,
          13,
          14,
          15,
          16,
          17,
          18,
          19,
          20,
          21,
          22,
          23
         ],
         "y": [
          8,
          3,
          3,
          2,
          1,
          2,
          16,
          20,
          47,
          90,
          108,
          78,
          69,
          100,
          79,
          106,
          83,
          63,
          52,
          36,
          26,
          24,
          28,
          15
         ]
        },
        {
         "name": "bulk grains rice dried goods",
         "type": "scatter",
         "x": [
          0,
          1,
          2,
          3,
          4,
          5,
          6,
          7,
          8,
          9,
          10,
          11,
          12,
          13,
          14,
          15,
          16,
          17,
          18,
          19,
          20,
          21,
          22,
          23
         ],
         "y": [
          8,
          3,
          1,
          1,
          null,
          3,
          12,
          28,
          58,
          82,
          101,
          86,
          73,
          95,
          84,
          84,
          75,
          74,
          51,
          41,
          40,
          31,
          29,
          14
         ]
        },
        {
         "name": "buns rolls",
         "type": "scatter",
         "x": [
          0,
          1,
          2,
          3,
          4,
          5,
          6,
          7,
          8,
          9,
          10,
          11,
          12,
          13,
          14,
          15,
          16,
          17,
          18,
          19,
          20,
          21,
          22,
          23
         ],
         "y": [
          41,
          32,
          10,
          12,
          11,
          19,
          75,
          206,
          375,
          494,
          565,
          589,
          615,
          606,
          572,
          569,
          573,
          460,
          346,
          256,
          194,
          139,
          113,
          77
         ]
        },
        {
         "name": "butter",
         "type": "scatter",
         "x": [
          0,
          1,
          2,
          3,
          4,
          5,
          6,
          7,
          8,
          9,
          10,
          11,
          12,
          13,
          14,
          15,
          16,
          17,
          18,
          19,
          20,
          21,
          22,
          23
         ],
         "y": [
          108,
          56,
          22,
          24,
          29,
          50,
          166,
          406,
          835,
          1138,
          1327,
          1383,
          1263,
          1310,
          1364,
          1329,
          1161,
          1063,
          781,
          547,
          454,
          390,
          337,
          192
         ]
        },
        {
         "name": "candy chocolate",
         "type": "scatter",
         "x": [
          0,
          1,
          2,
          3,
          4,
          5,
          6,
          7,
          8,
          9,
          10,
          11,
          12,
          13,
          14,
          15,
          16,
          17,
          18,
          19,
          20,
          21,
          22,
          23
         ],
         "y": [
          112,
          56,
          56,
          37,
          26,
          41,
          106,
          361,
          843,
          1519,
          1738,
          1610,
          1598,
          1538,
          1689,
          1615,
          1464,
          1133,
          995,
          698,
          586,
          390,
          315,
          209
         ]
        },
        {
         "name": "canned fruit applesauce",
         "type": "scatter",
         "x": [
          0,
          1,
          2,
          3,
          4,
          5,
          6,
          7,
          8,
          9,
          10,
          11,
          12,
          13,
          14,
          15,
          16,
          17,
          18,
          19,
          20,
          21,
          22,
          23
         ],
         "y": [
          41,
          16,
          8,
          12,
          11,
          14,
          53,
          194,
          333,
          373,
          423,
          434,
          432,
          425,
          429,
          443,
          437,
          335,
          271,
          241,
          174,
          153,
          126,
          80
         ]
        },
        {
         "name": "canned jarred vegetables",
         "type": "scatter",
         "x": [
          0,
          1,
          2,
          3,
          4,
          5,
          6,
          7,
          8,
          9,
          10,
          11,
          12,
          13,
          14,
          15,
          16,
          17,
          18,
          19,
          20,
          21,
          22,
          23
         ],
         "y": [
          115,
          65,
          33,
          21,
          42,
          49,
          134,
          474,
          860,
          1199,
          1598,
          1603,
          1520,
          1661,
          1540,
          1559,
          1304,
          1115,
          808,
          693,
          525,
          462,
          408,
          237
         ]
        },
        {
         "name": "canned meals beans",
         "type": "scatter",
         "x": [
          0,
          1,
          2,
          3,
          4,
          5,
          6,
          7,
          8,
          9,
          10,
          11,
          12,
          13,
          14,
          15,
          16,
          17,
          18,
          19,
          20,
          21,
          22,
          23
         ],
         "y": [
          114,
          63,
          30,
          23,
          39,
          50,
          150,
          407,
          779,
          1166,
          1407,
          1402,
          1460,
          1528,
          1395,
          1442,
          1338,
          1089,
          778,
          644,
          507,
          467,
          356,
          184
         ]
        },
        {
         "name": "canned meat seafood",
         "type": "scatter",
         "x": [
          0,
          1,
          2,
          3,
          4,
          5,
          6,
          7,
          8,
          9,
          10,
          11,
          12,
          13,
          14,
          15,
          16,
          17,
          18,
          19,
          20,
          21,
          22,
          23
         ],
         "y": [
          24,
          23,
          16,
          7,
          9,
          7,
          31,
          91,
          239,
          266,
          359,
          361,
          365,
          326,
          329,
          333,
          377,
          285,
          205,
          177,
          129,
          105,
          92,
          56
         ]
        },
        {
         "name": "cat food care",
         "type": "scatter",
         "x": [
          0,
          1,
          2,
          3,
          4,
          5,
          6,
          7,
          8,
          9,
          10,
          11,
          12,
          13,
          14,
          15,
          16,
          17,
          18,
          19,
          20,
          21,
          22,
          23
         ],
         "y": [
          52,
          21,
          10,
          13,
          8,
          11,
          53,
          81,
          171,
          244,
          296,
          296,
          342,
          334,
          276,
          362,
          352,
          266,
          258,
          154,
          98,
          57,
          43,
          37
         ]
        },
        {
         "name": "cereal",
         "type": "scatter",
         "x": [
          0,
          1,
          2,
          3,
          4,
          5,
          6,
          7,
          8,
          9,
          10,
          11,
          12,
          13,
          14,
          15,
          16,
          17,
          18,
          19,
          20,
          21,
          22,
          23
         ],
         "y": [
          133,
          81,
          51,
          42,
          44,
          62,
          234,
          752,
          1362,
          1936,
          2058,
          1938,
          1827,
          1877,
          1908,
          1921,
          1869,
          1414,
          1152,
          987,
          727,
          614,
          500,
          265
         ]
        },
        {
         "name": "chips pretzels",
         "type": "scatter",
         "x": [
          0,
          1,
          2,
          3,
          4,
          5,
          6,
          7,
          8,
          9,
          10,
          11,
          12,
          13,
          14,
          15,
          16,
          17,
          18,
          19,
          20,
          21,
          22,
          23
         ],
         "y": [
          302,
          125,
          79,
          74,
          61,
          123,
          384,
          1016,
          2131,
          3399,
          4115,
          4050,
          3754,
          3750,
          3840,
          3666,
          3757,
          3071,
          2314,
          1764,
          1347,
          924,
          743,
          517
         ]
        },
        {
         "name": "cleaning products",
         "type": "scatter",
         "x": [
          0,
          1,
          2,
          3,
          4,
          5,
          6,
          7,
          8,
          9,
          10,
          11,
          12,
          13,
          14,
          15,
          16,
          17,
          18,
          19,
          20,
          21,
          22,
          23
         ],
         "y": [
          40,
          37,
          12,
          10,
          21,
          27,
          69,
          204,
          407,
          540,
          590,
          642,
          663,
          634,
          615,
          600,
          578,
          409,
          373,
          283,
          237,
          181,
          157,
          100
         ]
        },
        {
         "name": "cocoa drink mixes",
         "type": "scatter",
         "x": [
          0,
          1,
          2,
          3,
          4,
          5,
          6,
          7,
          8,
          9,
          10,
          11,
          12,
          13,
          14,
          15,
          16,
          17,
          18,
          19,
          20,
          21,
          22,
          23
         ],
         "y": [
          14,
          7,
          3,
          1,
          8,
          4,
          14,
          26,
          66,
          82,
          104,
          104,
          110,
          114,
          111,
          122,
          106,
          107,
          73,
          46,
          46,
          31,
          18,
          15
         ]
        },
        {
         "name": "coffee",
         "type": "scatter",
         "x": [
          0,
          1,
          2,
          3,
          4,
          5,
          6,
          7,
          8,
          9,
          10,
          11,
          12,
          13,
          14,
          15,
          16,
          17,
          18,
          19,
          20,
          21,
          22,
          23
         ],
         "y": [
          67,
          42,
          22,
          21,
          12,
          40,
          134,
          326,
          687,
          1146,
          1330,
          1179,
          963,
          1048,
          1028,
          1035,
          928,
          793,
          648,
          487,
          359,
          220,
          196,
          112
         ]
        },
        {
         "name": "cold flu allergy",
         "type": "scatter",
         "x": [
          0,
          1,
          2,
          3,
          4,
          5,
          6,
          7,
          8,
          9,
          10,
          11,
          12,
          13,
          14,
          15,
          16,
          17,
          18,
          19,
          20,
          21,
          22,
          23
         ],
         "y": [
          6,
          6,
          1,
          5,
          4,
          3,
          26,
          60,
          95,
          120,
          163,
          142,
          138,
          135,
          90,
          113,
          115,
          86,
          92,
          84,
          49,
          20,
          29,
          7
         ]
        },
        {
         "name": "condiments",
         "type": "scatter",
         "x": [
          0,
          1,
          2,
          3,
          4,
          5,
          6,
          7,
          8,
          9,
          10,
          11,
          12,
          13,
          14,
          15,
          16,
          17,
          18,
          19,
          20,
          21,
          22,
          23
         ],
         "y": [
          114,
          54,
          37,
          32,
          27,
          28,
          92,
          307,
          651,
          964,
          1214,
          1187,
          1148,
          1180,
          1114,
          1083,
          1040,
          941,
          727,
          581,
          415,
          330,
          311,
          183
         ]
        },
        {
         "name": "cookies cakes",
         "type": "scatter",
         "x": [
          0,
          1,
          2,
          3,
          4,
          5,
          6,
          7,
          8,
          9,
          10,
          11,
          12,
          13,
          14,
          15,
          16,
          17,
          18,
          19,
          20,
          21,
          22,
          23
         ],
         "y": [
          102,
          67,
          35,
          31,
          21,
          39,
          121,
          316,
          721,
          1112,
          1319,
          1308,
          1148,
          1194,
          1192,
          1260,
          1179,
          942,
          745,
          663,
          446,
          333,
          267,
          184
         ]
        },
        {
         "name": "crackers",
         "type": "scatter",
         "x": [
          0,
          1,
          2,
          3,
          4,
          5,
          6,
          7,
          8,
          9,
          10,
          11,
          12,
          13,
          14,
          15,
          16,
          17,
          18,
          19,
          20,
          21,
          22,
          23
         ],
         "y": [
          183,
          80,
          59,
          40,
          33,
          98,
          270,
          738,
          1538,
          2215,
          2518,
          2397,
          2320,
          2332,
          2364,
          2309,
          2315,
          1787,
          1439,
          1089,
          889,
          636,
          578,
          347
         ]
        },
        {
         "name": "cream",
         "type": "scatter",
         "x": [
          0,
          1,
          2,
          3,
          4,
          5,
          6,
          7,
          8,
          9,
          10,
          11,
          12,
          13,
          14,
          15,
          16,
          17,
          18,
          19,
          20,
          21,
          22,
          23
         ],
         "y": [
          105,
          60,
          35,
          18,
          17,
          55,
          187,
          521,
          1251,
          1848,
          2004,
          1751,
          1570,
          1533,
          1659,
          1635,
          1373,
          1199,
          898,
          645,
          465,
          411,
          352,
          194
         ]
        },
        {
         "name": "deodorants",
         "type": "scatter",
         "x": [
          0,
          1,
          2,
          3,
          4,
          5,
          6,
          7,
          8,
          9,
          10,
          11,
          12,
          13,
          14,
          15,
          16,
          17,
          18,
          19,
          20,
          21,
          22,
          23
         ],
         "y": [
          5,
          6,
          null,
          null,
          1,
          3,
          9,
          22,
          37,
          63,
          79,
          76,
          68,
          71,
          65,
          78,
          86,
          58,
          83,
          48,
          25,
          16,
          16,
          9
         ]
        },
        {
         "name": "diapers wipes",
         "type": "scatter",
         "x": [
          0,
          1,
          2,
          3,
          4,
          5,
          6,
          7,
          8,
          9,
          10,
          11,
          12,
          13,
          14,
          15,
          16,
          17,
          18,
          19,
          20,
          21,
          22,
          23
         ],
         "y": [
          11,
          4,
          4,
          1,
          2,
          2,
          21,
          66,
          82,
          109,
          125,
          107,
          112,
          122,
          145,
          132,
          113,
          97,
          97,
          68,
          67,
          40,
          29,
          10
         ]
        },
        {
         "name": "digestion",
         "type": "scatter",
         "x": [
          0,
          1,
          2,
          3,
          4,
          5,
          6,
          7,
          8,
          9,
          10,
          11,
          12,
          13,
          14,
          15,
          16,
          17,
          18,
          19,
          20,
          21,
          22,
          23
         ],
         "y": [
          12,
          11,
          7,
          7,
          6,
          5,
          20,
          58,
          80,
          111,
          155,
          119,
          145,
          151,
          131,
          122,
          127,
          116,
          107,
          85,
          59,
          42,
          25,
          26
         ]
        },
        {
         "name": "dish detergents",
         "type": "scatter",
         "x": [
          0,
          1,
          2,
          3,
          4,
          5,
          6,
          7,
          8,
          9,
          10,
          11,
          12,
          13,
          14,
          15,
          16,
          17,
          18,
          19,
          20,
          21,
          22,
          23
         ],
         "y": [
          49,
          17,
          11,
          13,
          11,
          16,
          56,
          158,
          333,
          416,
          505,
          531,
          452,
          476,
          472,
          494,
          440,
          378,
          279,
          241,
          171,
          165,
          118,
          65
         ]
        },
        {
         "name": "dog food care",
         "type": "scatter",
         "x": [
          0,
          1,
          2,
          3,
          4,
          5,
          6,
          7,
          8,
          9,
          10,
          11,
          12,
          13,
          14,
          15,
          16,
          17,
          18,
          19,
          20,
          21,
          22,
          23
         ],
         "y": [
          11,
          17,
          4,
          9,
          6,
          6,
          17,
          44,
          123,
          135,
          175,
          181,
          204,
          158,
          160,
          189,
          152,
          196,
          144,
          104,
          68,
          33,
          28,
          14
         ]
        },
        {
         "name": "doughs gelatins bake mixes",
         "type": "scatter",
         "x": [
          0,
          1,
          2,
          3,
          4,
          5,
          6,
          7,
          8,
          9,
          10,
          11,
          12,
          13,
          14,
          15,
          16,
          17,
          18,
          19,
          20,
          21,
          22,
          23
         ],
         "y": [
          52,
          34,
          9,
          14,
          12,
          24,
          56,
          179,
          318,
          422,
          582,
          550,
          504,
          588,
          529,
          590,
          530,
          448,
          379,
          298,
          195,
          153,
          162,
          65
         ]
        },
        {
         "name": "dry pasta",
         "type": "scatter",
         "x": [
          0,
          1,
          2,
          3,
          4,
          5,
          6,
          7,
          8,
          9,
          10,
          11,
          12,
          13,
          14,
          15,
          16,
          17,
          18,
          19,
          20,
          21,
          22,
          23
         ],
         "y": [
          134,
          48,
          33,
          17,
          27,
          44,
          160,
          455,
          809,
          1053,
          1357,
          1409,
          1321,
          1419,
          1437,
          1377,
          1330,
          1114,
          818,
          588,
          506,
          373,
          364,
          221
         ]
        },
        {
         "name": "eggs",
         "type": "scatter",
         "x": [
          0,
          1,
          2,
          3,
          4,
          5,
          6,
          7,
          8,
          9,
          10,
          11,
          12,
          13,
          14,
          15,
          16,
          17,
          18,
          19,
          20,
          21,
          22,
          23
         ],
         "y": [
          178,
          94,
          56,
          34,
          47,
          76,
          312,
          833,
          1573,
          1921,
          2302,
          2280,
          2186,
          2206,
          2306,
          2323,
          2211,
          1883,
          1546,
          1152,
          901,
          638,
          576,
          352
         ]
        },
        {
         "name": "energy granola bars",
         "type": "scatter",
         "x": [
          0,
          1,
          2,
          3,
          4,
          5,
          6,
          7,
          8,
          9,
          10,
          11,
          12,
          13,
          14,
          15,
          16,
          17,
          18,
          19,
          20,
          21,
          22,
          23
         ],
         "y": [
          153,
          83,
          47,
          24,
          35,
          73,
          234,
          785,
          1516,
          2716,
          2807,
          2570,
          2305,
          2376,
          2276,
          2414,
          2040,
          1667,
          1334,
          952,
          773,
          662,
          460,
          337
         ]
        },
        {
         "name": "energy sports drinks",
         "type": "scatter",
         "x": [
          0,
          1,
          2,
          3,
          4,
          5,
          6,
          7,
          8,
          9,
          10,
          11,
          12,
          13,
          14,
          15,
          16,
          17,
          18,
          19,
          20,
          21,
          22,
          23
         ],
         "y": [
          29,
          21,
          13,
          15,
          14,
          24,
          44,
          157,
          318,
          577,
          586,
          559,
          546,
          540,
          548,
          520,
          540,
          426,
          381,
          305,
          211,
          120,
          87,
          57
         ]
        },
        {
         "name": "eye ear care",
         "type": "scatter",
         "x": [
          0,
          1,
          2,
          3,
          4,
          5,
          6,
          7,
          8,
          9,
          10,
          11,
          12,
          13,
          14,
          15,
          16,
          17,
          18,
          19,
          20,
          21,
          22,
          23
         ],
         "y": [
          2,
          5,
          3,
          2,
          1,
          1,
          10,
          20,
          27,
          35,
          45,
          63,
          48,
          31,
          58,
          38,
          41,
          44,
          31,
          34,
          25,
          14,
          15,
          5
         ]
        },
        {
         "name": "facial care",
         "type": "scatter",
         "x": [
          0,
          1,
          2,
          3,
          4,
          5,
          6,
          7,
          8,
          9,
          10,
          11,
          12,
          13,
          14,
          15,
          16,
          17,
          18,
          19,
          20,
          21,
          22,
          23
         ],
         "y": [
          3,
          5,
          null,
          1,
          null,
          4,
          8,
          27,
          44,
          62,
          70,
          66,
          60,
          67,
          71,
          62,
          59,
          47,
          57,
          48,
          35,
          16,
          22,
          9
         ]
        },
        {
         "name": "feminine care",
         "type": "scatter",
         "x": [
          0,
          1,
          2,
          3,
          4,
          5,
          6,
          7,
          8,
          9,
          10,
          11,
          12,
          13,
          14,
          15,
          16,
          17,
          18,
          19,
          20,
          21,
          22,
          23
         ],
         "y": [
          8,
          4,
          3,
          null,
          6,
          1,
          7,
          40,
          74,
          98,
          104,
          119,
          103,
          112,
          112,
          108,
          92,
          90,
          69,
          48,
          40,
          31,
          13,
          14
         ]
        },
        {
         "name": "first aid",
         "type": "scatter",
         "x": [
          0,
          1,
          2,
          3,
          4,
          5,
          6,
          7,
          8,
          9,
          10,
          11,
          12,
          13,
          14,
          15,
          16,
          17,
          18,
          19,
          20,
          21,
          22,
          23
         ],
         "y": [
          7,
          4,
          4,
          4,
          9,
          3,
          4,
          15,
          43,
          50,
          47,
          46,
          58,
          63,
          52,
          53,
          59,
          48,
          34,
          22,
          19,
          21,
          15,
          13
         ]
        },
        {
         "name": "food storage",
         "type": "scatter",
         "x": [
          0,
          1,
          2,
          3,
          4,
          5,
          6,
          7,
          8,
          9,
          10,
          11,
          12,
          13,
          14,
          15,
          16,
          17,
          18,
          19,
          20,
          21,
          22,
          23
         ],
         "y": [
          30,
          19,
          11,
          7,
          8,
          18,
          40,
          102,
          223,
          305,
          348,
          361,
          340,
          343,
          338,
          333,
          302,
          250,
          209,
          195,
          130,
          97,
          92,
          43
         ]
        },
        {
         "name": "fresh dips tapenades",
         "type": "scatter",
         "x": [
          0,
          1,
          2,
          3,
          4,
          5,
          6,
          7,
          8,
          9,
          10,
          11,
          12,
          13,
          14,
          15,
          16,
          17,
          18,
          19,
          20,
          21,
          22,
          23
         ],
         "y": [
          128,
          90,
          45,
          27,
          24,
          69,
          189,
          508,
          1093,
          1649,
          2017,
          2001,
          1772,
          1760,
          1840,
          1760,
          1795,
          1489,
          1153,
          885,
          661,
          514,
          438,
          268
         ]
        },
        {
         "name": "fresh fruits",
         "type": "scatter",
         "x": [
          0,
          1,
          2,
          3,
          4,
          5,
          6,
          7,
          8,
          9,
          10,
          11,
          12,
          13,
          14,
          15,
          16,
          17,
          18,
          19,
          20,
          21,
          22,
          23
         ],
         "y": [
          1613,
          724,
          449,
          283,
          326,
          664,
          2135,
          6603,
          12937,
          17914,
          19515,
          18375,
          17828,
          18033,
          18261,
          18441,
          17623,
          13991,
          11084,
          8693,
          7067,
          5784,
          4916,
          2780
         ]
        },
        {
         "name": "fresh herbs",
         "type": "scatter",
         "x": [
          0,
          1,
          2,
          3,
          4,
          5,
          6,
          7,
          8,
          9,
          10,
          11,
          12,
          13,
          14,
          15,
          16,
          17,
          18,
          19,
          20,
          21,
          22,
          23
         ],
         "y": [
          173,
          88,
          63,
          37,
          26,
          50,
          194,
          504,
          1152,
          1606,
          2023,
          2078,
          2117,
          2060,
          2065,
          2021,
          1778,
          1406,
          1043,
          814,
          614,
          613,
          517,
          300
         ]
        },
        {
         "name": "fresh pasta",
         "type": "scatter",
         "x": [
          0,
          1,
          2,
          3,
          4,
          5,
          6,
          7,
          8,
          9,
          10,
          11,
          12,
          13,
          14,
          15,
          16,
          17,
          18,
          19,
          20,
          21,
          22,
          23
         ],
         "y": [
          11,
          6,
          2,
          4,
          4,
          8,
          24,
          61,
          120,
          148,
          158,
          170,
          189,
          183,
          205,
          247,
          222,
          158,
          121,
          106,
          59,
          55,
          49,
          30
         ]
        },
        {
         "name": "fresh vegetables",
         "type": "scatter",
         "x": [
          0,
          1,
          2,
          3,
          4,
          5,
          6,
          7,
          8,
          9,
          10,
          11,
          12,
          13,
          14,
          15,
          16,
          17,
          18,
          19,
          20,
          21,
          22,
          23
         ],
         "y": [
          1575,
          768,
          400,
          267,
          368,
          602,
          1807,
          5491,
          10768,
          14901,
          17665,
          18002,
          17697,
          18013,
          18000,
          18026,
          16839,
          13540,
          10348,
          7755,
          6433,
          5731,
          4759,
          2856
         ]
        },
        {
         "name": "frozen appetizers sides",
         "type": "scatter",
         "x": [
          0,
          1,
          2,
          3,
          4,
          5,
          6,
          7,
          8,
          9,
          10,
          11,
          12,
          13,
          14,
          15,
          16,
          17,
          18,
          19,
          20,
          21,
          22,
          23
         ],
         "y": [
          112,
          47,
          27,
          17,
          29,
          46,
          106,
          348,
          661,
          810,
          938,
          1034,
          1003,
          1007,
          1038,
          1006,
          993,
          821,
          677,
          468,
          360,
          284,
          212,
          134
         ]
        },
        {
         "name": "frozen breads doughs",
         "type": "scatter",
         "x": [
          0,
          1,
          2,
          3,
          4,
          5,
          6,
          7,
          8,
          9,
          10,
          11,
          12,
          13,
          14,
          15,
          16,
          17,
          18,
          19,
          20,
          21,
          22,
          23
         ],
         "y": [
          14,
          12,
          4,
          4,
          1,
          8,
          25,
          58,
          119,
          173,
          194,
          232,
          195,
          216,
          216,
          208,
          203,
          162,
          143,
          99,
          78,
          42,
          43,
          37
         ]
        },
        {
         "name": "frozen breakfast",
         "type": "scatter",
         "x": [
          0,
          1,
          2,
          3,
          4,
          5,
          6,
          7,
          8,
          9,
          10,
          11,
          12,
          13,
          14,
          15,
          16,
          17,
          18,
          19,
          20,
          21,
          22,
          23
         ],
         "y": [
          99,
          65,
          31,
          13,
          22,
          49,
          139,
          478,
          928,
          1026,
          1109,
          1259,
          1086,
          1118,
          1138,
          1162,
          1071,
          928,
          741,
          566,
          471,
          348,
          297,
          202
         ]
        },
        {
         "name": "frozen dessert",
         "type": "scatter",
         "x": [
          0,
          1,
          2,
          3,
          4,
          5,
          6,
          7,
          8,
          9,
          10,
          11,
          12,
          13,
          14,
          15,
          16,
          17,
          18,
          19,
          20,
          21,
          22,
          23
         ],
         "y": [
          4,
          6,
          2,
          null,
          3,
          6,
          10,
          31,
          52,
          71,
          95,
          99,
          87,
          108,
          101,
          98,
          105,
          84,
          69,
          47,
          49,
          27,
          20,
          16
         ]
        },
        {
         "name": "frozen juice",
         "type": "scatter",
         "x": [
          0,
          1,
          2,
          3,
          4,
          5,
          6,
          7,
          8,
          9,
          10,
          11,
          12,
          13,
          14,
          15,
          16,
          17,
          18,
          19,
          20,
          21,
          22,
          23
         ],
         "y": [
          3,
          2,
          3,
          null,
          null,
          1,
          1,
          7,
          16,
          16,
          39,
          15,
          24,
          26,
          27,
          24,
          21,
          13,
          9,
          11,
          6,
          8,
          6,
          1
         ]
        },
        {
         "name": "frozen meals",
         "type": "scatter",
         "x": [
          0,
          1,
          2,
          3,
          4,
          5,
          6,
          7,
          8,
          9,
          10,
          11,
          12,
          13,
          14,
          15,
          16,
          17,
          18,
          19,
          20,
          21,
          22,
          23
         ],
         "y": [
          173,
          127,
          71,
          44,
          28,
          108,
          211,
          542,
          1061,
          1471,
          1921,
          2090,
          1938,
          2149,
          2101,
          1957,
          1941,
          1782,
          1554,
          1164,
          772,
          495,
          464,
          285
         ]
        },
        {
         "name": "frozen meat seafood",
         "type": "scatter",
         "x": [
          0,
          1,
          2,
          3,
          4,
          5,
          6,
          7,
          8,
          9,
          10,
          11,
          12,
          13,
          14,
          15,
          16,
          17,
          18,
          19,
          20,
          21,
          22,
          23
         ],
         "y": [
          31,
          14,
          2,
          5,
          6,
          6,
          29,
          128,
          245,
          298,
          387,
          410,
          347,
          334,
          360,
          366,
          348,
          323,
          224,
          141,
          136,
          121,
          101,
          46
         ]
        },
        {
         "name": "frozen pizza",
         "type": "scatter",
         "x": [
          0,
          1,
          2,
          3,
          4,
          5,
          6,
          7,
          8,
          9,
          10,
          11,
          12,
          13,
          14,
          15,
          16,
          17,
          18,
          19,
          20,
          21,
          22,
          23
         ],
         "y": [
          61,
          33,
          31,
          24,
          25,
          34,
          71,
          215,
          461,
          635,
          771,
          834,
          825,
          838,
          873,
          806,
          883,
          860,
          593,
          469,
          319,
          200,
          177,
          86
         ]
        },
        {
         "name": "frozen produce",
         "type": "scatter",
         "x": [
          0,
          1,
          2,
          3,
          4,
          5,
          6,
          7,
          8,
          9,
          10,
          11,
          12,
          13,
          14,
          15,
          16,
          17,
          18,
          19,
          20,
          21,
          22,
          23
         ],
         "y": [
          279,
          153,
          83,
          47,
          49,
          69,
          338,
          893,
          1579,
          2247,
          2663,
          2689,
          2635,
          2671,
          2771,
          2610,
          2549,
          2054,
          1603,
          1251,
          1131,
          848,
          745,
          475
         ]
        },
        {
         "name": "frozen vegan vegetarian",
         "type": "scatter",
         "x": [
          0,
          1,
          2,
          3,
          4,
          5,
          6,
          7,
          8,
          9,
          10,
          11,
          12,
          13,
          14,
          15,
          16,
          17,
          18,
          19,
          20,
          21,
          22,
          23
         ],
         "y": [
          47,
          27,
          19,
          5,
          15,
          17,
          48,
          162,
          274,
          379,
          487,
          534,
          518,
          504,
          503,
          560,
          482,
          465,
          405,
          266,
          203,
          172,
          148,
          81
         ]
        },
        {
         "name": "fruit vegetable snacks",
         "type": "scatter",
         "x": [
          0,
          1,
          2,
          3,
          4,
          5,
          6,
          7,
          8,
          9,
          10,
          11,
          12,
          13,
          14,
          15,
          16,
          17,
          18,
          19,
          20,
          21,
          22,
          23
         ],
         "y": [
          64,
          44,
          21,
          14,
          13,
          19,
          109,
          296,
          621,
          943,
          938,
          894,
          843,
          904,
          929,
          928,
          885,
          639,
          479,
          426,
          338,
          268,
          206,
          110
         ]
        },
        {
         "name": "grains rice dried goods",
         "type": "scatter",
         "x": [
          0,
          1,
          2,
          3,
          4,
          5,
          6,
          7,
          8,
          9,
          10,
          11,
          12,
          13,
          14,
          15,
          16,
          17,
          18,
          19,
          20,
          21,
          22,
          23
         ],
         "y": [
          66,
          33,
          14,
          12,
          22,
          21,
          87,
          230,
          449,
          618,
          730,
          748,
          759,
          766,
          750,
          741,
          661,
          530,
          420,
          341,
          299,
          222,
          247,
          112
         ]
        },
        {
         "name": "granola",
         "type": "scatter",
         "x": [
          0,
          1,
          2,
          3,
          4,
          5,
          6,
          7,
          8,
          9,
          10,
          11,
          12,
          13,
          14,
          15,
          16,
          17,
          18,
          19,
          20,
          21,
          22,
          23
         ],
         "y": [
          28,
          29,
          19,
          9,
          8,
          14,
          62,
          196,
          362,
          543,
          566,
          531,
          528,
          491,
          550,
          510,
          520,
          365,
          326,
          257,
          170,
          132,
          113,
          81
         ]
        },
        {
         "name": "hair care",
         "type": "scatter",
         "x": [
          0,
          1,
          2,
          3,
          4,
          5,
          6,
          7,
          8,
          9,
          10,
          11,
          12,
          13,
          14,
          15,
          16,
          17,
          18,
          19,
          20,
          21,
          22,
          23
         ],
         "y": [
          5,
          10,
          5,
          4,
          5,
          6,
          11,
          41,
          109,
          127,
          167,
          141,
          119,
          159,
          175,
          151,
          153,
          131,
          126,
          99,
          56,
          42,
          39,
          28
         ]
        },
        {
         "name": "honeys syrups nectars",
         "type": "scatter",
         "x": [
          0,
          1,
          2,
          3,
          4,
          5,
          6,
          7,
          8,
          9,
          10,
          11,
          12,
          13,
          14,
          15,
          16,
          17,
          18,
          19,
          20,
          21,
          22,
          23
         ],
         "y": [
          39,
          19,
          12,
          8,
          15,
          12,
          33,
          123,
          237,
          330,
          362,
          372,
          373,
          314,
          348,
          322,
          305,
          278,
          222,
          146,
          99,
          90,
          56,
          41
         ]
        },
        {
         "name": "hot cereal pancake mixes",
         "type": "scatter",
         "x": [
          0,
          1,
          2,
          3,
          4,
          5,
          6,
          7,
          8,
          9,
          10,
          11,
          12,
          13,
          14,
          15,
          16,
          17,
          18,
          19,
          20,
          21,
          22,
          23
         ],
         "y": [
          71,
          39,
          15,
          16,
          11,
          35,
          105,
          328,
          615,
          837,
          829,
          807,
          763,
          772,
          811,
          754,
          689,
          606,
          464,
          375,
          305,
          246,
          200,
          127
         ]
        },
        {
         "name": "hot dogs bacon sausage",
         "type": "scatter",
         "x": [
          0,
          1,
          2,
          3,
          4,
          5,
          6,
          7,
          8,
          9,
          10,
          11,
          12,
          13,
          14,
          15,
          16,
          17,
          18,
          19,
          20,
          21,
          22,
          23
         ],
         "y": [
          116,
          80,
          45,
          37,
          34,
          59,
          194,
          522,
          1046,
          1342,
          1545,
          1596,
          1525,
          1464,
          1610,
          1642,
          1540,
          1271,
          1050,
          696,
          618,
          444,
          354,
          207
         ]
        },
        {
         "name": "ice cream ice",
         "type": "scatter",
         "x": [
          0,
          1,
          2,
          3,
          4,
          5,
          6,
          7,
          8,
          9,
          10,
          11,
          12,
          13,
          14,
          15,
          16,
          17,
          18,
          19,
          20,
          21,
          22,
          23
         ],
         "y": [
          207,
          136,
          76,
          76,
          67,
          84,
          237,
          658,
          1219,
          1691,
          2189,
          2361,
          2326,
          2532,
          2641,
          2811,
          2839,
          2498,
          2226,
          1692,
          1183,
          742,
          490,
          342
         ]
        },
        {
         "name": "ice cream toppings",
         "type": "scatter",
         "x": [
          0,
          1,
          2,
          3,
          4,
          5,
          6,
          7,
          8,
          9,
          10,
          11,
          12,
          13,
          14,
          15,
          16,
          17,
          18,
          19,
          20,
          21,
          22,
          23
         ],
         "y": [
          11,
          6,
          null,
          null,
          3,
          null,
          3,
          23,
          34,
          34,
          55,
          45,
          54,
          47,
          51,
          51,
          71,
          60,
          50,
          30,
          32,
          21,
          13,
          12
         ]
        },
        {
         "name": "indian foods",
         "type": "scatter",
         "x": [
          0,
          1,
          2,
          3,
          4,
          5,
          6,
          7,
          8,
          9,
          10,
          11,
          12,
          13,
          14,
          15,
          16,
          17,
          18,
          19,
          20,
          21,
          22,
          23
         ],
         "y": [
          6,
          2,
          5,
          2,
          4,
          5,
          5,
          23,
          36,
          64,
          72,
          70,
          99,
          76,
          91,
          69,
          96,
          68,
          43,
          36,
          39,
          28,
          13,
          11
         ]
        },
        {
         "name": "instant foods",
         "type": "scatter",
         "x": [
          0,
          1,
          2,
          3,
          4,
          5,
          6,
          7,
          8,
          9,
          10,
          11,
          12,
          13,
          14,
          15,
          16,
          17,
          18,
          19,
          20,
          21,
          22,
          23
         ],
         "y": [
          73,
          54,
          23,
          24,
          25,
          32,
          108,
          353,
          606,
          825,
          952,
          1068,
          1085,
          1082,
          1066,
          1070,
          1034,
          907,
          707,
          489,
          375,
          287,
          249,
          157
         ]
        },
        {
         "name": "juice nectars",
         "type": "scatter",
         "x": [
          0,
          1,
          2,
          3,
          4,
          5,
          6,
          7,
          8,
          9,
          10,
          11,
          12,
          13,
          14,
          15,
          16,
          17,
          18,
          19,
          20,
          21,
          22,
          23
         ],
         "y": [
          147,
          94,
          51,
          35,
          45,
          54,
          174,
          553,
          1037,
          1436,
          1737,
          1765,
          1654,
          1739,
          1637,
          1663,
          1679,
          1357,
          1087,
          902,
          659,
          513,
          438,
          259
         ]
        },
        {
         "name": "kitchen supplies",
         "type": "scatter",
         "x": [
          0,
          1,
          2,
          3,
          4,
          5,
          6,
          7,
          8,
          9,
          10,
          11,
          12,
          13,
          14,
          15,
          16,
          17,
          18,
          19,
          20,
          21,
          22,
          23
         ],
         "y": [
          8,
          1,
          2,
          null,
          3,
          3,
          4,
          17,
          24,
          34,
          46,
          52,
          51,
          53,
          50,
          38,
          47,
          33,
          25,
          18,
          19,
          12,
          15,
          6
         ]
        },
        {
         "name": "kosher foods",
         "type": "scatter",
         "x": [
          0,
          1,
          2,
          3,
          4,
          5,
          6,
          7,
          8,
          9,
          10,
          11,
          12,
          13,
          14,
          15,
          16,
          17,
          18,
          19,
          20,
          21,
          22,
          23
         ],
         "y": [
          5,
          3,
          4,
          3,
          2,
          4,
          6,
          24,
          34,
          48,
          54,
          62,
          56,
          62,
          56,
          50,
          40,
          41,
          31,
          25,
          29,
          24,
          22,
          12
         ]
        },
        {
         "name": "latino foods",
         "type": "scatter",
         "x": [
          0,
          1,
          2,
          3,
          4,
          5,
          6,
          7,
          8,
          9,
          10,
          11,
          12,
          13,
          14,
          15,
          16,
          17,
          18,
          19,
          20,
          21,
          22,
          23
         ],
         "y": [
          29,
          23,
          5,
          1,
          10,
          13,
          39,
          111,
          214,
          334,
          419,
          376,
          408,
          402,
          384,
          458,
          393,
          308,
          226,
          144,
          130,
          93,
          93,
          39
         ]
        },
        {
         "name": "laundry",
         "type": "scatter",
         "x": [
          0,
          1,
          2,
          3,
          4,
          5,
          6,
          7,
          8,
          9,
          10,
          11,
          12,
          13,
          14,
          15,
          16,
          17,
          18,
          19,
          20,
          21,
          22,
          23
         ],
         "y": [
          36,
          37,
          4,
          10,
          12,
          20,
          59,
          196,
          377,
          402,
          501,
          535,
          487,
          512,
          460,
          481,
          410,
          367,
          283,
          249,
          165,
          116,
          123,
          62
         ]
        },
        {
         "name": "lunch meat",
         "type": "scatter",
         "x": [
          0,
          1,
          2,
          3,
          4,
          5,
          6,
          7,
          8,
          9,
          10,
          11,
          12,
          13,
          14,
          15,
          16,
          17,
          18,
          19,
          20,
          21,
          22,
          23
         ],
         "y": [
          139,
          86,
          47,
          38,
          36,
          68,
          233,
          633,
          1262,
          1789,
          2039,
          2023,
          2003,
          2002,
          2091,
          2059,
          1872,
          1656,
          1312,
          934,
          784,
          585,
          483,
          296
         ]
        },
        {
         "name": "marinades meat preparation",
         "type": "scatter",
         "x": [
          0,
          1,
          2,
          3,
          4,
          5,
          6,
          7,
          8,
          9,
          10,
          11,
          12,
          13,
          14,
          15,
          16,
          17,
          18,
          19,
          20,
          21,
          22,
          23
         ],
         "y": [
          23,
          10,
          12,
          7,
          7,
          7,
          29,
          92,
          171,
          244,
          291,
          338,
          356,
          334,
          321,
          359,
          305,
          243,
          208,
          137,
          122,
          80,
          90,
          50
         ]
        },
        {
         "name": "meat counter",
         "type": "scatter",
         "x": [
          0,
          1,
          2,
          3,
          4,
          5,
          6,
          7,
          8,
          9,
          10,
          11,
          12,
          13,
          14,
          15,
          16,
          17,
          18,
          19,
          20,
          21,
          22,
          23
         ],
         "y": [
          24,
          13,
          8,
          7,
          10,
          12,
          38,
          88,
          225,
          307,
          377,
          403,
          385,
          379,
          380,
          373,
          384,
          298,
          221,
          144,
          154,
          107,
          83,
          52
         ]
        },
        {
         "name": "milk",
         "type": "scatter",
         "x": [
          0,
          1,
          2,
          3,
          4,
          5,
          6,
          7,
          8,
          9,
          10,
          11,
          12,
          13,
          14,
          15,
          16,
          17,
          18,
          19,
          20,
          21,
          22,
          23
         ],
         "y": [
          317,
          148,
          91,
          56,
          82,
          159,
          578,
          1828,
          3326,
          4502,
          4930,
          4535,
          4069,
          4275,
          4411,
          4361,
          4175,
          3421,
          2763,
          2227,
          1756,
          1361,
          1134,
          645
         ]
        },
        {
         "name": "mint gum",
         "type": "scatter",
         "x": [
          0,
          1,
          2,
          3,
          4,
          5,
          6,
          7,
          8,
          9,
          10,
          11,
          12,
          13,
          14,
          15,
          16,
          17,
          18,
          19,
          20,
          21,
          22,
          23
         ],
         "y": [
          2,
          3,
          5,
          3,
          null,
          5,
          10,
          31,
          86,
          145,
          152,
          134,
          112,
          116,
          111,
          113,
          99,
          78,
          43,
          49,
          24,
          17,
          24,
          15
         ]
        },
        {
         "name": "missing",
         "type": "scatter",
         "x": [
          0,
          1,
          2,
          3,
          4,
          5,
          6,
          7,
          8,
          9,
          10,
          11,
          12,
          13,
          14,
          15,
          16,
          17,
          18,
          19,
          20,
          21,
          22,
          23
         ],
         "y": [
          38,
          21,
          12,
          11,
          11,
          18,
          31,
          123,
          222,
          377,
          394,
          393,
          392,
          375,
          398,
          377,
          321,
          316,
          247,
          217,
          159,
          119,
          109,
          68
         ]
        },
        {
         "name": "more household",
         "type": "scatter",
         "x": [
          0,
          1,
          2,
          3,
          4,
          5,
          6,
          7,
          8,
          9,
          10,
          11,
          12,
          13,
          14,
          15,
          16,
          17,
          18,
          19,
          20,
          21,
          22,
          23
         ],
         "y": [
          5,
          4,
          1,
          5,
          5,
          5,
          10,
          39,
          60,
          84,
          82,
          112,
          97,
          97,
          94,
          100,
          101,
          66,
          59,
          54,
          34,
          22,
          19,
          15
         ]
        },
        {
         "name": "muscles joints pain relief",
         "type": "scatter",
         "x": [
          0,
          1,
          2,
          3,
          4,
          5,
          6,
          7,
          8,
          9,
          10,
          11,
          12,
          13,
          14,
          15,
          16,
          17,
          18,
          19,
          20,
          21,
          22,
          23
         ],
         "y": [
          8,
          5,
          3,
          3,
          3,
          3,
          8,
          27,
          68,
          88,
          109,
          116,
          115,
          100,
          99,
          107,
          98,
          87,
          74,
          62,
          28,
          21,
          16,
          8
         ]
        },
        {
         "name": "nuts seeds dried fruit",
         "type": "scatter",
         "x": [
          0,
          1,
          2,
          3,
          4,
          5,
          6,
          7,
          8,
          9,
          10,
          11,
          12,
          13,
          14,
          15,
          16,
          17,
          18,
          19,
          20,
          21,
          22,
          23
         ],
         "y": [
          118,
          64,
          39,
          27,
          19,
          54,
          157,
          527,
          1011,
          1569,
          1727,
          1602,
          1538,
          1567,
          1564,
          1539,
          1429,
          1197,
          892,
          688,
          607,
          466,
          382,
          243
         ]
        },
        {
         "name": "oils vinegars",
         "type": "scatter",
         "x": [
          0,
          1,
          2,
          3,
          4,
          5,
          6,
          7,
          8,
          9,
          10,
          11,
          12,
          13,
          14,
          15,
          16,
          17,
          18,
          19,
          20,
          21,
          22,
          23
         ],
         "y": [
          105,
          64,
          25,
          26,
          24,
          43,
          144,
          432,
          785,
          1082,
          1241,
          1258,
          1352,
          1265,
          1275,
          1249,
          1139,
          936,
          800,
          571,
          511,
          371,
          322,
          193
         ]
        },
        {
         "name": "oral hygiene",
         "type": "scatter",
         "x": [
          0,
          1,
          2,
          3,
          4,
          5,
          6,
          7,
          8,
          9,
          10,
          11,
          12,
          13,
          14,
          15,
          16,
          17,
          18,
          19,
          20,
          21,
          22,
          23
         ],
         "y": [
          27,
          25,
          9,
          10,
          3,
          13,
          27,
          85,
          199,
          278,
          344,
          324,
          333,
          299,
          314,
          322,
          308,
          251,
          266,
          200,
          152,
          81,
          92,
          56
         ]
        },
        {
         "name": "other",
         "type": "scatter",
         "x": [
          0,
          1,
          2,
          3,
          4,
          5,
          6,
          7,
          8,
          9,
          10,
          11,
          12,
          13,
          14,
          15,
          16,
          17,
          18,
          19,
          20,
          21,
          22,
          23
         ],
         "y": [
          17,
          8,
          5,
          5,
          4,
          7,
          28,
          54,
          111,
          164,
          180,
          172,
          200,
          166,
          218,
          166,
          173,
          137,
          123,
          118,
          67,
          47,
          45,
          25
         ]
        },
        {
         "name": "other creams cheeses",
         "type": "scatter",
         "x": [
          0,
          1,
          2,
          3,
          4,
          5,
          6,
          7,
          8,
          9,
          10,
          11,
          12,
          13,
          14,
          15,
          16,
          17,
          18,
          19,
          20,
          21,
          22,
          23
         ],
         "y": [
          136,
          67,
          45,
          22,
          35,
          50,
          165,
          512,
          1023,
          1354,
          1575,
          1665,
          1519,
          1592,
          1638,
          1632,
          1561,
          1202,
          999,
          710,
          568,
          437,
          370,
          214
         ]
        },
        {
         "name": "packaged cheese",
         "type": "scatter",
         "x": [
          0,
          1,
          2,
          3,
          4,
          5,
          6,
          7,
          8,
          9,
          10,
          11,
          12,
          13,
          14,
          15,
          16,
          17,
          18,
          19,
          20,
          21,
          22,
          23
         ],
         "y": [
          374,
          197,
          116,
          82,
          82,
          173,
          590,
          1713,
          3142,
          4553,
          5308,
          5156,
          5186,
          5137,
          5233,
          5132,
          4780,
          3892,
          3038,
          2275,
          1920,
          1458,
          1274,
          691
         ]
        },
        {
         "name": "packaged meat",
         "type": "scatter",
         "x": [
          0,
          1,
          2,
          3,
          4,
          5,
          6,
          7,
          8,
          9,
          10,
          11,
          12,
          13,
          14,
          15,
          16,
          17,
          18,
          19,
          20,
          21,
          22,
          23
         ],
         "y": [
          16,
          10,
          4,
          4,
          3,
          4,
          12,
          49,
          92,
          157,
          163,
          165,
          165,
          175,
          191,
          165,
          182,
          119,
          104,
          76,
          61,
          49,
          35,
          19
         ]
        },
        {
         "name": "packaged poultry",
         "type": "scatter",
         "x": [
          0,
          1,
          2,
          3,
          4,
          5,
          6,
          7,
          8,
          9,
          10,
          11,
          12,
          13,
          14,
          15,
          16,
          17,
          18,
          19,
          20,
          21,
          22,
          23
         ],
         "y": [
          25,
          18,
          17,
          8,
          9,
          21,
          68,
          191,
          381,
          481,
          639,
          592,
          647,
          625,
          635,
          641,
          572,
          533,
          427,
          311,
          241,
          156,
          138,
          91
         ]
        },
        {
         "name": "packaged produce",
         "type": "scatter",
         "x": [
          0,
          1,
          2,
          3,
          4,
          5,
          6,
          7,
          8,
          9,
          10,
          11,
          12,
          13,
          14,
          15,
          16,
          17,
          18,
          19,
          20,
          21,
          22,
          23
         ],
         "y": [
          128,
          74,
          37,
          19,
          38,
          58,
          186,
          527,
          1094,
          1546,
          1659,
          1585,
          1416,
          1420,
          1364,
          1308,
          1224,
          898,
          679,
          541,
          494,
          479,
          405,
          229
         ]
        },
        {
         "name": "packaged seafood",
         "type": "scatter",
         "x": [
          0,
          1,
          2,
          3,
          4,
          5,
          6,
          7,
          8,
          9,
          10,
          11,
          12,
          13,
          14,
          15,
          16,
          17,
          18,
          19,
          20,
          21,
          22,
          23
         ],
         "y": [
          9,
          5,
          3,
          4,
          2,
          3,
          11,
          32,
          76,
          89,
          103,
          121,
          97,
          99,
          102,
          116,
          101,
          93,
          61,
          58,
          43,
          31,
          24,
          18
         ]
        },
        {
         "name": "packaged vegetables fruits",
         "type": "scatter",
         "x": [
          0,
          1,
          2,
          3,
          4,
          5,
          6,
          7,
          8,
          9,
          10,
          11,
          12,
          13,
          14,
          15,
          16,
          17,
          18,
          19,
          20,
          21,
          22,
          23
         ],
         "y": [
          733,
          386,
          238,
          145,
          154,
          342,
          1040,
          3052,
          6051,
          7880,
          9155,
          9032,
          8741,
          9058,
          9104,
          8939,
          8714,
          6937,
          5639,
          4195,
          3495,
          2806,
          2340,
          1420
         ]
        },
        {
         "name": "paper goods",
         "type": "scatter",
         "x": [
          0,
          1,
          2,
          3,
          4,
          5,
          6,
          7,
          8,
          9,
          10,
          11,
          12,
          13,
          14,
          15,
          16,
          17,
          18,
          19,
          20,
          21,
          22,
          23
         ],
         "y": [
          118,
          72,
          44,
          25,
          39,
          57,
          138,
          451,
          800,
          1101,
          1344,
          1352,
          1228,
          1256,
          1285,
          1213,
          1146,
          945,
          861,
          680,
          472,
          336,
          282,
          177
         ]
        },
        {
         "name": "pasta sauce",
         "type": "scatter",
         "x": [
          0,
          1,
          2,
          3,
          4,
          5,
          6,
          7,
          8,
          9,
          10,
          11,
          12,
          13,
          14,
          15,
          16,
          17,
          18,
          19,
          20,
          21,
          22,
          23
         ],
         "y": [
          99,
          44,
          26,
          28,
          29,
          41,
          125,
          348,
          676,
          884,
          1142,
          1126,
          1159,
          1148,
          1186,
          1230,
          1165,
          916,
          681,
          525,
          384,
          331,
          280,
          198
         ]
        },
        {
         "name": "pickled goods olives",
         "type": "scatter",
         "x": [
          0,
          1,
          2,
          3,
          4,
          5,
          6,
          7,
          8,
          9,
          10,
          11,
          12,
          13,
          14,
          15,
          16,
          17,
          18,
          19,
          20,
          21,
          22,
          23
         ],
         "y": [
          49,
          26,
          18,
          11,
          15,
          18,
          47,
          174,
          311,
          437,
          586,
          621,
          578,
          610,
          605,
          564,
          550,
          480,
          375,
          244,
          213,
          157,
          144,
          92
         ]
        },
        {
         "name": "plates bowls cups flatware",
         "type": "scatter",
         "x": [
          0,
          1,
          2,
          3,
          4,
          5,
          6,
          7,
          8,
          9,
          10,
          11,
          12,
          13,
          14,
          15,
          16,
          17,
          18,
          19,
          20,
          21,
          22,
          23
         ],
         "y": [
          34,
          25,
          2,
          7,
          7,
          17,
          30,
          66,
          135,
          217,
          245,
          252,
          244,
          207,
          190,
          225,
          172,
          155,
          151,
          92,
          77,
          45,
          55,
          21
         ]
        },
        {
         "name": "popcorn jerky",
         "type": "scatter",
         "x": [
          0,
          1,
          2,
          3,
          4,
          5,
          6,
          7,
          8,
          9,
          10,
          11,
          12,
          13,
          14,
          15,
          16,
          17,
          18,
          19,
          20,
          21,
          22,
          23
         ],
         "y": [
          43,
          33,
          11,
          6,
          11,
          23,
          70,
          235,
          565,
          876,
          961,
          927,
          844,
          845,
          886,
          887,
          797,
          696,
          474,
          395,
          271,
          230,
          217,
          112
         ]
        },
        {
         "name": "poultry counter",
         "type": "scatter",
         "x": [
          0,
          1,
          2,
          3,
          4,
          5,
          6,
          7,
          8,
          9,
          10,
          11,
          12,
          13,
          14,
          15,
          16,
          17,
          18,
          19,
          20,
          21,
          22,
          23
         ],
         "y": [
          51,
          20,
          14,
          16,
          10,
          25,
          78,
          197,
          416,
          582,
          656,
          675,
          730,
          683,
          712,
          763,
          616,
          540,
          425,
          303,
          200,
          179,
          141,
          99
         ]
        },
        {
         "name": "prepared meals",
         "type": "scatter",
         "x": [
          0,
          1,
          2,
          3,
          4,
          5,
          6,
          7,
          8,
          9,
          10,
          11,
          12,
          13,
          14,
          15,
          16,
          17,
          18,
          19,
          20,
          21,
          22,
          23
         ],
         "y": [
          46,
          18,
          13,
          11,
          7,
          19,
          46,
          148,
          322,
          394,
          471,
          496,
          502,
          547,
          516,
          521,
          533,
          420,
          383,
          255,
          170,
          127,
          100,
          79
         ]
        },
        {
         "name": "prepared soups salads",
         "type": "scatter",
         "x": [
          0,
          1,
          2,
          3,
          4,
          5,
          6,
          7,
          8,
          9,
          10,
          11,
          12,
          13,
          14,
          15,
          16,
          17,
          18,
          19,
          20,
          21,
          22,
          23
         ],
         "y": [
          25,
          16,
          16,
          6,
          12,
          10,
          49,
          123,
          240,
          314,
          378,
          407,
          336,
          368,
          372,
          356,
          326,
          283,
          268,
          158,
          110,
          90,
          76,
          45
         ]
        },
        {
         "name": "preserved dips spreads",
         "type": "scatter",
         "x": [
          0,
          1,
          2,
          3,
          4,
          5,
          6,
          7,
          8,
          9,
          10,
          11,
          12,
          13,
          14,
          15,
          16,
          17,
          18,
          19,
          20,
          21,
          22,
          23
         ],
         "y": [
          47,
          36,
          11,
          14,
          6,
          14,
          53,
          132,
          310,
          477,
          593,
          622,
          584,
          562,
          604,
          561,
          539,
          492,
          347,
          290,
          206,
          161,
          128,
          77
         ]
        },
        {
         "name": "protein meal replacements",
         "type": "scatter",
         "x": [
          0,
          1,
          2,
          3,
          4,
          5,
          6,
          7,
          8,
          9,
          10,
          11,
          12,
          13,
          14,
          15,
          16,
          17,
          18,
          19,
          20,
          21,
          22,
          23
         ],
         "y": [
          17,
          7,
          7,
          5,
          4,
          3,
          16,
          55,
          103,
          180,
          194,
          205,
          185,
          195,
          170,
          192,
          176,
          152,
          113,
          107,
          68,
          43,
          37,
          23
         ]
        },
        {
         "name": "red wines",
         "type": "scatter",
         "x": [
          0,
          1,
          2,
          3,
          4,
          5,
          6,
          7,
          8,
          9,
          10,
          11,
          12,
          13,
          14,
          15,
          16,
          17,
          18,
          19,
          20,
          21,
          22,
          23
         ],
         "y": [
          4,
          7,
          5,
          2,
          null,
          2,
          3,
          26,
          56,
          112,
          138,
          191,
          157,
          182,
          208,
          241,
          216,
          200,
          170,
          108,
          54,
          18,
          19,
          16
         ]
        },
        {
         "name": "refrigerated",
         "type": "scatter",
         "x": [
          0,
          1,
          2,
          3,
          4,
          5,
          6,
          7,
          8,
          9,
          10,
          11,
          12,
          13,
          14,
          15,
          16,
          17,
          18,
          19,
          20,
          21,
          22,
          23
         ],
         "y": [
          244,
          155,
          86,
          67,
          63,
          103,
          340,
          872,
          1764,
          2615,
          3078,
          3044,
          2796,
          2916,
          3053,
          2941,
          2918,
          2463,
          1928,
          1512,
          1047,
          836,
          633,
          419
         ]
        },
        {
         "name": "refrigerated pudding desserts",
         "type": "scatter",
         "x": [
          0,
          1,
          2,
          3,
          4,
          5,
          6,
          7,
          8,
          9,
          10,
          11,
          12,
          13,
          14,
          15,
          16,
          17,
          18,
          19,
          20,
          21,
          22,
          23
         ],
         "y": [
          24,
          11,
          10,
          13,
          5,
          9,
          29,
          65,
          126,
          140,
          172,
          170,
          164,
          195,
          187,
          207,
          192,
          216,
          124,
          111,
          87,
          73,
          63,
          30
         ]
        },
        {
         "name": "salad dressing toppings",
         "type": "scatter",
         "x": [
          0,
          1,
          2,
          3,
          4,
          5,
          6,
          7,
          8,
          9,
          10,
          11,
          12,
          13,
          14,
          15,
          16,
          17,
          18,
          19,
          20,
          21,
          22,
          23
         ],
         "y": [
          34,
          22,
          12,
          14,
          17,
          15,
          48,
          123,
          298,
          404,
          543,
          457,
          530,
          541,
          519,
          476,
          484,
          382,
          328,
          250,
          197,
          125,
          118,
          72
         ]
        },
        {
         "name": "seafood counter",
         "type": "scatter",
         "x": [
          0,
          1,
          2,
          3,
          4,
          5,
          6,
          7,
          8,
          9,
          10,
          11,
          12,
          13,
          14,
          15,
          16,
          17,
          18,
          19,
          20,
          21,
          22,
          23
         ],
         "y": [
          17,
          4,
          4,
          2,
          2,
          8,
          17,
          50,
          99,
          112,
          153,
          130,
          160,
          138,
          163,
          160,
          162,
          136,
          82,
          74,
          61,
          52,
          37,
          20
         ]
        },
        {
         "name": "shave needs",
         "type": "scatter",
         "x": [
          0,
          1,
          2,
          3,
          4,
          5,
          6,
          7,
          8,
          9,
          10,
          11,
          12,
          13,
          14,
          15,
          16,
          17,
          18,
          19,
          20,
          21,
          22,
          23
         ],
         "y": [
          3,
          2,
          1,
          2,
          null,
          1,
          2,
          18,
          35,
          43,
          53,
          57,
          54,
          42,
          50,
          54,
          68,
          32,
          50,
          42,
          11,
          12,
          5,
          9
         ]
        },
        {
         "name": "skin care",
         "type": "scatter",
         "x": [
          0,
          1,
          2,
          3,
          4,
          5,
          6,
          7,
          8,
          9,
          10,
          11,
          12,
          13,
          14,
          15,
          16,
          17,
          18,
          19,
          20,
          21,
          22,
          23
         ],
         "y": [
          3,
          6,
          2,
          null,
          1,
          1,
          8,
          15,
          39,
          43,
          52,
          64,
          61,
          61,
          54,
          48,
          52,
          33,
          38,
          27,
          17,
          14,
          10,
          5
         ]
        },
        {
         "name": "soap",
         "type": "scatter",
         "x": [
          0,
          1,
          2,
          3,
          4,
          5,
          6,
          7,
          8,
          9,
          10,
          11,
          12,
          13,
          14,
          15,
          16,
          17,
          18,
          19,
          20,
          21,
          22,
          23
         ],
         "y": [
          19,
          31,
          8,
          7,
          6,
          12,
          30,
          108,
          230,
          263,
          358,
          320,
          332,
          326,
          345,
          304,
          279,
          233,
          197,
          157,
          134,
          110,
          67,
          42
         ]
        },
        {
         "name": "soft drinks",
         "type": "scatter",
         "x": [
          0,
          1,
          2,
          3,
          4,
          5,
          6,
          7,
          8,
          9,
          10,
          11,
          12,
          13,
          14,
          15,
          16,
          17,
          18,
          19,
          20,
          21,
          22,
          23
         ],
         "y": [
          121,
          97,
          70,
          40,
          44,
          67,
          174,
          459,
          1154,
          1725,
          2121,
          2028,
          1803,
          1922,
          1842,
          1888,
          1768,
          1486,
          1196,
          841,
          615,
          381,
          361,
          225
         ]
        },
        {
         "name": "soup broth bouillon",
         "type": "scatter",
         "x": [
          0,
          1,
          2,
          3,
          4,
          5,
          6,
          7,
          8,
          9,
          10,
          11,
          12,
          13,
          14,
          15,
          16,
          17,
          18,
          19,
          20,
          21,
          22,
          23
         ],
         "y": [
          143,
          74,
          51,
          42,
          51,
          56,
          167,
          521,
          1070,
          1473,
          1939,
          1899,
          1863,
          1834,
          1824,
          1759,
          1740,
          1371,
          1058,
          790,
          625,
          480,
          462,
          248
         ]
        },
        {
         "name": "soy lactosefree",
         "type": "scatter",
         "x": [
          0,
          1,
          2,
          3,
          4,
          5,
          6,
          7,
          8,
          9,
          10,
          11,
          12,
          13,
          14,
          15,
          16,
          17,
          18,
          19,
          20,
          21,
          22,
          23
         ],
         "y": [
          256,
          138,
          97,
          56,
          70,
          105,
          380,
          1133,
          2098,
          3130,
          3546,
          3266,
          3087,
          3175,
          3157,
          3129,
          3056,
          2542,
          1999,
          1554,
          1234,
          943,
          770,
          468
         ]
        },
        {
         "name": "specialty cheeses",
         "type": "scatter",
         "x": [
          0,
          1,
          2,
          3,
          4,
          5,
          6,
          7,
          8,
          9,
          10,
          11,
          12,
          13,
          14,
          15,
          16,
          17,
          18,
          19,
          20,
          21,
          22,
          23
         ],
         "y": [
          39,
          20,
          13,
          7,
          6,
          12,
          41,
          105,
          220,
          355,
          450,
          441,
          447,
          453,
          435,
          414,
          392,
          305,
          301,
          179,
          159,
          134,
          106,
          68
         ]
        },
        {
         "name": "specialty wines champagnes",
         "type": "scatter",
         "x": [
          0,
          1,
          2,
          3,
          4,
          5,
          6,
          7,
          8,
          9,
          10,
          11,
          12,
          13,
          14,
          15,
          16,
          17,
          18,
          19,
          20,
          21,
          22,
          23
         ],
         "y": [
          3,
          3,
          null,
          2,
          null,
          2,
          4,
          6,
          20,
          32,
          51,
          60,
          48,
          55,
          60,
          52,
          62,
          51,
          36,
          30,
          14,
          12,
          7,
          4
         ]
        },
        {
         "name": "spices seasonings",
         "type": "scatter",
         "x": [
          0,
          1,
          2,
          3,
          4,
          5,
          6,
          7,
          8,
          9,
          10,
          11,
          12,
          13,
          14,
          15,
          16,
          17,
          18,
          19,
          20,
          21,
          22,
          23
         ],
         "y": [
          92,
          55,
          23,
          23,
          28,
          34,
          107,
          282,
          588,
          830,
          1129,
          1127,
          1168,
          1167,
          1133,
          1045,
          1064,
          869,
          684,
          471,
          387,
          311,
          305,
          145
         ]
        },
        {
         "name": "spirits",
         "type": "scatter",
         "x": [
          0,
          1,
          2,
          3,
          4,
          5,
          6,
          7,
          8,
          9,
          10,
          11,
          12,
          13,
          14,
          15,
          16,
          17,
          18,
          19,
          20,
          21,
          22,
          23
         ],
         "y": [
          5,
          2,
          5,
          7,
          6,
          3,
          9,
          21,
          68,
          113,
          120,
          155,
          154,
          156,
          163,
          178,
          181,
          140,
          131,
          87,
          49,
          16,
          20,
          6
         ]
        },
        {
         "name": "spreads",
         "type": "scatter",
         "x": [
          0,
          1,
          2,
          3,
          4,
          5,
          6,
          7,
          8,
          9,
          10,
          11,
          12,
          13,
          14,
          15,
          16,
          17,
          18,
          19,
          20,
          21,
          22,
          23
         ],
         "y": [
          123,
          75,
          41,
          28,
          29,
          50,
          164,
          501,
          979,
          1373,
          1606,
          1492,
          1481,
          1433,
          1503,
          1474,
          1381,
          1110,
          933,
          714,
          627,
          457,
          359,
          216
         ]
        },
        {
         "name": "tea",
         "type": "scatter",
         "x": [
          0,
          1,
          2,
          3,
          4,
          5,
          6,
          7,
          8,
          9,
          10,
          11,
          12,
          13,
          14,
          15,
          16,
          17,
          18,
          19,
          20,
          21,
          22,
          23
         ],
         "y": [
          103,
          48,
          72,
          30,
          22,
          32,
          121,
          366,
          865,
          1421,
          1596,
          1592,
          1274,
          1339,
          1226,
          1317,
          1149,
          880,
          677,
          526,
          399,
          299,
          242,
          137
         ]
        },
        {
         "name": "tofu meat alternatives",
         "type": "scatter",
         "x": [
          0,
          1,
          2,
          3,
          4,
          5,
          6,
          7,
          8,
          9,
          10,
          11,
          12,
          13,
          14,
          15,
          16,
          17,
          18,
          19,
          20,
          21,
          22,
          23
         ],
         "y": [
          66,
          38,
          16,
          12,
          14,
          28,
          61,
          203,
          392,
          536,
          626,
          646,
          624,
          721,
          653,
          653,
          705,
          518,
          409,
          322,
          289,
          201,
          173,
          97
         ]
        },
        {
         "name": "tortillas flat bread",
         "type": "scatter",
         "x": [
          0,
          1,
          2,
          3,
          4,
          5,
          6,
          7,
          8,
          9,
          10,
          11,
          12,
          13,
          14,
          15,
          16,
          17,
          18,
          19,
          20,
          21,
          22,
          23
         ],
         "y": [
          71,
          38,
          22,
          25,
          22,
          34,
          104,
          333,
          595,
          850,
          979,
          938,
          1019,
          1049,
          1083,
          1003,
          987,
          835,
          598,
          465,
          384,
          283,
          223,
          142
         ]
        },
        {
         "name": "trail mix snack mix",
         "type": "scatter",
         "x": [
          0,
          1,
          2,
          3,
          4,
          5,
          6,
          7,
          8,
          9,
          10,
          11,
          12,
          13,
          14,
          15,
          16,
          17,
          18,
          19,
          20,
          21,
          22,
          23
         ],
         "y": [
          8,
          1,
          8,
          5,
          null,
          4,
          16,
          49,
          134,
          229,
          241,
          259,
          193,
          186,
          172,
          157,
          170,
          122,
          83,
          48,
          55,
          35,
          43,
          20
         ]
        },
        {
         "name": "trash bags liners",
         "type": "scatter",
         "x": [
          0,
          1,
          2,
          3,
          4,
          5,
          6,
          7,
          8,
          9,
          10,
          11,
          12,
          13,
          14,
          15,
          16,
          17,
          18,
          19,
          20,
          21,
          22,
          23
         ],
         "y": [
          10,
          7,
          3,
          3,
          2,
          9,
          22,
          51,
          101,
          178,
          187,
          175,
          150,
          174,
          153,
          152,
          150,
          133,
          99,
          88,
          59,
          55,
          39,
          20
         ]
        },
        {
         "name": "vitamins supplements",
         "type": "scatter",
         "x": [
          0,
          1,
          2,
          3,
          4,
          5,
          6,
          7,
          8,
          9,
          10,
          11,
          12,
          13,
          14,
          15,
          16,
          17,
          18,
          19,
          20,
          21,
          22,
          23
         ],
         "y": [
          21,
          16,
          6,
          11,
          3,
          5,
          24,
          86,
          154,
          216,
          231,
          250,
          241,
          246,
          245,
          242,
          234,
          159,
          139,
          103,
          96,
          79,
          60,
          45
         ]
        },
        {
         "name": "water seltzer sparkling water",
         "type": "scatter",
         "x": [
          0,
          1,
          2,
          3,
          4,
          5,
          6,
          7,
          8,
          9,
          10,
          11,
          12,
          13,
          14,
          15,
          16,
          17,
          18,
          19,
          20,
          21,
          22,
          23
         ],
         "y": [
          319,
          181,
          109,
          82,
          67,
          131,
          466,
          1271,
          2786,
          4304,
          4970,
          4517,
          4223,
          4343,
          4334,
          4415,
          3938,
          3388,
          2627,
          2085,
          1532,
          1062,
          854,
          560
         ]
        },
        {
         "name": "white wines",
         "type": "scatter",
         "x": [
          0,
          1,
          2,
          3,
          4,
          5,
          6,
          7,
          8,
          9,
          10,
          11,
          12,
          13,
          14,
          15,
          16,
          17,
          18,
          19,
          20,
          21,
          22,
          23
         ],
         "y": [
          4,
          null,
          1,
          3,
          null,
          5,
          7,
          40,
          63,
          89,
          136,
          149,
          188,
          173,
          201,
          199,
          206,
          169,
          94,
          63,
          44,
          32,
          16,
          11
         ]
        },
        {
         "name": "yogurt",
         "type": "scatter",
         "x": [
          0,
          1,
          2,
          3,
          4,
          5,
          6,
          7,
          8,
          9,
          10,
          11,
          12,
          13,
          14,
          15,
          16,
          17,
          18,
          19,
          20,
          21,
          22,
          23
         ],
         "y": [
          603,
          304,
          175,
          111,
          138,
          255,
          893,
          2719,
          5123,
          7293,
          7938,
          7446,
          6969,
          7258,
          7494,
          7412,
          6817,
          5534,
          4266,
          3561,
          2899,
          2464,
          1905,
          1174
         ]
        }
       ],
       "layout": {
        "template": {
         "data": {
          "bar": [
           {
            "error_x": {
             "color": "#2a3f5f"
            },
            "error_y": {
             "color": "#2a3f5f"
            },
            "marker": {
             "line": {
              "color": "#E5ECF6",
              "width": 0.5
             }
            },
            "type": "bar"
           }
          ],
          "barpolar": [
           {
            "marker": {
             "line": {
              "color": "#E5ECF6",
              "width": 0.5
             }
            },
            "type": "barpolar"
           }
          ],
          "carpet": [
           {
            "aaxis": {
             "endlinecolor": "#2a3f5f",
             "gridcolor": "white",
             "linecolor": "white",
             "minorgridcolor": "white",
             "startlinecolor": "#2a3f5f"
            },
            "baxis": {
             "endlinecolor": "#2a3f5f",
             "gridcolor": "white",
             "linecolor": "white",
             "minorgridcolor": "white",
             "startlinecolor": "#2a3f5f"
            },
            "type": "carpet"
           }
          ],
          "choropleth": [
           {
            "colorbar": {
             "outlinewidth": 0,
             "ticks": ""
            },
            "type": "choropleth"
           }
          ],
          "contour": [
           {
            "colorbar": {
             "outlinewidth": 0,
             "ticks": ""
            },
            "colorscale": [
             [
              0,
              "#0d0887"
             ],
             [
              0.1111111111111111,
              "#46039f"
             ],
             [
              0.2222222222222222,
              "#7201a8"
             ],
             [
              0.3333333333333333,
              "#9c179e"
             ],
             [
              0.4444444444444444,
              "#bd3786"
             ],
             [
              0.5555555555555556,
              "#d8576b"
             ],
             [
              0.6666666666666666,
              "#ed7953"
             ],
             [
              0.7777777777777778,
              "#fb9f3a"
             ],
             [
              0.8888888888888888,
              "#fdca26"
             ],
             [
              1,
              "#f0f921"
             ]
            ],
            "type": "contour"
           }
          ],
          "contourcarpet": [
           {
            "colorbar": {
             "outlinewidth": 0,
             "ticks": ""
            },
            "type": "contourcarpet"
           }
          ],
          "heatmap": [
           {
            "colorbar": {
             "outlinewidth": 0,
             "ticks": ""
            },
            "colorscale": [
             [
              0,
              "#0d0887"
             ],
             [
              0.1111111111111111,
              "#46039f"
             ],
             [
              0.2222222222222222,
              "#7201a8"
             ],
             [
              0.3333333333333333,
              "#9c179e"
             ],
             [
              0.4444444444444444,
              "#bd3786"
             ],
             [
              0.5555555555555556,
              "#d8576b"
             ],
             [
              0.6666666666666666,
              "#ed7953"
             ],
             [
              0.7777777777777778,
              "#fb9f3a"
             ],
             [
              0.8888888888888888,
              "#fdca26"
             ],
             [
              1,
              "#f0f921"
             ]
            ],
            "type": "heatmap"
           }
          ],
          "heatmapgl": [
           {
            "colorbar": {
             "outlinewidth": 0,
             "ticks": ""
            },
            "colorscale": [
             [
              0,
              "#0d0887"
             ],
             [
              0.1111111111111111,
              "#46039f"
             ],
             [
              0.2222222222222222,
              "#7201a8"
             ],
             [
              0.3333333333333333,
              "#9c179e"
             ],
             [
              0.4444444444444444,
              "#bd3786"
             ],
             [
              0.5555555555555556,
              "#d8576b"
             ],
             [
              0.6666666666666666,
              "#ed7953"
             ],
             [
              0.7777777777777778,
              "#fb9f3a"
             ],
             [
              0.8888888888888888,
              "#fdca26"
             ],
             [
              1,
              "#f0f921"
             ]
            ],
            "type": "heatmapgl"
           }
          ],
          "histogram": [
           {
            "marker": {
             "colorbar": {
              "outlinewidth": 0,
              "ticks": ""
             }
            },
            "type": "histogram"
           }
          ],
          "histogram2d": [
           {
            "colorbar": {
             "outlinewidth": 0,
             "ticks": ""
            },
            "colorscale": [
             [
              0,
              "#0d0887"
             ],
             [
              0.1111111111111111,
              "#46039f"
             ],
             [
              0.2222222222222222,
              "#7201a8"
             ],
             [
              0.3333333333333333,
              "#9c179e"
             ],
             [
              0.4444444444444444,
              "#bd3786"
             ],
             [
              0.5555555555555556,
              "#d8576b"
             ],
             [
              0.6666666666666666,
              "#ed7953"
             ],
             [
              0.7777777777777778,
              "#fb9f3a"
             ],
             [
              0.8888888888888888,
              "#fdca26"
             ],
             [
              1,
              "#f0f921"
             ]
            ],
            "type": "histogram2d"
           }
          ],
          "histogram2dcontour": [
           {
            "colorbar": {
             "outlinewidth": 0,
             "ticks": ""
            },
            "colorscale": [
             [
              0,
              "#0d0887"
             ],
             [
              0.1111111111111111,
              "#46039f"
             ],
             [
              0.2222222222222222,
              "#7201a8"
             ],
             [
              0.3333333333333333,
              "#9c179e"
             ],
             [
              0.4444444444444444,
              "#bd3786"
             ],
             [
              0.5555555555555556,
              "#d8576b"
             ],
             [
              0.6666666666666666,
              "#ed7953"
             ],
             [
              0.7777777777777778,
              "#fb9f3a"
             ],
             [
              0.8888888888888888,
              "#fdca26"
             ],
             [
              1,
              "#f0f921"
             ]
            ],
            "type": "histogram2dcontour"
           }
          ],
          "mesh3d": [
           {
            "colorbar": {
             "outlinewidth": 0,
             "ticks": ""
            },
            "type": "mesh3d"
           }
          ],
          "parcoords": [
           {
            "line": {
             "colorbar": {
              "outlinewidth": 0,
              "ticks": ""
             }
            },
            "type": "parcoords"
           }
          ],
          "pie": [
           {
            "automargin": true,
            "type": "pie"
           }
          ],
          "scatter": [
           {
            "marker": {
             "colorbar": {
              "outlinewidth": 0,
              "ticks": ""
             }
            },
            "type": "scatter"
           }
          ],
          "scatter3d": [
           {
            "line": {
             "colorbar": {
              "outlinewidth": 0,
              "ticks": ""
             }
            },
            "marker": {
             "colorbar": {
              "outlinewidth": 0,
              "ticks": ""
             }
            },
            "type": "scatter3d"
           }
          ],
          "scattercarpet": [
           {
            "marker": {
             "colorbar": {
              "outlinewidth": 0,
              "ticks": ""
             }
            },
            "type": "scattercarpet"
           }
          ],
          "scattergeo": [
           {
            "marker": {
             "colorbar": {
              "outlinewidth": 0,
              "ticks": ""
             }
            },
            "type": "scattergeo"
           }
          ],
          "scattergl": [
           {
            "marker": {
             "colorbar": {
              "outlinewidth": 0,
              "ticks": ""
             }
            },
            "type": "scattergl"
           }
          ],
          "scattermapbox": [
           {
            "marker": {
             "colorbar": {
              "outlinewidth": 0,
              "ticks": ""
             }
            },
            "type": "scattermapbox"
           }
          ],
          "scatterpolar": [
           {
            "marker": {
             "colorbar": {
              "outlinewidth": 0,
              "ticks": ""
             }
            },
            "type": "scatterpolar"
           }
          ],
          "scatterpolargl": [
           {
            "marker": {
             "colorbar": {
              "outlinewidth": 0,
              "ticks": ""
             }
            },
            "type": "scatterpolargl"
           }
          ],
          "scatterternary": [
           {
            "marker": {
             "colorbar": {
              "outlinewidth": 0,
              "ticks": ""
             }
            },
            "type": "scatterternary"
           }
          ],
          "surface": [
           {
            "colorbar": {
             "outlinewidth": 0,
             "ticks": ""
            },
            "colorscale": [
             [
              0,
              "#0d0887"
             ],
             [
              0.1111111111111111,
              "#46039f"
             ],
             [
              0.2222222222222222,
              "#7201a8"
             ],
             [
              0.3333333333333333,
              "#9c179e"
             ],
             [
              0.4444444444444444,
              "#bd3786"
             ],
             [
              0.5555555555555556,
              "#d8576b"
             ],
             [
              0.6666666666666666,
              "#ed7953"
             ],
             [
              0.7777777777777778,
              "#fb9f3a"
             ],
             [
              0.8888888888888888,
              "#fdca26"
             ],
             [
              1,
              "#f0f921"
             ]
            ],
            "type": "surface"
           }
          ],
          "table": [
           {
            "cells": {
             "fill": {
              "color": "#EBF0F8"
             },
             "line": {
              "color": "white"
             }
            },
            "header": {
             "fill": {
              "color": "#C8D4E3"
             },
             "line": {
              "color": "white"
             }
            },
            "type": "table"
           }
          ]
         },
         "layout": {
          "annotationdefaults": {
           "arrowcolor": "#2a3f5f",
           "arrowhead": 0,
           "arrowwidth": 1
          },
          "autotypenumbers": "strict",
          "coloraxis": {
           "colorbar": {
            "outlinewidth": 0,
            "ticks": ""
           }
          },
          "colorscale": {
           "diverging": [
            [
             0,
             "#8e0152"
            ],
            [
             0.1,
             "#c51b7d"
            ],
            [
             0.2,
             "#de77ae"
            ],
            [
             0.3,
             "#f1b6da"
            ],
            [
             0.4,
             "#fde0ef"
            ],
            [
             0.5,
             "#f7f7f7"
            ],
            [
             0.6,
             "#e6f5d0"
            ],
            [
             0.7,
             "#b8e186"
            ],
            [
             0.8,
             "#7fbc41"
            ],
            [
             0.9,
             "#4d9221"
            ],
            [
             1,
             "#276419"
            ]
           ],
           "sequential": [
            [
             0,
             "#0d0887"
            ],
            [
             0.1111111111111111,
             "#46039f"
            ],
            [
             0.2222222222222222,
             "#7201a8"
            ],
            [
             0.3333333333333333,
             "#9c179e"
            ],
            [
             0.4444444444444444,
             "#bd3786"
            ],
            [
             0.5555555555555556,
             "#d8576b"
            ],
            [
             0.6666666666666666,
             "#ed7953"
            ],
            [
             0.7777777777777778,
             "#fb9f3a"
            ],
            [
             0.8888888888888888,
             "#fdca26"
            ],
            [
             1,
             "#f0f921"
            ]
           ],
           "sequentialminus": [
            [
             0,
             "#0d0887"
            ],
            [
             0.1111111111111111,
             "#46039f"
            ],
            [
             0.2222222222222222,
             "#7201a8"
            ],
            [
             0.3333333333333333,
             "#9c179e"
            ],
            [
             0.4444444444444444,
             "#bd3786"
            ],
            [
             0.5555555555555556,
             "#d8576b"
            ],
            [
             0.6666666666666666,
             "#ed7953"
            ],
            [
             0.7777777777777778,
             "#fb9f3a"
            ],
            [
             0.8888888888888888,
             "#fdca26"
            ],
            [
             1,
             "#f0f921"
            ]
           ]
          },
          "colorway": [
           "#636efa",
           "#EF553B",
           "#00cc96",
           "#ab63fa",
           "#FFA15A",
           "#19d3f3",
           "#FF6692",
           "#B6E880",
           "#FF97FF",
           "#FECB52"
          ],
          "font": {
           "color": "#2a3f5f"
          },
          "geo": {
           "bgcolor": "white",
           "lakecolor": "white",
           "landcolor": "#E5ECF6",
           "showlakes": true,
           "showland": true,
           "subunitcolor": "white"
          },
          "hoverlabel": {
           "align": "left"
          },
          "hovermode": "closest",
          "mapbox": {
           "style": "light"
          },
          "paper_bgcolor": "white",
          "plot_bgcolor": "#E5ECF6",
          "polar": {
           "angularaxis": {
            "gridcolor": "white",
            "linecolor": "white",
            "ticks": ""
           },
           "bgcolor": "#E5ECF6",
           "radialaxis": {
            "gridcolor": "white",
            "linecolor": "white",
            "ticks": ""
           }
          },
          "scene": {
           "xaxis": {
            "backgroundcolor": "#E5ECF6",
            "gridcolor": "white",
            "gridwidth": 2,
            "linecolor": "white",
            "showbackground": true,
            "ticks": "",
            "zerolinecolor": "white"
           },
           "yaxis": {
            "backgroundcolor": "#E5ECF6",
            "gridcolor": "white",
            "gridwidth": 2,
            "linecolor": "white",
            "showbackground": true,
            "ticks": "",
            "zerolinecolor": "white"
           },
           "zaxis": {
            "backgroundcolor": "#E5ECF6",
            "gridcolor": "white",
            "gridwidth": 2,
            "linecolor": "white",
            "showbackground": true,
            "ticks": "",
            "zerolinecolor": "white"
           }
          },
          "shapedefaults": {
           "line": {
            "color": "#2a3f5f"
           }
          },
          "ternary": {
           "aaxis": {
            "gridcolor": "white",
            "linecolor": "white",
            "ticks": ""
           },
           "baxis": {
            "gridcolor": "white",
            "linecolor": "white",
            "ticks": ""
           },
           "bgcolor": "#E5ECF6",
           "caxis": {
            "gridcolor": "white",
            "linecolor": "white",
            "ticks": ""
           }
          },
          "title": {
           "x": 0.05
          },
          "xaxis": {
           "automargin": true,
           "gridcolor": "white",
           "linecolor": "white",
           "ticks": "",
           "title": {
            "standoff": 15
           },
           "zerolinecolor": "white",
           "zerolinewidth": 2
          },
          "yaxis": {
           "automargin": true,
           "gridcolor": "white",
           "linecolor": "white",
           "ticks": "",
           "title": {
            "standoff": 15
           },
           "zerolinecolor": "white",
           "zerolinewidth": 2
          }
         }
        },
        "title": {
         "text": "Frequency purchases per hour of the day"
        },
        "xaxis": {
         "title": {
          "text": "Hour of the day"
         }
        },
        "yaxis": {
         "title": {
          "text": "Total Frequency"
         }
        }
       }
      },
      "text/html": [
       "<div>                            <div id=\"c7385987-dc2e-4ec8-8743-756faa59f06b\" class=\"plotly-graph-div\" style=\"height:525px; width:100%;\"></div>            <script type=\"text/javascript\">                require([\"plotly\"], function(Plotly) {                    window.PLOTLYENV=window.PLOTLYENV || {};                                    if (document.getElementById(\"c7385987-dc2e-4ec8-8743-756faa59f06b\")) {                    Plotly.newPlot(                        \"c7385987-dc2e-4ec8-8743-756faa59f06b\",                        [{\"name\": \"air fresheners candles\", \"type\": \"scatter\", \"x\": [0, 1, 2, 3, 4, 5, 6, 7, 8, 9, 10, 11, 12, 13, 14, 15, 16, 17, 18, 19, 20, 21, 22, 23], \"y\": [7.0, 8.0, 1.0, 8.0, 1.0, 4.0, 9.0, 35.0, 57.0, 80.0, 100.0, 119.0, 111.0, 97.0, 114.0, 112.0, 103.0, 92.0, 63.0, 46.0, 36.0, 21.0, 26.0, 8.0]}, {\"name\": \"asian foods\", \"type\": \"scatter\", \"x\": [0, 1, 2, 3, 4, 5, 6, 7, 8, 9, 10, 11, 12, 13, 14, 15, 16, 17, 18, 19, 20, 21, 22, 23], \"y\": [62.0, 38.0, 19.0, 30.0, 23.0, 26.0, 106.0, 216.0, 467.0, 707.0, 884.0, 898.0, 846.0, 943.0, 863.0, 872.0, 889.0, 658.0, 522.0, 428.0, 321.0, 249.0, 218.0, 141.0]}, {\"name\": \"baby accessories\", \"type\": \"scatter\", \"x\": [0, 1, 2, 3, 4, 5, 6, 7, 8, 9, 10, 11, 12, 13, 14, 15, 16, 17, 18, 19, 20, 21, 22, 23], \"y\": [4.0, 4.0, null, 1.0, 1.0, 2.0, 5.0, 18.0, 39.0, 30.0, 40.0, 45.0, 31.0, 46.0, 41.0, 42.0, 33.0, 37.0, 21.0, 21.0, 11.0, 20.0, 7.0, 5.0]}, {\"name\": \"baby bath body care\", \"type\": \"scatter\", \"x\": [0, 1, 2, 3, 4, 5, 6, 7, 8, 9, 10, 11, 12, 13, 14, 15, 16, 17, 18, 19, 20, 21, 22, 23], \"y\": [2.0, 8.0, 2.0, null, 3.0, null, 5.0, 22.0, 29.0, 45.0, 34.0, 40.0, 31.0, 45.0, 44.0, 40.0, 38.0, 30.0, 27.0, 19.0, 21.0, 15.0, 9.0, 6.0]}, {\"name\": \"baby food formula\", \"type\": \"scatter\", \"x\": [0, 1, 2, 3, 4, 5, 6, 7, 8, 9, 10, 11, 12, 13, 14, 15, 16, 17, 18, 19, 20, 21, 22, 23], \"y\": [114.0, 50.0, 19.0, 17.0, 32.0, 75.0, 273.0, 886.0, 1725.0, 1884.0, 1656.0, 1685.0, 1848.0, 1754.0, 1897.0, 1948.0, 1798.0, 1288.0, 968.0, 866.0, 911.0, 874.0, 524.0, 263.0]}, {\"name\": \"bakery desserts\", \"type\": \"scatter\", \"x\": [0, 1, 2, 3, 4, 5, 6, 7, 8, 9, 10, 11, 12, 13, 14, 15, 16, 17, 18, 19, 20, 21, 22, 23], \"y\": [15.0, 8.0, 8.0, 4.0, 2.0, 8.0, 17.0, 45.0, 89.0, 145.0, 173.0, 226.0, 173.0, 206.0, 182.0, 186.0, 196.0, 163.0, 130.0, 82.0, 53.0, 50.0, 30.0, 23.0]}, {\"name\": \"baking ingredients\", \"type\": \"scatter\", \"x\": [0, 1, 2, 3, 4, 5, 6, 7, 8, 9, 10, 11, 12, 13, 14, 15, 16, 17, 18, 19, 20, 21, 22, 23], \"y\": [171.0, 73.0, 33.0, 27.0, 26.0, 60.0, 172.0, 511.0, 1051.0, 1416.0, 1691.0, 1726.0, 1741.0, 1697.0, 1721.0, 1695.0, 1514.0, 1210.0, 973.0, 764.0, 652.0, 471.0, 452.0, 290.0]}, {\"name\": \"baking supplies decor\", \"type\": \"scatter\", \"x\": [0, 1, 2, 3, 4, 5, 6, 7, 8, 9, 10, 11, 12, 13, 14, 15, 16, 17, 18, 19, 20, 21, 22, 23], \"y\": [15.0, 5.0, 5.0, null, 1.0, 5.0, 24.0, 44.0, 74.0, 96.0, 123.0, 137.0, 116.0, 91.0, 119.0, 136.0, 87.0, 95.0, 69.0, 78.0, 57.0, 34.0, 20.0, 20.0]}, {\"name\": \"beauty\", \"type\": \"scatter\", \"x\": [0, 1, 2, 3, 4, 5, 6, 7, 8, 9, 10, 11, 12, 13, 14, 15, 16, 17, 18, 19, 20, 21, 22, 23], \"y\": [2.0, 1.0, 1.0, null, 1.0, 2.0, 1.0, 11.0, 15.0, 18.0, 33.0, 19.0, 36.0, 40.0, 40.0, 22.0, 21.0, 39.0, 23.0, 24.0, 19.0, 7.0, 6.0, 6.0]}, {\"name\": \"beers coolers\", \"type\": \"scatter\", \"x\": [0, 1, 2, 3, 4, 5, 6, 7, 8, 9, 10, 11, 12, 13, 14, 15, 16, 17, 18, 19, 20, 21, 22, 23], \"y\": [6.0, 4.0, 3.0, 2.0, 3.0, 2.0, 9.0, 36.0, 114.0, 225.0, 312.0, 304.0, 278.0, 245.0, 306.0, 288.0, 298.0, 183.0, 140.0, 108.0, 54.0, 31.0, 31.0, 20.0]}, {\"name\": \"body lotions soap\", \"type\": \"scatter\", \"x\": [0, 1, 2, 3, 4, 5, 6, 7, 8, 9, 10, 11, 12, 13, 14, 15, 16, 17, 18, 19, 20, 21, 22, 23], \"y\": [25.0, 15.0, 4.0, 5.0, 9.0, 6.0, 21.0, 64.0, 120.0, 183.0, 196.0, 240.0, 169.0, 206.0, 174.0, 181.0, 187.0, 172.0, 183.0, 131.0, 76.0, 52.0, 55.0, 33.0]}, {\"name\": \"bread\", \"type\": \"scatter\", \"x\": [0, 1, 2, 3, 4, 5, 6, 7, 8, 9, 10, 11, 12, 13, 14, 15, 16, 17, 18, 19, 20, 21, 22, 23], \"y\": [223.0, 110.0, 80.0, 63.0, 55.0, 105.0, 336.0, 1058.0, 1985.0, 2727.0, 3023.0, 3026.0, 2987.0, 2937.0, 2966.0, 3092.0, 2874.0, 2374.0, 1906.0, 1438.0, 1082.0, 848.0, 705.0, 381.0]}, {\"name\": \"breakfast bakery\", \"type\": \"scatter\", \"x\": [0, 1, 2, 3, 4, 5, 6, 7, 8, 9, 10, 11, 12, 13, 14, 15, 16, 17, 18, 19, 20, 21, 22, 23], \"y\": [98.0, 54.0, 39.0, 27.0, 32.0, 33.0, 139.0, 471.0, 888.0, 1274.0, 1343.0, 1337.0, 1254.0, 1288.0, 1197.0, 1241.0, 1148.0, 993.0, 779.0, 527.0, 413.0, 364.0, 279.0, 139.0]}, {\"name\": \"breakfast bars pastries\", \"type\": \"scatter\", \"x\": [0, 1, 2, 3, 4, 5, 6, 7, 8, 9, 10, 11, 12, 13, 14, 15, 16, 17, 18, 19, 20, 21, 22, 23], \"y\": [22.0, 24.0, 16.0, 3.0, 3.0, 6.0, 34.0, 121.0, 246.0, 430.0, 479.0, 385.0, 370.0, 356.0, 355.0, 362.0, 371.0, 274.0, 226.0, 196.0, 125.0, 84.0, 75.0, 58.0]}, {\"name\": \"bulk dried fruits vegetables\", \"type\": \"scatter\", \"x\": [0, 1, 2, 3, 4, 5, 6, 7, 8, 9, 10, 11, 12, 13, 14, 15, 16, 17, 18, 19, 20, 21, 22, 23], \"y\": [8.0, 3.0, 3.0, 2.0, 1.0, 2.0, 16.0, 20.0, 47.0, 90.0, 108.0, 78.0, 69.0, 100.0, 79.0, 106.0, 83.0, 63.0, 52.0, 36.0, 26.0, 24.0, 28.0, 15.0]}, {\"name\": \"bulk grains rice dried goods\", \"type\": \"scatter\", \"x\": [0, 1, 2, 3, 4, 5, 6, 7, 8, 9, 10, 11, 12, 13, 14, 15, 16, 17, 18, 19, 20, 21, 22, 23], \"y\": [8.0, 3.0, 1.0, 1.0, null, 3.0, 12.0, 28.0, 58.0, 82.0, 101.0, 86.0, 73.0, 95.0, 84.0, 84.0, 75.0, 74.0, 51.0, 41.0, 40.0, 31.0, 29.0, 14.0]}, {\"name\": \"buns rolls\", \"type\": \"scatter\", \"x\": [0, 1, 2, 3, 4, 5, 6, 7, 8, 9, 10, 11, 12, 13, 14, 15, 16, 17, 18, 19, 20, 21, 22, 23], \"y\": [41.0, 32.0, 10.0, 12.0, 11.0, 19.0, 75.0, 206.0, 375.0, 494.0, 565.0, 589.0, 615.0, 606.0, 572.0, 569.0, 573.0, 460.0, 346.0, 256.0, 194.0, 139.0, 113.0, 77.0]}, {\"name\": \"butter\", \"type\": \"scatter\", \"x\": [0, 1, 2, 3, 4, 5, 6, 7, 8, 9, 10, 11, 12, 13, 14, 15, 16, 17, 18, 19, 20, 21, 22, 23], \"y\": [108.0, 56.0, 22.0, 24.0, 29.0, 50.0, 166.0, 406.0, 835.0, 1138.0, 1327.0, 1383.0, 1263.0, 1310.0, 1364.0, 1329.0, 1161.0, 1063.0, 781.0, 547.0, 454.0, 390.0, 337.0, 192.0]}, {\"name\": \"candy chocolate\", \"type\": \"scatter\", \"x\": [0, 1, 2, 3, 4, 5, 6, 7, 8, 9, 10, 11, 12, 13, 14, 15, 16, 17, 18, 19, 20, 21, 22, 23], \"y\": [112.0, 56.0, 56.0, 37.0, 26.0, 41.0, 106.0, 361.0, 843.0, 1519.0, 1738.0, 1610.0, 1598.0, 1538.0, 1689.0, 1615.0, 1464.0, 1133.0, 995.0, 698.0, 586.0, 390.0, 315.0, 209.0]}, {\"name\": \"canned fruit applesauce\", \"type\": \"scatter\", \"x\": [0, 1, 2, 3, 4, 5, 6, 7, 8, 9, 10, 11, 12, 13, 14, 15, 16, 17, 18, 19, 20, 21, 22, 23], \"y\": [41.0, 16.0, 8.0, 12.0, 11.0, 14.0, 53.0, 194.0, 333.0, 373.0, 423.0, 434.0, 432.0, 425.0, 429.0, 443.0, 437.0, 335.0, 271.0, 241.0, 174.0, 153.0, 126.0, 80.0]}, {\"name\": \"canned jarred vegetables\", \"type\": \"scatter\", \"x\": [0, 1, 2, 3, 4, 5, 6, 7, 8, 9, 10, 11, 12, 13, 14, 15, 16, 17, 18, 19, 20, 21, 22, 23], \"y\": [115.0, 65.0, 33.0, 21.0, 42.0, 49.0, 134.0, 474.0, 860.0, 1199.0, 1598.0, 1603.0, 1520.0, 1661.0, 1540.0, 1559.0, 1304.0, 1115.0, 808.0, 693.0, 525.0, 462.0, 408.0, 237.0]}, {\"name\": \"canned meals beans\", \"type\": \"scatter\", \"x\": [0, 1, 2, 3, 4, 5, 6, 7, 8, 9, 10, 11, 12, 13, 14, 15, 16, 17, 18, 19, 20, 21, 22, 23], \"y\": [114.0, 63.0, 30.0, 23.0, 39.0, 50.0, 150.0, 407.0, 779.0, 1166.0, 1407.0, 1402.0, 1460.0, 1528.0, 1395.0, 1442.0, 1338.0, 1089.0, 778.0, 644.0, 507.0, 467.0, 356.0, 184.0]}, {\"name\": \"canned meat seafood\", \"type\": \"scatter\", \"x\": [0, 1, 2, 3, 4, 5, 6, 7, 8, 9, 10, 11, 12, 13, 14, 15, 16, 17, 18, 19, 20, 21, 22, 23], \"y\": [24.0, 23.0, 16.0, 7.0, 9.0, 7.0, 31.0, 91.0, 239.0, 266.0, 359.0, 361.0, 365.0, 326.0, 329.0, 333.0, 377.0, 285.0, 205.0, 177.0, 129.0, 105.0, 92.0, 56.0]}, {\"name\": \"cat food care\", \"type\": \"scatter\", \"x\": [0, 1, 2, 3, 4, 5, 6, 7, 8, 9, 10, 11, 12, 13, 14, 15, 16, 17, 18, 19, 20, 21, 22, 23], \"y\": [52.0, 21.0, 10.0, 13.0, 8.0, 11.0, 53.0, 81.0, 171.0, 244.0, 296.0, 296.0, 342.0, 334.0, 276.0, 362.0, 352.0, 266.0, 258.0, 154.0, 98.0, 57.0, 43.0, 37.0]}, {\"name\": \"cereal\", \"type\": \"scatter\", \"x\": [0, 1, 2, 3, 4, 5, 6, 7, 8, 9, 10, 11, 12, 13, 14, 15, 16, 17, 18, 19, 20, 21, 22, 23], \"y\": [133.0, 81.0, 51.0, 42.0, 44.0, 62.0, 234.0, 752.0, 1362.0, 1936.0, 2058.0, 1938.0, 1827.0, 1877.0, 1908.0, 1921.0, 1869.0, 1414.0, 1152.0, 987.0, 727.0, 614.0, 500.0, 265.0]}, {\"name\": \"chips pretzels\", \"type\": \"scatter\", \"x\": [0, 1, 2, 3, 4, 5, 6, 7, 8, 9, 10, 11, 12, 13, 14, 15, 16, 17, 18, 19, 20, 21, 22, 23], \"y\": [302.0, 125.0, 79.0, 74.0, 61.0, 123.0, 384.0, 1016.0, 2131.0, 3399.0, 4115.0, 4050.0, 3754.0, 3750.0, 3840.0, 3666.0, 3757.0, 3071.0, 2314.0, 1764.0, 1347.0, 924.0, 743.0, 517.0]}, {\"name\": \"cleaning products\", \"type\": \"scatter\", \"x\": [0, 1, 2, 3, 4, 5, 6, 7, 8, 9, 10, 11, 12, 13, 14, 15, 16, 17, 18, 19, 20, 21, 22, 23], \"y\": [40.0, 37.0, 12.0, 10.0, 21.0, 27.0, 69.0, 204.0, 407.0, 540.0, 590.0, 642.0, 663.0, 634.0, 615.0, 600.0, 578.0, 409.0, 373.0, 283.0, 237.0, 181.0, 157.0, 100.0]}, {\"name\": \"cocoa drink mixes\", \"type\": \"scatter\", \"x\": [0, 1, 2, 3, 4, 5, 6, 7, 8, 9, 10, 11, 12, 13, 14, 15, 16, 17, 18, 19, 20, 21, 22, 23], \"y\": [14.0, 7.0, 3.0, 1.0, 8.0, 4.0, 14.0, 26.0, 66.0, 82.0, 104.0, 104.0, 110.0, 114.0, 111.0, 122.0, 106.0, 107.0, 73.0, 46.0, 46.0, 31.0, 18.0, 15.0]}, {\"name\": \"coffee\", \"type\": \"scatter\", \"x\": [0, 1, 2, 3, 4, 5, 6, 7, 8, 9, 10, 11, 12, 13, 14, 15, 16, 17, 18, 19, 20, 21, 22, 23], \"y\": [67.0, 42.0, 22.0, 21.0, 12.0, 40.0, 134.0, 326.0, 687.0, 1146.0, 1330.0, 1179.0, 963.0, 1048.0, 1028.0, 1035.0, 928.0, 793.0, 648.0, 487.0, 359.0, 220.0, 196.0, 112.0]}, {\"name\": \"cold flu allergy\", \"type\": \"scatter\", \"x\": [0, 1, 2, 3, 4, 5, 6, 7, 8, 9, 10, 11, 12, 13, 14, 15, 16, 17, 18, 19, 20, 21, 22, 23], \"y\": [6.0, 6.0, 1.0, 5.0, 4.0, 3.0, 26.0, 60.0, 95.0, 120.0, 163.0, 142.0, 138.0, 135.0, 90.0, 113.0, 115.0, 86.0, 92.0, 84.0, 49.0, 20.0, 29.0, 7.0]}, {\"name\": \"condiments\", \"type\": \"scatter\", \"x\": [0, 1, 2, 3, 4, 5, 6, 7, 8, 9, 10, 11, 12, 13, 14, 15, 16, 17, 18, 19, 20, 21, 22, 23], \"y\": [114.0, 54.0, 37.0, 32.0, 27.0, 28.0, 92.0, 307.0, 651.0, 964.0, 1214.0, 1187.0, 1148.0, 1180.0, 1114.0, 1083.0, 1040.0, 941.0, 727.0, 581.0, 415.0, 330.0, 311.0, 183.0]}, {\"name\": \"cookies cakes\", \"type\": \"scatter\", \"x\": [0, 1, 2, 3, 4, 5, 6, 7, 8, 9, 10, 11, 12, 13, 14, 15, 16, 17, 18, 19, 20, 21, 22, 23], \"y\": [102.0, 67.0, 35.0, 31.0, 21.0, 39.0, 121.0, 316.0, 721.0, 1112.0, 1319.0, 1308.0, 1148.0, 1194.0, 1192.0, 1260.0, 1179.0, 942.0, 745.0, 663.0, 446.0, 333.0, 267.0, 184.0]}, {\"name\": \"crackers\", \"type\": \"scatter\", \"x\": [0, 1, 2, 3, 4, 5, 6, 7, 8, 9, 10, 11, 12, 13, 14, 15, 16, 17, 18, 19, 20, 21, 22, 23], \"y\": [183.0, 80.0, 59.0, 40.0, 33.0, 98.0, 270.0, 738.0, 1538.0, 2215.0, 2518.0, 2397.0, 2320.0, 2332.0, 2364.0, 2309.0, 2315.0, 1787.0, 1439.0, 1089.0, 889.0, 636.0, 578.0, 347.0]}, {\"name\": \"cream\", \"type\": \"scatter\", \"x\": [0, 1, 2, 3, 4, 5, 6, 7, 8, 9, 10, 11, 12, 13, 14, 15, 16, 17, 18, 19, 20, 21, 22, 23], \"y\": [105.0, 60.0, 35.0, 18.0, 17.0, 55.0, 187.0, 521.0, 1251.0, 1848.0, 2004.0, 1751.0, 1570.0, 1533.0, 1659.0, 1635.0, 1373.0, 1199.0, 898.0, 645.0, 465.0, 411.0, 352.0, 194.0]}, {\"name\": \"deodorants\", \"type\": \"scatter\", \"x\": [0, 1, 2, 3, 4, 5, 6, 7, 8, 9, 10, 11, 12, 13, 14, 15, 16, 17, 18, 19, 20, 21, 22, 23], \"y\": [5.0, 6.0, null, null, 1.0, 3.0, 9.0, 22.0, 37.0, 63.0, 79.0, 76.0, 68.0, 71.0, 65.0, 78.0, 86.0, 58.0, 83.0, 48.0, 25.0, 16.0, 16.0, 9.0]}, {\"name\": \"diapers wipes\", \"type\": \"scatter\", \"x\": [0, 1, 2, 3, 4, 5, 6, 7, 8, 9, 10, 11, 12, 13, 14, 15, 16, 17, 18, 19, 20, 21, 22, 23], \"y\": [11.0, 4.0, 4.0, 1.0, 2.0, 2.0, 21.0, 66.0, 82.0, 109.0, 125.0, 107.0, 112.0, 122.0, 145.0, 132.0, 113.0, 97.0, 97.0, 68.0, 67.0, 40.0, 29.0, 10.0]}, {\"name\": \"digestion\", \"type\": \"scatter\", \"x\": [0, 1, 2, 3, 4, 5, 6, 7, 8, 9, 10, 11, 12, 13, 14, 15, 16, 17, 18, 19, 20, 21, 22, 23], \"y\": [12.0, 11.0, 7.0, 7.0, 6.0, 5.0, 20.0, 58.0, 80.0, 111.0, 155.0, 119.0, 145.0, 151.0, 131.0, 122.0, 127.0, 116.0, 107.0, 85.0, 59.0, 42.0, 25.0, 26.0]}, {\"name\": \"dish detergents\", \"type\": \"scatter\", \"x\": [0, 1, 2, 3, 4, 5, 6, 7, 8, 9, 10, 11, 12, 13, 14, 15, 16, 17, 18, 19, 20, 21, 22, 23], \"y\": [49.0, 17.0, 11.0, 13.0, 11.0, 16.0, 56.0, 158.0, 333.0, 416.0, 505.0, 531.0, 452.0, 476.0, 472.0, 494.0, 440.0, 378.0, 279.0, 241.0, 171.0, 165.0, 118.0, 65.0]}, {\"name\": \"dog food care\", \"type\": \"scatter\", \"x\": [0, 1, 2, 3, 4, 5, 6, 7, 8, 9, 10, 11, 12, 13, 14, 15, 16, 17, 18, 19, 20, 21, 22, 23], \"y\": [11.0, 17.0, 4.0, 9.0, 6.0, 6.0, 17.0, 44.0, 123.0, 135.0, 175.0, 181.0, 204.0, 158.0, 160.0, 189.0, 152.0, 196.0, 144.0, 104.0, 68.0, 33.0, 28.0, 14.0]}, {\"name\": \"doughs gelatins bake mixes\", \"type\": \"scatter\", \"x\": [0, 1, 2, 3, 4, 5, 6, 7, 8, 9, 10, 11, 12, 13, 14, 15, 16, 17, 18, 19, 20, 21, 22, 23], \"y\": [52.0, 34.0, 9.0, 14.0, 12.0, 24.0, 56.0, 179.0, 318.0, 422.0, 582.0, 550.0, 504.0, 588.0, 529.0, 590.0, 530.0, 448.0, 379.0, 298.0, 195.0, 153.0, 162.0, 65.0]}, {\"name\": \"dry pasta\", \"type\": \"scatter\", \"x\": [0, 1, 2, 3, 4, 5, 6, 7, 8, 9, 10, 11, 12, 13, 14, 15, 16, 17, 18, 19, 20, 21, 22, 23], \"y\": [134.0, 48.0, 33.0, 17.0, 27.0, 44.0, 160.0, 455.0, 809.0, 1053.0, 1357.0, 1409.0, 1321.0, 1419.0, 1437.0, 1377.0, 1330.0, 1114.0, 818.0, 588.0, 506.0, 373.0, 364.0, 221.0]}, {\"name\": \"eggs\", \"type\": \"scatter\", \"x\": [0, 1, 2, 3, 4, 5, 6, 7, 8, 9, 10, 11, 12, 13, 14, 15, 16, 17, 18, 19, 20, 21, 22, 23], \"y\": [178.0, 94.0, 56.0, 34.0, 47.0, 76.0, 312.0, 833.0, 1573.0, 1921.0, 2302.0, 2280.0, 2186.0, 2206.0, 2306.0, 2323.0, 2211.0, 1883.0, 1546.0, 1152.0, 901.0, 638.0, 576.0, 352.0]}, {\"name\": \"energy granola bars\", \"type\": \"scatter\", \"x\": [0, 1, 2, 3, 4, 5, 6, 7, 8, 9, 10, 11, 12, 13, 14, 15, 16, 17, 18, 19, 20, 21, 22, 23], \"y\": [153.0, 83.0, 47.0, 24.0, 35.0, 73.0, 234.0, 785.0, 1516.0, 2716.0, 2807.0, 2570.0, 2305.0, 2376.0, 2276.0, 2414.0, 2040.0, 1667.0, 1334.0, 952.0, 773.0, 662.0, 460.0, 337.0]}, {\"name\": \"energy sports drinks\", \"type\": \"scatter\", \"x\": [0, 1, 2, 3, 4, 5, 6, 7, 8, 9, 10, 11, 12, 13, 14, 15, 16, 17, 18, 19, 20, 21, 22, 23], \"y\": [29.0, 21.0, 13.0, 15.0, 14.0, 24.0, 44.0, 157.0, 318.0, 577.0, 586.0, 559.0, 546.0, 540.0, 548.0, 520.0, 540.0, 426.0, 381.0, 305.0, 211.0, 120.0, 87.0, 57.0]}, {\"name\": \"eye ear care\", \"type\": \"scatter\", \"x\": [0, 1, 2, 3, 4, 5, 6, 7, 8, 9, 10, 11, 12, 13, 14, 15, 16, 17, 18, 19, 20, 21, 22, 23], \"y\": [2.0, 5.0, 3.0, 2.0, 1.0, 1.0, 10.0, 20.0, 27.0, 35.0, 45.0, 63.0, 48.0, 31.0, 58.0, 38.0, 41.0, 44.0, 31.0, 34.0, 25.0, 14.0, 15.0, 5.0]}, {\"name\": \"facial care\", \"type\": \"scatter\", \"x\": [0, 1, 2, 3, 4, 5, 6, 7, 8, 9, 10, 11, 12, 13, 14, 15, 16, 17, 18, 19, 20, 21, 22, 23], \"y\": [3.0, 5.0, null, 1.0, null, 4.0, 8.0, 27.0, 44.0, 62.0, 70.0, 66.0, 60.0, 67.0, 71.0, 62.0, 59.0, 47.0, 57.0, 48.0, 35.0, 16.0, 22.0, 9.0]}, {\"name\": \"feminine care\", \"type\": \"scatter\", \"x\": [0, 1, 2, 3, 4, 5, 6, 7, 8, 9, 10, 11, 12, 13, 14, 15, 16, 17, 18, 19, 20, 21, 22, 23], \"y\": [8.0, 4.0, 3.0, null, 6.0, 1.0, 7.0, 40.0, 74.0, 98.0, 104.0, 119.0, 103.0, 112.0, 112.0, 108.0, 92.0, 90.0, 69.0, 48.0, 40.0, 31.0, 13.0, 14.0]}, {\"name\": \"first aid\", \"type\": \"scatter\", \"x\": [0, 1, 2, 3, 4, 5, 6, 7, 8, 9, 10, 11, 12, 13, 14, 15, 16, 17, 18, 19, 20, 21, 22, 23], \"y\": [7.0, 4.0, 4.0, 4.0, 9.0, 3.0, 4.0, 15.0, 43.0, 50.0, 47.0, 46.0, 58.0, 63.0, 52.0, 53.0, 59.0, 48.0, 34.0, 22.0, 19.0, 21.0, 15.0, 13.0]}, {\"name\": \"food storage\", \"type\": \"scatter\", \"x\": [0, 1, 2, 3, 4, 5, 6, 7, 8, 9, 10, 11, 12, 13, 14, 15, 16, 17, 18, 19, 20, 21, 22, 23], \"y\": [30.0, 19.0, 11.0, 7.0, 8.0, 18.0, 40.0, 102.0, 223.0, 305.0, 348.0, 361.0, 340.0, 343.0, 338.0, 333.0, 302.0, 250.0, 209.0, 195.0, 130.0, 97.0, 92.0, 43.0]}, {\"name\": \"fresh dips tapenades\", \"type\": \"scatter\", \"x\": [0, 1, 2, 3, 4, 5, 6, 7, 8, 9, 10, 11, 12, 13, 14, 15, 16, 17, 18, 19, 20, 21, 22, 23], \"y\": [128.0, 90.0, 45.0, 27.0, 24.0, 69.0, 189.0, 508.0, 1093.0, 1649.0, 2017.0, 2001.0, 1772.0, 1760.0, 1840.0, 1760.0, 1795.0, 1489.0, 1153.0, 885.0, 661.0, 514.0, 438.0, 268.0]}, {\"name\": \"fresh fruits\", \"type\": \"scatter\", \"x\": [0, 1, 2, 3, 4, 5, 6, 7, 8, 9, 10, 11, 12, 13, 14, 15, 16, 17, 18, 19, 20, 21, 22, 23], \"y\": [1613.0, 724.0, 449.0, 283.0, 326.0, 664.0, 2135.0, 6603.0, 12937.0, 17914.0, 19515.0, 18375.0, 17828.0, 18033.0, 18261.0, 18441.0, 17623.0, 13991.0, 11084.0, 8693.0, 7067.0, 5784.0, 4916.0, 2780.0]}, {\"name\": \"fresh herbs\", \"type\": \"scatter\", \"x\": [0, 1, 2, 3, 4, 5, 6, 7, 8, 9, 10, 11, 12, 13, 14, 15, 16, 17, 18, 19, 20, 21, 22, 23], \"y\": [173.0, 88.0, 63.0, 37.0, 26.0, 50.0, 194.0, 504.0, 1152.0, 1606.0, 2023.0, 2078.0, 2117.0, 2060.0, 2065.0, 2021.0, 1778.0, 1406.0, 1043.0, 814.0, 614.0, 613.0, 517.0, 300.0]}, {\"name\": \"fresh pasta\", \"type\": \"scatter\", \"x\": [0, 1, 2, 3, 4, 5, 6, 7, 8, 9, 10, 11, 12, 13, 14, 15, 16, 17, 18, 19, 20, 21, 22, 23], \"y\": [11.0, 6.0, 2.0, 4.0, 4.0, 8.0, 24.0, 61.0, 120.0, 148.0, 158.0, 170.0, 189.0, 183.0, 205.0, 247.0, 222.0, 158.0, 121.0, 106.0, 59.0, 55.0, 49.0, 30.0]}, {\"name\": \"fresh vegetables\", \"type\": \"scatter\", \"x\": [0, 1, 2, 3, 4, 5, 6, 7, 8, 9, 10, 11, 12, 13, 14, 15, 16, 17, 18, 19, 20, 21, 22, 23], \"y\": [1575.0, 768.0, 400.0, 267.0, 368.0, 602.0, 1807.0, 5491.0, 10768.0, 14901.0, 17665.0, 18002.0, 17697.0, 18013.0, 18000.0, 18026.0, 16839.0, 13540.0, 10348.0, 7755.0, 6433.0, 5731.0, 4759.0, 2856.0]}, {\"name\": \"frozen appetizers sides\", \"type\": \"scatter\", \"x\": [0, 1, 2, 3, 4, 5, 6, 7, 8, 9, 10, 11, 12, 13, 14, 15, 16, 17, 18, 19, 20, 21, 22, 23], \"y\": [112.0, 47.0, 27.0, 17.0, 29.0, 46.0, 106.0, 348.0, 661.0, 810.0, 938.0, 1034.0, 1003.0, 1007.0, 1038.0, 1006.0, 993.0, 821.0, 677.0, 468.0, 360.0, 284.0, 212.0, 134.0]}, {\"name\": \"frozen breads doughs\", \"type\": \"scatter\", \"x\": [0, 1, 2, 3, 4, 5, 6, 7, 8, 9, 10, 11, 12, 13, 14, 15, 16, 17, 18, 19, 20, 21, 22, 23], \"y\": [14.0, 12.0, 4.0, 4.0, 1.0, 8.0, 25.0, 58.0, 119.0, 173.0, 194.0, 232.0, 195.0, 216.0, 216.0, 208.0, 203.0, 162.0, 143.0, 99.0, 78.0, 42.0, 43.0, 37.0]}, {\"name\": \"frozen breakfast\", \"type\": \"scatter\", \"x\": [0, 1, 2, 3, 4, 5, 6, 7, 8, 9, 10, 11, 12, 13, 14, 15, 16, 17, 18, 19, 20, 21, 22, 23], \"y\": [99.0, 65.0, 31.0, 13.0, 22.0, 49.0, 139.0, 478.0, 928.0, 1026.0, 1109.0, 1259.0, 1086.0, 1118.0, 1138.0, 1162.0, 1071.0, 928.0, 741.0, 566.0, 471.0, 348.0, 297.0, 202.0]}, {\"name\": \"frozen dessert\", \"type\": \"scatter\", \"x\": [0, 1, 2, 3, 4, 5, 6, 7, 8, 9, 10, 11, 12, 13, 14, 15, 16, 17, 18, 19, 20, 21, 22, 23], \"y\": [4.0, 6.0, 2.0, null, 3.0, 6.0, 10.0, 31.0, 52.0, 71.0, 95.0, 99.0, 87.0, 108.0, 101.0, 98.0, 105.0, 84.0, 69.0, 47.0, 49.0, 27.0, 20.0, 16.0]}, {\"name\": \"frozen juice\", \"type\": \"scatter\", \"x\": [0, 1, 2, 3, 4, 5, 6, 7, 8, 9, 10, 11, 12, 13, 14, 15, 16, 17, 18, 19, 20, 21, 22, 23], \"y\": [3.0, 2.0, 3.0, null, null, 1.0, 1.0, 7.0, 16.0, 16.0, 39.0, 15.0, 24.0, 26.0, 27.0, 24.0, 21.0, 13.0, 9.0, 11.0, 6.0, 8.0, 6.0, 1.0]}, {\"name\": \"frozen meals\", \"type\": \"scatter\", \"x\": [0, 1, 2, 3, 4, 5, 6, 7, 8, 9, 10, 11, 12, 13, 14, 15, 16, 17, 18, 19, 20, 21, 22, 23], \"y\": [173.0, 127.0, 71.0, 44.0, 28.0, 108.0, 211.0, 542.0, 1061.0, 1471.0, 1921.0, 2090.0, 1938.0, 2149.0, 2101.0, 1957.0, 1941.0, 1782.0, 1554.0, 1164.0, 772.0, 495.0, 464.0, 285.0]}, {\"name\": \"frozen meat seafood\", \"type\": \"scatter\", \"x\": [0, 1, 2, 3, 4, 5, 6, 7, 8, 9, 10, 11, 12, 13, 14, 15, 16, 17, 18, 19, 20, 21, 22, 23], \"y\": [31.0, 14.0, 2.0, 5.0, 6.0, 6.0, 29.0, 128.0, 245.0, 298.0, 387.0, 410.0, 347.0, 334.0, 360.0, 366.0, 348.0, 323.0, 224.0, 141.0, 136.0, 121.0, 101.0, 46.0]}, {\"name\": \"frozen pizza\", \"type\": \"scatter\", \"x\": [0, 1, 2, 3, 4, 5, 6, 7, 8, 9, 10, 11, 12, 13, 14, 15, 16, 17, 18, 19, 20, 21, 22, 23], \"y\": [61.0, 33.0, 31.0, 24.0, 25.0, 34.0, 71.0, 215.0, 461.0, 635.0, 771.0, 834.0, 825.0, 838.0, 873.0, 806.0, 883.0, 860.0, 593.0, 469.0, 319.0, 200.0, 177.0, 86.0]}, {\"name\": \"frozen produce\", \"type\": \"scatter\", \"x\": [0, 1, 2, 3, 4, 5, 6, 7, 8, 9, 10, 11, 12, 13, 14, 15, 16, 17, 18, 19, 20, 21, 22, 23], \"y\": [279.0, 153.0, 83.0, 47.0, 49.0, 69.0, 338.0, 893.0, 1579.0, 2247.0, 2663.0, 2689.0, 2635.0, 2671.0, 2771.0, 2610.0, 2549.0, 2054.0, 1603.0, 1251.0, 1131.0, 848.0, 745.0, 475.0]}, {\"name\": \"frozen vegan vegetarian\", \"type\": \"scatter\", \"x\": [0, 1, 2, 3, 4, 5, 6, 7, 8, 9, 10, 11, 12, 13, 14, 15, 16, 17, 18, 19, 20, 21, 22, 23], \"y\": [47.0, 27.0, 19.0, 5.0, 15.0, 17.0, 48.0, 162.0, 274.0, 379.0, 487.0, 534.0, 518.0, 504.0, 503.0, 560.0, 482.0, 465.0, 405.0, 266.0, 203.0, 172.0, 148.0, 81.0]}, {\"name\": \"fruit vegetable snacks\", \"type\": \"scatter\", \"x\": [0, 1, 2, 3, 4, 5, 6, 7, 8, 9, 10, 11, 12, 13, 14, 15, 16, 17, 18, 19, 20, 21, 22, 23], \"y\": [64.0, 44.0, 21.0, 14.0, 13.0, 19.0, 109.0, 296.0, 621.0, 943.0, 938.0, 894.0, 843.0, 904.0, 929.0, 928.0, 885.0, 639.0, 479.0, 426.0, 338.0, 268.0, 206.0, 110.0]}, {\"name\": \"grains rice dried goods\", \"type\": \"scatter\", \"x\": [0, 1, 2, 3, 4, 5, 6, 7, 8, 9, 10, 11, 12, 13, 14, 15, 16, 17, 18, 19, 20, 21, 22, 23], \"y\": [66.0, 33.0, 14.0, 12.0, 22.0, 21.0, 87.0, 230.0, 449.0, 618.0, 730.0, 748.0, 759.0, 766.0, 750.0, 741.0, 661.0, 530.0, 420.0, 341.0, 299.0, 222.0, 247.0, 112.0]}, {\"name\": \"granola\", \"type\": \"scatter\", \"x\": [0, 1, 2, 3, 4, 5, 6, 7, 8, 9, 10, 11, 12, 13, 14, 15, 16, 17, 18, 19, 20, 21, 22, 23], \"y\": [28.0, 29.0, 19.0, 9.0, 8.0, 14.0, 62.0, 196.0, 362.0, 543.0, 566.0, 531.0, 528.0, 491.0, 550.0, 510.0, 520.0, 365.0, 326.0, 257.0, 170.0, 132.0, 113.0, 81.0]}, {\"name\": \"hair care\", \"type\": \"scatter\", \"x\": [0, 1, 2, 3, 4, 5, 6, 7, 8, 9, 10, 11, 12, 13, 14, 15, 16, 17, 18, 19, 20, 21, 22, 23], \"y\": [5.0, 10.0, 5.0, 4.0, 5.0, 6.0, 11.0, 41.0, 109.0, 127.0, 167.0, 141.0, 119.0, 159.0, 175.0, 151.0, 153.0, 131.0, 126.0, 99.0, 56.0, 42.0, 39.0, 28.0]}, {\"name\": \"honeys syrups nectars\", \"type\": \"scatter\", \"x\": [0, 1, 2, 3, 4, 5, 6, 7, 8, 9, 10, 11, 12, 13, 14, 15, 16, 17, 18, 19, 20, 21, 22, 23], \"y\": [39.0, 19.0, 12.0, 8.0, 15.0, 12.0, 33.0, 123.0, 237.0, 330.0, 362.0, 372.0, 373.0, 314.0, 348.0, 322.0, 305.0, 278.0, 222.0, 146.0, 99.0, 90.0, 56.0, 41.0]}, {\"name\": \"hot cereal pancake mixes\", \"type\": \"scatter\", \"x\": [0, 1, 2, 3, 4, 5, 6, 7, 8, 9, 10, 11, 12, 13, 14, 15, 16, 17, 18, 19, 20, 21, 22, 23], \"y\": [71.0, 39.0, 15.0, 16.0, 11.0, 35.0, 105.0, 328.0, 615.0, 837.0, 829.0, 807.0, 763.0, 772.0, 811.0, 754.0, 689.0, 606.0, 464.0, 375.0, 305.0, 246.0, 200.0, 127.0]}, {\"name\": \"hot dogs bacon sausage\", \"type\": \"scatter\", \"x\": [0, 1, 2, 3, 4, 5, 6, 7, 8, 9, 10, 11, 12, 13, 14, 15, 16, 17, 18, 19, 20, 21, 22, 23], \"y\": [116.0, 80.0, 45.0, 37.0, 34.0, 59.0, 194.0, 522.0, 1046.0, 1342.0, 1545.0, 1596.0, 1525.0, 1464.0, 1610.0, 1642.0, 1540.0, 1271.0, 1050.0, 696.0, 618.0, 444.0, 354.0, 207.0]}, {\"name\": \"ice cream ice\", \"type\": \"scatter\", \"x\": [0, 1, 2, 3, 4, 5, 6, 7, 8, 9, 10, 11, 12, 13, 14, 15, 16, 17, 18, 19, 20, 21, 22, 23], \"y\": [207.0, 136.0, 76.0, 76.0, 67.0, 84.0, 237.0, 658.0, 1219.0, 1691.0, 2189.0, 2361.0, 2326.0, 2532.0, 2641.0, 2811.0, 2839.0, 2498.0, 2226.0, 1692.0, 1183.0, 742.0, 490.0, 342.0]}, {\"name\": \"ice cream toppings\", \"type\": \"scatter\", \"x\": [0, 1, 2, 3, 4, 5, 6, 7, 8, 9, 10, 11, 12, 13, 14, 15, 16, 17, 18, 19, 20, 21, 22, 23], \"y\": [11.0, 6.0, null, null, 3.0, null, 3.0, 23.0, 34.0, 34.0, 55.0, 45.0, 54.0, 47.0, 51.0, 51.0, 71.0, 60.0, 50.0, 30.0, 32.0, 21.0, 13.0, 12.0]}, {\"name\": \"indian foods\", \"type\": \"scatter\", \"x\": [0, 1, 2, 3, 4, 5, 6, 7, 8, 9, 10, 11, 12, 13, 14, 15, 16, 17, 18, 19, 20, 21, 22, 23], \"y\": [6.0, 2.0, 5.0, 2.0, 4.0, 5.0, 5.0, 23.0, 36.0, 64.0, 72.0, 70.0, 99.0, 76.0, 91.0, 69.0, 96.0, 68.0, 43.0, 36.0, 39.0, 28.0, 13.0, 11.0]}, {\"name\": \"instant foods\", \"type\": \"scatter\", \"x\": [0, 1, 2, 3, 4, 5, 6, 7, 8, 9, 10, 11, 12, 13, 14, 15, 16, 17, 18, 19, 20, 21, 22, 23], \"y\": [73.0, 54.0, 23.0, 24.0, 25.0, 32.0, 108.0, 353.0, 606.0, 825.0, 952.0, 1068.0, 1085.0, 1082.0, 1066.0, 1070.0, 1034.0, 907.0, 707.0, 489.0, 375.0, 287.0, 249.0, 157.0]}, {\"name\": \"juice nectars\", \"type\": \"scatter\", \"x\": [0, 1, 2, 3, 4, 5, 6, 7, 8, 9, 10, 11, 12, 13, 14, 15, 16, 17, 18, 19, 20, 21, 22, 23], \"y\": [147.0, 94.0, 51.0, 35.0, 45.0, 54.0, 174.0, 553.0, 1037.0, 1436.0, 1737.0, 1765.0, 1654.0, 1739.0, 1637.0, 1663.0, 1679.0, 1357.0, 1087.0, 902.0, 659.0, 513.0, 438.0, 259.0]}, {\"name\": \"kitchen supplies\", \"type\": \"scatter\", \"x\": [0, 1, 2, 3, 4, 5, 6, 7, 8, 9, 10, 11, 12, 13, 14, 15, 16, 17, 18, 19, 20, 21, 22, 23], \"y\": [8.0, 1.0, 2.0, null, 3.0, 3.0, 4.0, 17.0, 24.0, 34.0, 46.0, 52.0, 51.0, 53.0, 50.0, 38.0, 47.0, 33.0, 25.0, 18.0, 19.0, 12.0, 15.0, 6.0]}, {\"name\": \"kosher foods\", \"type\": \"scatter\", \"x\": [0, 1, 2, 3, 4, 5, 6, 7, 8, 9, 10, 11, 12, 13, 14, 15, 16, 17, 18, 19, 20, 21, 22, 23], \"y\": [5.0, 3.0, 4.0, 3.0, 2.0, 4.0, 6.0, 24.0, 34.0, 48.0, 54.0, 62.0, 56.0, 62.0, 56.0, 50.0, 40.0, 41.0, 31.0, 25.0, 29.0, 24.0, 22.0, 12.0]}, {\"name\": \"latino foods\", \"type\": \"scatter\", \"x\": [0, 1, 2, 3, 4, 5, 6, 7, 8, 9, 10, 11, 12, 13, 14, 15, 16, 17, 18, 19, 20, 21, 22, 23], \"y\": [29.0, 23.0, 5.0, 1.0, 10.0, 13.0, 39.0, 111.0, 214.0, 334.0, 419.0, 376.0, 408.0, 402.0, 384.0, 458.0, 393.0, 308.0, 226.0, 144.0, 130.0, 93.0, 93.0, 39.0]}, {\"name\": \"laundry\", \"type\": \"scatter\", \"x\": [0, 1, 2, 3, 4, 5, 6, 7, 8, 9, 10, 11, 12, 13, 14, 15, 16, 17, 18, 19, 20, 21, 22, 23], \"y\": [36.0, 37.0, 4.0, 10.0, 12.0, 20.0, 59.0, 196.0, 377.0, 402.0, 501.0, 535.0, 487.0, 512.0, 460.0, 481.0, 410.0, 367.0, 283.0, 249.0, 165.0, 116.0, 123.0, 62.0]}, {\"name\": \"lunch meat\", \"type\": \"scatter\", \"x\": [0, 1, 2, 3, 4, 5, 6, 7, 8, 9, 10, 11, 12, 13, 14, 15, 16, 17, 18, 19, 20, 21, 22, 23], \"y\": [139.0, 86.0, 47.0, 38.0, 36.0, 68.0, 233.0, 633.0, 1262.0, 1789.0, 2039.0, 2023.0, 2003.0, 2002.0, 2091.0, 2059.0, 1872.0, 1656.0, 1312.0, 934.0, 784.0, 585.0, 483.0, 296.0]}, {\"name\": \"marinades meat preparation\", \"type\": \"scatter\", \"x\": [0, 1, 2, 3, 4, 5, 6, 7, 8, 9, 10, 11, 12, 13, 14, 15, 16, 17, 18, 19, 20, 21, 22, 23], \"y\": [23.0, 10.0, 12.0, 7.0, 7.0, 7.0, 29.0, 92.0, 171.0, 244.0, 291.0, 338.0, 356.0, 334.0, 321.0, 359.0, 305.0, 243.0, 208.0, 137.0, 122.0, 80.0, 90.0, 50.0]}, {\"name\": \"meat counter\", \"type\": \"scatter\", \"x\": [0, 1, 2, 3, 4, 5, 6, 7, 8, 9, 10, 11, 12, 13, 14, 15, 16, 17, 18, 19, 20, 21, 22, 23], \"y\": [24.0, 13.0, 8.0, 7.0, 10.0, 12.0, 38.0, 88.0, 225.0, 307.0, 377.0, 403.0, 385.0, 379.0, 380.0, 373.0, 384.0, 298.0, 221.0, 144.0, 154.0, 107.0, 83.0, 52.0]}, {\"name\": \"milk\", \"type\": \"scatter\", \"x\": [0, 1, 2, 3, 4, 5, 6, 7, 8, 9, 10, 11, 12, 13, 14, 15, 16, 17, 18, 19, 20, 21, 22, 23], \"y\": [317.0, 148.0, 91.0, 56.0, 82.0, 159.0, 578.0, 1828.0, 3326.0, 4502.0, 4930.0, 4535.0, 4069.0, 4275.0, 4411.0, 4361.0, 4175.0, 3421.0, 2763.0, 2227.0, 1756.0, 1361.0, 1134.0, 645.0]}, {\"name\": \"mint gum\", \"type\": \"scatter\", \"x\": [0, 1, 2, 3, 4, 5, 6, 7, 8, 9, 10, 11, 12, 13, 14, 15, 16, 17, 18, 19, 20, 21, 22, 23], \"y\": [2.0, 3.0, 5.0, 3.0, null, 5.0, 10.0, 31.0, 86.0, 145.0, 152.0, 134.0, 112.0, 116.0, 111.0, 113.0, 99.0, 78.0, 43.0, 49.0, 24.0, 17.0, 24.0, 15.0]}, {\"name\": \"missing\", \"type\": \"scatter\", \"x\": [0, 1, 2, 3, 4, 5, 6, 7, 8, 9, 10, 11, 12, 13, 14, 15, 16, 17, 18, 19, 20, 21, 22, 23], \"y\": [38.0, 21.0, 12.0, 11.0, 11.0, 18.0, 31.0, 123.0, 222.0, 377.0, 394.0, 393.0, 392.0, 375.0, 398.0, 377.0, 321.0, 316.0, 247.0, 217.0, 159.0, 119.0, 109.0, 68.0]}, {\"name\": \"more household\", \"type\": \"scatter\", \"x\": [0, 1, 2, 3, 4, 5, 6, 7, 8, 9, 10, 11, 12, 13, 14, 15, 16, 17, 18, 19, 20, 21, 22, 23], \"y\": [5.0, 4.0, 1.0, 5.0, 5.0, 5.0, 10.0, 39.0, 60.0, 84.0, 82.0, 112.0, 97.0, 97.0, 94.0, 100.0, 101.0, 66.0, 59.0, 54.0, 34.0, 22.0, 19.0, 15.0]}, {\"name\": \"muscles joints pain relief\", \"type\": \"scatter\", \"x\": [0, 1, 2, 3, 4, 5, 6, 7, 8, 9, 10, 11, 12, 13, 14, 15, 16, 17, 18, 19, 20, 21, 22, 23], \"y\": [8.0, 5.0, 3.0, 3.0, 3.0, 3.0, 8.0, 27.0, 68.0, 88.0, 109.0, 116.0, 115.0, 100.0, 99.0, 107.0, 98.0, 87.0, 74.0, 62.0, 28.0, 21.0, 16.0, 8.0]}, {\"name\": \"nuts seeds dried fruit\", \"type\": \"scatter\", \"x\": [0, 1, 2, 3, 4, 5, 6, 7, 8, 9, 10, 11, 12, 13, 14, 15, 16, 17, 18, 19, 20, 21, 22, 23], \"y\": [118.0, 64.0, 39.0, 27.0, 19.0, 54.0, 157.0, 527.0, 1011.0, 1569.0, 1727.0, 1602.0, 1538.0, 1567.0, 1564.0, 1539.0, 1429.0, 1197.0, 892.0, 688.0, 607.0, 466.0, 382.0, 243.0]}, {\"name\": \"oils vinegars\", \"type\": \"scatter\", \"x\": [0, 1, 2, 3, 4, 5, 6, 7, 8, 9, 10, 11, 12, 13, 14, 15, 16, 17, 18, 19, 20, 21, 22, 23], \"y\": [105.0, 64.0, 25.0, 26.0, 24.0, 43.0, 144.0, 432.0, 785.0, 1082.0, 1241.0, 1258.0, 1352.0, 1265.0, 1275.0, 1249.0, 1139.0, 936.0, 800.0, 571.0, 511.0, 371.0, 322.0, 193.0]}, {\"name\": \"oral hygiene\", \"type\": \"scatter\", \"x\": [0, 1, 2, 3, 4, 5, 6, 7, 8, 9, 10, 11, 12, 13, 14, 15, 16, 17, 18, 19, 20, 21, 22, 23], \"y\": [27.0, 25.0, 9.0, 10.0, 3.0, 13.0, 27.0, 85.0, 199.0, 278.0, 344.0, 324.0, 333.0, 299.0, 314.0, 322.0, 308.0, 251.0, 266.0, 200.0, 152.0, 81.0, 92.0, 56.0]}, {\"name\": \"other\", \"type\": \"scatter\", \"x\": [0, 1, 2, 3, 4, 5, 6, 7, 8, 9, 10, 11, 12, 13, 14, 15, 16, 17, 18, 19, 20, 21, 22, 23], \"y\": [17.0, 8.0, 5.0, 5.0, 4.0, 7.0, 28.0, 54.0, 111.0, 164.0, 180.0, 172.0, 200.0, 166.0, 218.0, 166.0, 173.0, 137.0, 123.0, 118.0, 67.0, 47.0, 45.0, 25.0]}, {\"name\": \"other creams cheeses\", \"type\": \"scatter\", \"x\": [0, 1, 2, 3, 4, 5, 6, 7, 8, 9, 10, 11, 12, 13, 14, 15, 16, 17, 18, 19, 20, 21, 22, 23], \"y\": [136.0, 67.0, 45.0, 22.0, 35.0, 50.0, 165.0, 512.0, 1023.0, 1354.0, 1575.0, 1665.0, 1519.0, 1592.0, 1638.0, 1632.0, 1561.0, 1202.0, 999.0, 710.0, 568.0, 437.0, 370.0, 214.0]}, {\"name\": \"packaged cheese\", \"type\": \"scatter\", \"x\": [0, 1, 2, 3, 4, 5, 6, 7, 8, 9, 10, 11, 12, 13, 14, 15, 16, 17, 18, 19, 20, 21, 22, 23], \"y\": [374.0, 197.0, 116.0, 82.0, 82.0, 173.0, 590.0, 1713.0, 3142.0, 4553.0, 5308.0, 5156.0, 5186.0, 5137.0, 5233.0, 5132.0, 4780.0, 3892.0, 3038.0, 2275.0, 1920.0, 1458.0, 1274.0, 691.0]}, {\"name\": \"packaged meat\", \"type\": \"scatter\", \"x\": [0, 1, 2, 3, 4, 5, 6, 7, 8, 9, 10, 11, 12, 13, 14, 15, 16, 17, 18, 19, 20, 21, 22, 23], \"y\": [16.0, 10.0, 4.0, 4.0, 3.0, 4.0, 12.0, 49.0, 92.0, 157.0, 163.0, 165.0, 165.0, 175.0, 191.0, 165.0, 182.0, 119.0, 104.0, 76.0, 61.0, 49.0, 35.0, 19.0]}, {\"name\": \"packaged poultry\", \"type\": \"scatter\", \"x\": [0, 1, 2, 3, 4, 5, 6, 7, 8, 9, 10, 11, 12, 13, 14, 15, 16, 17, 18, 19, 20, 21, 22, 23], \"y\": [25.0, 18.0, 17.0, 8.0, 9.0, 21.0, 68.0, 191.0, 381.0, 481.0, 639.0, 592.0, 647.0, 625.0, 635.0, 641.0, 572.0, 533.0, 427.0, 311.0, 241.0, 156.0, 138.0, 91.0]}, {\"name\": \"packaged produce\", \"type\": \"scatter\", \"x\": [0, 1, 2, 3, 4, 5, 6, 7, 8, 9, 10, 11, 12, 13, 14, 15, 16, 17, 18, 19, 20, 21, 22, 23], \"y\": [128.0, 74.0, 37.0, 19.0, 38.0, 58.0, 186.0, 527.0, 1094.0, 1546.0, 1659.0, 1585.0, 1416.0, 1420.0, 1364.0, 1308.0, 1224.0, 898.0, 679.0, 541.0, 494.0, 479.0, 405.0, 229.0]}, {\"name\": \"packaged seafood\", \"type\": \"scatter\", \"x\": [0, 1, 2, 3, 4, 5, 6, 7, 8, 9, 10, 11, 12, 13, 14, 15, 16, 17, 18, 19, 20, 21, 22, 23], \"y\": [9.0, 5.0, 3.0, 4.0, 2.0, 3.0, 11.0, 32.0, 76.0, 89.0, 103.0, 121.0, 97.0, 99.0, 102.0, 116.0, 101.0, 93.0, 61.0, 58.0, 43.0, 31.0, 24.0, 18.0]}, {\"name\": \"packaged vegetables fruits\", \"type\": \"scatter\", \"x\": [0, 1, 2, 3, 4, 5, 6, 7, 8, 9, 10, 11, 12, 13, 14, 15, 16, 17, 18, 19, 20, 21, 22, 23], \"y\": [733.0, 386.0, 238.0, 145.0, 154.0, 342.0, 1040.0, 3052.0, 6051.0, 7880.0, 9155.0, 9032.0, 8741.0, 9058.0, 9104.0, 8939.0, 8714.0, 6937.0, 5639.0, 4195.0, 3495.0, 2806.0, 2340.0, 1420.0]}, {\"name\": \"paper goods\", \"type\": \"scatter\", \"x\": [0, 1, 2, 3, 4, 5, 6, 7, 8, 9, 10, 11, 12, 13, 14, 15, 16, 17, 18, 19, 20, 21, 22, 23], \"y\": [118.0, 72.0, 44.0, 25.0, 39.0, 57.0, 138.0, 451.0, 800.0, 1101.0, 1344.0, 1352.0, 1228.0, 1256.0, 1285.0, 1213.0, 1146.0, 945.0, 861.0, 680.0, 472.0, 336.0, 282.0, 177.0]}, {\"name\": \"pasta sauce\", \"type\": \"scatter\", \"x\": [0, 1, 2, 3, 4, 5, 6, 7, 8, 9, 10, 11, 12, 13, 14, 15, 16, 17, 18, 19, 20, 21, 22, 23], \"y\": [99.0, 44.0, 26.0, 28.0, 29.0, 41.0, 125.0, 348.0, 676.0, 884.0, 1142.0, 1126.0, 1159.0, 1148.0, 1186.0, 1230.0, 1165.0, 916.0, 681.0, 525.0, 384.0, 331.0, 280.0, 198.0]}, {\"name\": \"pickled goods olives\", \"type\": \"scatter\", \"x\": [0, 1, 2, 3, 4, 5, 6, 7, 8, 9, 10, 11, 12, 13, 14, 15, 16, 17, 18, 19, 20, 21, 22, 23], \"y\": [49.0, 26.0, 18.0, 11.0, 15.0, 18.0, 47.0, 174.0, 311.0, 437.0, 586.0, 621.0, 578.0, 610.0, 605.0, 564.0, 550.0, 480.0, 375.0, 244.0, 213.0, 157.0, 144.0, 92.0]}, {\"name\": \"plates bowls cups flatware\", \"type\": \"scatter\", \"x\": [0, 1, 2, 3, 4, 5, 6, 7, 8, 9, 10, 11, 12, 13, 14, 15, 16, 17, 18, 19, 20, 21, 22, 23], \"y\": [34.0, 25.0, 2.0, 7.0, 7.0, 17.0, 30.0, 66.0, 135.0, 217.0, 245.0, 252.0, 244.0, 207.0, 190.0, 225.0, 172.0, 155.0, 151.0, 92.0, 77.0, 45.0, 55.0, 21.0]}, {\"name\": \"popcorn jerky\", \"type\": \"scatter\", \"x\": [0, 1, 2, 3, 4, 5, 6, 7, 8, 9, 10, 11, 12, 13, 14, 15, 16, 17, 18, 19, 20, 21, 22, 23], \"y\": [43.0, 33.0, 11.0, 6.0, 11.0, 23.0, 70.0, 235.0, 565.0, 876.0, 961.0, 927.0, 844.0, 845.0, 886.0, 887.0, 797.0, 696.0, 474.0, 395.0, 271.0, 230.0, 217.0, 112.0]}, {\"name\": \"poultry counter\", \"type\": \"scatter\", \"x\": [0, 1, 2, 3, 4, 5, 6, 7, 8, 9, 10, 11, 12, 13, 14, 15, 16, 17, 18, 19, 20, 21, 22, 23], \"y\": [51.0, 20.0, 14.0, 16.0, 10.0, 25.0, 78.0, 197.0, 416.0, 582.0, 656.0, 675.0, 730.0, 683.0, 712.0, 763.0, 616.0, 540.0, 425.0, 303.0, 200.0, 179.0, 141.0, 99.0]}, {\"name\": \"prepared meals\", \"type\": \"scatter\", \"x\": [0, 1, 2, 3, 4, 5, 6, 7, 8, 9, 10, 11, 12, 13, 14, 15, 16, 17, 18, 19, 20, 21, 22, 23], \"y\": [46.0, 18.0, 13.0, 11.0, 7.0, 19.0, 46.0, 148.0, 322.0, 394.0, 471.0, 496.0, 502.0, 547.0, 516.0, 521.0, 533.0, 420.0, 383.0, 255.0, 170.0, 127.0, 100.0, 79.0]}, {\"name\": \"prepared soups salads\", \"type\": \"scatter\", \"x\": [0, 1, 2, 3, 4, 5, 6, 7, 8, 9, 10, 11, 12, 13, 14, 15, 16, 17, 18, 19, 20, 21, 22, 23], \"y\": [25.0, 16.0, 16.0, 6.0, 12.0, 10.0, 49.0, 123.0, 240.0, 314.0, 378.0, 407.0, 336.0, 368.0, 372.0, 356.0, 326.0, 283.0, 268.0, 158.0, 110.0, 90.0, 76.0, 45.0]}, {\"name\": \"preserved dips spreads\", \"type\": \"scatter\", \"x\": [0, 1, 2, 3, 4, 5, 6, 7, 8, 9, 10, 11, 12, 13, 14, 15, 16, 17, 18, 19, 20, 21, 22, 23], \"y\": [47.0, 36.0, 11.0, 14.0, 6.0, 14.0, 53.0, 132.0, 310.0, 477.0, 593.0, 622.0, 584.0, 562.0, 604.0, 561.0, 539.0, 492.0, 347.0, 290.0, 206.0, 161.0, 128.0, 77.0]}, {\"name\": \"protein meal replacements\", \"type\": \"scatter\", \"x\": [0, 1, 2, 3, 4, 5, 6, 7, 8, 9, 10, 11, 12, 13, 14, 15, 16, 17, 18, 19, 20, 21, 22, 23], \"y\": [17.0, 7.0, 7.0, 5.0, 4.0, 3.0, 16.0, 55.0, 103.0, 180.0, 194.0, 205.0, 185.0, 195.0, 170.0, 192.0, 176.0, 152.0, 113.0, 107.0, 68.0, 43.0, 37.0, 23.0]}, {\"name\": \"red wines\", \"type\": \"scatter\", \"x\": [0, 1, 2, 3, 4, 5, 6, 7, 8, 9, 10, 11, 12, 13, 14, 15, 16, 17, 18, 19, 20, 21, 22, 23], \"y\": [4.0, 7.0, 5.0, 2.0, null, 2.0, 3.0, 26.0, 56.0, 112.0, 138.0, 191.0, 157.0, 182.0, 208.0, 241.0, 216.0, 200.0, 170.0, 108.0, 54.0, 18.0, 19.0, 16.0]}, {\"name\": \"refrigerated\", \"type\": \"scatter\", \"x\": [0, 1, 2, 3, 4, 5, 6, 7, 8, 9, 10, 11, 12, 13, 14, 15, 16, 17, 18, 19, 20, 21, 22, 23], \"y\": [244.0, 155.0, 86.0, 67.0, 63.0, 103.0, 340.0, 872.0, 1764.0, 2615.0, 3078.0, 3044.0, 2796.0, 2916.0, 3053.0, 2941.0, 2918.0, 2463.0, 1928.0, 1512.0, 1047.0, 836.0, 633.0, 419.0]}, {\"name\": \"refrigerated pudding desserts\", \"type\": \"scatter\", \"x\": [0, 1, 2, 3, 4, 5, 6, 7, 8, 9, 10, 11, 12, 13, 14, 15, 16, 17, 18, 19, 20, 21, 22, 23], \"y\": [24.0, 11.0, 10.0, 13.0, 5.0, 9.0, 29.0, 65.0, 126.0, 140.0, 172.0, 170.0, 164.0, 195.0, 187.0, 207.0, 192.0, 216.0, 124.0, 111.0, 87.0, 73.0, 63.0, 30.0]}, {\"name\": \"salad dressing toppings\", \"type\": \"scatter\", \"x\": [0, 1, 2, 3, 4, 5, 6, 7, 8, 9, 10, 11, 12, 13, 14, 15, 16, 17, 18, 19, 20, 21, 22, 23], \"y\": [34.0, 22.0, 12.0, 14.0, 17.0, 15.0, 48.0, 123.0, 298.0, 404.0, 543.0, 457.0, 530.0, 541.0, 519.0, 476.0, 484.0, 382.0, 328.0, 250.0, 197.0, 125.0, 118.0, 72.0]}, {\"name\": \"seafood counter\", \"type\": \"scatter\", \"x\": [0, 1, 2, 3, 4, 5, 6, 7, 8, 9, 10, 11, 12, 13, 14, 15, 16, 17, 18, 19, 20, 21, 22, 23], \"y\": [17.0, 4.0, 4.0, 2.0, 2.0, 8.0, 17.0, 50.0, 99.0, 112.0, 153.0, 130.0, 160.0, 138.0, 163.0, 160.0, 162.0, 136.0, 82.0, 74.0, 61.0, 52.0, 37.0, 20.0]}, {\"name\": \"shave needs\", \"type\": \"scatter\", \"x\": [0, 1, 2, 3, 4, 5, 6, 7, 8, 9, 10, 11, 12, 13, 14, 15, 16, 17, 18, 19, 20, 21, 22, 23], \"y\": [3.0, 2.0, 1.0, 2.0, null, 1.0, 2.0, 18.0, 35.0, 43.0, 53.0, 57.0, 54.0, 42.0, 50.0, 54.0, 68.0, 32.0, 50.0, 42.0, 11.0, 12.0, 5.0, 9.0]}, {\"name\": \"skin care\", \"type\": \"scatter\", \"x\": [0, 1, 2, 3, 4, 5, 6, 7, 8, 9, 10, 11, 12, 13, 14, 15, 16, 17, 18, 19, 20, 21, 22, 23], \"y\": [3.0, 6.0, 2.0, null, 1.0, 1.0, 8.0, 15.0, 39.0, 43.0, 52.0, 64.0, 61.0, 61.0, 54.0, 48.0, 52.0, 33.0, 38.0, 27.0, 17.0, 14.0, 10.0, 5.0]}, {\"name\": \"soap\", \"type\": \"scatter\", \"x\": [0, 1, 2, 3, 4, 5, 6, 7, 8, 9, 10, 11, 12, 13, 14, 15, 16, 17, 18, 19, 20, 21, 22, 23], \"y\": [19.0, 31.0, 8.0, 7.0, 6.0, 12.0, 30.0, 108.0, 230.0, 263.0, 358.0, 320.0, 332.0, 326.0, 345.0, 304.0, 279.0, 233.0, 197.0, 157.0, 134.0, 110.0, 67.0, 42.0]}, {\"name\": \"soft drinks\", \"type\": \"scatter\", \"x\": [0, 1, 2, 3, 4, 5, 6, 7, 8, 9, 10, 11, 12, 13, 14, 15, 16, 17, 18, 19, 20, 21, 22, 23], \"y\": [121.0, 97.0, 70.0, 40.0, 44.0, 67.0, 174.0, 459.0, 1154.0, 1725.0, 2121.0, 2028.0, 1803.0, 1922.0, 1842.0, 1888.0, 1768.0, 1486.0, 1196.0, 841.0, 615.0, 381.0, 361.0, 225.0]}, {\"name\": \"soup broth bouillon\", \"type\": \"scatter\", \"x\": [0, 1, 2, 3, 4, 5, 6, 7, 8, 9, 10, 11, 12, 13, 14, 15, 16, 17, 18, 19, 20, 21, 22, 23], \"y\": [143.0, 74.0, 51.0, 42.0, 51.0, 56.0, 167.0, 521.0, 1070.0, 1473.0, 1939.0, 1899.0, 1863.0, 1834.0, 1824.0, 1759.0, 1740.0, 1371.0, 1058.0, 790.0, 625.0, 480.0, 462.0, 248.0]}, {\"name\": \"soy lactosefree\", \"type\": \"scatter\", \"x\": [0, 1, 2, 3, 4, 5, 6, 7, 8, 9, 10, 11, 12, 13, 14, 15, 16, 17, 18, 19, 20, 21, 22, 23], \"y\": [256.0, 138.0, 97.0, 56.0, 70.0, 105.0, 380.0, 1133.0, 2098.0, 3130.0, 3546.0, 3266.0, 3087.0, 3175.0, 3157.0, 3129.0, 3056.0, 2542.0, 1999.0, 1554.0, 1234.0, 943.0, 770.0, 468.0]}, {\"name\": \"specialty cheeses\", \"type\": \"scatter\", \"x\": [0, 1, 2, 3, 4, 5, 6, 7, 8, 9, 10, 11, 12, 13, 14, 15, 16, 17, 18, 19, 20, 21, 22, 23], \"y\": [39.0, 20.0, 13.0, 7.0, 6.0, 12.0, 41.0, 105.0, 220.0, 355.0, 450.0, 441.0, 447.0, 453.0, 435.0, 414.0, 392.0, 305.0, 301.0, 179.0, 159.0, 134.0, 106.0, 68.0]}, {\"name\": \"specialty wines champagnes\", \"type\": \"scatter\", \"x\": [0, 1, 2, 3, 4, 5, 6, 7, 8, 9, 10, 11, 12, 13, 14, 15, 16, 17, 18, 19, 20, 21, 22, 23], \"y\": [3.0, 3.0, null, 2.0, null, 2.0, 4.0, 6.0, 20.0, 32.0, 51.0, 60.0, 48.0, 55.0, 60.0, 52.0, 62.0, 51.0, 36.0, 30.0, 14.0, 12.0, 7.0, 4.0]}, {\"name\": \"spices seasonings\", \"type\": \"scatter\", \"x\": [0, 1, 2, 3, 4, 5, 6, 7, 8, 9, 10, 11, 12, 13, 14, 15, 16, 17, 18, 19, 20, 21, 22, 23], \"y\": [92.0, 55.0, 23.0, 23.0, 28.0, 34.0, 107.0, 282.0, 588.0, 830.0, 1129.0, 1127.0, 1168.0, 1167.0, 1133.0, 1045.0, 1064.0, 869.0, 684.0, 471.0, 387.0, 311.0, 305.0, 145.0]}, {\"name\": \"spirits\", \"type\": \"scatter\", \"x\": [0, 1, 2, 3, 4, 5, 6, 7, 8, 9, 10, 11, 12, 13, 14, 15, 16, 17, 18, 19, 20, 21, 22, 23], \"y\": [5.0, 2.0, 5.0, 7.0, 6.0, 3.0, 9.0, 21.0, 68.0, 113.0, 120.0, 155.0, 154.0, 156.0, 163.0, 178.0, 181.0, 140.0, 131.0, 87.0, 49.0, 16.0, 20.0, 6.0]}, {\"name\": \"spreads\", \"type\": \"scatter\", \"x\": [0, 1, 2, 3, 4, 5, 6, 7, 8, 9, 10, 11, 12, 13, 14, 15, 16, 17, 18, 19, 20, 21, 22, 23], \"y\": [123.0, 75.0, 41.0, 28.0, 29.0, 50.0, 164.0, 501.0, 979.0, 1373.0, 1606.0, 1492.0, 1481.0, 1433.0, 1503.0, 1474.0, 1381.0, 1110.0, 933.0, 714.0, 627.0, 457.0, 359.0, 216.0]}, {\"name\": \"tea\", \"type\": \"scatter\", \"x\": [0, 1, 2, 3, 4, 5, 6, 7, 8, 9, 10, 11, 12, 13, 14, 15, 16, 17, 18, 19, 20, 21, 22, 23], \"y\": [103.0, 48.0, 72.0, 30.0, 22.0, 32.0, 121.0, 366.0, 865.0, 1421.0, 1596.0, 1592.0, 1274.0, 1339.0, 1226.0, 1317.0, 1149.0, 880.0, 677.0, 526.0, 399.0, 299.0, 242.0, 137.0]}, {\"name\": \"tofu meat alternatives\", \"type\": \"scatter\", \"x\": [0, 1, 2, 3, 4, 5, 6, 7, 8, 9, 10, 11, 12, 13, 14, 15, 16, 17, 18, 19, 20, 21, 22, 23], \"y\": [66.0, 38.0, 16.0, 12.0, 14.0, 28.0, 61.0, 203.0, 392.0, 536.0, 626.0, 646.0, 624.0, 721.0, 653.0, 653.0, 705.0, 518.0, 409.0, 322.0, 289.0, 201.0, 173.0, 97.0]}, {\"name\": \"tortillas flat bread\", \"type\": \"scatter\", \"x\": [0, 1, 2, 3, 4, 5, 6, 7, 8, 9, 10, 11, 12, 13, 14, 15, 16, 17, 18, 19, 20, 21, 22, 23], \"y\": [71.0, 38.0, 22.0, 25.0, 22.0, 34.0, 104.0, 333.0, 595.0, 850.0, 979.0, 938.0, 1019.0, 1049.0, 1083.0, 1003.0, 987.0, 835.0, 598.0, 465.0, 384.0, 283.0, 223.0, 142.0]}, {\"name\": \"trail mix snack mix\", \"type\": \"scatter\", \"x\": [0, 1, 2, 3, 4, 5, 6, 7, 8, 9, 10, 11, 12, 13, 14, 15, 16, 17, 18, 19, 20, 21, 22, 23], \"y\": [8.0, 1.0, 8.0, 5.0, null, 4.0, 16.0, 49.0, 134.0, 229.0, 241.0, 259.0, 193.0, 186.0, 172.0, 157.0, 170.0, 122.0, 83.0, 48.0, 55.0, 35.0, 43.0, 20.0]}, {\"name\": \"trash bags liners\", \"type\": \"scatter\", \"x\": [0, 1, 2, 3, 4, 5, 6, 7, 8, 9, 10, 11, 12, 13, 14, 15, 16, 17, 18, 19, 20, 21, 22, 23], \"y\": [10.0, 7.0, 3.0, 3.0, 2.0, 9.0, 22.0, 51.0, 101.0, 178.0, 187.0, 175.0, 150.0, 174.0, 153.0, 152.0, 150.0, 133.0, 99.0, 88.0, 59.0, 55.0, 39.0, 20.0]}, {\"name\": \"vitamins supplements\", \"type\": \"scatter\", \"x\": [0, 1, 2, 3, 4, 5, 6, 7, 8, 9, 10, 11, 12, 13, 14, 15, 16, 17, 18, 19, 20, 21, 22, 23], \"y\": [21.0, 16.0, 6.0, 11.0, 3.0, 5.0, 24.0, 86.0, 154.0, 216.0, 231.0, 250.0, 241.0, 246.0, 245.0, 242.0, 234.0, 159.0, 139.0, 103.0, 96.0, 79.0, 60.0, 45.0]}, {\"name\": \"water seltzer sparkling water\", \"type\": \"scatter\", \"x\": [0, 1, 2, 3, 4, 5, 6, 7, 8, 9, 10, 11, 12, 13, 14, 15, 16, 17, 18, 19, 20, 21, 22, 23], \"y\": [319.0, 181.0, 109.0, 82.0, 67.0, 131.0, 466.0, 1271.0, 2786.0, 4304.0, 4970.0, 4517.0, 4223.0, 4343.0, 4334.0, 4415.0, 3938.0, 3388.0, 2627.0, 2085.0, 1532.0, 1062.0, 854.0, 560.0]}, {\"name\": \"white wines\", \"type\": \"scatter\", \"x\": [0, 1, 2, 3, 4, 5, 6, 7, 8, 9, 10, 11, 12, 13, 14, 15, 16, 17, 18, 19, 20, 21, 22, 23], \"y\": [4.0, null, 1.0, 3.0, null, 5.0, 7.0, 40.0, 63.0, 89.0, 136.0, 149.0, 188.0, 173.0, 201.0, 199.0, 206.0, 169.0, 94.0, 63.0, 44.0, 32.0, 16.0, 11.0]}, {\"name\": \"yogurt\", \"type\": \"scatter\", \"x\": [0, 1, 2, 3, 4, 5, 6, 7, 8, 9, 10, 11, 12, 13, 14, 15, 16, 17, 18, 19, 20, 21, 22, 23], \"y\": [603.0, 304.0, 175.0, 111.0, 138.0, 255.0, 893.0, 2719.0, 5123.0, 7293.0, 7938.0, 7446.0, 6969.0, 7258.0, 7494.0, 7412.0, 6817.0, 5534.0, 4266.0, 3561.0, 2899.0, 2464.0, 1905.0, 1174.0]}],                        {\"template\": {\"data\": {\"bar\": [{\"error_x\": {\"color\": \"#2a3f5f\"}, \"error_y\": {\"color\": \"#2a3f5f\"}, \"marker\": {\"line\": {\"color\": \"#E5ECF6\", \"width\": 0.5}}, \"type\": \"bar\"}], \"barpolar\": [{\"marker\": {\"line\": {\"color\": \"#E5ECF6\", \"width\": 0.5}}, \"type\": \"barpolar\"}], \"carpet\": [{\"aaxis\": {\"endlinecolor\": \"#2a3f5f\", \"gridcolor\": \"white\", \"linecolor\": \"white\", \"minorgridcolor\": \"white\", \"startlinecolor\": \"#2a3f5f\"}, \"baxis\": {\"endlinecolor\": \"#2a3f5f\", \"gridcolor\": \"white\", \"linecolor\": \"white\", \"minorgridcolor\": \"white\", \"startlinecolor\": \"#2a3f5f\"}, \"type\": \"carpet\"}], \"choropleth\": [{\"colorbar\": {\"outlinewidth\": 0, \"ticks\": \"\"}, \"type\": \"choropleth\"}], \"contour\": [{\"colorbar\": {\"outlinewidth\": 0, \"ticks\": \"\"}, \"colorscale\": [[0.0, \"#0d0887\"], [0.1111111111111111, \"#46039f\"], [0.2222222222222222, \"#7201a8\"], [0.3333333333333333, \"#9c179e\"], [0.4444444444444444, \"#bd3786\"], [0.5555555555555556, \"#d8576b\"], [0.6666666666666666, \"#ed7953\"], [0.7777777777777778, \"#fb9f3a\"], [0.8888888888888888, \"#fdca26\"], [1.0, \"#f0f921\"]], \"type\": \"contour\"}], \"contourcarpet\": [{\"colorbar\": {\"outlinewidth\": 0, \"ticks\": \"\"}, \"type\": \"contourcarpet\"}], \"heatmap\": [{\"colorbar\": {\"outlinewidth\": 0, \"ticks\": \"\"}, \"colorscale\": [[0.0, \"#0d0887\"], [0.1111111111111111, \"#46039f\"], [0.2222222222222222, \"#7201a8\"], [0.3333333333333333, \"#9c179e\"], [0.4444444444444444, \"#bd3786\"], [0.5555555555555556, \"#d8576b\"], [0.6666666666666666, \"#ed7953\"], [0.7777777777777778, \"#fb9f3a\"], [0.8888888888888888, \"#fdca26\"], [1.0, \"#f0f921\"]], \"type\": \"heatmap\"}], \"heatmapgl\": [{\"colorbar\": {\"outlinewidth\": 0, \"ticks\": \"\"}, \"colorscale\": [[0.0, \"#0d0887\"], [0.1111111111111111, \"#46039f\"], [0.2222222222222222, \"#7201a8\"], [0.3333333333333333, \"#9c179e\"], [0.4444444444444444, \"#bd3786\"], [0.5555555555555556, \"#d8576b\"], [0.6666666666666666, \"#ed7953\"], [0.7777777777777778, \"#fb9f3a\"], [0.8888888888888888, \"#fdca26\"], [1.0, \"#f0f921\"]], \"type\": \"heatmapgl\"}], \"histogram\": [{\"marker\": {\"colorbar\": {\"outlinewidth\": 0, \"ticks\": \"\"}}, \"type\": \"histogram\"}], \"histogram2d\": [{\"colorbar\": {\"outlinewidth\": 0, \"ticks\": \"\"}, \"colorscale\": [[0.0, \"#0d0887\"], [0.1111111111111111, \"#46039f\"], [0.2222222222222222, \"#7201a8\"], [0.3333333333333333, \"#9c179e\"], [0.4444444444444444, \"#bd3786\"], [0.5555555555555556, \"#d8576b\"], [0.6666666666666666, \"#ed7953\"], [0.7777777777777778, \"#fb9f3a\"], [0.8888888888888888, \"#fdca26\"], [1.0, \"#f0f921\"]], \"type\": \"histogram2d\"}], \"histogram2dcontour\": [{\"colorbar\": {\"outlinewidth\": 0, \"ticks\": \"\"}, \"colorscale\": [[0.0, \"#0d0887\"], [0.1111111111111111, \"#46039f\"], [0.2222222222222222, \"#7201a8\"], [0.3333333333333333, \"#9c179e\"], [0.4444444444444444, \"#bd3786\"], [0.5555555555555556, \"#d8576b\"], [0.6666666666666666, \"#ed7953\"], [0.7777777777777778, \"#fb9f3a\"], [0.8888888888888888, \"#fdca26\"], [1.0, \"#f0f921\"]], \"type\": \"histogram2dcontour\"}], \"mesh3d\": [{\"colorbar\": {\"outlinewidth\": 0, \"ticks\": \"\"}, \"type\": \"mesh3d\"}], \"parcoords\": [{\"line\": {\"colorbar\": {\"outlinewidth\": 0, \"ticks\": \"\"}}, \"type\": \"parcoords\"}], \"pie\": [{\"automargin\": true, \"type\": \"pie\"}], \"scatter\": [{\"marker\": {\"colorbar\": {\"outlinewidth\": 0, \"ticks\": \"\"}}, \"type\": \"scatter\"}], \"scatter3d\": [{\"line\": {\"colorbar\": {\"outlinewidth\": 0, \"ticks\": \"\"}}, \"marker\": {\"colorbar\": {\"outlinewidth\": 0, \"ticks\": \"\"}}, \"type\": \"scatter3d\"}], \"scattercarpet\": [{\"marker\": {\"colorbar\": {\"outlinewidth\": 0, \"ticks\": \"\"}}, \"type\": \"scattercarpet\"}], \"scattergeo\": [{\"marker\": {\"colorbar\": {\"outlinewidth\": 0, \"ticks\": \"\"}}, \"type\": \"scattergeo\"}], \"scattergl\": [{\"marker\": {\"colorbar\": {\"outlinewidth\": 0, \"ticks\": \"\"}}, \"type\": \"scattergl\"}], \"scattermapbox\": [{\"marker\": {\"colorbar\": {\"outlinewidth\": 0, \"ticks\": \"\"}}, \"type\": \"scattermapbox\"}], \"scatterpolar\": [{\"marker\": {\"colorbar\": {\"outlinewidth\": 0, \"ticks\": \"\"}}, \"type\": \"scatterpolar\"}], \"scatterpolargl\": [{\"marker\": {\"colorbar\": {\"outlinewidth\": 0, \"ticks\": \"\"}}, \"type\": \"scatterpolargl\"}], \"scatterternary\": [{\"marker\": {\"colorbar\": {\"outlinewidth\": 0, \"ticks\": \"\"}}, \"type\": \"scatterternary\"}], \"surface\": [{\"colorbar\": {\"outlinewidth\": 0, \"ticks\": \"\"}, \"colorscale\": [[0.0, \"#0d0887\"], [0.1111111111111111, \"#46039f\"], [0.2222222222222222, \"#7201a8\"], [0.3333333333333333, \"#9c179e\"], [0.4444444444444444, \"#bd3786\"], [0.5555555555555556, \"#d8576b\"], [0.6666666666666666, \"#ed7953\"], [0.7777777777777778, \"#fb9f3a\"], [0.8888888888888888, \"#fdca26\"], [1.0, \"#f0f921\"]], \"type\": \"surface\"}], \"table\": [{\"cells\": {\"fill\": {\"color\": \"#EBF0F8\"}, \"line\": {\"color\": \"white\"}}, \"header\": {\"fill\": {\"color\": \"#C8D4E3\"}, \"line\": {\"color\": \"white\"}}, \"type\": \"table\"}]}, \"layout\": {\"annotationdefaults\": {\"arrowcolor\": \"#2a3f5f\", \"arrowhead\": 0, \"arrowwidth\": 1}, \"autotypenumbers\": \"strict\", \"coloraxis\": {\"colorbar\": {\"outlinewidth\": 0, \"ticks\": \"\"}}, \"colorscale\": {\"diverging\": [[0, \"#8e0152\"], [0.1, \"#c51b7d\"], [0.2, \"#de77ae\"], [0.3, \"#f1b6da\"], [0.4, \"#fde0ef\"], [0.5, \"#f7f7f7\"], [0.6, \"#e6f5d0\"], [0.7, \"#b8e186\"], [0.8, \"#7fbc41\"], [0.9, \"#4d9221\"], [1, \"#276419\"]], \"sequential\": [[0.0, \"#0d0887\"], [0.1111111111111111, \"#46039f\"], [0.2222222222222222, \"#7201a8\"], [0.3333333333333333, \"#9c179e\"], [0.4444444444444444, \"#bd3786\"], [0.5555555555555556, \"#d8576b\"], [0.6666666666666666, \"#ed7953\"], [0.7777777777777778, \"#fb9f3a\"], [0.8888888888888888, \"#fdca26\"], [1.0, \"#f0f921\"]], \"sequentialminus\": [[0.0, \"#0d0887\"], [0.1111111111111111, \"#46039f\"], [0.2222222222222222, \"#7201a8\"], [0.3333333333333333, \"#9c179e\"], [0.4444444444444444, \"#bd3786\"], [0.5555555555555556, \"#d8576b\"], [0.6666666666666666, \"#ed7953\"], [0.7777777777777778, \"#fb9f3a\"], [0.8888888888888888, \"#fdca26\"], [1.0, \"#f0f921\"]]}, \"colorway\": [\"#636efa\", \"#EF553B\", \"#00cc96\", \"#ab63fa\", \"#FFA15A\", \"#19d3f3\", \"#FF6692\", \"#B6E880\", \"#FF97FF\", \"#FECB52\"], \"font\": {\"color\": \"#2a3f5f\"}, \"geo\": {\"bgcolor\": \"white\", \"lakecolor\": \"white\", \"landcolor\": \"#E5ECF6\", \"showlakes\": true, \"showland\": true, \"subunitcolor\": \"white\"}, \"hoverlabel\": {\"align\": \"left\"}, \"hovermode\": \"closest\", \"mapbox\": {\"style\": \"light\"}, \"paper_bgcolor\": \"white\", \"plot_bgcolor\": \"#E5ECF6\", \"polar\": {\"angularaxis\": {\"gridcolor\": \"white\", \"linecolor\": \"white\", \"ticks\": \"\"}, \"bgcolor\": \"#E5ECF6\", \"radialaxis\": {\"gridcolor\": \"white\", \"linecolor\": \"white\", \"ticks\": \"\"}}, \"scene\": {\"xaxis\": {\"backgroundcolor\": \"#E5ECF6\", \"gridcolor\": \"white\", \"gridwidth\": 2, \"linecolor\": \"white\", \"showbackground\": true, \"ticks\": \"\", \"zerolinecolor\": \"white\"}, \"yaxis\": {\"backgroundcolor\": \"#E5ECF6\", \"gridcolor\": \"white\", \"gridwidth\": 2, \"linecolor\": \"white\", \"showbackground\": true, \"ticks\": \"\", \"zerolinecolor\": \"white\"}, \"zaxis\": {\"backgroundcolor\": \"#E5ECF6\", \"gridcolor\": \"white\", \"gridwidth\": 2, \"linecolor\": \"white\", \"showbackground\": true, \"ticks\": \"\", \"zerolinecolor\": \"white\"}}, \"shapedefaults\": {\"line\": {\"color\": \"#2a3f5f\"}}, \"ternary\": {\"aaxis\": {\"gridcolor\": \"white\", \"linecolor\": \"white\", \"ticks\": \"\"}, \"baxis\": {\"gridcolor\": \"white\", \"linecolor\": \"white\", \"ticks\": \"\"}, \"bgcolor\": \"#E5ECF6\", \"caxis\": {\"gridcolor\": \"white\", \"linecolor\": \"white\", \"ticks\": \"\"}}, \"title\": {\"x\": 0.05}, \"xaxis\": {\"automargin\": true, \"gridcolor\": \"white\", \"linecolor\": \"white\", \"ticks\": \"\", \"title\": {\"standoff\": 15}, \"zerolinecolor\": \"white\", \"zerolinewidth\": 2}, \"yaxis\": {\"automargin\": true, \"gridcolor\": \"white\", \"linecolor\": \"white\", \"ticks\": \"\", \"title\": {\"standoff\": 15}, \"zerolinecolor\": \"white\", \"zerolinewidth\": 2}}}, \"title\": {\"text\": \"Frequency purchases per hour of the day\"}, \"xaxis\": {\"title\": {\"text\": \"Hour of the day\"}}, \"yaxis\": {\"title\": {\"text\": \"Total Frequency\"}}},                        {\"responsive\": true}                    ).then(function(){\n",
       "                            \n",
       "var gd = document.getElementById('c7385987-dc2e-4ec8-8743-756faa59f06b');\n",
       "var x = new MutationObserver(function (mutations, observer) {{\n",
       "        var display = window.getComputedStyle(gd).display;\n",
       "        if (!display || display === 'none') {{\n",
       "            console.log([gd, 'removed!']);\n",
       "            Plotly.purge(gd);\n",
       "            observer.disconnect();\n",
       "        }}\n",
       "}});\n",
       "\n",
       "// Listen for the removal of the full notebook cells\n",
       "var notebookContainer = gd.closest('#notebook-container');\n",
       "if (notebookContainer) {{\n",
       "    x.observe(notebookContainer, {childList: true});\n",
       "}}\n",
       "\n",
       "// Listen for the clearing of the current output cell\n",
       "var outputEl = gd.closest('.output');\n",
       "if (outputEl) {{\n",
       "    x.observe(outputEl, {childList: true});\n",
       "}}\n",
       "\n",
       "                        })                };                });            </script>        </div>"
      ]
     },
     "metadata": {},
     "output_type": "display_data"
    }
   ],
   "source": [
    "df_for_plot = df.groupby(['product_name', 'order_hour_of_day']).size()\n",
    "\n",
    "df_for_plot = pd.DataFrame(df_for_plot).reset_index()\n",
    "\n",
    "df_for_plot.columns = ['product', 'hour_of_day', 'frequency']\n",
    "\n",
    "\n",
    "# manipulating the data with pivot table\n",
    "df_for_plot = pd.pivot_table(df_for_plot, values=['frequency'],columns=['product'], index = ['hour_of_day'])\n",
    "# dropping the multi-index level for the columns\n",
    "df_for_plot.columns = df_for_plot.columns.droplevel(0)\n",
    "\n",
    "##plotting##\n",
    "data_for_plot = [dict(type='scatter',\n",
    "                x=df_for_plot.index,\n",
    "                y=df_for_plot[product],\n",
    "                name=product)\n",
    "                 for product in df_for_plot.columns\n",
    "                ]\n",
    "    \n",
    "# setting the layout\n",
    "plot_1_layout = dict(title=dict(text='Frequency purchases per hour of the day'),\n",
    "                      xaxis=dict(title='Hour of the day'),\n",
    "                      yaxis=dict(title='Total Frequency')\n",
    "                      )\n",
    "# displaying the graph\n",
    "plot_1 = go.Figure(data=data_for_plot, layout=plot_1_layout)\n",
    "# plot_1.show(renderer='png')\n",
    "plot_1.show()"
   ]
  },
  {
   "cell_type": "code",
   "execution_count": 147,
   "metadata": {},
   "outputs": [
    {
     "data": {
      "application/vnd.plotly.v1+json": {
       "config": {
        "plotlyServerURL": "https://plot.ly"
       },
       "data": [
        {
         "name": "air fresheners candles",
         "type": "scatter",
         "x": [
          0,
          1,
          2,
          3,
          4,
          5,
          6
         ],
         "y": [
          205,
          170,
          170,
          156,
          151,
          184,
          222
         ]
        },
        {
         "name": "asian foods",
         "type": "scatter",
         "x": [
          0,
          1,
          2,
          3,
          4,
          5,
          6
         ],
         "y": [
          1983,
          1795,
          1365,
          1284,
          1194,
          1315,
          1490
         ]
        },
        {
         "name": "baby accessories",
         "type": "scatter",
         "x": [
          0,
          1,
          2,
          3,
          4,
          5,
          6
         ],
         "y": [
          81,
          83,
          63,
          75,
          66,
          62,
          74
         ]
        },
        {
         "name": "baby bath body care",
         "type": "scatter",
         "x": [
          0,
          1,
          2,
          3,
          4,
          5,
          6
         ],
         "y": [
          94,
          89,
          64,
          61,
          65,
          82,
          60
         ]
        },
        {
         "name": "baby food formula",
         "type": "scatter",
         "x": [
          0,
          1,
          2,
          3,
          4,
          5,
          6
         ],
         "y": [
          4745,
          4009,
          3006,
          2816,
          2945,
          2857,
          2977
         ]
        },
        {
         "name": "bakery desserts",
         "type": "scatter",
         "x": [
          0,
          1,
          2,
          3,
          4,
          5,
          6
         ],
         "y": [
          372,
          338,
          313,
          280,
          281,
          314,
          316
         ]
        },
        {
         "name": "baking ingredients",
         "type": "scatter",
         "x": [
          0,
          1,
          2,
          3,
          4,
          5,
          6
         ],
         "y": [
          3714,
          3135,
          2538,
          2350,
          2616,
          2767,
          3017
         ]
        },
        {
         "name": "baking supplies decor",
         "type": "scatter",
         "x": [
          0,
          1,
          2,
          3,
          4,
          5,
          6
         ],
         "y": [
          254,
          185,
          206,
          185,
          186,
          212,
          223
         ]
        },
        {
         "name": "beauty",
         "type": "scatter",
         "x": [
          0,
          1,
          2,
          3,
          4,
          5,
          6
         ],
         "y": [
          72,
          70,
          40,
          64,
          48,
          40,
          53
         ]
        },
        {
         "name": "beers coolers",
         "type": "scatter",
         "x": [
          0,
          1,
          2,
          3,
          4,
          5,
          6
         ],
         "y": [
          238,
          377,
          354,
          518,
          626,
          610,
          279
         ]
        },
        {
         "name": "body lotions soap",
         "type": "scatter",
         "x": [
          0,
          1,
          2,
          3,
          4,
          5,
          6
         ],
         "y": [
          499,
          399,
          308,
          269,
          327,
          304,
          401
         ]
        },
        {
         "name": "bread",
         "type": "scatter",
         "x": [
          0,
          1,
          2,
          3,
          4,
          5,
          6
         ],
         "y": [
          7193,
          6266,
          4602,
          4247,
          4144,
          4826,
          5103
         ]
        },
        {
         "name": "breakfast bakery",
         "type": "scatter",
         "x": [
          0,
          1,
          2,
          3,
          4,
          5,
          6
         ],
         "y": [
          2741,
          2794,
          2124,
          1836,
          1798,
          2116,
          1948
         ]
        },
        {
         "name": "breakfast bars pastries",
         "type": "scatter",
         "x": [
          0,
          1,
          2,
          3,
          4,
          5,
          6
         ],
         "y": [
          790,
          903,
          599,
          631,
          584,
          594,
          520
         ]
        },
        {
         "name": "bulk dried fruits vegetables",
         "type": "scatter",
         "x": [
          0,
          1,
          2,
          3,
          4,
          5,
          6
         ],
         "y": [
          173,
          186,
          158,
          132,
          140,
          144,
          126
         ]
        },
        {
         "name": "bulk grains rice dried goods",
         "type": "scatter",
         "x": [
          0,
          1,
          2,
          3,
          4,
          5,
          6
         ],
         "y": [
          216,
          181,
          124,
          136,
          125,
          140,
          152
         ]
        },
        {
         "name": "buns rolls",
         "type": "scatter",
         "x": [
          0,
          1,
          2,
          3,
          4,
          5,
          6
         ],
         "y": [
          1426,
          1058,
          810,
          828,
          754,
          977,
          1096
         ]
        },
        {
         "name": "butter",
         "type": "scatter",
         "x": [
          0,
          1,
          2,
          3,
          4,
          5,
          6
         ],
         "y": [
          3076,
          2453,
          2046,
          1860,
          1837,
          2139,
          2324
         ]
        },
        {
         "name": "candy chocolate",
         "type": "scatter",
         "x": [
          0,
          1,
          2,
          3,
          4,
          5,
          6
         ],
         "y": [
          2640,
          3426,
          2824,
          2437,
          2492,
          2706,
          2210
         ]
        },
        {
         "name": "canned fruit applesauce",
         "type": "scatter",
         "x": [
          0,
          1,
          2,
          3,
          4,
          5,
          6
         ],
         "y": [
          1080,
          940,
          732,
          629,
          605,
          697,
          775
         ]
        },
        {
         "name": "canned jarred vegetables",
         "type": "scatter",
         "x": [
          0,
          1,
          2,
          3,
          4,
          5,
          6
         ],
         "y": [
          4120,
          2927,
          2152,
          1979,
          1891,
          2228,
          2728
         ]
        },
        {
         "name": "canned meals beans",
         "type": "scatter",
         "x": [
          0,
          1,
          2,
          3,
          4,
          5,
          6
         ],
         "y": [
          3858,
          2826,
          2098,
          1729,
          1672,
          2038,
          2597
         ]
        },
        {
         "name": "canned meat seafood",
         "type": "scatter",
         "x": [
          0,
          1,
          2,
          3,
          4,
          5,
          6
         ],
         "y": [
          841,
          640,
          524,
          521,
          483,
          573,
          630
         ]
        },
        {
         "name": "cat food care",
         "type": "scatter",
         "x": [
          0,
          1,
          2,
          3,
          4,
          5,
          6
         ],
         "y": [
          687,
          529,
          394,
          551,
          464,
          579,
          631
         ]
        },
        {
         "name": "cereal",
         "type": "scatter",
         "x": [
          0,
          1,
          2,
          3,
          4,
          5,
          6
         ],
         "y": [
          4326,
          4178,
          3190,
          2882,
          2846,
          3210,
          3122
         ]
        },
        {
         "name": "chips pretzels",
         "type": "scatter",
         "x": [
          0,
          1,
          2,
          3,
          4,
          5,
          6
         ],
         "y": [
          7944,
          7909,
          5979,
          5588,
          5644,
          6185,
          6057
         ]
        },
        {
         "name": "cleaning products",
         "type": "scatter",
         "x": [
          0,
          1,
          2,
          3,
          4,
          5,
          6
         ],
         "y": [
          1220,
          1186,
          975,
          987,
          1078,
          986,
          997
         ]
        },
        {
         "name": "cocoa drink mixes",
         "type": "scatter",
         "x": [
          0,
          1,
          2,
          3,
          4,
          5,
          6
         ],
         "y": [
          244,
          212,
          200,
          155,
          147,
          186,
          188
         ]
        },
        {
         "name": "coffee",
         "type": "scatter",
         "x": [
          0,
          1,
          2,
          3,
          4,
          5,
          6
         ],
         "y": [
          2139,
          2367,
          1785,
          1656,
          1534,
          1743,
          1599
         ]
        },
        {
         "name": "cold flu allergy",
         "type": "scatter",
         "x": [
          0,
          1,
          2,
          3,
          4,
          5,
          6
         ],
         "y": [
          228,
          267,
          219,
          198,
          221,
          233,
          223
         ]
        },
        {
         "name": "condiments",
         "type": "scatter",
         "x": [
          0,
          1,
          2,
          3,
          4,
          5,
          6
         ],
         "y": [
          2602,
          2200,
          1807,
          1660,
          1634,
          1805,
          2052
         ]
        },
        {
         "name": "cookies cakes",
         "type": "scatter",
         "x": [
          0,
          1,
          2,
          3,
          4,
          5,
          6
         ],
         "y": [
          2343,
          2656,
          1970,
          2011,
          1894,
          2009,
          1862
         ]
        },
        {
         "name": "crackers",
         "type": "scatter",
         "x": [
          0,
          1,
          2,
          3,
          4,
          5,
          6
         ],
         "y": [
          5231,
          5079,
          3822,
          3531,
          3460,
          3782,
          3669
         ]
        },
        {
         "name": "cream",
         "type": "scatter",
         "x": [
          0,
          1,
          2,
          3,
          4,
          5,
          6
         ],
         "y": [
          3189,
          3671,
          2736,
          2408,
          2432,
          2837,
          2513
         ]
        },
        {
         "name": "deodorants",
         "type": "scatter",
         "x": [
          0,
          1,
          2,
          3,
          4,
          5,
          6
         ],
         "y": [
          189,
          123,
          107,
          135,
          90,
          106,
          174
         ]
        },
        {
         "name": "diapers wipes",
         "type": "scatter",
         "x": [
          0,
          1,
          2,
          3,
          4,
          5,
          6
         ],
         "y": [
          261,
          266,
          207,
          216,
          216,
          226,
          174
         ]
        },
        {
         "name": "digestion",
         "type": "scatter",
         "x": [
          0,
          1,
          2,
          3,
          4,
          5,
          6
         ],
         "y": [
          320,
          281,
          225,
          227,
          202,
          251,
          221
         ]
        },
        {
         "name": "dish detergents",
         "type": "scatter",
         "x": [
          0,
          1,
          2,
          3,
          4,
          5,
          6
         ],
         "y": [
          1063,
          994,
          755,
          717,
          762,
          768,
          808
         ]
        },
        {
         "name": "dog food care",
         "type": "scatter",
         "x": [
          0,
          1,
          2,
          3,
          4,
          5,
          6
         ],
         "y": [
          384,
          341,
          260,
          295,
          277,
          280,
          341
         ]
        },
        {
         "name": "doughs gelatins bake mixes",
         "type": "scatter",
         "x": [
          0,
          1,
          2,
          3,
          4,
          5,
          6
         ],
         "y": [
          1175,
          1016,
          830,
          812,
          770,
          1011,
          1079
         ]
        },
        {
         "name": "dry pasta",
         "type": "scatter",
         "x": [
          0,
          1,
          2,
          3,
          4,
          5,
          6
         ],
         "y": [
          3604,
          2723,
          2058,
          1875,
          1775,
          1977,
          2402
         ]
        },
        {
         "name": "eggs",
         "type": "scatter",
         "x": [
          0,
          1,
          2,
          3,
          4,
          5,
          6
         ],
         "y": [
          5970,
          4615,
          3450,
          3161,
          3107,
          3538,
          4145
         ]
        },
        {
         "name": "energy granola bars",
         "type": "scatter",
         "x": [
          0,
          1,
          2,
          3,
          4,
          5,
          6
         ],
         "y": [
          4986,
          6058,
          4004,
          3507,
          3390,
          3671,
          3023
         ]
        },
        {
         "name": "energy sports drinks",
         "type": "scatter",
         "x": [
          0,
          1,
          2,
          3,
          4,
          5,
          6
         ],
         "y": [
          1195,
          1150,
          833,
          899,
          798,
          832,
          931
         ]
        },
        {
         "name": "eye ear care",
         "type": "scatter",
         "x": [
          0,
          1,
          2,
          3,
          4,
          5,
          6
         ],
         "y": [
          92,
          101,
          77,
          63,
          89,
          75,
          101
         ]
        },
        {
         "name": "facial care",
         "type": "scatter",
         "x": [
          0,
          1,
          2,
          3,
          4,
          5,
          6
         ],
         "y": [
          163,
          151,
          96,
          102,
          94,
          115,
          122
         ]
        },
        {
         "name": "feminine care",
         "type": "scatter",
         "x": [
          0,
          1,
          2,
          3,
          4,
          5,
          6
         ],
         "y": [
          202,
          201,
          186,
          167,
          164,
          196,
          180
         ]
        },
        {
         "name": "first aid",
         "type": "scatter",
         "x": [
          0,
          1,
          2,
          3,
          4,
          5,
          6
         ],
         "y": [
          100,
          105,
          122,
          85,
          85,
          89,
          107
         ]
        },
        {
         "name": "food storage",
         "type": "scatter",
         "x": [
          0,
          1,
          2,
          3,
          4,
          5,
          6
         ],
         "y": [
          785,
          714,
          572,
          443,
          512,
          553,
          565
         ]
        },
        {
         "name": "fresh dips tapenades",
         "type": "scatter",
         "x": [
          0,
          1,
          2,
          3,
          4,
          5,
          6
         ],
         "y": [
          4222,
          3830,
          2858,
          2593,
          2623,
          2943,
          3106
         ]
        },
        {
         "name": "fresh fruits",
         "type": "scatter",
         "x": [
          0,
          1,
          2,
          3,
          4,
          5,
          6
         ],
         "y": [
          44727,
          41126,
          28830,
          26102,
          25744,
          29265,
          30245
         ]
        },
        {
         "name": "fresh herbs",
         "type": "scatter",
         "x": [
          0,
          1,
          2,
          3,
          4,
          5,
          6
         ],
         "y": [
          5020,
          3725,
          2784,
          2510,
          2649,
          2954,
          3700
         ]
        },
        {
         "name": "fresh pasta",
         "type": "scatter",
         "x": [
          0,
          1,
          2,
          3,
          4,
          5,
          6
         ],
         "y": [
          520,
          411,
          305,
          268,
          221,
          272,
          343
         ]
        },
        {
         "name": "fresh vegetables",
         "type": "scatter",
         "x": [
          0,
          1,
          2,
          3,
          4,
          5,
          6
         ],
         "y": [
          46643,
          36440,
          26481,
          23243,
          22914,
          25059,
          31831
         ]
        },
        {
         "name": "frozen appetizers sides",
         "type": "scatter",
         "x": [
          0,
          1,
          2,
          3,
          4,
          5,
          6
         ],
         "y": [
          2429,
          1951,
          1515,
          1406,
          1459,
          1562,
          1856
         ]
        },
        {
         "name": "frozen breads doughs",
         "type": "scatter",
         "x": [
          0,
          1,
          2,
          3,
          4,
          5,
          6
         ],
         "y": [
          480,
          400,
          293,
          301,
          307,
          339,
          366
         ]
        },
        {
         "name": "frozen breakfast",
         "type": "scatter",
         "x": [
          0,
          1,
          2,
          3,
          4,
          5,
          6
         ],
         "y": [
          3008,
          2376,
          1845,
          1630,
          1609,
          1831,
          2047
         ]
        },
        {
         "name": "frozen dessert",
         "type": "scatter",
         "x": [
          0,
          1,
          2,
          3,
          4,
          5,
          6
         ],
         "y": [
          215,
          160,
          156,
          132,
          177,
          138,
          212
         ]
        },
        {
         "name": "frozen juice",
         "type": "scatter",
         "x": [
          0,
          1,
          2,
          3,
          4,
          5,
          6
         ],
         "y": [
          51,
          39,
          35,
          37,
          41,
          35,
          41
         ]
        },
        {
         "name": "frozen meals",
         "type": "scatter",
         "x": [
          0,
          1,
          2,
          3,
          4,
          5,
          6
         ],
         "y": [
          4879,
          4007,
          3107,
          2964,
          2719,
          2968,
          3805
         ]
        },
        {
         "name": "frozen meat seafood",
         "type": "scatter",
         "x": [
          0,
          1,
          2,
          3,
          4,
          5,
          6
         ],
         "y": [
          867,
          688,
          557,
          542,
          522,
          591,
          641
         ]
        },
        {
         "name": "frozen pizza",
         "type": "scatter",
         "x": [
          0,
          1,
          2,
          3,
          4,
          5,
          6
         ],
         "y": [
          2007,
          1620,
          1210,
          1228,
          1118,
          1400,
          1541
         ]
        },
        {
         "name": "frozen produce",
         "type": "scatter",
         "x": [
          0,
          1,
          2,
          3,
          4,
          5,
          6
         ],
         "y": [
          6834,
          5427,
          4002,
          3809,
          3553,
          4003,
          4804
         ]
        },
        {
         "name": "frozen vegan vegetarian",
         "type": "scatter",
         "x": [
          0,
          1,
          2,
          3,
          4,
          5,
          6
         ],
         "y": [
          1301,
          995,
          802,
          720,
          726,
          836,
          941
         ]
        },
        {
         "name": "fruit vegetable snacks",
         "type": "scatter",
         "x": [
          0,
          1,
          2,
          3,
          4,
          5,
          6
         ],
         "y": [
          2006,
          2068,
          1539,
          1401,
          1271,
          1372,
          1274
         ]
        },
        {
         "name": "grains rice dried goods",
         "type": "scatter",
         "x": [
          0,
          1,
          2,
          3,
          4,
          5,
          6
         ],
         "y": [
          1825,
          1461,
          1204,
          1077,
          1014,
          1045,
          1252
         ]
        },
        {
         "name": "granola",
         "type": "scatter",
         "x": [
          0,
          1,
          2,
          3,
          4,
          5,
          6
         ],
         "y": [
          1142,
          1250,
          925,
          782,
          721,
          894,
          696
         ]
        },
        {
         "name": "hair care",
         "type": "scatter",
         "x": [
          0,
          1,
          2,
          3,
          4,
          5,
          6
         ],
         "y": [
          402,
          298,
          220,
          212,
          220,
          258,
          299
         ]
        },
        {
         "name": "honeys syrups nectars",
         "type": "scatter",
         "x": [
          0,
          1,
          2,
          3,
          4,
          5,
          6
         ],
         "y": [
          679,
          721,
          603,
          567,
          476,
          586,
          524
         ]
        },
        {
         "name": "hot cereal pancake mixes",
         "type": "scatter",
         "x": [
          0,
          1,
          2,
          3,
          4,
          5,
          6
         ],
         "y": [
          1891,
          1689,
          1291,
          1163,
          1143,
          1284,
          1359
         ]
        },
        {
         "name": "hot dogs bacon sausage",
         "type": "scatter",
         "x": [
          0,
          1,
          2,
          3,
          4,
          5,
          6
         ],
         "y": [
          3772,
          3010,
          2331,
          2136,
          2136,
          2636,
          3016
         ]
        },
        {
         "name": "ice cream ice",
         "type": "scatter",
         "x": [
          0,
          1,
          2,
          3,
          4,
          5,
          6
         ],
         "y": [
          5851,
          4563,
          3840,
          3832,
          3657,
          4445,
          5135
         ]
        },
        {
         "name": "ice cream toppings",
         "type": "scatter",
         "x": [
          0,
          1,
          2,
          3,
          4,
          5,
          6
         ],
         "y": [
          111,
          105,
          106,
          79,
          111,
          85,
          109
         ]
        },
        {
         "name": "indian foods",
         "type": "scatter",
         "x": [
          0,
          1,
          2,
          3,
          4,
          5,
          6
         ],
         "y": [
          202,
          152,
          102,
          111,
          120,
          133,
          143
         ]
        },
        {
         "name": "instant foods",
         "type": "scatter",
         "x": [
          0,
          1,
          2,
          3,
          4,
          5,
          6
         ],
         "y": [
          2628,
          2123,
          1683,
          1447,
          1351,
          1516,
          1903
         ]
        },
        {
         "name": "juice nectars",
         "type": "scatter",
         "x": [
          0,
          1,
          2,
          3,
          4,
          5,
          6
         ],
         "y": [
          3629,
          3334,
          2797,
          2535,
          2594,
          2912,
          2914
         ]
        },
        {
         "name": "kitchen supplies",
         "type": "scatter",
         "x": [
          0,
          1,
          2,
          3,
          4,
          5,
          6
         ],
         "y": [
          74,
          72,
          75,
          82,
          96,
          78,
          84
         ]
        },
        {
         "name": "kosher foods",
         "type": "scatter",
         "x": [
          0,
          1,
          2,
          3,
          4,
          5,
          6
         ],
         "y": [
          114,
          109,
          92,
          99,
          98,
          98,
          87
         ]
        },
        {
         "name": "latino foods",
         "type": "scatter",
         "x": [
          0,
          1,
          2,
          3,
          4,
          5,
          6
         ],
         "y": [
          1130,
          802,
          603,
          464,
          466,
          527,
          660
         ]
        },
        {
         "name": "laundry",
         "type": "scatter",
         "x": [
          0,
          1,
          2,
          3,
          4,
          5,
          6
         ],
         "y": [
          1068,
          958,
          813,
          770,
          717,
          744,
          834
         ]
        },
        {
         "name": "lunch meat",
         "type": "scatter",
         "x": [
          0,
          1,
          2,
          3,
          4,
          5,
          6
         ],
         "y": [
          5060,
          4224,
          3134,
          2852,
          2746,
          3155,
          3299
         ]
        },
        {
         "name": "marinades meat preparation",
         "type": "scatter",
         "x": [
          0,
          1,
          2,
          3,
          4,
          5,
          6
         ],
         "y": [
          770,
          595,
          538,
          441,
          433,
          483,
          576
         ]
        },
        {
         "name": "meat counter",
         "type": "scatter",
         "x": [
          0,
          1,
          2,
          3,
          4,
          5,
          6
         ],
         "y": [
          1004,
          744,
          521,
          469,
          454,
          526,
          754
         ]
        },
        {
         "name": "milk",
         "type": "scatter",
         "x": [
          0,
          1,
          2,
          3,
          4,
          5,
          6
         ],
         "y": [
          10113,
          9779,
          7337,
          6562,
          6727,
          7450,
          7182
         ]
        },
        {
         "name": "mint gum",
         "type": "scatter",
         "x": [
          0,
          1,
          2,
          3,
          4,
          5,
          6
         ],
         "y": [
          135,
          261,
          247,
          232,
          179,
          185,
          138
         ]
        },
        {
         "name": "missing",
         "type": "scatter",
         "x": [
          0,
          1,
          2,
          3,
          4,
          5,
          6
         ],
         "y": [
          937,
          747,
          573,
          575,
          548,
          679,
          690
         ]
        },
        {
         "name": "more household",
         "type": "scatter",
         "x": [
          0,
          1,
          2,
          3,
          4,
          5,
          6
         ],
         "y": [
          217,
          176,
          156,
          139,
          152,
          168,
          162
         ]
        },
        {
         "name": "muscles joints pain relief",
         "type": "scatter",
         "x": [
          0,
          1,
          2,
          3,
          4,
          5,
          6
         ],
         "y": [
          218,
          186,
          184,
          167,
          159,
          161,
          181
         ]
        },
        {
         "name": "nuts seeds dried fruit",
         "type": "scatter",
         "x": [
          0,
          1,
          2,
          3,
          4,
          5,
          6
         ],
         "y": [
          3257,
          3494,
          2598,
          2444,
          2354,
          2467,
          2412
         ]
        },
        {
         "name": "oils vinegars",
         "type": "scatter",
         "x": [
          0,
          1,
          2,
          3,
          4,
          5,
          6
         ],
         "y": [
          2877,
          2477,
          1855,
          1840,
          1826,
          1996,
          2342
         ]
        },
        {
         "name": "oral hygiene",
         "type": "scatter",
         "x": [
          0,
          1,
          2,
          3,
          4,
          5,
          6
         ],
         "y": [
          789,
          653,
          508,
          418,
          505,
          527,
          618
         ]
        },
        {
         "name": "other",
         "type": "scatter",
         "x": [
          0,
          1,
          2,
          3,
          4,
          5,
          6
         ],
         "y": [
          406,
          355,
          295,
          313,
          248,
          300,
          323
         ]
        },
        {
         "name": "other creams cheeses",
         "type": "scatter",
         "x": [
          0,
          1,
          2,
          3,
          4,
          5,
          6
         ],
         "y": [
          3711,
          3156,
          2430,
          2239,
          2261,
          2599,
          2695
         ]
        },
        {
         "name": "packaged cheese",
         "type": "scatter",
         "x": [
          0,
          1,
          2,
          3,
          4,
          5,
          6
         ],
         "y": [
          12526,
          10433,
          7872,
          7019,
          7065,
          7853,
          8734
         ]
        },
        {
         "name": "packaged meat",
         "type": "scatter",
         "x": [
          0,
          1,
          2,
          3,
          4,
          5,
          6
         ],
         "y": [
          387,
          320,
          260,
          268,
          241,
          238,
          306
         ]
        },
        {
         "name": "packaged poultry",
         "type": "scatter",
         "x": [
          0,
          1,
          2,
          3,
          4,
          5,
          6
         ],
         "y": [
          1734,
          1313,
          926,
          749,
          771,
          823,
          1151
         ]
        },
        {
         "name": "packaged produce",
         "type": "scatter",
         "x": [
          0,
          1,
          2,
          3,
          4,
          5,
          6
         ],
         "y": [
          2626,
          3314,
          2367,
          2339,
          2339,
          2384,
          2039
         ]
        },
        {
         "name": "packaged seafood",
         "type": "scatter",
         "x": [
          0,
          1,
          2,
          3,
          4,
          5,
          6
         ],
         "y": [
          222,
          207,
          168,
          158,
          157,
          181,
          208
         ]
        },
        {
         "name": "packaged vegetables fruits",
         "type": "scatter",
         "x": [
          0,
          1,
          2,
          3,
          4,
          5,
          6
         ],
         "y": [
          23169,
          19230,
          13919,
          12316,
          12168,
          13526,
          15268
         ]
        },
        {
         "name": "paper goods",
         "type": "scatter",
         "x": [
          0,
          1,
          2,
          3,
          4,
          5,
          6
         ],
         "y": [
          2762,
          2464,
          2035,
          1906,
          1934,
          2060,
          2261
         ]
        },
        {
         "name": "pasta sauce",
         "type": "scatter",
         "x": [
          0,
          1,
          2,
          3,
          4,
          5,
          6
         ],
         "y": [
          2919,
          2416,
          1687,
          1576,
          1480,
          1651,
          2042
         ]
        },
        {
         "name": "pickled goods olives",
         "type": "scatter",
         "x": [
          0,
          1,
          2,
          3,
          4,
          5,
          6
         ],
         "y": [
          1372,
          1087,
          871,
          838,
          789,
          911,
          1057
         ]
        },
        {
         "name": "plates bowls cups flatware",
         "type": "scatter",
         "x": [
          0,
          1,
          2,
          3,
          4,
          5,
          6
         ],
         "y": [
          351,
          420,
          362,
          368,
          410,
          433,
          327
         ]
        },
        {
         "name": "popcorn jerky",
         "type": "scatter",
         "x": [
          0,
          1,
          2,
          3,
          4,
          5,
          6
         ],
         "y": [
          1733,
          2021,
          1443,
          1302,
          1195,
          1411,
          1310
         ]
        },
        {
         "name": "poultry counter",
         "type": "scatter",
         "x": [
          0,
          1,
          2,
          3,
          4,
          5,
          6
         ],
         "y": [
          1991,
          1470,
          1051,
          860,
          802,
          851,
          1106
         ]
        },
        {
         "name": "prepared meals",
         "type": "scatter",
         "x": [
          0,
          1,
          2,
          3,
          4,
          5,
          6
         ],
         "y": [
          1238,
          1103,
          795,
          705,
          690,
          765,
          848
         ]
        },
        {
         "name": "prepared soups salads",
         "type": "scatter",
         "x": [
          0,
          1,
          2,
          3,
          4,
          5,
          6
         ],
         "y": [
          814,
          809,
          618,
          528,
          472,
          570,
          573
         ]
        },
        {
         "name": "preserved dips spreads",
         "type": "scatter",
         "x": [
          0,
          1,
          2,
          3,
          4,
          5,
          6
         ],
         "y": [
          1395,
          1101,
          894,
          786,
          793,
          862,
          1035
         ]
        },
        {
         "name": "protein meal replacements",
         "type": "scatter",
         "x": [
          0,
          1,
          2,
          3,
          4,
          5,
          6
         ],
         "y": [
          444,
          384,
          290,
          290,
          259,
          306,
          284
         ]
        },
        {
         "name": "red wines",
         "type": "scatter",
         "x": [
          0,
          1,
          2,
          3,
          4,
          5,
          6
         ],
         "y": [
          270,
          306,
          311,
          315,
          312,
          338,
          283
         ]
        },
        {
         "name": "refrigerated",
         "type": "scatter",
         "x": [
          0,
          1,
          2,
          3,
          4,
          5,
          6
         ],
         "y": [
          6452,
          6291,
          4620,
          4372,
          4430,
          4905,
          4823
         ]
        },
        {
         "name": "refrigerated pudding desserts",
         "type": "scatter",
         "x": [
          0,
          1,
          2,
          3,
          4,
          5,
          6
         ],
         "y": [
          471,
          338,
          324,
          281,
          307,
          341,
          361
         ]
        },
        {
         "name": "salad dressing toppings",
         "type": "scatter",
         "x": [
          0,
          1,
          2,
          3,
          4,
          5,
          6
         ],
         "y": [
          1223,
          1038,
          786,
          658,
          690,
          772,
          842
         ]
        },
        {
         "name": "seafood counter",
         "type": "scatter",
         "x": [
          0,
          1,
          2,
          3,
          4,
          5,
          6
         ],
         "y": [
          410,
          337,
          242,
          201,
          187,
          196,
          270
         ]
        },
        {
         "name": "shave needs",
         "type": "scatter",
         "x": [
          0,
          1,
          2,
          3,
          4,
          5,
          6
         ],
         "y": [
          124,
          102,
          82,
          91,
          67,
          83,
          97
         ]
        },
        {
         "name": "skin care",
         "type": "scatter",
         "x": [
          0,
          1,
          2,
          3,
          4,
          5,
          6
         ],
         "y": [
          145,
          92,
          87,
          76,
          78,
          85,
          91
         ]
        },
        {
         "name": "soap",
         "type": "scatter",
         "x": [
          0,
          1,
          2,
          3,
          4,
          5,
          6
         ],
         "y": [
          730,
          613,
          512,
          462,
          480,
          561,
          560
         ]
        },
        {
         "name": "soft drinks",
         "type": "scatter",
         "x": [
          0,
          1,
          2,
          3,
          4,
          5,
          6
         ],
         "y": [
          3139,
          3899,
          3085,
          2921,
          3073,
          3425,
          2886
         ]
        },
        {
         "name": "soup broth bouillon",
         "type": "scatter",
         "x": [
          0,
          1,
          2,
          3,
          4,
          5,
          6
         ],
         "y": [
          4402,
          3602,
          2794,
          2454,
          2358,
          2563,
          3367
         ]
        },
        {
         "name": "soy lactosefree",
         "type": "scatter",
         "x": [
          0,
          1,
          2,
          3,
          4,
          5,
          6
         ],
         "y": [
          7457,
          7019,
          5236,
          4737,
          4547,
          5023,
          5370
         ]
        },
        {
         "name": "specialty cheeses",
         "type": "scatter",
         "x": [
          0,
          1,
          2,
          3,
          4,
          5,
          6
         ],
         "y": [
          992,
          745,
          631,
          570,
          627,
          758,
          779
         ]
        },
        {
         "name": "specialty wines champagnes",
         "type": "scatter",
         "x": [
          0,
          1,
          2,
          3,
          4,
          5,
          6
         ],
         "y": [
          75,
          53,
          74,
          93,
          92,
          127,
          100
         ]
        },
        {
         "name": "spices seasonings",
         "type": "scatter",
         "x": [
          0,
          1,
          2,
          3,
          4,
          5,
          6
         ],
         "y": [
          2647,
          2003,
          1716,
          1562,
          1465,
          1661,
          2013
         ]
        },
        {
         "name": "spirits",
         "type": "scatter",
         "x": [
          0,
          1,
          2,
          3,
          4,
          5,
          6
         ],
         "y": [
          226,
          207,
          201,
          267,
          296,
          343,
          255
         ]
        },
        {
         "name": "spreads",
         "type": "scatter",
         "x": [
          0,
          1,
          2,
          3,
          4,
          5,
          6
         ],
         "y": [
          3418,
          3224,
          2429,
          2272,
          2108,
          2351,
          2347
         ]
        },
        {
         "name": "tea",
         "type": "scatter",
         "x": [
          0,
          1,
          2,
          3,
          4,
          5,
          6
         ],
         "y": [
          2190,
          2997,
          2368,
          2244,
          2045,
          2204,
          1685
         ]
        },
        {
         "name": "tofu meat alternatives",
         "type": "scatter",
         "x": [
          0,
          1,
          2,
          3,
          4,
          5,
          6
         ],
         "y": [
          1772,
          1281,
          959,
          873,
          933,
          961,
          1224
         ]
        },
        {
         "name": "tortillas flat bread",
         "type": "scatter",
         "x": [
          0,
          1,
          2,
          3,
          4,
          5,
          6
         ],
         "y": [
          2567,
          2027,
          1600,
          1367,
          1396,
          1470,
          1655
         ]
        },
        {
         "name": "trail mix snack mix",
         "type": "scatter",
         "x": [
          0,
          1,
          2,
          3,
          4,
          5,
          6
         ],
         "y": [
          276,
          496,
          368,
          292,
          273,
          346,
          187
         ]
        },
        {
         "name": "trash bags liners",
         "type": "scatter",
         "x": [
          0,
          1,
          2,
          3,
          4,
          5,
          6
         ],
         "y": [
          351,
          307,
          285,
          262,
          262,
          261,
          292
         ]
        },
        {
         "name": "vitamins supplements",
         "type": "scatter",
         "x": [
          0,
          1,
          2,
          3,
          4,
          5,
          6
         ],
         "y": [
          503,
          484,
          405,
          382,
          367,
          381,
          390
         ]
        },
        {
         "name": "water seltzer sparkling water",
         "type": "scatter",
         "x": [
          0,
          1,
          2,
          3,
          4,
          5,
          6
         ],
         "y": [
          8588,
          9610,
          7378,
          6701,
          6605,
          7327,
          6355
         ]
        },
        {
         "name": "white wines",
         "type": "scatter",
         "x": [
          0,
          1,
          2,
          3,
          4,
          5,
          6
         ],
         "y": [
          254,
          248,
          258,
          270,
          281,
          315,
          267
         ]
        },
        {
         "name": "yogurt",
         "type": "scatter",
         "x": [
          0,
          1,
          2,
          3,
          4,
          5,
          6
         ],
         "y": [
          17192,
          16725,
          12144,
          10712,
          10160,
          11862,
          11956
         ]
        }
       ],
       "layout": {
        "template": {
         "data": {
          "bar": [
           {
            "error_x": {
             "color": "#2a3f5f"
            },
            "error_y": {
             "color": "#2a3f5f"
            },
            "marker": {
             "line": {
              "color": "#E5ECF6",
              "width": 0.5
             }
            },
            "type": "bar"
           }
          ],
          "barpolar": [
           {
            "marker": {
             "line": {
              "color": "#E5ECF6",
              "width": 0.5
             }
            },
            "type": "barpolar"
           }
          ],
          "carpet": [
           {
            "aaxis": {
             "endlinecolor": "#2a3f5f",
             "gridcolor": "white",
             "linecolor": "white",
             "minorgridcolor": "white",
             "startlinecolor": "#2a3f5f"
            },
            "baxis": {
             "endlinecolor": "#2a3f5f",
             "gridcolor": "white",
             "linecolor": "white",
             "minorgridcolor": "white",
             "startlinecolor": "#2a3f5f"
            },
            "type": "carpet"
           }
          ],
          "choropleth": [
           {
            "colorbar": {
             "outlinewidth": 0,
             "ticks": ""
            },
            "type": "choropleth"
           }
          ],
          "contour": [
           {
            "colorbar": {
             "outlinewidth": 0,
             "ticks": ""
            },
            "colorscale": [
             [
              0,
              "#0d0887"
             ],
             [
              0.1111111111111111,
              "#46039f"
             ],
             [
              0.2222222222222222,
              "#7201a8"
             ],
             [
              0.3333333333333333,
              "#9c179e"
             ],
             [
              0.4444444444444444,
              "#bd3786"
             ],
             [
              0.5555555555555556,
              "#d8576b"
             ],
             [
              0.6666666666666666,
              "#ed7953"
             ],
             [
              0.7777777777777778,
              "#fb9f3a"
             ],
             [
              0.8888888888888888,
              "#fdca26"
             ],
             [
              1,
              "#f0f921"
             ]
            ],
            "type": "contour"
           }
          ],
          "contourcarpet": [
           {
            "colorbar": {
             "outlinewidth": 0,
             "ticks": ""
            },
            "type": "contourcarpet"
           }
          ],
          "heatmap": [
           {
            "colorbar": {
             "outlinewidth": 0,
             "ticks": ""
            },
            "colorscale": [
             [
              0,
              "#0d0887"
             ],
             [
              0.1111111111111111,
              "#46039f"
             ],
             [
              0.2222222222222222,
              "#7201a8"
             ],
             [
              0.3333333333333333,
              "#9c179e"
             ],
             [
              0.4444444444444444,
              "#bd3786"
             ],
             [
              0.5555555555555556,
              "#d8576b"
             ],
             [
              0.6666666666666666,
              "#ed7953"
             ],
             [
              0.7777777777777778,
              "#fb9f3a"
             ],
             [
              0.8888888888888888,
              "#fdca26"
             ],
             [
              1,
              "#f0f921"
             ]
            ],
            "type": "heatmap"
           }
          ],
          "heatmapgl": [
           {
            "colorbar": {
             "outlinewidth": 0,
             "ticks": ""
            },
            "colorscale": [
             [
              0,
              "#0d0887"
             ],
             [
              0.1111111111111111,
              "#46039f"
             ],
             [
              0.2222222222222222,
              "#7201a8"
             ],
             [
              0.3333333333333333,
              "#9c179e"
             ],
             [
              0.4444444444444444,
              "#bd3786"
             ],
             [
              0.5555555555555556,
              "#d8576b"
             ],
             [
              0.6666666666666666,
              "#ed7953"
             ],
             [
              0.7777777777777778,
              "#fb9f3a"
             ],
             [
              0.8888888888888888,
              "#fdca26"
             ],
             [
              1,
              "#f0f921"
             ]
            ],
            "type": "heatmapgl"
           }
          ],
          "histogram": [
           {
            "marker": {
             "colorbar": {
              "outlinewidth": 0,
              "ticks": ""
             }
            },
            "type": "histogram"
           }
          ],
          "histogram2d": [
           {
            "colorbar": {
             "outlinewidth": 0,
             "ticks": ""
            },
            "colorscale": [
             [
              0,
              "#0d0887"
             ],
             [
              0.1111111111111111,
              "#46039f"
             ],
             [
              0.2222222222222222,
              "#7201a8"
             ],
             [
              0.3333333333333333,
              "#9c179e"
             ],
             [
              0.4444444444444444,
              "#bd3786"
             ],
             [
              0.5555555555555556,
              "#d8576b"
             ],
             [
              0.6666666666666666,
              "#ed7953"
             ],
             [
              0.7777777777777778,
              "#fb9f3a"
             ],
             [
              0.8888888888888888,
              "#fdca26"
             ],
             [
              1,
              "#f0f921"
             ]
            ],
            "type": "histogram2d"
           }
          ],
          "histogram2dcontour": [
           {
            "colorbar": {
             "outlinewidth": 0,
             "ticks": ""
            },
            "colorscale": [
             [
              0,
              "#0d0887"
             ],
             [
              0.1111111111111111,
              "#46039f"
             ],
             [
              0.2222222222222222,
              "#7201a8"
             ],
             [
              0.3333333333333333,
              "#9c179e"
             ],
             [
              0.4444444444444444,
              "#bd3786"
             ],
             [
              0.5555555555555556,
              "#d8576b"
             ],
             [
              0.6666666666666666,
              "#ed7953"
             ],
             [
              0.7777777777777778,
              "#fb9f3a"
             ],
             [
              0.8888888888888888,
              "#fdca26"
             ],
             [
              1,
              "#f0f921"
             ]
            ],
            "type": "histogram2dcontour"
           }
          ],
          "mesh3d": [
           {
            "colorbar": {
             "outlinewidth": 0,
             "ticks": ""
            },
            "type": "mesh3d"
           }
          ],
          "parcoords": [
           {
            "line": {
             "colorbar": {
              "outlinewidth": 0,
              "ticks": ""
             }
            },
            "type": "parcoords"
           }
          ],
          "pie": [
           {
            "automargin": true,
            "type": "pie"
           }
          ],
          "scatter": [
           {
            "marker": {
             "colorbar": {
              "outlinewidth": 0,
              "ticks": ""
             }
            },
            "type": "scatter"
           }
          ],
          "scatter3d": [
           {
            "line": {
             "colorbar": {
              "outlinewidth": 0,
              "ticks": ""
             }
            },
            "marker": {
             "colorbar": {
              "outlinewidth": 0,
              "ticks": ""
             }
            },
            "type": "scatter3d"
           }
          ],
          "scattercarpet": [
           {
            "marker": {
             "colorbar": {
              "outlinewidth": 0,
              "ticks": ""
             }
            },
            "type": "scattercarpet"
           }
          ],
          "scattergeo": [
           {
            "marker": {
             "colorbar": {
              "outlinewidth": 0,
              "ticks": ""
             }
            },
            "type": "scattergeo"
           }
          ],
          "scattergl": [
           {
            "marker": {
             "colorbar": {
              "outlinewidth": 0,
              "ticks": ""
             }
            },
            "type": "scattergl"
           }
          ],
          "scattermapbox": [
           {
            "marker": {
             "colorbar": {
              "outlinewidth": 0,
              "ticks": ""
             }
            },
            "type": "scattermapbox"
           }
          ],
          "scatterpolar": [
           {
            "marker": {
             "colorbar": {
              "outlinewidth": 0,
              "ticks": ""
             }
            },
            "type": "scatterpolar"
           }
          ],
          "scatterpolargl": [
           {
            "marker": {
             "colorbar": {
              "outlinewidth": 0,
              "ticks": ""
             }
            },
            "type": "scatterpolargl"
           }
          ],
          "scatterternary": [
           {
            "marker": {
             "colorbar": {
              "outlinewidth": 0,
              "ticks": ""
             }
            },
            "type": "scatterternary"
           }
          ],
          "surface": [
           {
            "colorbar": {
             "outlinewidth": 0,
             "ticks": ""
            },
            "colorscale": [
             [
              0,
              "#0d0887"
             ],
             [
              0.1111111111111111,
              "#46039f"
             ],
             [
              0.2222222222222222,
              "#7201a8"
             ],
             [
              0.3333333333333333,
              "#9c179e"
             ],
             [
              0.4444444444444444,
              "#bd3786"
             ],
             [
              0.5555555555555556,
              "#d8576b"
             ],
             [
              0.6666666666666666,
              "#ed7953"
             ],
             [
              0.7777777777777778,
              "#fb9f3a"
             ],
             [
              0.8888888888888888,
              "#fdca26"
             ],
             [
              1,
              "#f0f921"
             ]
            ],
            "type": "surface"
           }
          ],
          "table": [
           {
            "cells": {
             "fill": {
              "color": "#EBF0F8"
             },
             "line": {
              "color": "white"
             }
            },
            "header": {
             "fill": {
              "color": "#C8D4E3"
             },
             "line": {
              "color": "white"
             }
            },
            "type": "table"
           }
          ]
         },
         "layout": {
          "annotationdefaults": {
           "arrowcolor": "#2a3f5f",
           "arrowhead": 0,
           "arrowwidth": 1
          },
          "autotypenumbers": "strict",
          "coloraxis": {
           "colorbar": {
            "outlinewidth": 0,
            "ticks": ""
           }
          },
          "colorscale": {
           "diverging": [
            [
             0,
             "#8e0152"
            ],
            [
             0.1,
             "#c51b7d"
            ],
            [
             0.2,
             "#de77ae"
            ],
            [
             0.3,
             "#f1b6da"
            ],
            [
             0.4,
             "#fde0ef"
            ],
            [
             0.5,
             "#f7f7f7"
            ],
            [
             0.6,
             "#e6f5d0"
            ],
            [
             0.7,
             "#b8e186"
            ],
            [
             0.8,
             "#7fbc41"
            ],
            [
             0.9,
             "#4d9221"
            ],
            [
             1,
             "#276419"
            ]
           ],
           "sequential": [
            [
             0,
             "#0d0887"
            ],
            [
             0.1111111111111111,
             "#46039f"
            ],
            [
             0.2222222222222222,
             "#7201a8"
            ],
            [
             0.3333333333333333,
             "#9c179e"
            ],
            [
             0.4444444444444444,
             "#bd3786"
            ],
            [
             0.5555555555555556,
             "#d8576b"
            ],
            [
             0.6666666666666666,
             "#ed7953"
            ],
            [
             0.7777777777777778,
             "#fb9f3a"
            ],
            [
             0.8888888888888888,
             "#fdca26"
            ],
            [
             1,
             "#f0f921"
            ]
           ],
           "sequentialminus": [
            [
             0,
             "#0d0887"
            ],
            [
             0.1111111111111111,
             "#46039f"
            ],
            [
             0.2222222222222222,
             "#7201a8"
            ],
            [
             0.3333333333333333,
             "#9c179e"
            ],
            [
             0.4444444444444444,
             "#bd3786"
            ],
            [
             0.5555555555555556,
             "#d8576b"
            ],
            [
             0.6666666666666666,
             "#ed7953"
            ],
            [
             0.7777777777777778,
             "#fb9f3a"
            ],
            [
             0.8888888888888888,
             "#fdca26"
            ],
            [
             1,
             "#f0f921"
            ]
           ]
          },
          "colorway": [
           "#636efa",
           "#EF553B",
           "#00cc96",
           "#ab63fa",
           "#FFA15A",
           "#19d3f3",
           "#FF6692",
           "#B6E880",
           "#FF97FF",
           "#FECB52"
          ],
          "font": {
           "color": "#2a3f5f"
          },
          "geo": {
           "bgcolor": "white",
           "lakecolor": "white",
           "landcolor": "#E5ECF6",
           "showlakes": true,
           "showland": true,
           "subunitcolor": "white"
          },
          "hoverlabel": {
           "align": "left"
          },
          "hovermode": "closest",
          "mapbox": {
           "style": "light"
          },
          "paper_bgcolor": "white",
          "plot_bgcolor": "#E5ECF6",
          "polar": {
           "angularaxis": {
            "gridcolor": "white",
            "linecolor": "white",
            "ticks": ""
           },
           "bgcolor": "#E5ECF6",
           "radialaxis": {
            "gridcolor": "white",
            "linecolor": "white",
            "ticks": ""
           }
          },
          "scene": {
           "xaxis": {
            "backgroundcolor": "#E5ECF6",
            "gridcolor": "white",
            "gridwidth": 2,
            "linecolor": "white",
            "showbackground": true,
            "ticks": "",
            "zerolinecolor": "white"
           },
           "yaxis": {
            "backgroundcolor": "#E5ECF6",
            "gridcolor": "white",
            "gridwidth": 2,
            "linecolor": "white",
            "showbackground": true,
            "ticks": "",
            "zerolinecolor": "white"
           },
           "zaxis": {
            "backgroundcolor": "#E5ECF6",
            "gridcolor": "white",
            "gridwidth": 2,
            "linecolor": "white",
            "showbackground": true,
            "ticks": "",
            "zerolinecolor": "white"
           }
          },
          "shapedefaults": {
           "line": {
            "color": "#2a3f5f"
           }
          },
          "ternary": {
           "aaxis": {
            "gridcolor": "white",
            "linecolor": "white",
            "ticks": ""
           },
           "baxis": {
            "gridcolor": "white",
            "linecolor": "white",
            "ticks": ""
           },
           "bgcolor": "#E5ECF6",
           "caxis": {
            "gridcolor": "white",
            "linecolor": "white",
            "ticks": ""
           }
          },
          "title": {
           "x": 0.05
          },
          "xaxis": {
           "automargin": true,
           "gridcolor": "white",
           "linecolor": "white",
           "ticks": "",
           "title": {
            "standoff": 15
           },
           "zerolinecolor": "white",
           "zerolinewidth": 2
          },
          "yaxis": {
           "automargin": true,
           "gridcolor": "white",
           "linecolor": "white",
           "ticks": "",
           "title": {
            "standoff": 15
           },
           "zerolinecolor": "white",
           "zerolinewidth": 2
          }
         }
        },
        "title": {
         "text": "Frequency purchases per day of the day"
        },
        "xaxis": {
         "title": {
          "text": "Day of the week"
         }
        },
        "yaxis": {
         "title": {
          "text": "Total Frequency"
         }
        }
       }
      },
      "text/html": [
       "<div>                            <div id=\"7f75e230-3b6e-425b-b53b-14aa6707cd9b\" class=\"plotly-graph-div\" style=\"height:525px; width:100%;\"></div>            <script type=\"text/javascript\">                require([\"plotly\"], function(Plotly) {                    window.PLOTLYENV=window.PLOTLYENV || {};                                    if (document.getElementById(\"7f75e230-3b6e-425b-b53b-14aa6707cd9b\")) {                    Plotly.newPlot(                        \"7f75e230-3b6e-425b-b53b-14aa6707cd9b\",                        [{\"name\": \"air fresheners candles\", \"type\": \"scatter\", \"x\": [0, 1, 2, 3, 4, 5, 6], \"y\": [205, 170, 170, 156, 151, 184, 222]}, {\"name\": \"asian foods\", \"type\": \"scatter\", \"x\": [0, 1, 2, 3, 4, 5, 6], \"y\": [1983, 1795, 1365, 1284, 1194, 1315, 1490]}, {\"name\": \"baby accessories\", \"type\": \"scatter\", \"x\": [0, 1, 2, 3, 4, 5, 6], \"y\": [81, 83, 63, 75, 66, 62, 74]}, {\"name\": \"baby bath body care\", \"type\": \"scatter\", \"x\": [0, 1, 2, 3, 4, 5, 6], \"y\": [94, 89, 64, 61, 65, 82, 60]}, {\"name\": \"baby food formula\", \"type\": \"scatter\", \"x\": [0, 1, 2, 3, 4, 5, 6], \"y\": [4745, 4009, 3006, 2816, 2945, 2857, 2977]}, {\"name\": \"bakery desserts\", \"type\": \"scatter\", \"x\": [0, 1, 2, 3, 4, 5, 6], \"y\": [372, 338, 313, 280, 281, 314, 316]}, {\"name\": \"baking ingredients\", \"type\": \"scatter\", \"x\": [0, 1, 2, 3, 4, 5, 6], \"y\": [3714, 3135, 2538, 2350, 2616, 2767, 3017]}, {\"name\": \"baking supplies decor\", \"type\": \"scatter\", \"x\": [0, 1, 2, 3, 4, 5, 6], \"y\": [254, 185, 206, 185, 186, 212, 223]}, {\"name\": \"beauty\", \"type\": \"scatter\", \"x\": [0, 1, 2, 3, 4, 5, 6], \"y\": [72, 70, 40, 64, 48, 40, 53]}, {\"name\": \"beers coolers\", \"type\": \"scatter\", \"x\": [0, 1, 2, 3, 4, 5, 6], \"y\": [238, 377, 354, 518, 626, 610, 279]}, {\"name\": \"body lotions soap\", \"type\": \"scatter\", \"x\": [0, 1, 2, 3, 4, 5, 6], \"y\": [499, 399, 308, 269, 327, 304, 401]}, {\"name\": \"bread\", \"type\": \"scatter\", \"x\": [0, 1, 2, 3, 4, 5, 6], \"y\": [7193, 6266, 4602, 4247, 4144, 4826, 5103]}, {\"name\": \"breakfast bakery\", \"type\": \"scatter\", \"x\": [0, 1, 2, 3, 4, 5, 6], \"y\": [2741, 2794, 2124, 1836, 1798, 2116, 1948]}, {\"name\": \"breakfast bars pastries\", \"type\": \"scatter\", \"x\": [0, 1, 2, 3, 4, 5, 6], \"y\": [790, 903, 599, 631, 584, 594, 520]}, {\"name\": \"bulk dried fruits vegetables\", \"type\": \"scatter\", \"x\": [0, 1, 2, 3, 4, 5, 6], \"y\": [173, 186, 158, 132, 140, 144, 126]}, {\"name\": \"bulk grains rice dried goods\", \"type\": \"scatter\", \"x\": [0, 1, 2, 3, 4, 5, 6], \"y\": [216, 181, 124, 136, 125, 140, 152]}, {\"name\": \"buns rolls\", \"type\": \"scatter\", \"x\": [0, 1, 2, 3, 4, 5, 6], \"y\": [1426, 1058, 810, 828, 754, 977, 1096]}, {\"name\": \"butter\", \"type\": \"scatter\", \"x\": [0, 1, 2, 3, 4, 5, 6], \"y\": [3076, 2453, 2046, 1860, 1837, 2139, 2324]}, {\"name\": \"candy chocolate\", \"type\": \"scatter\", \"x\": [0, 1, 2, 3, 4, 5, 6], \"y\": [2640, 3426, 2824, 2437, 2492, 2706, 2210]}, {\"name\": \"canned fruit applesauce\", \"type\": \"scatter\", \"x\": [0, 1, 2, 3, 4, 5, 6], \"y\": [1080, 940, 732, 629, 605, 697, 775]}, {\"name\": \"canned jarred vegetables\", \"type\": \"scatter\", \"x\": [0, 1, 2, 3, 4, 5, 6], \"y\": [4120, 2927, 2152, 1979, 1891, 2228, 2728]}, {\"name\": \"canned meals beans\", \"type\": \"scatter\", \"x\": [0, 1, 2, 3, 4, 5, 6], \"y\": [3858, 2826, 2098, 1729, 1672, 2038, 2597]}, {\"name\": \"canned meat seafood\", \"type\": \"scatter\", \"x\": [0, 1, 2, 3, 4, 5, 6], \"y\": [841, 640, 524, 521, 483, 573, 630]}, {\"name\": \"cat food care\", \"type\": \"scatter\", \"x\": [0, 1, 2, 3, 4, 5, 6], \"y\": [687, 529, 394, 551, 464, 579, 631]}, {\"name\": \"cereal\", \"type\": \"scatter\", \"x\": [0, 1, 2, 3, 4, 5, 6], \"y\": [4326, 4178, 3190, 2882, 2846, 3210, 3122]}, {\"name\": \"chips pretzels\", \"type\": \"scatter\", \"x\": [0, 1, 2, 3, 4, 5, 6], \"y\": [7944, 7909, 5979, 5588, 5644, 6185, 6057]}, {\"name\": \"cleaning products\", \"type\": \"scatter\", \"x\": [0, 1, 2, 3, 4, 5, 6], \"y\": [1220, 1186, 975, 987, 1078, 986, 997]}, {\"name\": \"cocoa drink mixes\", \"type\": \"scatter\", \"x\": [0, 1, 2, 3, 4, 5, 6], \"y\": [244, 212, 200, 155, 147, 186, 188]}, {\"name\": \"coffee\", \"type\": \"scatter\", \"x\": [0, 1, 2, 3, 4, 5, 6], \"y\": [2139, 2367, 1785, 1656, 1534, 1743, 1599]}, {\"name\": \"cold flu allergy\", \"type\": \"scatter\", \"x\": [0, 1, 2, 3, 4, 5, 6], \"y\": [228, 267, 219, 198, 221, 233, 223]}, {\"name\": \"condiments\", \"type\": \"scatter\", \"x\": [0, 1, 2, 3, 4, 5, 6], \"y\": [2602, 2200, 1807, 1660, 1634, 1805, 2052]}, {\"name\": \"cookies cakes\", \"type\": \"scatter\", \"x\": [0, 1, 2, 3, 4, 5, 6], \"y\": [2343, 2656, 1970, 2011, 1894, 2009, 1862]}, {\"name\": \"crackers\", \"type\": \"scatter\", \"x\": [0, 1, 2, 3, 4, 5, 6], \"y\": [5231, 5079, 3822, 3531, 3460, 3782, 3669]}, {\"name\": \"cream\", \"type\": \"scatter\", \"x\": [0, 1, 2, 3, 4, 5, 6], \"y\": [3189, 3671, 2736, 2408, 2432, 2837, 2513]}, {\"name\": \"deodorants\", \"type\": \"scatter\", \"x\": [0, 1, 2, 3, 4, 5, 6], \"y\": [189, 123, 107, 135, 90, 106, 174]}, {\"name\": \"diapers wipes\", \"type\": \"scatter\", \"x\": [0, 1, 2, 3, 4, 5, 6], \"y\": [261, 266, 207, 216, 216, 226, 174]}, {\"name\": \"digestion\", \"type\": \"scatter\", \"x\": [0, 1, 2, 3, 4, 5, 6], \"y\": [320, 281, 225, 227, 202, 251, 221]}, {\"name\": \"dish detergents\", \"type\": \"scatter\", \"x\": [0, 1, 2, 3, 4, 5, 6], \"y\": [1063, 994, 755, 717, 762, 768, 808]}, {\"name\": \"dog food care\", \"type\": \"scatter\", \"x\": [0, 1, 2, 3, 4, 5, 6], \"y\": [384, 341, 260, 295, 277, 280, 341]}, {\"name\": \"doughs gelatins bake mixes\", \"type\": \"scatter\", \"x\": [0, 1, 2, 3, 4, 5, 6], \"y\": [1175, 1016, 830, 812, 770, 1011, 1079]}, {\"name\": \"dry pasta\", \"type\": \"scatter\", \"x\": [0, 1, 2, 3, 4, 5, 6], \"y\": [3604, 2723, 2058, 1875, 1775, 1977, 2402]}, {\"name\": \"eggs\", \"type\": \"scatter\", \"x\": [0, 1, 2, 3, 4, 5, 6], \"y\": [5970, 4615, 3450, 3161, 3107, 3538, 4145]}, {\"name\": \"energy granola bars\", \"type\": \"scatter\", \"x\": [0, 1, 2, 3, 4, 5, 6], \"y\": [4986, 6058, 4004, 3507, 3390, 3671, 3023]}, {\"name\": \"energy sports drinks\", \"type\": \"scatter\", \"x\": [0, 1, 2, 3, 4, 5, 6], \"y\": [1195, 1150, 833, 899, 798, 832, 931]}, {\"name\": \"eye ear care\", \"type\": \"scatter\", \"x\": [0, 1, 2, 3, 4, 5, 6], \"y\": [92, 101, 77, 63, 89, 75, 101]}, {\"name\": \"facial care\", \"type\": \"scatter\", \"x\": [0, 1, 2, 3, 4, 5, 6], \"y\": [163, 151, 96, 102, 94, 115, 122]}, {\"name\": \"feminine care\", \"type\": \"scatter\", \"x\": [0, 1, 2, 3, 4, 5, 6], \"y\": [202, 201, 186, 167, 164, 196, 180]}, {\"name\": \"first aid\", \"type\": \"scatter\", \"x\": [0, 1, 2, 3, 4, 5, 6], \"y\": [100, 105, 122, 85, 85, 89, 107]}, {\"name\": \"food storage\", \"type\": \"scatter\", \"x\": [0, 1, 2, 3, 4, 5, 6], \"y\": [785, 714, 572, 443, 512, 553, 565]}, {\"name\": \"fresh dips tapenades\", \"type\": \"scatter\", \"x\": [0, 1, 2, 3, 4, 5, 6], \"y\": [4222, 3830, 2858, 2593, 2623, 2943, 3106]}, {\"name\": \"fresh fruits\", \"type\": \"scatter\", \"x\": [0, 1, 2, 3, 4, 5, 6], \"y\": [44727, 41126, 28830, 26102, 25744, 29265, 30245]}, {\"name\": \"fresh herbs\", \"type\": \"scatter\", \"x\": [0, 1, 2, 3, 4, 5, 6], \"y\": [5020, 3725, 2784, 2510, 2649, 2954, 3700]}, {\"name\": \"fresh pasta\", \"type\": \"scatter\", \"x\": [0, 1, 2, 3, 4, 5, 6], \"y\": [520, 411, 305, 268, 221, 272, 343]}, {\"name\": \"fresh vegetables\", \"type\": \"scatter\", \"x\": [0, 1, 2, 3, 4, 5, 6], \"y\": [46643, 36440, 26481, 23243, 22914, 25059, 31831]}, {\"name\": \"frozen appetizers sides\", \"type\": \"scatter\", \"x\": [0, 1, 2, 3, 4, 5, 6], \"y\": [2429, 1951, 1515, 1406, 1459, 1562, 1856]}, {\"name\": \"frozen breads doughs\", \"type\": \"scatter\", \"x\": [0, 1, 2, 3, 4, 5, 6], \"y\": [480, 400, 293, 301, 307, 339, 366]}, {\"name\": \"frozen breakfast\", \"type\": \"scatter\", \"x\": [0, 1, 2, 3, 4, 5, 6], \"y\": [3008, 2376, 1845, 1630, 1609, 1831, 2047]}, {\"name\": \"frozen dessert\", \"type\": \"scatter\", \"x\": [0, 1, 2, 3, 4, 5, 6], \"y\": [215, 160, 156, 132, 177, 138, 212]}, {\"name\": \"frozen juice\", \"type\": \"scatter\", \"x\": [0, 1, 2, 3, 4, 5, 6], \"y\": [51, 39, 35, 37, 41, 35, 41]}, {\"name\": \"frozen meals\", \"type\": \"scatter\", \"x\": [0, 1, 2, 3, 4, 5, 6], \"y\": [4879, 4007, 3107, 2964, 2719, 2968, 3805]}, {\"name\": \"frozen meat seafood\", \"type\": \"scatter\", \"x\": [0, 1, 2, 3, 4, 5, 6], \"y\": [867, 688, 557, 542, 522, 591, 641]}, {\"name\": \"frozen pizza\", \"type\": \"scatter\", \"x\": [0, 1, 2, 3, 4, 5, 6], \"y\": [2007, 1620, 1210, 1228, 1118, 1400, 1541]}, {\"name\": \"frozen produce\", \"type\": \"scatter\", \"x\": [0, 1, 2, 3, 4, 5, 6], \"y\": [6834, 5427, 4002, 3809, 3553, 4003, 4804]}, {\"name\": \"frozen vegan vegetarian\", \"type\": \"scatter\", \"x\": [0, 1, 2, 3, 4, 5, 6], \"y\": [1301, 995, 802, 720, 726, 836, 941]}, {\"name\": \"fruit vegetable snacks\", \"type\": \"scatter\", \"x\": [0, 1, 2, 3, 4, 5, 6], \"y\": [2006, 2068, 1539, 1401, 1271, 1372, 1274]}, {\"name\": \"grains rice dried goods\", \"type\": \"scatter\", \"x\": [0, 1, 2, 3, 4, 5, 6], \"y\": [1825, 1461, 1204, 1077, 1014, 1045, 1252]}, {\"name\": \"granola\", \"type\": \"scatter\", \"x\": [0, 1, 2, 3, 4, 5, 6], \"y\": [1142, 1250, 925, 782, 721, 894, 696]}, {\"name\": \"hair care\", \"type\": \"scatter\", \"x\": [0, 1, 2, 3, 4, 5, 6], \"y\": [402, 298, 220, 212, 220, 258, 299]}, {\"name\": \"honeys syrups nectars\", \"type\": \"scatter\", \"x\": [0, 1, 2, 3, 4, 5, 6], \"y\": [679, 721, 603, 567, 476, 586, 524]}, {\"name\": \"hot cereal pancake mixes\", \"type\": \"scatter\", \"x\": [0, 1, 2, 3, 4, 5, 6], \"y\": [1891, 1689, 1291, 1163, 1143, 1284, 1359]}, {\"name\": \"hot dogs bacon sausage\", \"type\": \"scatter\", \"x\": [0, 1, 2, 3, 4, 5, 6], \"y\": [3772, 3010, 2331, 2136, 2136, 2636, 3016]}, {\"name\": \"ice cream ice\", \"type\": \"scatter\", \"x\": [0, 1, 2, 3, 4, 5, 6], \"y\": [5851, 4563, 3840, 3832, 3657, 4445, 5135]}, {\"name\": \"ice cream toppings\", \"type\": \"scatter\", \"x\": [0, 1, 2, 3, 4, 5, 6], \"y\": [111, 105, 106, 79, 111, 85, 109]}, {\"name\": \"indian foods\", \"type\": \"scatter\", \"x\": [0, 1, 2, 3, 4, 5, 6], \"y\": [202, 152, 102, 111, 120, 133, 143]}, {\"name\": \"instant foods\", \"type\": \"scatter\", \"x\": [0, 1, 2, 3, 4, 5, 6], \"y\": [2628, 2123, 1683, 1447, 1351, 1516, 1903]}, {\"name\": \"juice nectars\", \"type\": \"scatter\", \"x\": [0, 1, 2, 3, 4, 5, 6], \"y\": [3629, 3334, 2797, 2535, 2594, 2912, 2914]}, {\"name\": \"kitchen supplies\", \"type\": \"scatter\", \"x\": [0, 1, 2, 3, 4, 5, 6], \"y\": [74, 72, 75, 82, 96, 78, 84]}, {\"name\": \"kosher foods\", \"type\": \"scatter\", \"x\": [0, 1, 2, 3, 4, 5, 6], \"y\": [114, 109, 92, 99, 98, 98, 87]}, {\"name\": \"latino foods\", \"type\": \"scatter\", \"x\": [0, 1, 2, 3, 4, 5, 6], \"y\": [1130, 802, 603, 464, 466, 527, 660]}, {\"name\": \"laundry\", \"type\": \"scatter\", \"x\": [0, 1, 2, 3, 4, 5, 6], \"y\": [1068, 958, 813, 770, 717, 744, 834]}, {\"name\": \"lunch meat\", \"type\": \"scatter\", \"x\": [0, 1, 2, 3, 4, 5, 6], \"y\": [5060, 4224, 3134, 2852, 2746, 3155, 3299]}, {\"name\": \"marinades meat preparation\", \"type\": \"scatter\", \"x\": [0, 1, 2, 3, 4, 5, 6], \"y\": [770, 595, 538, 441, 433, 483, 576]}, {\"name\": \"meat counter\", \"type\": \"scatter\", \"x\": [0, 1, 2, 3, 4, 5, 6], \"y\": [1004, 744, 521, 469, 454, 526, 754]}, {\"name\": \"milk\", \"type\": \"scatter\", \"x\": [0, 1, 2, 3, 4, 5, 6], \"y\": [10113, 9779, 7337, 6562, 6727, 7450, 7182]}, {\"name\": \"mint gum\", \"type\": \"scatter\", \"x\": [0, 1, 2, 3, 4, 5, 6], \"y\": [135, 261, 247, 232, 179, 185, 138]}, {\"name\": \"missing\", \"type\": \"scatter\", \"x\": [0, 1, 2, 3, 4, 5, 6], \"y\": [937, 747, 573, 575, 548, 679, 690]}, {\"name\": \"more household\", \"type\": \"scatter\", \"x\": [0, 1, 2, 3, 4, 5, 6], \"y\": [217, 176, 156, 139, 152, 168, 162]}, {\"name\": \"muscles joints pain relief\", \"type\": \"scatter\", \"x\": [0, 1, 2, 3, 4, 5, 6], \"y\": [218, 186, 184, 167, 159, 161, 181]}, {\"name\": \"nuts seeds dried fruit\", \"type\": \"scatter\", \"x\": [0, 1, 2, 3, 4, 5, 6], \"y\": [3257, 3494, 2598, 2444, 2354, 2467, 2412]}, {\"name\": \"oils vinegars\", \"type\": \"scatter\", \"x\": [0, 1, 2, 3, 4, 5, 6], \"y\": [2877, 2477, 1855, 1840, 1826, 1996, 2342]}, {\"name\": \"oral hygiene\", \"type\": \"scatter\", \"x\": [0, 1, 2, 3, 4, 5, 6], \"y\": [789, 653, 508, 418, 505, 527, 618]}, {\"name\": \"other\", \"type\": \"scatter\", \"x\": [0, 1, 2, 3, 4, 5, 6], \"y\": [406, 355, 295, 313, 248, 300, 323]}, {\"name\": \"other creams cheeses\", \"type\": \"scatter\", \"x\": [0, 1, 2, 3, 4, 5, 6], \"y\": [3711, 3156, 2430, 2239, 2261, 2599, 2695]}, {\"name\": \"packaged cheese\", \"type\": \"scatter\", \"x\": [0, 1, 2, 3, 4, 5, 6], \"y\": [12526, 10433, 7872, 7019, 7065, 7853, 8734]}, {\"name\": \"packaged meat\", \"type\": \"scatter\", \"x\": [0, 1, 2, 3, 4, 5, 6], \"y\": [387, 320, 260, 268, 241, 238, 306]}, {\"name\": \"packaged poultry\", \"type\": \"scatter\", \"x\": [0, 1, 2, 3, 4, 5, 6], \"y\": [1734, 1313, 926, 749, 771, 823, 1151]}, {\"name\": \"packaged produce\", \"type\": \"scatter\", \"x\": [0, 1, 2, 3, 4, 5, 6], \"y\": [2626, 3314, 2367, 2339, 2339, 2384, 2039]}, {\"name\": \"packaged seafood\", \"type\": \"scatter\", \"x\": [0, 1, 2, 3, 4, 5, 6], \"y\": [222, 207, 168, 158, 157, 181, 208]}, {\"name\": \"packaged vegetables fruits\", \"type\": \"scatter\", \"x\": [0, 1, 2, 3, 4, 5, 6], \"y\": [23169, 19230, 13919, 12316, 12168, 13526, 15268]}, {\"name\": \"paper goods\", \"type\": \"scatter\", \"x\": [0, 1, 2, 3, 4, 5, 6], \"y\": [2762, 2464, 2035, 1906, 1934, 2060, 2261]}, {\"name\": \"pasta sauce\", \"type\": \"scatter\", \"x\": [0, 1, 2, 3, 4, 5, 6], \"y\": [2919, 2416, 1687, 1576, 1480, 1651, 2042]}, {\"name\": \"pickled goods olives\", \"type\": \"scatter\", \"x\": [0, 1, 2, 3, 4, 5, 6], \"y\": [1372, 1087, 871, 838, 789, 911, 1057]}, {\"name\": \"plates bowls cups flatware\", \"type\": \"scatter\", \"x\": [0, 1, 2, 3, 4, 5, 6], \"y\": [351, 420, 362, 368, 410, 433, 327]}, {\"name\": \"popcorn jerky\", \"type\": \"scatter\", \"x\": [0, 1, 2, 3, 4, 5, 6], \"y\": [1733, 2021, 1443, 1302, 1195, 1411, 1310]}, {\"name\": \"poultry counter\", \"type\": \"scatter\", \"x\": [0, 1, 2, 3, 4, 5, 6], \"y\": [1991, 1470, 1051, 860, 802, 851, 1106]}, {\"name\": \"prepared meals\", \"type\": \"scatter\", \"x\": [0, 1, 2, 3, 4, 5, 6], \"y\": [1238, 1103, 795, 705, 690, 765, 848]}, {\"name\": \"prepared soups salads\", \"type\": \"scatter\", \"x\": [0, 1, 2, 3, 4, 5, 6], \"y\": [814, 809, 618, 528, 472, 570, 573]}, {\"name\": \"preserved dips spreads\", \"type\": \"scatter\", \"x\": [0, 1, 2, 3, 4, 5, 6], \"y\": [1395, 1101, 894, 786, 793, 862, 1035]}, {\"name\": \"protein meal replacements\", \"type\": \"scatter\", \"x\": [0, 1, 2, 3, 4, 5, 6], \"y\": [444, 384, 290, 290, 259, 306, 284]}, {\"name\": \"red wines\", \"type\": \"scatter\", \"x\": [0, 1, 2, 3, 4, 5, 6], \"y\": [270, 306, 311, 315, 312, 338, 283]}, {\"name\": \"refrigerated\", \"type\": \"scatter\", \"x\": [0, 1, 2, 3, 4, 5, 6], \"y\": [6452, 6291, 4620, 4372, 4430, 4905, 4823]}, {\"name\": \"refrigerated pudding desserts\", \"type\": \"scatter\", \"x\": [0, 1, 2, 3, 4, 5, 6], \"y\": [471, 338, 324, 281, 307, 341, 361]}, {\"name\": \"salad dressing toppings\", \"type\": \"scatter\", \"x\": [0, 1, 2, 3, 4, 5, 6], \"y\": [1223, 1038, 786, 658, 690, 772, 842]}, {\"name\": \"seafood counter\", \"type\": \"scatter\", \"x\": [0, 1, 2, 3, 4, 5, 6], \"y\": [410, 337, 242, 201, 187, 196, 270]}, {\"name\": \"shave needs\", \"type\": \"scatter\", \"x\": [0, 1, 2, 3, 4, 5, 6], \"y\": [124, 102, 82, 91, 67, 83, 97]}, {\"name\": \"skin care\", \"type\": \"scatter\", \"x\": [0, 1, 2, 3, 4, 5, 6], \"y\": [145, 92, 87, 76, 78, 85, 91]}, {\"name\": \"soap\", \"type\": \"scatter\", \"x\": [0, 1, 2, 3, 4, 5, 6], \"y\": [730, 613, 512, 462, 480, 561, 560]}, {\"name\": \"soft drinks\", \"type\": \"scatter\", \"x\": [0, 1, 2, 3, 4, 5, 6], \"y\": [3139, 3899, 3085, 2921, 3073, 3425, 2886]}, {\"name\": \"soup broth bouillon\", \"type\": \"scatter\", \"x\": [0, 1, 2, 3, 4, 5, 6], \"y\": [4402, 3602, 2794, 2454, 2358, 2563, 3367]}, {\"name\": \"soy lactosefree\", \"type\": \"scatter\", \"x\": [0, 1, 2, 3, 4, 5, 6], \"y\": [7457, 7019, 5236, 4737, 4547, 5023, 5370]}, {\"name\": \"specialty cheeses\", \"type\": \"scatter\", \"x\": [0, 1, 2, 3, 4, 5, 6], \"y\": [992, 745, 631, 570, 627, 758, 779]}, {\"name\": \"specialty wines champagnes\", \"type\": \"scatter\", \"x\": [0, 1, 2, 3, 4, 5, 6], \"y\": [75, 53, 74, 93, 92, 127, 100]}, {\"name\": \"spices seasonings\", \"type\": \"scatter\", \"x\": [0, 1, 2, 3, 4, 5, 6], \"y\": [2647, 2003, 1716, 1562, 1465, 1661, 2013]}, {\"name\": \"spirits\", \"type\": \"scatter\", \"x\": [0, 1, 2, 3, 4, 5, 6], \"y\": [226, 207, 201, 267, 296, 343, 255]}, {\"name\": \"spreads\", \"type\": \"scatter\", \"x\": [0, 1, 2, 3, 4, 5, 6], \"y\": [3418, 3224, 2429, 2272, 2108, 2351, 2347]}, {\"name\": \"tea\", \"type\": \"scatter\", \"x\": [0, 1, 2, 3, 4, 5, 6], \"y\": [2190, 2997, 2368, 2244, 2045, 2204, 1685]}, {\"name\": \"tofu meat alternatives\", \"type\": \"scatter\", \"x\": [0, 1, 2, 3, 4, 5, 6], \"y\": [1772, 1281, 959, 873, 933, 961, 1224]}, {\"name\": \"tortillas flat bread\", \"type\": \"scatter\", \"x\": [0, 1, 2, 3, 4, 5, 6], \"y\": [2567, 2027, 1600, 1367, 1396, 1470, 1655]}, {\"name\": \"trail mix snack mix\", \"type\": \"scatter\", \"x\": [0, 1, 2, 3, 4, 5, 6], \"y\": [276, 496, 368, 292, 273, 346, 187]}, {\"name\": \"trash bags liners\", \"type\": \"scatter\", \"x\": [0, 1, 2, 3, 4, 5, 6], \"y\": [351, 307, 285, 262, 262, 261, 292]}, {\"name\": \"vitamins supplements\", \"type\": \"scatter\", \"x\": [0, 1, 2, 3, 4, 5, 6], \"y\": [503, 484, 405, 382, 367, 381, 390]}, {\"name\": \"water seltzer sparkling water\", \"type\": \"scatter\", \"x\": [0, 1, 2, 3, 4, 5, 6], \"y\": [8588, 9610, 7378, 6701, 6605, 7327, 6355]}, {\"name\": \"white wines\", \"type\": \"scatter\", \"x\": [0, 1, 2, 3, 4, 5, 6], \"y\": [254, 248, 258, 270, 281, 315, 267]}, {\"name\": \"yogurt\", \"type\": \"scatter\", \"x\": [0, 1, 2, 3, 4, 5, 6], \"y\": [17192, 16725, 12144, 10712, 10160, 11862, 11956]}],                        {\"template\": {\"data\": {\"bar\": [{\"error_x\": {\"color\": \"#2a3f5f\"}, \"error_y\": {\"color\": \"#2a3f5f\"}, \"marker\": {\"line\": {\"color\": \"#E5ECF6\", \"width\": 0.5}}, \"type\": \"bar\"}], \"barpolar\": [{\"marker\": {\"line\": {\"color\": \"#E5ECF6\", \"width\": 0.5}}, \"type\": \"barpolar\"}], \"carpet\": [{\"aaxis\": {\"endlinecolor\": \"#2a3f5f\", \"gridcolor\": \"white\", \"linecolor\": \"white\", \"minorgridcolor\": \"white\", \"startlinecolor\": \"#2a3f5f\"}, \"baxis\": {\"endlinecolor\": \"#2a3f5f\", \"gridcolor\": \"white\", \"linecolor\": \"white\", \"minorgridcolor\": \"white\", \"startlinecolor\": \"#2a3f5f\"}, \"type\": \"carpet\"}], \"choropleth\": [{\"colorbar\": {\"outlinewidth\": 0, \"ticks\": \"\"}, \"type\": \"choropleth\"}], \"contour\": [{\"colorbar\": {\"outlinewidth\": 0, \"ticks\": \"\"}, \"colorscale\": [[0.0, \"#0d0887\"], [0.1111111111111111, \"#46039f\"], [0.2222222222222222, \"#7201a8\"], [0.3333333333333333, \"#9c179e\"], [0.4444444444444444, \"#bd3786\"], [0.5555555555555556, \"#d8576b\"], [0.6666666666666666, \"#ed7953\"], [0.7777777777777778, \"#fb9f3a\"], [0.8888888888888888, \"#fdca26\"], [1.0, \"#f0f921\"]], \"type\": \"contour\"}], \"contourcarpet\": [{\"colorbar\": {\"outlinewidth\": 0, \"ticks\": \"\"}, \"type\": \"contourcarpet\"}], \"heatmap\": [{\"colorbar\": {\"outlinewidth\": 0, \"ticks\": \"\"}, \"colorscale\": [[0.0, \"#0d0887\"], [0.1111111111111111, \"#46039f\"], [0.2222222222222222, \"#7201a8\"], [0.3333333333333333, \"#9c179e\"], [0.4444444444444444, \"#bd3786\"], [0.5555555555555556, \"#d8576b\"], [0.6666666666666666, \"#ed7953\"], [0.7777777777777778, \"#fb9f3a\"], [0.8888888888888888, \"#fdca26\"], [1.0, \"#f0f921\"]], \"type\": \"heatmap\"}], \"heatmapgl\": [{\"colorbar\": {\"outlinewidth\": 0, \"ticks\": \"\"}, \"colorscale\": [[0.0, \"#0d0887\"], [0.1111111111111111, \"#46039f\"], [0.2222222222222222, \"#7201a8\"], [0.3333333333333333, \"#9c179e\"], [0.4444444444444444, \"#bd3786\"], [0.5555555555555556, \"#d8576b\"], [0.6666666666666666, \"#ed7953\"], [0.7777777777777778, \"#fb9f3a\"], [0.8888888888888888, \"#fdca26\"], [1.0, \"#f0f921\"]], \"type\": \"heatmapgl\"}], \"histogram\": [{\"marker\": {\"colorbar\": {\"outlinewidth\": 0, \"ticks\": \"\"}}, \"type\": \"histogram\"}], \"histogram2d\": [{\"colorbar\": {\"outlinewidth\": 0, \"ticks\": \"\"}, \"colorscale\": [[0.0, \"#0d0887\"], [0.1111111111111111, \"#46039f\"], [0.2222222222222222, \"#7201a8\"], [0.3333333333333333, \"#9c179e\"], [0.4444444444444444, \"#bd3786\"], [0.5555555555555556, \"#d8576b\"], [0.6666666666666666, \"#ed7953\"], [0.7777777777777778, \"#fb9f3a\"], [0.8888888888888888, \"#fdca26\"], [1.0, \"#f0f921\"]], \"type\": \"histogram2d\"}], \"histogram2dcontour\": [{\"colorbar\": {\"outlinewidth\": 0, \"ticks\": \"\"}, \"colorscale\": [[0.0, \"#0d0887\"], [0.1111111111111111, \"#46039f\"], [0.2222222222222222, \"#7201a8\"], [0.3333333333333333, \"#9c179e\"], [0.4444444444444444, \"#bd3786\"], [0.5555555555555556, \"#d8576b\"], [0.6666666666666666, \"#ed7953\"], [0.7777777777777778, \"#fb9f3a\"], [0.8888888888888888, \"#fdca26\"], [1.0, \"#f0f921\"]], \"type\": \"histogram2dcontour\"}], \"mesh3d\": [{\"colorbar\": {\"outlinewidth\": 0, \"ticks\": \"\"}, \"type\": \"mesh3d\"}], \"parcoords\": [{\"line\": {\"colorbar\": {\"outlinewidth\": 0, \"ticks\": \"\"}}, \"type\": \"parcoords\"}], \"pie\": [{\"automargin\": true, \"type\": \"pie\"}], \"scatter\": [{\"marker\": {\"colorbar\": {\"outlinewidth\": 0, \"ticks\": \"\"}}, \"type\": \"scatter\"}], \"scatter3d\": [{\"line\": {\"colorbar\": {\"outlinewidth\": 0, \"ticks\": \"\"}}, \"marker\": {\"colorbar\": {\"outlinewidth\": 0, \"ticks\": \"\"}}, \"type\": \"scatter3d\"}], \"scattercarpet\": [{\"marker\": {\"colorbar\": {\"outlinewidth\": 0, \"ticks\": \"\"}}, \"type\": \"scattercarpet\"}], \"scattergeo\": [{\"marker\": {\"colorbar\": {\"outlinewidth\": 0, \"ticks\": \"\"}}, \"type\": \"scattergeo\"}], \"scattergl\": [{\"marker\": {\"colorbar\": {\"outlinewidth\": 0, \"ticks\": \"\"}}, \"type\": \"scattergl\"}], \"scattermapbox\": [{\"marker\": {\"colorbar\": {\"outlinewidth\": 0, \"ticks\": \"\"}}, \"type\": \"scattermapbox\"}], \"scatterpolar\": [{\"marker\": {\"colorbar\": {\"outlinewidth\": 0, \"ticks\": \"\"}}, \"type\": \"scatterpolar\"}], \"scatterpolargl\": [{\"marker\": {\"colorbar\": {\"outlinewidth\": 0, \"ticks\": \"\"}}, \"type\": \"scatterpolargl\"}], \"scatterternary\": [{\"marker\": {\"colorbar\": {\"outlinewidth\": 0, \"ticks\": \"\"}}, \"type\": \"scatterternary\"}], \"surface\": [{\"colorbar\": {\"outlinewidth\": 0, \"ticks\": \"\"}, \"colorscale\": [[0.0, \"#0d0887\"], [0.1111111111111111, \"#46039f\"], [0.2222222222222222, \"#7201a8\"], [0.3333333333333333, \"#9c179e\"], [0.4444444444444444, \"#bd3786\"], [0.5555555555555556, \"#d8576b\"], [0.6666666666666666, \"#ed7953\"], [0.7777777777777778, \"#fb9f3a\"], [0.8888888888888888, \"#fdca26\"], [1.0, \"#f0f921\"]], \"type\": \"surface\"}], \"table\": [{\"cells\": {\"fill\": {\"color\": \"#EBF0F8\"}, \"line\": {\"color\": \"white\"}}, \"header\": {\"fill\": {\"color\": \"#C8D4E3\"}, \"line\": {\"color\": \"white\"}}, \"type\": \"table\"}]}, \"layout\": {\"annotationdefaults\": {\"arrowcolor\": \"#2a3f5f\", \"arrowhead\": 0, \"arrowwidth\": 1}, \"autotypenumbers\": \"strict\", \"coloraxis\": {\"colorbar\": {\"outlinewidth\": 0, \"ticks\": \"\"}}, \"colorscale\": {\"diverging\": [[0, \"#8e0152\"], [0.1, \"#c51b7d\"], [0.2, \"#de77ae\"], [0.3, \"#f1b6da\"], [0.4, \"#fde0ef\"], [0.5, \"#f7f7f7\"], [0.6, \"#e6f5d0\"], [0.7, \"#b8e186\"], [0.8, \"#7fbc41\"], [0.9, \"#4d9221\"], [1, \"#276419\"]], \"sequential\": [[0.0, \"#0d0887\"], [0.1111111111111111, \"#46039f\"], [0.2222222222222222, \"#7201a8\"], [0.3333333333333333, \"#9c179e\"], [0.4444444444444444, \"#bd3786\"], [0.5555555555555556, \"#d8576b\"], [0.6666666666666666, \"#ed7953\"], [0.7777777777777778, \"#fb9f3a\"], [0.8888888888888888, \"#fdca26\"], [1.0, \"#f0f921\"]], \"sequentialminus\": [[0.0, \"#0d0887\"], [0.1111111111111111, \"#46039f\"], [0.2222222222222222, \"#7201a8\"], [0.3333333333333333, \"#9c179e\"], [0.4444444444444444, \"#bd3786\"], [0.5555555555555556, \"#d8576b\"], [0.6666666666666666, \"#ed7953\"], [0.7777777777777778, \"#fb9f3a\"], [0.8888888888888888, \"#fdca26\"], [1.0, \"#f0f921\"]]}, \"colorway\": [\"#636efa\", \"#EF553B\", \"#00cc96\", \"#ab63fa\", \"#FFA15A\", \"#19d3f3\", \"#FF6692\", \"#B6E880\", \"#FF97FF\", \"#FECB52\"], \"font\": {\"color\": \"#2a3f5f\"}, \"geo\": {\"bgcolor\": \"white\", \"lakecolor\": \"white\", \"landcolor\": \"#E5ECF6\", \"showlakes\": true, \"showland\": true, \"subunitcolor\": \"white\"}, \"hoverlabel\": {\"align\": \"left\"}, \"hovermode\": \"closest\", \"mapbox\": {\"style\": \"light\"}, \"paper_bgcolor\": \"white\", \"plot_bgcolor\": \"#E5ECF6\", \"polar\": {\"angularaxis\": {\"gridcolor\": \"white\", \"linecolor\": \"white\", \"ticks\": \"\"}, \"bgcolor\": \"#E5ECF6\", \"radialaxis\": {\"gridcolor\": \"white\", \"linecolor\": \"white\", \"ticks\": \"\"}}, \"scene\": {\"xaxis\": {\"backgroundcolor\": \"#E5ECF6\", \"gridcolor\": \"white\", \"gridwidth\": 2, \"linecolor\": \"white\", \"showbackground\": true, \"ticks\": \"\", \"zerolinecolor\": \"white\"}, \"yaxis\": {\"backgroundcolor\": \"#E5ECF6\", \"gridcolor\": \"white\", \"gridwidth\": 2, \"linecolor\": \"white\", \"showbackground\": true, \"ticks\": \"\", \"zerolinecolor\": \"white\"}, \"zaxis\": {\"backgroundcolor\": \"#E5ECF6\", \"gridcolor\": \"white\", \"gridwidth\": 2, \"linecolor\": \"white\", \"showbackground\": true, \"ticks\": \"\", \"zerolinecolor\": \"white\"}}, \"shapedefaults\": {\"line\": {\"color\": \"#2a3f5f\"}}, \"ternary\": {\"aaxis\": {\"gridcolor\": \"white\", \"linecolor\": \"white\", \"ticks\": \"\"}, \"baxis\": {\"gridcolor\": \"white\", \"linecolor\": \"white\", \"ticks\": \"\"}, \"bgcolor\": \"#E5ECF6\", \"caxis\": {\"gridcolor\": \"white\", \"linecolor\": \"white\", \"ticks\": \"\"}}, \"title\": {\"x\": 0.05}, \"xaxis\": {\"automargin\": true, \"gridcolor\": \"white\", \"linecolor\": \"white\", \"ticks\": \"\", \"title\": {\"standoff\": 15}, \"zerolinecolor\": \"white\", \"zerolinewidth\": 2}, \"yaxis\": {\"automargin\": true, \"gridcolor\": \"white\", \"linecolor\": \"white\", \"ticks\": \"\", \"title\": {\"standoff\": 15}, \"zerolinecolor\": \"white\", \"zerolinewidth\": 2}}}, \"title\": {\"text\": \"Frequency purchases per day of the day\"}, \"xaxis\": {\"title\": {\"text\": \"Day of the week\"}}, \"yaxis\": {\"title\": {\"text\": \"Total Frequency\"}}},                        {\"responsive\": true}                    ).then(function(){\n",
       "                            \n",
       "var gd = document.getElementById('7f75e230-3b6e-425b-b53b-14aa6707cd9b');\n",
       "var x = new MutationObserver(function (mutations, observer) {{\n",
       "        var display = window.getComputedStyle(gd).display;\n",
       "        if (!display || display === 'none') {{\n",
       "            console.log([gd, 'removed!']);\n",
       "            Plotly.purge(gd);\n",
       "            observer.disconnect();\n",
       "        }}\n",
       "}});\n",
       "\n",
       "// Listen for the removal of the full notebook cells\n",
       "var notebookContainer = gd.closest('#notebook-container');\n",
       "if (notebookContainer) {{\n",
       "    x.observe(notebookContainer, {childList: true});\n",
       "}}\n",
       "\n",
       "// Listen for the clearing of the current output cell\n",
       "var outputEl = gd.closest('.output');\n",
       "if (outputEl) {{\n",
       "    x.observe(outputEl, {childList: true});\n",
       "}}\n",
       "\n",
       "                        })                };                });            </script>        </div>"
      ]
     },
     "metadata": {},
     "output_type": "display_data"
    }
   ],
   "source": [
    "df_for_plot = df.groupby(['product_name', 'day_of_week']).size()\n",
    "\n",
    "df_for_plot = pd.DataFrame(df_for_plot).reset_index()\n",
    "\n",
    "df_for_plot.columns = ['product', 'day_of_week', 'frequency']\n",
    "\n",
    "# manipulating the data with pivot table\n",
    "df_for_plot = pd.pivot_table(df_for_plot, values=['frequency'],columns=['product'], index = ['day_of_week'])\n",
    "# dropping the multi-index level for the columns\n",
    "df_for_plot.columns = df_for_plot.columns.droplevel(0)\n",
    "\n",
    "labels_plot = {}\n",
    "##plotting##\n",
    "data_for_plot = [dict(type='scatter',\n",
    "                x=df_for_plot.index,\n",
    "                y=df_for_plot[product],\n",
    "                name=product)\n",
    "                 for product in df_for_plot.columns\n",
    "                ]\n",
    "\n",
    "# setting the layout\n",
    "plot_1_layout = dict(title=dict(text='Frequency purchases per day of the week'),\n",
    "                      xaxis=dict(title='Day of the week'),\n",
    "                      yaxis=dict(title='Total Frequency')\n",
    "                      )\n",
    "# displaying the graph\n",
    "plot_1 = go.Figure(data=data_for_plot, layout=plot_1_layout)\n",
    "# plot_1.show(renderer='png')\n",
    "plot_1.show()"
   ]
  },
  {
   "cell_type": "code",
   "execution_count": 162,
   "metadata": {},
   "outputs": [],
   "source": [
    "def product_per_hour(product):\n",
    "    df_for_plot = df.groupby(['product_name', 'order_hour_of_day']).size()\n",
    "\n",
    "    df_for_plot = pd.DataFrame(df_for_plot).reset_index()\n",
    "\n",
    "    df_for_plot.columns = ['product', 'hour_of_day', 'frequency']\n",
    "\n",
    "    # manipulating the data with pivot table\n",
    "    df_for_plot = pd.pivot_table(df_for_plot, values=['frequency'],columns=['product'], index = ['hour_of_day'])\n",
    "    # dropping the multi-index level for the columns\n",
    "    df_for_plot.columns = df_for_plot.columns.droplevel(0)\n",
    "\n",
    "    ##plotting##\n",
    "    data_for_plot = dict(type='scatter',\n",
    "                    x=df_for_plot.index,\n",
    "                    y=df_for_plot[product],\n",
    "                    name=product)\n",
    "\n",
    "    # setting the layout\n",
    "    plot_1_layout = dict(title=dict(text='Frequency purchases per hour of the day'),\n",
    "                          xaxis=dict(title='Hour of the day'),\n",
    "                          yaxis=dict(title='Total Frequency')\n",
    "                          )\n",
    "    # displaying the graph\n",
    "    plot_1 = go.Figure(data=data_for_plot, layout=plot_1_layout)\n",
    "    \n",
    "    plot_1.show()\n",
    "    \n",
    "    \n",
    "    df_for_plot = df.groupby(['product_name', 'day_of_week']).size()\n",
    "    df_for_plot = pd.DataFrame(df_for_plot).reset_index()\n",
    "    df_for_plot.columns = ['product', 'day_of_week', 'frequency']\n",
    "    # manipulating the data with pivot table\n",
    "    df_for_plot = pd.pivot_table(df_for_plot, values=['frequency'],columns=['product'], index = ['day_of_week'])\n",
    "    # dropping the multi-index level for the columns\n",
    "    df_for_plot.columns = df_for_plot.columns.droplevel(0)\n",
    "\n",
    "    labels_plot = {}\n",
    "    ##plotting##\n",
    "    data_for_plot = dict(type='scatter',\n",
    "                    x=df_for_plot.index,\n",
    "                    y=df_for_plot[product],\n",
    "                    name=product)\n",
    "\n",
    "    # setting the layout\n",
    "    plot_2_layout = dict(title=dict(text='Frequency purchases per day of the week'),\n",
    "                          xaxis=dict(title='Day of the week'),\n",
    "                          yaxis=dict(title='Total Frequency')\n",
    "                          )\n",
    "    # displaying the graph\n",
    "    plot_2 = go.Figure(data=data_for_plot, layout=plot_2_layout)\n",
    "    # plot_1.show(renderer='png')\n",
    "    plot_2.show()\n",
    "    "
   ]
  },
  {
   "cell_type": "code",
   "execution_count": 163,
   "metadata": {
    "scrolled": false
   },
   "outputs": [
    {
     "data": {
      "application/vnd.plotly.v1+json": {
       "config": {
        "plotlyServerURL": "https://plot.ly"
       },
       "data": [
        {
         "name": "red wines",
         "type": "scatter",
         "x": [
          0,
          1,
          2,
          3,
          4,
          5,
          6,
          7,
          8,
          9,
          10,
          11,
          12,
          13,
          14,
          15,
          16,
          17,
          18,
          19,
          20,
          21,
          22,
          23
         ],
         "y": [
          4,
          7,
          5,
          2,
          null,
          2,
          3,
          26,
          56,
          112,
          138,
          191,
          157,
          182,
          208,
          241,
          216,
          200,
          170,
          108,
          54,
          18,
          19,
          16
         ]
        }
       ],
       "layout": {
        "template": {
         "data": {
          "bar": [
           {
            "error_x": {
             "color": "#2a3f5f"
            },
            "error_y": {
             "color": "#2a3f5f"
            },
            "marker": {
             "line": {
              "color": "#E5ECF6",
              "width": 0.5
             }
            },
            "type": "bar"
           }
          ],
          "barpolar": [
           {
            "marker": {
             "line": {
              "color": "#E5ECF6",
              "width": 0.5
             }
            },
            "type": "barpolar"
           }
          ],
          "carpet": [
           {
            "aaxis": {
             "endlinecolor": "#2a3f5f",
             "gridcolor": "white",
             "linecolor": "white",
             "minorgridcolor": "white",
             "startlinecolor": "#2a3f5f"
            },
            "baxis": {
             "endlinecolor": "#2a3f5f",
             "gridcolor": "white",
             "linecolor": "white",
             "minorgridcolor": "white",
             "startlinecolor": "#2a3f5f"
            },
            "type": "carpet"
           }
          ],
          "choropleth": [
           {
            "colorbar": {
             "outlinewidth": 0,
             "ticks": ""
            },
            "type": "choropleth"
           }
          ],
          "contour": [
           {
            "colorbar": {
             "outlinewidth": 0,
             "ticks": ""
            },
            "colorscale": [
             [
              0,
              "#0d0887"
             ],
             [
              0.1111111111111111,
              "#46039f"
             ],
             [
              0.2222222222222222,
              "#7201a8"
             ],
             [
              0.3333333333333333,
              "#9c179e"
             ],
             [
              0.4444444444444444,
              "#bd3786"
             ],
             [
              0.5555555555555556,
              "#d8576b"
             ],
             [
              0.6666666666666666,
              "#ed7953"
             ],
             [
              0.7777777777777778,
              "#fb9f3a"
             ],
             [
              0.8888888888888888,
              "#fdca26"
             ],
             [
              1,
              "#f0f921"
             ]
            ],
            "type": "contour"
           }
          ],
          "contourcarpet": [
           {
            "colorbar": {
             "outlinewidth": 0,
             "ticks": ""
            },
            "type": "contourcarpet"
           }
          ],
          "heatmap": [
           {
            "colorbar": {
             "outlinewidth": 0,
             "ticks": ""
            },
            "colorscale": [
             [
              0,
              "#0d0887"
             ],
             [
              0.1111111111111111,
              "#46039f"
             ],
             [
              0.2222222222222222,
              "#7201a8"
             ],
             [
              0.3333333333333333,
              "#9c179e"
             ],
             [
              0.4444444444444444,
              "#bd3786"
             ],
             [
              0.5555555555555556,
              "#d8576b"
             ],
             [
              0.6666666666666666,
              "#ed7953"
             ],
             [
              0.7777777777777778,
              "#fb9f3a"
             ],
             [
              0.8888888888888888,
              "#fdca26"
             ],
             [
              1,
              "#f0f921"
             ]
            ],
            "type": "heatmap"
           }
          ],
          "heatmapgl": [
           {
            "colorbar": {
             "outlinewidth": 0,
             "ticks": ""
            },
            "colorscale": [
             [
              0,
              "#0d0887"
             ],
             [
              0.1111111111111111,
              "#46039f"
             ],
             [
              0.2222222222222222,
              "#7201a8"
             ],
             [
              0.3333333333333333,
              "#9c179e"
             ],
             [
              0.4444444444444444,
              "#bd3786"
             ],
             [
              0.5555555555555556,
              "#d8576b"
             ],
             [
              0.6666666666666666,
              "#ed7953"
             ],
             [
              0.7777777777777778,
              "#fb9f3a"
             ],
             [
              0.8888888888888888,
              "#fdca26"
             ],
             [
              1,
              "#f0f921"
             ]
            ],
            "type": "heatmapgl"
           }
          ],
          "histogram": [
           {
            "marker": {
             "colorbar": {
              "outlinewidth": 0,
              "ticks": ""
             }
            },
            "type": "histogram"
           }
          ],
          "histogram2d": [
           {
            "colorbar": {
             "outlinewidth": 0,
             "ticks": ""
            },
            "colorscale": [
             [
              0,
              "#0d0887"
             ],
             [
              0.1111111111111111,
              "#46039f"
             ],
             [
              0.2222222222222222,
              "#7201a8"
             ],
             [
              0.3333333333333333,
              "#9c179e"
             ],
             [
              0.4444444444444444,
              "#bd3786"
             ],
             [
              0.5555555555555556,
              "#d8576b"
             ],
             [
              0.6666666666666666,
              "#ed7953"
             ],
             [
              0.7777777777777778,
              "#fb9f3a"
             ],
             [
              0.8888888888888888,
              "#fdca26"
             ],
             [
              1,
              "#f0f921"
             ]
            ],
            "type": "histogram2d"
           }
          ],
          "histogram2dcontour": [
           {
            "colorbar": {
             "outlinewidth": 0,
             "ticks": ""
            },
            "colorscale": [
             [
              0,
              "#0d0887"
             ],
             [
              0.1111111111111111,
              "#46039f"
             ],
             [
              0.2222222222222222,
              "#7201a8"
             ],
             [
              0.3333333333333333,
              "#9c179e"
             ],
             [
              0.4444444444444444,
              "#bd3786"
             ],
             [
              0.5555555555555556,
              "#d8576b"
             ],
             [
              0.6666666666666666,
              "#ed7953"
             ],
             [
              0.7777777777777778,
              "#fb9f3a"
             ],
             [
              0.8888888888888888,
              "#fdca26"
             ],
             [
              1,
              "#f0f921"
             ]
            ],
            "type": "histogram2dcontour"
           }
          ],
          "mesh3d": [
           {
            "colorbar": {
             "outlinewidth": 0,
             "ticks": ""
            },
            "type": "mesh3d"
           }
          ],
          "parcoords": [
           {
            "line": {
             "colorbar": {
              "outlinewidth": 0,
              "ticks": ""
             }
            },
            "type": "parcoords"
           }
          ],
          "pie": [
           {
            "automargin": true,
            "type": "pie"
           }
          ],
          "scatter": [
           {
            "marker": {
             "colorbar": {
              "outlinewidth": 0,
              "ticks": ""
             }
            },
            "type": "scatter"
           }
          ],
          "scatter3d": [
           {
            "line": {
             "colorbar": {
              "outlinewidth": 0,
              "ticks": ""
             }
            },
            "marker": {
             "colorbar": {
              "outlinewidth": 0,
              "ticks": ""
             }
            },
            "type": "scatter3d"
           }
          ],
          "scattercarpet": [
           {
            "marker": {
             "colorbar": {
              "outlinewidth": 0,
              "ticks": ""
             }
            },
            "type": "scattercarpet"
           }
          ],
          "scattergeo": [
           {
            "marker": {
             "colorbar": {
              "outlinewidth": 0,
              "ticks": ""
             }
            },
            "type": "scattergeo"
           }
          ],
          "scattergl": [
           {
            "marker": {
             "colorbar": {
              "outlinewidth": 0,
              "ticks": ""
             }
            },
            "type": "scattergl"
           }
          ],
          "scattermapbox": [
           {
            "marker": {
             "colorbar": {
              "outlinewidth": 0,
              "ticks": ""
             }
            },
            "type": "scattermapbox"
           }
          ],
          "scatterpolar": [
           {
            "marker": {
             "colorbar": {
              "outlinewidth": 0,
              "ticks": ""
             }
            },
            "type": "scatterpolar"
           }
          ],
          "scatterpolargl": [
           {
            "marker": {
             "colorbar": {
              "outlinewidth": 0,
              "ticks": ""
             }
            },
            "type": "scatterpolargl"
           }
          ],
          "scatterternary": [
           {
            "marker": {
             "colorbar": {
              "outlinewidth": 0,
              "ticks": ""
             }
            },
            "type": "scatterternary"
           }
          ],
          "surface": [
           {
            "colorbar": {
             "outlinewidth": 0,
             "ticks": ""
            },
            "colorscale": [
             [
              0,
              "#0d0887"
             ],
             [
              0.1111111111111111,
              "#46039f"
             ],
             [
              0.2222222222222222,
              "#7201a8"
             ],
             [
              0.3333333333333333,
              "#9c179e"
             ],
             [
              0.4444444444444444,
              "#bd3786"
             ],
             [
              0.5555555555555556,
              "#d8576b"
             ],
             [
              0.6666666666666666,
              "#ed7953"
             ],
             [
              0.7777777777777778,
              "#fb9f3a"
             ],
             [
              0.8888888888888888,
              "#fdca26"
             ],
             [
              1,
              "#f0f921"
             ]
            ],
            "type": "surface"
           }
          ],
          "table": [
           {
            "cells": {
             "fill": {
              "color": "#EBF0F8"
             },
             "line": {
              "color": "white"
             }
            },
            "header": {
             "fill": {
              "color": "#C8D4E3"
             },
             "line": {
              "color": "white"
             }
            },
            "type": "table"
           }
          ]
         },
         "layout": {
          "annotationdefaults": {
           "arrowcolor": "#2a3f5f",
           "arrowhead": 0,
           "arrowwidth": 1
          },
          "autotypenumbers": "strict",
          "coloraxis": {
           "colorbar": {
            "outlinewidth": 0,
            "ticks": ""
           }
          },
          "colorscale": {
           "diverging": [
            [
             0,
             "#8e0152"
            ],
            [
             0.1,
             "#c51b7d"
            ],
            [
             0.2,
             "#de77ae"
            ],
            [
             0.3,
             "#f1b6da"
            ],
            [
             0.4,
             "#fde0ef"
            ],
            [
             0.5,
             "#f7f7f7"
            ],
            [
             0.6,
             "#e6f5d0"
            ],
            [
             0.7,
             "#b8e186"
            ],
            [
             0.8,
             "#7fbc41"
            ],
            [
             0.9,
             "#4d9221"
            ],
            [
             1,
             "#276419"
            ]
           ],
           "sequential": [
            [
             0,
             "#0d0887"
            ],
            [
             0.1111111111111111,
             "#46039f"
            ],
            [
             0.2222222222222222,
             "#7201a8"
            ],
            [
             0.3333333333333333,
             "#9c179e"
            ],
            [
             0.4444444444444444,
             "#bd3786"
            ],
            [
             0.5555555555555556,
             "#d8576b"
            ],
            [
             0.6666666666666666,
             "#ed7953"
            ],
            [
             0.7777777777777778,
             "#fb9f3a"
            ],
            [
             0.8888888888888888,
             "#fdca26"
            ],
            [
             1,
             "#f0f921"
            ]
           ],
           "sequentialminus": [
            [
             0,
             "#0d0887"
            ],
            [
             0.1111111111111111,
             "#46039f"
            ],
            [
             0.2222222222222222,
             "#7201a8"
            ],
            [
             0.3333333333333333,
             "#9c179e"
            ],
            [
             0.4444444444444444,
             "#bd3786"
            ],
            [
             0.5555555555555556,
             "#d8576b"
            ],
            [
             0.6666666666666666,
             "#ed7953"
            ],
            [
             0.7777777777777778,
             "#fb9f3a"
            ],
            [
             0.8888888888888888,
             "#fdca26"
            ],
            [
             1,
             "#f0f921"
            ]
           ]
          },
          "colorway": [
           "#636efa",
           "#EF553B",
           "#00cc96",
           "#ab63fa",
           "#FFA15A",
           "#19d3f3",
           "#FF6692",
           "#B6E880",
           "#FF97FF",
           "#FECB52"
          ],
          "font": {
           "color": "#2a3f5f"
          },
          "geo": {
           "bgcolor": "white",
           "lakecolor": "white",
           "landcolor": "#E5ECF6",
           "showlakes": true,
           "showland": true,
           "subunitcolor": "white"
          },
          "hoverlabel": {
           "align": "left"
          },
          "hovermode": "closest",
          "mapbox": {
           "style": "light"
          },
          "paper_bgcolor": "white",
          "plot_bgcolor": "#E5ECF6",
          "polar": {
           "angularaxis": {
            "gridcolor": "white",
            "linecolor": "white",
            "ticks": ""
           },
           "bgcolor": "#E5ECF6",
           "radialaxis": {
            "gridcolor": "white",
            "linecolor": "white",
            "ticks": ""
           }
          },
          "scene": {
           "xaxis": {
            "backgroundcolor": "#E5ECF6",
            "gridcolor": "white",
            "gridwidth": 2,
            "linecolor": "white",
            "showbackground": true,
            "ticks": "",
            "zerolinecolor": "white"
           },
           "yaxis": {
            "backgroundcolor": "#E5ECF6",
            "gridcolor": "white",
            "gridwidth": 2,
            "linecolor": "white",
            "showbackground": true,
            "ticks": "",
            "zerolinecolor": "white"
           },
           "zaxis": {
            "backgroundcolor": "#E5ECF6",
            "gridcolor": "white",
            "gridwidth": 2,
            "linecolor": "white",
            "showbackground": true,
            "ticks": "",
            "zerolinecolor": "white"
           }
          },
          "shapedefaults": {
           "line": {
            "color": "#2a3f5f"
           }
          },
          "ternary": {
           "aaxis": {
            "gridcolor": "white",
            "linecolor": "white",
            "ticks": ""
           },
           "baxis": {
            "gridcolor": "white",
            "linecolor": "white",
            "ticks": ""
           },
           "bgcolor": "#E5ECF6",
           "caxis": {
            "gridcolor": "white",
            "linecolor": "white",
            "ticks": ""
           }
          },
          "title": {
           "x": 0.05
          },
          "xaxis": {
           "automargin": true,
           "gridcolor": "white",
           "linecolor": "white",
           "ticks": "",
           "title": {
            "standoff": 15
           },
           "zerolinecolor": "white",
           "zerolinewidth": 2
          },
          "yaxis": {
           "automargin": true,
           "gridcolor": "white",
           "linecolor": "white",
           "ticks": "",
           "title": {
            "standoff": 15
           },
           "zerolinecolor": "white",
           "zerolinewidth": 2
          }
         }
        },
        "title": {
         "text": "Frequency purchases per hour of the day"
        },
        "xaxis": {
         "title": {
          "text": "Hour of the day"
         }
        },
        "yaxis": {
         "title": {
          "text": "Total Frequency"
         }
        }
       }
      },
      "text/html": [
       "<div>                            <div id=\"924602be-0d6e-41df-8599-e237f39241be\" class=\"plotly-graph-div\" style=\"height:525px; width:100%;\"></div>            <script type=\"text/javascript\">                require([\"plotly\"], function(Plotly) {                    window.PLOTLYENV=window.PLOTLYENV || {};                                    if (document.getElementById(\"924602be-0d6e-41df-8599-e237f39241be\")) {                    Plotly.newPlot(                        \"924602be-0d6e-41df-8599-e237f39241be\",                        [{\"name\": \"red wines\", \"type\": \"scatter\", \"x\": [0, 1, 2, 3, 4, 5, 6, 7, 8, 9, 10, 11, 12, 13, 14, 15, 16, 17, 18, 19, 20, 21, 22, 23], \"y\": [4.0, 7.0, 5.0, 2.0, null, 2.0, 3.0, 26.0, 56.0, 112.0, 138.0, 191.0, 157.0, 182.0, 208.0, 241.0, 216.0, 200.0, 170.0, 108.0, 54.0, 18.0, 19.0, 16.0]}],                        {\"template\": {\"data\": {\"bar\": [{\"error_x\": {\"color\": \"#2a3f5f\"}, \"error_y\": {\"color\": \"#2a3f5f\"}, \"marker\": {\"line\": {\"color\": \"#E5ECF6\", \"width\": 0.5}}, \"type\": \"bar\"}], \"barpolar\": [{\"marker\": {\"line\": {\"color\": \"#E5ECF6\", \"width\": 0.5}}, \"type\": \"barpolar\"}], \"carpet\": [{\"aaxis\": {\"endlinecolor\": \"#2a3f5f\", \"gridcolor\": \"white\", \"linecolor\": \"white\", \"minorgridcolor\": \"white\", \"startlinecolor\": \"#2a3f5f\"}, \"baxis\": {\"endlinecolor\": \"#2a3f5f\", \"gridcolor\": \"white\", \"linecolor\": \"white\", \"minorgridcolor\": \"white\", \"startlinecolor\": \"#2a3f5f\"}, \"type\": \"carpet\"}], \"choropleth\": [{\"colorbar\": {\"outlinewidth\": 0, \"ticks\": \"\"}, \"type\": \"choropleth\"}], \"contour\": [{\"colorbar\": {\"outlinewidth\": 0, \"ticks\": \"\"}, \"colorscale\": [[0.0, \"#0d0887\"], [0.1111111111111111, \"#46039f\"], [0.2222222222222222, \"#7201a8\"], [0.3333333333333333, \"#9c179e\"], [0.4444444444444444, \"#bd3786\"], [0.5555555555555556, \"#d8576b\"], [0.6666666666666666, \"#ed7953\"], [0.7777777777777778, \"#fb9f3a\"], [0.8888888888888888, \"#fdca26\"], [1.0, \"#f0f921\"]], \"type\": \"contour\"}], \"contourcarpet\": [{\"colorbar\": {\"outlinewidth\": 0, \"ticks\": \"\"}, \"type\": \"contourcarpet\"}], \"heatmap\": [{\"colorbar\": {\"outlinewidth\": 0, \"ticks\": \"\"}, \"colorscale\": [[0.0, \"#0d0887\"], [0.1111111111111111, \"#46039f\"], [0.2222222222222222, \"#7201a8\"], [0.3333333333333333, \"#9c179e\"], [0.4444444444444444, \"#bd3786\"], [0.5555555555555556, \"#d8576b\"], [0.6666666666666666, \"#ed7953\"], [0.7777777777777778, \"#fb9f3a\"], [0.8888888888888888, \"#fdca26\"], [1.0, \"#f0f921\"]], \"type\": \"heatmap\"}], \"heatmapgl\": [{\"colorbar\": {\"outlinewidth\": 0, \"ticks\": \"\"}, \"colorscale\": [[0.0, \"#0d0887\"], [0.1111111111111111, \"#46039f\"], [0.2222222222222222, \"#7201a8\"], [0.3333333333333333, \"#9c179e\"], [0.4444444444444444, \"#bd3786\"], [0.5555555555555556, \"#d8576b\"], [0.6666666666666666, \"#ed7953\"], [0.7777777777777778, \"#fb9f3a\"], [0.8888888888888888, \"#fdca26\"], [1.0, \"#f0f921\"]], \"type\": \"heatmapgl\"}], \"histogram\": [{\"marker\": {\"colorbar\": {\"outlinewidth\": 0, \"ticks\": \"\"}}, \"type\": \"histogram\"}], \"histogram2d\": [{\"colorbar\": {\"outlinewidth\": 0, \"ticks\": \"\"}, \"colorscale\": [[0.0, \"#0d0887\"], [0.1111111111111111, \"#46039f\"], [0.2222222222222222, \"#7201a8\"], [0.3333333333333333, \"#9c179e\"], [0.4444444444444444, \"#bd3786\"], [0.5555555555555556, \"#d8576b\"], [0.6666666666666666, \"#ed7953\"], [0.7777777777777778, \"#fb9f3a\"], [0.8888888888888888, \"#fdca26\"], [1.0, \"#f0f921\"]], \"type\": \"histogram2d\"}], \"histogram2dcontour\": [{\"colorbar\": {\"outlinewidth\": 0, \"ticks\": \"\"}, \"colorscale\": [[0.0, \"#0d0887\"], [0.1111111111111111, \"#46039f\"], [0.2222222222222222, \"#7201a8\"], [0.3333333333333333, \"#9c179e\"], [0.4444444444444444, \"#bd3786\"], [0.5555555555555556, \"#d8576b\"], [0.6666666666666666, \"#ed7953\"], [0.7777777777777778, \"#fb9f3a\"], [0.8888888888888888, \"#fdca26\"], [1.0, \"#f0f921\"]], \"type\": \"histogram2dcontour\"}], \"mesh3d\": [{\"colorbar\": {\"outlinewidth\": 0, \"ticks\": \"\"}, \"type\": \"mesh3d\"}], \"parcoords\": [{\"line\": {\"colorbar\": {\"outlinewidth\": 0, \"ticks\": \"\"}}, \"type\": \"parcoords\"}], \"pie\": [{\"automargin\": true, \"type\": \"pie\"}], \"scatter\": [{\"marker\": {\"colorbar\": {\"outlinewidth\": 0, \"ticks\": \"\"}}, \"type\": \"scatter\"}], \"scatter3d\": [{\"line\": {\"colorbar\": {\"outlinewidth\": 0, \"ticks\": \"\"}}, \"marker\": {\"colorbar\": {\"outlinewidth\": 0, \"ticks\": \"\"}}, \"type\": \"scatter3d\"}], \"scattercarpet\": [{\"marker\": {\"colorbar\": {\"outlinewidth\": 0, \"ticks\": \"\"}}, \"type\": \"scattercarpet\"}], \"scattergeo\": [{\"marker\": {\"colorbar\": {\"outlinewidth\": 0, \"ticks\": \"\"}}, \"type\": \"scattergeo\"}], \"scattergl\": [{\"marker\": {\"colorbar\": {\"outlinewidth\": 0, \"ticks\": \"\"}}, \"type\": \"scattergl\"}], \"scattermapbox\": [{\"marker\": {\"colorbar\": {\"outlinewidth\": 0, \"ticks\": \"\"}}, \"type\": \"scattermapbox\"}], \"scatterpolar\": [{\"marker\": {\"colorbar\": {\"outlinewidth\": 0, \"ticks\": \"\"}}, \"type\": \"scatterpolar\"}], \"scatterpolargl\": [{\"marker\": {\"colorbar\": {\"outlinewidth\": 0, \"ticks\": \"\"}}, \"type\": \"scatterpolargl\"}], \"scatterternary\": [{\"marker\": {\"colorbar\": {\"outlinewidth\": 0, \"ticks\": \"\"}}, \"type\": \"scatterternary\"}], \"surface\": [{\"colorbar\": {\"outlinewidth\": 0, \"ticks\": \"\"}, \"colorscale\": [[0.0, \"#0d0887\"], [0.1111111111111111, \"#46039f\"], [0.2222222222222222, \"#7201a8\"], [0.3333333333333333, \"#9c179e\"], [0.4444444444444444, \"#bd3786\"], [0.5555555555555556, \"#d8576b\"], [0.6666666666666666, \"#ed7953\"], [0.7777777777777778, \"#fb9f3a\"], [0.8888888888888888, \"#fdca26\"], [1.0, \"#f0f921\"]], \"type\": \"surface\"}], \"table\": [{\"cells\": {\"fill\": {\"color\": \"#EBF0F8\"}, \"line\": {\"color\": \"white\"}}, \"header\": {\"fill\": {\"color\": \"#C8D4E3\"}, \"line\": {\"color\": \"white\"}}, \"type\": \"table\"}]}, \"layout\": {\"annotationdefaults\": {\"arrowcolor\": \"#2a3f5f\", \"arrowhead\": 0, \"arrowwidth\": 1}, \"autotypenumbers\": \"strict\", \"coloraxis\": {\"colorbar\": {\"outlinewidth\": 0, \"ticks\": \"\"}}, \"colorscale\": {\"diverging\": [[0, \"#8e0152\"], [0.1, \"#c51b7d\"], [0.2, \"#de77ae\"], [0.3, \"#f1b6da\"], [0.4, \"#fde0ef\"], [0.5, \"#f7f7f7\"], [0.6, \"#e6f5d0\"], [0.7, \"#b8e186\"], [0.8, \"#7fbc41\"], [0.9, \"#4d9221\"], [1, \"#276419\"]], \"sequential\": [[0.0, \"#0d0887\"], [0.1111111111111111, \"#46039f\"], [0.2222222222222222, \"#7201a8\"], [0.3333333333333333, \"#9c179e\"], [0.4444444444444444, \"#bd3786\"], [0.5555555555555556, \"#d8576b\"], [0.6666666666666666, \"#ed7953\"], [0.7777777777777778, \"#fb9f3a\"], [0.8888888888888888, \"#fdca26\"], [1.0, \"#f0f921\"]], \"sequentialminus\": [[0.0, \"#0d0887\"], [0.1111111111111111, \"#46039f\"], [0.2222222222222222, \"#7201a8\"], [0.3333333333333333, \"#9c179e\"], [0.4444444444444444, \"#bd3786\"], [0.5555555555555556, \"#d8576b\"], [0.6666666666666666, \"#ed7953\"], [0.7777777777777778, \"#fb9f3a\"], [0.8888888888888888, \"#fdca26\"], [1.0, \"#f0f921\"]]}, \"colorway\": [\"#636efa\", \"#EF553B\", \"#00cc96\", \"#ab63fa\", \"#FFA15A\", \"#19d3f3\", \"#FF6692\", \"#B6E880\", \"#FF97FF\", \"#FECB52\"], \"font\": {\"color\": \"#2a3f5f\"}, \"geo\": {\"bgcolor\": \"white\", \"lakecolor\": \"white\", \"landcolor\": \"#E5ECF6\", \"showlakes\": true, \"showland\": true, \"subunitcolor\": \"white\"}, \"hoverlabel\": {\"align\": \"left\"}, \"hovermode\": \"closest\", \"mapbox\": {\"style\": \"light\"}, \"paper_bgcolor\": \"white\", \"plot_bgcolor\": \"#E5ECF6\", \"polar\": {\"angularaxis\": {\"gridcolor\": \"white\", \"linecolor\": \"white\", \"ticks\": \"\"}, \"bgcolor\": \"#E5ECF6\", \"radialaxis\": {\"gridcolor\": \"white\", \"linecolor\": \"white\", \"ticks\": \"\"}}, \"scene\": {\"xaxis\": {\"backgroundcolor\": \"#E5ECF6\", \"gridcolor\": \"white\", \"gridwidth\": 2, \"linecolor\": \"white\", \"showbackground\": true, \"ticks\": \"\", \"zerolinecolor\": \"white\"}, \"yaxis\": {\"backgroundcolor\": \"#E5ECF6\", \"gridcolor\": \"white\", \"gridwidth\": 2, \"linecolor\": \"white\", \"showbackground\": true, \"ticks\": \"\", \"zerolinecolor\": \"white\"}, \"zaxis\": {\"backgroundcolor\": \"#E5ECF6\", \"gridcolor\": \"white\", \"gridwidth\": 2, \"linecolor\": \"white\", \"showbackground\": true, \"ticks\": \"\", \"zerolinecolor\": \"white\"}}, \"shapedefaults\": {\"line\": {\"color\": \"#2a3f5f\"}}, \"ternary\": {\"aaxis\": {\"gridcolor\": \"white\", \"linecolor\": \"white\", \"ticks\": \"\"}, \"baxis\": {\"gridcolor\": \"white\", \"linecolor\": \"white\", \"ticks\": \"\"}, \"bgcolor\": \"#E5ECF6\", \"caxis\": {\"gridcolor\": \"white\", \"linecolor\": \"white\", \"ticks\": \"\"}}, \"title\": {\"x\": 0.05}, \"xaxis\": {\"automargin\": true, \"gridcolor\": \"white\", \"linecolor\": \"white\", \"ticks\": \"\", \"title\": {\"standoff\": 15}, \"zerolinecolor\": \"white\", \"zerolinewidth\": 2}, \"yaxis\": {\"automargin\": true, \"gridcolor\": \"white\", \"linecolor\": \"white\", \"ticks\": \"\", \"title\": {\"standoff\": 15}, \"zerolinecolor\": \"white\", \"zerolinewidth\": 2}}}, \"title\": {\"text\": \"Frequency purchases per hour of the day\"}, \"xaxis\": {\"title\": {\"text\": \"Hour of the day\"}}, \"yaxis\": {\"title\": {\"text\": \"Total Frequency\"}}},                        {\"responsive\": true}                    ).then(function(){\n",
       "                            \n",
       "var gd = document.getElementById('924602be-0d6e-41df-8599-e237f39241be');\n",
       "var x = new MutationObserver(function (mutations, observer) {{\n",
       "        var display = window.getComputedStyle(gd).display;\n",
       "        if (!display || display === 'none') {{\n",
       "            console.log([gd, 'removed!']);\n",
       "            Plotly.purge(gd);\n",
       "            observer.disconnect();\n",
       "        }}\n",
       "}});\n",
       "\n",
       "// Listen for the removal of the full notebook cells\n",
       "var notebookContainer = gd.closest('#notebook-container');\n",
       "if (notebookContainer) {{\n",
       "    x.observe(notebookContainer, {childList: true});\n",
       "}}\n",
       "\n",
       "// Listen for the clearing of the current output cell\n",
       "var outputEl = gd.closest('.output');\n",
       "if (outputEl) {{\n",
       "    x.observe(outputEl, {childList: true});\n",
       "}}\n",
       "\n",
       "                        })                };                });            </script>        </div>"
      ]
     },
     "metadata": {},
     "output_type": "display_data"
    },
    {
     "data": {
      "application/vnd.plotly.v1+json": {
       "config": {
        "plotlyServerURL": "https://plot.ly"
       },
       "data": [
        {
         "name": "red wines",
         "type": "scatter",
         "x": [
          0,
          1,
          2,
          3,
          4,
          5,
          6
         ],
         "y": [
          270,
          306,
          311,
          315,
          312,
          338,
          283
         ]
        }
       ],
       "layout": {
        "template": {
         "data": {
          "bar": [
           {
            "error_x": {
             "color": "#2a3f5f"
            },
            "error_y": {
             "color": "#2a3f5f"
            },
            "marker": {
             "line": {
              "color": "#E5ECF6",
              "width": 0.5
             }
            },
            "type": "bar"
           }
          ],
          "barpolar": [
           {
            "marker": {
             "line": {
              "color": "#E5ECF6",
              "width": 0.5
             }
            },
            "type": "barpolar"
           }
          ],
          "carpet": [
           {
            "aaxis": {
             "endlinecolor": "#2a3f5f",
             "gridcolor": "white",
             "linecolor": "white",
             "minorgridcolor": "white",
             "startlinecolor": "#2a3f5f"
            },
            "baxis": {
             "endlinecolor": "#2a3f5f",
             "gridcolor": "white",
             "linecolor": "white",
             "minorgridcolor": "white",
             "startlinecolor": "#2a3f5f"
            },
            "type": "carpet"
           }
          ],
          "choropleth": [
           {
            "colorbar": {
             "outlinewidth": 0,
             "ticks": ""
            },
            "type": "choropleth"
           }
          ],
          "contour": [
           {
            "colorbar": {
             "outlinewidth": 0,
             "ticks": ""
            },
            "colorscale": [
             [
              0,
              "#0d0887"
             ],
             [
              0.1111111111111111,
              "#46039f"
             ],
             [
              0.2222222222222222,
              "#7201a8"
             ],
             [
              0.3333333333333333,
              "#9c179e"
             ],
             [
              0.4444444444444444,
              "#bd3786"
             ],
             [
              0.5555555555555556,
              "#d8576b"
             ],
             [
              0.6666666666666666,
              "#ed7953"
             ],
             [
              0.7777777777777778,
              "#fb9f3a"
             ],
             [
              0.8888888888888888,
              "#fdca26"
             ],
             [
              1,
              "#f0f921"
             ]
            ],
            "type": "contour"
           }
          ],
          "contourcarpet": [
           {
            "colorbar": {
             "outlinewidth": 0,
             "ticks": ""
            },
            "type": "contourcarpet"
           }
          ],
          "heatmap": [
           {
            "colorbar": {
             "outlinewidth": 0,
             "ticks": ""
            },
            "colorscale": [
             [
              0,
              "#0d0887"
             ],
             [
              0.1111111111111111,
              "#46039f"
             ],
             [
              0.2222222222222222,
              "#7201a8"
             ],
             [
              0.3333333333333333,
              "#9c179e"
             ],
             [
              0.4444444444444444,
              "#bd3786"
             ],
             [
              0.5555555555555556,
              "#d8576b"
             ],
             [
              0.6666666666666666,
              "#ed7953"
             ],
             [
              0.7777777777777778,
              "#fb9f3a"
             ],
             [
              0.8888888888888888,
              "#fdca26"
             ],
             [
              1,
              "#f0f921"
             ]
            ],
            "type": "heatmap"
           }
          ],
          "heatmapgl": [
           {
            "colorbar": {
             "outlinewidth": 0,
             "ticks": ""
            },
            "colorscale": [
             [
              0,
              "#0d0887"
             ],
             [
              0.1111111111111111,
              "#46039f"
             ],
             [
              0.2222222222222222,
              "#7201a8"
             ],
             [
              0.3333333333333333,
              "#9c179e"
             ],
             [
              0.4444444444444444,
              "#bd3786"
             ],
             [
              0.5555555555555556,
              "#d8576b"
             ],
             [
              0.6666666666666666,
              "#ed7953"
             ],
             [
              0.7777777777777778,
              "#fb9f3a"
             ],
             [
              0.8888888888888888,
              "#fdca26"
             ],
             [
              1,
              "#f0f921"
             ]
            ],
            "type": "heatmapgl"
           }
          ],
          "histogram": [
           {
            "marker": {
             "colorbar": {
              "outlinewidth": 0,
              "ticks": ""
             }
            },
            "type": "histogram"
           }
          ],
          "histogram2d": [
           {
            "colorbar": {
             "outlinewidth": 0,
             "ticks": ""
            },
            "colorscale": [
             [
              0,
              "#0d0887"
             ],
             [
              0.1111111111111111,
              "#46039f"
             ],
             [
              0.2222222222222222,
              "#7201a8"
             ],
             [
              0.3333333333333333,
              "#9c179e"
             ],
             [
              0.4444444444444444,
              "#bd3786"
             ],
             [
              0.5555555555555556,
              "#d8576b"
             ],
             [
              0.6666666666666666,
              "#ed7953"
             ],
             [
              0.7777777777777778,
              "#fb9f3a"
             ],
             [
              0.8888888888888888,
              "#fdca26"
             ],
             [
              1,
              "#f0f921"
             ]
            ],
            "type": "histogram2d"
           }
          ],
          "histogram2dcontour": [
           {
            "colorbar": {
             "outlinewidth": 0,
             "ticks": ""
            },
            "colorscale": [
             [
              0,
              "#0d0887"
             ],
             [
              0.1111111111111111,
              "#46039f"
             ],
             [
              0.2222222222222222,
              "#7201a8"
             ],
             [
              0.3333333333333333,
              "#9c179e"
             ],
             [
              0.4444444444444444,
              "#bd3786"
             ],
             [
              0.5555555555555556,
              "#d8576b"
             ],
             [
              0.6666666666666666,
              "#ed7953"
             ],
             [
              0.7777777777777778,
              "#fb9f3a"
             ],
             [
              0.8888888888888888,
              "#fdca26"
             ],
             [
              1,
              "#f0f921"
             ]
            ],
            "type": "histogram2dcontour"
           }
          ],
          "mesh3d": [
           {
            "colorbar": {
             "outlinewidth": 0,
             "ticks": ""
            },
            "type": "mesh3d"
           }
          ],
          "parcoords": [
           {
            "line": {
             "colorbar": {
              "outlinewidth": 0,
              "ticks": ""
             }
            },
            "type": "parcoords"
           }
          ],
          "pie": [
           {
            "automargin": true,
            "type": "pie"
           }
          ],
          "scatter": [
           {
            "marker": {
             "colorbar": {
              "outlinewidth": 0,
              "ticks": ""
             }
            },
            "type": "scatter"
           }
          ],
          "scatter3d": [
           {
            "line": {
             "colorbar": {
              "outlinewidth": 0,
              "ticks": ""
             }
            },
            "marker": {
             "colorbar": {
              "outlinewidth": 0,
              "ticks": ""
             }
            },
            "type": "scatter3d"
           }
          ],
          "scattercarpet": [
           {
            "marker": {
             "colorbar": {
              "outlinewidth": 0,
              "ticks": ""
             }
            },
            "type": "scattercarpet"
           }
          ],
          "scattergeo": [
           {
            "marker": {
             "colorbar": {
              "outlinewidth": 0,
              "ticks": ""
             }
            },
            "type": "scattergeo"
           }
          ],
          "scattergl": [
           {
            "marker": {
             "colorbar": {
              "outlinewidth": 0,
              "ticks": ""
             }
            },
            "type": "scattergl"
           }
          ],
          "scattermapbox": [
           {
            "marker": {
             "colorbar": {
              "outlinewidth": 0,
              "ticks": ""
             }
            },
            "type": "scattermapbox"
           }
          ],
          "scatterpolar": [
           {
            "marker": {
             "colorbar": {
              "outlinewidth": 0,
              "ticks": ""
             }
            },
            "type": "scatterpolar"
           }
          ],
          "scatterpolargl": [
           {
            "marker": {
             "colorbar": {
              "outlinewidth": 0,
              "ticks": ""
             }
            },
            "type": "scatterpolargl"
           }
          ],
          "scatterternary": [
           {
            "marker": {
             "colorbar": {
              "outlinewidth": 0,
              "ticks": ""
             }
            },
            "type": "scatterternary"
           }
          ],
          "surface": [
           {
            "colorbar": {
             "outlinewidth": 0,
             "ticks": ""
            },
            "colorscale": [
             [
              0,
              "#0d0887"
             ],
             [
              0.1111111111111111,
              "#46039f"
             ],
             [
              0.2222222222222222,
              "#7201a8"
             ],
             [
              0.3333333333333333,
              "#9c179e"
             ],
             [
              0.4444444444444444,
              "#bd3786"
             ],
             [
              0.5555555555555556,
              "#d8576b"
             ],
             [
              0.6666666666666666,
              "#ed7953"
             ],
             [
              0.7777777777777778,
              "#fb9f3a"
             ],
             [
              0.8888888888888888,
              "#fdca26"
             ],
             [
              1,
              "#f0f921"
             ]
            ],
            "type": "surface"
           }
          ],
          "table": [
           {
            "cells": {
             "fill": {
              "color": "#EBF0F8"
             },
             "line": {
              "color": "white"
             }
            },
            "header": {
             "fill": {
              "color": "#C8D4E3"
             },
             "line": {
              "color": "white"
             }
            },
            "type": "table"
           }
          ]
         },
         "layout": {
          "annotationdefaults": {
           "arrowcolor": "#2a3f5f",
           "arrowhead": 0,
           "arrowwidth": 1
          },
          "autotypenumbers": "strict",
          "coloraxis": {
           "colorbar": {
            "outlinewidth": 0,
            "ticks": ""
           }
          },
          "colorscale": {
           "diverging": [
            [
             0,
             "#8e0152"
            ],
            [
             0.1,
             "#c51b7d"
            ],
            [
             0.2,
             "#de77ae"
            ],
            [
             0.3,
             "#f1b6da"
            ],
            [
             0.4,
             "#fde0ef"
            ],
            [
             0.5,
             "#f7f7f7"
            ],
            [
             0.6,
             "#e6f5d0"
            ],
            [
             0.7,
             "#b8e186"
            ],
            [
             0.8,
             "#7fbc41"
            ],
            [
             0.9,
             "#4d9221"
            ],
            [
             1,
             "#276419"
            ]
           ],
           "sequential": [
            [
             0,
             "#0d0887"
            ],
            [
             0.1111111111111111,
             "#46039f"
            ],
            [
             0.2222222222222222,
             "#7201a8"
            ],
            [
             0.3333333333333333,
             "#9c179e"
            ],
            [
             0.4444444444444444,
             "#bd3786"
            ],
            [
             0.5555555555555556,
             "#d8576b"
            ],
            [
             0.6666666666666666,
             "#ed7953"
            ],
            [
             0.7777777777777778,
             "#fb9f3a"
            ],
            [
             0.8888888888888888,
             "#fdca26"
            ],
            [
             1,
             "#f0f921"
            ]
           ],
           "sequentialminus": [
            [
             0,
             "#0d0887"
            ],
            [
             0.1111111111111111,
             "#46039f"
            ],
            [
             0.2222222222222222,
             "#7201a8"
            ],
            [
             0.3333333333333333,
             "#9c179e"
            ],
            [
             0.4444444444444444,
             "#bd3786"
            ],
            [
             0.5555555555555556,
             "#d8576b"
            ],
            [
             0.6666666666666666,
             "#ed7953"
            ],
            [
             0.7777777777777778,
             "#fb9f3a"
            ],
            [
             0.8888888888888888,
             "#fdca26"
            ],
            [
             1,
             "#f0f921"
            ]
           ]
          },
          "colorway": [
           "#636efa",
           "#EF553B",
           "#00cc96",
           "#ab63fa",
           "#FFA15A",
           "#19d3f3",
           "#FF6692",
           "#B6E880",
           "#FF97FF",
           "#FECB52"
          ],
          "font": {
           "color": "#2a3f5f"
          },
          "geo": {
           "bgcolor": "white",
           "lakecolor": "white",
           "landcolor": "#E5ECF6",
           "showlakes": true,
           "showland": true,
           "subunitcolor": "white"
          },
          "hoverlabel": {
           "align": "left"
          },
          "hovermode": "closest",
          "mapbox": {
           "style": "light"
          },
          "paper_bgcolor": "white",
          "plot_bgcolor": "#E5ECF6",
          "polar": {
           "angularaxis": {
            "gridcolor": "white",
            "linecolor": "white",
            "ticks": ""
           },
           "bgcolor": "#E5ECF6",
           "radialaxis": {
            "gridcolor": "white",
            "linecolor": "white",
            "ticks": ""
           }
          },
          "scene": {
           "xaxis": {
            "backgroundcolor": "#E5ECF6",
            "gridcolor": "white",
            "gridwidth": 2,
            "linecolor": "white",
            "showbackground": true,
            "ticks": "",
            "zerolinecolor": "white"
           },
           "yaxis": {
            "backgroundcolor": "#E5ECF6",
            "gridcolor": "white",
            "gridwidth": 2,
            "linecolor": "white",
            "showbackground": true,
            "ticks": "",
            "zerolinecolor": "white"
           },
           "zaxis": {
            "backgroundcolor": "#E5ECF6",
            "gridcolor": "white",
            "gridwidth": 2,
            "linecolor": "white",
            "showbackground": true,
            "ticks": "",
            "zerolinecolor": "white"
           }
          },
          "shapedefaults": {
           "line": {
            "color": "#2a3f5f"
           }
          },
          "ternary": {
           "aaxis": {
            "gridcolor": "white",
            "linecolor": "white",
            "ticks": ""
           },
           "baxis": {
            "gridcolor": "white",
            "linecolor": "white",
            "ticks": ""
           },
           "bgcolor": "#E5ECF6",
           "caxis": {
            "gridcolor": "white",
            "linecolor": "white",
            "ticks": ""
           }
          },
          "title": {
           "x": 0.05
          },
          "xaxis": {
           "automargin": true,
           "gridcolor": "white",
           "linecolor": "white",
           "ticks": "",
           "title": {
            "standoff": 15
           },
           "zerolinecolor": "white",
           "zerolinewidth": 2
          },
          "yaxis": {
           "automargin": true,
           "gridcolor": "white",
           "linecolor": "white",
           "ticks": "",
           "title": {
            "standoff": 15
           },
           "zerolinecolor": "white",
           "zerolinewidth": 2
          }
         }
        },
        "title": {
         "text": "Frequency purchases per day of the week"
        },
        "xaxis": {
         "title": {
          "text": "Day of the week"
         }
        },
        "yaxis": {
         "title": {
          "text": "Total Frequency"
         }
        }
       }
      },
      "text/html": [
       "<div>                            <div id=\"8eab22c5-3d59-4e61-87d5-a4b7eb2c26eb\" class=\"plotly-graph-div\" style=\"height:525px; width:100%;\"></div>            <script type=\"text/javascript\">                require([\"plotly\"], function(Plotly) {                    window.PLOTLYENV=window.PLOTLYENV || {};                                    if (document.getElementById(\"8eab22c5-3d59-4e61-87d5-a4b7eb2c26eb\")) {                    Plotly.newPlot(                        \"8eab22c5-3d59-4e61-87d5-a4b7eb2c26eb\",                        [{\"name\": \"red wines\", \"type\": \"scatter\", \"x\": [0, 1, 2, 3, 4, 5, 6], \"y\": [270, 306, 311, 315, 312, 338, 283]}],                        {\"template\": {\"data\": {\"bar\": [{\"error_x\": {\"color\": \"#2a3f5f\"}, \"error_y\": {\"color\": \"#2a3f5f\"}, \"marker\": {\"line\": {\"color\": \"#E5ECF6\", \"width\": 0.5}}, \"type\": \"bar\"}], \"barpolar\": [{\"marker\": {\"line\": {\"color\": \"#E5ECF6\", \"width\": 0.5}}, \"type\": \"barpolar\"}], \"carpet\": [{\"aaxis\": {\"endlinecolor\": \"#2a3f5f\", \"gridcolor\": \"white\", \"linecolor\": \"white\", \"minorgridcolor\": \"white\", \"startlinecolor\": \"#2a3f5f\"}, \"baxis\": {\"endlinecolor\": \"#2a3f5f\", \"gridcolor\": \"white\", \"linecolor\": \"white\", \"minorgridcolor\": \"white\", \"startlinecolor\": \"#2a3f5f\"}, \"type\": \"carpet\"}], \"choropleth\": [{\"colorbar\": {\"outlinewidth\": 0, \"ticks\": \"\"}, \"type\": \"choropleth\"}], \"contour\": [{\"colorbar\": {\"outlinewidth\": 0, \"ticks\": \"\"}, \"colorscale\": [[0.0, \"#0d0887\"], [0.1111111111111111, \"#46039f\"], [0.2222222222222222, \"#7201a8\"], [0.3333333333333333, \"#9c179e\"], [0.4444444444444444, \"#bd3786\"], [0.5555555555555556, \"#d8576b\"], [0.6666666666666666, \"#ed7953\"], [0.7777777777777778, \"#fb9f3a\"], [0.8888888888888888, \"#fdca26\"], [1.0, \"#f0f921\"]], \"type\": \"contour\"}], \"contourcarpet\": [{\"colorbar\": {\"outlinewidth\": 0, \"ticks\": \"\"}, \"type\": \"contourcarpet\"}], \"heatmap\": [{\"colorbar\": {\"outlinewidth\": 0, \"ticks\": \"\"}, \"colorscale\": [[0.0, \"#0d0887\"], [0.1111111111111111, \"#46039f\"], [0.2222222222222222, \"#7201a8\"], [0.3333333333333333, \"#9c179e\"], [0.4444444444444444, \"#bd3786\"], [0.5555555555555556, \"#d8576b\"], [0.6666666666666666, \"#ed7953\"], [0.7777777777777778, \"#fb9f3a\"], [0.8888888888888888, \"#fdca26\"], [1.0, \"#f0f921\"]], \"type\": \"heatmap\"}], \"heatmapgl\": [{\"colorbar\": {\"outlinewidth\": 0, \"ticks\": \"\"}, \"colorscale\": [[0.0, \"#0d0887\"], [0.1111111111111111, \"#46039f\"], [0.2222222222222222, \"#7201a8\"], [0.3333333333333333, \"#9c179e\"], [0.4444444444444444, \"#bd3786\"], [0.5555555555555556, \"#d8576b\"], [0.6666666666666666, \"#ed7953\"], [0.7777777777777778, \"#fb9f3a\"], [0.8888888888888888, \"#fdca26\"], [1.0, \"#f0f921\"]], \"type\": \"heatmapgl\"}], \"histogram\": [{\"marker\": {\"colorbar\": {\"outlinewidth\": 0, \"ticks\": \"\"}}, \"type\": \"histogram\"}], \"histogram2d\": [{\"colorbar\": {\"outlinewidth\": 0, \"ticks\": \"\"}, \"colorscale\": [[0.0, \"#0d0887\"], [0.1111111111111111, \"#46039f\"], [0.2222222222222222, \"#7201a8\"], [0.3333333333333333, \"#9c179e\"], [0.4444444444444444, \"#bd3786\"], [0.5555555555555556, \"#d8576b\"], [0.6666666666666666, \"#ed7953\"], [0.7777777777777778, \"#fb9f3a\"], [0.8888888888888888, \"#fdca26\"], [1.0, \"#f0f921\"]], \"type\": \"histogram2d\"}], \"histogram2dcontour\": [{\"colorbar\": {\"outlinewidth\": 0, \"ticks\": \"\"}, \"colorscale\": [[0.0, \"#0d0887\"], [0.1111111111111111, \"#46039f\"], [0.2222222222222222, \"#7201a8\"], [0.3333333333333333, \"#9c179e\"], [0.4444444444444444, \"#bd3786\"], [0.5555555555555556, \"#d8576b\"], [0.6666666666666666, \"#ed7953\"], [0.7777777777777778, \"#fb9f3a\"], [0.8888888888888888, \"#fdca26\"], [1.0, \"#f0f921\"]], \"type\": \"histogram2dcontour\"}], \"mesh3d\": [{\"colorbar\": {\"outlinewidth\": 0, \"ticks\": \"\"}, \"type\": \"mesh3d\"}], \"parcoords\": [{\"line\": {\"colorbar\": {\"outlinewidth\": 0, \"ticks\": \"\"}}, \"type\": \"parcoords\"}], \"pie\": [{\"automargin\": true, \"type\": \"pie\"}], \"scatter\": [{\"marker\": {\"colorbar\": {\"outlinewidth\": 0, \"ticks\": \"\"}}, \"type\": \"scatter\"}], \"scatter3d\": [{\"line\": {\"colorbar\": {\"outlinewidth\": 0, \"ticks\": \"\"}}, \"marker\": {\"colorbar\": {\"outlinewidth\": 0, \"ticks\": \"\"}}, \"type\": \"scatter3d\"}], \"scattercarpet\": [{\"marker\": {\"colorbar\": {\"outlinewidth\": 0, \"ticks\": \"\"}}, \"type\": \"scattercarpet\"}], \"scattergeo\": [{\"marker\": {\"colorbar\": {\"outlinewidth\": 0, \"ticks\": \"\"}}, \"type\": \"scattergeo\"}], \"scattergl\": [{\"marker\": {\"colorbar\": {\"outlinewidth\": 0, \"ticks\": \"\"}}, \"type\": \"scattergl\"}], \"scattermapbox\": [{\"marker\": {\"colorbar\": {\"outlinewidth\": 0, \"ticks\": \"\"}}, \"type\": \"scattermapbox\"}], \"scatterpolar\": [{\"marker\": {\"colorbar\": {\"outlinewidth\": 0, \"ticks\": \"\"}}, \"type\": \"scatterpolar\"}], \"scatterpolargl\": [{\"marker\": {\"colorbar\": {\"outlinewidth\": 0, \"ticks\": \"\"}}, \"type\": \"scatterpolargl\"}], \"scatterternary\": [{\"marker\": {\"colorbar\": {\"outlinewidth\": 0, \"ticks\": \"\"}}, \"type\": \"scatterternary\"}], \"surface\": [{\"colorbar\": {\"outlinewidth\": 0, \"ticks\": \"\"}, \"colorscale\": [[0.0, \"#0d0887\"], [0.1111111111111111, \"#46039f\"], [0.2222222222222222, \"#7201a8\"], [0.3333333333333333, \"#9c179e\"], [0.4444444444444444, \"#bd3786\"], [0.5555555555555556, \"#d8576b\"], [0.6666666666666666, \"#ed7953\"], [0.7777777777777778, \"#fb9f3a\"], [0.8888888888888888, \"#fdca26\"], [1.0, \"#f0f921\"]], \"type\": \"surface\"}], \"table\": [{\"cells\": {\"fill\": {\"color\": \"#EBF0F8\"}, \"line\": {\"color\": \"white\"}}, \"header\": {\"fill\": {\"color\": \"#C8D4E3\"}, \"line\": {\"color\": \"white\"}}, \"type\": \"table\"}]}, \"layout\": {\"annotationdefaults\": {\"arrowcolor\": \"#2a3f5f\", \"arrowhead\": 0, \"arrowwidth\": 1}, \"autotypenumbers\": \"strict\", \"coloraxis\": {\"colorbar\": {\"outlinewidth\": 0, \"ticks\": \"\"}}, \"colorscale\": {\"diverging\": [[0, \"#8e0152\"], [0.1, \"#c51b7d\"], [0.2, \"#de77ae\"], [0.3, \"#f1b6da\"], [0.4, \"#fde0ef\"], [0.5, \"#f7f7f7\"], [0.6, \"#e6f5d0\"], [0.7, \"#b8e186\"], [0.8, \"#7fbc41\"], [0.9, \"#4d9221\"], [1, \"#276419\"]], \"sequential\": [[0.0, \"#0d0887\"], [0.1111111111111111, \"#46039f\"], [0.2222222222222222, \"#7201a8\"], [0.3333333333333333, \"#9c179e\"], [0.4444444444444444, \"#bd3786\"], [0.5555555555555556, \"#d8576b\"], [0.6666666666666666, \"#ed7953\"], [0.7777777777777778, \"#fb9f3a\"], [0.8888888888888888, \"#fdca26\"], [1.0, \"#f0f921\"]], \"sequentialminus\": [[0.0, \"#0d0887\"], [0.1111111111111111, \"#46039f\"], [0.2222222222222222, \"#7201a8\"], [0.3333333333333333, \"#9c179e\"], [0.4444444444444444, \"#bd3786\"], [0.5555555555555556, \"#d8576b\"], [0.6666666666666666, \"#ed7953\"], [0.7777777777777778, \"#fb9f3a\"], [0.8888888888888888, \"#fdca26\"], [1.0, \"#f0f921\"]]}, \"colorway\": [\"#636efa\", \"#EF553B\", \"#00cc96\", \"#ab63fa\", \"#FFA15A\", \"#19d3f3\", \"#FF6692\", \"#B6E880\", \"#FF97FF\", \"#FECB52\"], \"font\": {\"color\": \"#2a3f5f\"}, \"geo\": {\"bgcolor\": \"white\", \"lakecolor\": \"white\", \"landcolor\": \"#E5ECF6\", \"showlakes\": true, \"showland\": true, \"subunitcolor\": \"white\"}, \"hoverlabel\": {\"align\": \"left\"}, \"hovermode\": \"closest\", \"mapbox\": {\"style\": \"light\"}, \"paper_bgcolor\": \"white\", \"plot_bgcolor\": \"#E5ECF6\", \"polar\": {\"angularaxis\": {\"gridcolor\": \"white\", \"linecolor\": \"white\", \"ticks\": \"\"}, \"bgcolor\": \"#E5ECF6\", \"radialaxis\": {\"gridcolor\": \"white\", \"linecolor\": \"white\", \"ticks\": \"\"}}, \"scene\": {\"xaxis\": {\"backgroundcolor\": \"#E5ECF6\", \"gridcolor\": \"white\", \"gridwidth\": 2, \"linecolor\": \"white\", \"showbackground\": true, \"ticks\": \"\", \"zerolinecolor\": \"white\"}, \"yaxis\": {\"backgroundcolor\": \"#E5ECF6\", \"gridcolor\": \"white\", \"gridwidth\": 2, \"linecolor\": \"white\", \"showbackground\": true, \"ticks\": \"\", \"zerolinecolor\": \"white\"}, \"zaxis\": {\"backgroundcolor\": \"#E5ECF6\", \"gridcolor\": \"white\", \"gridwidth\": 2, \"linecolor\": \"white\", \"showbackground\": true, \"ticks\": \"\", \"zerolinecolor\": \"white\"}}, \"shapedefaults\": {\"line\": {\"color\": \"#2a3f5f\"}}, \"ternary\": {\"aaxis\": {\"gridcolor\": \"white\", \"linecolor\": \"white\", \"ticks\": \"\"}, \"baxis\": {\"gridcolor\": \"white\", \"linecolor\": \"white\", \"ticks\": \"\"}, \"bgcolor\": \"#E5ECF6\", \"caxis\": {\"gridcolor\": \"white\", \"linecolor\": \"white\", \"ticks\": \"\"}}, \"title\": {\"x\": 0.05}, \"xaxis\": {\"automargin\": true, \"gridcolor\": \"white\", \"linecolor\": \"white\", \"ticks\": \"\", \"title\": {\"standoff\": 15}, \"zerolinecolor\": \"white\", \"zerolinewidth\": 2}, \"yaxis\": {\"automargin\": true, \"gridcolor\": \"white\", \"linecolor\": \"white\", \"ticks\": \"\", \"title\": {\"standoff\": 15}, \"zerolinecolor\": \"white\", \"zerolinewidth\": 2}}}, \"title\": {\"text\": \"Frequency purchases per day of the week\"}, \"xaxis\": {\"title\": {\"text\": \"Day of the week\"}}, \"yaxis\": {\"title\": {\"text\": \"Total Frequency\"}}},                        {\"responsive\": true}                    ).then(function(){\n",
       "                            \n",
       "var gd = document.getElementById('8eab22c5-3d59-4e61-87d5-a4b7eb2c26eb');\n",
       "var x = new MutationObserver(function (mutations, observer) {{\n",
       "        var display = window.getComputedStyle(gd).display;\n",
       "        if (!display || display === 'none') {{\n",
       "            console.log([gd, 'removed!']);\n",
       "            Plotly.purge(gd);\n",
       "            observer.disconnect();\n",
       "        }}\n",
       "}});\n",
       "\n",
       "// Listen for the removal of the full notebook cells\n",
       "var notebookContainer = gd.closest('#notebook-container');\n",
       "if (notebookContainer) {{\n",
       "    x.observe(notebookContainer, {childList: true});\n",
       "}}\n",
       "\n",
       "// Listen for the clearing of the current output cell\n",
       "var outputEl = gd.closest('.output');\n",
       "if (outputEl) {{\n",
       "    x.observe(outputEl, {childList: true});\n",
       "}}\n",
       "\n",
       "                        })                };                });            </script>        </div>"
      ]
     },
     "metadata": {},
     "output_type": "display_data"
    }
   ],
   "source": [
    "product_per_hour('red wines')"
   ]
  },
  {
   "cell_type": "code",
   "execution_count": 168,
   "metadata": {},
   "outputs": [
    {
     "data": {
      "text/plain": [
       "['fresh fruits',\n",
       " 'fresh vegetables',\n",
       " 'fresh herbs',\n",
       " 'baby food formula',\n",
       " 'canned meals beans',\n",
       " 'cream',\n",
       " 'meat counter',\n",
       " 'frozen meals',\n",
       " 'fresh dips tapenades',\n",
       " 'chips pretzels',\n",
       " 'oils vinegars',\n",
       " 'butter',\n",
       " 'other creams cheeses',\n",
       " 'poultry counter',\n",
       " 'milk',\n",
       " 'spreads',\n",
       " 'packaged cheese',\n",
       " 'yogurt',\n",
       " 'canned jarred vegetables',\n",
       " 'eggs',\n",
       " 'frozen produce',\n",
       " 'doughs gelatins bake mixes',\n",
       " 'packaged vegetables fruits',\n",
       " 'refrigerated',\n",
       " 'seafood counter',\n",
       " 'soy lactosefree',\n",
       " 'coffee',\n",
       " 'water seltzer sparkling water',\n",
       " 'paper goods',\n",
       " 'frozen juice',\n",
       " 'vitamins supplements',\n",
       " 'soup broth bouillon',\n",
       " 'energy granola bars',\n",
       " 'soft drinks',\n",
       " 'crackers',\n",
       " 'spices seasonings',\n",
       " 'baking ingredients',\n",
       " 'asian foods',\n",
       " 'cereal',\n",
       " 'condiments',\n",
       " 'hot dogs bacon sausage',\n",
       " 'honeys syrups nectars',\n",
       " 'canned fruit applesauce',\n",
       " 'cleaning products',\n",
       " 'oral hygiene',\n",
       " 'bread',\n",
       " 'packaged poultry',\n",
       " 'instant foods',\n",
       " 'dry pasta',\n",
       " 'prepared soups salads',\n",
       " 'granola',\n",
       " 'popcorn jerky',\n",
       " 'protein meal replacements',\n",
       " 'candy chocolate',\n",
       " 'indian foods',\n",
       " 'fruit vegetable snacks',\n",
       " 'frozen breakfast',\n",
       " 'tea',\n",
       " 'cat food care',\n",
       " 'preserved dips spreads',\n",
       " 'hot cereal pancake mixes',\n",
       " 'juice nectars',\n",
       " 'canned meat seafood',\n",
       " 'pasta sauce',\n",
       " 'breakfast bakery',\n",
       " 'ice cream ice',\n",
       " 'nuts seeds dried fruit',\n",
       " 'frozen vegan vegetarian',\n",
       " 'marinades meat preparation',\n",
       " 'ice cream toppings',\n",
       " 'frozen appetizers sides',\n",
       " 'energy sports drinks',\n",
       " 'food storage',\n",
       " 'laundry',\n",
       " 'spirits',\n",
       " 'bakery desserts',\n",
       " 'soap',\n",
       " 'tofu meat alternatives',\n",
       " 'packaged produce',\n",
       " 'frozen breads doughs',\n",
       " 'tortillas flat bread',\n",
       " 'refrigerated pudding desserts',\n",
       " 'dish detergents',\n",
       " 'cookies cakes',\n",
       " 'lunch meat',\n",
       " 'beers coolers',\n",
       " 'bulk grains rice dried goods',\n",
       " 'grains rice dried goods',\n",
       " 'packaged seafood',\n",
       " 'mint gum',\n",
       " 'prepared meals',\n",
       " 'breakfast bars pastries',\n",
       " 'fresh pasta',\n",
       " 'pickled goods olives',\n",
       " 'missing',\n",
       " 'frozen meat seafood',\n",
       " 'diapers wipes',\n",
       " 'digestion',\n",
       " 'trash bags liners',\n",
       " 'specialty cheeses',\n",
       " 'buns rolls',\n",
       " 'frozen pizza',\n",
       " 'salad dressing toppings',\n",
       " 'kosher foods',\n",
       " 'bulk dried fruits vegetables',\n",
       " 'baking supplies decor',\n",
       " 'latino foods',\n",
       " 'facial care',\n",
       " 'other',\n",
       " 'cocoa drink mixes',\n",
       " 'plates bowls cups flatware',\n",
       " 'white wines',\n",
       " 'more household',\n",
       " 'air fresheners candles',\n",
       " 'feminine care',\n",
       " 'body lotions soap',\n",
       " 'deodorants',\n",
       " 'skin care',\n",
       " 'packaged meat',\n",
       " 'cold flu allergy',\n",
       " 'hair care',\n",
       " 'dog food care',\n",
       " 'red wines',\n",
       " 'trail mix snack mix',\n",
       " 'baby bath body care',\n",
       " 'baby accessories',\n",
       " 'first aid',\n",
       " 'eye ear care',\n",
       " 'muscles joints pain relief',\n",
       " 'kitchen supplies',\n",
       " 'frozen dessert',\n",
       " 'shave needs',\n",
       " 'specialty wines champagnes',\n",
       " 'beauty']"
      ]
     },
     "execution_count": 168,
     "metadata": {},
     "output_type": "execute_result"
    }
   ],
   "source": [
    "df['product_name'].unique().tolist()"
   ]
  },
  {
   "cell_type": "code",
   "execution_count": null,
   "metadata": {},
   "outputs": [],
   "source": []
  }
 ],
 "metadata": {
  "kernelspec": {
   "display_name": "Python 3",
   "language": "python",
   "name": "python3"
  },
  "language_info": {
   "codemirror_mode": {
    "name": "ipython",
    "version": 3
   },
   "file_extension": ".py",
   "mimetype": "text/x-python",
   "name": "python",
   "nbconvert_exporter": "python",
   "pygments_lexer": "ipython3",
   "version": "3.8.5"
  }
 },
 "nbformat": 4,
 "nbformat_minor": 2
}
