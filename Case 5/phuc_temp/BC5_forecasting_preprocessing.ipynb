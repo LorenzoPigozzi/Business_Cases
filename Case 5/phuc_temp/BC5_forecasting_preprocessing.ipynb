{
 "metadata": {
  "language_info": {
   "codemirror_mode": {
    "name": "ipython",
    "version": 3
   },
   "file_extension": ".py",
   "mimetype": "text/x-python",
   "name": "python",
   "nbconvert_exporter": "python",
   "pygments_lexer": "ipython3",
   "version": "3.8.5"
  },
  "orig_nbformat": 2,
  "kernelspec": {
   "name": "python3",
   "display_name": "Python 3"
  }
 },
 "nbformat": 4,
 "nbformat_minor": 2,
 "cells": [
  {
   "cell_type": "code",
   "execution_count": 1,
   "metadata": {},
   "outputs": [],
   "source": [
    "import pandas as pd\n",
    "import numpy as np\n",
    "import seaborn as sns\n",
    "import matplotlib.pyplot as plt\n",
    "# Sklearn\n",
    "from sklearn.preprocessing import MinMaxScaler, StandardScaler, RobustScaler, PowerTransformer,QuantileTransformer, OneHotEncoder\n",
    "\n",
    "#Visualization\n",
    "import matplotlib.cm as cm\n",
    "from sklearn import random_projection\n",
    "\n",
    "import datetime"
   ]
  },
  {
   "cell_type": "code",
   "execution_count": 2,
   "metadata": {},
   "outputs": [],
   "source": [
    "dtype_dict = {\n",
    "    'ProductFamily_ID':'category',\n",
    "    'ProductCategory_ID':'category',\n",
    "    'ProductBrand_ID':'category',\n",
    "    'ProductName_ID':'category',\n",
    "    'ProductPackSKU_ID':'category',\n",
    "    'Point-of-Sale_ID':'category',\n",
    "    'Measures':'category',\n",
    "    'Quantity':'float32',\n",
    "    'Total_Sales':'float32',\n",
    "    'Value':'float32',\n",
    "    'Week': 'int32',\n",
    "    'Year':'int32'\n",
    "}\n",
    "original_path = r'D:\\NOVAIMS_MAA\\NOVAIMS_MAA_2020e21_BusinessCasesDataScience_MindOverData_RetailChallenge.csv'\n",
    "path = r'D:\\NOVAIMS_MAA\\NOVAIMS_MAA_final_1.csv'"
   ]
  },
  {
   "cell_type": "code",
   "execution_count": 3,
   "metadata": {},
   "outputs": [
    {
     "output_type": "execute_result",
     "data": {
      "text/plain": [
       "  ProductFamily_ID ProductCategory_ID ProductBrand_ID ProductName_ID  \\\n",
       "0               16                 11             306            649   \n",
       "1               16                 11             306            649   \n",
       "2               16                 11             306            649   \n",
       "3               16                 11             306            649   \n",
       "4               16                 11             306            649   \n",
       "\n",
       "  ProductPackSKU_ID Point-of-Sale_ID       Date  Quantity  Total_Sales  \n",
       "0              1970                1 2017-03-04       2.0       1540.0  \n",
       "1              1970                1 2016-05-02       4.0       3080.0  \n",
       "2              1970                1 2016-10-24       2.0       1540.0  \n",
       "3              1970                1 2017-10-13       2.0       1620.0  \n",
       "4              1970                1 2017-10-14       2.0       1620.0  "
      ],
      "text/html": "<div>\n<style scoped>\n    .dataframe tbody tr th:only-of-type {\n        vertical-align: middle;\n    }\n\n    .dataframe tbody tr th {\n        vertical-align: top;\n    }\n\n    .dataframe thead th {\n        text-align: right;\n    }\n</style>\n<table border=\"1\" class=\"dataframe\">\n  <thead>\n    <tr style=\"text-align: right;\">\n      <th></th>\n      <th>ProductFamily_ID</th>\n      <th>ProductCategory_ID</th>\n      <th>ProductBrand_ID</th>\n      <th>ProductName_ID</th>\n      <th>ProductPackSKU_ID</th>\n      <th>Point-of-Sale_ID</th>\n      <th>Date</th>\n      <th>Quantity</th>\n      <th>Total_Sales</th>\n    </tr>\n  </thead>\n  <tbody>\n    <tr>\n      <th>0</th>\n      <td>16</td>\n      <td>11</td>\n      <td>306</td>\n      <td>649</td>\n      <td>1970</td>\n      <td>1</td>\n      <td>2017-03-04</td>\n      <td>2.0</td>\n      <td>1540.0</td>\n    </tr>\n    <tr>\n      <th>1</th>\n      <td>16</td>\n      <td>11</td>\n      <td>306</td>\n      <td>649</td>\n      <td>1970</td>\n      <td>1</td>\n      <td>2016-05-02</td>\n      <td>4.0</td>\n      <td>3080.0</td>\n    </tr>\n    <tr>\n      <th>2</th>\n      <td>16</td>\n      <td>11</td>\n      <td>306</td>\n      <td>649</td>\n      <td>1970</td>\n      <td>1</td>\n      <td>2016-10-24</td>\n      <td>2.0</td>\n      <td>1540.0</td>\n    </tr>\n    <tr>\n      <th>3</th>\n      <td>16</td>\n      <td>11</td>\n      <td>306</td>\n      <td>649</td>\n      <td>1970</td>\n      <td>1</td>\n      <td>2017-10-13</td>\n      <td>2.0</td>\n      <td>1620.0</td>\n    </tr>\n    <tr>\n      <th>4</th>\n      <td>16</td>\n      <td>11</td>\n      <td>306</td>\n      <td>649</td>\n      <td>1970</td>\n      <td>1</td>\n      <td>2017-10-14</td>\n      <td>2.0</td>\n      <td>1620.0</td>\n    </tr>\n  </tbody>\n</table>\n</div>"
     },
     "metadata": {},
     "execution_count": 3
    }
   ],
   "source": [
    "example = pd.read_csv(path,dtype=dtype_dict,parse_dates=['Date'],nrows = 1000,usecols = [1,2,3,4,5,6,7,8,9])\n",
    "example.head()"
   ]
  },
  {
   "cell_type": "code",
   "execution_count": 11,
   "metadata": {},
   "outputs": [],
   "source": [
    "df = pd.read_csv(path,dtype=dtype_dict,usecols = [4,7,8])"
   ]
  },
  {
   "cell_type": "code",
   "execution_count": 12,
   "metadata": {},
   "outputs": [
    {
     "output_type": "stream",
     "name": "stdout",
     "text": [
      "<class 'pandas.core.frame.DataFrame'>\nRangeIndex: 91187504 entries, 0 to 91187503\nData columns (total 3 columns):\n #   Column          Dtype   \n---  ------          -----   \n 0   ProductName_ID  category\n 1   Date            object  \n 2   Quantity        float32 \ndtypes: category(1), float32(1), object(1)\nmemory usage: 1.2+ GB\n"
     ]
    }
   ],
   "source": [
    "df.info()"
   ]
  },
  {
   "cell_type": "code",
   "execution_count": 13,
   "metadata": {},
   "outputs": [],
   "source": [
    "\n",
    "def memoize_dt(s):\n",
    "    \"\"\"\n",
    "    Memoization technique\n",
    "    \"\"\"\n",
    "    dates = {date:datetime.datetime.strptime(date,'%Y-%m-%d') for date in s.unique()}\n",
    "    return s.map(dates)\n",
    "\n",
    "def memoize_week(s):\n",
    "    \"\"\"\n",
    "    Memoization technique\n",
    "    \"\"\"\n",
    "    weeks = {date: date.week for date in s.unique()}\n",
    "    return s.map(weeks)\n",
    "def memoize_month(s):\n",
    "    \"\"\"\n",
    "    Memoization technique\n",
    "    \"\"\"\n",
    "    months = {date: date[5:7] for date in s.unique()}\n",
    "    return s.map(months)\n",
    "def memoize_year(s):\n",
    "    \"\"\"\n",
    "    Memoization technique\n",
    "    \"\"\"\n",
    "    years = {date: date[:4] for date in s.unique()}\n",
    "    return s.map(years)\n",
    "\n",
    "def preprocessing(dataframe):\n",
    "    print(\"Generating Year and Month...\")\n",
    "    dataframe['Month'] = memoize_month(dataframe.Date)\n",
    "    dataframe['Year'] = memoize_year(dataframe.Date)\n",
    "    print(\"Converting datetime...\")\n",
    "    dataframe.Date  = memoize_dt(dataframe.Date)\n",
    "    print(\"Generating week...\")\n",
    "    dataframe['Week'] = dataframe.Date.dt.week\n",
    "    dataframe.drop(columns = \"Date\",inplace = True)\n",
    "    print(\"Finalize...\")\n",
    "    dataframe.Month = dataframe.Month.astype(\"category\")\n",
    "    dataframe.Year = dataframe.Year.astype(\"category\")\n",
    "    dataframe.Week = dataframe.Week.astype(\"category\")\n",
    "    return dataframe"
   ]
  },
  {
   "cell_type": "code",
   "execution_count": 14,
   "metadata": {},
   "outputs": [
    {
     "output_type": "stream",
     "name": "stdout",
     "text": [
      "Generating Year and Month\n",
      "Converting datetime\n",
      "Generating week\n",
      "Finalize...\n"
     ]
    }
   ],
   "source": [
    "df = preprocessing(df)"
   ]
  },
  {
   "cell_type": "code",
   "execution_count": 15,
   "metadata": {},
   "outputs": [
    {
     "output_type": "stream",
     "name": "stdout",
     "text": [
      "<class 'pandas.core.frame.DataFrame'>\nRangeIndex: 91187504 entries, 0 to 91187503\nData columns (total 6 columns):\n #   Column          Dtype         \n---  ------          -----         \n 0   ProductName_ID  category      \n 1   Date            datetime64[ns]\n 2   Quantity        float32       \n 3   Month           category      \n 4   Year            category      \n 5   Week            category      \ndtypes: category(4), datetime64[ns](1), float32(1)\nmemory usage: 1.4 GB\n"
     ]
    }
   ],
   "source": [
    "df.info()"
   ]
  },
  {
   "cell_type": "code",
   "execution_count": 17,
   "metadata": {},
   "outputs": [
    {
     "output_type": "execute_result",
     "data": {
      "text/plain": [
       "         Year Month Week ProductName_ID  Quantity\n",
       "0        2016    01    1           1000       NaN\n",
       "1        2016    01    1           1004       NaN\n",
       "2        2016    01    1           1006       NaN\n",
       "3        2016    01    1           1007       NaN\n",
       "4        2016    01    1           1013       NaN\n",
       "...       ...   ...  ...            ...       ...\n",
       "7174075  2019    12   53           2231       NaN\n",
       "7174076  2019    12   53            546       NaN\n",
       "7174077  2019    12   53           1665       NaN\n",
       "7174078  2019    12   53           1127       NaN\n",
       "7174079  2019    12   53           1167       NaN\n",
       "\n",
       "[7174080 rows x 5 columns]"
      ],
      "text/html": "<div>\n<style scoped>\n    .dataframe tbody tr th:only-of-type {\n        vertical-align: middle;\n    }\n\n    .dataframe tbody tr th {\n        vertical-align: top;\n    }\n\n    .dataframe thead th {\n        text-align: right;\n    }\n</style>\n<table border=\"1\" class=\"dataframe\">\n  <thead>\n    <tr style=\"text-align: right;\">\n      <th></th>\n      <th>Year</th>\n      <th>Month</th>\n      <th>Week</th>\n      <th>ProductName_ID</th>\n      <th>Quantity</th>\n    </tr>\n  </thead>\n  <tbody>\n    <tr>\n      <th>0</th>\n      <td>2016</td>\n      <td>01</td>\n      <td>1</td>\n      <td>1000</td>\n      <td>NaN</td>\n    </tr>\n    <tr>\n      <th>1</th>\n      <td>2016</td>\n      <td>01</td>\n      <td>1</td>\n      <td>1004</td>\n      <td>NaN</td>\n    </tr>\n    <tr>\n      <th>2</th>\n      <td>2016</td>\n      <td>01</td>\n      <td>1</td>\n      <td>1006</td>\n      <td>NaN</td>\n    </tr>\n    <tr>\n      <th>3</th>\n      <td>2016</td>\n      <td>01</td>\n      <td>1</td>\n      <td>1007</td>\n      <td>NaN</td>\n    </tr>\n    <tr>\n      <th>4</th>\n      <td>2016</td>\n      <td>01</td>\n      <td>1</td>\n      <td>1013</td>\n      <td>NaN</td>\n    </tr>\n    <tr>\n      <th>...</th>\n      <td>...</td>\n      <td>...</td>\n      <td>...</td>\n      <td>...</td>\n      <td>...</td>\n    </tr>\n    <tr>\n      <th>7174075</th>\n      <td>2019</td>\n      <td>12</td>\n      <td>53</td>\n      <td>2231</td>\n      <td>NaN</td>\n    </tr>\n    <tr>\n      <th>7174076</th>\n      <td>2019</td>\n      <td>12</td>\n      <td>53</td>\n      <td>546</td>\n      <td>NaN</td>\n    </tr>\n    <tr>\n      <th>7174077</th>\n      <td>2019</td>\n      <td>12</td>\n      <td>53</td>\n      <td>1665</td>\n      <td>NaN</td>\n    </tr>\n    <tr>\n      <th>7174078</th>\n      <td>2019</td>\n      <td>12</td>\n      <td>53</td>\n      <td>1127</td>\n      <td>NaN</td>\n    </tr>\n    <tr>\n      <th>7174079</th>\n      <td>2019</td>\n      <td>12</td>\n      <td>53</td>\n      <td>1167</td>\n      <td>NaN</td>\n    </tr>\n  </tbody>\n</table>\n<p>7174080 rows × 5 columns</p>\n</div>"
     },
     "metadata": {},
     "execution_count": 17
    }
   ],
   "source": [
    "df[:100].groupby(['Year','Month','Week','ProductName_ID']).sum()['Quantity'].reset_index()"
   ]
  },
  {
   "cell_type": "code",
   "execution_count": 30,
   "metadata": {},
   "outputs": [],
   "source": [
    "df = df.groupby(['Year','Month','Week','ProductName_ID']).sum()['Quantity'].reset_index()\n",
    "#df.to_csv(r'D:\\NOVAIMS_MAA\\timeseries\\product_total_ts.csv')"
   ]
  },
  {
   "cell_type": "code",
   "execution_count": 34,
   "metadata": {},
   "outputs": [],
   "source": [
    "df = pd.read_csv(r'D:\\NOVAIMS_MAA\\timeseries\\product_total_ts.csv',dtype=dtype_dict,usecols = [1,2,3,4,5])"
   ]
  },
  {
   "cell_type": "code",
   "execution_count": 36,
   "metadata": {},
   "outputs": [
    {
     "output_type": "stream",
     "name": "stdout",
     "text": [
      "<class 'pandas.core.frame.DataFrame'>\nRangeIndex: 7174080 entries, 0 to 7174079\nData columns (total 5 columns):\n #   Column          Dtype   \n---  ------          -----   \n 0   Year            int32   \n 1   Month           int64   \n 2   Week            int32   \n 3   ProductName_ID  category\n 4   Quantity        float32 \ndtypes: category(1), float32(1), int32(2), int64(1)\nmemory usage: 150.6 MB\n"
     ]
    }
   ],
   "source": [
    "df.info()\n",
    "df.dropna(inplace=True)"
   ]
  },
  {
   "cell_type": "code",
   "execution_count": null,
   "metadata": {},
   "outputs": [],
   "source": [
    "df.head"
   ]
  },
  {
   "cell_type": "code",
   "execution_count": null,
   "metadata": {},
   "outputs": [],
   "source": []
  }
 ]
}