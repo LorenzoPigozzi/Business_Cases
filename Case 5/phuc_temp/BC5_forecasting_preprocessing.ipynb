{
 "metadata": {
  "language_info": {
   "codemirror_mode": {
    "name": "ipython",
    "version": 3
   },
   "file_extension": ".py",
   "mimetype": "text/x-python",
   "name": "python",
   "nbconvert_exporter": "python",
   "pygments_lexer": "ipython3",
   "version": "3.8.5"
  },
  "orig_nbformat": 2,
  "kernelspec": {
   "name": "python3",
   "display_name": "Python 3"
  }
 },
 "nbformat": 4,
 "nbformat_minor": 2,
 "cells": [
  {
   "cell_type": "code",
   "execution_count": 3,
   "metadata": {},
   "outputs": [],
   "source": [
    "import pandas as pd\n",
    "import numpy as np\n",
    "import seaborn as sns\n",
    "import matplotlib.pyplot as plt\n",
    "# Sklearn\n",
    "from sklearn.preprocessing import MinMaxScaler, StandardScaler, RobustScaler, PowerTransformer,QuantileTransformer, OneHotEncoder\n",
    "\n",
    "#Visualization\n",
    "import matplotlib.cm as cm\n",
    "from sklearn import random_projection\n",
    "\n",
    "import datetime"
   ]
  },
  {
   "cell_type": "code",
   "execution_count": 4,
   "metadata": {},
   "outputs": [],
   "source": [
    "dtype_dict = {\n",
    "    'ProductFamily_ID':'category',\n",
    "    'ProductCategory_ID':'category',\n",
    "    'ProductBrand_ID':'category',\n",
    "    'ProductName_ID':'category',\n",
    "    'ProductPackSKU_ID':'category',\n",
    "    'Point-of-Sale_ID':'category',\n",
    "    'Measures':'category',\n",
    "    'Quantity':'float32',\n",
    "    'Total_Sales':'float32',\n",
    "    'Value':'float32',\n",
    "    'Week': 'int32',\n",
    "    'Year':'int32'\n",
    "}\n",
    "original_path = r'D:\\NOVAIMS_MAA\\NOVAIMS_MAA_2020e21_BusinessCasesDataScience_MindOverData_RetailChallenge.csv'\n",
    "path = r'D:\\NOVAIMS_MAA\\NOVAIMS_MAA_final_1.csv'"
   ]
  },
  {
   "cell_type": "code",
   "execution_count": 3,
   "metadata": {},
   "outputs": [
    {
     "output_type": "execute_result",
     "data": {
      "text/plain": [
       "  ProductFamily_ID ProductCategory_ID ProductBrand_ID ProductName_ID  \\\n",
       "0               16                 11             306            649   \n",
       "1               16                 11             306            649   \n",
       "2               16                 11             306            649   \n",
       "3               16                 11             306            649   \n",
       "4               16                 11             306            649   \n",
       "\n",
       "  ProductPackSKU_ID Point-of-Sale_ID       Date  Quantity  Total_Sales  \n",
       "0              1970                1 2017-03-04       2.0       1540.0  \n",
       "1              1970                1 2016-05-02       4.0       3080.0  \n",
       "2              1970                1 2016-10-24       2.0       1540.0  \n",
       "3              1970                1 2017-10-13       2.0       1620.0  \n",
       "4              1970                1 2017-10-14       2.0       1620.0  "
      ],
      "text/html": "<div>\n<style scoped>\n    .dataframe tbody tr th:only-of-type {\n        vertical-align: middle;\n    }\n\n    .dataframe tbody tr th {\n        vertical-align: top;\n    }\n\n    .dataframe thead th {\n        text-align: right;\n    }\n</style>\n<table border=\"1\" class=\"dataframe\">\n  <thead>\n    <tr style=\"text-align: right;\">\n      <th></th>\n      <th>ProductFamily_ID</th>\n      <th>ProductCategory_ID</th>\n      <th>ProductBrand_ID</th>\n      <th>ProductName_ID</th>\n      <th>ProductPackSKU_ID</th>\n      <th>Point-of-Sale_ID</th>\n      <th>Date</th>\n      <th>Quantity</th>\n      <th>Total_Sales</th>\n    </tr>\n  </thead>\n  <tbody>\n    <tr>\n      <th>0</th>\n      <td>16</td>\n      <td>11</td>\n      <td>306</td>\n      <td>649</td>\n      <td>1970</td>\n      <td>1</td>\n      <td>2017-03-04</td>\n      <td>2.0</td>\n      <td>1540.0</td>\n    </tr>\n    <tr>\n      <th>1</th>\n      <td>16</td>\n      <td>11</td>\n      <td>306</td>\n      <td>649</td>\n      <td>1970</td>\n      <td>1</td>\n      <td>2016-05-02</td>\n      <td>4.0</td>\n      <td>3080.0</td>\n    </tr>\n    <tr>\n      <th>2</th>\n      <td>16</td>\n      <td>11</td>\n      <td>306</td>\n      <td>649</td>\n      <td>1970</td>\n      <td>1</td>\n      <td>2016-10-24</td>\n      <td>2.0</td>\n      <td>1540.0</td>\n    </tr>\n    <tr>\n      <th>3</th>\n      <td>16</td>\n      <td>11</td>\n      <td>306</td>\n      <td>649</td>\n      <td>1970</td>\n      <td>1</td>\n      <td>2017-10-13</td>\n      <td>2.0</td>\n      <td>1620.0</td>\n    </tr>\n    <tr>\n      <th>4</th>\n      <td>16</td>\n      <td>11</td>\n      <td>306</td>\n      <td>649</td>\n      <td>1970</td>\n      <td>1</td>\n      <td>2017-10-14</td>\n      <td>2.0</td>\n      <td>1620.0</td>\n    </tr>\n  </tbody>\n</table>\n</div>"
     },
     "metadata": {},
     "execution_count": 3
    }
   ],
   "source": [
    "example = pd.read_csv(path,dtype=dtype_dict,parse_dates=['Date'],nrows = 1000,usecols = [1,2,3,4,5,6,7,8,9])\n",
    "example.head()"
   ]
  },
  {
   "cell_type": "code",
   "execution_count": 4,
   "metadata": {},
   "outputs": [],
   "source": [
    "df = pd.read_csv(path,dtype=dtype_dict,usecols = [4,7,8])"
   ]
  },
  {
   "cell_type": "code",
   "execution_count": 5,
   "metadata": {},
   "outputs": [],
   "source": [
    "df.Date  = df.Date.astype(\"datetime64\")"
   ]
  },
  {
   "cell_type": "code",
   "execution_count": 6,
   "metadata": {},
   "outputs": [
    {
     "output_type": "stream",
     "name": "stdout",
     "text": [
      "<class 'pandas.core.frame.DataFrame'>\nRangeIndex: 91187504 entries, 0 to 91187503\nData columns (total 3 columns):\n #   Column          Dtype         \n---  ------          -----         \n 0   ProductName_ID  category      \n 1   Date            datetime64[ns]\n 2   Quantity        float32       \ndtypes: category(1), datetime64[ns](1), float32(1)\nmemory usage: 1.2 GB\n"
     ]
    }
   ],
   "source": [
    "df.info()"
   ]
  },
  {
   "cell_type": "code",
   "execution_count": 7,
   "metadata": {},
   "outputs": [],
   "source": [
    "df['Week'] = df['Date'].dt.week"
   ]
  },
  {
   "cell_type": "code",
   "execution_count": 8,
   "metadata": {},
   "outputs": [],
   "source": [
    "df['Year'] = df['Date'].dt.year"
   ]
  },
  {
   "cell_type": "code",
   "execution_count": 9,
   "metadata": {},
   "outputs": [],
   "source": [
    "df = df[df['Year'] >= 2018]"
   ]
  },
  {
   "cell_type": "code",
   "execution_count": 10,
   "metadata": {},
   "outputs": [],
   "source": [
    "df.drop(columns = \"Date\",inplace = True)"
   ]
  },
  {
   "cell_type": "code",
   "execution_count": 11,
   "metadata": {},
   "outputs": [
    {
     "output_type": "stream",
     "name": "stdout",
     "text": [
      "<class 'pandas.core.frame.DataFrame'>\nInt64Index: 45131103 entries, 27 to 91187495\nData columns (total 4 columns):\n #   Column          Dtype   \n---  ------          -----   \n 0   ProductName_ID  category\n 1   Quantity        float32 \n 2   Week            int64   \n 3   Year            int64   \ndtypes: category(1), float32(1), int64(2)\nmemory usage: 1.3 GB\n"
     ]
    }
   ],
   "source": [
    "df.info()"
   ]
  },
  {
   "cell_type": "code",
   "execution_count": 12,
   "metadata": {},
   "outputs": [],
   "source": [
    "#df = df.groupby(['Year','Week','ProductName_ID']).sum()['Quantity'].reset_index()\n",
    "#df.to_csv(r'D:\\NOVAIMS_MAA\\timeseries\\product_week_year.csv')"
   ]
  },
  {
   "cell_type": "code",
   "execution_count": 5,
   "metadata": {},
   "outputs": [],
   "source": [
    "df = pd.read_csv(r'D:\\NOVAIMS_MAA\\timeseries\\product_week_year.csv',dtype=dtype_dict,usecols = [1,2,3,4])"
   ]
  },
  {
   "cell_type": "code",
   "execution_count": 8,
   "metadata": {},
   "outputs": [],
   "source": [
    "agg_df = df.groupby(['Year','Week','ProductName_ID']).sum()['Quantity'].reset_index()"
   ]
  },
  {
   "cell_type": "code",
   "execution_count": 10,
   "metadata": {},
   "outputs": [],
   "source": [
    "agg_df.dropna(inplace=True)"
   ]
  },
  {
   "cell_type": "code",
   "execution_count": 12,
   "metadata": {},
   "outputs": [],
   "source": [
    "agg_df.to_csv(r'D:\\NOVAIMS_MAA\\timeseries\\agg_product_week_year.csv')"
   ]
  },
  {
   "cell_type": "code",
   "execution_count": null,
   "metadata": {},
   "outputs": [],
   "source": []
  }
 ]
}