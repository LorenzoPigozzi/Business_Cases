{
 "cells": [
  {
   "cell_type": "markdown",
   "metadata": {},
   "source": [
    "# Business Case 5\n",
    "\n",
    "## PoS Appliance’s Retail \n",
    "\n",
    "**Group members:**\n",
    "- Lorenzo Pigozzi\t--- m20200745\n",
    "- Nguyen Huy Phuc\t--- m20200566\n",
    "- Ema Mandura\t  --- m20200647\n",
    "- Xavier Goncalves  --- m20201090"
   ]
  },
  {
   "cell_type": "markdown",
   "metadata": {},
   "source": [
    "#### **Expected outcomes**\n",
    "\n",
    "- **How can I understand each Point-of-Sale characteristics ?**\\\n",
    "  Quarterly analysis of\n",
    "     - Top products sold\n",
    "     - Market Share (Family, Category), preferences\n",
    "     - Product co-ocorrences\n",
    "- **Point-of-Sales Clustering**\n",
    " - Value\n",
    " - Product preference\n",
    "- **Forecasting**\n",
    " - Units Product forecast (6 weeks ahead)\n",
    " - Units Product forecast by Poit-of-Sale (6 weeks ahead)"
   ]
  },
  {
   "cell_type": "markdown",
   "metadata": {},
   "source": [
    "<a class=\"anchor\" id=\"0.1\"></a>\n",
    "# **Table of Contents**\n",
    "\n",
    "1.\t[Importing data and libraries](#1)   \n",
    "2.\t[Exploratory data analysis (EDA)](#2)       \n",
    "3.\t[Data Engineering](#3) \n"
   ]
  },
  {
   "cell_type": "markdown",
   "metadata": {},
   "source": [
    "# 1. Importing data and libraries <a class=\"anchor\" id=\"1\"></a>"
   ]
  },
  {
   "cell_type": "code",
   "execution_count": 13,
   "metadata": {},
   "outputs": [],
   "source": [
    "import pandas as pd\n",
    "import datetime"
   ]
  },
  {
   "cell_type": "code",
   "execution_count": 41,
   "metadata": {},
   "outputs": [
    {
     "data": {
      "text/plain": [
       "<pandas.io.parsers.TextFileReader at 0x269d36ce850>"
      ]
     },
     "execution_count": 41,
     "metadata": {},
     "output_type": "execute_result"
    }
   ],
   "source": [
    "df2 = pd.read_csv('dataset/NOVAIMS_MAA_2020e21_BusinessCasesDataScience_MindOverData_RetailChallenge.csv')\n",
    "# data = pd.read_csv('dataset/NOVAIMS_MAA_2020e21_BusinessCasesDataScience_MindOverData_RetailChallenge.csv', iterator=True, chunksize=1000)\n",
    "data"
   ]
  },
  {
   "cell_type": "code",
   "execution_count": 27,
   "metadata": {},
   "outputs": [],
   "source": [
    "# data = pd.concat([chunk for chunk in df])"
   ]
  },
  {
   "cell_type": "code",
   "execution_count": 46,
   "metadata": {},
   "outputs": [],
   "source": [
    "df = chunk.copy()"
   ]
  },
  {
   "cell_type": "markdown",
   "metadata": {},
   "source": [
    "# 2. Exploratory Data Analysis <a class=\"anchor\" id=\"2\"></a>"
   ]
  },
  {
   "cell_type": "code",
   "execution_count": 14,
   "metadata": {},
   "outputs": [
    {
     "data": {
      "text/html": [
       "<div>\n",
       "<style scoped>\n",
       "    .dataframe tbody tr th:only-of-type {\n",
       "        vertical-align: middle;\n",
       "    }\n",
       "\n",
       "    .dataframe tbody tr th {\n",
       "        vertical-align: top;\n",
       "    }\n",
       "\n",
       "    .dataframe thead th {\n",
       "        text-align: right;\n",
       "    }\n",
       "</style>\n",
       "<table border=\"1\" class=\"dataframe\">\n",
       "  <thead>\n",
       "    <tr style=\"text-align: right;\">\n",
       "      <th></th>\n",
       "      <th>ProductFamily_ID</th>\n",
       "      <th>ProductCategory_ID</th>\n",
       "      <th>ProductBrand_ID</th>\n",
       "      <th>ProductName_ID</th>\n",
       "      <th>ProductPackSKU_ID</th>\n",
       "      <th>Point-of-Sale_ID</th>\n",
       "      <th>Date</th>\n",
       "      <th>Measures</th>\n",
       "      <th>Value</th>\n",
       "    </tr>\n",
       "  </thead>\n",
       "  <tbody>\n",
       "    <tr>\n",
       "      <th>0</th>\n",
       "      <td>Family_16</td>\n",
       "      <td>Category_11</td>\n",
       "      <td>ProductBrand_306</td>\n",
       "      <td>ProductName_649</td>\n",
       "      <td>ProductSKU_1970</td>\n",
       "      <td>POS_1</td>\n",
       "      <td>2017-03-04</td>\n",
       "      <td>Sell-out units</td>\n",
       "      <td>2.0</td>\n",
       "    </tr>\n",
       "    <tr>\n",
       "      <th>1</th>\n",
       "      <td>Family_16</td>\n",
       "      <td>Category_11</td>\n",
       "      <td>ProductBrand_306</td>\n",
       "      <td>ProductName_649</td>\n",
       "      <td>ProductSKU_1970</td>\n",
       "      <td>POS_1</td>\n",
       "      <td>2017-03-04</td>\n",
       "      <td>Sell-out values</td>\n",
       "      <td>1540.0</td>\n",
       "    </tr>\n",
       "    <tr>\n",
       "      <th>2</th>\n",
       "      <td>Family_16</td>\n",
       "      <td>Category_11</td>\n",
       "      <td>ProductBrand_306</td>\n",
       "      <td>ProductName_649</td>\n",
       "      <td>ProductSKU_1970</td>\n",
       "      <td>POS_1</td>\n",
       "      <td>2016-05-02</td>\n",
       "      <td>Sell-out units</td>\n",
       "      <td>4.0</td>\n",
       "    </tr>\n",
       "    <tr>\n",
       "      <th>3</th>\n",
       "      <td>Family_16</td>\n",
       "      <td>Category_11</td>\n",
       "      <td>ProductBrand_306</td>\n",
       "      <td>ProductName_649</td>\n",
       "      <td>ProductSKU_1970</td>\n",
       "      <td>POS_1</td>\n",
       "      <td>2016-05-02</td>\n",
       "      <td>Sell-out values</td>\n",
       "      <td>3080.0</td>\n",
       "    </tr>\n",
       "    <tr>\n",
       "      <th>4</th>\n",
       "      <td>Family_16</td>\n",
       "      <td>Category_11</td>\n",
       "      <td>ProductBrand_306</td>\n",
       "      <td>ProductName_649</td>\n",
       "      <td>ProductSKU_1970</td>\n",
       "      <td>POS_1</td>\n",
       "      <td>2016-10-24</td>\n",
       "      <td>Sell-out units</td>\n",
       "      <td>2.0</td>\n",
       "    </tr>\n",
       "  </tbody>\n",
       "</table>\n",
       "</div>"
      ],
      "text/plain": [
       "  ProductFamily_ID ProductCategory_ID   ProductBrand_ID   ProductName_ID  \\\n",
       "0        Family_16        Category_11  ProductBrand_306  ProductName_649   \n",
       "1        Family_16        Category_11  ProductBrand_306  ProductName_649   \n",
       "2        Family_16        Category_11  ProductBrand_306  ProductName_649   \n",
       "3        Family_16        Category_11  ProductBrand_306  ProductName_649   \n",
       "4        Family_16        Category_11  ProductBrand_306  ProductName_649   \n",
       "\n",
       "  ProductPackSKU_ID Point-of-Sale_ID        Date         Measures   Value  \n",
       "0   ProductSKU_1970            POS_1  2017-03-04   Sell-out units     2.0  \n",
       "1   ProductSKU_1970            POS_1  2017-03-04  Sell-out values  1540.0  \n",
       "2   ProductSKU_1970            POS_1  2016-05-02   Sell-out units     4.0  \n",
       "3   ProductSKU_1970            POS_1  2016-05-02  Sell-out values  3080.0  \n",
       "4   ProductSKU_1970            POS_1  2016-10-24   Sell-out units     2.0  "
      ]
     },
     "execution_count": 14,
     "metadata": {},
     "output_type": "execute_result"
    }
   ],
   "source": [
    "df.head()"
   ]
  },
  {
   "cell_type": "code",
   "execution_count": 4,
   "metadata": {},
   "outputs": [
    {
     "data": {
      "text/plain": [
       "(182342304, 9)"
      ]
     },
     "execution_count": 4,
     "metadata": {},
     "output_type": "execute_result"
    }
   ],
   "source": [
    "df.shape"
   ]
  },
  {
   "cell_type": "code",
   "execution_count": 7,
   "metadata": {},
   "outputs": [
    {
     "name": "stdout",
     "output_type": "stream",
     "text": [
      "<class 'pandas.core.frame.DataFrame'>\n",
      "RangeIndex: 182342304 entries, 0 to 182342303\n",
      "Data columns (total 9 columns):\n",
      " #   Column              Dtype  \n",
      "---  ------              -----  \n",
      " 0   ProductFamily_ID    object \n",
      " 1   ProductCategory_ID  object \n",
      " 2   ProductBrand_ID     object \n",
      " 3   ProductName_ID      object \n",
      " 4   ProductPackSKU_ID   object \n",
      " 5   Point-of-Sale_ID    object \n",
      " 6   Date                object \n",
      " 7   Measures            object \n",
      " 8   Value               float64\n",
      "dtypes: float64(1), object(8)\n",
      "memory usage: 12.2+ GB\n"
     ]
    }
   ],
   "source": [
    "df.info()"
   ]
  },
  {
   "cell_type": "code",
   "execution_count": 8,
   "metadata": {},
   "outputs": [
    {
     "data": {
      "text/plain": [
       "ProductFamily_ID      0\n",
       "ProductCategory_ID    0\n",
       "ProductBrand_ID       0\n",
       "ProductName_ID        0\n",
       "ProductPackSKU_ID     0\n",
       "Point-of-Sale_ID      0\n",
       "Date                  0\n",
       "Measures              0\n",
       "Value                 0\n",
       "dtype: int64"
      ]
     },
     "execution_count": 8,
     "metadata": {},
     "output_type": "execute_result"
    }
   ],
   "source": [
    "df.isna().sum()"
   ]
  },
  {
   "cell_type": "markdown",
   "metadata": {},
   "source": [
    "# 3. Data engineering <a class=\"anchor\" id=\"3\"></a>"
   ]
  },
  {
   "cell_type": "code",
   "execution_count": 49,
   "metadata": {},
   "outputs": [],
   "source": [
    "# keeping only the number of the ID for all the varaibles\n",
    "df['ProductFamily_ID'] = df['ProductFamily_ID'].str.split('_',expand=True)[1]\n",
    "df['ProductCategory_ID'] = df['ProductCategory_ID'].str.split('_',expand=True)[1]\n",
    "df['ProductBrand_ID'] = df['ProductBrand_ID'].str.split('_',expand=True)[1]\n",
    "df['ProductName_ID'] = df['ProductName_ID'].str.split('_',expand=True)[1]\n",
    "df['ProductPackSKU_ID'] = df['ProductPackSKU_ID'].str.split('_',expand=True)[1]\n",
    "df['Point-of-Sale_ID'] = df['Point-of-Sale_ID'].str.split('_',expand=True)[1]\n",
    "df['Measures'] = df['Measures'].str.split(' ',expand=True)[1]"
   ]
  },
  {
   "cell_type": "code",
   "execution_count": 50,
   "metadata": {},
   "outputs": [
    {
     "data": {
      "text/html": [
       "<div>\n",
       "<style scoped>\n",
       "    .dataframe tbody tr th:only-of-type {\n",
       "        vertical-align: middle;\n",
       "    }\n",
       "\n",
       "    .dataframe tbody tr th {\n",
       "        vertical-align: top;\n",
       "    }\n",
       "\n",
       "    .dataframe thead th {\n",
       "        text-align: right;\n",
       "    }\n",
       "</style>\n",
       "<table border=\"1\" class=\"dataframe\">\n",
       "  <thead>\n",
       "    <tr style=\"text-align: right;\">\n",
       "      <th></th>\n",
       "      <th>ProductFamily_ID</th>\n",
       "      <th>ProductCategory_ID</th>\n",
       "      <th>ProductBrand_ID</th>\n",
       "      <th>ProductName_ID</th>\n",
       "      <th>ProductPackSKU_ID</th>\n",
       "      <th>Point-of-Sale_ID</th>\n",
       "      <th>Date</th>\n",
       "      <th>Measures</th>\n",
       "      <th>Value</th>\n",
       "    </tr>\n",
       "  </thead>\n",
       "  <tbody>\n",
       "    <tr>\n",
       "      <th>5429000</th>\n",
       "      <td>12</td>\n",
       "      <td>178</td>\n",
       "      <td>788</td>\n",
       "      <td>1527</td>\n",
       "      <td>4668</td>\n",
       "      <td>12</td>\n",
       "      <td>2017-07-29</td>\n",
       "      <td>units</td>\n",
       "      <td>1</td>\n",
       "    </tr>\n",
       "    <tr>\n",
       "      <th>5429001</th>\n",
       "      <td>12</td>\n",
       "      <td>178</td>\n",
       "      <td>788</td>\n",
       "      <td>1527</td>\n",
       "      <td>4668</td>\n",
       "      <td>12</td>\n",
       "      <td>2017-07-31</td>\n",
       "      <td>units</td>\n",
       "      <td>1</td>\n",
       "    </tr>\n",
       "    <tr>\n",
       "      <th>5429002</th>\n",
       "      <td>12</td>\n",
       "      <td>178</td>\n",
       "      <td>788</td>\n",
       "      <td>1527</td>\n",
       "      <td>4668</td>\n",
       "      <td>12</td>\n",
       "      <td>2017-07-18</td>\n",
       "      <td>values</td>\n",
       "      <td>886</td>\n",
       "    </tr>\n",
       "    <tr>\n",
       "      <th>5429003</th>\n",
       "      <td>12</td>\n",
       "      <td>178</td>\n",
       "      <td>788</td>\n",
       "      <td>1527</td>\n",
       "      <td>4668</td>\n",
       "      <td>12</td>\n",
       "      <td>2017-07-19</td>\n",
       "      <td>values</td>\n",
       "      <td>886</td>\n",
       "    </tr>\n",
       "    <tr>\n",
       "      <th>5429004</th>\n",
       "      <td>12</td>\n",
       "      <td>178</td>\n",
       "      <td>788</td>\n",
       "      <td>1527</td>\n",
       "      <td>4668</td>\n",
       "      <td>12</td>\n",
       "      <td>2017-07-24</td>\n",
       "      <td>values</td>\n",
       "      <td>1772</td>\n",
       "    </tr>\n",
       "  </tbody>\n",
       "</table>\n",
       "</div>"
      ],
      "text/plain": [
       "        ProductFamily_ID ProductCategory_ID ProductBrand_ID ProductName_ID  \\\n",
       "5429000               12                178             788           1527   \n",
       "5429001               12                178             788           1527   \n",
       "5429002               12                178             788           1527   \n",
       "5429003               12                178             788           1527   \n",
       "5429004               12                178             788           1527   \n",
       "\n",
       "        ProductPackSKU_ID Point-of-Sale_ID        Date Measures  Value  \n",
       "5429000              4668               12  2017-07-29    units      1  \n",
       "5429001              4668               12  2017-07-31    units      1  \n",
       "5429002              4668               12  2017-07-18   values    886  \n",
       "5429003              4668               12  2017-07-19   values    886  \n",
       "5429004              4668               12  2017-07-24   values   1772  "
      ]
     },
     "execution_count": 50,
     "metadata": {},
     "output_type": "execute_result"
    }
   ],
   "source": [
    "df.head()"
   ]
  },
  {
   "cell_type": "code",
   "execution_count": 43,
   "metadata": {},
   "outputs": [
    {
     "data": {
      "text/plain": [
       "Sell-out values    91171152\n",
       "Sell-out units     91171152\n",
       "Name: Measures, dtype: int64"
      ]
     },
     "execution_count": 43,
     "metadata": {},
     "output_type": "execute_result"
    }
   ],
   "source": [
    "# for the hole dataset\n",
    "df2['Measures'].value_counts()"
   ]
  },
  {
   "cell_type": "markdown",
   "metadata": {},
   "source": [
    "We have the same number of 'Sell-out values' and 'Sell-out units', meaning that it's always record byt pair of records.\n",
    "\n",
    "\\\n",
    "**Idea**\\\n",
    "Creating for each combination of ProductFamily_ID, ProductCategory_ID, ProductBrand_ID, ProductName_ID, ProductPackSKU_ID, Point-of-Sale_ID and Date one column for the quantity and one column for the price in a single record"
   ]
  },
  {
   "cell_type": "code",
   "execution_count": 51,
   "metadata": {},
   "outputs": [
    {
     "data": {
      "text/html": [
       "<div>\n",
       "<style scoped>\n",
       "    .dataframe tbody tr th:only-of-type {\n",
       "        vertical-align: middle;\n",
       "    }\n",
       "\n",
       "    .dataframe tbody tr th {\n",
       "        vertical-align: top;\n",
       "    }\n",
       "\n",
       "    .dataframe thead th {\n",
       "        text-align: right;\n",
       "    }\n",
       "</style>\n",
       "<table border=\"1\" class=\"dataframe\">\n",
       "  <thead>\n",
       "    <tr style=\"text-align: right;\">\n",
       "      <th></th>\n",
       "      <th>ProductFamily_ID</th>\n",
       "      <th>ProductCategory_ID</th>\n",
       "      <th>ProductBrand_ID</th>\n",
       "      <th>ProductName_ID</th>\n",
       "      <th>ProductPackSKU_ID</th>\n",
       "      <th>Point-of-Sale_ID</th>\n",
       "      <th>Date</th>\n",
       "      <th>Measures</th>\n",
       "      <th>Value</th>\n",
       "    </tr>\n",
       "  </thead>\n",
       "  <tbody>\n",
       "    <tr>\n",
       "      <th>5429000</th>\n",
       "      <td>12</td>\n",
       "      <td>178</td>\n",
       "      <td>788</td>\n",
       "      <td>1527</td>\n",
       "      <td>4668</td>\n",
       "      <td>12</td>\n",
       "      <td>2017-07-29</td>\n",
       "      <td>units</td>\n",
       "      <td>1</td>\n",
       "    </tr>\n",
       "    <tr>\n",
       "      <th>5429001</th>\n",
       "      <td>12</td>\n",
       "      <td>178</td>\n",
       "      <td>788</td>\n",
       "      <td>1527</td>\n",
       "      <td>4668</td>\n",
       "      <td>12</td>\n",
       "      <td>2017-07-31</td>\n",
       "      <td>units</td>\n",
       "      <td>1</td>\n",
       "    </tr>\n",
       "    <tr>\n",
       "      <th>5429002</th>\n",
       "      <td>12</td>\n",
       "      <td>178</td>\n",
       "      <td>788</td>\n",
       "      <td>1527</td>\n",
       "      <td>4668</td>\n",
       "      <td>12</td>\n",
       "      <td>2017-07-18</td>\n",
       "      <td>values</td>\n",
       "      <td>886</td>\n",
       "    </tr>\n",
       "    <tr>\n",
       "      <th>5429003</th>\n",
       "      <td>12</td>\n",
       "      <td>178</td>\n",
       "      <td>788</td>\n",
       "      <td>1527</td>\n",
       "      <td>4668</td>\n",
       "      <td>12</td>\n",
       "      <td>2017-07-19</td>\n",
       "      <td>values</td>\n",
       "      <td>886</td>\n",
       "    </tr>\n",
       "    <tr>\n",
       "      <th>5429004</th>\n",
       "      <td>12</td>\n",
       "      <td>178</td>\n",
       "      <td>788</td>\n",
       "      <td>1527</td>\n",
       "      <td>4668</td>\n",
       "      <td>12</td>\n",
       "      <td>2017-07-24</td>\n",
       "      <td>values</td>\n",
       "      <td>1772</td>\n",
       "    </tr>\n",
       "  </tbody>\n",
       "</table>\n",
       "</div>"
      ],
      "text/plain": [
       "        ProductFamily_ID ProductCategory_ID ProductBrand_ID ProductName_ID  \\\n",
       "5429000               12                178             788           1527   \n",
       "5429001               12                178             788           1527   \n",
       "5429002               12                178             788           1527   \n",
       "5429003               12                178             788           1527   \n",
       "5429004               12                178             788           1527   \n",
       "\n",
       "        ProductPackSKU_ID Point-of-Sale_ID        Date Measures  Value  \n",
       "5429000              4668               12  2017-07-29    units      1  \n",
       "5429001              4668               12  2017-07-31    units      1  \n",
       "5429002              4668               12  2017-07-18   values    886  \n",
       "5429003              4668               12  2017-07-19   values    886  \n",
       "5429004              4668               12  2017-07-24   values   1772  "
      ]
     },
     "execution_count": 51,
     "metadata": {},
     "output_type": "execute_result"
    }
   ],
   "source": [
    "df.head()"
   ]
  },
  {
   "cell_type": "code",
   "execution_count": 69,
   "metadata": {},
   "outputs": [],
   "source": [
    "# splitting the chunk-dataset in 2, one for the record with quantity and one for price\n",
    "df_units = df[df['Measures'] == \"units\"]\n",
    "df_values = df[df['Measures'] == \"values\"]"
   ]
  },
  {
   "cell_type": "code",
   "execution_count": 82,
   "metadata": {
    "collapsed": true
   },
   "outputs": [
    {
     "name": "stderr",
     "output_type": "stream",
     "text": [
      "<ipython-input-82-7b8c61be7787>:2: SettingWithCopyWarning: \n",
      "A value is trying to be set on a copy of a slice from a DataFrame.\n",
      "Try using .loc[row_indexer,col_indexer] = value instead\n",
      "\n",
      "See the caveats in the documentation: https://pandas.pydata.org/pandas-docs/stable/user_guide/indexing.html#returning-a-view-versus-a-copy\n",
      "  df_values[\"Quantity\"] = 0\n",
      "<ipython-input-82-7b8c61be7787>:11: SettingWithCopyWarning: \n",
      "A value is trying to be set on a copy of a slice from a DataFrame\n",
      "\n",
      "See the caveats in the documentation: https://pandas.pydata.org/pandas-docs/stable/user_guide/indexing.html#returning-a-view-versus-a-copy\n",
      "  df_values[\"Quantity\"][j] = df_units.loc[i][\"Value\"]\n",
      "C:\\Users\\lorep\\anaconda3\\lib\\site-packages\\IPython\\core\\interactiveshell.py:3418: SettingWithCopyWarning: \n",
      "A value is trying to be set on a copy of a slice from a DataFrame\n",
      "\n",
      "See the caveats in the documentation: https://pandas.pydata.org/pandas-docs/stable/user_guide/indexing.html#returning-a-view-versus-a-copy\n",
      "  exec(code_obj, self.user_global_ns, self.user_ns)\n"
     ]
    }
   ],
   "source": [
    "# joining the quantity and price in the same record\n",
    "target_columns = df.columns[0:7]\n",
    "df_values[\"Quantity\"] = 0\n",
    "\n",
    "for i in df_units.index:\n",
    "    values1 = [df_units[z][i] for z in target_columns]\n",
    "    \n",
    "    for j in df_values.index:\n",
    "        values2 = [df_values[z][j] for z in target_columns]\n",
    "        \n",
    "        if values1 == values2:\n",
    "            df_values[\"Quantity\"][j] = df_units.loc[i][\"Value\"]"
   ]
  },
  {
   "cell_type": "code",
   "execution_count": 95,
   "metadata": {
    "collapsed": true
   },
   "outputs": [
    {
     "name": "stderr",
     "output_type": "stream",
     "text": [
      "C:\\Users\\lorep\\anaconda3\\lib\\site-packages\\pandas\\core\\frame.py:4163: SettingWithCopyWarning: \n",
      "A value is trying to be set on a copy of a slice from a DataFrame\n",
      "\n",
      "See the caveats in the documentation: https://pandas.pydata.org/pandas-docs/stable/user_guide/indexing.html#returning-a-view-versus-a-copy\n",
      "  return super().drop(\n"
     ]
    }
   ],
   "source": [
    "# dropping the variable 'Measures'\n",
    "df_values.drop(\"Measures\", 1, inplace= True)"
   ]
  },
  {
   "cell_type": "code",
   "execution_count": 108,
   "metadata": {},
   "outputs": [],
   "source": [
    "# checkpoint\n",
    "data = df_values.copy()\n",
    "\n",
    "# resetting the index of the dataset\n",
    "data = data.reset_index(drop=True)\n",
    "# changing the type of the Date to datetime\n",
    "data[\"Date\"] = pd.to_datetime(data[\"Date\"])\n",
    "# changing the name of the Value variable\n",
    "data = data.rename(columns = {'Value':'Price'})"
   ]
  },
  {
   "cell_type": "code",
   "execution_count": 116,
   "metadata": {},
   "outputs": [
    {
     "name": "stdout",
     "output_type": "stream",
     "text": [
      "<class 'pandas.core.frame.DataFrame'>\n",
      "RangeIndex: 501 entries, 0 to 500\n",
      "Data columns (total 9 columns):\n",
      " #   Column              Non-Null Count  Dtype         \n",
      "---  ------              --------------  -----         \n",
      " 0   ProductFamily_ID    501 non-null    object        \n",
      " 1   ProductCategory_ID  501 non-null    object        \n",
      " 2   ProductBrand_ID     501 non-null    object        \n",
      " 3   ProductName_ID      501 non-null    object        \n",
      " 4   ProductPackSKU_ID   501 non-null    object        \n",
      " 5   Point-of-Sale_ID    501 non-null    object        \n",
      " 6   Date                501 non-null    datetime64[ns]\n",
      " 7   Price               501 non-null    int64         \n",
      " 8   Quantity            501 non-null    int64         \n",
      "dtypes: datetime64[ns](1), int64(2), object(6)\n",
      "memory usage: 35.4+ KB\n"
     ]
    }
   ],
   "source": [
    "data.info()"
   ]
  },
  {
   "cell_type": "code",
   "execution_count": 115,
   "metadata": {},
   "outputs": [
    {
     "data": {
      "text/html": [
       "<div>\n",
       "<style scoped>\n",
       "    .dataframe tbody tr th:only-of-type {\n",
       "        vertical-align: middle;\n",
       "    }\n",
       "\n",
       "    .dataframe tbody tr th {\n",
       "        vertical-align: top;\n",
       "    }\n",
       "\n",
       "    .dataframe thead th {\n",
       "        text-align: right;\n",
       "    }\n",
       "</style>\n",
       "<table border=\"1\" class=\"dataframe\">\n",
       "  <thead>\n",
       "    <tr style=\"text-align: right;\">\n",
       "      <th></th>\n",
       "      <th>ProductFamily_ID</th>\n",
       "      <th>ProductCategory_ID</th>\n",
       "      <th>ProductBrand_ID</th>\n",
       "      <th>ProductName_ID</th>\n",
       "      <th>ProductPackSKU_ID</th>\n",
       "      <th>Point-of-Sale_ID</th>\n",
       "      <th>Date</th>\n",
       "      <th>Price</th>\n",
       "      <th>Quantity</th>\n",
       "    </tr>\n",
       "  </thead>\n",
       "  <tbody>\n",
       "    <tr>\n",
       "      <th>10</th>\n",
       "      <td>12</td>\n",
       "      <td>178</td>\n",
       "      <td>788</td>\n",
       "      <td>1527</td>\n",
       "      <td>4668</td>\n",
       "      <td>12</td>\n",
       "      <td>2016-08-12</td>\n",
       "      <td>1772</td>\n",
       "      <td>2</td>\n",
       "    </tr>\n",
       "    <tr>\n",
       "      <th>11</th>\n",
       "      <td>12</td>\n",
       "      <td>178</td>\n",
       "      <td>788</td>\n",
       "      <td>1527</td>\n",
       "      <td>4668</td>\n",
       "      <td>12</td>\n",
       "      <td>2018-08-21</td>\n",
       "      <td>886</td>\n",
       "      <td>1</td>\n",
       "    </tr>\n",
       "    <tr>\n",
       "      <th>12</th>\n",
       "      <td>12</td>\n",
       "      <td>178</td>\n",
       "      <td>788</td>\n",
       "      <td>1527</td>\n",
       "      <td>4668</td>\n",
       "      <td>12</td>\n",
       "      <td>2018-08-23</td>\n",
       "      <td>1772</td>\n",
       "      <td>2</td>\n",
       "    </tr>\n",
       "    <tr>\n",
       "      <th>13</th>\n",
       "      <td>12</td>\n",
       "      <td>178</td>\n",
       "      <td>788</td>\n",
       "      <td>1527</td>\n",
       "      <td>4668</td>\n",
       "      <td>12</td>\n",
       "      <td>2018-08-24</td>\n",
       "      <td>1772</td>\n",
       "      <td>2</td>\n",
       "    </tr>\n",
       "    <tr>\n",
       "      <th>14</th>\n",
       "      <td>12</td>\n",
       "      <td>178</td>\n",
       "      <td>788</td>\n",
       "      <td>1527</td>\n",
       "      <td>4668</td>\n",
       "      <td>12</td>\n",
       "      <td>2018-08-29</td>\n",
       "      <td>886</td>\n",
       "      <td>1</td>\n",
       "    </tr>\n",
       "    <tr>\n",
       "      <th>15</th>\n",
       "      <td>12</td>\n",
       "      <td>178</td>\n",
       "      <td>788</td>\n",
       "      <td>1527</td>\n",
       "      <td>4668</td>\n",
       "      <td>12</td>\n",
       "      <td>2018-08-31</td>\n",
       "      <td>886</td>\n",
       "      <td>1</td>\n",
       "    </tr>\n",
       "    <tr>\n",
       "      <th>16</th>\n",
       "      <td>12</td>\n",
       "      <td>178</td>\n",
       "      <td>788</td>\n",
       "      <td>1527</td>\n",
       "      <td>4668</td>\n",
       "      <td>12</td>\n",
       "      <td>2016-01-06</td>\n",
       "      <td>1772</td>\n",
       "      <td>2</td>\n",
       "    </tr>\n",
       "    <tr>\n",
       "      <th>17</th>\n",
       "      <td>12</td>\n",
       "      <td>178</td>\n",
       "      <td>788</td>\n",
       "      <td>1527</td>\n",
       "      <td>4668</td>\n",
       "      <td>12</td>\n",
       "      <td>2016-01-08</td>\n",
       "      <td>886</td>\n",
       "      <td>1</td>\n",
       "    </tr>\n",
       "    <tr>\n",
       "      <th>18</th>\n",
       "      <td>12</td>\n",
       "      <td>178</td>\n",
       "      <td>788</td>\n",
       "      <td>1527</td>\n",
       "      <td>4668</td>\n",
       "      <td>12</td>\n",
       "      <td>2016-01-14</td>\n",
       "      <td>1772</td>\n",
       "      <td>2</td>\n",
       "    </tr>\n",
       "    <tr>\n",
       "      <th>19</th>\n",
       "      <td>12</td>\n",
       "      <td>178</td>\n",
       "      <td>788</td>\n",
       "      <td>1527</td>\n",
       "      <td>4668</td>\n",
       "      <td>12</td>\n",
       "      <td>2017-12-08</td>\n",
       "      <td>886</td>\n",
       "      <td>1</td>\n",
       "    </tr>\n",
       "  </tbody>\n",
       "</table>\n",
       "</div>"
      ],
      "text/plain": [
       "   ProductFamily_ID ProductCategory_ID ProductBrand_ID ProductName_ID  \\\n",
       "10               12                178             788           1527   \n",
       "11               12                178             788           1527   \n",
       "12               12                178             788           1527   \n",
       "13               12                178             788           1527   \n",
       "14               12                178             788           1527   \n",
       "15               12                178             788           1527   \n",
       "16               12                178             788           1527   \n",
       "17               12                178             788           1527   \n",
       "18               12                178             788           1527   \n",
       "19               12                178             788           1527   \n",
       "\n",
       "   ProductPackSKU_ID Point-of-Sale_ID       Date  Price  Quantity  \n",
       "10              4668               12 2016-08-12   1772         2  \n",
       "11              4668               12 2018-08-21    886         1  \n",
       "12              4668               12 2018-08-23   1772         2  \n",
       "13              4668               12 2018-08-24   1772         2  \n",
       "14              4668               12 2018-08-29    886         1  \n",
       "15              4668               12 2018-08-31    886         1  \n",
       "16              4668               12 2016-01-06   1772         2  \n",
       "17              4668               12 2016-01-08    886         1  \n",
       "18              4668               12 2016-01-14   1772         2  \n",
       "19              4668               12 2017-12-08    886         1  "
      ]
     },
     "execution_count": 115,
     "metadata": {},
     "output_type": "execute_result"
    }
   ],
   "source": [
    "data.iloc[10:20]"
   ]
  },
  {
   "cell_type": "code",
   "execution_count": null,
   "metadata": {},
   "outputs": [],
   "source": []
  },
  {
   "cell_type": "code",
   "execution_count": null,
   "metadata": {},
   "outputs": [],
   "source": []
  }
 ],
 "metadata": {
  "kernelspec": {
   "display_name": "Python 3",
   "language": "python",
   "name": "python3"
  },
  "language_info": {
   "codemirror_mode": {
    "name": "ipython",
    "version": 3
   },
   "file_extension": ".py",
   "mimetype": "text/x-python",
   "name": "python",
   "nbconvert_exporter": "python",
   "pygments_lexer": "ipython3",
   "version": "3.8.5"
  }
 },
 "nbformat": 4,
 "nbformat_minor": 4
}
