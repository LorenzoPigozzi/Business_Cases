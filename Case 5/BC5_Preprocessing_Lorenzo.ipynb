{
 "cells": [
  {
   "cell_type": "markdown",
   "metadata": {},
   "source": [
    "# Business Case 5\n",
    "\n",
    "## PoS Appliance’s Retail \n",
    "\n",
    "**Group members:**\n",
    "- Lorenzo Pigozzi\t--- m20200745\n",
    "- Nguyen Huy Phuc\t--- m20200566\n",
    "- Ema Mandura\t  --- m20200647\n",
    "- Xavier Goncalves  --- m20201090"
   ]
  },
  {
   "cell_type": "markdown",
   "metadata": {},
   "source": [
    "#### **Expected outcomes**\n",
    "\n",
    "- **How can I understand each Point-of-Sale characteristics ?**\\\n",
    "  Quarterly analysis of\n",
    "     - Top products sold\n",
    "     - Market Share (Family, Category), preferences\n",
    "     - Product co-ocorrences\n",
    "- **Point-of-Sales Clustering**\n",
    " - Value\n",
    " - Product preference\n",
    "- **Forecasting**\n",
    " - Units Product forecast (6 weeks ahead)\n",
    " - Units Product forecast by Poit-of-Sale (6 weeks ahead)"
   ]
  },
  {
   "cell_type": "markdown",
   "metadata": {},
   "source": [
    "<a class=\"anchor\" id=\"0.1\"></a>\n",
    "# **Table of Contents**\n",
    "\n",
    "1.\t[Importing data and libraries](#1)   \n",
    "2.\t[Exploratory data analysis (EDA)](#2)       \n",
    "3.\t[Data Engineering](#3) \n"
   ]
  },
  {
   "cell_type": "markdown",
   "metadata": {},
   "source": [
    "# 1. Importing data and libraries <a class=\"anchor\" id=\"1\"></a>"
   ]
  },
  {
   "cell_type": "code",
   "execution_count": 1,
   "metadata": {},
   "outputs": [],
   "source": [
    "import pandas as pd\n",
    "import datetime\n",
    "import time"
   ]
  },
  {
   "cell_type": "code",
   "execution_count": 2,
   "metadata": {},
   "outputs": [],
   "source": [
    "df = pd.read_csv('dataset/NOVAIMS_MAA_2020e21_BusinessCasesDataScience_MindOverData_RetailChallenge.csv')\n",
    "# data = pd.read_csv('dataset/NOVAIMS_MAA_2020e21_BusinessCasesDataScience_MindOverData_RetailChallenge.csv', \n",
    "#                       iterator=True, chunksize=1000)\n",
    "# data"
   ]
  },
  {
   "cell_type": "code",
   "execution_count": 27,
   "metadata": {},
   "outputs": [],
   "source": [
    "# data = pd.concat([chunk for chunk in df])\n",
    "# df = chunk.copy()"
   ]
  },
  {
   "cell_type": "markdown",
   "metadata": {},
   "source": [
    "# 2. Exploratory Data Analysis <a class=\"anchor\" id=\"2\"></a>"
   ]
  },
  {
   "cell_type": "code",
   "execution_count": 3,
   "metadata": {},
   "outputs": [
    {
     "data": {
      "text/html": [
       "<div>\n",
       "<style scoped>\n",
       "    .dataframe tbody tr th:only-of-type {\n",
       "        vertical-align: middle;\n",
       "    }\n",
       "\n",
       "    .dataframe tbody tr th {\n",
       "        vertical-align: top;\n",
       "    }\n",
       "\n",
       "    .dataframe thead th {\n",
       "        text-align: right;\n",
       "    }\n",
       "</style>\n",
       "<table border=\"1\" class=\"dataframe\">\n",
       "  <thead>\n",
       "    <tr style=\"text-align: right;\">\n",
       "      <th></th>\n",
       "      <th>ProductFamily_ID</th>\n",
       "      <th>ProductCategory_ID</th>\n",
       "      <th>ProductBrand_ID</th>\n",
       "      <th>ProductName_ID</th>\n",
       "      <th>ProductPackSKU_ID</th>\n",
       "      <th>Point-of-Sale_ID</th>\n",
       "      <th>Date</th>\n",
       "      <th>Measures</th>\n",
       "      <th>Value</th>\n",
       "    </tr>\n",
       "  </thead>\n",
       "  <tbody>\n",
       "    <tr>\n",
       "      <th>0</th>\n",
       "      <td>Family_16</td>\n",
       "      <td>Category_11</td>\n",
       "      <td>ProductBrand_306</td>\n",
       "      <td>ProductName_649</td>\n",
       "      <td>ProductSKU_1970</td>\n",
       "      <td>POS_1</td>\n",
       "      <td>2017-03-04</td>\n",
       "      <td>Sell-out units</td>\n",
       "      <td>2.0</td>\n",
       "    </tr>\n",
       "    <tr>\n",
       "      <th>1</th>\n",
       "      <td>Family_16</td>\n",
       "      <td>Category_11</td>\n",
       "      <td>ProductBrand_306</td>\n",
       "      <td>ProductName_649</td>\n",
       "      <td>ProductSKU_1970</td>\n",
       "      <td>POS_1</td>\n",
       "      <td>2017-03-04</td>\n",
       "      <td>Sell-out values</td>\n",
       "      <td>1540.0</td>\n",
       "    </tr>\n",
       "    <tr>\n",
       "      <th>2</th>\n",
       "      <td>Family_16</td>\n",
       "      <td>Category_11</td>\n",
       "      <td>ProductBrand_306</td>\n",
       "      <td>ProductName_649</td>\n",
       "      <td>ProductSKU_1970</td>\n",
       "      <td>POS_1</td>\n",
       "      <td>2016-05-02</td>\n",
       "      <td>Sell-out units</td>\n",
       "      <td>4.0</td>\n",
       "    </tr>\n",
       "    <tr>\n",
       "      <th>3</th>\n",
       "      <td>Family_16</td>\n",
       "      <td>Category_11</td>\n",
       "      <td>ProductBrand_306</td>\n",
       "      <td>ProductName_649</td>\n",
       "      <td>ProductSKU_1970</td>\n",
       "      <td>POS_1</td>\n",
       "      <td>2016-05-02</td>\n",
       "      <td>Sell-out values</td>\n",
       "      <td>3080.0</td>\n",
       "    </tr>\n",
       "    <tr>\n",
       "      <th>4</th>\n",
       "      <td>Family_16</td>\n",
       "      <td>Category_11</td>\n",
       "      <td>ProductBrand_306</td>\n",
       "      <td>ProductName_649</td>\n",
       "      <td>ProductSKU_1970</td>\n",
       "      <td>POS_1</td>\n",
       "      <td>2016-10-24</td>\n",
       "      <td>Sell-out units</td>\n",
       "      <td>2.0</td>\n",
       "    </tr>\n",
       "  </tbody>\n",
       "</table>\n",
       "</div>"
      ],
      "text/plain": [
       "  ProductFamily_ID ProductCategory_ID   ProductBrand_ID   ProductName_ID  \\\n",
       "0        Family_16        Category_11  ProductBrand_306  ProductName_649   \n",
       "1        Family_16        Category_11  ProductBrand_306  ProductName_649   \n",
       "2        Family_16        Category_11  ProductBrand_306  ProductName_649   \n",
       "3        Family_16        Category_11  ProductBrand_306  ProductName_649   \n",
       "4        Family_16        Category_11  ProductBrand_306  ProductName_649   \n",
       "\n",
       "  ProductPackSKU_ID Point-of-Sale_ID        Date         Measures   Value  \n",
       "0   ProductSKU_1970            POS_1  2017-03-04   Sell-out units     2.0  \n",
       "1   ProductSKU_1970            POS_1  2017-03-04  Sell-out values  1540.0  \n",
       "2   ProductSKU_1970            POS_1  2016-05-02   Sell-out units     4.0  \n",
       "3   ProductSKU_1970            POS_1  2016-05-02  Sell-out values  3080.0  \n",
       "4   ProductSKU_1970            POS_1  2016-10-24   Sell-out units     2.0  "
      ]
     },
     "execution_count": 3,
     "metadata": {},
     "output_type": "execute_result"
    }
   ],
   "source": [
    "df.head()"
   ]
  },
  {
   "cell_type": "code",
   "execution_count": 4,
   "metadata": {},
   "outputs": [
    {
     "data": {
      "text/plain": [
       "(182342304, 9)"
      ]
     },
     "execution_count": 4,
     "metadata": {},
     "output_type": "execute_result"
    }
   ],
   "source": [
    "df.shape"
   ]
  },
  {
   "cell_type": "code",
   "execution_count": 5,
   "metadata": {},
   "outputs": [
    {
     "name": "stdout",
     "output_type": "stream",
     "text": [
      "<class 'pandas.core.frame.DataFrame'>\n",
      "RangeIndex: 182342304 entries, 0 to 182342303\n",
      "Data columns (total 9 columns):\n",
      " #   Column              Dtype  \n",
      "---  ------              -----  \n",
      " 0   ProductFamily_ID    object \n",
      " 1   ProductCategory_ID  object \n",
      " 2   ProductBrand_ID     object \n",
      " 3   ProductName_ID      object \n",
      " 4   ProductPackSKU_ID   object \n",
      " 5   Point-of-Sale_ID    object \n",
      " 6   Date                object \n",
      " 7   Measures            object \n",
      " 8   Value               float64\n",
      "dtypes: float64(1), object(8)\n",
      "memory usage: 12.2+ GB\n"
     ]
    }
   ],
   "source": [
    "df.info()"
   ]
  },
  {
   "cell_type": "code",
   "execution_count": 8,
   "metadata": {},
   "outputs": [
    {
     "data": {
      "text/plain": [
       "ProductFamily_ID      0\n",
       "ProductCategory_ID    0\n",
       "ProductBrand_ID       0\n",
       "ProductName_ID        0\n",
       "ProductPackSKU_ID     0\n",
       "Point-of-Sale_ID      0\n",
       "Date                  0\n",
       "Measures              0\n",
       "Value                 0\n",
       "dtype: int64"
      ]
     },
     "execution_count": 8,
     "metadata": {},
     "output_type": "execute_result"
    }
   ],
   "source": [
    "df.isna().sum()"
   ]
  },
  {
   "cell_type": "markdown",
   "metadata": {},
   "source": [
    "# Reducing the size of the dataset"
   ]
  },
  {
   "cell_type": "code",
   "execution_count": 6,
   "metadata": {},
   "outputs": [],
   "source": [
    "import time"
   ]
  },
  {
   "cell_type": "code",
   "execution_count": 7,
   "metadata": {},
   "outputs": [],
   "source": [
    "df_units = df[df['Measures'] == \"Sell-out units\"]\n",
    "df_values = df[df['Measures'] == \"Sell-out values\"]"
   ]
  },
  {
   "cell_type": "code",
   "execution_count": 27,
   "metadata": {},
   "outputs": [
    {
     "data": {
      "text/html": [
       "<div>\n",
       "<style scoped>\n",
       "    .dataframe tbody tr th:only-of-type {\n",
       "        vertical-align: middle;\n",
       "    }\n",
       "\n",
       "    .dataframe tbody tr th {\n",
       "        vertical-align: top;\n",
       "    }\n",
       "\n",
       "    .dataframe thead th {\n",
       "        text-align: right;\n",
       "    }\n",
       "</style>\n",
       "<table border=\"1\" class=\"dataframe\">\n",
       "  <thead>\n",
       "    <tr style=\"text-align: right;\">\n",
       "      <th></th>\n",
       "      <th>ProductFamily_ID</th>\n",
       "      <th>ProductCategory_ID</th>\n",
       "      <th>ProductBrand_ID</th>\n",
       "      <th>ProductName_ID</th>\n",
       "      <th>ProductPackSKU_ID</th>\n",
       "      <th>Point-of-Sale_ID</th>\n",
       "      <th>Date</th>\n",
       "      <th>Measures</th>\n",
       "      <th>Value</th>\n",
       "    </tr>\n",
       "  </thead>\n",
       "  <tbody>\n",
       "    <tr>\n",
       "      <th>0</th>\n",
       "      <td>Family_16</td>\n",
       "      <td>Category_11</td>\n",
       "      <td>ProductBrand_306</td>\n",
       "      <td>ProductName_649</td>\n",
       "      <td>ProductSKU_1970</td>\n",
       "      <td>POS_1</td>\n",
       "      <td>2017-03-04</td>\n",
       "      <td>Sell-out units</td>\n",
       "      <td>2.0</td>\n",
       "    </tr>\n",
       "    <tr>\n",
       "      <th>2</th>\n",
       "      <td>Family_16</td>\n",
       "      <td>Category_11</td>\n",
       "      <td>ProductBrand_306</td>\n",
       "      <td>ProductName_649</td>\n",
       "      <td>ProductSKU_1970</td>\n",
       "      <td>POS_1</td>\n",
       "      <td>2016-05-02</td>\n",
       "      <td>Sell-out units</td>\n",
       "      <td>4.0</td>\n",
       "    </tr>\n",
       "    <tr>\n",
       "      <th>4</th>\n",
       "      <td>Family_16</td>\n",
       "      <td>Category_11</td>\n",
       "      <td>ProductBrand_306</td>\n",
       "      <td>ProductName_649</td>\n",
       "      <td>ProductSKU_1970</td>\n",
       "      <td>POS_1</td>\n",
       "      <td>2016-10-24</td>\n",
       "      <td>Sell-out units</td>\n",
       "      <td>2.0</td>\n",
       "    </tr>\n",
       "    <tr>\n",
       "      <th>6</th>\n",
       "      <td>Family_16</td>\n",
       "      <td>Category_11</td>\n",
       "      <td>ProductBrand_306</td>\n",
       "      <td>ProductName_649</td>\n",
       "      <td>ProductSKU_1970</td>\n",
       "      <td>POS_1</td>\n",
       "      <td>2017-10-13</td>\n",
       "      <td>Sell-out units</td>\n",
       "      <td>2.0</td>\n",
       "    </tr>\n",
       "    <tr>\n",
       "      <th>7</th>\n",
       "      <td>Family_16</td>\n",
       "      <td>Category_11</td>\n",
       "      <td>ProductBrand_306</td>\n",
       "      <td>ProductName_649</td>\n",
       "      <td>ProductSKU_1970</td>\n",
       "      <td>POS_1</td>\n",
       "      <td>2017-10-14</td>\n",
       "      <td>Sell-out units</td>\n",
       "      <td>2.0</td>\n",
       "    </tr>\n",
       "  </tbody>\n",
       "</table>\n",
       "</div>"
      ],
      "text/plain": [
       "  ProductFamily_ID ProductCategory_ID   ProductBrand_ID   ProductName_ID  \\\n",
       "0        Family_16        Category_11  ProductBrand_306  ProductName_649   \n",
       "2        Family_16        Category_11  ProductBrand_306  ProductName_649   \n",
       "4        Family_16        Category_11  ProductBrand_306  ProductName_649   \n",
       "6        Family_16        Category_11  ProductBrand_306  ProductName_649   \n",
       "7        Family_16        Category_11  ProductBrand_306  ProductName_649   \n",
       "\n",
       "  ProductPackSKU_ID Point-of-Sale_ID        Date        Measures  Value  \n",
       "0   ProductSKU_1970            POS_1  2017-03-04  Sell-out units    2.0  \n",
       "2   ProductSKU_1970            POS_1  2016-05-02  Sell-out units    4.0  \n",
       "4   ProductSKU_1970            POS_1  2016-10-24  Sell-out units    2.0  \n",
       "6   ProductSKU_1970            POS_1  2017-10-13  Sell-out units    2.0  \n",
       "7   ProductSKU_1970            POS_1  2017-10-14  Sell-out units    2.0  "
      ]
     },
     "execution_count": 27,
     "metadata": {},
     "output_type": "execute_result"
    }
   ],
   "source": [
    "df_units.head()"
   ]
  },
  {
   "cell_type": "code",
   "execution_count": 29,
   "metadata": {
    "collapsed": true
   },
   "outputs": [
    {
     "name": "stderr",
     "output_type": "stream",
     "text": [
      "<ipython-input-29-7d4fc3192745>:1: SettingWithCopyWarning: \n",
      "A value is trying to be set on a copy of a slice from a DataFrame.\n",
      "Try using .loc[row_indexer,col_indexer] = value instead\n",
      "\n",
      "See the caveats in the documentation: https://pandas.pydata.org/pandas-docs/stable/user_guide/indexing.html#returning-a-view-versus-a-copy\n",
      "  df_units['ProductFamily_ID'] = df_units['ProductFamily_ID'].astype('category')\n",
      "<ipython-input-29-7d4fc3192745>:2: SettingWithCopyWarning: \n",
      "A value is trying to be set on a copy of a slice from a DataFrame.\n",
      "Try using .loc[row_indexer,col_indexer] = value instead\n",
      "\n",
      "See the caveats in the documentation: https://pandas.pydata.org/pandas-docs/stable/user_guide/indexing.html#returning-a-view-versus-a-copy\n",
      "  df_units['ProductCategory_ID'] = df_units['ProductCategory_ID'].astype('category')\n",
      "<ipython-input-29-7d4fc3192745>:3: SettingWithCopyWarning: \n",
      "A value is trying to be set on a copy of a slice from a DataFrame.\n",
      "Try using .loc[row_indexer,col_indexer] = value instead\n",
      "\n",
      "See the caveats in the documentation: https://pandas.pydata.org/pandas-docs/stable/user_guide/indexing.html#returning-a-view-versus-a-copy\n",
      "  df_units['ProductBrand_ID'] = df_units['ProductBrand_ID'].astype('category')\n"
     ]
    }
   ],
   "source": [
    "df_units['ProductFamily_ID'] = df_units['ProductFamily_ID'].astype('category')\n",
    "df_units['ProductCategory_ID'] = df_units['ProductCategory_ID'].astype('category')\n",
    "df_units['ProductBrand_ID'] = df_units['ProductBrand_ID'].astype('category')"
   ]
  },
  {
   "cell_type": "code",
   "execution_count": 31,
   "metadata": {
    "collapsed": true
   },
   "outputs": [
    {
     "name": "stderr",
     "output_type": "stream",
     "text": [
      "<ipython-input-31-ec88915fa58a>:1: SettingWithCopyWarning: \n",
      "A value is trying to be set on a copy of a slice from a DataFrame.\n",
      "Try using .loc[row_indexer,col_indexer] = value instead\n",
      "\n",
      "See the caveats in the documentation: https://pandas.pydata.org/pandas-docs/stable/user_guide/indexing.html#returning-a-view-versus-a-copy\n",
      "  df_units['ProductName_ID'] = df_units['ProductName_ID'].astype('category')\n",
      "<ipython-input-31-ec88915fa58a>:2: SettingWithCopyWarning: \n",
      "A value is trying to be set on a copy of a slice from a DataFrame.\n",
      "Try using .loc[row_indexer,col_indexer] = value instead\n",
      "\n",
      "See the caveats in the documentation: https://pandas.pydata.org/pandas-docs/stable/user_guide/indexing.html#returning-a-view-versus-a-copy\n",
      "  df_units['ProductPackSKU_ID'] = df_units['ProductPackSKU_ID'].astype('category')\n",
      "<ipython-input-31-ec88915fa58a>:3: SettingWithCopyWarning: \n",
      "A value is trying to be set on a copy of a slice from a DataFrame.\n",
      "Try using .loc[row_indexer,col_indexer] = value instead\n",
      "\n",
      "See the caveats in the documentation: https://pandas.pydata.org/pandas-docs/stable/user_guide/indexing.html#returning-a-view-versus-a-copy\n",
      "  df_units['Point-of-Sale_ID'] = df_units['Point-of-Sale_ID'].astype('category')\n"
     ]
    }
   ],
   "source": [
    "df_units['ProductName_ID'] = df_units['ProductName_ID'].astype('category')\n",
    "df_units['ProductPackSKU_ID'] = df_units['ProductPackSKU_ID'].astype('category')\n",
    "df_units['Point-of-Sale_ID'] = df_units['Point-of-Sale_ID'].astype('category')"
   ]
  },
  {
   "cell_type": "code",
   "execution_count": 32,
   "metadata": {},
   "outputs": [
    {
     "data": {
      "text/html": [
       "<div>\n",
       "<style scoped>\n",
       "    .dataframe tbody tr th:only-of-type {\n",
       "        vertical-align: middle;\n",
       "    }\n",
       "\n",
       "    .dataframe tbody tr th {\n",
       "        vertical-align: top;\n",
       "    }\n",
       "\n",
       "    .dataframe thead th {\n",
       "        text-align: right;\n",
       "    }\n",
       "</style>\n",
       "<table border=\"1\" class=\"dataframe\">\n",
       "  <thead>\n",
       "    <tr style=\"text-align: right;\">\n",
       "      <th></th>\n",
       "      <th>ProductFamily_ID</th>\n",
       "      <th>ProductCategory_ID</th>\n",
       "      <th>ProductBrand_ID</th>\n",
       "      <th>ProductName_ID</th>\n",
       "      <th>ProductPackSKU_ID</th>\n",
       "      <th>Point-of-Sale_ID</th>\n",
       "      <th>Date</th>\n",
       "      <th>Measures</th>\n",
       "      <th>Value</th>\n",
       "    </tr>\n",
       "  </thead>\n",
       "  <tbody>\n",
       "    <tr>\n",
       "      <th>0</th>\n",
       "      <td>Family_16</td>\n",
       "      <td>Category_11</td>\n",
       "      <td>ProductBrand_306</td>\n",
       "      <td>ProductName_649</td>\n",
       "      <td>ProductSKU_1970</td>\n",
       "      <td>POS_1</td>\n",
       "      <td>2017-03-04</td>\n",
       "      <td>Sell-out units</td>\n",
       "      <td>2.0</td>\n",
       "    </tr>\n",
       "    <tr>\n",
       "      <th>2</th>\n",
       "      <td>Family_16</td>\n",
       "      <td>Category_11</td>\n",
       "      <td>ProductBrand_306</td>\n",
       "      <td>ProductName_649</td>\n",
       "      <td>ProductSKU_1970</td>\n",
       "      <td>POS_1</td>\n",
       "      <td>2016-05-02</td>\n",
       "      <td>Sell-out units</td>\n",
       "      <td>4.0</td>\n",
       "    </tr>\n",
       "    <tr>\n",
       "      <th>4</th>\n",
       "      <td>Family_16</td>\n",
       "      <td>Category_11</td>\n",
       "      <td>ProductBrand_306</td>\n",
       "      <td>ProductName_649</td>\n",
       "      <td>ProductSKU_1970</td>\n",
       "      <td>POS_1</td>\n",
       "      <td>2016-10-24</td>\n",
       "      <td>Sell-out units</td>\n",
       "      <td>2.0</td>\n",
       "    </tr>\n",
       "    <tr>\n",
       "      <th>6</th>\n",
       "      <td>Family_16</td>\n",
       "      <td>Category_11</td>\n",
       "      <td>ProductBrand_306</td>\n",
       "      <td>ProductName_649</td>\n",
       "      <td>ProductSKU_1970</td>\n",
       "      <td>POS_1</td>\n",
       "      <td>2017-10-13</td>\n",
       "      <td>Sell-out units</td>\n",
       "      <td>2.0</td>\n",
       "    </tr>\n",
       "    <tr>\n",
       "      <th>7</th>\n",
       "      <td>Family_16</td>\n",
       "      <td>Category_11</td>\n",
       "      <td>ProductBrand_306</td>\n",
       "      <td>ProductName_649</td>\n",
       "      <td>ProductSKU_1970</td>\n",
       "      <td>POS_1</td>\n",
       "      <td>2017-10-14</td>\n",
       "      <td>Sell-out units</td>\n",
       "      <td>2.0</td>\n",
       "    </tr>\n",
       "  </tbody>\n",
       "</table>\n",
       "</div>"
      ],
      "text/plain": [
       "  ProductFamily_ID ProductCategory_ID   ProductBrand_ID   ProductName_ID  \\\n",
       "0        Family_16        Category_11  ProductBrand_306  ProductName_649   \n",
       "2        Family_16        Category_11  ProductBrand_306  ProductName_649   \n",
       "4        Family_16        Category_11  ProductBrand_306  ProductName_649   \n",
       "6        Family_16        Category_11  ProductBrand_306  ProductName_649   \n",
       "7        Family_16        Category_11  ProductBrand_306  ProductName_649   \n",
       "\n",
       "  ProductPackSKU_ID Point-of-Sale_ID        Date        Measures  Value  \n",
       "0   ProductSKU_1970            POS_1  2017-03-04  Sell-out units    2.0  \n",
       "2   ProductSKU_1970            POS_1  2016-05-02  Sell-out units    4.0  \n",
       "4   ProductSKU_1970            POS_1  2016-10-24  Sell-out units    2.0  \n",
       "6   ProductSKU_1970            POS_1  2017-10-13  Sell-out units    2.0  \n",
       "7   ProductSKU_1970            POS_1  2017-10-14  Sell-out units    2.0  "
      ]
     },
     "execution_count": 32,
     "metadata": {},
     "output_type": "execute_result"
    }
   ],
   "source": [
    "df_units.head()"
   ]
  },
  {
   "cell_type": "code",
   "execution_count": 34,
   "metadata": {},
   "outputs": [],
   "source": [
    "df_units = df_units[['ProductPackSKU_ID', 'Point-of-Sale_ID', 'Date', 'Value']]"
   ]
  },
  {
   "cell_type": "code",
   "execution_count": 42,
   "metadata": {},
   "outputs": [
    {
     "data": {
      "text/html": [
       "<div>\n",
       "<style scoped>\n",
       "    .dataframe tbody tr th:only-of-type {\n",
       "        vertical-align: middle;\n",
       "    }\n",
       "\n",
       "    .dataframe tbody tr th {\n",
       "        vertical-align: top;\n",
       "    }\n",
       "\n",
       "    .dataframe thead th {\n",
       "        text-align: right;\n",
       "    }\n",
       "</style>\n",
       "<table border=\"1\" class=\"dataframe\">\n",
       "  <thead>\n",
       "    <tr style=\"text-align: right;\">\n",
       "      <th></th>\n",
       "      <th>ProductPackSKU_ID</th>\n",
       "      <th>Point-of-Sale_ID</th>\n",
       "      <th>Date</th>\n",
       "      <th>Value</th>\n",
       "    </tr>\n",
       "  </thead>\n",
       "  <tbody>\n",
       "    <tr>\n",
       "      <th>0</th>\n",
       "      <td>197</td>\n",
       "      <td>1</td>\n",
       "      <td>2017-03-04</td>\n",
       "      <td>2.0</td>\n",
       "    </tr>\n",
       "    <tr>\n",
       "      <th>2</th>\n",
       "      <td>197</td>\n",
       "      <td>1</td>\n",
       "      <td>2016-05-02</td>\n",
       "      <td>4.0</td>\n",
       "    </tr>\n",
       "    <tr>\n",
       "      <th>4</th>\n",
       "      <td>197</td>\n",
       "      <td>1</td>\n",
       "      <td>2016-10-24</td>\n",
       "      <td>2.0</td>\n",
       "    </tr>\n",
       "    <tr>\n",
       "      <th>6</th>\n",
       "      <td>197</td>\n",
       "      <td>1</td>\n",
       "      <td>2017-10-13</td>\n",
       "      <td>2.0</td>\n",
       "    </tr>\n",
       "    <tr>\n",
       "      <th>7</th>\n",
       "      <td>197</td>\n",
       "      <td>1</td>\n",
       "      <td>2017-10-14</td>\n",
       "      <td>2.0</td>\n",
       "    </tr>\n",
       "  </tbody>\n",
       "</table>\n",
       "</div>"
      ],
      "text/plain": [
       "  ProductPackSKU_ID Point-of-Sale_ID        Date  Value\n",
       "0               197                1  2017-03-04    2.0\n",
       "2               197                1  2016-05-02    4.0\n",
       "4               197                1  2016-10-24    2.0\n",
       "6               197                1  2017-10-13    2.0\n",
       "7               197                1  2017-10-14    2.0"
      ]
     },
     "execution_count": 42,
     "metadata": {},
     "output_type": "execute_result"
    }
   ],
   "source": [
    "df_units.head()"
   ]
  },
  {
   "cell_type": "code",
   "execution_count": 40,
   "metadata": {},
   "outputs": [],
   "source": [
    "df_units['ProductPackSKU_ID'] = df_units['ProductPackSKU_ID'].str.replace(r\"[^1-9]\", \"\",regex=True)"
   ]
  },
  {
   "cell_type": "code",
   "execution_count": 41,
   "metadata": {},
   "outputs": [],
   "source": [
    "df_units['Point-of-Sale_ID'] = df_units['Point-of-Sale_ID'].str.replace(r\"[^1-9]\", \"\",regex=True)"
   ]
  },
  {
   "cell_type": "code",
   "execution_count": 44,
   "metadata": {},
   "outputs": [],
   "source": [
    "df_units['ProductPackSKU_ID'] = df_units['ProductPackSKU_ID'].astype('category')\n",
    "df_units['Point-of-Sale_ID'] = df_units['Point-of-Sale_ID'].astype('category')"
   ]
  },
  {
   "cell_type": "code",
   "execution_count": 46,
   "metadata": {},
   "outputs": [],
   "source": [
    "df_units[\"Date\"] = pd.to_datetime(df_units[\"Date\"])"
   ]
  },
  {
   "cell_type": "code",
   "execution_count": 47,
   "metadata": {},
   "outputs": [
    {
     "name": "stdout",
     "output_type": "stream",
     "text": [
      "<class 'pandas.core.frame.DataFrame'>\n",
      "Int64Index: 91171152 entries, 0 to 182342299\n",
      "Data columns (total 4 columns):\n",
      " #   Column             Dtype         \n",
      "---  ------             -----         \n",
      " 0   ProductPackSKU_ID  category      \n",
      " 1   Point-of-Sale_ID   category      \n",
      " 2   Date               datetime64[ns]\n",
      " 3   Value              float64       \n",
      "dtypes: category(2), datetime64[ns](1), float64(1)\n",
      "memory usage: 2.4 GB\n"
     ]
    }
   ],
   "source": [
    "df_units.info()"
   ]
  },
  {
   "cell_type": "code",
   "execution_count": 48,
   "metadata": {},
   "outputs": [],
   "source": [
    "df_units.to_csv('df_units.csv')"
   ]
  },
  {
   "cell_type": "code",
   "execution_count": null,
   "metadata": {},
   "outputs": [],
   "source": []
  },
  {
   "cell_type": "code",
   "execution_count": 8,
   "metadata": {
    "collapsed": true
   },
   "outputs": [
    {
     "name": "stderr",
     "output_type": "stream",
     "text": [
      "<timed exec>:1: SettingWithCopyWarning: \n",
      "A value is trying to be set on a copy of a slice from a DataFrame.\n",
      "Try using .loc[row_indexer,col_indexer] = value instead\n",
      "\n",
      "See the caveats in the documentation: https://pandas.pydata.org/pandas-docs/stable/user_guide/indexing.html#returning-a-view-versus-a-copy\n",
      "<timed exec>:2: SettingWithCopyWarning: \n",
      "A value is trying to be set on a copy of a slice from a DataFrame.\n",
      "Try using .loc[row_indexer,col_indexer] = value instead\n",
      "\n",
      "See the caveats in the documentation: https://pandas.pydata.org/pandas-docs/stable/user_guide/indexing.html#returning-a-view-versus-a-copy\n"
     ]
    },
    {
     "ename": "KeyboardInterrupt",
     "evalue": "",
     "output_type": "error",
     "traceback": [
      "\u001b[1;31m---------------------------------------------------------------------------\u001b[0m",
      "\u001b[1;31mKeyboardInterrupt\u001b[0m                         Traceback (most recent call last)",
      "\u001b[1;32m<timed exec>\u001b[0m in \u001b[0;36m<module>\u001b[1;34m\u001b[0m\n",
      "\u001b[1;32m~\\anaconda3\\lib\\site-packages\\pandas\\core\\strings.py\u001b[0m in \u001b[0;36mwrapper\u001b[1;34m(self, *args, **kwargs)\u001b[0m\n\u001b[0;32m   1999\u001b[0m                 )\n\u001b[0;32m   2000\u001b[0m                 \u001b[1;32mraise\u001b[0m \u001b[0mTypeError\u001b[0m\u001b[1;33m(\u001b[0m\u001b[0mmsg\u001b[0m\u001b[1;33m)\u001b[0m\u001b[1;33m\u001b[0m\u001b[1;33m\u001b[0m\u001b[0m\n\u001b[1;32m-> 2001\u001b[1;33m             \u001b[1;32mreturn\u001b[0m \u001b[0mfunc\u001b[0m\u001b[1;33m(\u001b[0m\u001b[0mself\u001b[0m\u001b[1;33m,\u001b[0m \u001b[1;33m*\u001b[0m\u001b[0margs\u001b[0m\u001b[1;33m,\u001b[0m \u001b[1;33m**\u001b[0m\u001b[0mkwargs\u001b[0m\u001b[1;33m)\u001b[0m\u001b[1;33m\u001b[0m\u001b[1;33m\u001b[0m\u001b[0m\n\u001b[0m\u001b[0;32m   2002\u001b[0m \u001b[1;33m\u001b[0m\u001b[0m\n\u001b[0;32m   2003\u001b[0m         \u001b[0mwrapper\u001b[0m\u001b[1;33m.\u001b[0m\u001b[0m__name__\u001b[0m \u001b[1;33m=\u001b[0m \u001b[0mfunc_name\u001b[0m\u001b[1;33m\u001b[0m\u001b[1;33m\u001b[0m\u001b[0m\n",
      "\u001b[1;32m~\\anaconda3\\lib\\site-packages\\pandas\\core\\strings.py\u001b[0m in \u001b[0;36mreplace\u001b[1;34m(self, pat, repl, n, case, flags, regex)\u001b[0m\n\u001b[0;32m   2842\u001b[0m     \u001b[1;33m@\u001b[0m\u001b[0mforbid_nonstring_types\u001b[0m\u001b[1;33m(\u001b[0m\u001b[1;33m[\u001b[0m\u001b[1;34m\"bytes\"\u001b[0m\u001b[1;33m]\u001b[0m\u001b[1;33m)\u001b[0m\u001b[1;33m\u001b[0m\u001b[1;33m\u001b[0m\u001b[0m\n\u001b[0;32m   2843\u001b[0m     \u001b[1;32mdef\u001b[0m \u001b[0mreplace\u001b[0m\u001b[1;33m(\u001b[0m\u001b[0mself\u001b[0m\u001b[1;33m,\u001b[0m \u001b[0mpat\u001b[0m\u001b[1;33m,\u001b[0m \u001b[0mrepl\u001b[0m\u001b[1;33m,\u001b[0m \u001b[0mn\u001b[0m\u001b[1;33m=\u001b[0m\u001b[1;33m-\u001b[0m\u001b[1;36m1\u001b[0m\u001b[1;33m,\u001b[0m \u001b[0mcase\u001b[0m\u001b[1;33m=\u001b[0m\u001b[1;32mNone\u001b[0m\u001b[1;33m,\u001b[0m \u001b[0mflags\u001b[0m\u001b[1;33m=\u001b[0m\u001b[1;36m0\u001b[0m\u001b[1;33m,\u001b[0m \u001b[0mregex\u001b[0m\u001b[1;33m=\u001b[0m\u001b[1;32mTrue\u001b[0m\u001b[1;33m)\u001b[0m\u001b[1;33m:\u001b[0m\u001b[1;33m\u001b[0m\u001b[1;33m\u001b[0m\u001b[0m\n\u001b[1;32m-> 2844\u001b[1;33m         result = str_replace(\n\u001b[0m\u001b[0;32m   2845\u001b[0m             \u001b[0mself\u001b[0m\u001b[1;33m.\u001b[0m\u001b[0m_parent\u001b[0m\u001b[1;33m,\u001b[0m \u001b[0mpat\u001b[0m\u001b[1;33m,\u001b[0m \u001b[0mrepl\u001b[0m\u001b[1;33m,\u001b[0m \u001b[0mn\u001b[0m\u001b[1;33m=\u001b[0m\u001b[0mn\u001b[0m\u001b[1;33m,\u001b[0m \u001b[0mcase\u001b[0m\u001b[1;33m=\u001b[0m\u001b[0mcase\u001b[0m\u001b[1;33m,\u001b[0m \u001b[0mflags\u001b[0m\u001b[1;33m=\u001b[0m\u001b[0mflags\u001b[0m\u001b[1;33m,\u001b[0m \u001b[0mregex\u001b[0m\u001b[1;33m=\u001b[0m\u001b[0mregex\u001b[0m\u001b[1;33m\u001b[0m\u001b[1;33m\u001b[0m\u001b[0m\n\u001b[0;32m   2846\u001b[0m         )\n",
      "\u001b[1;32m~\\anaconda3\\lib\\site-packages\\pandas\\core\\strings.py\u001b[0m in \u001b[0;36mstr_replace\u001b[1;34m(arr, pat, repl, n, case, flags, regex)\u001b[0m\n\u001b[0;32m    721\u001b[0m         \u001b[0mf\u001b[0m \u001b[1;33m=\u001b[0m \u001b[1;32mlambda\u001b[0m \u001b[0mx\u001b[0m\u001b[1;33m:\u001b[0m \u001b[0mx\u001b[0m\u001b[1;33m.\u001b[0m\u001b[0mreplace\u001b[0m\u001b[1;33m(\u001b[0m\u001b[0mpat\u001b[0m\u001b[1;33m,\u001b[0m \u001b[0mrepl\u001b[0m\u001b[1;33m,\u001b[0m \u001b[0mn\u001b[0m\u001b[1;33m)\u001b[0m\u001b[1;33m\u001b[0m\u001b[1;33m\u001b[0m\u001b[0m\n\u001b[0;32m    722\u001b[0m \u001b[1;33m\u001b[0m\u001b[0m\n\u001b[1;32m--> 723\u001b[1;33m     \u001b[1;32mreturn\u001b[0m \u001b[0m_na_map\u001b[0m\u001b[1;33m(\u001b[0m\u001b[0mf\u001b[0m\u001b[1;33m,\u001b[0m \u001b[0marr\u001b[0m\u001b[1;33m,\u001b[0m \u001b[0mdtype\u001b[0m\u001b[1;33m=\u001b[0m\u001b[0mstr\u001b[0m\u001b[1;33m)\u001b[0m\u001b[1;33m\u001b[0m\u001b[1;33m\u001b[0m\u001b[0m\n\u001b[0m\u001b[0;32m    724\u001b[0m \u001b[1;33m\u001b[0m\u001b[0m\n\u001b[0;32m    725\u001b[0m \u001b[1;33m\u001b[0m\u001b[0m\n",
      "\u001b[1;32m~\\anaconda3\\lib\\site-packages\\pandas\\core\\strings.py\u001b[0m in \u001b[0;36m_na_map\u001b[1;34m(f, arr, na_result, dtype)\u001b[0m\n\u001b[0;32m    128\u001b[0m     \u001b[1;32mif\u001b[0m \u001b[0mna_result\u001b[0m \u001b[1;32mis\u001b[0m \u001b[1;32mNone\u001b[0m\u001b[1;33m:\u001b[0m\u001b[1;33m\u001b[0m\u001b[1;33m\u001b[0m\u001b[0m\n\u001b[0;32m    129\u001b[0m         \u001b[0mna_result\u001b[0m \u001b[1;33m=\u001b[0m \u001b[0mnp\u001b[0m\u001b[1;33m.\u001b[0m\u001b[0mnan\u001b[0m\u001b[1;33m\u001b[0m\u001b[1;33m\u001b[0m\u001b[0m\n\u001b[1;32m--> 130\u001b[1;33m     \u001b[1;32mreturn\u001b[0m \u001b[0m_map_object\u001b[0m\u001b[1;33m(\u001b[0m\u001b[0mf\u001b[0m\u001b[1;33m,\u001b[0m \u001b[0marr\u001b[0m\u001b[1;33m,\u001b[0m \u001b[0mna_mask\u001b[0m\u001b[1;33m=\u001b[0m\u001b[1;32mTrue\u001b[0m\u001b[1;33m,\u001b[0m \u001b[0mna_value\u001b[0m\u001b[1;33m=\u001b[0m\u001b[0mna_result\u001b[0m\u001b[1;33m,\u001b[0m \u001b[0mdtype\u001b[0m\u001b[1;33m=\u001b[0m\u001b[0mdtype\u001b[0m\u001b[1;33m)\u001b[0m\u001b[1;33m\u001b[0m\u001b[1;33m\u001b[0m\u001b[0m\n\u001b[0m\u001b[0;32m    131\u001b[0m \u001b[1;33m\u001b[0m\u001b[0m\n\u001b[0;32m    132\u001b[0m \u001b[1;33m\u001b[0m\u001b[0m\n",
      "\u001b[1;32m~\\anaconda3\\lib\\site-packages\\pandas\\core\\strings.py\u001b[0m in \u001b[0;36m_map_object\u001b[1;34m(f, arr, na_mask, na_value, dtype)\u001b[0m\n\u001b[0;32m    213\u001b[0m         \u001b[0mconvert\u001b[0m \u001b[1;33m=\u001b[0m \u001b[1;32mnot\u001b[0m \u001b[0mnp\u001b[0m\u001b[1;33m.\u001b[0m\u001b[0mall\u001b[0m\u001b[1;33m(\u001b[0m\u001b[0mmask\u001b[0m\u001b[1;33m)\u001b[0m\u001b[1;33m\u001b[0m\u001b[1;33m\u001b[0m\u001b[0m\n\u001b[0;32m    214\u001b[0m         \u001b[1;32mtry\u001b[0m\u001b[1;33m:\u001b[0m\u001b[1;33m\u001b[0m\u001b[1;33m\u001b[0m\u001b[0m\n\u001b[1;32m--> 215\u001b[1;33m             \u001b[0mresult\u001b[0m \u001b[1;33m=\u001b[0m \u001b[0mlib\u001b[0m\u001b[1;33m.\u001b[0m\u001b[0mmap_infer_mask\u001b[0m\u001b[1;33m(\u001b[0m\u001b[0marr\u001b[0m\u001b[1;33m,\u001b[0m \u001b[0mf\u001b[0m\u001b[1;33m,\u001b[0m \u001b[0mmask\u001b[0m\u001b[1;33m.\u001b[0m\u001b[0mview\u001b[0m\u001b[1;33m(\u001b[0m\u001b[0mnp\u001b[0m\u001b[1;33m.\u001b[0m\u001b[0muint8\u001b[0m\u001b[1;33m)\u001b[0m\u001b[1;33m,\u001b[0m \u001b[0mconvert\u001b[0m\u001b[1;33m)\u001b[0m\u001b[1;33m\u001b[0m\u001b[1;33m\u001b[0m\u001b[0m\n\u001b[0m\u001b[0;32m    216\u001b[0m         \u001b[1;32mexcept\u001b[0m \u001b[1;33m(\u001b[0m\u001b[0mTypeError\u001b[0m\u001b[1;33m,\u001b[0m \u001b[0mAttributeError\u001b[0m\u001b[1;33m)\u001b[0m \u001b[1;32mas\u001b[0m \u001b[0me\u001b[0m\u001b[1;33m:\u001b[0m\u001b[1;33m\u001b[0m\u001b[1;33m\u001b[0m\u001b[0m\n\u001b[0;32m    217\u001b[0m             \u001b[1;31m# Reraise the exception if callable `f` got wrong number of args.\u001b[0m\u001b[1;33m\u001b[0m\u001b[1;33m\u001b[0m\u001b[1;33m\u001b[0m\u001b[0m\n",
      "\u001b[1;32mpandas\\_libs\\lib.pyx\u001b[0m in \u001b[0;36mpandas._libs.lib.map_infer_mask\u001b[1;34m()\u001b[0m\n",
      "\u001b[1;32m~\\anaconda3\\lib\\site-packages\\pandas\\core\\strings.py\u001b[0m in \u001b[0;36m<lambda>\u001b[1;34m(x)\u001b[0m\n\u001b[0;32m    709\u001b[0m             \u001b[0mn\u001b[0m \u001b[1;33m=\u001b[0m \u001b[0mn\u001b[0m \u001b[1;32mif\u001b[0m \u001b[0mn\u001b[0m \u001b[1;33m>=\u001b[0m \u001b[1;36m0\u001b[0m \u001b[1;32melse\u001b[0m \u001b[1;36m0\u001b[0m\u001b[1;33m\u001b[0m\u001b[1;33m\u001b[0m\u001b[0m\n\u001b[0;32m    710\u001b[0m             \u001b[0mcompiled\u001b[0m \u001b[1;33m=\u001b[0m \u001b[0mre\u001b[0m\u001b[1;33m.\u001b[0m\u001b[0mcompile\u001b[0m\u001b[1;33m(\u001b[0m\u001b[0mpat\u001b[0m\u001b[1;33m,\u001b[0m \u001b[0mflags\u001b[0m\u001b[1;33m=\u001b[0m\u001b[0mflags\u001b[0m\u001b[1;33m)\u001b[0m\u001b[1;33m\u001b[0m\u001b[1;33m\u001b[0m\u001b[0m\n\u001b[1;32m--> 711\u001b[1;33m             \u001b[0mf\u001b[0m \u001b[1;33m=\u001b[0m \u001b[1;32mlambda\u001b[0m \u001b[0mx\u001b[0m\u001b[1;33m:\u001b[0m \u001b[0mcompiled\u001b[0m\u001b[1;33m.\u001b[0m\u001b[0msub\u001b[0m\u001b[1;33m(\u001b[0m\u001b[0mrepl\u001b[0m\u001b[1;33m=\u001b[0m\u001b[0mrepl\u001b[0m\u001b[1;33m,\u001b[0m \u001b[0mstring\u001b[0m\u001b[1;33m=\u001b[0m\u001b[0mx\u001b[0m\u001b[1;33m,\u001b[0m \u001b[0mcount\u001b[0m\u001b[1;33m=\u001b[0m\u001b[0mn\u001b[0m\u001b[1;33m)\u001b[0m\u001b[1;33m\u001b[0m\u001b[1;33m\u001b[0m\u001b[0m\n\u001b[0m\u001b[0;32m    712\u001b[0m         \u001b[1;32melse\u001b[0m\u001b[1;33m:\u001b[0m\u001b[1;33m\u001b[0m\u001b[1;33m\u001b[0m\u001b[0m\n\u001b[0;32m    713\u001b[0m             \u001b[0mf\u001b[0m \u001b[1;33m=\u001b[0m \u001b[1;32mlambda\u001b[0m \u001b[0mx\u001b[0m\u001b[1;33m:\u001b[0m \u001b[0mx\u001b[0m\u001b[1;33m.\u001b[0m\u001b[0mreplace\u001b[0m\u001b[1;33m(\u001b[0m\u001b[0mpat\u001b[0m\u001b[1;33m,\u001b[0m \u001b[0mrepl\u001b[0m\u001b[1;33m,\u001b[0m \u001b[0mn\u001b[0m\u001b[1;33m)\u001b[0m\u001b[1;33m\u001b[0m\u001b[1;33m\u001b[0m\u001b[0m\n",
      "\u001b[1;31mKeyboardInterrupt\u001b[0m: "
     ]
    }
   ],
   "source": [
    "df_values['ProductFamily_ID'] = df_values['ProductFamily_ID'].str.replace(r\"[^1-9]\", \"\",regex=True)\n",
    "df_values['ProductCategory_ID'] = df_values['ProductCategory_ID'].str.replace(r\"[^1-9]\", \"\",regex=True)\n",
    "df_values['ProductBrand_ID'] = df_values['ProductBrand_ID'].str.replace(r\"[^1-9]\", \"\",regex=True)"
   ]
  },
  {
   "cell_type": "code",
   "execution_count": 15,
   "metadata": {
    "collapsed": true
   },
   "outputs": [
    {
     "name": "stderr",
     "output_type": "stream",
     "text": [
      "<ipython-input-15-c642ae925bad>:1: SettingWithCopyWarning: \n",
      "A value is trying to be set on a copy of a slice from a DataFrame.\n",
      "Try using .loc[row_indexer,col_indexer] = value instead\n",
      "\n",
      "See the caveats in the documentation: https://pandas.pydata.org/pandas-docs/stable/user_guide/indexing.html#returning-a-view-versus-a-copy\n",
      "  df_values['ProductBrand_ID'] = df_values['ProductBrand_ID'].str.replace(r\"[^1-9]\", \"\",regex=True)\n",
      "<ipython-input-15-c642ae925bad>:2: SettingWithCopyWarning: \n",
      "A value is trying to be set on a copy of a slice from a DataFrame.\n",
      "Try using .loc[row_indexer,col_indexer] = value instead\n",
      "\n",
      "See the caveats in the documentation: https://pandas.pydata.org/pandas-docs/stable/user_guide/indexing.html#returning-a-view-versus-a-copy\n",
      "  df_values['ProductName_ID'] = df_values['ProductName_ID'].str.replace(r\"[^1-9]\", \"\",regex=True)\n"
     ]
    }
   ],
   "source": [
    "df_values['ProductBrand_ID'] = df_values['ProductBrand_ID'].str.replace(r\"[^1-9]\", \"\",regex=True)\n",
    "df_values['ProductName_ID'] = df_values['ProductName_ID'].str.replace(r\"[^1-9]\", \"\",regex=True)"
   ]
  },
  {
   "cell_type": "code",
   "execution_count": 17,
   "metadata": {
    "collapsed": true
   },
   "outputs": [
    {
     "name": "stderr",
     "output_type": "stream",
     "text": [
      "<timed exec>:1: SettingWithCopyWarning: \n",
      "A value is trying to be set on a copy of a slice from a DataFrame.\n",
      "Try using .loc[row_indexer,col_indexer] = value instead\n",
      "\n",
      "See the caveats in the documentation: https://pandas.pydata.org/pandas-docs/stable/user_guide/indexing.html#returning-a-view-versus-a-copy\n",
      "<timed exec>:2: SettingWithCopyWarning: \n",
      "A value is trying to be set on a copy of a slice from a DataFrame.\n",
      "Try using .loc[row_indexer,col_indexer] = value instead\n",
      "\n",
      "See the caveats in the documentation: https://pandas.pydata.org/pandas-docs/stable/user_guide/indexing.html#returning-a-view-versus-a-copy\n"
     ]
    },
    {
     "name": "stdout",
     "output_type": "stream",
     "text": [
      "Wall time: 14.2 s\n"
     ]
    }
   ],
   "source": [
    "%%time\n",
    "df_values['ProductPackSKU_ID'] = df_values['ProductPackSKU_ID'].str.replace(r\"[^1-9]\", \"\",regex=True)\n",
    "df_values['Point-of-Sale_ID'] = df_values['Point-of-Sale_ID'].str.replace(r\"[^1-9]\", \"\",regex=True)"
   ]
  },
  {
   "cell_type": "code",
   "execution_count": 11,
   "metadata": {
    "collapsed": true
   },
   "outputs": [
    {
     "name": "stderr",
     "output_type": "stream",
     "text": [
      "<timed exec>:1: SettingWithCopyWarning: \n",
      "A value is trying to be set on a copy of a slice from a DataFrame.\n",
      "Try using .loc[row_indexer,col_indexer] = value instead\n",
      "\n",
      "See the caveats in the documentation: https://pandas.pydata.org/pandas-docs/stable/user_guide/indexing.html#returning-a-view-versus-a-copy\n",
      "<timed exec>:2: SettingWithCopyWarning: \n",
      "A value is trying to be set on a copy of a slice from a DataFrame.\n",
      "Try using .loc[row_indexer,col_indexer] = value instead\n",
      "\n",
      "See the caveats in the documentation: https://pandas.pydata.org/pandas-docs/stable/user_guide/indexing.html#returning-a-view-versus-a-copy\n"
     ]
    },
    {
     "name": "stdout",
     "output_type": "stream",
     "text": [
      "Wall time: 12min 13s\n"
     ]
    },
    {
     "name": "stderr",
     "output_type": "stream",
     "text": [
      "<timed exec>:3: SettingWithCopyWarning: \n",
      "A value is trying to be set on a copy of a slice from a DataFrame.\n",
      "Try using .loc[row_indexer,col_indexer] = value instead\n",
      "\n",
      "See the caveats in the documentation: https://pandas.pydata.org/pandas-docs/stable/user_guide/indexing.html#returning-a-view-versus-a-copy\n"
     ]
    }
   ],
   "source": [
    "%%time\n",
    "df_values['ProductFamily_ID'] = df_values['ProductFamily_ID'].astype('category')\n",
    "df_values['ProductCategory_ID'] = df_values['ProductCategory_ID'].astype('category')"
   ]
  },
  {
   "cell_type": "code",
   "execution_count": 20,
   "metadata": {
    "collapsed": true
   },
   "outputs": [
    {
     "name": "stderr",
     "output_type": "stream",
     "text": [
      "<timed exec>:1: SettingWithCopyWarning: \n",
      "A value is trying to be set on a copy of a slice from a DataFrame.\n",
      "Try using .loc[row_indexer,col_indexer] = value instead\n",
      "\n",
      "See the caveats in the documentation: https://pandas.pydata.org/pandas-docs/stable/user_guide/indexing.html#returning-a-view-versus-a-copy\n",
      "<timed exec>:2: SettingWithCopyWarning: \n",
      "A value is trying to be set on a copy of a slice from a DataFrame.\n",
      "Try using .loc[row_indexer,col_indexer] = value instead\n",
      "\n",
      "See the caveats in the documentation: https://pandas.pydata.org/pandas-docs/stable/user_guide/indexing.html#returning-a-view-versus-a-copy\n",
      "<timed exec>:3: SettingWithCopyWarning: \n",
      "A value is trying to be set on a copy of a slice from a DataFrame.\n",
      "Try using .loc[row_indexer,col_indexer] = value instead\n",
      "\n",
      "See the caveats in the documentation: https://pandas.pydata.org/pandas-docs/stable/user_guide/indexing.html#returning-a-view-versus-a-copy\n"
     ]
    },
    {
     "name": "stdout",
     "output_type": "stream",
     "text": [
      "Wall time: 59.7 s\n"
     ]
    },
    {
     "name": "stderr",
     "output_type": "stream",
     "text": [
      "<timed exec>:4: SettingWithCopyWarning: \n",
      "A value is trying to be set on a copy of a slice from a DataFrame.\n",
      "Try using .loc[row_indexer,col_indexer] = value instead\n",
      "\n",
      "See the caveats in the documentation: https://pandas.pydata.org/pandas-docs/stable/user_guide/indexing.html#returning-a-view-versus-a-copy\n"
     ]
    }
   ],
   "source": [
    "%%time\n",
    "df_values['ProductBrand_ID'] = df_values['ProductBrand_ID'].astype('category')\n",
    "df_values['ProductName_ID'] = df_values['ProductName_ID'].astype('category')\n",
    "df_values['ProductPackSKU_ID'] = df_values['ProductPackSKU_ID'].astype('category')\n",
    "df_values['Point-of-Sale_ID'] = df_values['Point-of-Sale_ID'].astype('category')"
   ]
  },
  {
   "cell_type": "code",
   "execution_count": 13,
   "metadata": {
    "collapsed": true
   },
   "outputs": [
    {
     "name": "stderr",
     "output_type": "stream",
     "text": [
      "<timed exec>:1: SettingWithCopyWarning: \n",
      "A value is trying to be set on a copy of a slice from a DataFrame.\n",
      "Try using .loc[row_indexer,col_indexer] = value instead\n",
      "\n",
      "See the caveats in the documentation: https://pandas.pydata.org/pandas-docs/stable/user_guide/indexing.html#returning-a-view-versus-a-copy\n",
      "<timed exec>:2: SettingWithCopyWarning: \n",
      "A value is trying to be set on a copy of a slice from a DataFrame.\n",
      "Try using .loc[row_indexer,col_indexer] = value instead\n",
      "\n",
      "See the caveats in the documentation: https://pandas.pydata.org/pandas-docs/stable/user_guide/indexing.html#returning-a-view-versus-a-copy\n"
     ]
    },
    {
     "name": "stdout",
     "output_type": "stream",
     "text": [
      "Wall time: 2min 35s\n"
     ]
    },
    {
     "name": "stderr",
     "output_type": "stream",
     "text": [
      "<timed exec>:3: SettingWithCopyWarning: \n",
      "A value is trying to be set on a copy of a slice from a DataFrame.\n",
      "Try using .loc[row_indexer,col_indexer] = value instead\n",
      "\n",
      "See the caveats in the documentation: https://pandas.pydata.org/pandas-docs/stable/user_guide/indexing.html#returning-a-view-versus-a-copy\n"
     ]
    }
   ],
   "source": [
    "%%time\n",
    "df_values['Value'] = df_values['Value'].astype('float32')\n",
    "df_values['Measures'] = df_values['Measures'].astype('category')\n",
    "df_values[\"Date\"] = pd.to_datetime(df_values[\"Date\"])"
   ]
  },
  {
   "cell_type": "code",
   "execution_count": 25,
   "metadata": {},
   "outputs": [],
   "source": [
    "df_values.to_csv('df_values.csv')"
   ]
  },
  {
   "cell_type": "code",
   "execution_count": null,
   "metadata": {},
   "outputs": [],
   "source": []
  },
  {
   "cell_type": "markdown",
   "metadata": {},
   "source": [
    "# Joining the units and Values"
   ]
  },
  {
   "cell_type": "code",
   "execution_count": 49,
   "metadata": {},
   "outputs": [
    {
     "data": {
      "text/html": [
       "<div>\n",
       "<style scoped>\n",
       "    .dataframe tbody tr th:only-of-type {\n",
       "        vertical-align: middle;\n",
       "    }\n",
       "\n",
       "    .dataframe tbody tr th {\n",
       "        vertical-align: top;\n",
       "    }\n",
       "\n",
       "    .dataframe thead th {\n",
       "        text-align: right;\n",
       "    }\n",
       "</style>\n",
       "<table border=\"1\" class=\"dataframe\">\n",
       "  <thead>\n",
       "    <tr style=\"text-align: right;\">\n",
       "      <th></th>\n",
       "      <th>ProductFamily_ID</th>\n",
       "      <th>ProductCategory_ID</th>\n",
       "      <th>ProductBrand_ID</th>\n",
       "      <th>ProductName_ID</th>\n",
       "      <th>ProductPackSKU_ID</th>\n",
       "      <th>Point-of-Sale_ID</th>\n",
       "      <th>Date</th>\n",
       "      <th>Measures</th>\n",
       "      <th>Value</th>\n",
       "    </tr>\n",
       "  </thead>\n",
       "  <tbody>\n",
       "    <tr>\n",
       "      <th>1</th>\n",
       "      <td>16</td>\n",
       "      <td>11</td>\n",
       "      <td>36</td>\n",
       "      <td>649</td>\n",
       "      <td>197</td>\n",
       "      <td>1</td>\n",
       "      <td>2017-03-04</td>\n",
       "      <td>Sell-out values</td>\n",
       "      <td>1540.0</td>\n",
       "    </tr>\n",
       "    <tr>\n",
       "      <th>3</th>\n",
       "      <td>16</td>\n",
       "      <td>11</td>\n",
       "      <td>36</td>\n",
       "      <td>649</td>\n",
       "      <td>197</td>\n",
       "      <td>1</td>\n",
       "      <td>2016-05-02</td>\n",
       "      <td>Sell-out values</td>\n",
       "      <td>3080.0</td>\n",
       "    </tr>\n",
       "    <tr>\n",
       "      <th>5</th>\n",
       "      <td>16</td>\n",
       "      <td>11</td>\n",
       "      <td>36</td>\n",
       "      <td>649</td>\n",
       "      <td>197</td>\n",
       "      <td>1</td>\n",
       "      <td>2016-10-24</td>\n",
       "      <td>Sell-out values</td>\n",
       "      <td>1540.0</td>\n",
       "    </tr>\n",
       "    <tr>\n",
       "      <th>9</th>\n",
       "      <td>16</td>\n",
       "      <td>11</td>\n",
       "      <td>36</td>\n",
       "      <td>649</td>\n",
       "      <td>197</td>\n",
       "      <td>1</td>\n",
       "      <td>2017-10-13</td>\n",
       "      <td>Sell-out values</td>\n",
       "      <td>1620.0</td>\n",
       "    </tr>\n",
       "    <tr>\n",
       "      <th>10</th>\n",
       "      <td>16</td>\n",
       "      <td>11</td>\n",
       "      <td>36</td>\n",
       "      <td>649</td>\n",
       "      <td>197</td>\n",
       "      <td>1</td>\n",
       "      <td>2017-10-14</td>\n",
       "      <td>Sell-out values</td>\n",
       "      <td>1620.0</td>\n",
       "    </tr>\n",
       "  </tbody>\n",
       "</table>\n",
       "</div>"
      ],
      "text/plain": [
       "   ProductFamily_ID ProductCategory_ID ProductBrand_ID ProductName_ID  \\\n",
       "1                16                 11              36            649   \n",
       "3                16                 11              36            649   \n",
       "5                16                 11              36            649   \n",
       "9                16                 11              36            649   \n",
       "10               16                 11              36            649   \n",
       "\n",
       "   ProductPackSKU_ID Point-of-Sale_ID       Date         Measures   Value  \n",
       "1                197                1 2017-03-04  Sell-out values  1540.0  \n",
       "3                197                1 2016-05-02  Sell-out values  3080.0  \n",
       "5                197                1 2016-10-24  Sell-out values  1540.0  \n",
       "9                197                1 2017-10-13  Sell-out values  1620.0  \n",
       "10               197                1 2017-10-14  Sell-out values  1620.0  "
      ]
     },
     "execution_count": 49,
     "metadata": {},
     "output_type": "execute_result"
    }
   ],
   "source": [
    "df_values.head()"
   ]
  },
  {
   "cell_type": "code",
   "execution_count": 50,
   "metadata": {},
   "outputs": [
    {
     "name": "stdout",
     "output_type": "stream",
     "text": [
      "<class 'pandas.core.frame.DataFrame'>\n",
      "Int64Index: 91171152 entries, 1 to 182342303\n",
      "Data columns (total 9 columns):\n",
      " #   Column              Dtype         \n",
      "---  ------              -----         \n",
      " 0   ProductFamily_ID    category      \n",
      " 1   ProductCategory_ID  category      \n",
      " 2   ProductBrand_ID     category      \n",
      " 3   ProductName_ID      category      \n",
      " 4   ProductPackSKU_ID   object        \n",
      " 5   Point-of-Sale_ID    object        \n",
      " 6   Date                datetime64[ns]\n",
      " 7   Measures            category      \n",
      " 8   Value               float32       \n",
      "dtypes: category(5), datetime64[ns](1), float32(1), object(2)\n",
      "memory usage: 3.7+ GB\n"
     ]
    }
   ],
   "source": [
    "df_values.info()"
   ]
  },
  {
   "cell_type": "code",
   "execution_count": 52,
   "metadata": {},
   "outputs": [
    {
     "data": {
      "text/html": [
       "<div>\n",
       "<style scoped>\n",
       "    .dataframe tbody tr th:only-of-type {\n",
       "        vertical-align: middle;\n",
       "    }\n",
       "\n",
       "    .dataframe tbody tr th {\n",
       "        vertical-align: top;\n",
       "    }\n",
       "\n",
       "    .dataframe thead th {\n",
       "        text-align: right;\n",
       "    }\n",
       "</style>\n",
       "<table border=\"1\" class=\"dataframe\">\n",
       "  <thead>\n",
       "    <tr style=\"text-align: right;\">\n",
       "      <th></th>\n",
       "      <th>ProductPackSKU_ID</th>\n",
       "      <th>Point-of-Sale_ID</th>\n",
       "      <th>Date</th>\n",
       "      <th>Value</th>\n",
       "    </tr>\n",
       "  </thead>\n",
       "  <tbody>\n",
       "    <tr>\n",
       "      <th>0</th>\n",
       "      <td>197</td>\n",
       "      <td>1</td>\n",
       "      <td>2017-03-04</td>\n",
       "      <td>2.0</td>\n",
       "    </tr>\n",
       "    <tr>\n",
       "      <th>2</th>\n",
       "      <td>197</td>\n",
       "      <td>1</td>\n",
       "      <td>2016-05-02</td>\n",
       "      <td>4.0</td>\n",
       "    </tr>\n",
       "    <tr>\n",
       "      <th>4</th>\n",
       "      <td>197</td>\n",
       "      <td>1</td>\n",
       "      <td>2016-10-24</td>\n",
       "      <td>2.0</td>\n",
       "    </tr>\n",
       "    <tr>\n",
       "      <th>6</th>\n",
       "      <td>197</td>\n",
       "      <td>1</td>\n",
       "      <td>2017-10-13</td>\n",
       "      <td>2.0</td>\n",
       "    </tr>\n",
       "    <tr>\n",
       "      <th>7</th>\n",
       "      <td>197</td>\n",
       "      <td>1</td>\n",
       "      <td>2017-10-14</td>\n",
       "      <td>2.0</td>\n",
       "    </tr>\n",
       "  </tbody>\n",
       "</table>\n",
       "</div>"
      ],
      "text/plain": [
       "  ProductPackSKU_ID Point-of-Sale_ID       Date  Value\n",
       "0               197                1 2017-03-04    2.0\n",
       "2               197                1 2016-05-02    4.0\n",
       "4               197                1 2016-10-24    2.0\n",
       "6               197                1 2017-10-13    2.0\n",
       "7               197                1 2017-10-14    2.0"
      ]
     },
     "execution_count": 52,
     "metadata": {},
     "output_type": "execute_result"
    }
   ],
   "source": [
    "df_units.head()"
   ]
  },
  {
   "cell_type": "code",
   "execution_count": 54,
   "metadata": {},
   "outputs": [
    {
     "name": "stdout",
     "output_type": "stream",
     "text": [
      "<class 'pandas.core.frame.DataFrame'>\n",
      "Int64Index: 91171152 entries, 0 to 182342299\n",
      "Data columns (total 4 columns):\n",
      " #   Column             Dtype         \n",
      "---  ------             -----         \n",
      " 0   ProductPackSKU_ID  category      \n",
      " 1   Point-of-Sale_ID   category      \n",
      " 2   Date               datetime64[ns]\n",
      " 3   Value              float64       \n",
      "dtypes: category(2), datetime64[ns](1), float64(1)\n",
      "memory usage: 2.4 GB\n"
     ]
    }
   ],
   "source": [
    "df_units.info()"
   ]
  },
  {
   "cell_type": "code",
   "execution_count": 55,
   "metadata": {},
   "outputs": [],
   "source": [
    "target_columns = ['ProductPackSKU_ID', 'Point-of-Sale_ID', 'Date']"
   ]
  },
  {
   "cell_type": "code",
   "execution_count": null,
   "metadata": {},
   "outputs": [],
   "source": [
    "# df_join = pd.merge(df_units, df_values, on = target_columns)\n",
    "\n",
    "df_join = pd.merge(df_values, df_units, \n",
    "                   on = target_columns, \n",
    "                   how=\"left\")"
   ]
  },
  {
   "cell_type": "code",
   "execution_count": null,
   "metadata": {},
   "outputs": [],
   "source": []
  },
  {
   "cell_type": "code",
   "execution_count": null,
   "metadata": {},
   "outputs": [],
   "source": []
  },
  {
   "cell_type": "code",
   "execution_count": null,
   "metadata": {},
   "outputs": [],
   "source": []
  },
  {
   "cell_type": "code",
   "execution_count": null,
   "metadata": {},
   "outputs": [],
   "source": []
  },
  {
   "cell_type": "code",
   "execution_count": null,
   "metadata": {},
   "outputs": [],
   "source": []
  },
  {
   "cell_type": "code",
   "execution_count": null,
   "metadata": {},
   "outputs": [],
   "source": [
    "target_columns = df.columns[:6]\n",
    "for column in target_columns:\n",
    "    df[column] = df[column].str.replace(r\"[^1-9]\", \"\",regex=True)\n",
    "    df[column] = df[column].astype('category')"
   ]
  },
  {
   "cell_type": "code",
   "execution_count": 28,
   "metadata": {},
   "outputs": [],
   "source": [
    "import time\n",
    "%%time\n",
    "df['Value'] = df['Value'].astype('float32')\n",
    "df['Measures'] = df['Measures'].astype('category')\n",
    "df[\"Date\"] = pd.to_datetime(df[\"Date\"])"
   ]
  },
  {
   "cell_type": "code",
   "execution_count": 42,
   "metadata": {},
   "outputs": [],
   "source": [
    "df_units = df[df['Measures'] == \"Sell-out units\"]\n",
    "df_values = df[df['Measures'] == \"Sell-out values\"]"
   ]
  },
  {
   "cell_type": "code",
   "execution_count": 65,
   "metadata": {},
   "outputs": [],
   "source": [
    "target_columns = ['ProductFamily_ID', 'ProductCategory_ID', 'ProductBrand_ID','ProductName_ID', 'ProductPackSKU_ID', 'Point-of-Sale_ID', 'Date']"
   ]
  },
  {
   "cell_type": "code",
   "execution_count": 53,
   "metadata": {},
   "outputs": [],
   "source": [
    "# df = 'a'"
   ]
  },
  {
   "cell_type": "code",
   "execution_count": 77,
   "metadata": {},
   "outputs": [
    {
     "name": "stderr",
     "output_type": "stream",
     "text": [
      "<ipython-input-77-01a0fe5e25f1>:1: SettingWithCopyWarning: \n",
      "A value is trying to be set on a copy of a slice from a DataFrame.\n",
      "Try using .loc[row_indexer,col_indexer] = value instead\n",
      "\n",
      "See the caveats in the documentation: https://pandas.pydata.org/pandas-docs/stable/user_guide/indexing.html#returning-a-view-versus-a-copy\n",
      "  df_values[\"Date\"] = pd.to_datetime(df_values[\"Date\"])\n"
     ]
    }
   ],
   "source": [
    "df_units[\"Date\"] = pd.to_datetime(df_units[\"Date\"])\n",
    "df_values[\"Date\"] = pd.to_datetime(df_values[\"Date\"])"
   ]
  },
  {
   "cell_type": "code",
   "execution_count": null,
   "metadata": {},
   "outputs": [],
   "source": [
    "df_units"
   ]
  },
  {
   "cell_type": "code",
   "execution_count": null,
   "metadata": {},
   "outputs": [
    {
     "name": "stderr",
     "output_type": "stream",
     "text": [
      "<ipython-input-85-60c0a984355d>:3: SettingWithCopyWarning: \n",
      "A value is trying to be set on a copy of a slice from a DataFrame.\n",
      "Try using .loc[row_indexer,col_indexer] = value instead\n",
      "\n",
      "See the caveats in the documentation: https://pandas.pydata.org/pandas-docs/stable/user_guide/indexing.html#returning-a-view-versus-a-copy\n",
      "  df_values[\"Quantity\"] = 0\n",
      "<ipython-input-85-60c0a984355d>:12: SettingWithCopyWarning: \n",
      "A value is trying to be set on a copy of a slice from a DataFrame\n",
      "\n",
      "See the caveats in the documentation: https://pandas.pydata.org/pandas-docs/stable/user_guide/indexing.html#returning-a-view-versus-a-copy\n",
      "  df_values[\"Quantity\"][j] = df_units.loc[i][\"Value\"]\n",
      "C:\\Users\\lorep\\anaconda3\\lib\\site-packages\\IPython\\core\\interactiveshell.py:3418: SettingWithCopyWarning: \n",
      "A value is trying to be set on a copy of a slice from a DataFrame\n",
      "\n",
      "See the caveats in the documentation: https://pandas.pydata.org/pandas-docs/stable/user_guide/indexing.html#returning-a-view-versus-a-copy\n",
      "  exec(code_obj, self.user_global_ns, self.user_ns)\n"
     ]
    }
   ],
   "source": [
    "# joining the quantity and price in the same record\n",
    "# target_columns = df.columns[0:7]\n",
    "df_values[\"Quantity\"] = 0\n",
    "\n",
    "for i in df_units.index:\n",
    "    values1 = [df_units[z][i] for z in target_columns]\n",
    "    \n",
    "    for j in df_values.index:\n",
    "        values2 = [df_values[z][j] for z in target_columns]\n",
    "        \n",
    "        if values1 == values2:\n",
    "            df_values[\"Quantity\"][j] = df_units.loc[i][\"Value\"]"
   ]
  },
  {
   "cell_type": "code",
   "execution_count": null,
   "metadata": {},
   "outputs": [],
   "source": []
  },
  {
   "cell_type": "code",
   "execution_count": 80,
   "metadata": {
    "scrolled": true
   },
   "outputs": [
    {
     "ename": "MemoryError",
     "evalue": "Unable to allocate 696. MiB for an array with shape (91171152,) and data type int64",
     "output_type": "error",
     "traceback": [
      "\u001b[1;31m---------------------------------------------------------------------------\u001b[0m",
      "\u001b[1;31mMemoryError\u001b[0m                               Traceback (most recent call last)",
      "\u001b[1;32m<ipython-input-80-a363ffbd886f>\u001b[0m in \u001b[0;36m<module>\u001b[1;34m\u001b[0m\n\u001b[1;32m----> 1\u001b[1;33m \u001b[0mdf_join\u001b[0m \u001b[1;33m=\u001b[0m \u001b[0mpd\u001b[0m\u001b[1;33m.\u001b[0m\u001b[0mmerge\u001b[0m\u001b[1;33m(\u001b[0m\u001b[0mdf_units\u001b[0m\u001b[1;33m,\u001b[0m \u001b[0mdf_values\u001b[0m\u001b[1;33m,\u001b[0m \u001b[0mon\u001b[0m \u001b[1;33m=\u001b[0m \u001b[0mtarget_columns\u001b[0m\u001b[1;33m)\u001b[0m\u001b[1;33m\u001b[0m\u001b[1;33m\u001b[0m\u001b[0m\n\u001b[0m",
      "\u001b[1;32m~\\anaconda3\\lib\\site-packages\\pandas\\core\\reshape\\merge.py\u001b[0m in \u001b[0;36mmerge\u001b[1;34m(left, right, how, on, left_on, right_on, left_index, right_index, sort, suffixes, copy, indicator, validate)\u001b[0m\n\u001b[0;32m     87\u001b[0m         \u001b[0mvalidate\u001b[0m\u001b[1;33m=\u001b[0m\u001b[0mvalidate\u001b[0m\u001b[1;33m,\u001b[0m\u001b[1;33m\u001b[0m\u001b[1;33m\u001b[0m\u001b[0m\n\u001b[0;32m     88\u001b[0m     )\n\u001b[1;32m---> 89\u001b[1;33m     \u001b[1;32mreturn\u001b[0m \u001b[0mop\u001b[0m\u001b[1;33m.\u001b[0m\u001b[0mget_result\u001b[0m\u001b[1;33m(\u001b[0m\u001b[1;33m)\u001b[0m\u001b[1;33m\u001b[0m\u001b[1;33m\u001b[0m\u001b[0m\n\u001b[0m\u001b[0;32m     90\u001b[0m \u001b[1;33m\u001b[0m\u001b[0m\n\u001b[0;32m     91\u001b[0m \u001b[1;33m\u001b[0m\u001b[0m\n",
      "\u001b[1;32m~\\anaconda3\\lib\\site-packages\\pandas\\core\\reshape\\merge.py\u001b[0m in \u001b[0;36mget_result\u001b[1;34m(self)\u001b[0m\n\u001b[0;32m    666\u001b[0m             \u001b[0mself\u001b[0m\u001b[1;33m.\u001b[0m\u001b[0mleft\u001b[0m\u001b[1;33m,\u001b[0m \u001b[0mself\u001b[0m\u001b[1;33m.\u001b[0m\u001b[0mright\u001b[0m \u001b[1;33m=\u001b[0m \u001b[0mself\u001b[0m\u001b[1;33m.\u001b[0m\u001b[0m_indicator_pre_merge\u001b[0m\u001b[1;33m(\u001b[0m\u001b[0mself\u001b[0m\u001b[1;33m.\u001b[0m\u001b[0mleft\u001b[0m\u001b[1;33m,\u001b[0m \u001b[0mself\u001b[0m\u001b[1;33m.\u001b[0m\u001b[0mright\u001b[0m\u001b[1;33m)\u001b[0m\u001b[1;33m\u001b[0m\u001b[1;33m\u001b[0m\u001b[0m\n\u001b[0;32m    667\u001b[0m \u001b[1;33m\u001b[0m\u001b[0m\n\u001b[1;32m--> 668\u001b[1;33m         \u001b[0mjoin_index\u001b[0m\u001b[1;33m,\u001b[0m \u001b[0mleft_indexer\u001b[0m\u001b[1;33m,\u001b[0m \u001b[0mright_indexer\u001b[0m \u001b[1;33m=\u001b[0m \u001b[0mself\u001b[0m\u001b[1;33m.\u001b[0m\u001b[0m_get_join_info\u001b[0m\u001b[1;33m(\u001b[0m\u001b[1;33m)\u001b[0m\u001b[1;33m\u001b[0m\u001b[1;33m\u001b[0m\u001b[0m\n\u001b[0m\u001b[0;32m    669\u001b[0m \u001b[1;33m\u001b[0m\u001b[0m\n\u001b[0;32m    670\u001b[0m         llabels, rlabels = _items_overlap_with_suffix(\n",
      "\u001b[1;32m~\\anaconda3\\lib\\site-packages\\pandas\\core\\reshape\\merge.py\u001b[0m in \u001b[0;36m_get_join_info\u001b[1;34m(self)\u001b[0m\n\u001b[0;32m    882\u001b[0m             )\n\u001b[0;32m    883\u001b[0m         \u001b[1;32melse\u001b[0m\u001b[1;33m:\u001b[0m\u001b[1;33m\u001b[0m\u001b[1;33m\u001b[0m\u001b[0m\n\u001b[1;32m--> 884\u001b[1;33m             \u001b[1;33m(\u001b[0m\u001b[0mleft_indexer\u001b[0m\u001b[1;33m,\u001b[0m \u001b[0mright_indexer\u001b[0m\u001b[1;33m)\u001b[0m \u001b[1;33m=\u001b[0m \u001b[0mself\u001b[0m\u001b[1;33m.\u001b[0m\u001b[0m_get_join_indexers\u001b[0m\u001b[1;33m(\u001b[0m\u001b[1;33m)\u001b[0m\u001b[1;33m\u001b[0m\u001b[1;33m\u001b[0m\u001b[0m\n\u001b[0m\u001b[0;32m    885\u001b[0m \u001b[1;33m\u001b[0m\u001b[0m\n\u001b[0;32m    886\u001b[0m             \u001b[1;32mif\u001b[0m \u001b[0mself\u001b[0m\u001b[1;33m.\u001b[0m\u001b[0mright_index\u001b[0m\u001b[1;33m:\u001b[0m\u001b[1;33m\u001b[0m\u001b[1;33m\u001b[0m\u001b[0m\n",
      "\u001b[1;32m~\\anaconda3\\lib\\site-packages\\pandas\\core\\reshape\\merge.py\u001b[0m in \u001b[0;36m_get_join_indexers\u001b[1;34m(self)\u001b[0m\n\u001b[0;32m    860\u001b[0m     \u001b[1;32mdef\u001b[0m \u001b[0m_get_join_indexers\u001b[0m\u001b[1;33m(\u001b[0m\u001b[0mself\u001b[0m\u001b[1;33m)\u001b[0m\u001b[1;33m:\u001b[0m\u001b[1;33m\u001b[0m\u001b[1;33m\u001b[0m\u001b[0m\n\u001b[0;32m    861\u001b[0m         \u001b[1;34m\"\"\" return the join indexers \"\"\"\u001b[0m\u001b[1;33m\u001b[0m\u001b[1;33m\u001b[0m\u001b[0m\n\u001b[1;32m--> 862\u001b[1;33m         return _get_join_indexers(\n\u001b[0m\u001b[0;32m    863\u001b[0m             \u001b[0mself\u001b[0m\u001b[1;33m.\u001b[0m\u001b[0mleft_join_keys\u001b[0m\u001b[1;33m,\u001b[0m \u001b[0mself\u001b[0m\u001b[1;33m.\u001b[0m\u001b[0mright_join_keys\u001b[0m\u001b[1;33m,\u001b[0m \u001b[0msort\u001b[0m\u001b[1;33m=\u001b[0m\u001b[0mself\u001b[0m\u001b[1;33m.\u001b[0m\u001b[0msort\u001b[0m\u001b[1;33m,\u001b[0m \u001b[0mhow\u001b[0m\u001b[1;33m=\u001b[0m\u001b[0mself\u001b[0m\u001b[1;33m.\u001b[0m\u001b[0mhow\u001b[0m\u001b[1;33m\u001b[0m\u001b[1;33m\u001b[0m\u001b[0m\n\u001b[0;32m    864\u001b[0m         )\n",
      "\u001b[1;32m~\\anaconda3\\lib\\site-packages\\pandas\\core\\reshape\\merge.py\u001b[0m in \u001b[0;36m_get_join_indexers\u001b[1;34m(left_keys, right_keys, sort, how, **kwargs)\u001b[0m\n\u001b[0;32m   1326\u001b[0m         \u001b[1;32mfor\u001b[0m \u001b[0mn\u001b[0m \u001b[1;32min\u001b[0m \u001b[0mrange\u001b[0m\u001b[1;33m(\u001b[0m\u001b[0mlen\u001b[0m\u001b[1;33m(\u001b[0m\u001b[0mleft_keys\u001b[0m\u001b[1;33m)\u001b[0m\u001b[1;33m)\u001b[0m\u001b[1;33m\u001b[0m\u001b[1;33m\u001b[0m\u001b[0m\n\u001b[0;32m   1327\u001b[0m     )\n\u001b[1;32m-> 1328\u001b[1;33m     \u001b[0mzipped\u001b[0m \u001b[1;33m=\u001b[0m \u001b[0mzip\u001b[0m\u001b[1;33m(\u001b[0m\u001b[1;33m*\u001b[0m\u001b[0mmapped\u001b[0m\u001b[1;33m)\u001b[0m\u001b[1;33m\u001b[0m\u001b[1;33m\u001b[0m\u001b[0m\n\u001b[0m\u001b[0;32m   1329\u001b[0m     \u001b[0mllab\u001b[0m\u001b[1;33m,\u001b[0m \u001b[0mrlab\u001b[0m\u001b[1;33m,\u001b[0m \u001b[0mshape\u001b[0m \u001b[1;33m=\u001b[0m \u001b[1;33m[\u001b[0m\u001b[0mlist\u001b[0m\u001b[1;33m(\u001b[0m\u001b[0mx\u001b[0m\u001b[1;33m)\u001b[0m \u001b[1;32mfor\u001b[0m \u001b[0mx\u001b[0m \u001b[1;32min\u001b[0m \u001b[0mzipped\u001b[0m\u001b[1;33m]\u001b[0m\u001b[1;33m\u001b[0m\u001b[1;33m\u001b[0m\u001b[0m\n\u001b[0;32m   1330\u001b[0m \u001b[1;33m\u001b[0m\u001b[0m\n",
      "\u001b[1;32m~\\anaconda3\\lib\\site-packages\\pandas\\core\\reshape\\merge.py\u001b[0m in \u001b[0;36m<genexpr>\u001b[1;34m(.0)\u001b[0m\n\u001b[0;32m   1323\u001b[0m     \u001b[1;31m# get left & right join labels and num. of levels at each location\u001b[0m\u001b[1;33m\u001b[0m\u001b[1;33m\u001b[0m\u001b[1;33m\u001b[0m\u001b[0m\n\u001b[0;32m   1324\u001b[0m     mapped = (\n\u001b[1;32m-> 1325\u001b[1;33m         \u001b[0m_factorize_keys\u001b[0m\u001b[1;33m(\u001b[0m\u001b[0mleft_keys\u001b[0m\u001b[1;33m[\u001b[0m\u001b[0mn\u001b[0m\u001b[1;33m]\u001b[0m\u001b[1;33m,\u001b[0m \u001b[0mright_keys\u001b[0m\u001b[1;33m[\u001b[0m\u001b[0mn\u001b[0m\u001b[1;33m]\u001b[0m\u001b[1;33m,\u001b[0m \u001b[0msort\u001b[0m\u001b[1;33m=\u001b[0m\u001b[0msort\u001b[0m\u001b[1;33m,\u001b[0m \u001b[0mhow\u001b[0m\u001b[1;33m=\u001b[0m\u001b[0mhow\u001b[0m\u001b[1;33m)\u001b[0m\u001b[1;33m\u001b[0m\u001b[1;33m\u001b[0m\u001b[0m\n\u001b[0m\u001b[0;32m   1326\u001b[0m         \u001b[1;32mfor\u001b[0m \u001b[0mn\u001b[0m \u001b[1;32min\u001b[0m \u001b[0mrange\u001b[0m\u001b[1;33m(\u001b[0m\u001b[0mlen\u001b[0m\u001b[1;33m(\u001b[0m\u001b[0mleft_keys\u001b[0m\u001b[1;33m)\u001b[0m\u001b[1;33m)\u001b[0m\u001b[1;33m\u001b[0m\u001b[1;33m\u001b[0m\u001b[0m\n\u001b[0;32m   1327\u001b[0m     )\n",
      "\u001b[1;32m~\\anaconda3\\lib\\site-packages\\pandas\\core\\reshape\\merge.py\u001b[0m in \u001b[0;36m_factorize_keys\u001b[1;34m(lk, rk, sort, how)\u001b[0m\n\u001b[0;32m   1971\u001b[0m     \u001b[0mrizer\u001b[0m \u001b[1;33m=\u001b[0m \u001b[0mklass\u001b[0m\u001b[1;33m(\u001b[0m\u001b[0mmax\u001b[0m\u001b[1;33m(\u001b[0m\u001b[0mlen\u001b[0m\u001b[1;33m(\u001b[0m\u001b[0mlk\u001b[0m\u001b[1;33m)\u001b[0m\u001b[1;33m,\u001b[0m \u001b[0mlen\u001b[0m\u001b[1;33m(\u001b[0m\u001b[0mrk\u001b[0m\u001b[1;33m)\u001b[0m\u001b[1;33m)\u001b[0m\u001b[1;33m)\u001b[0m\u001b[1;33m\u001b[0m\u001b[1;33m\u001b[0m\u001b[0m\n\u001b[0;32m   1972\u001b[0m \u001b[1;33m\u001b[0m\u001b[0m\n\u001b[1;32m-> 1973\u001b[1;33m     \u001b[0mllab\u001b[0m \u001b[1;33m=\u001b[0m \u001b[0mrizer\u001b[0m\u001b[1;33m.\u001b[0m\u001b[0mfactorize\u001b[0m\u001b[1;33m(\u001b[0m\u001b[0mlk\u001b[0m\u001b[1;33m)\u001b[0m\u001b[1;33m\u001b[0m\u001b[1;33m\u001b[0m\u001b[0m\n\u001b[0m\u001b[0;32m   1974\u001b[0m     \u001b[0mrlab\u001b[0m \u001b[1;33m=\u001b[0m \u001b[0mrizer\u001b[0m\u001b[1;33m.\u001b[0m\u001b[0mfactorize\u001b[0m\u001b[1;33m(\u001b[0m\u001b[0mrk\u001b[0m\u001b[1;33m)\u001b[0m\u001b[1;33m\u001b[0m\u001b[1;33m\u001b[0m\u001b[0m\n\u001b[0;32m   1975\u001b[0m \u001b[1;33m\u001b[0m\u001b[0m\n",
      "\u001b[1;32mpandas\\_libs\\hashtable.pyx\u001b[0m in \u001b[0;36mpandas._libs.hashtable.Int64Factorizer.factorize\u001b[1;34m()\u001b[0m\n",
      "\u001b[1;32mpandas\\_libs\\hashtable_class_helper.pxi\u001b[0m in \u001b[0;36mpandas._libs.hashtable.Int64HashTable.get_labels\u001b[1;34m()\u001b[0m\n",
      "\u001b[1;32mpandas\\_libs\\hashtable_class_helper.pxi\u001b[0m in \u001b[0;36mpandas._libs.hashtable.Int64HashTable._unique\u001b[1;34m()\u001b[0m\n",
      "\u001b[1;31mMemoryError\u001b[0m: Unable to allocate 696. MiB for an array with shape (91171152,) and data type int64"
     ]
    }
   ],
   "source": [
    "df_join = pd.merge(df_units, df_values, on = target_columns)"
   ]
  },
  {
   "cell_type": "code",
   "execution_count": null,
   "metadata": {},
   "outputs": [],
   "source": [
    "df_join.drop(['Measures_x','Measures_y'],axis=1,inplace=True)\n",
    "df_join.rename(columns={'Value_x':'Quantity','Value_y':'Total_Sales'},inplace=True)"
   ]
  },
  {
   "cell_type": "code",
   "execution_count": null,
   "metadata": {},
   "outputs": [],
   "source": []
  },
  {
   "cell_type": "code",
   "execution_count": null,
   "metadata": {},
   "outputs": [],
   "source": []
  },
  {
   "cell_type": "code",
   "execution_count": null,
   "metadata": {},
   "outputs": [],
   "source": [
    "def preprocessing(_df):\n",
    "    target_columns = ['ProductFamily_ID', 'ProductCategory_ID', 'ProductBrand_ID','ProductName_ID', 'ProductPackSKU_ID', 'Point-of-Sale_ID', 'Date']\n",
    "    cols = ['ProductFamily_ID', 'ProductCategory_ID', 'ProductBrand_ID','ProductName_ID', 'ProductPackSKU_ID', 'Point-of-Sale_ID']\n",
    "    # keeping only the number of the ID for all the varaibles\n",
    "    for col in cols:\n",
    "        _df[col]=_df[col].str.replace(r\"[^1-9]\", \"\",regex=True)\n",
    "    # splitting the chunk-dataset in 2, one for the record with quantity and one for price\n",
    "    df_units = _df[_df['Measures'] == \"Sell-out units\"]\n",
    "    df_values = _df[_df['Measures'] == \"Sell-out values\"]\n",
    "    # joining the quantity and price in the same record\n",
    "    df_join = pd.merge(df_units,df_values,on = target_columns)\n",
    "    df_join.drop(['Measures_x','Measures_y'],axis=1,inplace=True)\n",
    "    df_join.rename(columns={'Value_x':'Quantity','Value_y':'Total_Sales'},inplace=True)\n",
    "    return df_join\n"
   ]
  },
  {
   "cell_type": "code",
   "execution_count": null,
   "metadata": {},
   "outputs": [],
   "source": []
  },
  {
   "cell_type": "code",
   "execution_count": null,
   "metadata": {},
   "outputs": [],
   "source": []
  },
  {
   "cell_type": "code",
   "execution_count": null,
   "metadata": {},
   "outputs": [],
   "source": []
  },
  {
   "cell_type": "code",
   "execution_count": 27,
   "metadata": {},
   "outputs": [
    {
     "data": {
      "text/html": [
       "<div>\n",
       "<style scoped>\n",
       "    .dataframe tbody tr th:only-of-type {\n",
       "        vertical-align: middle;\n",
       "    }\n",
       "\n",
       "    .dataframe tbody tr th {\n",
       "        vertical-align: top;\n",
       "    }\n",
       "\n",
       "    .dataframe thead th {\n",
       "        text-align: right;\n",
       "    }\n",
       "</style>\n",
       "<table border=\"1\" class=\"dataframe\">\n",
       "  <thead>\n",
       "    <tr style=\"text-align: right;\">\n",
       "      <th></th>\n",
       "      <th>ProductFamily_ID</th>\n",
       "      <th>ProductCategory_ID</th>\n",
       "      <th>ProductBrand_ID</th>\n",
       "      <th>ProductName_ID</th>\n",
       "      <th>ProductPackSKU_ID</th>\n",
       "      <th>Point-of-Sale_ID</th>\n",
       "      <th>Date</th>\n",
       "      <th>Measures</th>\n",
       "      <th>Value</th>\n",
       "    </tr>\n",
       "  </thead>\n",
       "  <tbody>\n",
       "    <tr>\n",
       "      <th>0</th>\n",
       "      <td>16</td>\n",
       "      <td>11</td>\n",
       "      <td>36</td>\n",
       "      <td>649</td>\n",
       "      <td>197</td>\n",
       "      <td>1</td>\n",
       "      <td>2017-03-04</td>\n",
       "      <td>Sell-out units</td>\n",
       "      <td>2.0</td>\n",
       "    </tr>\n",
       "    <tr>\n",
       "      <th>1</th>\n",
       "      <td>16</td>\n",
       "      <td>11</td>\n",
       "      <td>36</td>\n",
       "      <td>649</td>\n",
       "      <td>197</td>\n",
       "      <td>1</td>\n",
       "      <td>2017-03-04</td>\n",
       "      <td>Sell-out values</td>\n",
       "      <td>1540.0</td>\n",
       "    </tr>\n",
       "    <tr>\n",
       "      <th>2</th>\n",
       "      <td>16</td>\n",
       "      <td>11</td>\n",
       "      <td>36</td>\n",
       "      <td>649</td>\n",
       "      <td>197</td>\n",
       "      <td>1</td>\n",
       "      <td>2016-05-02</td>\n",
       "      <td>Sell-out units</td>\n",
       "      <td>4.0</td>\n",
       "    </tr>\n",
       "    <tr>\n",
       "      <th>3</th>\n",
       "      <td>16</td>\n",
       "      <td>11</td>\n",
       "      <td>36</td>\n",
       "      <td>649</td>\n",
       "      <td>197</td>\n",
       "      <td>1</td>\n",
       "      <td>2016-05-02</td>\n",
       "      <td>Sell-out values</td>\n",
       "      <td>3080.0</td>\n",
       "    </tr>\n",
       "    <tr>\n",
       "      <th>4</th>\n",
       "      <td>16</td>\n",
       "      <td>11</td>\n",
       "      <td>36</td>\n",
       "      <td>649</td>\n",
       "      <td>197</td>\n",
       "      <td>1</td>\n",
       "      <td>2016-10-24</td>\n",
       "      <td>Sell-out units</td>\n",
       "      <td>2.0</td>\n",
       "    </tr>\n",
       "    <tr>\n",
       "      <th>...</th>\n",
       "      <td>...</td>\n",
       "      <td>...</td>\n",
       "      <td>...</td>\n",
       "      <td>...</td>\n",
       "      <td>...</td>\n",
       "      <td>...</td>\n",
       "      <td>...</td>\n",
       "      <td>...</td>\n",
       "      <td>...</td>\n",
       "    </tr>\n",
       "    <tr>\n",
       "      <th>182342299</th>\n",
       "      <td>4</td>\n",
       "      <td>34</td>\n",
       "      <td>279</td>\n",
       "      <td>577</td>\n",
       "      <td>1813</td>\n",
       "      <td>41</td>\n",
       "      <td>2016-04-29</td>\n",
       "      <td>Sell-out units</td>\n",
       "      <td>1.0</td>\n",
       "    </tr>\n",
       "    <tr>\n",
       "      <th>182342300</th>\n",
       "      <td>4</td>\n",
       "      <td>34</td>\n",
       "      <td>279</td>\n",
       "      <td>577</td>\n",
       "      <td>1813</td>\n",
       "      <td>41</td>\n",
       "      <td>2016-04-20</td>\n",
       "      <td>Sell-out values</td>\n",
       "      <td>638.0</td>\n",
       "    </tr>\n",
       "    <tr>\n",
       "      <th>182342301</th>\n",
       "      <td>4</td>\n",
       "      <td>34</td>\n",
       "      <td>279</td>\n",
       "      <td>577</td>\n",
       "      <td>1813</td>\n",
       "      <td>41</td>\n",
       "      <td>2016-04-25</td>\n",
       "      <td>Sell-out values</td>\n",
       "      <td>652.0</td>\n",
       "    </tr>\n",
       "    <tr>\n",
       "      <th>182342302</th>\n",
       "      <td>4</td>\n",
       "      <td>34</td>\n",
       "      <td>279</td>\n",
       "      <td>577</td>\n",
       "      <td>1813</td>\n",
       "      <td>41</td>\n",
       "      <td>2016-04-28</td>\n",
       "      <td>Sell-out values</td>\n",
       "      <td>643.0</td>\n",
       "    </tr>\n",
       "    <tr>\n",
       "      <th>182342303</th>\n",
       "      <td>4</td>\n",
       "      <td>34</td>\n",
       "      <td>279</td>\n",
       "      <td>577</td>\n",
       "      <td>1813</td>\n",
       "      <td>41</td>\n",
       "      <td>2016-04-29</td>\n",
       "      <td>Sell-out values</td>\n",
       "      <td>638.0</td>\n",
       "    </tr>\n",
       "  </tbody>\n",
       "</table>\n",
       "<p>182342304 rows × 9 columns</p>\n",
       "</div>"
      ],
      "text/plain": [
       "          ProductFamily_ID ProductCategory_ID ProductBrand_ID ProductName_ID  \\\n",
       "0                       16                 11              36            649   \n",
       "1                       16                 11              36            649   \n",
       "2                       16                 11              36            649   \n",
       "3                       16                 11              36            649   \n",
       "4                       16                 11              36            649   \n",
       "...                    ...                ...             ...            ...   \n",
       "182342299                4                 34             279            577   \n",
       "182342300                4                 34             279            577   \n",
       "182342301                4                 34             279            577   \n",
       "182342302                4                 34             279            577   \n",
       "182342303                4                 34             279            577   \n",
       "\n",
       "          ProductPackSKU_ID Point-of-Sale_ID        Date         Measures  \\\n",
       "0                       197                1  2017-03-04   Sell-out units   \n",
       "1                       197                1  2017-03-04  Sell-out values   \n",
       "2                       197                1  2016-05-02   Sell-out units   \n",
       "3                       197                1  2016-05-02  Sell-out values   \n",
       "4                       197                1  2016-10-24   Sell-out units   \n",
       "...                     ...              ...         ...              ...   \n",
       "182342299              1813               41  2016-04-29   Sell-out units   \n",
       "182342300              1813               41  2016-04-20  Sell-out values   \n",
       "182342301              1813               41  2016-04-25  Sell-out values   \n",
       "182342302              1813               41  2016-04-28  Sell-out values   \n",
       "182342303              1813               41  2016-04-29  Sell-out values   \n",
       "\n",
       "            Value  \n",
       "0             2.0  \n",
       "1          1540.0  \n",
       "2             4.0  \n",
       "3          3080.0  \n",
       "4             2.0  \n",
       "...           ...  \n",
       "182342299     1.0  \n",
       "182342300   638.0  \n",
       "182342301   652.0  \n",
       "182342302   643.0  \n",
       "182342303   638.0  \n",
       "\n",
       "[182342304 rows x 9 columns]"
      ]
     },
     "execution_count": 27,
     "metadata": {},
     "output_type": "execute_result"
    }
   ],
   "source": [
    "df"
   ]
  },
  {
   "cell_type": "code",
   "execution_count": null,
   "metadata": {},
   "outputs": [],
   "source": []
  },
  {
   "cell_type": "code",
   "execution_count": null,
   "metadata": {},
   "outputs": [],
   "source": [
    "dtype_dict = {\n",
    "    'ProductFamily_ID':'category',\n",
    "    'ProductCategory_ID':'category',\n",
    "    'ProductBrand_ID':'category',\n",
    "    'ProductName_ID':'category',\n",
    "    'ProductPackSKU_ID':'category',\n",
    "    'Point-of-Sale_ID':'category',\n",
    "    'Measures':'category',\n",
    "    'Value':'float32'\n",
    "}\n"
   ]
  },
  {
   "cell_type": "code",
   "execution_count": null,
   "metadata": {},
   "outputs": [],
   "source": []
  },
  {
   "cell_type": "code",
   "execution_count": null,
   "metadata": {},
   "outputs": [],
   "source": []
  },
  {
   "cell_type": "code",
   "execution_count": null,
   "metadata": {},
   "outputs": [],
   "source": []
  },
  {
   "cell_type": "markdown",
   "metadata": {},
   "source": [
    "# 3. Data engineering <a class=\"anchor\" id=\"3\"></a>"
   ]
  },
  {
   "cell_type": "code",
   "execution_count": 8,
   "metadata": {},
   "outputs": [
    {
     "data": {
      "text/html": [
       "<div>\n",
       "<style scoped>\n",
       "    .dataframe tbody tr th:only-of-type {\n",
       "        vertical-align: middle;\n",
       "    }\n",
       "\n",
       "    .dataframe tbody tr th {\n",
       "        vertical-align: top;\n",
       "    }\n",
       "\n",
       "    .dataframe thead th {\n",
       "        text-align: right;\n",
       "    }\n",
       "</style>\n",
       "<table border=\"1\" class=\"dataframe\">\n",
       "  <thead>\n",
       "    <tr style=\"text-align: right;\">\n",
       "      <th></th>\n",
       "      <th>ProductFamily_ID</th>\n",
       "      <th>ProductCategory_ID</th>\n",
       "      <th>ProductBrand_ID</th>\n",
       "      <th>ProductName_ID</th>\n",
       "      <th>ProductPackSKU_ID</th>\n",
       "      <th>Point-of-Sale_ID</th>\n",
       "      <th>Date</th>\n",
       "      <th>Measures</th>\n",
       "      <th>Value</th>\n",
       "    </tr>\n",
       "  </thead>\n",
       "  <tbody>\n",
       "    <tr>\n",
       "      <th>0</th>\n",
       "      <td>Family_16</td>\n",
       "      <td>Category_11</td>\n",
       "      <td>ProductBrand_306</td>\n",
       "      <td>ProductName_649</td>\n",
       "      <td>ProductSKU_1970</td>\n",
       "      <td>POS_1</td>\n",
       "      <td>2017-03-04</td>\n",
       "      <td>Sell-out units</td>\n",
       "      <td>2.0</td>\n",
       "    </tr>\n",
       "    <tr>\n",
       "      <th>1</th>\n",
       "      <td>Family_16</td>\n",
       "      <td>Category_11</td>\n",
       "      <td>ProductBrand_306</td>\n",
       "      <td>ProductName_649</td>\n",
       "      <td>ProductSKU_1970</td>\n",
       "      <td>POS_1</td>\n",
       "      <td>2017-03-04</td>\n",
       "      <td>Sell-out values</td>\n",
       "      <td>1540.0</td>\n",
       "    </tr>\n",
       "    <tr>\n",
       "      <th>2</th>\n",
       "      <td>Family_16</td>\n",
       "      <td>Category_11</td>\n",
       "      <td>ProductBrand_306</td>\n",
       "      <td>ProductName_649</td>\n",
       "      <td>ProductSKU_1970</td>\n",
       "      <td>POS_1</td>\n",
       "      <td>2016-05-02</td>\n",
       "      <td>Sell-out units</td>\n",
       "      <td>4.0</td>\n",
       "    </tr>\n",
       "    <tr>\n",
       "      <th>3</th>\n",
       "      <td>Family_16</td>\n",
       "      <td>Category_11</td>\n",
       "      <td>ProductBrand_306</td>\n",
       "      <td>ProductName_649</td>\n",
       "      <td>ProductSKU_1970</td>\n",
       "      <td>POS_1</td>\n",
       "      <td>2016-05-02</td>\n",
       "      <td>Sell-out values</td>\n",
       "      <td>3080.0</td>\n",
       "    </tr>\n",
       "    <tr>\n",
       "      <th>4</th>\n",
       "      <td>Family_16</td>\n",
       "      <td>Category_11</td>\n",
       "      <td>ProductBrand_306</td>\n",
       "      <td>ProductName_649</td>\n",
       "      <td>ProductSKU_1970</td>\n",
       "      <td>POS_1</td>\n",
       "      <td>2016-10-24</td>\n",
       "      <td>Sell-out units</td>\n",
       "      <td>2.0</td>\n",
       "    </tr>\n",
       "    <tr>\n",
       "      <th>...</th>\n",
       "      <td>...</td>\n",
       "      <td>...</td>\n",
       "      <td>...</td>\n",
       "      <td>...</td>\n",
       "      <td>...</td>\n",
       "      <td>...</td>\n",
       "      <td>...</td>\n",
       "      <td>...</td>\n",
       "      <td>...</td>\n",
       "    </tr>\n",
       "    <tr>\n",
       "      <th>182342299</th>\n",
       "      <td>Family_4</td>\n",
       "      <td>Category_34</td>\n",
       "      <td>ProductBrand_279</td>\n",
       "      <td>ProductName_577</td>\n",
       "      <td>ProductSKU_1813</td>\n",
       "      <td>POS_410</td>\n",
       "      <td>2016-04-29</td>\n",
       "      <td>Sell-out units</td>\n",
       "      <td>1.0</td>\n",
       "    </tr>\n",
       "    <tr>\n",
       "      <th>182342300</th>\n",
       "      <td>Family_4</td>\n",
       "      <td>Category_34</td>\n",
       "      <td>ProductBrand_279</td>\n",
       "      <td>ProductName_577</td>\n",
       "      <td>ProductSKU_1813</td>\n",
       "      <td>POS_410</td>\n",
       "      <td>2016-04-20</td>\n",
       "      <td>Sell-out values</td>\n",
       "      <td>638.0</td>\n",
       "    </tr>\n",
       "    <tr>\n",
       "      <th>182342301</th>\n",
       "      <td>Family_4</td>\n",
       "      <td>Category_34</td>\n",
       "      <td>ProductBrand_279</td>\n",
       "      <td>ProductName_577</td>\n",
       "      <td>ProductSKU_1813</td>\n",
       "      <td>POS_410</td>\n",
       "      <td>2016-04-25</td>\n",
       "      <td>Sell-out values</td>\n",
       "      <td>652.0</td>\n",
       "    </tr>\n",
       "    <tr>\n",
       "      <th>182342302</th>\n",
       "      <td>Family_4</td>\n",
       "      <td>Category_34</td>\n",
       "      <td>ProductBrand_279</td>\n",
       "      <td>ProductName_577</td>\n",
       "      <td>ProductSKU_1813</td>\n",
       "      <td>POS_410</td>\n",
       "      <td>2016-04-28</td>\n",
       "      <td>Sell-out values</td>\n",
       "      <td>643.0</td>\n",
       "    </tr>\n",
       "    <tr>\n",
       "      <th>182342303</th>\n",
       "      <td>Family_4</td>\n",
       "      <td>Category_34</td>\n",
       "      <td>ProductBrand_279</td>\n",
       "      <td>ProductName_577</td>\n",
       "      <td>ProductSKU_1813</td>\n",
       "      <td>POS_410</td>\n",
       "      <td>2016-04-29</td>\n",
       "      <td>Sell-out values</td>\n",
       "      <td>638.0</td>\n",
       "    </tr>\n",
       "  </tbody>\n",
       "</table>\n",
       "<p>182342304 rows × 9 columns</p>\n",
       "</div>"
      ],
      "text/plain": [
       "          ProductFamily_ID ProductCategory_ID   ProductBrand_ID  \\\n",
       "0                Family_16        Category_11  ProductBrand_306   \n",
       "1                Family_16        Category_11  ProductBrand_306   \n",
       "2                Family_16        Category_11  ProductBrand_306   \n",
       "3                Family_16        Category_11  ProductBrand_306   \n",
       "4                Family_16        Category_11  ProductBrand_306   \n",
       "...                    ...                ...               ...   \n",
       "182342299         Family_4        Category_34  ProductBrand_279   \n",
       "182342300         Family_4        Category_34  ProductBrand_279   \n",
       "182342301         Family_4        Category_34  ProductBrand_279   \n",
       "182342302         Family_4        Category_34  ProductBrand_279   \n",
       "182342303         Family_4        Category_34  ProductBrand_279   \n",
       "\n",
       "            ProductName_ID ProductPackSKU_ID Point-of-Sale_ID        Date  \\\n",
       "0          ProductName_649   ProductSKU_1970            POS_1  2017-03-04   \n",
       "1          ProductName_649   ProductSKU_1970            POS_1  2017-03-04   \n",
       "2          ProductName_649   ProductSKU_1970            POS_1  2016-05-02   \n",
       "3          ProductName_649   ProductSKU_1970            POS_1  2016-05-02   \n",
       "4          ProductName_649   ProductSKU_1970            POS_1  2016-10-24   \n",
       "...                    ...               ...              ...         ...   \n",
       "182342299  ProductName_577   ProductSKU_1813          POS_410  2016-04-29   \n",
       "182342300  ProductName_577   ProductSKU_1813          POS_410  2016-04-20   \n",
       "182342301  ProductName_577   ProductSKU_1813          POS_410  2016-04-25   \n",
       "182342302  ProductName_577   ProductSKU_1813          POS_410  2016-04-28   \n",
       "182342303  ProductName_577   ProductSKU_1813          POS_410  2016-04-29   \n",
       "\n",
       "                  Measures   Value  \n",
       "0           Sell-out units     2.0  \n",
       "1          Sell-out values  1540.0  \n",
       "2           Sell-out units     4.0  \n",
       "3          Sell-out values  3080.0  \n",
       "4           Sell-out units     2.0  \n",
       "...                    ...     ...  \n",
       "182342299   Sell-out units     1.0  \n",
       "182342300  Sell-out values   638.0  \n",
       "182342301  Sell-out values   652.0  \n",
       "182342302  Sell-out values   643.0  \n",
       "182342303  Sell-out values   638.0  \n",
       "\n",
       "[182342304 rows x 9 columns]"
      ]
     },
     "execution_count": 8,
     "metadata": {},
     "output_type": "execute_result"
    }
   ],
   "source": [
    "df"
   ]
  },
  {
   "cell_type": "code",
   "execution_count": null,
   "metadata": {},
   "outputs": [],
   "source": [
    "df['ProductFamily_ID'] = df['ProductFamily_ID'].str.split('_',expand=True)[1]"
   ]
  },
  {
   "cell_type": "code",
   "execution_count": 4,
   "metadata": {
    "collapsed": true
   },
   "outputs": [
    {
     "ename": "KeyboardInterrupt",
     "evalue": "",
     "output_type": "error",
     "traceback": [
      "\u001b[1;31m---------------------------------------------------------------------------\u001b[0m",
      "\u001b[1;31mKeyboardInterrupt\u001b[0m                         Traceback (most recent call last)",
      "\u001b[1;32m<ipython-input-4-00299266e875>\u001b[0m in \u001b[0;36m<module>\u001b[1;34m\u001b[0m\n\u001b[0;32m      7\u001b[0m     \u001b[0mdf\u001b[0m\u001b[1;33m[\u001b[0m\u001b[1;34m'ProductName_ID'\u001b[0m\u001b[1;33m]\u001b[0m \u001b[1;33m=\u001b[0m \u001b[0mdf\u001b[0m\u001b[1;33m[\u001b[0m\u001b[1;34m'ProductName_ID'\u001b[0m\u001b[1;33m]\u001b[0m\u001b[1;33m.\u001b[0m\u001b[0mstr\u001b[0m\u001b[1;33m.\u001b[0m\u001b[0msplit\u001b[0m\u001b[1;33m(\u001b[0m\u001b[1;34m'_'\u001b[0m\u001b[1;33m,\u001b[0m\u001b[0mexpand\u001b[0m\u001b[1;33m=\u001b[0m\u001b[1;32mTrue\u001b[0m\u001b[1;33m)\u001b[0m\u001b[1;33m[\u001b[0m\u001b[1;36m1\u001b[0m\u001b[1;33m]\u001b[0m\u001b[1;33m\u001b[0m\u001b[1;33m\u001b[0m\u001b[0m\n\u001b[0;32m      8\u001b[0m     \u001b[0mdf\u001b[0m\u001b[1;33m[\u001b[0m\u001b[1;34m'ProductPackSKU_ID'\u001b[0m\u001b[1;33m]\u001b[0m \u001b[1;33m=\u001b[0m \u001b[0mdf\u001b[0m\u001b[1;33m[\u001b[0m\u001b[1;34m'ProductPackSKU_ID'\u001b[0m\u001b[1;33m]\u001b[0m\u001b[1;33m.\u001b[0m\u001b[0mstr\u001b[0m\u001b[1;33m.\u001b[0m\u001b[0msplit\u001b[0m\u001b[1;33m(\u001b[0m\u001b[1;34m'_'\u001b[0m\u001b[1;33m,\u001b[0m\u001b[0mexpand\u001b[0m\u001b[1;33m=\u001b[0m\u001b[1;32mTrue\u001b[0m\u001b[1;33m)\u001b[0m\u001b[1;33m[\u001b[0m\u001b[1;36m1\u001b[0m\u001b[1;33m]\u001b[0m\u001b[1;33m\u001b[0m\u001b[1;33m\u001b[0m\u001b[0m\n\u001b[1;32m----> 9\u001b[1;33m     \u001b[0mdf\u001b[0m\u001b[1;33m[\u001b[0m\u001b[1;34m'Point-of-Sale_ID'\u001b[0m\u001b[1;33m]\u001b[0m \u001b[1;33m=\u001b[0m \u001b[0mdf\u001b[0m\u001b[1;33m[\u001b[0m\u001b[1;34m'Point-of-Sale_ID'\u001b[0m\u001b[1;33m]\u001b[0m\u001b[1;33m.\u001b[0m\u001b[0mstr\u001b[0m\u001b[1;33m.\u001b[0m\u001b[0msplit\u001b[0m\u001b[1;33m(\u001b[0m\u001b[1;34m'_'\u001b[0m\u001b[1;33m,\u001b[0m\u001b[0mexpand\u001b[0m\u001b[1;33m=\u001b[0m\u001b[1;32mTrue\u001b[0m\u001b[1;33m)\u001b[0m\u001b[1;33m[\u001b[0m\u001b[1;36m1\u001b[0m\u001b[1;33m]\u001b[0m\u001b[1;33m\u001b[0m\u001b[1;33m\u001b[0m\u001b[0m\n\u001b[0m\u001b[0;32m     10\u001b[0m     \u001b[0mdf\u001b[0m\u001b[1;33m[\u001b[0m\u001b[1;34m'Measures'\u001b[0m\u001b[1;33m]\u001b[0m \u001b[1;33m=\u001b[0m \u001b[0mdf\u001b[0m\u001b[1;33m[\u001b[0m\u001b[1;34m'Measures'\u001b[0m\u001b[1;33m]\u001b[0m\u001b[1;33m.\u001b[0m\u001b[0mstr\u001b[0m\u001b[1;33m.\u001b[0m\u001b[0msplit\u001b[0m\u001b[1;33m(\u001b[0m\u001b[1;34m' '\u001b[0m\u001b[1;33m,\u001b[0m\u001b[0mexpand\u001b[0m\u001b[1;33m=\u001b[0m\u001b[1;32mTrue\u001b[0m\u001b[1;33m)\u001b[0m\u001b[1;33m[\u001b[0m\u001b[1;36m1\u001b[0m\u001b[1;33m]\u001b[0m\u001b[1;33m\u001b[0m\u001b[1;33m\u001b[0m\u001b[0m\n",
      "\u001b[1;32m~\\anaconda3\\lib\\site-packages\\pandas\\core\\frame.py\u001b[0m in \u001b[0;36m__setitem__\u001b[1;34m(self, key, value)\u001b[0m\n\u001b[0;32m   3038\u001b[0m         \u001b[1;32melse\u001b[0m\u001b[1;33m:\u001b[0m\u001b[1;33m\u001b[0m\u001b[1;33m\u001b[0m\u001b[0m\n\u001b[0;32m   3039\u001b[0m             \u001b[1;31m# set column\u001b[0m\u001b[1;33m\u001b[0m\u001b[1;33m\u001b[0m\u001b[1;33m\u001b[0m\u001b[0m\n\u001b[1;32m-> 3040\u001b[1;33m             \u001b[0mself\u001b[0m\u001b[1;33m.\u001b[0m\u001b[0m_set_item\u001b[0m\u001b[1;33m(\u001b[0m\u001b[0mkey\u001b[0m\u001b[1;33m,\u001b[0m \u001b[0mvalue\u001b[0m\u001b[1;33m)\u001b[0m\u001b[1;33m\u001b[0m\u001b[1;33m\u001b[0m\u001b[0m\n\u001b[0m\u001b[0;32m   3041\u001b[0m \u001b[1;33m\u001b[0m\u001b[0m\n\u001b[0;32m   3042\u001b[0m     \u001b[1;32mdef\u001b[0m \u001b[0m_setitem_slice\u001b[0m\u001b[1;33m(\u001b[0m\u001b[0mself\u001b[0m\u001b[1;33m,\u001b[0m \u001b[0mkey\u001b[0m\u001b[1;33m:\u001b[0m \u001b[0mslice\u001b[0m\u001b[1;33m,\u001b[0m \u001b[0mvalue\u001b[0m\u001b[1;33m)\u001b[0m\u001b[1;33m:\u001b[0m\u001b[1;33m\u001b[0m\u001b[1;33m\u001b[0m\u001b[0m\n",
      "\u001b[1;32m~\\anaconda3\\lib\\site-packages\\pandas\\core\\frame.py\u001b[0m in \u001b[0;36m_set_item\u001b[1;34m(self, key, value)\u001b[0m\n\u001b[0;32m   3115\u001b[0m         \u001b[0mself\u001b[0m\u001b[1;33m.\u001b[0m\u001b[0m_ensure_valid_index\u001b[0m\u001b[1;33m(\u001b[0m\u001b[0mvalue\u001b[0m\u001b[1;33m)\u001b[0m\u001b[1;33m\u001b[0m\u001b[1;33m\u001b[0m\u001b[0m\n\u001b[0;32m   3116\u001b[0m         \u001b[0mvalue\u001b[0m \u001b[1;33m=\u001b[0m \u001b[0mself\u001b[0m\u001b[1;33m.\u001b[0m\u001b[0m_sanitize_column\u001b[0m\u001b[1;33m(\u001b[0m\u001b[0mkey\u001b[0m\u001b[1;33m,\u001b[0m \u001b[0mvalue\u001b[0m\u001b[1;33m)\u001b[0m\u001b[1;33m\u001b[0m\u001b[1;33m\u001b[0m\u001b[0m\n\u001b[1;32m-> 3117\u001b[1;33m         \u001b[0mNDFrame\u001b[0m\u001b[1;33m.\u001b[0m\u001b[0m_set_item\u001b[0m\u001b[1;33m(\u001b[0m\u001b[0mself\u001b[0m\u001b[1;33m,\u001b[0m \u001b[0mkey\u001b[0m\u001b[1;33m,\u001b[0m \u001b[0mvalue\u001b[0m\u001b[1;33m)\u001b[0m\u001b[1;33m\u001b[0m\u001b[1;33m\u001b[0m\u001b[0m\n\u001b[0m\u001b[0;32m   3118\u001b[0m \u001b[1;33m\u001b[0m\u001b[0m\n\u001b[0;32m   3119\u001b[0m         \u001b[1;31m# check if we are modifying a copy\u001b[0m\u001b[1;33m\u001b[0m\u001b[1;33m\u001b[0m\u001b[1;33m\u001b[0m\u001b[0m\n",
      "\u001b[1;32m~\\anaconda3\\lib\\site-packages\\pandas\\core\\generic.py\u001b[0m in \u001b[0;36m_set_item\u001b[1;34m(self, key, value)\u001b[0m\n\u001b[0;32m   3578\u001b[0m             \u001b[1;32mreturn\u001b[0m\u001b[1;33m\u001b[0m\u001b[1;33m\u001b[0m\u001b[0m\n\u001b[0;32m   3579\u001b[0m \u001b[1;33m\u001b[0m\u001b[0m\n\u001b[1;32m-> 3580\u001b[1;33m         \u001b[0mNDFrame\u001b[0m\u001b[1;33m.\u001b[0m\u001b[0m_iset_item\u001b[0m\u001b[1;33m(\u001b[0m\u001b[0mself\u001b[0m\u001b[1;33m,\u001b[0m \u001b[0mloc\u001b[0m\u001b[1;33m,\u001b[0m \u001b[0mvalue\u001b[0m\u001b[1;33m)\u001b[0m\u001b[1;33m\u001b[0m\u001b[1;33m\u001b[0m\u001b[0m\n\u001b[0m\u001b[0;32m   3581\u001b[0m \u001b[1;33m\u001b[0m\u001b[0m\n\u001b[0;32m   3582\u001b[0m     \u001b[1;32mdef\u001b[0m \u001b[0m_set_is_copy\u001b[0m\u001b[1;33m(\u001b[0m\u001b[0mself\u001b[0m\u001b[1;33m,\u001b[0m \u001b[0mref\u001b[0m\u001b[1;33m,\u001b[0m \u001b[0mcopy\u001b[0m\u001b[1;33m:\u001b[0m \u001b[0mbool_t\u001b[0m \u001b[1;33m=\u001b[0m \u001b[1;32mTrue\u001b[0m\u001b[1;33m)\u001b[0m \u001b[1;33m->\u001b[0m \u001b[1;32mNone\u001b[0m\u001b[1;33m:\u001b[0m\u001b[1;33m\u001b[0m\u001b[1;33m\u001b[0m\u001b[0m\n",
      "\u001b[1;32m~\\anaconda3\\lib\\site-packages\\pandas\\core\\generic.py\u001b[0m in \u001b[0;36m_iset_item\u001b[1;34m(self, loc, value)\u001b[0m\n\u001b[0;32m   3567\u001b[0m \u001b[1;33m\u001b[0m\u001b[0m\n\u001b[0;32m   3568\u001b[0m     \u001b[1;32mdef\u001b[0m \u001b[0m_iset_item\u001b[0m\u001b[1;33m(\u001b[0m\u001b[0mself\u001b[0m\u001b[1;33m,\u001b[0m \u001b[0mloc\u001b[0m\u001b[1;33m:\u001b[0m \u001b[0mint\u001b[0m\u001b[1;33m,\u001b[0m \u001b[0mvalue\u001b[0m\u001b[1;33m)\u001b[0m \u001b[1;33m->\u001b[0m \u001b[1;32mNone\u001b[0m\u001b[1;33m:\u001b[0m\u001b[1;33m\u001b[0m\u001b[1;33m\u001b[0m\u001b[0m\n\u001b[1;32m-> 3569\u001b[1;33m         \u001b[0mself\u001b[0m\u001b[1;33m.\u001b[0m\u001b[0m_mgr\u001b[0m\u001b[1;33m.\u001b[0m\u001b[0miset\u001b[0m\u001b[1;33m(\u001b[0m\u001b[0mloc\u001b[0m\u001b[1;33m,\u001b[0m \u001b[0mvalue\u001b[0m\u001b[1;33m)\u001b[0m\u001b[1;33m\u001b[0m\u001b[1;33m\u001b[0m\u001b[0m\n\u001b[0m\u001b[0;32m   3570\u001b[0m         \u001b[0mself\u001b[0m\u001b[1;33m.\u001b[0m\u001b[0m_clear_item_cache\u001b[0m\u001b[1;33m(\u001b[0m\u001b[1;33m)\u001b[0m\u001b[1;33m\u001b[0m\u001b[1;33m\u001b[0m\u001b[0m\n\u001b[0;32m   3571\u001b[0m \u001b[1;33m\u001b[0m\u001b[0m\n",
      "\u001b[1;32m~\\anaconda3\\lib\\site-packages\\pandas\\core\\internals\\managers.py\u001b[0m in \u001b[0;36miset\u001b[1;34m(self, loc, value)\u001b[0m\n\u001b[0;32m   1085\u001b[0m         \u001b[1;31m# Accessing public blknos ensures the public versions are initialized\u001b[0m\u001b[1;33m\u001b[0m\u001b[1;33m\u001b[0m\u001b[1;33m\u001b[0m\u001b[0m\n\u001b[0;32m   1086\u001b[0m         \u001b[0mblknos\u001b[0m \u001b[1;33m=\u001b[0m \u001b[0mself\u001b[0m\u001b[1;33m.\u001b[0m\u001b[0mblknos\u001b[0m\u001b[1;33m[\u001b[0m\u001b[0mloc\u001b[0m\u001b[1;33m]\u001b[0m\u001b[1;33m\u001b[0m\u001b[1;33m\u001b[0m\u001b[0m\n\u001b[1;32m-> 1087\u001b[1;33m         \u001b[0mblklocs\u001b[0m \u001b[1;33m=\u001b[0m \u001b[0mself\u001b[0m\u001b[1;33m.\u001b[0m\u001b[0mblklocs\u001b[0m\u001b[1;33m[\u001b[0m\u001b[0mloc\u001b[0m\u001b[1;33m]\u001b[0m\u001b[1;33m.\u001b[0m\u001b[0mcopy\u001b[0m\u001b[1;33m(\u001b[0m\u001b[1;33m)\u001b[0m\u001b[1;33m\u001b[0m\u001b[1;33m\u001b[0m\u001b[0m\n\u001b[0m\u001b[0;32m   1088\u001b[0m \u001b[1;33m\u001b[0m\u001b[0m\n\u001b[0;32m   1089\u001b[0m         \u001b[0munfit_mgr_locs\u001b[0m \u001b[1;33m=\u001b[0m \u001b[1;33m[\u001b[0m\u001b[1;33m]\u001b[0m\u001b[1;33m\u001b[0m\u001b[1;33m\u001b[0m\u001b[0m\n",
      "\u001b[1;31mKeyboardInterrupt\u001b[0m: "
     ]
    }
   ],
   "source": [
    "for chunk in data:\n",
    "    df = chunk\n",
    "    # keeping only the number of the ID for all the varaibles\n",
    "    df['ProductFamily_ID'] = df['ProductFamily_ID'].str.split('_',expand=True)[1]\n",
    "    df['ProductCategory_ID'] = df['ProductCategory_ID'].str.split('_',expand=True)[1]\n",
    "    df['ProductBrand_ID'] = df['ProductBrand_ID'].str.split('_',expand=True)[1]\n",
    "    df['ProductName_ID'] = df['ProductName_ID'].str.split('_',expand=True)[1]\n",
    "    df['ProductPackSKU_ID'] = df['ProductPackSKU_ID'].str.split('_',expand=True)[1]\n",
    "    df['Point-of-Sale_ID'] = df['Point-of-Sale_ID'].str.split('_',expand=True)[1]\n",
    "    df['Measures'] = df['Measures'].str.split(' ',expand=True)[1]"
   ]
  },
  {
   "cell_type": "code",
   "execution_count": 50,
   "metadata": {},
   "outputs": [
    {
     "data": {
      "text/html": [
       "<div>\n",
       "<style scoped>\n",
       "    .dataframe tbody tr th:only-of-type {\n",
       "        vertical-align: middle;\n",
       "    }\n",
       "\n",
       "    .dataframe tbody tr th {\n",
       "        vertical-align: top;\n",
       "    }\n",
       "\n",
       "    .dataframe thead th {\n",
       "        text-align: right;\n",
       "    }\n",
       "</style>\n",
       "<table border=\"1\" class=\"dataframe\">\n",
       "  <thead>\n",
       "    <tr style=\"text-align: right;\">\n",
       "      <th></th>\n",
       "      <th>ProductFamily_ID</th>\n",
       "      <th>ProductCategory_ID</th>\n",
       "      <th>ProductBrand_ID</th>\n",
       "      <th>ProductName_ID</th>\n",
       "      <th>ProductPackSKU_ID</th>\n",
       "      <th>Point-of-Sale_ID</th>\n",
       "      <th>Date</th>\n",
       "      <th>Measures</th>\n",
       "      <th>Value</th>\n",
       "    </tr>\n",
       "  </thead>\n",
       "  <tbody>\n",
       "    <tr>\n",
       "      <th>5429000</th>\n",
       "      <td>12</td>\n",
       "      <td>178</td>\n",
       "      <td>788</td>\n",
       "      <td>1527</td>\n",
       "      <td>4668</td>\n",
       "      <td>12</td>\n",
       "      <td>2017-07-29</td>\n",
       "      <td>units</td>\n",
       "      <td>1</td>\n",
       "    </tr>\n",
       "    <tr>\n",
       "      <th>5429001</th>\n",
       "      <td>12</td>\n",
       "      <td>178</td>\n",
       "      <td>788</td>\n",
       "      <td>1527</td>\n",
       "      <td>4668</td>\n",
       "      <td>12</td>\n",
       "      <td>2017-07-31</td>\n",
       "      <td>units</td>\n",
       "      <td>1</td>\n",
       "    </tr>\n",
       "    <tr>\n",
       "      <th>5429002</th>\n",
       "      <td>12</td>\n",
       "      <td>178</td>\n",
       "      <td>788</td>\n",
       "      <td>1527</td>\n",
       "      <td>4668</td>\n",
       "      <td>12</td>\n",
       "      <td>2017-07-18</td>\n",
       "      <td>values</td>\n",
       "      <td>886</td>\n",
       "    </tr>\n",
       "    <tr>\n",
       "      <th>5429003</th>\n",
       "      <td>12</td>\n",
       "      <td>178</td>\n",
       "      <td>788</td>\n",
       "      <td>1527</td>\n",
       "      <td>4668</td>\n",
       "      <td>12</td>\n",
       "      <td>2017-07-19</td>\n",
       "      <td>values</td>\n",
       "      <td>886</td>\n",
       "    </tr>\n",
       "    <tr>\n",
       "      <th>5429004</th>\n",
       "      <td>12</td>\n",
       "      <td>178</td>\n",
       "      <td>788</td>\n",
       "      <td>1527</td>\n",
       "      <td>4668</td>\n",
       "      <td>12</td>\n",
       "      <td>2017-07-24</td>\n",
       "      <td>values</td>\n",
       "      <td>1772</td>\n",
       "    </tr>\n",
       "  </tbody>\n",
       "</table>\n",
       "</div>"
      ],
      "text/plain": [
       "        ProductFamily_ID ProductCategory_ID ProductBrand_ID ProductName_ID  \\\n",
       "5429000               12                178             788           1527   \n",
       "5429001               12                178             788           1527   \n",
       "5429002               12                178             788           1527   \n",
       "5429003               12                178             788           1527   \n",
       "5429004               12                178             788           1527   \n",
       "\n",
       "        ProductPackSKU_ID Point-of-Sale_ID        Date Measures  Value  \n",
       "5429000              4668               12  2017-07-29    units      1  \n",
       "5429001              4668               12  2017-07-31    units      1  \n",
       "5429002              4668               12  2017-07-18   values    886  \n",
       "5429003              4668               12  2017-07-19   values    886  \n",
       "5429004              4668               12  2017-07-24   values   1772  "
      ]
     },
     "execution_count": 50,
     "metadata": {},
     "output_type": "execute_result"
    }
   ],
   "source": [
    "df.head()"
   ]
  },
  {
   "cell_type": "code",
   "execution_count": 43,
   "metadata": {},
   "outputs": [
    {
     "data": {
      "text/plain": [
       "Sell-out values    91171152\n",
       "Sell-out units     91171152\n",
       "Name: Measures, dtype: int64"
      ]
     },
     "execution_count": 43,
     "metadata": {},
     "output_type": "execute_result"
    }
   ],
   "source": [
    "# for the hole dataset\n",
    "df2['Measures'].value_counts()"
   ]
  },
  {
   "cell_type": "markdown",
   "metadata": {},
   "source": [
    "We have the same number of 'Sell-out values' and 'Sell-out units', meaning that it's always record byt pair of records.\n",
    "\n",
    "\\\n",
    "**Idea**\\\n",
    "Creating for each combination of ProductFamily_ID, ProductCategory_ID, ProductBrand_ID, ProductName_ID, ProductPackSKU_ID, Point-of-Sale_ID and Date one column for the quantity and one column for the price in a single record"
   ]
  },
  {
   "cell_type": "code",
   "execution_count": 51,
   "metadata": {},
   "outputs": [
    {
     "data": {
      "text/html": [
       "<div>\n",
       "<style scoped>\n",
       "    .dataframe tbody tr th:only-of-type {\n",
       "        vertical-align: middle;\n",
       "    }\n",
       "\n",
       "    .dataframe tbody tr th {\n",
       "        vertical-align: top;\n",
       "    }\n",
       "\n",
       "    .dataframe thead th {\n",
       "        text-align: right;\n",
       "    }\n",
       "</style>\n",
       "<table border=\"1\" class=\"dataframe\">\n",
       "  <thead>\n",
       "    <tr style=\"text-align: right;\">\n",
       "      <th></th>\n",
       "      <th>ProductFamily_ID</th>\n",
       "      <th>ProductCategory_ID</th>\n",
       "      <th>ProductBrand_ID</th>\n",
       "      <th>ProductName_ID</th>\n",
       "      <th>ProductPackSKU_ID</th>\n",
       "      <th>Point-of-Sale_ID</th>\n",
       "      <th>Date</th>\n",
       "      <th>Measures</th>\n",
       "      <th>Value</th>\n",
       "    </tr>\n",
       "  </thead>\n",
       "  <tbody>\n",
       "    <tr>\n",
       "      <th>5429000</th>\n",
       "      <td>12</td>\n",
       "      <td>178</td>\n",
       "      <td>788</td>\n",
       "      <td>1527</td>\n",
       "      <td>4668</td>\n",
       "      <td>12</td>\n",
       "      <td>2017-07-29</td>\n",
       "      <td>units</td>\n",
       "      <td>1</td>\n",
       "    </tr>\n",
       "    <tr>\n",
       "      <th>5429001</th>\n",
       "      <td>12</td>\n",
       "      <td>178</td>\n",
       "      <td>788</td>\n",
       "      <td>1527</td>\n",
       "      <td>4668</td>\n",
       "      <td>12</td>\n",
       "      <td>2017-07-31</td>\n",
       "      <td>units</td>\n",
       "      <td>1</td>\n",
       "    </tr>\n",
       "    <tr>\n",
       "      <th>5429002</th>\n",
       "      <td>12</td>\n",
       "      <td>178</td>\n",
       "      <td>788</td>\n",
       "      <td>1527</td>\n",
       "      <td>4668</td>\n",
       "      <td>12</td>\n",
       "      <td>2017-07-18</td>\n",
       "      <td>values</td>\n",
       "      <td>886</td>\n",
       "    </tr>\n",
       "    <tr>\n",
       "      <th>5429003</th>\n",
       "      <td>12</td>\n",
       "      <td>178</td>\n",
       "      <td>788</td>\n",
       "      <td>1527</td>\n",
       "      <td>4668</td>\n",
       "      <td>12</td>\n",
       "      <td>2017-07-19</td>\n",
       "      <td>values</td>\n",
       "      <td>886</td>\n",
       "    </tr>\n",
       "    <tr>\n",
       "      <th>5429004</th>\n",
       "      <td>12</td>\n",
       "      <td>178</td>\n",
       "      <td>788</td>\n",
       "      <td>1527</td>\n",
       "      <td>4668</td>\n",
       "      <td>12</td>\n",
       "      <td>2017-07-24</td>\n",
       "      <td>values</td>\n",
       "      <td>1772</td>\n",
       "    </tr>\n",
       "  </tbody>\n",
       "</table>\n",
       "</div>"
      ],
      "text/plain": [
       "        ProductFamily_ID ProductCategory_ID ProductBrand_ID ProductName_ID  \\\n",
       "5429000               12                178             788           1527   \n",
       "5429001               12                178             788           1527   \n",
       "5429002               12                178             788           1527   \n",
       "5429003               12                178             788           1527   \n",
       "5429004               12                178             788           1527   \n",
       "\n",
       "        ProductPackSKU_ID Point-of-Sale_ID        Date Measures  Value  \n",
       "5429000              4668               12  2017-07-29    units      1  \n",
       "5429001              4668               12  2017-07-31    units      1  \n",
       "5429002              4668               12  2017-07-18   values    886  \n",
       "5429003              4668               12  2017-07-19   values    886  \n",
       "5429004              4668               12  2017-07-24   values   1772  "
      ]
     },
     "execution_count": 51,
     "metadata": {},
     "output_type": "execute_result"
    }
   ],
   "source": [
    "df.head()"
   ]
  },
  {
   "cell_type": "code",
   "execution_count": 69,
   "metadata": {},
   "outputs": [],
   "source": [
    "# splitting the chunk-dataset in 2, one for the record with quantity and one for price\n",
    "df_units = df[df['Measures'] == \"units\"]\n",
    "df_values = df[df['Measures'] == \"values\"]"
   ]
  },
  {
   "cell_type": "code",
   "execution_count": 82,
   "metadata": {
    "collapsed": true
   },
   "outputs": [
    {
     "name": "stderr",
     "output_type": "stream",
     "text": [
      "<ipython-input-82-7b8c61be7787>:2: SettingWithCopyWarning: \n",
      "A value is trying to be set on a copy of a slice from a DataFrame.\n",
      "Try using .loc[row_indexer,col_indexer] = value instead\n",
      "\n",
      "See the caveats in the documentation: https://pandas.pydata.org/pandas-docs/stable/user_guide/indexing.html#returning-a-view-versus-a-copy\n",
      "  df_values[\"Quantity\"] = 0\n",
      "<ipython-input-82-7b8c61be7787>:11: SettingWithCopyWarning: \n",
      "A value is trying to be set on a copy of a slice from a DataFrame\n",
      "\n",
      "See the caveats in the documentation: https://pandas.pydata.org/pandas-docs/stable/user_guide/indexing.html#returning-a-view-versus-a-copy\n",
      "  df_values[\"Quantity\"][j] = df_units.loc[i][\"Value\"]\n",
      "C:\\Users\\lorep\\anaconda3\\lib\\site-packages\\IPython\\core\\interactiveshell.py:3418: SettingWithCopyWarning: \n",
      "A value is trying to be set on a copy of a slice from a DataFrame\n",
      "\n",
      "See the caveats in the documentation: https://pandas.pydata.org/pandas-docs/stable/user_guide/indexing.html#returning-a-view-versus-a-copy\n",
      "  exec(code_obj, self.user_global_ns, self.user_ns)\n"
     ]
    }
   ],
   "source": [
    "# joining the quantity and price in the same record\n",
    "target_columns = df.columns[0:7]\n",
    "df_values[\"Quantity\"] = 0\n",
    "\n",
    "for i in df_units.index:\n",
    "    values1 = [df_units[z][i] for z in target_columns]\n",
    "    \n",
    "    for j in df_values.index:\n",
    "        values2 = [df_values[z][j] for z in target_columns]\n",
    "        \n",
    "        if values1 == values2:\n",
    "            df_values[\"Quantity\"][j] = df_units.loc[i][\"Value\"]"
   ]
  },
  {
   "cell_type": "code",
   "execution_count": 95,
   "metadata": {
    "collapsed": true
   },
   "outputs": [
    {
     "name": "stderr",
     "output_type": "stream",
     "text": [
      "C:\\Users\\lorep\\anaconda3\\lib\\site-packages\\pandas\\core\\frame.py:4163: SettingWithCopyWarning: \n",
      "A value is trying to be set on a copy of a slice from a DataFrame\n",
      "\n",
      "See the caveats in the documentation: https://pandas.pydata.org/pandas-docs/stable/user_guide/indexing.html#returning-a-view-versus-a-copy\n",
      "  return super().drop(\n"
     ]
    }
   ],
   "source": [
    "# dropping the variable 'Measures'\n",
    "df_values.drop(\"Measures\", 1, inplace= True)"
   ]
  },
  {
   "cell_type": "code",
   "execution_count": 108,
   "metadata": {},
   "outputs": [],
   "source": [
    "# checkpoint\n",
    "data = df_values.copy()\n",
    "\n",
    "# resetting the index of the dataset\n",
    "data = data.reset_index(drop=True)\n",
    "# changing the type of the Date to datetime\n",
    "data[\"Date\"] = pd.to_datetime(data[\"Date\"])\n",
    "# changing the name of the Value variable\n",
    "data = data.rename(columns = {'Value':'Price'})"
   ]
  },
  {
   "cell_type": "code",
   "execution_count": 116,
   "metadata": {},
   "outputs": [
    {
     "name": "stdout",
     "output_type": "stream",
     "text": [
      "<class 'pandas.core.frame.DataFrame'>\n",
      "RangeIndex: 501 entries, 0 to 500\n",
      "Data columns (total 9 columns):\n",
      " #   Column              Non-Null Count  Dtype         \n",
      "---  ------              --------------  -----         \n",
      " 0   ProductFamily_ID    501 non-null    object        \n",
      " 1   ProductCategory_ID  501 non-null    object        \n",
      " 2   ProductBrand_ID     501 non-null    object        \n",
      " 3   ProductName_ID      501 non-null    object        \n",
      " 4   ProductPackSKU_ID   501 non-null    object        \n",
      " 5   Point-of-Sale_ID    501 non-null    object        \n",
      " 6   Date                501 non-null    datetime64[ns]\n",
      " 7   Price               501 non-null    int64         \n",
      " 8   Quantity            501 non-null    int64         \n",
      "dtypes: datetime64[ns](1), int64(2), object(6)\n",
      "memory usage: 35.4+ KB\n"
     ]
    }
   ],
   "source": [
    "data.info()"
   ]
  },
  {
   "cell_type": "code",
   "execution_count": 115,
   "metadata": {},
   "outputs": [
    {
     "data": {
      "text/html": [
       "<div>\n",
       "<style scoped>\n",
       "    .dataframe tbody tr th:only-of-type {\n",
       "        vertical-align: middle;\n",
       "    }\n",
       "\n",
       "    .dataframe tbody tr th {\n",
       "        vertical-align: top;\n",
       "    }\n",
       "\n",
       "    .dataframe thead th {\n",
       "        text-align: right;\n",
       "    }\n",
       "</style>\n",
       "<table border=\"1\" class=\"dataframe\">\n",
       "  <thead>\n",
       "    <tr style=\"text-align: right;\">\n",
       "      <th></th>\n",
       "      <th>ProductFamily_ID</th>\n",
       "      <th>ProductCategory_ID</th>\n",
       "      <th>ProductBrand_ID</th>\n",
       "      <th>ProductName_ID</th>\n",
       "      <th>ProductPackSKU_ID</th>\n",
       "      <th>Point-of-Sale_ID</th>\n",
       "      <th>Date</th>\n",
       "      <th>Price</th>\n",
       "      <th>Quantity</th>\n",
       "    </tr>\n",
       "  </thead>\n",
       "  <tbody>\n",
       "    <tr>\n",
       "      <th>10</th>\n",
       "      <td>12</td>\n",
       "      <td>178</td>\n",
       "      <td>788</td>\n",
       "      <td>1527</td>\n",
       "      <td>4668</td>\n",
       "      <td>12</td>\n",
       "      <td>2016-08-12</td>\n",
       "      <td>1772</td>\n",
       "      <td>2</td>\n",
       "    </tr>\n",
       "    <tr>\n",
       "      <th>11</th>\n",
       "      <td>12</td>\n",
       "      <td>178</td>\n",
       "      <td>788</td>\n",
       "      <td>1527</td>\n",
       "      <td>4668</td>\n",
       "      <td>12</td>\n",
       "      <td>2018-08-21</td>\n",
       "      <td>886</td>\n",
       "      <td>1</td>\n",
       "    </tr>\n",
       "    <tr>\n",
       "      <th>12</th>\n",
       "      <td>12</td>\n",
       "      <td>178</td>\n",
       "      <td>788</td>\n",
       "      <td>1527</td>\n",
       "      <td>4668</td>\n",
       "      <td>12</td>\n",
       "      <td>2018-08-23</td>\n",
       "      <td>1772</td>\n",
       "      <td>2</td>\n",
       "    </tr>\n",
       "    <tr>\n",
       "      <th>13</th>\n",
       "      <td>12</td>\n",
       "      <td>178</td>\n",
       "      <td>788</td>\n",
       "      <td>1527</td>\n",
       "      <td>4668</td>\n",
       "      <td>12</td>\n",
       "      <td>2018-08-24</td>\n",
       "      <td>1772</td>\n",
       "      <td>2</td>\n",
       "    </tr>\n",
       "    <tr>\n",
       "      <th>14</th>\n",
       "      <td>12</td>\n",
       "      <td>178</td>\n",
       "      <td>788</td>\n",
       "      <td>1527</td>\n",
       "      <td>4668</td>\n",
       "      <td>12</td>\n",
       "      <td>2018-08-29</td>\n",
       "      <td>886</td>\n",
       "      <td>1</td>\n",
       "    </tr>\n",
       "    <tr>\n",
       "      <th>15</th>\n",
       "      <td>12</td>\n",
       "      <td>178</td>\n",
       "      <td>788</td>\n",
       "      <td>1527</td>\n",
       "      <td>4668</td>\n",
       "      <td>12</td>\n",
       "      <td>2018-08-31</td>\n",
       "      <td>886</td>\n",
       "      <td>1</td>\n",
       "    </tr>\n",
       "    <tr>\n",
       "      <th>16</th>\n",
       "      <td>12</td>\n",
       "      <td>178</td>\n",
       "      <td>788</td>\n",
       "      <td>1527</td>\n",
       "      <td>4668</td>\n",
       "      <td>12</td>\n",
       "      <td>2016-01-06</td>\n",
       "      <td>1772</td>\n",
       "      <td>2</td>\n",
       "    </tr>\n",
       "    <tr>\n",
       "      <th>17</th>\n",
       "      <td>12</td>\n",
       "      <td>178</td>\n",
       "      <td>788</td>\n",
       "      <td>1527</td>\n",
       "      <td>4668</td>\n",
       "      <td>12</td>\n",
       "      <td>2016-01-08</td>\n",
       "      <td>886</td>\n",
       "      <td>1</td>\n",
       "    </tr>\n",
       "    <tr>\n",
       "      <th>18</th>\n",
       "      <td>12</td>\n",
       "      <td>178</td>\n",
       "      <td>788</td>\n",
       "      <td>1527</td>\n",
       "      <td>4668</td>\n",
       "      <td>12</td>\n",
       "      <td>2016-01-14</td>\n",
       "      <td>1772</td>\n",
       "      <td>2</td>\n",
       "    </tr>\n",
       "    <tr>\n",
       "      <th>19</th>\n",
       "      <td>12</td>\n",
       "      <td>178</td>\n",
       "      <td>788</td>\n",
       "      <td>1527</td>\n",
       "      <td>4668</td>\n",
       "      <td>12</td>\n",
       "      <td>2017-12-08</td>\n",
       "      <td>886</td>\n",
       "      <td>1</td>\n",
       "    </tr>\n",
       "  </tbody>\n",
       "</table>\n",
       "</div>"
      ],
      "text/plain": [
       "   ProductFamily_ID ProductCategory_ID ProductBrand_ID ProductName_ID  \\\n",
       "10               12                178             788           1527   \n",
       "11               12                178             788           1527   \n",
       "12               12                178             788           1527   \n",
       "13               12                178             788           1527   \n",
       "14               12                178             788           1527   \n",
       "15               12                178             788           1527   \n",
       "16               12                178             788           1527   \n",
       "17               12                178             788           1527   \n",
       "18               12                178             788           1527   \n",
       "19               12                178             788           1527   \n",
       "\n",
       "   ProductPackSKU_ID Point-of-Sale_ID       Date  Price  Quantity  \n",
       "10              4668               12 2016-08-12   1772         2  \n",
       "11              4668               12 2018-08-21    886         1  \n",
       "12              4668               12 2018-08-23   1772         2  \n",
       "13              4668               12 2018-08-24   1772         2  \n",
       "14              4668               12 2018-08-29    886         1  \n",
       "15              4668               12 2018-08-31    886         1  \n",
       "16              4668               12 2016-01-06   1772         2  \n",
       "17              4668               12 2016-01-08    886         1  \n",
       "18              4668               12 2016-01-14   1772         2  \n",
       "19              4668               12 2017-12-08    886         1  "
      ]
     },
     "execution_count": 115,
     "metadata": {},
     "output_type": "execute_result"
    }
   ],
   "source": [
    "data.iloc[10:20]"
   ]
  },
  {
   "cell_type": "code",
   "execution_count": null,
   "metadata": {},
   "outputs": [],
   "source": []
  },
  {
   "cell_type": "code",
   "execution_count": null,
   "metadata": {},
   "outputs": [],
   "source": []
  }
 ],
 "metadata": {
  "kernelspec": {
   "display_name": "Python 3",
   "language": "python",
   "name": "python3"
  },
  "language_info": {
   "codemirror_mode": {
    "name": "ipython",
    "version": 3
   },
   "file_extension": ".py",
   "mimetype": "text/x-python",
   "name": "python",
   "nbconvert_exporter": "python",
   "pygments_lexer": "ipython3",
   "version": "3.8.5"
  }
 },
 "nbformat": 4,
 "nbformat_minor": 4
}
