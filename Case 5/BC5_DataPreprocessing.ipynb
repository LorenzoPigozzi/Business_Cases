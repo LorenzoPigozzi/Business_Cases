{
 "cells": [
  {
   "cell_type": "markdown",
   "metadata": {},
   "source": [
    "# 1. Importing data and libraries <a class=\"anchor\" id=\"1\"></a>"
   ]
  },
  {
   "cell_type": "code",
   "execution_count": 1,
   "metadata": {},
   "outputs": [],
   "source": [
    "import pandas as pd\n",
    "import datetime"
   ]
  },
  {
   "cell_type": "code",
   "execution_count": 2,
   "metadata": {},
   "outputs": [],
   "source": [
    "dtype_dict = {\n",
    "    'ProductFamily_ID':'category',\n",
    "    'ProductCategory_ID':'category',\n",
    "    'ProductBrand_ID':'category',\n",
    "    'ProductName_ID':'category',\n",
    "    'ProductPackSKU_ID':'category',\n",
    "    'Point-of-Sale_ID':'category',\n",
    "    'Measures':'category',\n",
    "    'Value':'float32'\n",
    "}\n",
    "path = r'D:\\NOVAIMS_MAA\\NOVAIMS_MAA_2020e21_BusinessCasesDataScience_MindOverData_RetailChallenge.csv'"
   ]
  },
  {
   "cell_type": "code",
   "execution_count": 3,
   "metadata": {},
   "outputs": [],
   "source": [
    "def preprocessing(_df):\n",
    "    target_columns = ['ProductFamily_ID', 'ProductCategory_ID', 'ProductBrand_ID','ProductName_ID', 'ProductPackSKU_ID', 'Point-of-Sale_ID', 'Date']\n",
    "    cols = ['ProductFamily_ID', 'ProductCategory_ID', 'ProductBrand_ID','ProductName_ID', 'ProductPackSKU_ID', 'Point-of-Sale_ID']\n",
    "    # keeping only the number of the ID for all the varaibles\n",
    "    for col in cols:\n",
    "        _df[col]=_df[col].str.replace(r\"[^0-9]\", \"\",regex=True)\n",
    "    # splitting the chunk-dataset in 2, one for the record with quantity and one for price\n",
    "    df_units = _df[_df['Measures'] == \"Sell-out units\"]\n",
    "    df_values = _df[_df['Measures'] == \"Sell-out values\"]\n",
    "    # joining the quantity and price in the same record\n",
    "    df_join = pd.merge(df_units,df_values,on = target_columns)\n",
    "    df_join.drop(['Measures_x','Measures_y'],axis=1,inplace=True)\n",
    "    df_join.rename(columns={'Value_x':'Quantity','Value_y':'Total_Sales'},inplace=True)\n",
    "    return df_join"
   ]
  },
  {
   "cell_type": "code",
   "execution_count": 7,
   "metadata": {},
   "outputs": [
    {
     "output_type": "execute_result",
     "data": {
      "text/plain": [
       "      ProductFamily_ID ProductCategory_ID   ProductBrand_ID   ProductName_ID  \\\n",
       "0            Family_16        Category_11  ProductBrand_306  ProductName_649   \n",
       "1            Family_16        Category_11  ProductBrand_306  ProductName_649   \n",
       "2            Family_16        Category_11  ProductBrand_306  ProductName_649   \n",
       "3            Family_16        Category_11  ProductBrand_306  ProductName_649   \n",
       "4            Family_16        Category_11  ProductBrand_306  ProductName_649   \n",
       "...                ...                ...               ...              ...   \n",
       "99995         Family_9       Category_178   ProductBrand_94  ProductName_198   \n",
       "99996         Family_9       Category_178   ProductBrand_94  ProductName_198   \n",
       "99997         Family_9       Category_178   ProductBrand_94  ProductName_198   \n",
       "99998         Family_9       Category_178   ProductBrand_94  ProductName_198   \n",
       "99999         Family_9       Category_178   ProductBrand_94  ProductName_198   \n",
       "\n",
       "      ProductPackSKU_ID Point-of-Sale_ID        Date         Measures   Value  \n",
       "0       ProductSKU_1970            POS_1  2017-03-04   Sell-out units     2.0  \n",
       "1       ProductSKU_1970            POS_1  2017-03-04  Sell-out values  1540.0  \n",
       "2       ProductSKU_1970            POS_1  2016-05-02   Sell-out units     4.0  \n",
       "3       ProductSKU_1970            POS_1  2016-05-02  Sell-out values  3080.0  \n",
       "4       ProductSKU_1970            POS_1  2016-10-24   Sell-out units     2.0  \n",
       "...                 ...              ...         ...              ...     ...  \n",
       "99995    ProductSKU_612            POS_1  2018-02-21  Sell-out values  2985.0  \n",
       "99996    ProductSKU_612            POS_1  2018-02-23  Sell-out values  1194.0  \n",
       "99997    ProductSKU_612            POS_1  2018-02-26  Sell-out values  4179.0  \n",
       "99998    ProductSKU_612            POS_1  2018-02-27  Sell-out values  1194.0  \n",
       "99999    ProductSKU_612            POS_1  2018-02-28  Sell-out values  1194.0  \n",
       "\n",
       "[100000 rows x 9 columns]"
      ],
      "text/html": "<div>\n<style scoped>\n    .dataframe tbody tr th:only-of-type {\n        vertical-align: middle;\n    }\n\n    .dataframe tbody tr th {\n        vertical-align: top;\n    }\n\n    .dataframe thead th {\n        text-align: right;\n    }\n</style>\n<table border=\"1\" class=\"dataframe\">\n  <thead>\n    <tr style=\"text-align: right;\">\n      <th></th>\n      <th>ProductFamily_ID</th>\n      <th>ProductCategory_ID</th>\n      <th>ProductBrand_ID</th>\n      <th>ProductName_ID</th>\n      <th>ProductPackSKU_ID</th>\n      <th>Point-of-Sale_ID</th>\n      <th>Date</th>\n      <th>Measures</th>\n      <th>Value</th>\n    </tr>\n  </thead>\n  <tbody>\n    <tr>\n      <th>0</th>\n      <td>Family_16</td>\n      <td>Category_11</td>\n      <td>ProductBrand_306</td>\n      <td>ProductName_649</td>\n      <td>ProductSKU_1970</td>\n      <td>POS_1</td>\n      <td>2017-03-04</td>\n      <td>Sell-out units</td>\n      <td>2.0</td>\n    </tr>\n    <tr>\n      <th>1</th>\n      <td>Family_16</td>\n      <td>Category_11</td>\n      <td>ProductBrand_306</td>\n      <td>ProductName_649</td>\n      <td>ProductSKU_1970</td>\n      <td>POS_1</td>\n      <td>2017-03-04</td>\n      <td>Sell-out values</td>\n      <td>1540.0</td>\n    </tr>\n    <tr>\n      <th>2</th>\n      <td>Family_16</td>\n      <td>Category_11</td>\n      <td>ProductBrand_306</td>\n      <td>ProductName_649</td>\n      <td>ProductSKU_1970</td>\n      <td>POS_1</td>\n      <td>2016-05-02</td>\n      <td>Sell-out units</td>\n      <td>4.0</td>\n    </tr>\n    <tr>\n      <th>3</th>\n      <td>Family_16</td>\n      <td>Category_11</td>\n      <td>ProductBrand_306</td>\n      <td>ProductName_649</td>\n      <td>ProductSKU_1970</td>\n      <td>POS_1</td>\n      <td>2016-05-02</td>\n      <td>Sell-out values</td>\n      <td>3080.0</td>\n    </tr>\n    <tr>\n      <th>4</th>\n      <td>Family_16</td>\n      <td>Category_11</td>\n      <td>ProductBrand_306</td>\n      <td>ProductName_649</td>\n      <td>ProductSKU_1970</td>\n      <td>POS_1</td>\n      <td>2016-10-24</td>\n      <td>Sell-out units</td>\n      <td>2.0</td>\n    </tr>\n    <tr>\n      <th>...</th>\n      <td>...</td>\n      <td>...</td>\n      <td>...</td>\n      <td>...</td>\n      <td>...</td>\n      <td>...</td>\n      <td>...</td>\n      <td>...</td>\n      <td>...</td>\n    </tr>\n    <tr>\n      <th>99995</th>\n      <td>Family_9</td>\n      <td>Category_178</td>\n      <td>ProductBrand_94</td>\n      <td>ProductName_198</td>\n      <td>ProductSKU_612</td>\n      <td>POS_1</td>\n      <td>2018-02-21</td>\n      <td>Sell-out values</td>\n      <td>2985.0</td>\n    </tr>\n    <tr>\n      <th>99996</th>\n      <td>Family_9</td>\n      <td>Category_178</td>\n      <td>ProductBrand_94</td>\n      <td>ProductName_198</td>\n      <td>ProductSKU_612</td>\n      <td>POS_1</td>\n      <td>2018-02-23</td>\n      <td>Sell-out values</td>\n      <td>1194.0</td>\n    </tr>\n    <tr>\n      <th>99997</th>\n      <td>Family_9</td>\n      <td>Category_178</td>\n      <td>ProductBrand_94</td>\n      <td>ProductName_198</td>\n      <td>ProductSKU_612</td>\n      <td>POS_1</td>\n      <td>2018-02-26</td>\n      <td>Sell-out values</td>\n      <td>4179.0</td>\n    </tr>\n    <tr>\n      <th>99998</th>\n      <td>Family_9</td>\n      <td>Category_178</td>\n      <td>ProductBrand_94</td>\n      <td>ProductName_198</td>\n      <td>ProductSKU_612</td>\n      <td>POS_1</td>\n      <td>2018-02-27</td>\n      <td>Sell-out values</td>\n      <td>1194.0</td>\n    </tr>\n    <tr>\n      <th>99999</th>\n      <td>Family_9</td>\n      <td>Category_178</td>\n      <td>ProductBrand_94</td>\n      <td>ProductName_198</td>\n      <td>ProductSKU_612</td>\n      <td>POS_1</td>\n      <td>2018-02-28</td>\n      <td>Sell-out values</td>\n      <td>1194.0</td>\n    </tr>\n  </tbody>\n</table>\n<p>100000 rows × 9 columns</p>\n</div>"
     },
     "metadata": {},
     "execution_count": 7
    }
   ],
   "source": [
    "df = pd.read_csv(path,nrows=100000)\n",
    "#data = pd.read_csv('dataset/NOVAIMS_MAA_2020e21_BusinessCasesDataScience_MindOverData_RetailChallenge.csv', iterator=True, chunksize=1000)\n",
    "df"
   ]
  },
  {
   "cell_type": "code",
   "execution_count": 4,
   "metadata": {},
   "outputs": [
    {
     "output_type": "stream",
     "name": "stdout",
     "text": [
      "5\n",
      "10\n",
      "15\n",
      "20\n",
      "25\n",
      "30\n",
      "35\n",
      "40\n",
      "45\n",
      "50\n",
      "55\n",
      "60\n",
      "65\n",
      "70\n",
      "75\n",
      "80\n",
      "85\n",
      "90\n",
      "95\n",
      "100\n",
      "105\n",
      "110\n",
      "115\n",
      "120\n",
      "125\n",
      "130\n",
      "135\n",
      "140\n",
      "145\n",
      "150\n",
      "155\n",
      "160\n",
      "165\n",
      "170\n",
      "175\n",
      "180\n"
     ]
    }
   ],
   "source": [
    "# load the big file in smaller chunks\n",
    "#final = pd.read_csv(write,nrows=1)\n",
    "i = 0\n",
    "for gm_chunk in pd.read_csv(path,dtype=dtype_dict,chunksize=1000000):  \n",
    "    #gm_chunk.drop(\"Unnamed: 0\",axis=1,inplace = True)\n",
    "    processed_df = preprocessing(gm_chunk)\n",
    "    if i == 0:\n",
    "        final = processed_df\n",
    "        i +=1\n",
    "    else:\n",
    "        i +=1\n",
    "        if i%5 == 0:\n",
    "            print(i)\n",
    "        final = pd.concat([final,processed_df],ignore_index = True)"
   ]
  },
  {
   "cell_type": "code",
   "execution_count": 5,
   "metadata": {
    "scrolled": true
   },
   "outputs": [],
   "source": [
    "write_processed = r'D:\\NOVAIMS_MAA\\NOVAIMS_MAA_final_1.csv'\n",
    "final.to_csv(write_processed)"
   ]
  },
  {
   "cell_type": "code",
   "execution_count": 6,
   "metadata": {},
   "outputs": [
    {
     "output_type": "execute_result",
     "data": {
      "text/plain": [
       "ProductFamily_ID       object\n",
       "ProductCategory_ID     object\n",
       "ProductBrand_ID        object\n",
       "ProductName_ID         object\n",
       "ProductPackSKU_ID      object\n",
       "Point-of-Sale_ID       object\n",
       "Date                   object\n",
       "Quantity              float32\n",
       "Total_Sales           float32\n",
       "dtype: object"
      ]
     },
     "metadata": {},
     "execution_count": 6
    }
   ],
   "source": [
    "final.dtypes"
   ]
  },
  {
   "cell_type": "markdown",
   "metadata": {},
   "source": [
    "# 2. Exploratory Data Analysis <a class=\"anchor\" id=\"2\"></a>"
   ]
  },
  {
   "cell_type": "code",
   "execution_count": null,
   "metadata": {},
   "outputs": [],
   "source": [
    "df.head()"
   ]
  },
  {
   "cell_type": "markdown",
   "metadata": {},
   "source": [
    "# 3. Data engineering <a class=\"anchor\" id=\"3\"></a>"
   ]
  },
  {
   "cell_type": "code",
   "execution_count": null,
   "metadata": {},
   "outputs": [],
   "source": [
    "df.dtypes"
   ]
  },
  {
   "cell_type": "code",
   "execution_count": null,
   "metadata": {},
   "outputs": [],
   "source": [
    "def preprocessing(_df):\n",
    "    target_columns = ['ProductFamily_ID', 'ProductCategory_ID', 'ProductBrand_ID','ProductName_ID', 'ProductPackSKU_ID', 'Point-of-Sale_ID', 'Date']\n",
    "    cols = ['ProductFamily_ID', 'ProductCategory_ID', 'ProductBrand_ID','ProductName_ID', 'ProductPackSKU_ID', 'Point-of-Sale_ID']\n",
    "    # keeping only the number of the ID for all the varaibles\n",
    "    for col in cols:\n",
    "        _df[col]=_df[col].str.replace(r\"[^0-9]\", \"\",regex=True)\n",
    "    # splitting the chunk-dataset in 2, one for the record with quantity and one for price\n",
    "    df_units = _df[_df['Measures'] == \"Sell-out units\"]\n",
    "    df_values = _df[_df['Measures'] == \"Sell-out values\"]\n",
    "    # joining the quantity and price in the same record\n",
    "    df_join = pd.merge(df_units,df_values,on = target_columns)\n",
    "    df_join.drop(['Measures_x','Measures_y'],axis=1,inplace=True)\n",
    "    df_join.rename(columns={'Value_x':'Quantity','Value_y':'Total_Sales'},inplace=True)\n",
    "    return df_join"
   ]
  },
  {
   "cell_type": "code",
   "execution_count": null,
   "metadata": {},
   "outputs": [],
   "source": [
    "%%time\n",
    "preprocessing(data)"
   ]
  },
  {
   "cell_type": "markdown",
   "metadata": {},
   "source": [
    "We have the same number of 'Sell-out values' and 'Sell-out units', meaning that it's always record byt pair of records.\n",
    "\n",
    "\\\n",
    "**Idea**\\\n",
    "Creating for each combination of ProductFamily_ID, ProductCategory_ID, ProductBrand_ID, ProductName_ID, ProductPackSKU_ID, Point-of-Sale_ID and Date one column for the quantity and one column for the price in a single record"
   ]
  },
  {
   "cell_type": "code",
   "execution_count": null,
   "metadata": {},
   "outputs": [],
   "source": []
  }
 ],
 "metadata": {
  "kernelspec": {
   "display_name": "Python 3",
   "language": "python",
   "name": "python3"
  },
  "language_info": {
   "codemirror_mode": {
    "name": "ipython",
    "version": 3
   },
   "file_extension": ".py",
   "mimetype": "text/x-python",
   "name": "python",
   "nbconvert_exporter": "python",
   "pygments_lexer": "ipython3",
   "version": "3.8.5"
  }
 },
 "nbformat": 4,
 "nbformat_minor": 4
}